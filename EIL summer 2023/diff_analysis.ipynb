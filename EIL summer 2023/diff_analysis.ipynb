{
 "cells": [
  {
   "cell_type": "code",
   "execution_count": 11,
   "metadata": {},
   "outputs": [],
   "source": [
    "import pandas as pd\n",
    "import matplotlib.pyplot as plt\n",
    "from null_elections import *\n",
    "from voting_rules import *\n",
    "from rcv_dimensionality import *\n",
    "from rcv_distribution import *\n",
    "from interval_consistency import *"
   ]
  },
  {
   "cell_type": "code",
   "execution_count": 5,
   "metadata": {},
   "outputs": [
    {
     "data": {
      "image/png": "[encoded data removed]",
      "text/plain": [
       "<Figure size 432x288 with 1 Axes>"
      ]
     },
     "metadata": {
      "needs_background": "light"
     },
     "output_type": "display_data"
    }
   ],
   "source": [
    "import pandas as pd\n",
    "import matplotlib.pyplot as plt\n",
    "\n",
    "# Read data from strict.csv\n",
    "strict_df = pd.read_csv('strict.csv')\n",
    "\n",
    "# Read data from permissive.csv\n",
    "permissive_df = pd.read_csv('permissive.csv')\n",
    "\n",
    "# Count the number of filenames with 'IRV' in the diff column based on the number of candidates for strict_df\n",
    "strict_irv_counts = strict_df[strict_df['diff'].apply(lambda x: 'IRV' in x)]['#candidates'].value_counts()\n",
    "\n",
    "# Count the number of filenames with 'IRV' in the diff column based on the number of candidates for permissive_df\n",
    "permissive_irv_counts = permissive_df[permissive_df['diff'].apply(lambda x: 'IRV' in x)]['#candidates'].value_counts()\n",
    "\n",
    "# Plotting the histogram\n",
    "plt.bar(strict_irv_counts.index - 0.2, strict_irv_counts.values, color='skyblue', width=0.4, label='Strict')\n",
    "plt.bar(permissive_irv_counts.index + 0.2, permissive_irv_counts.values, color='salmon', width=0.4, label='Permissive')\n",
    "plt.xlabel('Number of Candidates')\n",
    "plt.ylabel('Number of Elections')\n",
    "plt.title('Histogram of Filenames with \"IRV\" in the diff column')\n",
    "plt.legend()\n",
    "plt.xlim(1, 15)\n",
    "plt.show()\n"
   ]
  },
  {
   "cell_type": "code",
   "execution_count": 25,
   "metadata": {},
   "outputs": [
    {
     "name": "stdout",
     "output_type": "stream",
     "text": [
      "Charles Maughan\n"
     ]
    }
   ],
   "source": [
    "file = \"dataverse_files/Corvallis_11082022_Mayor.csv\"\n",
    "ballots, candidates = parse_election_data(file)\n",
    "\n",
    "e = voting_rules(ballots, candidates)\n",
    "print(e.irv())"
   ]
  },
  {
   "cell_type": "code",
   "execution_count": 26,
   "metadata": {},
   "outputs": [
    {
     "name": "stdout",
     "output_type": "stream",
     "text": [
      "ballots:\n",
      "[[ 0.  1.  2.]\n",
      " [ 0.  2.  1.]\n",
      " [ 0.  2.  1.]\n",
      " ...\n",
      " [nan nan nan]\n",
      " [nan  0.  2.]\n",
      " [nan nan nan]]\n"
     ]
    },
    {
     "name": "stderr",
     "output_type": "stream",
     "text": [
      "c:\\Users\\mahsh\\Documents\\GitHub\\bugs-in-democracy\\EIL summer 2023\\rcv_dimensionality.py:174: RuntimeWarning: divide by zero encountered in true_divide\n",
      "  distance = 1 / np.sqrt(freq_upper_triangle)\n"
     ]
    },
    {
     "name": "stdout",
     "output_type": "stream",
     "text": [
      "({('Andrew Struthers', 'Roen Hogg', 'Charles Maughan'): 2119, ('Andrew Struthers', 'Charles Maughan', 'Roen Hogg'): 3722, ('Andrew Struthers', 'Charles Maughan'): 511, ('Andrew Struthers', 'Roen Hogg'): 279, ('Andrew Struthers',): 521, ('Charles Maughan', 'Andrew Struthers', 'Roen Hogg'): 4405, ('Charles Maughan', 'Andrew Struthers'): 760, ('Charles Maughan', 'Roen Hogg'): 197, ('Charles Maughan',): 372, ('Roen Hogg',): 847, ('Roen Hogg', 'Andrew Struthers', 'Charles Maughan'): 2484, ('Roen Hogg', 'Andrew Struthers'): 228, ('Roen Hogg', 'Charles Maughan'): 168}, 0.8062606163552536)\n"
     ]
    }
   ],
   "source": [
    "test = perform_rcv_analysis(file, n_runs=1000)\n",
    "mds_1d_coordinates, mds_2d_coordinates, most_common_order, order_frequencies, candidate_names = test\n",
    "\n",
    "normalized_distances = get_distances_normalized(most_common_order, mds_1d_coordinates, candidate_names)\n",
    "consistent_ballots = get_interval_consistent_ballots(ballots, normalized_distances)\n",
    "print(consistent_ballots)"
   ]
  },
  {
   "cell_type": "code",
   "execution_count": 27,
   "metadata": {},
   "outputs": [
    {
     "name": "stdout",
     "output_type": "stream",
     "text": [
      "Andrew Struthers\n"
     ]
    }
   ],
   "source": [
    "e2 = voting_rules(consistent_ballots[0], candidates)\n",
    "print(e2.irv())"
   ]
  },
  {
   "cell_type": "code",
   "execution_count": 28,
   "metadata": {},
   "outputs": [
    {
     "name": "stdout",
     "output_type": "stream",
     "text": [
      "0.8062606163552536\n"
     ]
    }
   ],
   "source": [
    "print(consistent_ballots[1])"
   ]
  },
  {
   "cell_type": "code",
   "execution_count": 6,
   "metadata": {},
   "outputs": [
    {
     "name": "stdout",
     "output_type": "stream",
     "text": [
      "Filenames in permissive.csv with 'IRV' in diff and not in strict.csv:\n",
      "Burlington_03072006_Mayor.csv\n",
      "Corvallis_11082022_Mayor.csv\n",
      "Maine_06122018_DemocraticPrimaryforCD2.csv\n",
      "Maine_07142020_DemocraticCandidateforMaineStateHouseDistrict41.csv\n",
      "Maine_07142020_DemocraticCandidateforMaineStateHouseDistrict49.csv\n",
      "Maine_07142020_DemocraticCandidateforMaineStateHouseDistrict90.csv\n",
      "Minneapolis_11022021_CityCouncilWard2.csv\n",
      "Minneapolis_11022021_CityCouncilWard5.csv\n",
      "Minneapolis_11022021_ParkBoardDistrict2.csv\n",
      "Minneapolis_11072017_Ward1CityCouncil.csv\n",
      "NewYorkCity_06222021_DEMBoroughPresidentQueens.csv\n",
      "NewYorkCity_06222021_DEMCouncilMember18thCouncilDistrict.csv\n",
      "NewYorkCity_06222021_DEMCouncilMember25thCouncilDistrict.csv\n",
      "NewYorkCity_06222021_REPBoroughPresidentRichmond.csv\n",
      "NewYorkCity_06222021_REPCouncilMember50thCouncilDistrict.csv\n",
      "Oakland_11032020_MemberCityCouncilAtLargeOaklandRCV.csv\n",
      "Oakland_11032020_MemberCityCouncilDist5OaklandRCV.csv\n",
      "Oakland_11032020_SchoolDirectorDist7OaklandRCV.csv\n",
      "Oakland_11042014_CityCouncilDistrict2.csv\n",
      "Oakland_11042014_SchoolDirectorDistrict4.csv\n",
      "Oakland_11062012_CityCouncilDistrict1.csv\n",
      "Oakland_11062018_CityCouncilDistrict4.csv\n",
      "PierceCounty_11032009_CountyAuditor.csv\n",
      "PierceCounty_11042008_CountyAssessorTreasurer.csv\n",
      "PierceCounty_11042008_CountyCouncilDistrict2.csv\n",
      "Portland_06082021_charter_commission_at_large.csv\n",
      "SanFrancisco_06052018_Mayor.csv\n",
      "SanFrancisco_11022010_BoardofSupervisorsDistrict2.csv\n",
      "SanFrancisco_11042008_BoardofSupervisorsDistrict1.csv\n",
      "SanFrancisco_11052019_DistrictAttorney.csv\n",
      "SanFrancisco_11052019_MemberBoardofSupervisorsDistrict5.csv\n",
      "SanFrancisco_11082011_Sheriff.csv\n",
      "SanFrancisco_11082016_BoardofSupervisorsDistrict11.csv\n",
      "SanFrancisco_11082022_DistrictAttorney.csv\n",
      "SanLeandro_11022010_Mayor.csv\n",
      "SanLeandro_11062012_CountyCouncilDistrict2.csv\n",
      "TakomaPark_11082022_CityCouncilWard6.csv\n",
      "Vineyard_11052019_CityCouncil.csv\n"
     ]
    }
   ],
   "source": [
    "\n",
    "\n",
    "# Read data from strict.csv\n",
    "strict_df = pd.read_csv('strict.csv')\n",
    "\n",
    "# Read data from permissive.csv\n",
    "permissive_df = pd.read_csv('permissive.csv')\n",
    "\n",
    "# Get filenames with 'IRV' in diff column in permissive.csv and not in strict.csv\n",
    "permissive_irv_files = permissive_df[permissive_df['diff'].str.contains('IRV') & ~strict_df['diff'].str.contains('IRV')]['filename']\n",
    "\n",
    "# Print the filenames\n",
    "print(\"Filenames in permissive.csv with 'IRV' in diff and not in strict.csv:\")\n",
    "for filename in permissive_irv_files:\n",
    "    print(filename)\n"
   ]
  }
 ],
 "metadata": {
  "kernelspec": {
   "display_name": "base",
   "language": "python",
   "name": "python3"
  },
  "language_info": {
   "codemirror_mode": {
    "name": "ipython",
    "version": 3
   },
   "file_extension": ".py",
   "mimetype": "text/x-python",
   "name": "python",
   "nbconvert_exporter": "python",
   "pygments_lexer": "ipython3",
   "version": "3.9.12"
  }
 },
 "nbformat": 4,
 "nbformat_minor": 2
}
