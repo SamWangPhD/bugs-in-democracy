{
 "cells": [
  {
   "cell_type": "code",
   "execution_count": 3,
   "metadata": {},
   "outputs": [],
   "source": [
    "from scipy.optimize import linprog\n",
    "import seaborn as sns\n",
    "\n",
    "from scipy.stats import kurtosis, skew\n",
    "import pandas as pd\n",
    "from rcv_distribution import *\n",
    "from rcv_dimensionality import *\n",
    "from voting_rules import *\n",
    "import os"
   ]
  },
  {
   "cell_type": "code",
   "execution_count": 4,
   "metadata": {},
   "outputs": [],
   "source": [
    "def calculate_intervals(numbers):\n",
    "    midpoints = []\n",
    "    for i in range(len(numbers)):\n",
    "        for j in range(i + 1, len(numbers)):\n",
    "            midpoints.append((numbers[i] + numbers[j])/2)\n",
    "\n",
    "    intervals = []\n",
    "    midpoints = sorted(midpoints)\n",
    "    for i in range(len(midpoints)):\n",
    "        for j in range(i + 1, len(midpoints)):\n",
    "            intervals.append((midpoints[i], midpoints[j]))\n",
    "    return midpoints, intervals"
   ]
  },
  {
   "cell_type": "code",
   "execution_count": 5,
   "metadata": {},
   "outputs": [],
   "source": [
    "def ballot_to_num(ballot, normalized_distances):\n",
    "    b_num = []\n",
    "    for c in ballot:\n",
    "        b_num.append(normalized_distances[c])\n",
    "    return b_num"
   ]
  },
  {
   "cell_type": "code",
   "execution_count": 6,
   "metadata": {},
   "outputs": [],
   "source": [
    "def solve_lp(b_num, midpoints, intervals, n):\n",
    "    \n",
    "    obj = [1]\n",
    "    lhs_ineq = []\n",
    "    rhs_ineq = []\n",
    "    e = 0.000000001\n",
    "    for i in range(len(b_num)):\n",
    "        for j in range(i + 1, len(b_num)):\n",
    "            mid = (b_num[i]+b_num[j])/2\n",
    "            if (b_num[i] > b_num[j]):\n",
    "                lhs_ineq.append([-1])\n",
    "                rhs_ineq.append(-(e+mid))\n",
    "            if (b_num[i] < b_num[j]):\n",
    "                lhs_ineq.append([1])\n",
    "                rhs_ineq.append(e+mid)\n",
    "    bnd = [0, n-1]\n",
    "    opt = linprog(c=obj, A_ub=lhs_ineq, b_ub=rhs_ineq, bounds=bnd,\n",
    "              method=\"revised simplex\")\n",
    "    return (opt[\"success\"] is True)\n",
    "        \n",
    "\n",
    "    "
   ]
  },
  {
   "cell_type": "code",
   "execution_count": 7,
   "metadata": {},
   "outputs": [],
   "source": [
    "def get_interval_consistent_points(ballots, normalized_distances):\n",
    "    midpoints, intervals = calculate_intervals(list(normalized_distances.values()))\n",
    "\n",
    "    total = 0\n",
    "    consistent = 0\n",
    "    consistent_ballots = {}\n",
    "    for b in ballots:\n",
    "        if (len(b) != 0):\n",
    "            total += ballots[b]\n",
    "            if (len(b) <= 2):\n",
    "                consistent += ballots[b]\n",
    "                consistent_ballots[b] = ballots[b]\n",
    "            else:\n",
    "                b_num = ballot_to_num(b, normalized_distances)\n",
    "                lp = solve_lp(b_num, midpoints, intervals, len(normalized_distances))\n",
    "                if (lp):\n",
    "                    consistent_ballots[b] = ballots[b]\n",
    "                    consistent += ballots[b]\n",
    "    \n",
    "    gamma = consistent/total\n",
    "    return consistent_ballots, gamma\n",
    "        "
   ]
  },
  {
   "cell_type": "code",
   "execution_count": 8,
   "metadata": {},
   "outputs": [
    {
     "name": "stdout",
     "output_type": "stream",
     "text": [
      "48\n"
     ]
    },
    {
     "data": {
      "image/png": "[encoded data removed]",
      "text/plain": [
       "<Figure size 432x288 with 1 Axes>"
      ]
     },
     "metadata": {
      "needs_background": "light"
     },
     "output_type": "display_data"
    }
   ],
   "source": [
    "import matplotlib.pyplot as plt\n",
    "df1 = pd.read_csv(\"interval_winners.csv\")\n",
    "df2 = pd.read_csv(\"strict_winners.csv\")\n",
    "data1 = {}\n",
    "data2 = {}\n",
    "count = 0\n",
    "for index, row in df1.iterrows():\n",
    "    if 'IRV' in row['diff']:\n",
    "        count += 1\n",
    "        if row['#candidates'] not in data1:\n",
    "            data1[row['#candidates']] = 1\n",
    "        else:\n",
    "            data1[row['#candidates']] += 1\n",
    "plt.bar(list(data1.keys()), data1.values())\n",
    "print(count)\n",
    "\n",
    "\n"
   ]
  },
  {
   "cell_type": "code",
   "execution_count": 9,
   "metadata": {},
   "outputs": [
    {
     "name": "stdout",
     "output_type": "stream",
     "text": [
      "63\n"
     ]
    },
    {
     "data": {
      "image/png": "[encoded data removed]",
      "text/plain": [
       "<Figure size 432x288 with 1 Axes>"
      ]
     },
     "metadata": {
      "needs_background": "light"
     },
     "output_type": "display_data"
    }
   ],
   "source": [
    "count = 0\n",
    "data2 = {}\n",
    "for index, row in df2.iterrows():\n",
    "    if row['#candidates'] <= 15 and 'IRV' in row['diff']:\n",
    "        count += 1\n",
    "        if row['#candidates'] not in data2:\n",
    "            data2[row['#candidates']] = 1\n",
    "        else:\n",
    "            data2[row['#candidates']] += 1\n",
    "plt.bar(list(data2.keys()), data2.values())\n",
    "print(count)"
   ]
  },
  {
   "cell_type": "code",
   "execution_count": 10,
   "metadata": {},
   "outputs": [],
   "source": [
    "def get_bullet_votes(ballots):\n",
    "    total = 0\n",
    "    bullet = 0\n",
    "    for b in ballots:\n",
    "        if (len(b) > 0):\n",
    "            total += ballots[b]\n",
    "        if (len(b) == 1):\n",
    "            bullet += ballots[b]\n",
    "    return bullet/total"
   ]
  },
  {
   "cell_type": "code",
   "execution_count": 20,
   "metadata": {},
   "outputs": [
    {
     "name": "stdout",
     "output_type": "stream",
     "text": [
      "yes\n",
      "Alaska_04102020_PRESIDENTOFTHEUNITEDSTATES.csv\n"
     ]
    }
   ],
   "source": [
    "if (\"Alaska_04102020_PRESIDENTOFTHEUNITEDSTATES.csv\" in df1['filename'].values):\n",
    "    print(df1['filename'].values)\n",
    "print(df1['filename'][0])"
   ]
  },
  {
   "cell_type": "code",
   "execution_count": 21,
   "metadata": {},
   "outputs": [
    {
     "name": "stdout",
     "output_type": "stream",
     "text": [
      "1   Alaska_04102020_PRESIDENTOFTHEUNITEDSTATES.csv   0.198662749468139\n",
      "2   Alaska_08162022_HouseofRepresentativesSpecial.csv   0.2968144367017559\n",
      "3   Alaska_11082022_GovernorLieutenantGovernor.csv   0.3323666200325179\n",
      "4   Alaska_11082022_HouseDistrict1.csv   0.7386957170571556\n",
      "5   Alaska_11082022_HouseDistrict10.csv   0.5954097395909961\n",
      "6   Alaska_11082022_HouseDistrict11.csv   0.5158223727047793\n",
      "7   Alaska_11082022_HouseDistrict12.csv   0.7673450508788159\n",
      "8   Alaska_11082022_HouseDistrict13.csv   0.7615176151761518\n",
      "9   Alaska_11082022_HouseDistrict14.csv   0.7802564552959775\n",
      "10   Alaska_11082022_HouseDistrict15.csv   0.5063273727647868\n",
      "11   Alaska_11082022_HouseDistrict16.csv   0.7923006892963974\n",
      "12   Alaska_11082022_HouseDistrict17.csv   0.48131455399061035\n",
      "13   Alaska_11082022_HouseDistrict18.csv   0.4624823029731005\n",
      "14   Alaska_11082022_HouseDistrict19.csv   0.48\n",
      "15   Alaska_11082022_HouseDistrict2.csv   0.7739581871755297\n",
      "16   Alaska_11082022_HouseDistrict20.csv   0.46241276171485546\n",
      "17   Alaska_11082022_HouseDistrict21.csv   0.7782212086659065\n",
      "18   Alaska_11082022_HouseDistrict22.csv   0.743046357615894\n",
      "19   Alaska_11082022_HouseDistrict23.csv   0.637880684188569\n",
      "20   Alaska_11082022_HouseDistrict24.csv   0.4166666666666667\n",
      "21   Alaska_11082022_HouseDistrict25.csv   0.6251382743362832\n",
      "22   Alaska_11082022_HouseDistrict26.csv   0.7967590489171589\n",
      "23   Alaska_11082022_HouseDistrict27.csv   0.4461538461538462\n",
      "24   Alaska_11082022_HouseDistrict28.csv   0.40614506380120885\n",
      "25   Alaska_11082022_HouseDistrict29.csv   0.7698699906178796\n",
      "27   Alaska_11082022_HouseDistrict30.csv   0.4688080700822936\n",
      "28   Alaska_11082022_HouseDistrict31.csv   0.4587029371180761\n",
      "29   Alaska_11082022_HouseDistrict32.csv   0.445950204853451\n",
      "31   Alaska_11082022_HouseDistrict34.csv   0.5100271002710027\n",
      "32   Alaska_11082022_HouseDistrict35.csv   0.49765760942310266\n",
      "33   Alaska_11082022_HouseDistrict36.csv   0.7921017402945114\n",
      "36   Alaska_11082022_HouseDistrict39.csv   0.463407973784817\n",
      "37   Alaska_11082022_HouseDistrict4.csv   0.7617444753402605\n",
      "39   Alaska_11082022_HouseDistrict5.csv   0.6770174786165861\n",
      "40   Alaska_11082022_HouseDistrict6.csv   0.6029828799495851\n",
      "41   Alaska_11082022_HouseDistrict7.csv   0.6364435330306137\n",
      "43   Alaska_11082022_HouseDistrict9.csv   0.8080684596577017\n",
      "44   Alaska_11082022_SenateDistrictA.csv   0.6784526112185687\n",
      "46   Alaska_11082022_SenateDistrictC.csv   0.5605637833583744\n",
      "47   Alaska_11082022_SenateDistrictD.csv   0.5041441915537429\n",
      "48   Alaska_11082022_SenateDistrictE.csv   0.45272292040694195\n",
      "49   Alaska_11082022_SenateDistrictF.csv   0.7908163265306123\n",
      "50   Alaska_11082022_SenateDistrictG.csv   0.7680771290840921\n",
      "51   Alaska_11082022_SenateDistrictH.csv   0.7740384615384616\n",
      "52   Alaska_11082022_SenateDistrictI.csv   0.7180751799520128\n",
      "53   Alaska_11082022_SenateDistrictJ.csv   0.4198843930635838\n",
      "54   Alaska_11082022_SenateDistrictK.csv   0.7626977518734388\n",
      "55   Alaska_11082022_SenateDistrictL.csv   0.6083978354681827\n",
      "56   Alaska_11082022_SenateDistrictM.csv   0.8161120840630472\n",
      "57   Alaska_11082022_SenateDistrictN.csv   0.4329611356357656\n",
      "58   Alaska_11082022_SenateDistrictO.csv   0.586967241986615\n",
      "59   Alaska_11082022_SenateDistrictP.csv   0.48321828136158057\n",
      "60   Alaska_11082022_SenateDistrictQ.csv   0.646710273181993\n",
      "61   Alaska_11082022_SenateDistrictR.csv   0.5385877366874018\n",
      "62   Alaska_11082022_SenateDistrictS.csv   0.5744465345102011\n",
      "63   Alaska_11082022_USRepresentative.csv   0.3358481024123668\n",
      "64   Alaska_11082022_USSenator.csv   0.35966862989161785\n",
      "65   Albany_11082022_BoardofEducation.csv   0.13988599599445387\n",
      "66   Albany_11082022_CityCouncil.csv   0.07344162154657781\n",
      "67   Albany_11082022_FAKECityCouncil.csv   0.12685938815604828\n",
      "68   Berkeley_03072017_CityCouncilDistrict4.csv   0.5606758832565284\n",
      "70   Berkeley_11022010_CityCouncilDistrict1.csv   0.3658107632782272\n",
      "71   Berkeley_11022010_CityCouncilDistrict4.csv   0.2832807570977918\n",
      "72   Berkeley_11022010_CityCouncilDistrict7.csv   0.20700407771647877\n",
      "73   Berkeley_11022010_CityCouncilDistrict8.csv   0.257516339869281\n",
      "74   Berkeley_11032020_MayorBerkeleyRCV.csv   0.3603112573700809\n",
      "75   Berkeley_11032020_MemberCityCouncilDist2BerkeleyRCV.csv   0.2085822260148726\n",
      "76   Berkeley_11032020_MemberCityCouncilDist3BerkeleyRCV.csv   0.40630677394238257\n",
      "77   Berkeley_11032020_MemberCityCouncilDist5BerkeleyRCV.csv   0.5159229310172706\n",
      "78   Berkeley_11032020_MemberCityCouncilDist6BerkeleyRCV.csv   0.5841609699471172\n",
      "80   Berkeley_11042014_CityCouncilDistrict1.csv   0.3512834320588763\n",
      "81   Berkeley_11042014_CityCouncilDistrict7.csv   0.5495016611295681\n",
      "82   Berkeley_11042014_CityCouncilDistrict8.csv   0.1623233215547703\n",
      "83   Berkeley_11062012_CityCouncilDistrict2.csv   0.3446074201898188\n",
      "84   Berkeley_11062012_CityCouncilDistrict3.csv   0.5927216415021294\n",
      "85   Berkeley_11062012_CityCouncilDistrict5.csv   0.6284207883504895\n",
      "86   Berkeley_11062012_CityCouncilDistrict6.csv   0.9862851337622757\n",
      "87   Berkeley_11062012_Mayor.csv   0.30580319279265694\n",
      "88   Berkeley_11062018_CityAuditor.csv   0.6466408653369058\n",
      "89   Berkeley_11062018_CityCouncilDistrict1.csv   0.16991890522047642\n",
      "90   Berkeley_11062018_CityCouncilDistrict4.csv   0.22793581327498177\n",
      "91   Berkeley_11062018_CityCouncilDistrict7.csv   0.18585643212508884\n",
      "92   Berkeley_11062018_CityCouncilDistrict8.csv   0.21028536548145887\n",
      "93   Berkeley_11082016_CityCouncilDistrict2.csv   0.2620380739081747\n",
      "94   Berkeley_11082016_CityCouncilDistrict3.csv   0.27362066544995084\n",
      "95   Berkeley_11082016_CityCouncilDistrict5.csv   0.61003861003861\n",
      "96   Berkeley_11082016_CityCouncilDistrict6.csv   0.3673141326188881\n",
      "97   Berkeley_11082016_Mayor.csv   0.23498254078035122\n",
      "98   Burlington_03032009_Mayor.csv   0.167670011148272\n",
      "99   Burlington_03072006_Mayor.csv   0.1929214402618658\n",
      "100   Burlington_03072023_CityCouncilCentralDistrict.csv   0.4697325199436884\n",
      "101   Burlington_03072023_CityCouncilEastDistrict.csv   0.47092605886575734\n",
      "103   Burlington_03072023_CityCouncilSouthDistrict.csv   0.44854253420582985\n",
      "104   Corvallis_11082022_CityCouncilWard9.csv   0.11684558216350124\n",
      "105   Corvallis_11082022_Mayor.csv   0.08444552293132734\n",
      "106   Easthampton_11022021_Mayor.csv   0.608927704997574\n",
      "107   Eastpointe_11052019_CityCouncil.csv   0.16673330667732908\n",
      "108   ElkRidge_11022021_Mayor.csv   0.13750954927425516\n",
      "109   Hawaii_05232020_PresidentoftheUnitedStateCD1.csv   0.40080916135225947\n",
      "110   Hawaii_05232020_PresidentoftheUnitedStateCD1CD2.csv   0.39284080512351327\n",
      "111   Hawaii_05232020_PresidentoftheUnitedStateCD2.csv   0.38714264698671114\n",
      "112   Kansas_05022020_PRESIDENTOFTHEUNITEDSTATES.csv   0.26719463324692644\n",
      "113   LasCruces_11052019_COUNCILORPOSITION2CITYOFLASCRUCESDISTRICT2COUNCILOR.csv   0.3511111111111111\n",
      "114   LasCruces_11052019_COUNCILORPOSITION4CITYOFLASCRUCESDISTRICT4COUNCILOR.csv   0.29423076923076924\n",
      "115   LasCruces_11052019_MAYORCITYOFLASCRUCES.csv   0.1977521695831555\n",
      "116   Maine_06122018_DemocraticPrimaryforCD2.csv   0.26564808078135677\n",
      "117   Maine_06122018_DemocraticPrimaryforGovernor.csv   0.12331299539024254\n",
      "118   Maine_07142020_DemocraticCandidateforMaineStateHouseDistrict41.csv   0.15451664025356576\n",
      "119   Maine_07142020_DemocraticCandidateforMaineStateHouseDistrict47.csv   0.16947115384615385\n",
      "120   Maine_07142020_DemocraticCandidateforMaineStateHouseDistrict49.csv   0.18922651933701656\n",
      "121   Maine_07142020_DemocraticCandidateforMaineStateHouseDistrict90.csv   0.17644159684573682\n",
      "122   Maine_07142020_DemocraticCandidateforMaineStateSenateDistrict11.csv   0.17951625094482238\n",
      "123   Maine_07142020_RepublicanCandidateforUSHouseofRepresentativesDistrict2.csv   0.3568804211961668\n",
      "124   Maine_11062018_CongressionalDistrict2.csv   0.5098173696962595\n",
      "125   Maine_11082022_CongressionalDistrict2.csv   0.49830938292476756\n",
      "126   Minneapolis_08112020_Ward6CityCouncilSpecialElection.csv   0.5228360719368612\n",
      "127   Minneapolis_11022021_CityCouncilWard1.csv   0.47045434649391576\n",
      "128   Minneapolis_11022021_CityCouncilWard10.csv   0.19862691620426973\n",
      "129   Minneapolis_11022021_CityCouncilWard11.csv   0.4720766581823626\n",
      "130   Minneapolis_11022021_CityCouncilWard12.csv   0.5784595300261096\n",
      "131   Minneapolis_11022021_CityCouncilWard13.csv   0.46326791031172143\n",
      "132   Minneapolis_11022021_CityCouncilWard2.csv   0.2337989706963554\n",
      "133   Minneapolis_11022021_CityCouncilWard3.csv   0.44194953439471313\n",
      "134   Minneapolis_11022021_CityCouncilWard4.csv   0.47949744580974735\n",
      "135   Minneapolis_11022021_CityCouncilWard5.csv   0.3593065693430657\n",
      "136   Minneapolis_11022021_CityCouncilWard6.csv   0.7355530654714263\n",
      "137   Minneapolis_11022021_CityCouncilWard7.csv   0.5241789500905094\n",
      "138   Minneapolis_11022021_CityCouncilWard8.csv   0.9314951677089255\n",
      "139   Minneapolis_11022021_CityCouncilWard9.csv   0.4386961722488038\n",
      "140   Minneapolis_11022021_Mayor.csv   0.27136701647091527\n",
      "141   Minneapolis_11022021_ParkBoardAtLarge.csv   0.2865770926770437\n",
      "143   Minneapolis_11022021_ParkBoardDistrict2.csv   0.44770147031453567\n",
      "144   Minneapolis_11022021_ParkBoardDistrict3.csv   0.6435246117399316\n",
      "145   Minneapolis_11022021_ParkBoardDistrict4.csv   0.6863693075483468\n",
      "146   Minneapolis_11022021_ParkBoardDistrict5.csv   0.546413405780558\n",
      "147   Minneapolis_11022021_ParkBoardDistrict6.csv   0.38257173219978746\n",
      "148   Minneapolis_11052013_Mayor.csv   0.14051752374713397\n",
      "149   Minneapolis_11052013_PRBoardDistrict2.csv   0.5510136257892988\n",
      "150   Minneapolis_11052013_PRBoardDistrict6.csv   0.5398146120721116\n",
      "151   Minneapolis_11052013_Ward13CityCouncil.csv   0.17733142037302727\n",
      "152   Minneapolis_11052013_Ward5CityCouncil.csv   0.30813287514318444\n",
      "153   Minneapolis_11052013_Ward9CityCouncil.csv   0.22400960384153662\n",
      "154   Minneapolis_11062009_Mayor.csv   0.5395574887374892\n",
      "155   Minneapolis_11062009_PRBoardDistrict1.csv   0.661908856405847\n",
      "156   Minneapolis_11062009_PRBoardDistrict2.csv   0.6512041058033952\n",
      "157   Minneapolis_11062009_PRBoardDistrict3.csv   0.7413242495209709\n",
      "159   Minneapolis_11062009_PRBoardDistrict5.csv   0.44165813715455476\n",
      "160   Minneapolis_11062009_PRBoardDistrict6.csv   0.506189159956736\n",
      "161   Minneapolis_11062009_Ward10CityCouncil.csv   0.4470517448856799\n",
      "162   Minneapolis_11062009_Ward11CityCouncil.csv   0.47035276457343006\n",
      "163   Minneapolis_11062009_Ward12CityCouncil.csv   0.5039269794098917\n",
      "164   Minneapolis_11062009_Ward13CityCouncil.csv   0.579458012713282\n",
      "165   Minneapolis_11062009_Ward1CityCouncil.csv   0.37348790322580644\n",
      "166   Minneapolis_11062009_Ward2CityCouncil.csv   0.8366965620328849\n",
      "167   Minneapolis_11062009_Ward3CityCouncil.csv   0.5025125628140703\n",
      "168   Minneapolis_11062009_Ward4CityCouncil.csv   0.43052184466019416\n",
      "169   Minneapolis_11062009_Ward5CityCouncil.csv   0.38660508083140877\n",
      "170   Minneapolis_11062009_Ward6CityCouncil.csv   0.35114107883817425\n",
      "171   Minneapolis_11062009_Ward7CityCouncil.csv   0.6583581065630002\n",
      "172   Minneapolis_11062009_Ward8CityCouncil.csv   0.4093113482056256\n",
      "173   Minneapolis_11062009_Ward9CityCouncil.csv   0.36685599732709656\n",
      "174   Minneapolis_11072017_Mayor.csv   0.13430363383923014\n",
      "175   Minneapolis_11072017_PRBoardDistrict1.csv   0.37624736472241743\n",
      "176   Minneapolis_11072017_PRBoardDistrict2.csv   0.486653902466494\n",
      "177   Minneapolis_11072017_PRBoardDistrict3.csv   0.5143621032426133\n",
      "178   Minneapolis_11072017_PRBoardDistrict4.csv   0.5505400372439478\n",
      "179   Minneapolis_11072017_PRBoardDistrict5.csv   0.401980198019802\n",
      "180   Minneapolis_11072017_PRBoardDistrict6.csv   0.46022881309982105\n",
      "181   Minneapolis_11072017_Ward10CityCouncil.csv   0.3252011077409996\n",
      "182   Minneapolis_11072017_Ward11CityCouncil.csv   0.2268447558572367\n",
      "183   Minneapolis_11072017_Ward12CityCouncil.csv   0.620102382358732\n",
      "184   Minneapolis_11072017_Ward13CityCouncil.csv   0.7569869576789992\n",
      "185   Minneapolis_11072017_Ward1CityCouncil.csv   0.28473177441540576\n",
      "187   Minneapolis_11072017_Ward3CityCouncil.csv   0.2076063107303312\n",
      "188   Minneapolis_11072017_Ward4CityCouncil.csv   0.305307209435039\n",
      "189   Minneapolis_11072017_Ward5CityCouncil.csv   0.2786885245901639\n",
      "190   Minneapolis_11072017_Ward6CityCouncil.csv   0.6884268884268884\n",
      "191   Minneapolis_11072017_Ward7CityCouncil.csv   0.314137855097996\n",
      "192   Minneapolis_11072017_Ward8CityCouncil.csv   0.2844281004311438\n",
      "193   Minneapolis_11072017_Ward9CityCouncil.csv   0.2904338355418406\n",
      "194   Minnetonka_11022021_CityCouncilAtLargeSeatA.csv   0.2968387874293131\n",
      "195   Minnetonka_11022021_CityCouncilAtLargeSeatB.csv   0.2924045651318379\n",
      "196   Minnetonka_11022021_Mayor.csv   0.7622117305247866\n",
      "197   NewYorkCity_06222021_CONCouncilMember19thCouncilDistrict.csv   0.6470588235294118\n",
      "198   NewYorkCity_06222021_DEMBoroughPresidentBronx.csv   0.34261465451036766\n",
      "199   NewYorkCity_06222021_DEMBoroughPresidentKings.csv   0.32771762039346847\n",
      "200   NewYorkCity_06222021_DEMBoroughPresidentNewYork.csv   0.3166024141007727\n",
      "201   NewYorkCity_06222021_DEMBoroughPresidentQueens.csv   0.4106104353524184\n",
      "202   NewYorkCity_06222021_DEMBoroughPresidentRichmond.csv   0.349242853099349\n",
      "203   NewYorkCity_06222021_DEMComptrollerCitywide.csv   0.325924621102223\n",
      "204   NewYorkCity_06222021_DEMCouncilMember10thCouncilDistrict.csv   0.3241161165246671\n",
      "205   NewYorkCity_06222021_DEMCouncilMember11thCouncilDistrict.csv   0.2635408720145531\n",
      "206   NewYorkCity_06222021_DEMCouncilMember12thCouncilDistrict.csv   0.3502681506256848\n",
      "207   NewYorkCity_06222021_DEMCouncilMember13thCouncilDistrict.csv   0.4231502861158518\n",
      "208   NewYorkCity_06222021_DEMCouncilMember14thCouncilDistrict.csv   0.3241583739148846\n",
      "209   NewYorkCity_06222021_DEMCouncilMember15thCouncilDistrict.csv   0.31969899259618884\n",
      "210   NewYorkCity_06222021_DEMCouncilMember16thCouncilDistrict.csv   0.39233125802944957\n",
      "211   NewYorkCity_06222021_DEMCouncilMember17thCouncilDistrict.csv   0.5022168033695411\n",
      "212   NewYorkCity_06222021_DEMCouncilMember18thCouncilDistrict.csv   0.2723968355783622\n",
      "213   NewYorkCity_06222021_DEMCouncilMember19thCouncilDistrict.csv   0.33922153399097654\n",
      "214   NewYorkCity_06222021_DEMCouncilMember1stCouncilDistrict.csv   0.287101057740739\n",
      "215   NewYorkCity_06222021_DEMCouncilMember20thCouncilDistrict.csv   0.27874859075535513\n",
      "216   NewYorkCity_06222021_DEMCouncilMember21stCouncilDistrict.csv   0.40078958912121654\n",
      "217   NewYorkCity_06222021_DEMCouncilMember22ndCouncilDistrict.csv   0.2587894834061942\n",
      "218   NewYorkCity_06222021_DEMCouncilMember23rdCouncilDistrict.csv   0.30087103798693443\n",
      "219   NewYorkCity_06222021_DEMCouncilMember24thCouncilDistrict.csv   0.5072344868735084\n",
      "220   NewYorkCity_06222021_DEMCouncilMember25thCouncilDistrict.csv   0.3208280297447578\n",
      "221   NewYorkCity_06222021_DEMCouncilMember26thCouncilDistrict.csv   0.18281729428172944\n",
      "222   NewYorkCity_06222021_DEMCouncilMember27thCouncilDistrict.csv   0.22639569049951028\n",
      "223   NewYorkCity_06222021_DEMCouncilMember28thCouncilDistrict.csv   0.4310566091544275\n",
      "224   NewYorkCity_06222021_DEMCouncilMember29thCouncilDistrict.csv   0.23927383106648764\n",
      "225   NewYorkCity_06222021_DEMCouncilMember2ndCouncilDistrict.csv   0.6287019162860775\n",
      "226   NewYorkCity_06222021_DEMCouncilMember30thCouncilDistrict.csv   0.6861374778345677\n",
      "227   NewYorkCity_06222021_DEMCouncilMember31stCouncilDistrict.csv   0.49115127259083236\n",
      "228   NewYorkCity_06222021_DEMCouncilMember32ndCouncilDistrict.csv   0.40690734761764996\n",
      "229   NewYorkCity_06222021_DEMCouncilMember33rdCouncilDistrict.csv   0.3721296867502913\n",
      "230   NewYorkCity_06222021_DEMCouncilMember34thCouncilDistrict.csv   0.5200365965233302\n",
      "231   NewYorkCity_06222021_DEMCouncilMember35thCouncilDistrict.csv   0.27020679383628343\n",
      "232   NewYorkCity_06222021_DEMCouncilMember36thCouncilDistrict.csv   0.324513853037343\n",
      "233   NewYorkCity_06222021_DEMCouncilMember37thCouncilDistrict.csv   0.3982723764013968\n",
      "234   NewYorkCity_06222021_DEMCouncilMember38thCouncilDistrict.csv   0.36448443820688514\n",
      "235   NewYorkCity_06222021_DEMCouncilMember39thCouncilDistrict.csv   0.2098286094625326\n",
      "236   NewYorkCity_06222021_DEMCouncilMember3rdCouncilDistrict.csv   0.36246624346789186\n",
      "237   NewYorkCity_06222021_DEMCouncilMember40thCouncilDistrict.csv   0.25665220696748803\n",
      "238   NewYorkCity_06222021_DEMCouncilMember41stCouncilDistrict.csv   0.5045770304486139\n",
      "239   NewYorkCity_06222021_DEMCouncilMember42ndCouncilDistrict.csv   0.3791117368488417\n",
      "240   NewYorkCity_06222021_DEMCouncilMember45thCouncilDistrict.csv   0.52952776336274\n",
      "241   NewYorkCity_06222021_DEMCouncilMember46thCouncilDistrict.csv   0.3274882286085403\n",
      "242   NewYorkCity_06222021_DEMCouncilMember47thCouncilDistrict.csv   0.4416604338070307\n",
      "243   NewYorkCity_06222021_DEMCouncilMember48thCouncilDistrict.csv   0.32257012393998696\n",
      "244   NewYorkCity_06222021_DEMCouncilMember49thCouncilDistrict.csv   0.2516006984866123\n",
      "245   NewYorkCity_06222021_DEMCouncilMember5thCouncilDistrict.csv   0.28766476490261655\n",
      "246   NewYorkCity_06222021_DEMCouncilMember6thCouncilDistrict.csv   0.3584426791198193\n",
      "247   NewYorkCity_06222021_DEMCouncilMember7thCouncilDistrict.csv   0.2612216765744809\n",
      "248   NewYorkCity_06222021_DEMCouncilMember8thCouncilDistrict.csv   0.41353061922682177\n",
      "249   NewYorkCity_06222021_DEMCouncilMember9thCouncilDistrict.csv   0.23221309241014057\n",
      "250   NewYorkCity_06222021_DEMMayorCitywide.csv   0.1349436225789268\n",
      "251   NewYorkCity_06222021_DEMPublicAdvocateCitywide.csv   0.5636511575392228\n",
      "252   NewYorkCity_06222021_REPBoroughPresidentQueens.csv   0.4813221481322148\n",
      "253   NewYorkCity_06222021_REPBoroughPresidentRichmond.csv   0.3843251236550915\n",
      "254   NewYorkCity_06222021_REPCouncilMember15thCouncilDistrict.csv   0.5033112582781457\n",
      "255   NewYorkCity_06222021_REPCouncilMember19thCouncilDistrict.csv   0.5247349823321554\n",
      "256   NewYorkCity_06222021_REPCouncilMember23rdCouncilDistrict.csv   0.4930966469428008\n",
      "257   NewYorkCity_06222021_REPCouncilMember24thCouncilDistrict.csv   0.4884910485933504\n",
      "258   NewYorkCity_06222021_REPCouncilMember32ndCouncilDistrict.csv   0.6040943789035392\n",
      "259   NewYorkCity_06222021_REPCouncilMember50thCouncilDistrict.csv   0.47880910683012257\n",
      "260   NewYorkCity_06222021_REPMayorCitywide.csv   0.4999659806089471\n",
      "261   Oakland_11022010_CityAuditor.csv   0.4135769373530746\n",
      "262   Oakland_11022010_CityCouncilDistrict2.csv   0.4886305099713003\n",
      "263   Oakland_11022010_CityCouncilDistrict4.csv   0.19262861774662662\n",
      "264   Oakland_11022010_CityCouncilDistrict6.csv   0.3036990985390115\n",
      "265   Oakland_11022010_Mayor.csv   0.14634961482545997\n",
      "267   Oakland_11022010_SchoolDirectorDistrict4.csv   0.4452087412032383\n",
      "269   Oakland_11032020_CityAttorneyOaklandRCV.csv   0.36470127081333187\n",
      "270   Oakland_11032020_MemberCityCouncilAtLargeOaklandRCV.csv   0.28290090148308505\n",
      "271   Oakland_11032020_MemberCityCouncilDist1OaklandRCV.csv   0.2669015993494172\n",
      "272   Oakland_11032020_MemberCityCouncilDist3OaklandRCV.csv   0.2786449037868709\n",
      "273   Oakland_11032020_MemberCityCouncilDist5OaklandRCV.csv   0.2590110385221897\n",
      "274   Oakland_11032020_MemberCityCouncilDist7OaklandRCV.csv   0.2284972246269797\n",
      "275   Oakland_11032020_SchoolDirectorDist1OaklandRCV.csv   0.22785801287628327\n",
      "276   Oakland_11032020_SchoolDirectorDist3OaklandRCV.csv   0.1874759623789378\n",
      "277   Oakland_11032020_SchoolDirectorDist5OaklandRCV.csv   0.2736707089552239\n",
      "278   Oakland_11032020_SchoolDirectorDist7OaklandRCV.csv   0.23638539796529023\n",
      "279   Oakland_11042014_CityAuditor.csv   0.4812830179163567\n",
      "280   Oakland_11042014_CityCouncilDistrict2.csv   0.2442888725128961\n",
      "281   Oakland_11042014_CityCouncilDistrict4.csv   0.3231160033869602\n",
      "282   Oakland_11042014_CityCouncilDistrict6.csv   0.3103201573958147\n",
      "283   Oakland_11042014_Mayor.csv   0.14730091696482686\n",
      "284   Oakland_11042014_SchoolDirectorDistrict2.csv   0.5425985999658528\n",
      "285   Oakland_11042014_SchoolDirectorDistrict4.csv   0.2580545229244114\n",
      "286   Oakland_11042014_SchoolDirectorDistrict6.csv   0.4838771777841948\n",
      "287   Oakland_11062012_CityAttorney.csv   0.5323015575943227\n",
      "288   Oakland_11062012_CityCouncilAtLarge.csv   0.300110834026046\n",
      "289   Oakland_11062012_CityCouncilDistrict1.csv   0.21884827730798798\n",
      "290   Oakland_11062012_CityCouncilDistrict3.csv   0.21261056929008845\n",
      "291   Oakland_11062012_CityCouncilDistrict5.csv   0.33011257867210353\n",
      "292   Oakland_11062012_CityCouncilDistrict7.csv   0.3837744150389974\n",
      "293   Oakland_11062012_SchoolDirectorDistrict1.csv   0.5626217485963103\n",
      "294   Oakland_11062012_SchoolDirectorDistrict3.csv   0.32747658108042516\n",
      "295   Oakland_11062012_SchoolDirectorDistrict5.csv   0.5150632565759534\n",
      "296   Oakland_11062012_SchoolDirectorDistrict7.csv   0.492574610881051\n",
      "297   Oakland_11062018_CityAuditor.csv   0.5561003921335188\n",
      "298   Oakland_11062018_CityCouncilDistrict2.csv   0.32879516351692295\n",
      "299   Oakland_11062018_CityCouncilDistrict4.csv   0.20321278784521643\n",
      "300   Oakland_11062018_CityCouncilDistrict6.csv   0.2233769136216337\n",
      "301   Oakland_11062018_Mayor.csv   0.2749502220379757\n",
      "303   Oakland_11062018_SchoolDirectorDistrict4.csv   0.5874959455076224\n",
      "304   Oakland_11062018_SchoolDirectorDistrict6.csv   0.9935197576952878\n",
      "306   Oakland_11082016_CityCouncilDistrict1.csv   0.6447173338490298\n",
      "307   Oakland_11082016_CityCouncilDistrict3.csv   0.49877529972927676\n",
      "308   Oakland_11082016_CityCouncilDistrict5.csv   0.5316501222845633\n",
      "309   Oakland_11082016_CityCouncilDistrict7.csv   0.3471499301764631\n",
      "310   Oakland_11082016_CouncilAtLrg.csv   0.24420479804740763\n",
      "311   Oakland_11082016_SchoolDirectorDistrict1.csv   0.6397102152587612\n",
      "312   Oakland_11082016_SchoolDirectorDistrict3.csv   0.2811704266249721\n",
      "313   Oakland_11082016_SchoolDirectorDistrict5.csv   0.3266132054260661\n",
      "314   Oakland_11082016_SchoolDirectorDistrict7.csv   0.5010703773080011\n",
      "316   Oakland_11082022_CityCouncilmemberDistrict4.csv   0.48915393485154224\n",
      "317   Oakland_11082022_CityCouncilmemberDistrict6.csv   0.34970981239033605\n",
      "318   Oakland_11082022_Mayor.csv   0.14537144469879895\n",
      "319   Oakland_11082022_Schoolboarddistrict2.csv   0.2985894973842792\n",
      "320   Oakland_11082022_Schoolboarddistrict4.csv   0.29914723417100597\n",
      "321   Oakland_11082022_Schoolboarddistrict6.csv   0.2979704162366701\n",
      "322   Payson_11052019_CityCouncil.csv   0.05416511019798281\n",
      "323   PierceCounty_11032009_CountyAuditor.csv   0.31891722489912644\n",
      "324   PierceCounty_11042008_CountyAssessorTreasurer.csv   0.31564491236648684\n",
      "325   PierceCounty_11042008_CountyCouncilDistrict2.csv   0.40637430265429164\n",
      "326   PierceCounty_11042008_CountyExecutiveMember.csv   0.30825089349296403\n",
      "327   Portland_06082021_charter_commission_at_large.csv   0.08267851042022549\n",
      "328   Portland_06142022_SchoolboardAL-1.csv   0.08223795079204584\n",
      "329   Portland_06142022_SchoolboardAL.csv   0.08256571556953493\n",
      "330   Portland_06142022_Schoolboarddistrict5-1.csv   0.36596617119425934\n",
      "331   Portland_06142022_Schoolboarddistrict5.csv   0.36512820512820515\n",
      "332   Portland_11082022_SchoolBoardDistrict3.csv   0.37510053080263794\n",
      "333   SanFrancisco_06052018_BoardofSupervisorsDistrict8.csv   0.32835462058602555\n",
      "334   SanFrancisco_06052018_Mayor.csv   0.14585239341601763\n",
      "335   SanFrancisco_11022004_BoardofSupervisorsDistrict11.csv   0.1897221263375906\n",
      "336   SanFrancisco_11022004_BoardofSupervisorsDistrict2.csv   0.33025980051032244\n",
      "337   SanFrancisco_11022004_BoardofSupervisorsDistrict3.csv   0.27647172360548156\n",
      "338   SanFrancisco_11022004_BoardofSupervisorsDistrict5.csv   0.11116807656156541\n",
      "339   SanFrancisco_11022004_BoardofSupervisorsDistrict7.csv   0.16612408736053605\n",
      "340   SanFrancisco_11022004_BoardofSupervisorsDistrict9.csv   0.1680543823659547\n",
      "341   SanFrancisco_11022010_BoardofSupervisorsDistrict10.csv   0.2355523449655479\n",
      "342   SanFrancisco_11022010_BoardofSupervisorsDistrict2.csv   0.3929385437818574\n",
      "343   SanFrancisco_11022010_BoardofSupervisorsDistrict6.csv   0.2705799151343706\n",
      "344   SanFrancisco_11022010_BoardofSupervisorsDistrict8.csv   0.27754740183601684\n",
      "345   SanFrancisco_11032015_BoardofSupervisorsDistrict3.csv   0.5217911877394636\n",
      "346   SanFrancisco_11032015_Mayor.csv   0.45731954422252047\n",
      "347   SanFrancisco_11032015_Sheriff.csv   0.5109971975837901\n",
      "348   SanFrancisco_11032020_BOARDOFSUPERVISORSDISTRICT1.csv   0.2253365091674514\n",
      "349   SanFrancisco_11032020_BOARDOFSUPERVISORSDISTRICT11.csv   0.19791069494872285\n",
      "350   SanFrancisco_11032020_BOARDOFSUPERVISORSDISTRICT3.csv   0.23602420051858253\n",
      "351   SanFrancisco_11032020_BOARDOFSUPERVISORSDISTRICT5.csv   0.20196584875878892\n",
      "352   SanFrancisco_11032020_BOARDOFSUPERVISORSDISTRICT7.csv   0.1096530192654263\n",
      "353   SanFrancisco_11032020_BOARDOFSUPERVISORSDISTRICT9.csv   0.999795046968403\n",
      "354   SanFrancisco_11042008_BoardofSupervisorsDistrict1.csv   0.2512486126526082\n",
      "355   SanFrancisco_11042008_BoardofSupervisorsDistrict11.csv   0.21407860824742267\n",
      "356   SanFrancisco_11042008_BoardofSupervisorsDistrict3.csv   0.17422189674112046\n",
      "357   SanFrancisco_11042008_BoardofSupervisorsDistrict4.csv   0.31973366851241636\n",
      "358   SanFrancisco_11042008_BoardofSupervisorsDistrict5.csv   0.3962719667621133\n",
      "359   SanFrancisco_11042008_BoardofSupervisorsDistrict7.csv   0.45018034265103696\n",
      "360   SanFrancisco_11042008_BoardofSupervisorsDistrict9.csv   0.15433467363120515\n",
      "361   SanFrancisco_11042014_BoardofSupervisorsDistrict10.csv   0.33538361929426996\n",
      "362   SanFrancisco_11052004_BoardofSupervisorsDistrict1.csv   0.1908847743773231\n",
      "364   SanFrancisco_11052019_DistrictAttorney.csv   0.3988006927033524\n",
      "365   SanFrancisco_11052019_Mayor.csv   0.5096854520896675\n",
      "366   SanFrancisco_11052019_MemberBoardofSupervisorsDistrict5.csv   0.47946997510233363\n",
      "370   SanFrancisco_11062007_Mayor.csv   0.5450902080554999\n",
      "371   SanFrancisco_11062012_BoardofSupervisorsDistrict5.csv   0.1768275392729541\n",
      "372   SanFrancisco_11062012_BoardofSupervisorsDistrict7.csv   0.19518470285550932\n",
      "373   SanFrancisco_11062018_AssessorRecorder.csv   0.5801663830591794\n",
      "374   SanFrancisco_11062018_BoardofSupervisorsDistrict10.csv   0.22669418644650843\n",
      "375   SanFrancisco_11062018_BoardofSupervisorsDistrict2.csv   0.27092760180995473\n",
      "376   SanFrancisco_11062018_BoardofSupervisorsDistrict4.csv   0.23561605388717374\n",
      "377   SanFrancisco_11062018_BoardofSupervisorsDistrict6.csv   0.3011592145729832\n",
      "378   SanFrancisco_11062018_BoardofSupervisorsDistrict8.csv   0.7164243044481995\n",
      "380   SanFrancisco_11072006_BoardofSupervisorsDistrict10.csv   0.37976539589442815\n",
      "381   SanFrancisco_11072006_BoardofSupervisorsDistrict2.csv   0.7556643014436016\n",
      "382   SanFrancisco_11072006_BoardofSupervisorsDistrict4.csv   0.24364021804966687\n",
      "383   SanFrancisco_11072006_BoardofSupervisorsDistrict6.csv   0.4367092135332479\n",
      "384   SanFrancisco_11072006_BoardofSupervisorsDistrict8.csv   0.46094661495285844\n",
      "385   SanFrancisco_11082005_AssessorRecorder.csv   0.33595851905392926\n",
      "386   SanFrancisco_11082005_Treasurer.csv   0.4060546996730712\n",
      "387   SanFrancisco_11082011_DistrictAttorney.csv   0.26544214059924154\n",
      "388   SanFrancisco_11082011_Mayor.csv   0.15830932684259444\n",
      "389   SanFrancisco_11082011_Sheriff.csv   0.3820235745673816\n",
      "390   SanFrancisco_11082016_BoardofSupervisorsDistrict1.csv   0.22433699311039104\n",
      "391   SanFrancisco_11082016_BoardofSupervisorsDistrict11.csv   0.23404004711425205\n",
      "392   SanFrancisco_11082016_BoardofSupervisorsDistrict3.csv   0.5961675479056512\n",
      "393   SanFrancisco_11082016_BoardofSupervisorsDistrict5.csv   0.5384802905828722\n",
      "394   SanFrancisco_11082016_BoardofSupervisorsDistrict7.csv   0.23409431667091007\n",
      "395   SanFrancisco_11082016_BoardofSupervisorsDistrict9.csv   0.24982877778469584\n",
      "397   SanFrancisco_11082022_BoardofSupervisorsD10.csv   0.5245395127748069\n",
      "399   SanFrancisco_11082022_BoardofSupervisorsD4.csv   0.605881265026817\n",
      "400   SanFrancisco_11082022_BoardofSupervisorsD6.csv   0.3375628294716195\n",
      "401   SanFrancisco_11082022_BoardofSupervisorsD8.csv   0.600418410041841\n",
      "402   SanFrancisco_11082022_DistrictAttorney.csv   0.3677155186445828\n",
      "403   SanFrancisco_11082022_PublicDefender.csv   0.543853808887862\n",
      "404   SanLeandro_11022010_CountyCouncilDistrict1.csv   0.4316005814827811\n",
      "406   SanLeandro_11022010_CountyCouncilDistrict5.csv   0.4366658397419995\n",
      "407   SanLeandro_11022010_Mayor.csv   0.24953237730471187\n",
      "408   SanLeandro_11032020_MemberCityCouncilDist2SanLeandroRCV.csv   0.3487675851645158\n",
      "409   SanLeandro_11032020_MemberCityCouncilDist4SanLeandroRCV.csv   0.373540737118758\n",
      "411   SanLeandro_11042014_CountyCouncilDistrict1.csv   0.27347834505905894\n",
      "412   SanLeandro_11042014_CountyCouncilDistrict3.csv   0.29845807223825954\n",
      "413   SanLeandro_11042014_CountyCouncilDistrict5.csv   0.29172052520579633\n",
      "414   SanLeandro_11042014_Mayor.csv   0.29177964012817353\n",
      "415   SanLeandro_11062012_CountyCouncilDistrict2.csv   0.2501282810341425\n",
      "416   SanLeandro_11062012_CountyCouncilDistrict4.csv   0.2606008212664794\n",
      "417   SanLeandro_11062012_CountyCouncilDistrict6.csv   0.3695199217587277\n",
      "418   SanLeandro_11062018_CountyCouncilDistrict1.csv   0.2972766709511568\n",
      "419   SanLeandro_11062018_CountyCouncilDistrict3.csv   0.39875402792696024\n",
      "420   SanLeandro_11062018_CountyCouncilDistrict5.csv   0.4341817245375338\n",
      "421   SanLeandro_11062018_Mayor.csv   0.2730261885420293\n",
      "422   SanLeandro_11082016_CountyCouncilDistrict2.csv   0.45616443438578264\n",
      "425   SantaFe_03062018_CityCouncilDistrict2.csv   0.17849153084052413\n",
      "426   SantaFe_03062018_CityCouncilDistrict4.csv   0.22251682643279624\n",
      "427   SantaFe_03062018_Mayor.csv   0.13208828522920205\n",
      "428   Springville_11022021_CityCouncil2yr.csv   0.17291494632535095\n",
      "429   Springville_11022021_Mayor.csv   0.24215686274509804\n",
      "431   StLouisPark_11022021_CityCouncilWard2.csv   0.9598214285714286\n",
      "432   StLouisPark_11022021_CityCouncilWard3.csv   0.2684563758389262\n",
      "434   TakomaPark_11082022_CityCouncilWard1.csv   0.2972774098601913\n",
      "436   TakomaPark_11082022_CityCouncilWard3.csv   0.21064139941690962\n",
      "438   TakomaPark_11082022_CityCouncilWard5.csv   0.2874743326488706\n",
      "439   TakomaPark_11082022_CityCouncilWard6.csv   0.26615384615384613\n",
      "440   TakomaPark_11082022_Mayor.csv   0.19982471516213848\n",
      "441   Vineyard_11022021_Mayor.csv   0.20624593363695512\n",
      "442   Vineyard_11052019_CityCouncil.csv   0.05876951331496786\n",
      "443   WoodlandHills_11022021_Mayor.csv   0.19541984732824427\n",
      "444   Wyoming_04172020_PRESIDENTOFTHEUNITEDSTATES.csv   0.2651603687832749\n"
     ]
    }
   ],
   "source": [
    "directory = \"dataverse_files\"\n",
    "count = 0\n",
    "for filename in os.listdir(directory):\n",
    "    count += 1\n",
    "    csv =  os.path.join(directory, filename)\n",
    "    ballots, candidates = parse_election_data(csv)\n",
    "    bullet_votes = get_bullet_votes(ballots)\n",
    "\n",
    "    if (filename in df1['filename'].values):\n",
    "        print(count, \" \", filename, \" \", bullet_votes)\n",
    "        df1['bullet votes'] = bullet_votes\n",
    "    if (filename in df2['filename'].values):\n",
    "        df2['bullet votes'] = bullet_votes\n",
    "\n"
   ]
  },
  {
   "cell_type": "code",
   "execution_count": 22,
   "metadata": {},
   "outputs": [],
   "source": [
    "df1.to_csv(\"permissive_bullet.csv\")\n",
    "df2.to_csv(\"strict_bullet.csv\")"
   ]
  },
  {
   "cell_type": "code",
   "execution_count": 6,
   "metadata": {},
   "outputs": [
    {
     "name": "stdout",
     "output_type": "stream",
     "text": [
      "1   Alaska_04102020_PRESIDENTOFTHEUNITEDSTATES.csv\n"
     ]
    },
    {
     "name": "stderr",
     "output_type": "stream",
     "text": [
      "c:\\Users\\mahsh\\Documents\\GitHub\\bugs-in-democracy\\EIL summer 2023\\rcv_dimensionality.py:170: RuntimeWarning: divide by zero encountered in true_divide\n",
      "  distance = 1 / np.sqrt(freq_upper_triangle)\n",
      "C:\\Users\\mahsh\\AppData\\Local\\Temp\\ipykernel_19644\\1022061950.py:45: FutureWarning: The frame.append method is deprecated and will be removed from pandas in a future version. Use pandas.concat instead.\n",
      "  winners = winners.append({'filename': filename, 'diff': diff, \"interval gamma\": gamma, \"#candidates\": len(candidates), 'IRV1': irv1, 'Condorcet1': condorcet1,\n"
     ]
    },
    {
     "name": "stdout",
     "output_type": "stream",
     "text": [
      "2   Alaska_08162022_HouseofRepresentativesSpecial.csv\n"
     ]
    },
    {
     "name": "stderr",
     "output_type": "stream",
     "text": [
      "c:\\Users\\mahsh\\Documents\\GitHub\\bugs-in-democracy\\EIL summer 2023\\rcv_dimensionality.py:170: RuntimeWarning: divide by zero encountered in true_divide\n",
      "  distance = 1 / np.sqrt(freq_upper_triangle)\n",
      "C:\\Users\\mahsh\\AppData\\Local\\Temp\\ipykernel_19644\\1022061950.py:45: FutureWarning: The frame.append method is deprecated and will be removed from pandas in a future version. Use pandas.concat instead.\n",
      "  winners = winners.append({'filename': filename, 'diff': diff, \"interval gamma\": gamma, \"#candidates\": len(candidates), 'IRV1': irv1, 'Condorcet1': condorcet1,\n"
     ]
    },
    {
     "name": "stdout",
     "output_type": "stream",
     "text": [
      "3   Alaska_11082022_GovernorLieutenantGovernor.csv\n"
     ]
    },
    {
     "name": "stderr",
     "output_type": "stream",
     "text": [
      "c:\\Users\\mahsh\\Documents\\GitHub\\bugs-in-democracy\\EIL summer 2023\\rcv_dimensionality.py:170: RuntimeWarning: divide by zero encountered in true_divide\n",
      "  distance = 1 / np.sqrt(freq_upper_triangle)\n",
      "C:\\Users\\mahsh\\AppData\\Local\\Temp\\ipykernel_19644\\1022061950.py:45: FutureWarning: The frame.append method is deprecated and will be removed from pandas in a future version. Use pandas.concat instead.\n",
      "  winners = winners.append({'filename': filename, 'diff': diff, \"interval gamma\": gamma, \"#candidates\": len(candidates), 'IRV1': irv1, 'Condorcet1': condorcet1,\n"
     ]
    },
    {
     "name": "stdout",
     "output_type": "stream",
     "text": [
      "4   Alaska_11082022_HouseDistrict1.csv\n"
     ]
    },
    {
     "name": "stderr",
     "output_type": "stream",
     "text": [
      "c:\\Users\\mahsh\\Documents\\GitHub\\bugs-in-democracy\\EIL summer 2023\\rcv_dimensionality.py:170: RuntimeWarning: divide by zero encountered in true_divide\n",
      "  distance = 1 / np.sqrt(freq_upper_triangle)\n",
      "C:\\Users\\mahsh\\AppData\\Local\\Temp\\ipykernel_19644\\1022061950.py:45: FutureWarning: The frame.append method is deprecated and will be removed from pandas in a future version. Use pandas.concat instead.\n",
      "  winners = winners.append({'filename': filename, 'diff': diff, \"interval gamma\": gamma, \"#candidates\": len(candidates), 'IRV1': irv1, 'Condorcet1': condorcet1,\n"
     ]
    },
    {
     "name": "stdout",
     "output_type": "stream",
     "text": [
      "5   Alaska_11082022_HouseDistrict10.csv\n"
     ]
    },
    {
     "name": "stderr",
     "output_type": "stream",
     "text": [
      "c:\\Users\\mahsh\\Documents\\GitHub\\bugs-in-democracy\\EIL summer 2023\\rcv_dimensionality.py:170: RuntimeWarning: divide by zero encountered in true_divide\n",
      "  distance = 1 / np.sqrt(freq_upper_triangle)\n",
      "C:\\Users\\mahsh\\AppData\\Local\\Temp\\ipykernel_19644\\1022061950.py:45: FutureWarning: The frame.append method is deprecated and will be removed from pandas in a future version. Use pandas.concat instead.\n",
      "  winners = winners.append({'filename': filename, 'diff': diff, \"interval gamma\": gamma, \"#candidates\": len(candidates), 'IRV1': irv1, 'Condorcet1': condorcet1,\n"
     ]
    },
    {
     "name": "stdout",
     "output_type": "stream",
     "text": [
      "6   Alaska_11082022_HouseDistrict11.csv\n"
     ]
    },
    {
     "name": "stderr",
     "output_type": "stream",
     "text": [
      "c:\\Users\\mahsh\\Documents\\GitHub\\bugs-in-democracy\\EIL summer 2023\\rcv_dimensionality.py:170: RuntimeWarning: divide by zero encountered in true_divide\n",
      "  distance = 1 / np.sqrt(freq_upper_triangle)\n",
      "C:\\Users\\mahsh\\AppData\\Local\\Temp\\ipykernel_19644\\1022061950.py:45: FutureWarning: The frame.append method is deprecated and will be removed from pandas in a future version. Use pandas.concat instead.\n",
      "  winners = winners.append({'filename': filename, 'diff': diff, \"interval gamma\": gamma, \"#candidates\": len(candidates), 'IRV1': irv1, 'Condorcet1': condorcet1,\n"
     ]
    },
    {
     "name": "stdout",
     "output_type": "stream",
     "text": [
      "7   Alaska_11082022_HouseDistrict12.csv\n"
     ]
    },
    {
     "name": "stderr",
     "output_type": "stream",
     "text": [
      "c:\\Users\\mahsh\\Documents\\GitHub\\bugs-in-democracy\\EIL summer 2023\\rcv_dimensionality.py:170: RuntimeWarning: divide by zero encountered in true_divide\n",
      "  distance = 1 / np.sqrt(freq_upper_triangle)\n",
      "C:\\Users\\mahsh\\AppData\\Local\\Temp\\ipykernel_19644\\1022061950.py:45: FutureWarning: The frame.append method is deprecated and will be removed from pandas in a future version. Use pandas.concat instead.\n",
      "  winners = winners.append({'filename': filename, 'diff': diff, \"interval gamma\": gamma, \"#candidates\": len(candidates), 'IRV1': irv1, 'Condorcet1': condorcet1,\n"
     ]
    },
    {
     "name": "stdout",
     "output_type": "stream",
     "text": [
      "8   Alaska_11082022_HouseDistrict13.csv\n"
     ]
    },
    {
     "name": "stderr",
     "output_type": "stream",
     "text": [
      "c:\\Users\\mahsh\\Documents\\GitHub\\bugs-in-democracy\\EIL summer 2023\\rcv_dimensionality.py:170: RuntimeWarning: divide by zero encountered in true_divide\n",
      "  distance = 1 / np.sqrt(freq_upper_triangle)\n",
      "C:\\Users\\mahsh\\AppData\\Local\\Temp\\ipykernel_19644\\1022061950.py:45: FutureWarning: The frame.append method is deprecated and will be removed from pandas in a future version. Use pandas.concat instead.\n",
      "  winners = winners.append({'filename': filename, 'diff': diff, \"interval gamma\": gamma, \"#candidates\": len(candidates), 'IRV1': irv1, 'Condorcet1': condorcet1,\n"
     ]
    },
    {
     "name": "stdout",
     "output_type": "stream",
     "text": [
      "9   Alaska_11082022_HouseDistrict14.csv\n"
     ]
    },
    {
     "name": "stderr",
     "output_type": "stream",
     "text": [
      "c:\\Users\\mahsh\\Documents\\GitHub\\bugs-in-democracy\\EIL summer 2023\\rcv_dimensionality.py:170: RuntimeWarning: divide by zero encountered in true_divide\n",
      "  distance = 1 / np.sqrt(freq_upper_triangle)\n",
      "C:\\Users\\mahsh\\AppData\\Local\\Temp\\ipykernel_19644\\1022061950.py:45: FutureWarning: The frame.append method is deprecated and will be removed from pandas in a future version. Use pandas.concat instead.\n",
      "  winners = winners.append({'filename': filename, 'diff': diff, \"interval gamma\": gamma, \"#candidates\": len(candidates), 'IRV1': irv1, 'Condorcet1': condorcet1,\n"
     ]
    },
    {
     "name": "stdout",
     "output_type": "stream",
     "text": [
      "10   Alaska_11082022_HouseDistrict15.csv\n"
     ]
    },
    {
     "name": "stderr",
     "output_type": "stream",
     "text": [
      "c:\\Users\\mahsh\\Documents\\GitHub\\bugs-in-democracy\\EIL summer 2023\\rcv_dimensionality.py:170: RuntimeWarning: divide by zero encountered in true_divide\n",
      "  distance = 1 / np.sqrt(freq_upper_triangle)\n",
      "C:\\Users\\mahsh\\AppData\\Local\\Temp\\ipykernel_19644\\1022061950.py:45: FutureWarning: The frame.append method is deprecated and will be removed from pandas in a future version. Use pandas.concat instead.\n",
      "  winners = winners.append({'filename': filename, 'diff': diff, \"interval gamma\": gamma, \"#candidates\": len(candidates), 'IRV1': irv1, 'Condorcet1': condorcet1,\n"
     ]
    },
    {
     "name": "stdout",
     "output_type": "stream",
     "text": [
      "11   Alaska_11082022_HouseDistrict16.csv\n"
     ]
    },
    {
     "name": "stderr",
     "output_type": "stream",
     "text": [
      "c:\\Users\\mahsh\\Documents\\GitHub\\bugs-in-democracy\\EIL summer 2023\\rcv_dimensionality.py:170: RuntimeWarning: divide by zero encountered in true_divide\n",
      "  distance = 1 / np.sqrt(freq_upper_triangle)\n",
      "C:\\Users\\mahsh\\AppData\\Local\\Temp\\ipykernel_19644\\1022061950.py:45: FutureWarning: The frame.append method is deprecated and will be removed from pandas in a future version. Use pandas.concat instead.\n",
      "  winners = winners.append({'filename': filename, 'diff': diff, \"interval gamma\": gamma, \"#candidates\": len(candidates), 'IRV1': irv1, 'Condorcet1': condorcet1,\n"
     ]
    },
    {
     "name": "stdout",
     "output_type": "stream",
     "text": [
      "12   Alaska_11082022_HouseDistrict17.csv\n"
     ]
    },
    {
     "name": "stderr",
     "output_type": "stream",
     "text": [
      "c:\\Users\\mahsh\\Documents\\GitHub\\bugs-in-democracy\\EIL summer 2023\\rcv_dimensionality.py:170: RuntimeWarning: divide by zero encountered in true_divide\n",
      "  distance = 1 / np.sqrt(freq_upper_triangle)\n",
      "C:\\Users\\mahsh\\AppData\\Local\\Temp\\ipykernel_19644\\1022061950.py:45: FutureWarning: The frame.append method is deprecated and will be removed from pandas in a future version. Use pandas.concat instead.\n",
      "  winners = winners.append({'filename': filename, 'diff': diff, \"interval gamma\": gamma, \"#candidates\": len(candidates), 'IRV1': irv1, 'Condorcet1': condorcet1,\n"
     ]
    },
    {
     "name": "stdout",
     "output_type": "stream",
     "text": [
      "13   Alaska_11082022_HouseDistrict18.csv\n"
     ]
    },
    {
     "name": "stderr",
     "output_type": "stream",
     "text": [
      "c:\\Users\\mahsh\\Documents\\GitHub\\bugs-in-democracy\\EIL summer 2023\\rcv_dimensionality.py:170: RuntimeWarning: divide by zero encountered in true_divide\n",
      "  distance = 1 / np.sqrt(freq_upper_triangle)\n",
      "C:\\Users\\mahsh\\AppData\\Local\\Temp\\ipykernel_19644\\1022061950.py:45: FutureWarning: The frame.append method is deprecated and will be removed from pandas in a future version. Use pandas.concat instead.\n",
      "  winners = winners.append({'filename': filename, 'diff': diff, \"interval gamma\": gamma, \"#candidates\": len(candidates), 'IRV1': irv1, 'Condorcet1': condorcet1,\n"
     ]
    },
    {
     "name": "stdout",
     "output_type": "stream",
     "text": [
      "14   Alaska_11082022_HouseDistrict19.csv\n"
     ]
    },
    {
     "name": "stderr",
     "output_type": "stream",
     "text": [
      "c:\\Users\\mahsh\\Documents\\GitHub\\bugs-in-democracy\\EIL summer 2023\\rcv_dimensionality.py:170: RuntimeWarning: divide by zero encountered in true_divide\n",
      "  distance = 1 / np.sqrt(freq_upper_triangle)\n",
      "C:\\Users\\mahsh\\AppData\\Local\\Temp\\ipykernel_19644\\1022061950.py:45: FutureWarning: The frame.append method is deprecated and will be removed from pandas in a future version. Use pandas.concat instead.\n",
      "  winners = winners.append({'filename': filename, 'diff': diff, \"interval gamma\": gamma, \"#candidates\": len(candidates), 'IRV1': irv1, 'Condorcet1': condorcet1,\n"
     ]
    },
    {
     "name": "stdout",
     "output_type": "stream",
     "text": [
      "15   Alaska_11082022_HouseDistrict2.csv\n"
     ]
    },
    {
     "name": "stderr",
     "output_type": "stream",
     "text": [
      "c:\\Users\\mahsh\\Documents\\GitHub\\bugs-in-democracy\\EIL summer 2023\\rcv_dimensionality.py:170: RuntimeWarning: divide by zero encountered in true_divide\n",
      "  distance = 1 / np.sqrt(freq_upper_triangle)\n",
      "C:\\Users\\mahsh\\AppData\\Local\\Temp\\ipykernel_19644\\1022061950.py:45: FutureWarning: The frame.append method is deprecated and will be removed from pandas in a future version. Use pandas.concat instead.\n",
      "  winners = winners.append({'filename': filename, 'diff': diff, \"interval gamma\": gamma, \"#candidates\": len(candidates), 'IRV1': irv1, 'Condorcet1': condorcet1,\n"
     ]
    },
    {
     "name": "stdout",
     "output_type": "stream",
     "text": [
      "16   Alaska_11082022_HouseDistrict20.csv\n"
     ]
    },
    {
     "name": "stderr",
     "output_type": "stream",
     "text": [
      "c:\\Users\\mahsh\\Documents\\GitHub\\bugs-in-democracy\\EIL summer 2023\\rcv_dimensionality.py:170: RuntimeWarning: divide by zero encountered in true_divide\n",
      "  distance = 1 / np.sqrt(freq_upper_triangle)\n",
      "C:\\Users\\mahsh\\AppData\\Local\\Temp\\ipykernel_19644\\1022061950.py:45: FutureWarning: The frame.append method is deprecated and will be removed from pandas in a future version. Use pandas.concat instead.\n",
      "  winners = winners.append({'filename': filename, 'diff': diff, \"interval gamma\": gamma, \"#candidates\": len(candidates), 'IRV1': irv1, 'Condorcet1': condorcet1,\n"
     ]
    },
    {
     "name": "stdout",
     "output_type": "stream",
     "text": [
      "17   Alaska_11082022_HouseDistrict21.csv\n"
     ]
    },
    {
     "name": "stderr",
     "output_type": "stream",
     "text": [
      "c:\\Users\\mahsh\\Documents\\GitHub\\bugs-in-democracy\\EIL summer 2023\\rcv_dimensionality.py:170: RuntimeWarning: divide by zero encountered in true_divide\n",
      "  distance = 1 / np.sqrt(freq_upper_triangle)\n",
      "C:\\Users\\mahsh\\AppData\\Local\\Temp\\ipykernel_19644\\1022061950.py:45: FutureWarning: The frame.append method is deprecated and will be removed from pandas in a future version. Use pandas.concat instead.\n",
      "  winners = winners.append({'filename': filename, 'diff': diff, \"interval gamma\": gamma, \"#candidates\": len(candidates), 'IRV1': irv1, 'Condorcet1': condorcet1,\n"
     ]
    },
    {
     "name": "stdout",
     "output_type": "stream",
     "text": [
      "18   Alaska_11082022_HouseDistrict22.csv\n"
     ]
    },
    {
     "name": "stderr",
     "output_type": "stream",
     "text": [
      "c:\\Users\\mahsh\\Documents\\GitHub\\bugs-in-democracy\\EIL summer 2023\\rcv_dimensionality.py:170: RuntimeWarning: divide by zero encountered in true_divide\n",
      "  distance = 1 / np.sqrt(freq_upper_triangle)\n",
      "C:\\Users\\mahsh\\AppData\\Local\\Temp\\ipykernel_19644\\1022061950.py:45: FutureWarning: The frame.append method is deprecated and will be removed from pandas in a future version. Use pandas.concat instead.\n",
      "  winners = winners.append({'filename': filename, 'diff': diff, \"interval gamma\": gamma, \"#candidates\": len(candidates), 'IRV1': irv1, 'Condorcet1': condorcet1,\n"
     ]
    },
    {
     "name": "stdout",
     "output_type": "stream",
     "text": [
      "19   Alaska_11082022_HouseDistrict23.csv\n"
     ]
    },
    {
     "name": "stderr",
     "output_type": "stream",
     "text": [
      "c:\\Users\\mahsh\\Documents\\GitHub\\bugs-in-democracy\\EIL summer 2023\\rcv_dimensionality.py:170: RuntimeWarning: divide by zero encountered in true_divide\n",
      "  distance = 1 / np.sqrt(freq_upper_triangle)\n",
      "C:\\Users\\mahsh\\AppData\\Local\\Temp\\ipykernel_19644\\1022061950.py:45: FutureWarning: The frame.append method is deprecated and will be removed from pandas in a future version. Use pandas.concat instead.\n",
      "  winners = winners.append({'filename': filename, 'diff': diff, \"interval gamma\": gamma, \"#candidates\": len(candidates), 'IRV1': irv1, 'Condorcet1': condorcet1,\n"
     ]
    },
    {
     "name": "stdout",
     "output_type": "stream",
     "text": [
      "20   Alaska_11082022_HouseDistrict24.csv\n"
     ]
    },
    {
     "name": "stderr",
     "output_type": "stream",
     "text": [
      "c:\\Users\\mahsh\\Documents\\GitHub\\bugs-in-democracy\\EIL summer 2023\\rcv_dimensionality.py:170: RuntimeWarning: divide by zero encountered in true_divide\n",
      "  distance = 1 / np.sqrt(freq_upper_triangle)\n",
      "C:\\Users\\mahsh\\AppData\\Local\\Temp\\ipykernel_19644\\1022061950.py:45: FutureWarning: The frame.append method is deprecated and will be removed from pandas in a future version. Use pandas.concat instead.\n",
      "  winners = winners.append({'filename': filename, 'diff': diff, \"interval gamma\": gamma, \"#candidates\": len(candidates), 'IRV1': irv1, 'Condorcet1': condorcet1,\n"
     ]
    },
    {
     "name": "stdout",
     "output_type": "stream",
     "text": [
      "21   Alaska_11082022_HouseDistrict25.csv\n"
     ]
    },
    {
     "name": "stderr",
     "output_type": "stream",
     "text": [
      "c:\\Users\\mahsh\\Documents\\GitHub\\bugs-in-democracy\\EIL summer 2023\\rcv_dimensionality.py:170: RuntimeWarning: divide by zero encountered in true_divide\n",
      "  distance = 1 / np.sqrt(freq_upper_triangle)\n",
      "C:\\Users\\mahsh\\AppData\\Local\\Temp\\ipykernel_19644\\1022061950.py:45: FutureWarning: The frame.append method is deprecated and will be removed from pandas in a future version. Use pandas.concat instead.\n",
      "  winners = winners.append({'filename': filename, 'diff': diff, \"interval gamma\": gamma, \"#candidates\": len(candidates), 'IRV1': irv1, 'Condorcet1': condorcet1,\n"
     ]
    },
    {
     "name": "stdout",
     "output_type": "stream",
     "text": [
      "22   Alaska_11082022_HouseDistrict26.csv\n"
     ]
    },
    {
     "name": "stderr",
     "output_type": "stream",
     "text": [
      "c:\\Users\\mahsh\\Documents\\GitHub\\bugs-in-democracy\\EIL summer 2023\\rcv_dimensionality.py:170: RuntimeWarning: divide by zero encountered in true_divide\n",
      "  distance = 1 / np.sqrt(freq_upper_triangle)\n",
      "C:\\Users\\mahsh\\AppData\\Local\\Temp\\ipykernel_19644\\1022061950.py:45: FutureWarning: The frame.append method is deprecated and will be removed from pandas in a future version. Use pandas.concat instead.\n",
      "  winners = winners.append({'filename': filename, 'diff': diff, \"interval gamma\": gamma, \"#candidates\": len(candidates), 'IRV1': irv1, 'Condorcet1': condorcet1,\n"
     ]
    },
    {
     "name": "stdout",
     "output_type": "stream",
     "text": [
      "23   Alaska_11082022_HouseDistrict27.csv\n"
     ]
    },
    {
     "name": "stderr",
     "output_type": "stream",
     "text": [
      "c:\\Users\\mahsh\\Documents\\GitHub\\bugs-in-democracy\\EIL summer 2023\\rcv_dimensionality.py:170: RuntimeWarning: divide by zero encountered in true_divide\n",
      "  distance = 1 / np.sqrt(freq_upper_triangle)\n",
      "C:\\Users\\mahsh\\AppData\\Local\\Temp\\ipykernel_19644\\1022061950.py:45: FutureWarning: The frame.append method is deprecated and will be removed from pandas in a future version. Use pandas.concat instead.\n",
      "  winners = winners.append({'filename': filename, 'diff': diff, \"interval gamma\": gamma, \"#candidates\": len(candidates), 'IRV1': irv1, 'Condorcet1': condorcet1,\n"
     ]
    },
    {
     "name": "stdout",
     "output_type": "stream",
     "text": [
      "24   Alaska_11082022_HouseDistrict28.csv\n"
     ]
    },
    {
     "name": "stderr",
     "output_type": "stream",
     "text": [
      "c:\\Users\\mahsh\\Documents\\GitHub\\bugs-in-democracy\\EIL summer 2023\\rcv_dimensionality.py:170: RuntimeWarning: divide by zero encountered in true_divide\n",
      "  distance = 1 / np.sqrt(freq_upper_triangle)\n",
      "C:\\Users\\mahsh\\AppData\\Local\\Temp\\ipykernel_19644\\1022061950.py:45: FutureWarning: The frame.append method is deprecated and will be removed from pandas in a future version. Use pandas.concat instead.\n",
      "  winners = winners.append({'filename': filename, 'diff': diff, \"interval gamma\": gamma, \"#candidates\": len(candidates), 'IRV1': irv1, 'Condorcet1': condorcet1,\n"
     ]
    },
    {
     "name": "stdout",
     "output_type": "stream",
     "text": [
      "25   Alaska_11082022_HouseDistrict29.csv\n"
     ]
    },
    {
     "name": "stderr",
     "output_type": "stream",
     "text": [
      "c:\\Users\\mahsh\\Documents\\GitHub\\bugs-in-democracy\\EIL summer 2023\\rcv_dimensionality.py:170: RuntimeWarning: divide by zero encountered in true_divide\n",
      "  distance = 1 / np.sqrt(freq_upper_triangle)\n",
      "C:\\Users\\mahsh\\AppData\\Local\\Temp\\ipykernel_19644\\1022061950.py:45: FutureWarning: The frame.append method is deprecated and will be removed from pandas in a future version. Use pandas.concat instead.\n",
      "  winners = winners.append({'filename': filename, 'diff': diff, \"interval gamma\": gamma, \"#candidates\": len(candidates), 'IRV1': irv1, 'Condorcet1': condorcet1,\n"
     ]
    },
    {
     "name": "stdout",
     "output_type": "stream",
     "text": [
      "26   Alaska_11082022_HouseDistrict3.csv\n",
      "Alaska_11082022_HouseDistrict3.csv  threw an exception\n",
      "27   Alaska_11082022_HouseDistrict30.csv\n"
     ]
    },
    {
     "name": "stderr",
     "output_type": "stream",
     "text": [
      "c:\\Users\\mahsh\\Documents\\GitHub\\bugs-in-democracy\\EIL summer 2023\\rcv_dimensionality.py:170: RuntimeWarning: divide by zero encountered in true_divide\n",
      "  distance = 1 / np.sqrt(freq_upper_triangle)\n",
      "C:\\Users\\mahsh\\AppData\\Local\\Temp\\ipykernel_19644\\1022061950.py:45: FutureWarning: The frame.append method is deprecated and will be removed from pandas in a future version. Use pandas.concat instead.\n",
      "  winners = winners.append({'filename': filename, 'diff': diff, \"interval gamma\": gamma, \"#candidates\": len(candidates), 'IRV1': irv1, 'Condorcet1': condorcet1,\n"
     ]
    },
    {
     "name": "stdout",
     "output_type": "stream",
     "text": [
      "28   Alaska_11082022_HouseDistrict31.csv\n"
     ]
    },
    {
     "name": "stderr",
     "output_type": "stream",
     "text": [
      "c:\\Users\\mahsh\\Documents\\GitHub\\bugs-in-democracy\\EIL summer 2023\\rcv_dimensionality.py:170: RuntimeWarning: divide by zero encountered in true_divide\n",
      "  distance = 1 / np.sqrt(freq_upper_triangle)\n",
      "C:\\Users\\mahsh\\AppData\\Local\\Temp\\ipykernel_19644\\1022061950.py:45: FutureWarning: The frame.append method is deprecated and will be removed from pandas in a future version. Use pandas.concat instead.\n",
      "  winners = winners.append({'filename': filename, 'diff': diff, \"interval gamma\": gamma, \"#candidates\": len(candidates), 'IRV1': irv1, 'Condorcet1': condorcet1,\n"
     ]
    },
    {
     "name": "stdout",
     "output_type": "stream",
     "text": [
      "29   Alaska_11082022_HouseDistrict32.csv\n"
     ]
    },
    {
     "name": "stderr",
     "output_type": "stream",
     "text": [
      "c:\\Users\\mahsh\\Documents\\GitHub\\bugs-in-democracy\\EIL summer 2023\\rcv_dimensionality.py:170: RuntimeWarning: divide by zero encountered in true_divide\n",
      "  distance = 1 / np.sqrt(freq_upper_triangle)\n",
      "C:\\Users\\mahsh\\AppData\\Local\\Temp\\ipykernel_19644\\1022061950.py:45: FutureWarning: The frame.append method is deprecated and will be removed from pandas in a future version. Use pandas.concat instead.\n",
      "  winners = winners.append({'filename': filename, 'diff': diff, \"interval gamma\": gamma, \"#candidates\": len(candidates), 'IRV1': irv1, 'Condorcet1': condorcet1,\n"
     ]
    },
    {
     "name": "stdout",
     "output_type": "stream",
     "text": [
      "30   Alaska_11082022_HouseDistrict33.csv\n",
      "Alaska_11082022_HouseDistrict33.csv  threw an exception\n",
      "31   Alaska_11082022_HouseDistrict34.csv\n"
     ]
    },
    {
     "name": "stderr",
     "output_type": "stream",
     "text": [
      "c:\\Users\\mahsh\\Documents\\GitHub\\bugs-in-democracy\\EIL summer 2023\\rcv_dimensionality.py:170: RuntimeWarning: divide by zero encountered in true_divide\n",
      "  distance = 1 / np.sqrt(freq_upper_triangle)\n",
      "C:\\Users\\mahsh\\AppData\\Local\\Temp\\ipykernel_19644\\1022061950.py:45: FutureWarning: The frame.append method is deprecated and will be removed from pandas in a future version. Use pandas.concat instead.\n",
      "  winners = winners.append({'filename': filename, 'diff': diff, \"interval gamma\": gamma, \"#candidates\": len(candidates), 'IRV1': irv1, 'Condorcet1': condorcet1,\n"
     ]
    },
    {
     "name": "stdout",
     "output_type": "stream",
     "text": [
      "32   Alaska_11082022_HouseDistrict35.csv\n"
     ]
    },
    {
     "name": "stderr",
     "output_type": "stream",
     "text": [
      "c:\\Users\\mahsh\\Documents\\GitHub\\bugs-in-democracy\\EIL summer 2023\\rcv_dimensionality.py:170: RuntimeWarning: divide by zero encountered in true_divide\n",
      "  distance = 1 / np.sqrt(freq_upper_triangle)\n",
      "C:\\Users\\mahsh\\AppData\\Local\\Temp\\ipykernel_19644\\1022061950.py:45: FutureWarning: The frame.append method is deprecated and will be removed from pandas in a future version. Use pandas.concat instead.\n",
      "  winners = winners.append({'filename': filename, 'diff': diff, \"interval gamma\": gamma, \"#candidates\": len(candidates), 'IRV1': irv1, 'Condorcet1': condorcet1,\n"
     ]
    },
    {
     "name": "stdout",
     "output_type": "stream",
     "text": [
      "33   Alaska_11082022_HouseDistrict36.csv\n"
     ]
    },
    {
     "name": "stderr",
     "output_type": "stream",
     "text": [
      "c:\\Users\\mahsh\\Documents\\GitHub\\bugs-in-democracy\\EIL summer 2023\\rcv_dimensionality.py:170: RuntimeWarning: divide by zero encountered in true_divide\n",
      "  distance = 1 / np.sqrt(freq_upper_triangle)\n",
      "C:\\Users\\mahsh\\AppData\\Local\\Temp\\ipykernel_19644\\1022061950.py:45: FutureWarning: The frame.append method is deprecated and will be removed from pandas in a future version. Use pandas.concat instead.\n",
      "  winners = winners.append({'filename': filename, 'diff': diff, \"interval gamma\": gamma, \"#candidates\": len(candidates), 'IRV1': irv1, 'Condorcet1': condorcet1,\n"
     ]
    },
    {
     "name": "stdout",
     "output_type": "stream",
     "text": [
      "34   Alaska_11082022_HouseDistrict37.csv\n",
      "Alaska_11082022_HouseDistrict37.csv  threw an exception\n",
      "35   Alaska_11082022_HouseDistrict38.csv\n",
      "Alaska_11082022_HouseDistrict38.csv  threw an exception\n",
      "36   Alaska_11082022_HouseDistrict39.csv\n"
     ]
    },
    {
     "name": "stderr",
     "output_type": "stream",
     "text": [
      "c:\\Users\\mahsh\\Documents\\GitHub\\bugs-in-democracy\\EIL summer 2023\\rcv_dimensionality.py:170: RuntimeWarning: divide by zero encountered in true_divide\n",
      "  distance = 1 / np.sqrt(freq_upper_triangle)\n",
      "C:\\Users\\mahsh\\AppData\\Local\\Temp\\ipykernel_19644\\1022061950.py:45: FutureWarning: The frame.append method is deprecated and will be removed from pandas in a future version. Use pandas.concat instead.\n",
      "  winners = winners.append({'filename': filename, 'diff': diff, \"interval gamma\": gamma, \"#candidates\": len(candidates), 'IRV1': irv1, 'Condorcet1': condorcet1,\n"
     ]
    },
    {
     "name": "stdout",
     "output_type": "stream",
     "text": [
      "37   Alaska_11082022_HouseDistrict4.csv\n"
     ]
    },
    {
     "name": "stderr",
     "output_type": "stream",
     "text": [
      "c:\\Users\\mahsh\\Documents\\GitHub\\bugs-in-democracy\\EIL summer 2023\\rcv_dimensionality.py:170: RuntimeWarning: divide by zero encountered in true_divide\n",
      "  distance = 1 / np.sqrt(freq_upper_triangle)\n",
      "C:\\Users\\mahsh\\AppData\\Local\\Temp\\ipykernel_19644\\1022061950.py:45: FutureWarning: The frame.append method is deprecated and will be removed from pandas in a future version. Use pandas.concat instead.\n",
      "  winners = winners.append({'filename': filename, 'diff': diff, \"interval gamma\": gamma, \"#candidates\": len(candidates), 'IRV1': irv1, 'Condorcet1': condorcet1,\n"
     ]
    },
    {
     "name": "stdout",
     "output_type": "stream",
     "text": [
      "38   Alaska_11082022_HouseDistrict40.csv\n",
      "Alaska_11082022_HouseDistrict40.csv  threw an exception\n",
      "39   Alaska_11082022_HouseDistrict5.csv\n"
     ]
    },
    {
     "name": "stderr",
     "output_type": "stream",
     "text": [
      "c:\\Users\\mahsh\\Documents\\GitHub\\bugs-in-democracy\\EIL summer 2023\\rcv_dimensionality.py:170: RuntimeWarning: divide by zero encountered in true_divide\n",
      "  distance = 1 / np.sqrt(freq_upper_triangle)\n",
      "C:\\Users\\mahsh\\AppData\\Local\\Temp\\ipykernel_19644\\1022061950.py:45: FutureWarning: The frame.append method is deprecated and will be removed from pandas in a future version. Use pandas.concat instead.\n",
      "  winners = winners.append({'filename': filename, 'diff': diff, \"interval gamma\": gamma, \"#candidates\": len(candidates), 'IRV1': irv1, 'Condorcet1': condorcet1,\n"
     ]
    },
    {
     "name": "stdout",
     "output_type": "stream",
     "text": [
      "40   Alaska_11082022_HouseDistrict6.csv\n"
     ]
    },
    {
     "name": "stderr",
     "output_type": "stream",
     "text": [
      "c:\\Users\\mahsh\\Documents\\GitHub\\bugs-in-democracy\\EIL summer 2023\\rcv_dimensionality.py:170: RuntimeWarning: divide by zero encountered in true_divide\n",
      "  distance = 1 / np.sqrt(freq_upper_triangle)\n",
      "C:\\Users\\mahsh\\AppData\\Local\\Temp\\ipykernel_19644\\1022061950.py:45: FutureWarning: The frame.append method is deprecated and will be removed from pandas in a future version. Use pandas.concat instead.\n",
      "  winners = winners.append({'filename': filename, 'diff': diff, \"interval gamma\": gamma, \"#candidates\": len(candidates), 'IRV1': irv1, 'Condorcet1': condorcet1,\n"
     ]
    },
    {
     "name": "stdout",
     "output_type": "stream",
     "text": [
      "41   Alaska_11082022_HouseDistrict7.csv\n"
     ]
    },
    {
     "name": "stderr",
     "output_type": "stream",
     "text": [
      "c:\\Users\\mahsh\\Documents\\GitHub\\bugs-in-democracy\\EIL summer 2023\\rcv_dimensionality.py:170: RuntimeWarning: divide by zero encountered in true_divide\n",
      "  distance = 1 / np.sqrt(freq_upper_triangle)\n",
      "C:\\Users\\mahsh\\AppData\\Local\\Temp\\ipykernel_19644\\1022061950.py:45: FutureWarning: The frame.append method is deprecated and will be removed from pandas in a future version. Use pandas.concat instead.\n",
      "  winners = winners.append({'filename': filename, 'diff': diff, \"interval gamma\": gamma, \"#candidates\": len(candidates), 'IRV1': irv1, 'Condorcet1': condorcet1,\n"
     ]
    },
    {
     "name": "stdout",
     "output_type": "stream",
     "text": [
      "42   Alaska_11082022_HouseDistrict8.csv\n",
      "Alaska_11082022_HouseDistrict8.csv  threw an exception\n",
      "43   Alaska_11082022_HouseDistrict9.csv\n"
     ]
    },
    {
     "name": "stderr",
     "output_type": "stream",
     "text": [
      "c:\\Users\\mahsh\\Documents\\GitHub\\bugs-in-democracy\\EIL summer 2023\\rcv_dimensionality.py:170: RuntimeWarning: divide by zero encountered in true_divide\n",
      "  distance = 1 / np.sqrt(freq_upper_triangle)\n",
      "C:\\Users\\mahsh\\AppData\\Local\\Temp\\ipykernel_19644\\1022061950.py:45: FutureWarning: The frame.append method is deprecated and will be removed from pandas in a future version. Use pandas.concat instead.\n",
      "  winners = winners.append({'filename': filename, 'diff': diff, \"interval gamma\": gamma, \"#candidates\": len(candidates), 'IRV1': irv1, 'Condorcet1': condorcet1,\n"
     ]
    },
    {
     "name": "stdout",
     "output_type": "stream",
     "text": [
      "44   Alaska_11082022_SenateDistrictA.csv\n"
     ]
    },
    {
     "name": "stderr",
     "output_type": "stream",
     "text": [
      "c:\\Users\\mahsh\\Documents\\GitHub\\bugs-in-democracy\\EIL summer 2023\\rcv_dimensionality.py:170: RuntimeWarning: divide by zero encountered in true_divide\n",
      "  distance = 1 / np.sqrt(freq_upper_triangle)\n",
      "C:\\Users\\mahsh\\AppData\\Local\\Temp\\ipykernel_19644\\1022061950.py:45: FutureWarning: The frame.append method is deprecated and will be removed from pandas in a future version. Use pandas.concat instead.\n",
      "  winners = winners.append({'filename': filename, 'diff': diff, \"interval gamma\": gamma, \"#candidates\": len(candidates), 'IRV1': irv1, 'Condorcet1': condorcet1,\n"
     ]
    },
    {
     "name": "stdout",
     "output_type": "stream",
     "text": [
      "45   Alaska_11082022_SenateDistrictB.csv\n",
      "Alaska_11082022_SenateDistrictB.csv  threw an exception\n",
      "46   Alaska_11082022_SenateDistrictC.csv\n"
     ]
    },
    {
     "name": "stderr",
     "output_type": "stream",
     "text": [
      "c:\\Users\\mahsh\\Documents\\GitHub\\bugs-in-democracy\\EIL summer 2023\\rcv_dimensionality.py:170: RuntimeWarning: divide by zero encountered in true_divide\n",
      "  distance = 1 / np.sqrt(freq_upper_triangle)\n",
      "C:\\Users\\mahsh\\AppData\\Local\\Temp\\ipykernel_19644\\1022061950.py:45: FutureWarning: The frame.append method is deprecated and will be removed from pandas in a future version. Use pandas.concat instead.\n",
      "  winners = winners.append({'filename': filename, 'diff': diff, \"interval gamma\": gamma, \"#candidates\": len(candidates), 'IRV1': irv1, 'Condorcet1': condorcet1,\n"
     ]
    },
    {
     "name": "stdout",
     "output_type": "stream",
     "text": [
      "47   Alaska_11082022_SenateDistrictD.csv\n"
     ]
    },
    {
     "name": "stderr",
     "output_type": "stream",
     "text": [
      "c:\\Users\\mahsh\\Documents\\GitHub\\bugs-in-democracy\\EIL summer 2023\\rcv_dimensionality.py:170: RuntimeWarning: divide by zero encountered in true_divide\n",
      "  distance = 1 / np.sqrt(freq_upper_triangle)\n",
      "C:\\Users\\mahsh\\AppData\\Local\\Temp\\ipykernel_19644\\1022061950.py:45: FutureWarning: The frame.append method is deprecated and will be removed from pandas in a future version. Use pandas.concat instead.\n",
      "  winners = winners.append({'filename': filename, 'diff': diff, \"interval gamma\": gamma, \"#candidates\": len(candidates), 'IRV1': irv1, 'Condorcet1': condorcet1,\n"
     ]
    },
    {
     "name": "stdout",
     "output_type": "stream",
     "text": [
      "48   Alaska_11082022_SenateDistrictE.csv\n"
     ]
    },
    {
     "name": "stderr",
     "output_type": "stream",
     "text": [
      "c:\\Users\\mahsh\\Documents\\GitHub\\bugs-in-democracy\\EIL summer 2023\\rcv_dimensionality.py:170: RuntimeWarning: divide by zero encountered in true_divide\n",
      "  distance = 1 / np.sqrt(freq_upper_triangle)\n",
      "C:\\Users\\mahsh\\AppData\\Local\\Temp\\ipykernel_19644\\1022061950.py:45: FutureWarning: The frame.append method is deprecated and will be removed from pandas in a future version. Use pandas.concat instead.\n",
      "  winners = winners.append({'filename': filename, 'diff': diff, \"interval gamma\": gamma, \"#candidates\": len(candidates), 'IRV1': irv1, 'Condorcet1': condorcet1,\n"
     ]
    },
    {
     "name": "stdout",
     "output_type": "stream",
     "text": [
      "49   Alaska_11082022_SenateDistrictF.csv\n"
     ]
    },
    {
     "name": "stderr",
     "output_type": "stream",
     "text": [
      "c:\\Users\\mahsh\\Documents\\GitHub\\bugs-in-democracy\\EIL summer 2023\\rcv_dimensionality.py:170: RuntimeWarning: divide by zero encountered in true_divide\n",
      "  distance = 1 / np.sqrt(freq_upper_triangle)\n",
      "C:\\Users\\mahsh\\AppData\\Local\\Temp\\ipykernel_19644\\1022061950.py:45: FutureWarning: The frame.append method is deprecated and will be removed from pandas in a future version. Use pandas.concat instead.\n",
      "  winners = winners.append({'filename': filename, 'diff': diff, \"interval gamma\": gamma, \"#candidates\": len(candidates), 'IRV1': irv1, 'Condorcet1': condorcet1,\n",
      "c:\\Users\\mahsh\\Documents\\GitHub\\bugs-in-democracy\\EIL summer 2023\\rcv_dimensionality.py:170: RuntimeWarning: divide by zero encountered in true_divide\n",
      "  distance = 1 / np.sqrt(freq_upper_triangle)\n",
      "C:\\Users\\mahsh\\AppData\\Local\\Temp\\ipykernel_19644\\1022061950.py:45: FutureWarning: The frame.append method is deprecated and will be removed from pandas in a future version. Use pandas.concat instead.\n",
      "  winners = winners.append({'filename': filename, 'diff': diff, \"interval gamma\": gamma, \"#candidates\": len(candidates), 'IRV1': irv1, 'Condorcet1': condorcet1,\n"
     ]
    },
    {
     "name": "stdout",
     "output_type": "stream",
     "text": [
      "51   Alaska_11082022_SenateDistrictH.csv\n"
     ]
    },
    {
     "name": "stderr",
     "output_type": "stream",
     "text": [
      "c:\\Users\\mahsh\\Documents\\GitHub\\bugs-in-democracy\\EIL summer 2023\\rcv_dimensionality.py:170: RuntimeWarning: divide by zero encountered in true_divide\n",
      "  distance = 1 / np.sqrt(freq_upper_triangle)\n",
      "C:\\Users\\mahsh\\AppData\\Local\\Temp\\ipykernel_19644\\1022061950.py:45: FutureWarning: The frame.append method is deprecated and will be removed from pandas in a future version. Use pandas.concat instead.\n",
      "  winners = winners.append({'filename': filename, 'diff': diff, \"interval gamma\": gamma, \"#candidates\": len(candidates), 'IRV1': irv1, 'Condorcet1': condorcet1,\n"
     ]
    },
    {
     "name": "stdout",
     "output_type": "stream",
     "text": [
      "52   Alaska_11082022_SenateDistrictI.csv\n"
     ]
    },
    {
     "name": "stderr",
     "output_type": "stream",
     "text": [
      "c:\\Users\\mahsh\\Documents\\GitHub\\bugs-in-democracy\\EIL summer 2023\\rcv_dimensionality.py:170: RuntimeWarning: divide by zero encountered in true_divide\n",
      "  distance = 1 / np.sqrt(freq_upper_triangle)\n",
      "C:\\Users\\mahsh\\AppData\\Local\\Temp\\ipykernel_19644\\1022061950.py:45: FutureWarning: The frame.append method is deprecated and will be removed from pandas in a future version. Use pandas.concat instead.\n",
      "  winners = winners.append({'filename': filename, 'diff': diff, \"interval gamma\": gamma, \"#candidates\": len(candidates), 'IRV1': irv1, 'Condorcet1': condorcet1,\n"
     ]
    },
    {
     "name": "stdout",
     "output_type": "stream",
     "text": [
      "53   Alaska_11082022_SenateDistrictJ.csv\n"
     ]
    },
    {
     "name": "stderr",
     "output_type": "stream",
     "text": [
      "c:\\Users\\mahsh\\Documents\\GitHub\\bugs-in-democracy\\EIL summer 2023\\rcv_dimensionality.py:170: RuntimeWarning: divide by zero encountered in true_divide\n",
      "  distance = 1 / np.sqrt(freq_upper_triangle)\n",
      "C:\\Users\\mahsh\\AppData\\Local\\Temp\\ipykernel_19644\\1022061950.py:45: FutureWarning: The frame.append method is deprecated and will be removed from pandas in a future version. Use pandas.concat instead.\n",
      "  winners = winners.append({'filename': filename, 'diff': diff, \"interval gamma\": gamma, \"#candidates\": len(candidates), 'IRV1': irv1, 'Condorcet1': condorcet1,\n"
     ]
    },
    {
     "name": "stdout",
     "output_type": "stream",
     "text": [
      "54   Alaska_11082022_SenateDistrictK.csv\n"
     ]
    },
    {
     "name": "stderr",
     "output_type": "stream",
     "text": [
      "c:\\Users\\mahsh\\Documents\\GitHub\\bugs-in-democracy\\EIL summer 2023\\rcv_dimensionality.py:170: RuntimeWarning: divide by zero encountered in true_divide\n",
      "  distance = 1 / np.sqrt(freq_upper_triangle)\n",
      "C:\\Users\\mahsh\\AppData\\Local\\Temp\\ipykernel_19644\\1022061950.py:45: FutureWarning: The frame.append method is deprecated and will be removed from pandas in a future version. Use pandas.concat instead.\n",
      "  winners = winners.append({'filename': filename, 'diff': diff, \"interval gamma\": gamma, \"#candidates\": len(candidates), 'IRV1': irv1, 'Condorcet1': condorcet1,\n"
     ]
    },
    {
     "name": "stdout",
     "output_type": "stream",
     "text": [
      "55   Alaska_11082022_SenateDistrictL.csv\n"
     ]
    },
    {
     "name": "stderr",
     "output_type": "stream",
     "text": [
      "c:\\Users\\mahsh\\Documents\\GitHub\\bugs-in-democracy\\EIL summer 2023\\rcv_dimensionality.py:170: RuntimeWarning: divide by zero encountered in true_divide\n",
      "  distance = 1 / np.sqrt(freq_upper_triangle)\n",
      "C:\\Users\\mahsh\\AppData\\Local\\Temp\\ipykernel_19644\\1022061950.py:45: FutureWarning: The frame.append method is deprecated and will be removed from pandas in a future version. Use pandas.concat instead.\n",
      "  winners = winners.append({'filename': filename, 'diff': diff, \"interval gamma\": gamma, \"#candidates\": len(candidates), 'IRV1': irv1, 'Condorcet1': condorcet1,\n"
     ]
    },
    {
     "name": "stdout",
     "output_type": "stream",
     "text": [
      "56   Alaska_11082022_SenateDistrictM.csv\n"
     ]
    },
    {
     "name": "stderr",
     "output_type": "stream",
     "text": [
      "c:\\Users\\mahsh\\Documents\\GitHub\\bugs-in-democracy\\EIL summer 2023\\rcv_dimensionality.py:170: RuntimeWarning: divide by zero encountered in true_divide\n",
      "  distance = 1 / np.sqrt(freq_upper_triangle)\n",
      "C:\\Users\\mahsh\\AppData\\Local\\Temp\\ipykernel_19644\\1022061950.py:45: FutureWarning: The frame.append method is deprecated and will be removed from pandas in a future version. Use pandas.concat instead.\n",
      "  winners = winners.append({'filename': filename, 'diff': diff, \"interval gamma\": gamma, \"#candidates\": len(candidates), 'IRV1': irv1, 'Condorcet1': condorcet1,\n"
     ]
    },
    {
     "name": "stdout",
     "output_type": "stream",
     "text": [
      "57   Alaska_11082022_SenateDistrictN.csv\n"
     ]
    },
    {
     "name": "stderr",
     "output_type": "stream",
     "text": [
      "c:\\Users\\mahsh\\Documents\\GitHub\\bugs-in-democracy\\EIL summer 2023\\rcv_dimensionality.py:170: RuntimeWarning: divide by zero encountered in true_divide\n",
      "  distance = 1 / np.sqrt(freq_upper_triangle)\n",
      "C:\\Users\\mahsh\\AppData\\Local\\Temp\\ipykernel_19644\\1022061950.py:45: FutureWarning: The frame.append method is deprecated and will be removed from pandas in a future version. Use pandas.concat instead.\n",
      "  winners = winners.append({'filename': filename, 'diff': diff, \"interval gamma\": gamma, \"#candidates\": len(candidates), 'IRV1': irv1, 'Condorcet1': condorcet1,\n"
     ]
    },
    {
     "name": "stdout",
     "output_type": "stream",
     "text": [
      "58   Alaska_11082022_SenateDistrictO.csv\n"
     ]
    },
    {
     "name": "stderr",
     "output_type": "stream",
     "text": [
      "c:\\Users\\mahsh\\Documents\\GitHub\\bugs-in-democracy\\EIL summer 2023\\rcv_dimensionality.py:170: RuntimeWarning: divide by zero encountered in true_divide\n",
      "  distance = 1 / np.sqrt(freq_upper_triangle)\n",
      "C:\\Users\\mahsh\\AppData\\Local\\Temp\\ipykernel_19644\\1022061950.py:45: FutureWarning: The frame.append method is deprecated and will be removed from pandas in a future version. Use pandas.concat instead.\n",
      "  winners = winners.append({'filename': filename, 'diff': diff, \"interval gamma\": gamma, \"#candidates\": len(candidates), 'IRV1': irv1, 'Condorcet1': condorcet1,\n"
     ]
    },
    {
     "name": "stdout",
     "output_type": "stream",
     "text": [
      "59   Alaska_11082022_SenateDistrictP.csv\n"
     ]
    },
    {
     "name": "stderr",
     "output_type": "stream",
     "text": [
      "c:\\Users\\mahsh\\Documents\\GitHub\\bugs-in-democracy\\EIL summer 2023\\rcv_dimensionality.py:170: RuntimeWarning: divide by zero encountered in true_divide\n",
      "  distance = 1 / np.sqrt(freq_upper_triangle)\n",
      "C:\\Users\\mahsh\\AppData\\Local\\Temp\\ipykernel_19644\\1022061950.py:45: FutureWarning: The frame.append method is deprecated and will be removed from pandas in a future version. Use pandas.concat instead.\n",
      "  winners = winners.append({'filename': filename, 'diff': diff, \"interval gamma\": gamma, \"#candidates\": len(candidates), 'IRV1': irv1, 'Condorcet1': condorcet1,\n"
     ]
    },
    {
     "name": "stdout",
     "output_type": "stream",
     "text": [
      "60   Alaska_11082022_SenateDistrictQ.csv\n"
     ]
    },
    {
     "name": "stderr",
     "output_type": "stream",
     "text": [
      "c:\\Users\\mahsh\\Documents\\GitHub\\bugs-in-democracy\\EIL summer 2023\\rcv_dimensionality.py:170: RuntimeWarning: divide by zero encountered in true_divide\n",
      "  distance = 1 / np.sqrt(freq_upper_triangle)\n",
      "C:\\Users\\mahsh\\AppData\\Local\\Temp\\ipykernel_19644\\1022061950.py:45: FutureWarning: The frame.append method is deprecated and will be removed from pandas in a future version. Use pandas.concat instead.\n",
      "  winners = winners.append({'filename': filename, 'diff': diff, \"interval gamma\": gamma, \"#candidates\": len(candidates), 'IRV1': irv1, 'Condorcet1': condorcet1,\n"
     ]
    },
    {
     "name": "stdout",
     "output_type": "stream",
     "text": [
      "61   Alaska_11082022_SenateDistrictR.csv\n"
     ]
    },
    {
     "name": "stderr",
     "output_type": "stream",
     "text": [
      "c:\\Users\\mahsh\\Documents\\GitHub\\bugs-in-democracy\\EIL summer 2023\\rcv_dimensionality.py:170: RuntimeWarning: divide by zero encountered in true_divide\n",
      "  distance = 1 / np.sqrt(freq_upper_triangle)\n",
      "C:\\Users\\mahsh\\AppData\\Local\\Temp\\ipykernel_19644\\1022061950.py:45: FutureWarning: The frame.append method is deprecated and will be removed from pandas in a future version. Use pandas.concat instead.\n",
      "  winners = winners.append({'filename': filename, 'diff': diff, \"interval gamma\": gamma, \"#candidates\": len(candidates), 'IRV1': irv1, 'Condorcet1': condorcet1,\n"
     ]
    },
    {
     "name": "stdout",
     "output_type": "stream",
     "text": [
      "62   Alaska_11082022_SenateDistrictS.csv\n"
     ]
    },
    {
     "name": "stderr",
     "output_type": "stream",
     "text": [
      "c:\\Users\\mahsh\\Documents\\GitHub\\bugs-in-democracy\\EIL summer 2023\\rcv_dimensionality.py:170: RuntimeWarning: divide by zero encountered in true_divide\n",
      "  distance = 1 / np.sqrt(freq_upper_triangle)\n",
      "C:\\Users\\mahsh\\AppData\\Local\\Temp\\ipykernel_19644\\1022061950.py:45: FutureWarning: The frame.append method is deprecated and will be removed from pandas in a future version. Use pandas.concat instead.\n",
      "  winners = winners.append({'filename': filename, 'diff': diff, \"interval gamma\": gamma, \"#candidates\": len(candidates), 'IRV1': irv1, 'Condorcet1': condorcet1,\n"
     ]
    },
    {
     "name": "stdout",
     "output_type": "stream",
     "text": [
      "63   Alaska_11082022_USRepresentative.csv\n"
     ]
    },
    {
     "name": "stderr",
     "output_type": "stream",
     "text": [
      "c:\\Users\\mahsh\\Documents\\GitHub\\bugs-in-democracy\\EIL summer 2023\\rcv_dimensionality.py:170: RuntimeWarning: divide by zero encountered in true_divide\n",
      "  distance = 1 / np.sqrt(freq_upper_triangle)\n",
      "C:\\Users\\mahsh\\AppData\\Local\\Temp\\ipykernel_19644\\1022061950.py:45: FutureWarning: The frame.append method is deprecated and will be removed from pandas in a future version. Use pandas.concat instead.\n",
      "  winners = winners.append({'filename': filename, 'diff': diff, \"interval gamma\": gamma, \"#candidates\": len(candidates), 'IRV1': irv1, 'Condorcet1': condorcet1,\n"
     ]
    },
    {
     "name": "stdout",
     "output_type": "stream",
     "text": [
      "64   Alaska_11082022_USSenator.csv\n"
     ]
    },
    {
     "name": "stderr",
     "output_type": "stream",
     "text": [
      "c:\\Users\\mahsh\\Documents\\GitHub\\bugs-in-democracy\\EIL summer 2023\\rcv_dimensionality.py:170: RuntimeWarning: divide by zero encountered in true_divide\n",
      "  distance = 1 / np.sqrt(freq_upper_triangle)\n",
      "C:\\Users\\mahsh\\AppData\\Local\\Temp\\ipykernel_19644\\1022061950.py:45: FutureWarning: The frame.append method is deprecated and will be removed from pandas in a future version. Use pandas.concat instead.\n",
      "  winners = winners.append({'filename': filename, 'diff': diff, \"interval gamma\": gamma, \"#candidates\": len(candidates), 'IRV1': irv1, 'Condorcet1': condorcet1,\n"
     ]
    },
    {
     "name": "stdout",
     "output_type": "stream",
     "text": [
      "65   Albany_11082022_BoardofEducation.csv\n"
     ]
    },
    {
     "name": "stderr",
     "output_type": "stream",
     "text": [
      "c:\\Users\\mahsh\\Documents\\GitHub\\bugs-in-democracy\\EIL summer 2023\\rcv_dimensionality.py:170: RuntimeWarning: divide by zero encountered in true_divide\n",
      "  distance = 1 / np.sqrt(freq_upper_triangle)\n",
      "C:\\Users\\mahsh\\AppData\\Local\\Temp\\ipykernel_19644\\1022061950.py:45: FutureWarning: The frame.append method is deprecated and will be removed from pandas in a future version. Use pandas.concat instead.\n",
      "  winners = winners.append({'filename': filename, 'diff': diff, \"interval gamma\": gamma, \"#candidates\": len(candidates), 'IRV1': irv1, 'Condorcet1': condorcet1,\n"
     ]
    },
    {
     "name": "stdout",
     "output_type": "stream",
     "text": [
      "66   Albany_11082022_CityCouncil.csv\n"
     ]
    },
    {
     "name": "stderr",
     "output_type": "stream",
     "text": [
      "c:\\Users\\mahsh\\Documents\\GitHub\\bugs-in-democracy\\EIL summer 2023\\rcv_dimensionality.py:170: RuntimeWarning: divide by zero encountered in true_divide\n",
      "  distance = 1 / np.sqrt(freq_upper_triangle)\n",
      "C:\\Users\\mahsh\\AppData\\Local\\Temp\\ipykernel_19644\\1022061950.py:45: FutureWarning: The frame.append method is deprecated and will be removed from pandas in a future version. Use pandas.concat instead.\n",
      "  winners = winners.append({'filename': filename, 'diff': diff, \"interval gamma\": gamma, \"#candidates\": len(candidates), 'IRV1': irv1, 'Condorcet1': condorcet1,\n"
     ]
    },
    {
     "name": "stdout",
     "output_type": "stream",
     "text": [
      "67   Albany_11082022_FAKECityCouncil.csv\n"
     ]
    },
    {
     "name": "stderr",
     "output_type": "stream",
     "text": [
      "c:\\Users\\mahsh\\Documents\\GitHub\\bugs-in-democracy\\EIL summer 2023\\rcv_dimensionality.py:170: RuntimeWarning: divide by zero encountered in true_divide\n",
      "  distance = 1 / np.sqrt(freq_upper_triangle)\n",
      "C:\\Users\\mahsh\\AppData\\Local\\Temp\\ipykernel_19644\\1022061950.py:45: FutureWarning: The frame.append method is deprecated and will be removed from pandas in a future version. Use pandas.concat instead.\n",
      "  winners = winners.append({'filename': filename, 'diff': diff, \"interval gamma\": gamma, \"#candidates\": len(candidates), 'IRV1': irv1, 'Condorcet1': condorcet1,\n"
     ]
    },
    {
     "name": "stdout",
     "output_type": "stream",
     "text": [
      "68   Berkeley_03072017_CityCouncilDistrict4.csv\n"
     ]
    },
    {
     "name": "stderr",
     "output_type": "stream",
     "text": [
      "c:\\Users\\mahsh\\Documents\\GitHub\\bugs-in-democracy\\EIL summer 2023\\rcv_dimensionality.py:170: RuntimeWarning: divide by zero encountered in true_divide\n",
      "  distance = 1 / np.sqrt(freq_upper_triangle)\n",
      "C:\\Users\\mahsh\\AppData\\Local\\Temp\\ipykernel_19644\\1022061950.py:45: FutureWarning: The frame.append method is deprecated and will be removed from pandas in a future version. Use pandas.concat instead.\n",
      "  winners = winners.append({'filename': filename, 'diff': diff, \"interval gamma\": gamma, \"#candidates\": len(candidates), 'IRV1': irv1, 'Condorcet1': condorcet1,\n"
     ]
    },
    {
     "name": "stdout",
     "output_type": "stream",
     "text": [
      "69   Berkeley_11022010_CityAuditor.csv\n",
      "Berkeley_11022010_CityAuditor.csv  threw an exception\n",
      "70   Berkeley_11022010_CityCouncilDistrict1.csv\n"
     ]
    },
    {
     "name": "stderr",
     "output_type": "stream",
     "text": [
      "c:\\Users\\mahsh\\Documents\\GitHub\\bugs-in-democracy\\EIL summer 2023\\rcv_dimensionality.py:170: RuntimeWarning: divide by zero encountered in true_divide\n",
      "  distance = 1 / np.sqrt(freq_upper_triangle)\n",
      "C:\\Users\\mahsh\\AppData\\Local\\Temp\\ipykernel_19644\\1022061950.py:45: FutureWarning: The frame.append method is deprecated and will be removed from pandas in a future version. Use pandas.concat instead.\n",
      "  winners = winners.append({'filename': filename, 'diff': diff, \"interval gamma\": gamma, \"#candidates\": len(candidates), 'IRV1': irv1, 'Condorcet1': condorcet1,\n"
     ]
    },
    {
     "name": "stdout",
     "output_type": "stream",
     "text": [
      "71   Berkeley_11022010_CityCouncilDistrict4.csv\n"
     ]
    },
    {
     "name": "stderr",
     "output_type": "stream",
     "text": [
      "c:\\Users\\mahsh\\Documents\\GitHub\\bugs-in-democracy\\EIL summer 2023\\rcv_dimensionality.py:170: RuntimeWarning: divide by zero encountered in true_divide\n",
      "  distance = 1 / np.sqrt(freq_upper_triangle)\n",
      "C:\\Users\\mahsh\\AppData\\Local\\Temp\\ipykernel_19644\\1022061950.py:45: FutureWarning: The frame.append method is deprecated and will be removed from pandas in a future version. Use pandas.concat instead.\n",
      "  winners = winners.append({'filename': filename, 'diff': diff, \"interval gamma\": gamma, \"#candidates\": len(candidates), 'IRV1': irv1, 'Condorcet1': condorcet1,\n"
     ]
    },
    {
     "name": "stdout",
     "output_type": "stream",
     "text": [
      "72   Berkeley_11022010_CityCouncilDistrict7.csv\n"
     ]
    },
    {
     "name": "stderr",
     "output_type": "stream",
     "text": [
      "c:\\Users\\mahsh\\Documents\\GitHub\\bugs-in-democracy\\EIL summer 2023\\rcv_dimensionality.py:170: RuntimeWarning: divide by zero encountered in true_divide\n",
      "  distance = 1 / np.sqrt(freq_upper_triangle)\n",
      "C:\\Users\\mahsh\\AppData\\Local\\Temp\\ipykernel_19644\\1022061950.py:45: FutureWarning: The frame.append method is deprecated and will be removed from pandas in a future version. Use pandas.concat instead.\n",
      "  winners = winners.append({'filename': filename, 'diff': diff, \"interval gamma\": gamma, \"#candidates\": len(candidates), 'IRV1': irv1, 'Condorcet1': condorcet1,\n"
     ]
    },
    {
     "name": "stdout",
     "output_type": "stream",
     "text": [
      "73   Berkeley_11022010_CityCouncilDistrict8.csv\n"
     ]
    },
    {
     "name": "stderr",
     "output_type": "stream",
     "text": [
      "c:\\Users\\mahsh\\Documents\\GitHub\\bugs-in-democracy\\EIL summer 2023\\rcv_dimensionality.py:170: RuntimeWarning: divide by zero encountered in true_divide\n",
      "  distance = 1 / np.sqrt(freq_upper_triangle)\n",
      "C:\\Users\\mahsh\\AppData\\Local\\Temp\\ipykernel_19644\\1022061950.py:45: FutureWarning: The frame.append method is deprecated and will be removed from pandas in a future version. Use pandas.concat instead.\n",
      "  winners = winners.append({'filename': filename, 'diff': diff, \"interval gamma\": gamma, \"#candidates\": len(candidates), 'IRV1': irv1, 'Condorcet1': condorcet1,\n"
     ]
    },
    {
     "name": "stdout",
     "output_type": "stream",
     "text": [
      "74   Berkeley_11032020_MayorBerkeleyRCV.csv\n"
     ]
    },
    {
     "name": "stderr",
     "output_type": "stream",
     "text": [
      "c:\\Users\\mahsh\\Documents\\GitHub\\bugs-in-democracy\\EIL summer 2023\\rcv_dimensionality.py:170: RuntimeWarning: divide by zero encountered in true_divide\n",
      "  distance = 1 / np.sqrt(freq_upper_triangle)\n",
      "C:\\Users\\mahsh\\AppData\\Local\\Temp\\ipykernel_19644\\1022061950.py:45: FutureWarning: The frame.append method is deprecated and will be removed from pandas in a future version. Use pandas.concat instead.\n",
      "  winners = winners.append({'filename': filename, 'diff': diff, \"interval gamma\": gamma, \"#candidates\": len(candidates), 'IRV1': irv1, 'Condorcet1': condorcet1,\n"
     ]
    },
    {
     "name": "stdout",
     "output_type": "stream",
     "text": [
      "75   Berkeley_11032020_MemberCityCouncilDist2BerkeleyRCV.csv\n"
     ]
    },
    {
     "name": "stderr",
     "output_type": "stream",
     "text": [
      "c:\\Users\\mahsh\\Documents\\GitHub\\bugs-in-democracy\\EIL summer 2023\\rcv_dimensionality.py:170: RuntimeWarning: divide by zero encountered in true_divide\n",
      "  distance = 1 / np.sqrt(freq_upper_triangle)\n",
      "C:\\Users\\mahsh\\AppData\\Local\\Temp\\ipykernel_19644\\1022061950.py:45: FutureWarning: The frame.append method is deprecated and will be removed from pandas in a future version. Use pandas.concat instead.\n",
      "  winners = winners.append({'filename': filename, 'diff': diff, \"interval gamma\": gamma, \"#candidates\": len(candidates), 'IRV1': irv1, 'Condorcet1': condorcet1,\n"
     ]
    },
    {
     "name": "stdout",
     "output_type": "stream",
     "text": [
      "76   Berkeley_11032020_MemberCityCouncilDist3BerkeleyRCV.csv\n"
     ]
    },
    {
     "name": "stderr",
     "output_type": "stream",
     "text": [
      "c:\\Users\\mahsh\\Documents\\GitHub\\bugs-in-democracy\\EIL summer 2023\\rcv_dimensionality.py:170: RuntimeWarning: divide by zero encountered in true_divide\n",
      "  distance = 1 / np.sqrt(freq_upper_triangle)\n",
      "C:\\Users\\mahsh\\AppData\\Local\\Temp\\ipykernel_19644\\1022061950.py:45: FutureWarning: The frame.append method is deprecated and will be removed from pandas in a future version. Use pandas.concat instead.\n",
      "  winners = winners.append({'filename': filename, 'diff': diff, \"interval gamma\": gamma, \"#candidates\": len(candidates), 'IRV1': irv1, 'Condorcet1': condorcet1,\n"
     ]
    },
    {
     "name": "stdout",
     "output_type": "stream",
     "text": [
      "77   Berkeley_11032020_MemberCityCouncilDist5BerkeleyRCV.csv\n"
     ]
    },
    {
     "name": "stderr",
     "output_type": "stream",
     "text": [
      "c:\\Users\\mahsh\\Documents\\GitHub\\bugs-in-democracy\\EIL summer 2023\\rcv_dimensionality.py:170: RuntimeWarning: divide by zero encountered in true_divide\n",
      "  distance = 1 / np.sqrt(freq_upper_triangle)\n",
      "C:\\Users\\mahsh\\AppData\\Local\\Temp\\ipykernel_19644\\1022061950.py:45: FutureWarning: The frame.append method is deprecated and will be removed from pandas in a future version. Use pandas.concat instead.\n",
      "  winners = winners.append({'filename': filename, 'diff': diff, \"interval gamma\": gamma, \"#candidates\": len(candidates), 'IRV1': irv1, 'Condorcet1': condorcet1,\n"
     ]
    },
    {
     "name": "stdout",
     "output_type": "stream",
     "text": [
      "78   Berkeley_11032020_MemberCityCouncilDist6BerkeleyRCV.csv\n"
     ]
    },
    {
     "name": "stderr",
     "output_type": "stream",
     "text": [
      "c:\\Users\\mahsh\\Documents\\GitHub\\bugs-in-democracy\\EIL summer 2023\\rcv_dimensionality.py:170: RuntimeWarning: divide by zero encountered in true_divide\n",
      "  distance = 1 / np.sqrt(freq_upper_triangle)\n",
      "C:\\Users\\mahsh\\AppData\\Local\\Temp\\ipykernel_19644\\1022061950.py:45: FutureWarning: The frame.append method is deprecated and will be removed from pandas in a future version. Use pandas.concat instead.\n",
      "  winners = winners.append({'filename': filename, 'diff': diff, \"interval gamma\": gamma, \"#candidates\": len(candidates), 'IRV1': irv1, 'Condorcet1': condorcet1,\n"
     ]
    },
    {
     "name": "stdout",
     "output_type": "stream",
     "text": [
      "79   Berkeley_11042014_CityAuditor.csv\n",
      "Berkeley_11042014_CityAuditor.csv  threw an exception\n",
      "80   Berkeley_11042014_CityCouncilDistrict1.csv\n"
     ]
    },
    {
     "name": "stderr",
     "output_type": "stream",
     "text": [
      "c:\\Users\\mahsh\\Documents\\GitHub\\bugs-in-democracy\\EIL summer 2023\\rcv_dimensionality.py:170: RuntimeWarning: divide by zero encountered in true_divide\n",
      "  distance = 1 / np.sqrt(freq_upper_triangle)\n",
      "C:\\Users\\mahsh\\AppData\\Local\\Temp\\ipykernel_19644\\1022061950.py:45: FutureWarning: The frame.append method is deprecated and will be removed from pandas in a future version. Use pandas.concat instead.\n",
      "  winners = winners.append({'filename': filename, 'diff': diff, \"interval gamma\": gamma, \"#candidates\": len(candidates), 'IRV1': irv1, 'Condorcet1': condorcet1,\n"
     ]
    },
    {
     "name": "stdout",
     "output_type": "stream",
     "text": [
      "81   Berkeley_11042014_CityCouncilDistrict7.csv\n"
     ]
    },
    {
     "name": "stderr",
     "output_type": "stream",
     "text": [
      "c:\\Users\\mahsh\\Documents\\GitHub\\bugs-in-democracy\\EIL summer 2023\\rcv_dimensionality.py:170: RuntimeWarning: divide by zero encountered in true_divide\n",
      "  distance = 1 / np.sqrt(freq_upper_triangle)\n",
      "C:\\Users\\mahsh\\AppData\\Local\\Temp\\ipykernel_19644\\1022061950.py:45: FutureWarning: The frame.append method is deprecated and will be removed from pandas in a future version. Use pandas.concat instead.\n",
      "  winners = winners.append({'filename': filename, 'diff': diff, \"interval gamma\": gamma, \"#candidates\": len(candidates), 'IRV1': irv1, 'Condorcet1': condorcet1,\n"
     ]
    },
    {
     "name": "stdout",
     "output_type": "stream",
     "text": [
      "82   Berkeley_11042014_CityCouncilDistrict8.csv\n"
     ]
    },
    {
     "name": "stderr",
     "output_type": "stream",
     "text": [
      "c:\\Users\\mahsh\\Documents\\GitHub\\bugs-in-democracy\\EIL summer 2023\\rcv_dimensionality.py:170: RuntimeWarning: divide by zero encountered in true_divide\n",
      "  distance = 1 / np.sqrt(freq_upper_triangle)\n",
      "C:\\Users\\mahsh\\AppData\\Local\\Temp\\ipykernel_19644\\1022061950.py:45: FutureWarning: The frame.append method is deprecated and will be removed from pandas in a future version. Use pandas.concat instead.\n",
      "  winners = winners.append({'filename': filename, 'diff': diff, \"interval gamma\": gamma, \"#candidates\": len(candidates), 'IRV1': irv1, 'Condorcet1': condorcet1,\n"
     ]
    },
    {
     "name": "stdout",
     "output_type": "stream",
     "text": [
      "83   Berkeley_11062012_CityCouncilDistrict2.csv\n"
     ]
    },
    {
     "name": "stderr",
     "output_type": "stream",
     "text": [
      "c:\\Users\\mahsh\\Documents\\GitHub\\bugs-in-democracy\\EIL summer 2023\\rcv_dimensionality.py:170: RuntimeWarning: divide by zero encountered in true_divide\n",
      "  distance = 1 / np.sqrt(freq_upper_triangle)\n",
      "C:\\Users\\mahsh\\AppData\\Local\\Temp\\ipykernel_19644\\1022061950.py:45: FutureWarning: The frame.append method is deprecated and will be removed from pandas in a future version. Use pandas.concat instead.\n",
      "  winners = winners.append({'filename': filename, 'diff': diff, \"interval gamma\": gamma, \"#candidates\": len(candidates), 'IRV1': irv1, 'Condorcet1': condorcet1,\n"
     ]
    },
    {
     "name": "stdout",
     "output_type": "stream",
     "text": [
      "84   Berkeley_11062012_CityCouncilDistrict3.csv\n"
     ]
    },
    {
     "name": "stderr",
     "output_type": "stream",
     "text": [
      "c:\\Users\\mahsh\\Documents\\GitHub\\bugs-in-democracy\\EIL summer 2023\\rcv_dimensionality.py:170: RuntimeWarning: divide by zero encountered in true_divide\n",
      "  distance = 1 / np.sqrt(freq_upper_triangle)\n",
      "C:\\Users\\mahsh\\AppData\\Local\\Temp\\ipykernel_19644\\1022061950.py:45: FutureWarning: The frame.append method is deprecated and will be removed from pandas in a future version. Use pandas.concat instead.\n",
      "  winners = winners.append({'filename': filename, 'diff': diff, \"interval gamma\": gamma, \"#candidates\": len(candidates), 'IRV1': irv1, 'Condorcet1': condorcet1,\n"
     ]
    },
    {
     "name": "stdout",
     "output_type": "stream",
     "text": [
      "85   Berkeley_11062012_CityCouncilDistrict5.csv\n"
     ]
    },
    {
     "name": "stderr",
     "output_type": "stream",
     "text": [
      "c:\\Users\\mahsh\\Documents\\GitHub\\bugs-in-democracy\\EIL summer 2023\\rcv_dimensionality.py:170: RuntimeWarning: divide by zero encountered in true_divide\n",
      "  distance = 1 / np.sqrt(freq_upper_triangle)\n",
      "C:\\Users\\mahsh\\AppData\\Local\\Temp\\ipykernel_19644\\1022061950.py:45: FutureWarning: The frame.append method is deprecated and will be removed from pandas in a future version. Use pandas.concat instead.\n",
      "  winners = winners.append({'filename': filename, 'diff': diff, \"interval gamma\": gamma, \"#candidates\": len(candidates), 'IRV1': irv1, 'Condorcet1': condorcet1,\n"
     ]
    },
    {
     "name": "stdout",
     "output_type": "stream",
     "text": [
      "86   Berkeley_11062012_CityCouncilDistrict6.csv\n"
     ]
    },
    {
     "name": "stderr",
     "output_type": "stream",
     "text": [
      "c:\\Users\\mahsh\\Documents\\GitHub\\bugs-in-democracy\\EIL summer 2023\\rcv_dimensionality.py:170: RuntimeWarning: divide by zero encountered in true_divide\n",
      "  distance = 1 / np.sqrt(freq_upper_triangle)\n",
      "C:\\Users\\mahsh\\AppData\\Local\\Temp\\ipykernel_19644\\1022061950.py:45: FutureWarning: The frame.append method is deprecated and will be removed from pandas in a future version. Use pandas.concat instead.\n",
      "  winners = winners.append({'filename': filename, 'diff': diff, \"interval gamma\": gamma, \"#candidates\": len(candidates), 'IRV1': irv1, 'Condorcet1': condorcet1,\n"
     ]
    },
    {
     "name": "stdout",
     "output_type": "stream",
     "text": [
      "87   Berkeley_11062012_Mayor.csv\n"
     ]
    },
    {
     "name": "stderr",
     "output_type": "stream",
     "text": [
      "c:\\Users\\mahsh\\Documents\\GitHub\\bugs-in-democracy\\EIL summer 2023\\rcv_dimensionality.py:170: RuntimeWarning: divide by zero encountered in true_divide\n",
      "  distance = 1 / np.sqrt(freq_upper_triangle)\n",
      "C:\\Users\\mahsh\\AppData\\Local\\Temp\\ipykernel_19644\\1022061950.py:45: FutureWarning: The frame.append method is deprecated and will be removed from pandas in a future version. Use pandas.concat instead.\n",
      "  winners = winners.append({'filename': filename, 'diff': diff, \"interval gamma\": gamma, \"#candidates\": len(candidates), 'IRV1': irv1, 'Condorcet1': condorcet1,\n"
     ]
    },
    {
     "name": "stdout",
     "output_type": "stream",
     "text": [
      "88   Berkeley_11062018_CityAuditor.csv\n"
     ]
    },
    {
     "name": "stderr",
     "output_type": "stream",
     "text": [
      "c:\\Users\\mahsh\\Documents\\GitHub\\bugs-in-democracy\\EIL summer 2023\\rcv_dimensionality.py:170: RuntimeWarning: divide by zero encountered in true_divide\n",
      "  distance = 1 / np.sqrt(freq_upper_triangle)\n",
      "C:\\Users\\mahsh\\AppData\\Local\\Temp\\ipykernel_19644\\1022061950.py:45: FutureWarning: The frame.append method is deprecated and will be removed from pandas in a future version. Use pandas.concat instead.\n",
      "  winners = winners.append({'filename': filename, 'diff': diff, \"interval gamma\": gamma, \"#candidates\": len(candidates), 'IRV1': irv1, 'Condorcet1': condorcet1,\n"
     ]
    },
    {
     "name": "stdout",
     "output_type": "stream",
     "text": [
      "89   Berkeley_11062018_CityCouncilDistrict1.csv\n"
     ]
    },
    {
     "name": "stderr",
     "output_type": "stream",
     "text": [
      "c:\\Users\\mahsh\\Documents\\GitHub\\bugs-in-democracy\\EIL summer 2023\\rcv_dimensionality.py:170: RuntimeWarning: divide by zero encountered in true_divide\n",
      "  distance = 1 / np.sqrt(freq_upper_triangle)\n",
      "C:\\Users\\mahsh\\AppData\\Local\\Temp\\ipykernel_19644\\1022061950.py:45: FutureWarning: The frame.append method is deprecated and will be removed from pandas in a future version. Use pandas.concat instead.\n",
      "  winners = winners.append({'filename': filename, 'diff': diff, \"interval gamma\": gamma, \"#candidates\": len(candidates), 'IRV1': irv1, 'Condorcet1': condorcet1,\n"
     ]
    },
    {
     "name": "stdout",
     "output_type": "stream",
     "text": [
      "90   Berkeley_11062018_CityCouncilDistrict4.csv\n"
     ]
    },
    {
     "name": "stderr",
     "output_type": "stream",
     "text": [
      "c:\\Users\\mahsh\\Documents\\GitHub\\bugs-in-democracy\\EIL summer 2023\\rcv_dimensionality.py:170: RuntimeWarning: divide by zero encountered in true_divide\n",
      "  distance = 1 / np.sqrt(freq_upper_triangle)\n",
      "C:\\Users\\mahsh\\AppData\\Local\\Temp\\ipykernel_19644\\1022061950.py:45: FutureWarning: The frame.append method is deprecated and will be removed from pandas in a future version. Use pandas.concat instead.\n",
      "  winners = winners.append({'filename': filename, 'diff': diff, \"interval gamma\": gamma, \"#candidates\": len(candidates), 'IRV1': irv1, 'Condorcet1': condorcet1,\n"
     ]
    },
    {
     "name": "stdout",
     "output_type": "stream",
     "text": [
      "91   Berkeley_11062018_CityCouncilDistrict7.csv\n"
     ]
    },
    {
     "name": "stderr",
     "output_type": "stream",
     "text": [
      "c:\\Users\\mahsh\\Documents\\GitHub\\bugs-in-democracy\\EIL summer 2023\\rcv_dimensionality.py:170: RuntimeWarning: divide by zero encountered in true_divide\n",
      "  distance = 1 / np.sqrt(freq_upper_triangle)\n",
      "C:\\Users\\mahsh\\AppData\\Local\\Temp\\ipykernel_19644\\1022061950.py:45: FutureWarning: The frame.append method is deprecated and will be removed from pandas in a future version. Use pandas.concat instead.\n",
      "  winners = winners.append({'filename': filename, 'diff': diff, \"interval gamma\": gamma, \"#candidates\": len(candidates), 'IRV1': irv1, 'Condorcet1': condorcet1,\n"
     ]
    },
    {
     "name": "stdout",
     "output_type": "stream",
     "text": [
      "92   Berkeley_11062018_CityCouncilDistrict8.csv\n"
     ]
    },
    {
     "name": "stderr",
     "output_type": "stream",
     "text": [
      "c:\\Users\\mahsh\\Documents\\GitHub\\bugs-in-democracy\\EIL summer 2023\\rcv_dimensionality.py:170: RuntimeWarning: divide by zero encountered in true_divide\n",
      "  distance = 1 / np.sqrt(freq_upper_triangle)\n",
      "C:\\Users\\mahsh\\AppData\\Local\\Temp\\ipykernel_19644\\1022061950.py:45: FutureWarning: The frame.append method is deprecated and will be removed from pandas in a future version. Use pandas.concat instead.\n",
      "  winners = winners.append({'filename': filename, 'diff': diff, \"interval gamma\": gamma, \"#candidates\": len(candidates), 'IRV1': irv1, 'Condorcet1': condorcet1,\n"
     ]
    },
    {
     "name": "stdout",
     "output_type": "stream",
     "text": [
      "93   Berkeley_11082016_CityCouncilDistrict2.csv\n"
     ]
    },
    {
     "name": "stderr",
     "output_type": "stream",
     "text": [
      "c:\\Users\\mahsh\\Documents\\GitHub\\bugs-in-democracy\\EIL summer 2023\\rcv_dimensionality.py:170: RuntimeWarning: divide by zero encountered in true_divide\n",
      "  distance = 1 / np.sqrt(freq_upper_triangle)\n",
      "C:\\Users\\mahsh\\AppData\\Local\\Temp\\ipykernel_19644\\1022061950.py:45: FutureWarning: The frame.append method is deprecated and will be removed from pandas in a future version. Use pandas.concat instead.\n",
      "  winners = winners.append({'filename': filename, 'diff': diff, \"interval gamma\": gamma, \"#candidates\": len(candidates), 'IRV1': irv1, 'Condorcet1': condorcet1,\n"
     ]
    },
    {
     "name": "stdout",
     "output_type": "stream",
     "text": [
      "94   Berkeley_11082016_CityCouncilDistrict3.csv\n"
     ]
    },
    {
     "name": "stderr",
     "output_type": "stream",
     "text": [
      "c:\\Users\\mahsh\\Documents\\GitHub\\bugs-in-democracy\\EIL summer 2023\\rcv_dimensionality.py:170: RuntimeWarning: divide by zero encountered in true_divide\n",
      "  distance = 1 / np.sqrt(freq_upper_triangle)\n",
      "C:\\Users\\mahsh\\AppData\\Local\\Temp\\ipykernel_19644\\1022061950.py:45: FutureWarning: The frame.append method is deprecated and will be removed from pandas in a future version. Use pandas.concat instead.\n",
      "  winners = winners.append({'filename': filename, 'diff': diff, \"interval gamma\": gamma, \"#candidates\": len(candidates), 'IRV1': irv1, 'Condorcet1': condorcet1,\n"
     ]
    },
    {
     "name": "stdout",
     "output_type": "stream",
     "text": [
      "95   Berkeley_11082016_CityCouncilDistrict5.csv\n"
     ]
    },
    {
     "name": "stderr",
     "output_type": "stream",
     "text": [
      "c:\\Users\\mahsh\\Documents\\GitHub\\bugs-in-democracy\\EIL summer 2023\\rcv_dimensionality.py:170: RuntimeWarning: divide by zero encountered in true_divide\n",
      "  distance = 1 / np.sqrt(freq_upper_triangle)\n",
      "C:\\Users\\mahsh\\AppData\\Local\\Temp\\ipykernel_19644\\1022061950.py:45: FutureWarning: The frame.append method is deprecated and will be removed from pandas in a future version. Use pandas.concat instead.\n",
      "  winners = winners.append({'filename': filename, 'diff': diff, \"interval gamma\": gamma, \"#candidates\": len(candidates), 'IRV1': irv1, 'Condorcet1': condorcet1,\n"
     ]
    },
    {
     "name": "stdout",
     "output_type": "stream",
     "text": [
      "96   Berkeley_11082016_CityCouncilDistrict6.csv\n"
     ]
    },
    {
     "name": "stderr",
     "output_type": "stream",
     "text": [
      "c:\\Users\\mahsh\\Documents\\GitHub\\bugs-in-democracy\\EIL summer 2023\\rcv_dimensionality.py:170: RuntimeWarning: divide by zero encountered in true_divide\n",
      "  distance = 1 / np.sqrt(freq_upper_triangle)\n",
      "C:\\Users\\mahsh\\AppData\\Local\\Temp\\ipykernel_19644\\1022061950.py:45: FutureWarning: The frame.append method is deprecated and will be removed from pandas in a future version. Use pandas.concat instead.\n",
      "  winners = winners.append({'filename': filename, 'diff': diff, \"interval gamma\": gamma, \"#candidates\": len(candidates), 'IRV1': irv1, 'Condorcet1': condorcet1,\n"
     ]
    },
    {
     "name": "stdout",
     "output_type": "stream",
     "text": [
      "97   Berkeley_11082016_Mayor.csv\n"
     ]
    },
    {
     "name": "stderr",
     "output_type": "stream",
     "text": [
      "c:\\Users\\mahsh\\Documents\\GitHub\\bugs-in-democracy\\EIL summer 2023\\rcv_dimensionality.py:170: RuntimeWarning: divide by zero encountered in true_divide\n",
      "  distance = 1 / np.sqrt(freq_upper_triangle)\n",
      "C:\\Users\\mahsh\\AppData\\Local\\Temp\\ipykernel_19644\\1022061950.py:45: FutureWarning: The frame.append method is deprecated and will be removed from pandas in a future version. Use pandas.concat instead.\n",
      "  winners = winners.append({'filename': filename, 'diff': diff, \"interval gamma\": gamma, \"#candidates\": len(candidates), 'IRV1': irv1, 'Condorcet1': condorcet1,\n"
     ]
    },
    {
     "name": "stdout",
     "output_type": "stream",
     "text": [
      "98   Burlington_03032009_Mayor.csv\n"
     ]
    },
    {
     "name": "stderr",
     "output_type": "stream",
     "text": [
      "c:\\Users\\mahsh\\Documents\\GitHub\\bugs-in-democracy\\EIL summer 2023\\rcv_dimensionality.py:170: RuntimeWarning: divide by zero encountered in true_divide\n",
      "  distance = 1 / np.sqrt(freq_upper_triangle)\n",
      "C:\\Users\\mahsh\\AppData\\Local\\Temp\\ipykernel_19644\\1022061950.py:45: FutureWarning: The frame.append method is deprecated and will be removed from pandas in a future version. Use pandas.concat instead.\n",
      "  winners = winners.append({'filename': filename, 'diff': diff, \"interval gamma\": gamma, \"#candidates\": len(candidates), 'IRV1': irv1, 'Condorcet1': condorcet1,\n"
     ]
    },
    {
     "name": "stdout",
     "output_type": "stream",
     "text": [
      "99   Burlington_03072006_Mayor.csv\n"
     ]
    },
    {
     "name": "stderr",
     "output_type": "stream",
     "text": [
      "c:\\Users\\mahsh\\Documents\\GitHub\\bugs-in-democracy\\EIL summer 2023\\rcv_dimensionality.py:170: RuntimeWarning: divide by zero encountered in true_divide\n",
      "  distance = 1 / np.sqrt(freq_upper_triangle)\n",
      "C:\\Users\\mahsh\\AppData\\Local\\Temp\\ipykernel_19644\\1022061950.py:45: FutureWarning: The frame.append method is deprecated and will be removed from pandas in a future version. Use pandas.concat instead.\n",
      "  winners = winners.append({'filename': filename, 'diff': diff, \"interval gamma\": gamma, \"#candidates\": len(candidates), 'IRV1': irv1, 'Condorcet1': condorcet1,\n",
      "c:\\Users\\mahsh\\Documents\\GitHub\\bugs-in-democracy\\EIL summer 2023\\rcv_dimensionality.py:170: RuntimeWarning: divide by zero encountered in true_divide\n",
      "  distance = 1 / np.sqrt(freq_upper_triangle)\n",
      "C:\\Users\\mahsh\\AppData\\Local\\Temp\\ipykernel_19644\\1022061950.py:45: FutureWarning: The frame.append method is deprecated and will be removed from pandas in a future version. Use pandas.concat instead.\n",
      "  winners = winners.append({'filename': filename, 'diff': diff, \"interval gamma\": gamma, \"#candidates\": len(candidates), 'IRV1': irv1, 'Condorcet1': condorcet1,\n"
     ]
    },
    {
     "name": "stdout",
     "output_type": "stream",
     "text": [
      "101   Burlington_03072023_CityCouncilEastDistrict.csv\n"
     ]
    },
    {
     "name": "stderr",
     "output_type": "stream",
     "text": [
      "c:\\Users\\mahsh\\Documents\\GitHub\\bugs-in-democracy\\EIL summer 2023\\rcv_dimensionality.py:170: RuntimeWarning: divide by zero encountered in true_divide\n",
      "  distance = 1 / np.sqrt(freq_upper_triangle)\n",
      "C:\\Users\\mahsh\\AppData\\Local\\Temp\\ipykernel_19644\\1022061950.py:45: FutureWarning: The frame.append method is deprecated and will be removed from pandas in a future version. Use pandas.concat instead.\n",
      "  winners = winners.append({'filename': filename, 'diff': diff, \"interval gamma\": gamma, \"#candidates\": len(candidates), 'IRV1': irv1, 'Condorcet1': condorcet1,\n"
     ]
    },
    {
     "name": "stdout",
     "output_type": "stream",
     "text": [
      "102   Burlington_03072023_CityCouncilNorthDistrict.csv\n",
      "Burlington_03072023_CityCouncilNorthDistrict.csv  threw an exception\n",
      "103   Burlington_03072023_CityCouncilSouthDistrict.csv\n"
     ]
    },
    {
     "name": "stderr",
     "output_type": "stream",
     "text": [
      "c:\\Users\\mahsh\\Documents\\GitHub\\bugs-in-democracy\\EIL summer 2023\\rcv_dimensionality.py:170: RuntimeWarning: divide by zero encountered in true_divide\n",
      "  distance = 1 / np.sqrt(freq_upper_triangle)\n",
      "C:\\Users\\mahsh\\AppData\\Local\\Temp\\ipykernel_19644\\1022061950.py:45: FutureWarning: The frame.append method is deprecated and will be removed from pandas in a future version. Use pandas.concat instead.\n",
      "  winners = winners.append({'filename': filename, 'diff': diff, \"interval gamma\": gamma, \"#candidates\": len(candidates), 'IRV1': irv1, 'Condorcet1': condorcet1,\n"
     ]
    },
    {
     "name": "stdout",
     "output_type": "stream",
     "text": [
      "104   Corvallis_11082022_CityCouncilWard9.csv\n"
     ]
    },
    {
     "name": "stderr",
     "output_type": "stream",
     "text": [
      "c:\\Users\\mahsh\\Documents\\GitHub\\bugs-in-democracy\\EIL summer 2023\\rcv_dimensionality.py:170: RuntimeWarning: divide by zero encountered in true_divide\n",
      "  distance = 1 / np.sqrt(freq_upper_triangle)\n",
      "C:\\Users\\mahsh\\AppData\\Local\\Temp\\ipykernel_19644\\1022061950.py:45: FutureWarning: The frame.append method is deprecated and will be removed from pandas in a future version. Use pandas.concat instead.\n",
      "  winners = winners.append({'filename': filename, 'diff': diff, \"interval gamma\": gamma, \"#candidates\": len(candidates), 'IRV1': irv1, 'Condorcet1': condorcet1,\n"
     ]
    },
    {
     "name": "stdout",
     "output_type": "stream",
     "text": [
      "105   Corvallis_11082022_Mayor.csv\n"
     ]
    },
    {
     "name": "stderr",
     "output_type": "stream",
     "text": [
      "c:\\Users\\mahsh\\Documents\\GitHub\\bugs-in-democracy\\EIL summer 2023\\rcv_dimensionality.py:170: RuntimeWarning: divide by zero encountered in true_divide\n",
      "  distance = 1 / np.sqrt(freq_upper_triangle)\n",
      "C:\\Users\\mahsh\\AppData\\Local\\Temp\\ipykernel_19644\\1022061950.py:45: FutureWarning: The frame.append method is deprecated and will be removed from pandas in a future version. Use pandas.concat instead.\n",
      "  winners = winners.append({'filename': filename, 'diff': diff, \"interval gamma\": gamma, \"#candidates\": len(candidates), 'IRV1': irv1, 'Condorcet1': condorcet1,\n"
     ]
    },
    {
     "name": "stdout",
     "output_type": "stream",
     "text": [
      "106   Easthampton_11022021_Mayor.csv\n"
     ]
    },
    {
     "name": "stderr",
     "output_type": "stream",
     "text": [
      "c:\\Users\\mahsh\\Documents\\GitHub\\bugs-in-democracy\\EIL summer 2023\\rcv_dimensionality.py:159: RuntimeWarning: divide by zero encountered in true_divide\n",
      "  frequencies = counts / mentioned_together\n",
      "c:\\Users\\mahsh\\Documents\\GitHub\\bugs-in-democracy\\EIL summer 2023\\rcv_dimensionality.py:159: RuntimeWarning: invalid value encountered in true_divide\n",
      "  frequencies = counts / mentioned_together\n",
      "c:\\Users\\mahsh\\Documents\\GitHub\\bugs-in-democracy\\EIL summer 2023\\rcv_dimensionality.py:170: RuntimeWarning: divide by zero encountered in true_divide\n",
      "  distance = 1 / np.sqrt(freq_upper_triangle)\n",
      "C:\\Users\\mahsh\\AppData\\Local\\Temp\\ipykernel_19644\\1022061950.py:45: FutureWarning: The frame.append method is deprecated and will be removed from pandas in a future version. Use pandas.concat instead.\n",
      "  winners = winners.append({'filename': filename, 'diff': diff, \"interval gamma\": gamma, \"#candidates\": len(candidates), 'IRV1': irv1, 'Condorcet1': condorcet1,\n"
     ]
    },
    {
     "name": "stdout",
     "output_type": "stream",
     "text": [
      "107   Eastpointe_11052019_CityCouncil.csv\n"
     ]
    },
    {
     "name": "stderr",
     "output_type": "stream",
     "text": [
      "c:\\Users\\mahsh\\Documents\\GitHub\\bugs-in-democracy\\EIL summer 2023\\rcv_dimensionality.py:170: RuntimeWarning: divide by zero encountered in true_divide\n",
      "  distance = 1 / np.sqrt(freq_upper_triangle)\n",
      "C:\\Users\\mahsh\\AppData\\Local\\Temp\\ipykernel_19644\\1022061950.py:45: FutureWarning: The frame.append method is deprecated and will be removed from pandas in a future version. Use pandas.concat instead.\n",
      "  winners = winners.append({'filename': filename, 'diff': diff, \"interval gamma\": gamma, \"#candidates\": len(candidates), 'IRV1': irv1, 'Condorcet1': condorcet1,\n"
     ]
    },
    {
     "name": "stdout",
     "output_type": "stream",
     "text": [
      "108   ElkRidge_11022021_Mayor.csv\n"
     ]
    },
    {
     "name": "stderr",
     "output_type": "stream",
     "text": [
      "c:\\Users\\mahsh\\Documents\\GitHub\\bugs-in-democracy\\EIL summer 2023\\rcv_dimensionality.py:170: RuntimeWarning: divide by zero encountered in true_divide\n",
      "  distance = 1 / np.sqrt(freq_upper_triangle)\n",
      "C:\\Users\\mahsh\\AppData\\Local\\Temp\\ipykernel_19644\\1022061950.py:45: FutureWarning: The frame.append method is deprecated and will be removed from pandas in a future version. Use pandas.concat instead.\n",
      "  winners = winners.append({'filename': filename, 'diff': diff, \"interval gamma\": gamma, \"#candidates\": len(candidates), 'IRV1': irv1, 'Condorcet1': condorcet1,\n"
     ]
    },
    {
     "name": "stdout",
     "output_type": "stream",
     "text": [
      "109   Hawaii_05232020_PresidentoftheUnitedStateCD1.csv\n"
     ]
    },
    {
     "name": "stderr",
     "output_type": "stream",
     "text": [
      "c:\\Users\\mahsh\\Documents\\GitHub\\bugs-in-democracy\\EIL summer 2023\\rcv_dimensionality.py:170: RuntimeWarning: divide by zero encountered in true_divide\n",
      "  distance = 1 / np.sqrt(freq_upper_triangle)\n",
      "C:\\Users\\mahsh\\AppData\\Local\\Temp\\ipykernel_19644\\1022061950.py:45: FutureWarning: The frame.append method is deprecated and will be removed from pandas in a future version. Use pandas.concat instead.\n",
      "  winners = winners.append({'filename': filename, 'diff': diff, \"interval gamma\": gamma, \"#candidates\": len(candidates), 'IRV1': irv1, 'Condorcet1': condorcet1,\n"
     ]
    },
    {
     "name": "stdout",
     "output_type": "stream",
     "text": [
      "110   Hawaii_05232020_PresidentoftheUnitedStateCD1CD2.csv\n"
     ]
    },
    {
     "name": "stderr",
     "output_type": "stream",
     "text": [
      "c:\\Users\\mahsh\\Documents\\GitHub\\bugs-in-democracy\\EIL summer 2023\\rcv_dimensionality.py:170: RuntimeWarning: divide by zero encountered in true_divide\n",
      "  distance = 1 / np.sqrt(freq_upper_triangle)\n",
      "C:\\Users\\mahsh\\AppData\\Local\\Temp\\ipykernel_19644\\1022061950.py:45: FutureWarning: The frame.append method is deprecated and will be removed from pandas in a future version. Use pandas.concat instead.\n",
      "  winners = winners.append({'filename': filename, 'diff': diff, \"interval gamma\": gamma, \"#candidates\": len(candidates), 'IRV1': irv1, 'Condorcet1': condorcet1,\n"
     ]
    },
    {
     "name": "stdout",
     "output_type": "stream",
     "text": [
      "111   Hawaii_05232020_PresidentoftheUnitedStateCD2.csv\n"
     ]
    },
    {
     "name": "stderr",
     "output_type": "stream",
     "text": [
      "c:\\Users\\mahsh\\Documents\\GitHub\\bugs-in-democracy\\EIL summer 2023\\rcv_dimensionality.py:170: RuntimeWarning: divide by zero encountered in true_divide\n",
      "  distance = 1 / np.sqrt(freq_upper_triangle)\n",
      "C:\\Users\\mahsh\\AppData\\Local\\Temp\\ipykernel_19644\\1022061950.py:45: FutureWarning: The frame.append method is deprecated and will be removed from pandas in a future version. Use pandas.concat instead.\n",
      "  winners = winners.append({'filename': filename, 'diff': diff, \"interval gamma\": gamma, \"#candidates\": len(candidates), 'IRV1': irv1, 'Condorcet1': condorcet1,\n"
     ]
    },
    {
     "name": "stdout",
     "output_type": "stream",
     "text": [
      "112   Kansas_05022020_PRESIDENTOFTHEUNITEDSTATES.csv\n"
     ]
    },
    {
     "name": "stderr",
     "output_type": "stream",
     "text": [
      "c:\\Users\\mahsh\\Documents\\GitHub\\bugs-in-democracy\\EIL summer 2023\\rcv_dimensionality.py:170: RuntimeWarning: divide by zero encountered in true_divide\n",
      "  distance = 1 / np.sqrt(freq_upper_triangle)\n",
      "C:\\Users\\mahsh\\AppData\\Local\\Temp\\ipykernel_19644\\1022061950.py:45: FutureWarning: The frame.append method is deprecated and will be removed from pandas in a future version. Use pandas.concat instead.\n",
      "  winners = winners.append({'filename': filename, 'diff': diff, \"interval gamma\": gamma, \"#candidates\": len(candidates), 'IRV1': irv1, 'Condorcet1': condorcet1,\n"
     ]
    },
    {
     "name": "stdout",
     "output_type": "stream",
     "text": [
      "113   LasCruces_11052019_COUNCILORPOSITION2CITYOFLASCRUCESDISTRICT2COUNCILOR.csv\n"
     ]
    },
    {
     "name": "stderr",
     "output_type": "stream",
     "text": [
      "c:\\Users\\mahsh\\Documents\\GitHub\\bugs-in-democracy\\EIL summer 2023\\rcv_dimensionality.py:170: RuntimeWarning: divide by zero encountered in true_divide\n",
      "  distance = 1 / np.sqrt(freq_upper_triangle)\n",
      "C:\\Users\\mahsh\\AppData\\Local\\Temp\\ipykernel_19644\\1022061950.py:45: FutureWarning: The frame.append method is deprecated and will be removed from pandas in a future version. Use pandas.concat instead.\n",
      "  winners = winners.append({'filename': filename, 'diff': diff, \"interval gamma\": gamma, \"#candidates\": len(candidates), 'IRV1': irv1, 'Condorcet1': condorcet1,\n"
     ]
    },
    {
     "name": "stdout",
     "output_type": "stream",
     "text": [
      "114   LasCruces_11052019_COUNCILORPOSITION4CITYOFLASCRUCESDISTRICT4COUNCILOR.csv\n"
     ]
    },
    {
     "name": "stderr",
     "output_type": "stream",
     "text": [
      "c:\\Users\\mahsh\\Documents\\GitHub\\bugs-in-democracy\\EIL summer 2023\\rcv_dimensionality.py:170: RuntimeWarning: divide by zero encountered in true_divide\n",
      "  distance = 1 / np.sqrt(freq_upper_triangle)\n",
      "C:\\Users\\mahsh\\AppData\\Local\\Temp\\ipykernel_19644\\1022061950.py:45: FutureWarning: The frame.append method is deprecated and will be removed from pandas in a future version. Use pandas.concat instead.\n",
      "  winners = winners.append({'filename': filename, 'diff': diff, \"interval gamma\": gamma, \"#candidates\": len(candidates), 'IRV1': irv1, 'Condorcet1': condorcet1,\n"
     ]
    },
    {
     "name": "stdout",
     "output_type": "stream",
     "text": [
      "115   LasCruces_11052019_MAYORCITYOFLASCRUCES.csv\n"
     ]
    },
    {
     "name": "stderr",
     "output_type": "stream",
     "text": [
      "c:\\Users\\mahsh\\Documents\\GitHub\\bugs-in-democracy\\EIL summer 2023\\rcv_dimensionality.py:170: RuntimeWarning: divide by zero encountered in true_divide\n",
      "  distance = 1 / np.sqrt(freq_upper_triangle)\n",
      "C:\\Users\\mahsh\\AppData\\Local\\Temp\\ipykernel_19644\\1022061950.py:45: FutureWarning: The frame.append method is deprecated and will be removed from pandas in a future version. Use pandas.concat instead.\n",
      "  winners = winners.append({'filename': filename, 'diff': diff, \"interval gamma\": gamma, \"#candidates\": len(candidates), 'IRV1': irv1, 'Condorcet1': condorcet1,\n"
     ]
    },
    {
     "name": "stdout",
     "output_type": "stream",
     "text": [
      "116   Maine_06122018_DemocraticPrimaryforCD2.csv\n"
     ]
    },
    {
     "name": "stderr",
     "output_type": "stream",
     "text": [
      "c:\\Users\\mahsh\\Documents\\GitHub\\bugs-in-democracy\\EIL summer 2023\\rcv_dimensionality.py:170: RuntimeWarning: divide by zero encountered in true_divide\n",
      "  distance = 1 / np.sqrt(freq_upper_triangle)\n",
      "C:\\Users\\mahsh\\AppData\\Local\\Temp\\ipykernel_19644\\1022061950.py:45: FutureWarning: The frame.append method is deprecated and will be removed from pandas in a future version. Use pandas.concat instead.\n",
      "  winners = winners.append({'filename': filename, 'diff': diff, \"interval gamma\": gamma, \"#candidates\": len(candidates), 'IRV1': irv1, 'Condorcet1': condorcet1,\n"
     ]
    },
    {
     "name": "stdout",
     "output_type": "stream",
     "text": [
      "117   Maine_06122018_DemocraticPrimaryforGovernor.csv\n"
     ]
    },
    {
     "name": "stderr",
     "output_type": "stream",
     "text": [
      "c:\\Users\\mahsh\\Documents\\GitHub\\bugs-in-democracy\\EIL summer 2023\\rcv_dimensionality.py:170: RuntimeWarning: divide by zero encountered in true_divide\n",
      "  distance = 1 / np.sqrt(freq_upper_triangle)\n",
      "C:\\Users\\mahsh\\AppData\\Local\\Temp\\ipykernel_19644\\1022061950.py:45: FutureWarning: The frame.append method is deprecated and will be removed from pandas in a future version. Use pandas.concat instead.\n",
      "  winners = winners.append({'filename': filename, 'diff': diff, \"interval gamma\": gamma, \"#candidates\": len(candidates), 'IRV1': irv1, 'Condorcet1': condorcet1,\n"
     ]
    },
    {
     "name": "stdout",
     "output_type": "stream",
     "text": [
      "118   Maine_07142020_DemocraticCandidateforMaineStateHouseDistrict41.csv\n"
     ]
    },
    {
     "name": "stderr",
     "output_type": "stream",
     "text": [
      "c:\\Users\\mahsh\\Documents\\GitHub\\bugs-in-democracy\\EIL summer 2023\\rcv_dimensionality.py:170: RuntimeWarning: divide by zero encountered in true_divide\n",
      "  distance = 1 / np.sqrt(freq_upper_triangle)\n",
      "C:\\Users\\mahsh\\AppData\\Local\\Temp\\ipykernel_19644\\1022061950.py:45: FutureWarning: The frame.append method is deprecated and will be removed from pandas in a future version. Use pandas.concat instead.\n",
      "  winners = winners.append({'filename': filename, 'diff': diff, \"interval gamma\": gamma, \"#candidates\": len(candidates), 'IRV1': irv1, 'Condorcet1': condorcet1,\n"
     ]
    },
    {
     "name": "stdout",
     "output_type": "stream",
     "text": [
      "119   Maine_07142020_DemocraticCandidateforMaineStateHouseDistrict47.csv\n"
     ]
    },
    {
     "name": "stderr",
     "output_type": "stream",
     "text": [
      "c:\\Users\\mahsh\\Documents\\GitHub\\bugs-in-democracy\\EIL summer 2023\\rcv_dimensionality.py:170: RuntimeWarning: divide by zero encountered in true_divide\n",
      "  distance = 1 / np.sqrt(freq_upper_triangle)\n",
      "C:\\Users\\mahsh\\AppData\\Local\\Temp\\ipykernel_19644\\1022061950.py:45: FutureWarning: The frame.append method is deprecated and will be removed from pandas in a future version. Use pandas.concat instead.\n",
      "  winners = winners.append({'filename': filename, 'diff': diff, \"interval gamma\": gamma, \"#candidates\": len(candidates), 'IRV1': irv1, 'Condorcet1': condorcet1,\n"
     ]
    },
    {
     "name": "stdout",
     "output_type": "stream",
     "text": [
      "120   Maine_07142020_DemocraticCandidateforMaineStateHouseDistrict49.csv\n"
     ]
    },
    {
     "name": "stderr",
     "output_type": "stream",
     "text": [
      "c:\\Users\\mahsh\\Documents\\GitHub\\bugs-in-democracy\\EIL summer 2023\\rcv_dimensionality.py:170: RuntimeWarning: divide by zero encountered in true_divide\n",
      "  distance = 1 / np.sqrt(freq_upper_triangle)\n",
      "C:\\Users\\mahsh\\AppData\\Local\\Temp\\ipykernel_19644\\1022061950.py:45: FutureWarning: The frame.append method is deprecated and will be removed from pandas in a future version. Use pandas.concat instead.\n",
      "  winners = winners.append({'filename': filename, 'diff': diff, \"interval gamma\": gamma, \"#candidates\": len(candidates), 'IRV1': irv1, 'Condorcet1': condorcet1,\n"
     ]
    },
    {
     "name": "stdout",
     "output_type": "stream",
     "text": [
      "121   Maine_07142020_DemocraticCandidateforMaineStateHouseDistrict90.csv\n"
     ]
    },
    {
     "name": "stderr",
     "output_type": "stream",
     "text": [
      "c:\\Users\\mahsh\\Documents\\GitHub\\bugs-in-democracy\\EIL summer 2023\\rcv_dimensionality.py:170: RuntimeWarning: divide by zero encountered in true_divide\n",
      "  distance = 1 / np.sqrt(freq_upper_triangle)\n",
      "C:\\Users\\mahsh\\AppData\\Local\\Temp\\ipykernel_19644\\1022061950.py:45: FutureWarning: The frame.append method is deprecated and will be removed from pandas in a future version. Use pandas.concat instead.\n",
      "  winners = winners.append({'filename': filename, 'diff': diff, \"interval gamma\": gamma, \"#candidates\": len(candidates), 'IRV1': irv1, 'Condorcet1': condorcet1,\n"
     ]
    },
    {
     "name": "stdout",
     "output_type": "stream",
     "text": [
      "122   Maine_07142020_DemocraticCandidateforMaineStateSenateDistrict11.csv\n"
     ]
    },
    {
     "name": "stderr",
     "output_type": "stream",
     "text": [
      "c:\\Users\\mahsh\\Documents\\GitHub\\bugs-in-democracy\\EIL summer 2023\\rcv_dimensionality.py:170: RuntimeWarning: divide by zero encountered in true_divide\n",
      "  distance = 1 / np.sqrt(freq_upper_triangle)\n",
      "C:\\Users\\mahsh\\AppData\\Local\\Temp\\ipykernel_19644\\1022061950.py:45: FutureWarning: The frame.append method is deprecated and will be removed from pandas in a future version. Use pandas.concat instead.\n",
      "  winners = winners.append({'filename': filename, 'diff': diff, \"interval gamma\": gamma, \"#candidates\": len(candidates), 'IRV1': irv1, 'Condorcet1': condorcet1,\n"
     ]
    },
    {
     "name": "stdout",
     "output_type": "stream",
     "text": [
      "123   Maine_07142020_RepublicanCandidateforUSHouseofRepresentativesDistrict2.csv\n"
     ]
    },
    {
     "name": "stderr",
     "output_type": "stream",
     "text": [
      "c:\\Users\\mahsh\\Documents\\GitHub\\bugs-in-democracy\\EIL summer 2023\\rcv_dimensionality.py:170: RuntimeWarning: divide by zero encountered in true_divide\n",
      "  distance = 1 / np.sqrt(freq_upper_triangle)\n",
      "C:\\Users\\mahsh\\AppData\\Local\\Temp\\ipykernel_19644\\1022061950.py:45: FutureWarning: The frame.append method is deprecated and will be removed from pandas in a future version. Use pandas.concat instead.\n",
      "  winners = winners.append({'filename': filename, 'diff': diff, \"interval gamma\": gamma, \"#candidates\": len(candidates), 'IRV1': irv1, 'Condorcet1': condorcet1,\n"
     ]
    },
    {
     "name": "stdout",
     "output_type": "stream",
     "text": [
      "124   Maine_11062018_CongressionalDistrict2.csv\n"
     ]
    },
    {
     "name": "stderr",
     "output_type": "stream",
     "text": [
      "c:\\Users\\mahsh\\Documents\\GitHub\\bugs-in-democracy\\EIL summer 2023\\rcv_dimensionality.py:170: RuntimeWarning: divide by zero encountered in true_divide\n",
      "  distance = 1 / np.sqrt(freq_upper_triangle)\n",
      "C:\\Users\\mahsh\\AppData\\Local\\Temp\\ipykernel_19644\\1022061950.py:45: FutureWarning: The frame.append method is deprecated and will be removed from pandas in a future version. Use pandas.concat instead.\n",
      "  winners = winners.append({'filename': filename, 'diff': diff, \"interval gamma\": gamma, \"#candidates\": len(candidates), 'IRV1': irv1, 'Condorcet1': condorcet1,\n"
     ]
    },
    {
     "name": "stdout",
     "output_type": "stream",
     "text": [
      "125   Maine_11082022_CongressionalDistrict2.csv\n"
     ]
    },
    {
     "name": "stderr",
     "output_type": "stream",
     "text": [
      "c:\\Users\\mahsh\\Documents\\GitHub\\bugs-in-democracy\\EIL summer 2023\\rcv_dimensionality.py:170: RuntimeWarning: divide by zero encountered in true_divide\n",
      "  distance = 1 / np.sqrt(freq_upper_triangle)\n",
      "C:\\Users\\mahsh\\AppData\\Local\\Temp\\ipykernel_19644\\1022061950.py:45: FutureWarning: The frame.append method is deprecated and will be removed from pandas in a future version. Use pandas.concat instead.\n",
      "  winners = winners.append({'filename': filename, 'diff': diff, \"interval gamma\": gamma, \"#candidates\": len(candidates), 'IRV1': irv1, 'Condorcet1': condorcet1,\n"
     ]
    },
    {
     "name": "stdout",
     "output_type": "stream",
     "text": [
      "126   Minneapolis_08112020_Ward6CityCouncilSpecialElection.csv\n"
     ]
    },
    {
     "name": "stderr",
     "output_type": "stream",
     "text": [
      "c:\\Users\\mahsh\\Documents\\GitHub\\bugs-in-democracy\\EIL summer 2023\\rcv_dimensionality.py:170: RuntimeWarning: divide by zero encountered in true_divide\n",
      "  distance = 1 / np.sqrt(freq_upper_triangle)\n",
      "C:\\Users\\mahsh\\AppData\\Local\\Temp\\ipykernel_19644\\1022061950.py:45: FutureWarning: The frame.append method is deprecated and will be removed from pandas in a future version. Use pandas.concat instead.\n",
      "  winners = winners.append({'filename': filename, 'diff': diff, \"interval gamma\": gamma, \"#candidates\": len(candidates), 'IRV1': irv1, 'Condorcet1': condorcet1,\n"
     ]
    },
    {
     "name": "stdout",
     "output_type": "stream",
     "text": [
      "127   Minneapolis_11022021_CityCouncilWard1.csv\n"
     ]
    },
    {
     "name": "stderr",
     "output_type": "stream",
     "text": [
      "c:\\Users\\mahsh\\Documents\\GitHub\\bugs-in-democracy\\EIL summer 2023\\rcv_dimensionality.py:170: RuntimeWarning: divide by zero encountered in true_divide\n",
      "  distance = 1 / np.sqrt(freq_upper_triangle)\n",
      "C:\\Users\\mahsh\\AppData\\Local\\Temp\\ipykernel_19644\\1022061950.py:45: FutureWarning: The frame.append method is deprecated and will be removed from pandas in a future version. Use pandas.concat instead.\n",
      "  winners = winners.append({'filename': filename, 'diff': diff, \"interval gamma\": gamma, \"#candidates\": len(candidates), 'IRV1': irv1, 'Condorcet1': condorcet1,\n"
     ]
    },
    {
     "name": "stdout",
     "output_type": "stream",
     "text": [
      "128   Minneapolis_11022021_CityCouncilWard10.csv\n"
     ]
    },
    {
     "name": "stderr",
     "output_type": "stream",
     "text": [
      "c:\\Users\\mahsh\\Documents\\GitHub\\bugs-in-democracy\\EIL summer 2023\\rcv_dimensionality.py:170: RuntimeWarning: divide by zero encountered in true_divide\n",
      "  distance = 1 / np.sqrt(freq_upper_triangle)\n",
      "C:\\Users\\mahsh\\AppData\\Local\\Temp\\ipykernel_19644\\1022061950.py:45: FutureWarning: The frame.append method is deprecated and will be removed from pandas in a future version. Use pandas.concat instead.\n",
      "  winners = winners.append({'filename': filename, 'diff': diff, \"interval gamma\": gamma, \"#candidates\": len(candidates), 'IRV1': irv1, 'Condorcet1': condorcet1,\n"
     ]
    },
    {
     "name": "stdout",
     "output_type": "stream",
     "text": [
      "129   Minneapolis_11022021_CityCouncilWard11.csv\n"
     ]
    },
    {
     "name": "stderr",
     "output_type": "stream",
     "text": [
      "c:\\Users\\mahsh\\Documents\\GitHub\\bugs-in-democracy\\EIL summer 2023\\rcv_dimensionality.py:170: RuntimeWarning: divide by zero encountered in true_divide\n",
      "  distance = 1 / np.sqrt(freq_upper_triangle)\n",
      "C:\\Users\\mahsh\\AppData\\Local\\Temp\\ipykernel_19644\\1022061950.py:45: FutureWarning: The frame.append method is deprecated and will be removed from pandas in a future version. Use pandas.concat instead.\n",
      "  winners = winners.append({'filename': filename, 'diff': diff, \"interval gamma\": gamma, \"#candidates\": len(candidates), 'IRV1': irv1, 'Condorcet1': condorcet1,\n"
     ]
    },
    {
     "name": "stdout",
     "output_type": "stream",
     "text": [
      "130   Minneapolis_11022021_CityCouncilWard12.csv\n"
     ]
    },
    {
     "name": "stderr",
     "output_type": "stream",
     "text": [
      "c:\\Users\\mahsh\\Documents\\GitHub\\bugs-in-democracy\\EIL summer 2023\\rcv_dimensionality.py:170: RuntimeWarning: divide by zero encountered in true_divide\n",
      "  distance = 1 / np.sqrt(freq_upper_triangle)\n",
      "C:\\Users\\mahsh\\AppData\\Local\\Temp\\ipykernel_19644\\1022061950.py:45: FutureWarning: The frame.append method is deprecated and will be removed from pandas in a future version. Use pandas.concat instead.\n",
      "  winners = winners.append({'filename': filename, 'diff': diff, \"interval gamma\": gamma, \"#candidates\": len(candidates), 'IRV1': irv1, 'Condorcet1': condorcet1,\n"
     ]
    },
    {
     "name": "stdout",
     "output_type": "stream",
     "text": [
      "131   Minneapolis_11022021_CityCouncilWard13.csv\n"
     ]
    },
    {
     "name": "stderr",
     "output_type": "stream",
     "text": [
      "c:\\Users\\mahsh\\Documents\\GitHub\\bugs-in-democracy\\EIL summer 2023\\rcv_dimensionality.py:170: RuntimeWarning: divide by zero encountered in true_divide\n",
      "  distance = 1 / np.sqrt(freq_upper_triangle)\n",
      "C:\\Users\\mahsh\\AppData\\Local\\Temp\\ipykernel_19644\\1022061950.py:45: FutureWarning: The frame.append method is deprecated and will be removed from pandas in a future version. Use pandas.concat instead.\n",
      "  winners = winners.append({'filename': filename, 'diff': diff, \"interval gamma\": gamma, \"#candidates\": len(candidates), 'IRV1': irv1, 'Condorcet1': condorcet1,\n"
     ]
    },
    {
     "name": "stdout",
     "output_type": "stream",
     "text": [
      "132   Minneapolis_11022021_CityCouncilWard2.csv\n"
     ]
    },
    {
     "name": "stderr",
     "output_type": "stream",
     "text": [
      "c:\\Users\\mahsh\\Documents\\GitHub\\bugs-in-democracy\\EIL summer 2023\\rcv_dimensionality.py:170: RuntimeWarning: divide by zero encountered in true_divide\n",
      "  distance = 1 / np.sqrt(freq_upper_triangle)\n",
      "C:\\Users\\mahsh\\AppData\\Local\\Temp\\ipykernel_19644\\1022061950.py:45: FutureWarning: The frame.append method is deprecated and will be removed from pandas in a future version. Use pandas.concat instead.\n",
      "  winners = winners.append({'filename': filename, 'diff': diff, \"interval gamma\": gamma, \"#candidates\": len(candidates), 'IRV1': irv1, 'Condorcet1': condorcet1,\n"
     ]
    },
    {
     "name": "stdout",
     "output_type": "stream",
     "text": [
      "133   Minneapolis_11022021_CityCouncilWard3.csv\n"
     ]
    },
    {
     "name": "stderr",
     "output_type": "stream",
     "text": [
      "c:\\Users\\mahsh\\Documents\\GitHub\\bugs-in-democracy\\EIL summer 2023\\rcv_dimensionality.py:170: RuntimeWarning: divide by zero encountered in true_divide\n",
      "  distance = 1 / np.sqrt(freq_upper_triangle)\n",
      "C:\\Users\\mahsh\\AppData\\Local\\Temp\\ipykernel_19644\\1022061950.py:45: FutureWarning: The frame.append method is deprecated and will be removed from pandas in a future version. Use pandas.concat instead.\n",
      "  winners = winners.append({'filename': filename, 'diff': diff, \"interval gamma\": gamma, \"#candidates\": len(candidates), 'IRV1': irv1, 'Condorcet1': condorcet1,\n"
     ]
    },
    {
     "name": "stdout",
     "output_type": "stream",
     "text": [
      "134   Minneapolis_11022021_CityCouncilWard4.csv\n"
     ]
    },
    {
     "name": "stderr",
     "output_type": "stream",
     "text": [
      "c:\\Users\\mahsh\\Documents\\GitHub\\bugs-in-democracy\\EIL summer 2023\\rcv_dimensionality.py:170: RuntimeWarning: divide by zero encountered in true_divide\n",
      "  distance = 1 / np.sqrt(freq_upper_triangle)\n",
      "C:\\Users\\mahsh\\AppData\\Local\\Temp\\ipykernel_19644\\1022061950.py:45: FutureWarning: The frame.append method is deprecated and will be removed from pandas in a future version. Use pandas.concat instead.\n",
      "  winners = winners.append({'filename': filename, 'diff': diff, \"interval gamma\": gamma, \"#candidates\": len(candidates), 'IRV1': irv1, 'Condorcet1': condorcet1,\n"
     ]
    },
    {
     "name": "stdout",
     "output_type": "stream",
     "text": [
      "135   Minneapolis_11022021_CityCouncilWard5.csv\n"
     ]
    },
    {
     "name": "stderr",
     "output_type": "stream",
     "text": [
      "c:\\Users\\mahsh\\Documents\\GitHub\\bugs-in-democracy\\EIL summer 2023\\rcv_dimensionality.py:170: RuntimeWarning: divide by zero encountered in true_divide\n",
      "  distance = 1 / np.sqrt(freq_upper_triangle)\n",
      "C:\\Users\\mahsh\\AppData\\Local\\Temp\\ipykernel_19644\\1022061950.py:45: FutureWarning: The frame.append method is deprecated and will be removed from pandas in a future version. Use pandas.concat instead.\n",
      "  winners = winners.append({'filename': filename, 'diff': diff, \"interval gamma\": gamma, \"#candidates\": len(candidates), 'IRV1': irv1, 'Condorcet1': condorcet1,\n"
     ]
    },
    {
     "name": "stdout",
     "output_type": "stream",
     "text": [
      "136   Minneapolis_11022021_CityCouncilWard6.csv\n"
     ]
    },
    {
     "name": "stderr",
     "output_type": "stream",
     "text": [
      "c:\\Users\\mahsh\\Documents\\GitHub\\bugs-in-democracy\\EIL summer 2023\\rcv_dimensionality.py:170: RuntimeWarning: divide by zero encountered in true_divide\n",
      "  distance = 1 / np.sqrt(freq_upper_triangle)\n",
      "C:\\Users\\mahsh\\AppData\\Local\\Temp\\ipykernel_19644\\1022061950.py:45: FutureWarning: The frame.append method is deprecated and will be removed from pandas in a future version. Use pandas.concat instead.\n",
      "  winners = winners.append({'filename': filename, 'diff': diff, \"interval gamma\": gamma, \"#candidates\": len(candidates), 'IRV1': irv1, 'Condorcet1': condorcet1,\n"
     ]
    },
    {
     "name": "stdout",
     "output_type": "stream",
     "text": [
      "137   Minneapolis_11022021_CityCouncilWard7.csv\n"
     ]
    },
    {
     "name": "stderr",
     "output_type": "stream",
     "text": [
      "c:\\Users\\mahsh\\Documents\\GitHub\\bugs-in-democracy\\EIL summer 2023\\rcv_dimensionality.py:170: RuntimeWarning: divide by zero encountered in true_divide\n",
      "  distance = 1 / np.sqrt(freq_upper_triangle)\n",
      "C:\\Users\\mahsh\\AppData\\Local\\Temp\\ipykernel_19644\\1022061950.py:45: FutureWarning: The frame.append method is deprecated and will be removed from pandas in a future version. Use pandas.concat instead.\n",
      "  winners = winners.append({'filename': filename, 'diff': diff, \"interval gamma\": gamma, \"#candidates\": len(candidates), 'IRV1': irv1, 'Condorcet1': condorcet1,\n"
     ]
    },
    {
     "name": "stdout",
     "output_type": "stream",
     "text": [
      "138   Minneapolis_11022021_CityCouncilWard8.csv\n"
     ]
    },
    {
     "name": "stderr",
     "output_type": "stream",
     "text": [
      "c:\\Users\\mahsh\\Documents\\GitHub\\bugs-in-democracy\\EIL summer 2023\\rcv_dimensionality.py:170: RuntimeWarning: divide by zero encountered in true_divide\n",
      "  distance = 1 / np.sqrt(freq_upper_triangle)\n",
      "C:\\Users\\mahsh\\AppData\\Local\\Temp\\ipykernel_19644\\1022061950.py:45: FutureWarning: The frame.append method is deprecated and will be removed from pandas in a future version. Use pandas.concat instead.\n",
      "  winners = winners.append({'filename': filename, 'diff': diff, \"interval gamma\": gamma, \"#candidates\": len(candidates), 'IRV1': irv1, 'Condorcet1': condorcet1,\n"
     ]
    },
    {
     "name": "stdout",
     "output_type": "stream",
     "text": [
      "139   Minneapolis_11022021_CityCouncilWard9.csv\n"
     ]
    },
    {
     "name": "stderr",
     "output_type": "stream",
     "text": [
      "c:\\Users\\mahsh\\Documents\\GitHub\\bugs-in-democracy\\EIL summer 2023\\rcv_dimensionality.py:170: RuntimeWarning: divide by zero encountered in true_divide\n",
      "  distance = 1 / np.sqrt(freq_upper_triangle)\n",
      "C:\\Users\\mahsh\\AppData\\Local\\Temp\\ipykernel_19644\\1022061950.py:45: FutureWarning: The frame.append method is deprecated and will be removed from pandas in a future version. Use pandas.concat instead.\n",
      "  winners = winners.append({'filename': filename, 'diff': diff, \"interval gamma\": gamma, \"#candidates\": len(candidates), 'IRV1': irv1, 'Condorcet1': condorcet1,\n"
     ]
    },
    {
     "name": "stdout",
     "output_type": "stream",
     "text": [
      "140   Minneapolis_11022021_Mayor.csv\n"
     ]
    },
    {
     "name": "stderr",
     "output_type": "stream",
     "text": [
      "c:\\Users\\mahsh\\Documents\\GitHub\\bugs-in-democracy\\EIL summer 2023\\rcv_dimensionality.py:159: RuntimeWarning: divide by zero encountered in true_divide\n",
      "  frequencies = counts / mentioned_together\n",
      "c:\\Users\\mahsh\\Documents\\GitHub\\bugs-in-democracy\\EIL summer 2023\\rcv_dimensionality.py:159: RuntimeWarning: invalid value encountered in true_divide\n",
      "  frequencies = counts / mentioned_together\n",
      "c:\\Users\\mahsh\\Documents\\GitHub\\bugs-in-democracy\\EIL summer 2023\\rcv_dimensionality.py:170: RuntimeWarning: divide by zero encountered in true_divide\n",
      "  distance = 1 / np.sqrt(freq_upper_triangle)\n",
      "C:\\Users\\mahsh\\AppData\\Local\\Temp\\ipykernel_19644\\1022061950.py:45: FutureWarning: The frame.append method is deprecated and will be removed from pandas in a future version. Use pandas.concat instead.\n",
      "  winners = winners.append({'filename': filename, 'diff': diff, \"interval gamma\": gamma, \"#candidates\": len(candidates), 'IRV1': irv1, 'Condorcet1': condorcet1,\n"
     ]
    },
    {
     "name": "stdout",
     "output_type": "stream",
     "text": [
      "141   Minneapolis_11022021_ParkBoardAtLarge.csv\n"
     ]
    },
    {
     "name": "stderr",
     "output_type": "stream",
     "text": [
      "c:\\Users\\mahsh\\Documents\\GitHub\\bugs-in-democracy\\EIL summer 2023\\rcv_dimensionality.py:170: RuntimeWarning: divide by zero encountered in true_divide\n",
      "  distance = 1 / np.sqrt(freq_upper_triangle)\n",
      "C:\\Users\\mahsh\\AppData\\Local\\Temp\\ipykernel_19644\\1022061950.py:45: FutureWarning: The frame.append method is deprecated and will be removed from pandas in a future version. Use pandas.concat instead.\n",
      "  winners = winners.append({'filename': filename, 'diff': diff, \"interval gamma\": gamma, \"#candidates\": len(candidates), 'IRV1': irv1, 'Condorcet1': condorcet1,\n"
     ]
    },
    {
     "name": "stdout",
     "output_type": "stream",
     "text": [
      "142   Minneapolis_11022021_ParkBoardDistrict1.csv\n",
      "Minneapolis_11022021_ParkBoardDistrict1.csv  threw an exception\n",
      "143   Minneapolis_11022021_ParkBoardDistrict2.csv\n"
     ]
    },
    {
     "name": "stderr",
     "output_type": "stream",
     "text": [
      "c:\\Users\\mahsh\\Documents\\GitHub\\bugs-in-democracy\\EIL summer 2023\\rcv_dimensionality.py:170: RuntimeWarning: divide by zero encountered in true_divide\n",
      "  distance = 1 / np.sqrt(freq_upper_triangle)\n",
      "C:\\Users\\mahsh\\AppData\\Local\\Temp\\ipykernel_19644\\1022061950.py:45: FutureWarning: The frame.append method is deprecated and will be removed from pandas in a future version. Use pandas.concat instead.\n",
      "  winners = winners.append({'filename': filename, 'diff': diff, \"interval gamma\": gamma, \"#candidates\": len(candidates), 'IRV1': irv1, 'Condorcet1': condorcet1,\n"
     ]
    },
    {
     "name": "stdout",
     "output_type": "stream",
     "text": [
      "144   Minneapolis_11022021_ParkBoardDistrict3.csv\n"
     ]
    },
    {
     "name": "stderr",
     "output_type": "stream",
     "text": [
      "c:\\Users\\mahsh\\Documents\\GitHub\\bugs-in-democracy\\EIL summer 2023\\rcv_dimensionality.py:170: RuntimeWarning: divide by zero encountered in true_divide\n",
      "  distance = 1 / np.sqrt(freq_upper_triangle)\n",
      "C:\\Users\\mahsh\\AppData\\Local\\Temp\\ipykernel_19644\\1022061950.py:45: FutureWarning: The frame.append method is deprecated and will be removed from pandas in a future version. Use pandas.concat instead.\n",
      "  winners = winners.append({'filename': filename, 'diff': diff, \"interval gamma\": gamma, \"#candidates\": len(candidates), 'IRV1': irv1, 'Condorcet1': condorcet1,\n"
     ]
    },
    {
     "name": "stdout",
     "output_type": "stream",
     "text": [
      "145   Minneapolis_11022021_ParkBoardDistrict4.csv\n"
     ]
    },
    {
     "name": "stderr",
     "output_type": "stream",
     "text": [
      "c:\\Users\\mahsh\\Documents\\GitHub\\bugs-in-democracy\\EIL summer 2023\\rcv_dimensionality.py:170: RuntimeWarning: divide by zero encountered in true_divide\n",
      "  distance = 1 / np.sqrt(freq_upper_triangle)\n",
      "C:\\Users\\mahsh\\AppData\\Local\\Temp\\ipykernel_19644\\1022061950.py:45: FutureWarning: The frame.append method is deprecated and will be removed from pandas in a future version. Use pandas.concat instead.\n",
      "  winners = winners.append({'filename': filename, 'diff': diff, \"interval gamma\": gamma, \"#candidates\": len(candidates), 'IRV1': irv1, 'Condorcet1': condorcet1,\n"
     ]
    },
    {
     "name": "stdout",
     "output_type": "stream",
     "text": [
      "146   Minneapolis_11022021_ParkBoardDistrict5.csv\n"
     ]
    },
    {
     "name": "stderr",
     "output_type": "stream",
     "text": [
      "c:\\Users\\mahsh\\Documents\\GitHub\\bugs-in-democracy\\EIL summer 2023\\rcv_dimensionality.py:170: RuntimeWarning: divide by zero encountered in true_divide\n",
      "  distance = 1 / np.sqrt(freq_upper_triangle)\n",
      "C:\\Users\\mahsh\\AppData\\Local\\Temp\\ipykernel_19644\\1022061950.py:45: FutureWarning: The frame.append method is deprecated and will be removed from pandas in a future version. Use pandas.concat instead.\n",
      "  winners = winners.append({'filename': filename, 'diff': diff, \"interval gamma\": gamma, \"#candidates\": len(candidates), 'IRV1': irv1, 'Condorcet1': condorcet1,\n"
     ]
    },
    {
     "name": "stdout",
     "output_type": "stream",
     "text": [
      "147   Minneapolis_11022021_ParkBoardDistrict6.csv\n"
     ]
    },
    {
     "name": "stderr",
     "output_type": "stream",
     "text": [
      "c:\\Users\\mahsh\\Documents\\GitHub\\bugs-in-democracy\\EIL summer 2023\\rcv_dimensionality.py:170: RuntimeWarning: divide by zero encountered in true_divide\n",
      "  distance = 1 / np.sqrt(freq_upper_triangle)\n",
      "C:\\Users\\mahsh\\AppData\\Local\\Temp\\ipykernel_19644\\1022061950.py:45: FutureWarning: The frame.append method is deprecated and will be removed from pandas in a future version. Use pandas.concat instead.\n",
      "  winners = winners.append({'filename': filename, 'diff': diff, \"interval gamma\": gamma, \"#candidates\": len(candidates), 'IRV1': irv1, 'Condorcet1': condorcet1,\n"
     ]
    },
    {
     "name": "stdout",
     "output_type": "stream",
     "text": [
      "148   Minneapolis_11052013_Mayor.csv\n"
     ]
    },
    {
     "name": "stderr",
     "output_type": "stream",
     "text": [
      "c:\\Users\\mahsh\\Documents\\GitHub\\bugs-in-democracy\\EIL summer 2023\\rcv_dimensionality.py:159: RuntimeWarning: divide by zero encountered in true_divide\n",
      "  frequencies = counts / mentioned_together\n",
      "c:\\Users\\mahsh\\Documents\\GitHub\\bugs-in-democracy\\EIL summer 2023\\rcv_dimensionality.py:170: RuntimeWarning: divide by zero encountered in true_divide\n",
      "  distance = 1 / np.sqrt(freq_upper_triangle)\n",
      "C:\\Users\\mahsh\\AppData\\Local\\Temp\\ipykernel_19644\\1022061950.py:45: FutureWarning: The frame.append method is deprecated and will be removed from pandas in a future version. Use pandas.concat instead.\n",
      "  winners = winners.append({'filename': filename, 'diff': diff, \"interval gamma\": gamma, \"#candidates\": len(candidates), 'IRV1': irv1, 'Condorcet1': condorcet1,\n"
     ]
    },
    {
     "name": "stdout",
     "output_type": "stream",
     "text": [
      "149   Minneapolis_11052013_PRBoardDistrict2.csv\n"
     ]
    },
    {
     "name": "stderr",
     "output_type": "stream",
     "text": [
      "c:\\Users\\mahsh\\Documents\\GitHub\\bugs-in-democracy\\EIL summer 2023\\rcv_dimensionality.py:170: RuntimeWarning: divide by zero encountered in true_divide\n",
      "  distance = 1 / np.sqrt(freq_upper_triangle)\n",
      "C:\\Users\\mahsh\\AppData\\Local\\Temp\\ipykernel_19644\\1022061950.py:45: FutureWarning: The frame.append method is deprecated and will be removed from pandas in a future version. Use pandas.concat instead.\n",
      "  winners = winners.append({'filename': filename, 'diff': diff, \"interval gamma\": gamma, \"#candidates\": len(candidates), 'IRV1': irv1, 'Condorcet1': condorcet1,\n",
      "c:\\Users\\mahsh\\Documents\\GitHub\\bugs-in-democracy\\EIL summer 2023\\rcv_dimensionality.py:170: RuntimeWarning: divide by zero encountered in true_divide\n",
      "  distance = 1 / np.sqrt(freq_upper_triangle)\n",
      "C:\\Users\\mahsh\\AppData\\Local\\Temp\\ipykernel_19644\\1022061950.py:45: FutureWarning: The frame.append method is deprecated and will be removed from pandas in a future version. Use pandas.concat instead.\n",
      "  winners = winners.append({'filename': filename, 'diff': diff, \"interval gamma\": gamma, \"#candidates\": len(candidates), 'IRV1': irv1, 'Condorcet1': condorcet1,\n"
     ]
    },
    {
     "name": "stdout",
     "output_type": "stream",
     "text": [
      "151   Minneapolis_11052013_Ward13CityCouncil.csv\n"
     ]
    },
    {
     "name": "stderr",
     "output_type": "stream",
     "text": [
      "c:\\Users\\mahsh\\Documents\\GitHub\\bugs-in-democracy\\EIL summer 2023\\rcv_dimensionality.py:170: RuntimeWarning: divide by zero encountered in true_divide\n",
      "  distance = 1 / np.sqrt(freq_upper_triangle)\n",
      "C:\\Users\\mahsh\\AppData\\Local\\Temp\\ipykernel_19644\\1022061950.py:45: FutureWarning: The frame.append method is deprecated and will be removed from pandas in a future version. Use pandas.concat instead.\n",
      "  winners = winners.append({'filename': filename, 'diff': diff, \"interval gamma\": gamma, \"#candidates\": len(candidates), 'IRV1': irv1, 'Condorcet1': condorcet1,\n"
     ]
    },
    {
     "name": "stdout",
     "output_type": "stream",
     "text": [
      "152   Minneapolis_11052013_Ward5CityCouncil.csv\n"
     ]
    },
    {
     "name": "stderr",
     "output_type": "stream",
     "text": [
      "c:\\Users\\mahsh\\Documents\\GitHub\\bugs-in-democracy\\EIL summer 2023\\rcv_dimensionality.py:170: RuntimeWarning: divide by zero encountered in true_divide\n",
      "  distance = 1 / np.sqrt(freq_upper_triangle)\n",
      "C:\\Users\\mahsh\\AppData\\Local\\Temp\\ipykernel_19644\\1022061950.py:45: FutureWarning: The frame.append method is deprecated and will be removed from pandas in a future version. Use pandas.concat instead.\n",
      "  winners = winners.append({'filename': filename, 'diff': diff, \"interval gamma\": gamma, \"#candidates\": len(candidates), 'IRV1': irv1, 'Condorcet1': condorcet1,\n"
     ]
    },
    {
     "name": "stdout",
     "output_type": "stream",
     "text": [
      "153   Minneapolis_11052013_Ward9CityCouncil.csv\n"
     ]
    },
    {
     "name": "stderr",
     "output_type": "stream",
     "text": [
      "c:\\Users\\mahsh\\Documents\\GitHub\\bugs-in-democracy\\EIL summer 2023\\rcv_dimensionality.py:170: RuntimeWarning: divide by zero encountered in true_divide\n",
      "  distance = 1 / np.sqrt(freq_upper_triangle)\n",
      "C:\\Users\\mahsh\\AppData\\Local\\Temp\\ipykernel_19644\\1022061950.py:45: FutureWarning: The frame.append method is deprecated and will be removed from pandas in a future version. Use pandas.concat instead.\n",
      "  winners = winners.append({'filename': filename, 'diff': diff, \"interval gamma\": gamma, \"#candidates\": len(candidates), 'IRV1': irv1, 'Condorcet1': condorcet1,\n"
     ]
    },
    {
     "name": "stdout",
     "output_type": "stream",
     "text": [
      "154   Minneapolis_11062009_Mayor.csv\n"
     ]
    },
    {
     "name": "stderr",
     "output_type": "stream",
     "text": [
      "c:\\Users\\mahsh\\Documents\\GitHub\\bugs-in-democracy\\EIL summer 2023\\rcv_dimensionality.py:170: RuntimeWarning: divide by zero encountered in true_divide\n",
      "  distance = 1 / np.sqrt(freq_upper_triangle)\n",
      "C:\\Users\\mahsh\\AppData\\Local\\Temp\\ipykernel_19644\\1022061950.py:45: FutureWarning: The frame.append method is deprecated and will be removed from pandas in a future version. Use pandas.concat instead.\n",
      "  winners = winners.append({'filename': filename, 'diff': diff, \"interval gamma\": gamma, \"#candidates\": len(candidates), 'IRV1': irv1, 'Condorcet1': condorcet1,\n"
     ]
    },
    {
     "name": "stdout",
     "output_type": "stream",
     "text": [
      "155   Minneapolis_11062009_PRBoardDistrict1.csv\n"
     ]
    },
    {
     "name": "stderr",
     "output_type": "stream",
     "text": [
      "c:\\Users\\mahsh\\Documents\\GitHub\\bugs-in-democracy\\EIL summer 2023\\rcv_dimensionality.py:170: RuntimeWarning: divide by zero encountered in true_divide\n",
      "  distance = 1 / np.sqrt(freq_upper_triangle)\n",
      "C:\\Users\\mahsh\\AppData\\Local\\Temp\\ipykernel_19644\\1022061950.py:45: FutureWarning: The frame.append method is deprecated and will be removed from pandas in a future version. Use pandas.concat instead.\n",
      "  winners = winners.append({'filename': filename, 'diff': diff, \"interval gamma\": gamma, \"#candidates\": len(candidates), 'IRV1': irv1, 'Condorcet1': condorcet1,\n"
     ]
    },
    {
     "name": "stdout",
     "output_type": "stream",
     "text": [
      "156   Minneapolis_11062009_PRBoardDistrict2.csv\n"
     ]
    },
    {
     "name": "stderr",
     "output_type": "stream",
     "text": [
      "c:\\Users\\mahsh\\Documents\\GitHub\\bugs-in-democracy\\EIL summer 2023\\rcv_dimensionality.py:170: RuntimeWarning: divide by zero encountered in true_divide\n",
      "  distance = 1 / np.sqrt(freq_upper_triangle)\n",
      "C:\\Users\\mahsh\\AppData\\Local\\Temp\\ipykernel_19644\\1022061950.py:45: FutureWarning: The frame.append method is deprecated and will be removed from pandas in a future version. Use pandas.concat instead.\n",
      "  winners = winners.append({'filename': filename, 'diff': diff, \"interval gamma\": gamma, \"#candidates\": len(candidates), 'IRV1': irv1, 'Condorcet1': condorcet1,\n"
     ]
    },
    {
     "name": "stdout",
     "output_type": "stream",
     "text": [
      "157   Minneapolis_11062009_PRBoardDistrict3.csv\n"
     ]
    },
    {
     "name": "stderr",
     "output_type": "stream",
     "text": [
      "c:\\Users\\mahsh\\Documents\\GitHub\\bugs-in-democracy\\EIL summer 2023\\rcv_dimensionality.py:170: RuntimeWarning: divide by zero encountered in true_divide\n",
      "  distance = 1 / np.sqrt(freq_upper_triangle)\n",
      "C:\\Users\\mahsh\\AppData\\Local\\Temp\\ipykernel_19644\\1022061950.py:45: FutureWarning: The frame.append method is deprecated and will be removed from pandas in a future version. Use pandas.concat instead.\n",
      "  winners = winners.append({'filename': filename, 'diff': diff, \"interval gamma\": gamma, \"#candidates\": len(candidates), 'IRV1': irv1, 'Condorcet1': condorcet1,\n"
     ]
    },
    {
     "name": "stdout",
     "output_type": "stream",
     "text": [
      "158   Minneapolis_11062009_PRBoardDistrict4.csv\n",
      "Minneapolis_11062009_PRBoardDistrict4.csv  threw an exception\n",
      "159   Minneapolis_11062009_PRBoardDistrict5.csv\n"
     ]
    },
    {
     "name": "stderr",
     "output_type": "stream",
     "text": [
      "c:\\Users\\mahsh\\Documents\\GitHub\\bugs-in-democracy\\EIL summer 2023\\rcv_dimensionality.py:170: RuntimeWarning: divide by zero encountered in true_divide\n",
      "  distance = 1 / np.sqrt(freq_upper_triangle)\n",
      "C:\\Users\\mahsh\\AppData\\Local\\Temp\\ipykernel_19644\\1022061950.py:45: FutureWarning: The frame.append method is deprecated and will be removed from pandas in a future version. Use pandas.concat instead.\n",
      "  winners = winners.append({'filename': filename, 'diff': diff, \"interval gamma\": gamma, \"#candidates\": len(candidates), 'IRV1': irv1, 'Condorcet1': condorcet1,\n"
     ]
    },
    {
     "name": "stdout",
     "output_type": "stream",
     "text": [
      "160   Minneapolis_11062009_PRBoardDistrict6.csv\n"
     ]
    },
    {
     "name": "stderr",
     "output_type": "stream",
     "text": [
      "c:\\Users\\mahsh\\Documents\\GitHub\\bugs-in-democracy\\EIL summer 2023\\rcv_dimensionality.py:170: RuntimeWarning: divide by zero encountered in true_divide\n",
      "  distance = 1 / np.sqrt(freq_upper_triangle)\n",
      "C:\\Users\\mahsh\\AppData\\Local\\Temp\\ipykernel_19644\\1022061950.py:45: FutureWarning: The frame.append method is deprecated and will be removed from pandas in a future version. Use pandas.concat instead.\n",
      "  winners = winners.append({'filename': filename, 'diff': diff, \"interval gamma\": gamma, \"#candidates\": len(candidates), 'IRV1': irv1, 'Condorcet1': condorcet1,\n"
     ]
    },
    {
     "name": "stdout",
     "output_type": "stream",
     "text": [
      "161   Minneapolis_11062009_Ward10CityCouncil.csv\n"
     ]
    },
    {
     "name": "stderr",
     "output_type": "stream",
     "text": [
      "c:\\Users\\mahsh\\Documents\\GitHub\\bugs-in-democracy\\EIL summer 2023\\rcv_dimensionality.py:170: RuntimeWarning: divide by zero encountered in true_divide\n",
      "  distance = 1 / np.sqrt(freq_upper_triangle)\n",
      "C:\\Users\\mahsh\\AppData\\Local\\Temp\\ipykernel_19644\\1022061950.py:45: FutureWarning: The frame.append method is deprecated and will be removed from pandas in a future version. Use pandas.concat instead.\n",
      "  winners = winners.append({'filename': filename, 'diff': diff, \"interval gamma\": gamma, \"#candidates\": len(candidates), 'IRV1': irv1, 'Condorcet1': condorcet1,\n"
     ]
    },
    {
     "name": "stdout",
     "output_type": "stream",
     "text": [
      "162   Minneapolis_11062009_Ward11CityCouncil.csv\n"
     ]
    },
    {
     "name": "stderr",
     "output_type": "stream",
     "text": [
      "c:\\Users\\mahsh\\Documents\\GitHub\\bugs-in-democracy\\EIL summer 2023\\rcv_dimensionality.py:170: RuntimeWarning: divide by zero encountered in true_divide\n",
      "  distance = 1 / np.sqrt(freq_upper_triangle)\n",
      "C:\\Users\\mahsh\\AppData\\Local\\Temp\\ipykernel_19644\\1022061950.py:45: FutureWarning: The frame.append method is deprecated and will be removed from pandas in a future version. Use pandas.concat instead.\n",
      "  winners = winners.append({'filename': filename, 'diff': diff, \"interval gamma\": gamma, \"#candidates\": len(candidates), 'IRV1': irv1, 'Condorcet1': condorcet1,\n"
     ]
    },
    {
     "name": "stdout",
     "output_type": "stream",
     "text": [
      "163   Minneapolis_11062009_Ward12CityCouncil.csv\n"
     ]
    },
    {
     "name": "stderr",
     "output_type": "stream",
     "text": [
      "c:\\Users\\mahsh\\Documents\\GitHub\\bugs-in-democracy\\EIL summer 2023\\rcv_dimensionality.py:170: RuntimeWarning: divide by zero encountered in true_divide\n",
      "  distance = 1 / np.sqrt(freq_upper_triangle)\n",
      "C:\\Users\\mahsh\\AppData\\Local\\Temp\\ipykernel_19644\\1022061950.py:45: FutureWarning: The frame.append method is deprecated and will be removed from pandas in a future version. Use pandas.concat instead.\n",
      "  winners = winners.append({'filename': filename, 'diff': diff, \"interval gamma\": gamma, \"#candidates\": len(candidates), 'IRV1': irv1, 'Condorcet1': condorcet1,\n"
     ]
    },
    {
     "name": "stdout",
     "output_type": "stream",
     "text": [
      "164   Minneapolis_11062009_Ward13CityCouncil.csv\n"
     ]
    },
    {
     "name": "stderr",
     "output_type": "stream",
     "text": [
      "c:\\Users\\mahsh\\Documents\\GitHub\\bugs-in-democracy\\EIL summer 2023\\rcv_dimensionality.py:170: RuntimeWarning: divide by zero encountered in true_divide\n",
      "  distance = 1 / np.sqrt(freq_upper_triangle)\n",
      "C:\\Users\\mahsh\\AppData\\Local\\Temp\\ipykernel_19644\\1022061950.py:45: FutureWarning: The frame.append method is deprecated and will be removed from pandas in a future version. Use pandas.concat instead.\n",
      "  winners = winners.append({'filename': filename, 'diff': diff, \"interval gamma\": gamma, \"#candidates\": len(candidates), 'IRV1': irv1, 'Condorcet1': condorcet1,\n"
     ]
    },
    {
     "name": "stdout",
     "output_type": "stream",
     "text": [
      "165   Minneapolis_11062009_Ward1CityCouncil.csv\n"
     ]
    },
    {
     "name": "stderr",
     "output_type": "stream",
     "text": [
      "c:\\Users\\mahsh\\Documents\\GitHub\\bugs-in-democracy\\EIL summer 2023\\rcv_dimensionality.py:170: RuntimeWarning: divide by zero encountered in true_divide\n",
      "  distance = 1 / np.sqrt(freq_upper_triangle)\n",
      "C:\\Users\\mahsh\\AppData\\Local\\Temp\\ipykernel_19644\\1022061950.py:45: FutureWarning: The frame.append method is deprecated and will be removed from pandas in a future version. Use pandas.concat instead.\n",
      "  winners = winners.append({'filename': filename, 'diff': diff, \"interval gamma\": gamma, \"#candidates\": len(candidates), 'IRV1': irv1, 'Condorcet1': condorcet1,\n"
     ]
    },
    {
     "name": "stdout",
     "output_type": "stream",
     "text": [
      "166   Minneapolis_11062009_Ward2CityCouncil.csv\n"
     ]
    },
    {
     "name": "stderr",
     "output_type": "stream",
     "text": [
      "c:\\Users\\mahsh\\Documents\\GitHub\\bugs-in-democracy\\EIL summer 2023\\rcv_dimensionality.py:170: RuntimeWarning: divide by zero encountered in true_divide\n",
      "  distance = 1 / np.sqrt(freq_upper_triangle)\n",
      "C:\\Users\\mahsh\\AppData\\Local\\Temp\\ipykernel_19644\\1022061950.py:45: FutureWarning: The frame.append method is deprecated and will be removed from pandas in a future version. Use pandas.concat instead.\n",
      "  winners = winners.append({'filename': filename, 'diff': diff, \"interval gamma\": gamma, \"#candidates\": len(candidates), 'IRV1': irv1, 'Condorcet1': condorcet1,\n"
     ]
    },
    {
     "name": "stdout",
     "output_type": "stream",
     "text": [
      "167   Minneapolis_11062009_Ward3CityCouncil.csv\n"
     ]
    },
    {
     "name": "stderr",
     "output_type": "stream",
     "text": [
      "c:\\Users\\mahsh\\Documents\\GitHub\\bugs-in-democracy\\EIL summer 2023\\rcv_dimensionality.py:170: RuntimeWarning: divide by zero encountered in true_divide\n",
      "  distance = 1 / np.sqrt(freq_upper_triangle)\n",
      "C:\\Users\\mahsh\\AppData\\Local\\Temp\\ipykernel_19644\\1022061950.py:45: FutureWarning: The frame.append method is deprecated and will be removed from pandas in a future version. Use pandas.concat instead.\n",
      "  winners = winners.append({'filename': filename, 'diff': diff, \"interval gamma\": gamma, \"#candidates\": len(candidates), 'IRV1': irv1, 'Condorcet1': condorcet1,\n"
     ]
    },
    {
     "name": "stdout",
     "output_type": "stream",
     "text": [
      "168   Minneapolis_11062009_Ward4CityCouncil.csv\n"
     ]
    },
    {
     "name": "stderr",
     "output_type": "stream",
     "text": [
      "c:\\Users\\mahsh\\Documents\\GitHub\\bugs-in-democracy\\EIL summer 2023\\rcv_dimensionality.py:170: RuntimeWarning: divide by zero encountered in true_divide\n",
      "  distance = 1 / np.sqrt(freq_upper_triangle)\n",
      "C:\\Users\\mahsh\\AppData\\Local\\Temp\\ipykernel_19644\\1022061950.py:45: FutureWarning: The frame.append method is deprecated and will be removed from pandas in a future version. Use pandas.concat instead.\n",
      "  winners = winners.append({'filename': filename, 'diff': diff, \"interval gamma\": gamma, \"#candidates\": len(candidates), 'IRV1': irv1, 'Condorcet1': condorcet1,\n"
     ]
    },
    {
     "name": "stdout",
     "output_type": "stream",
     "text": [
      "169   Minneapolis_11062009_Ward5CityCouncil.csv\n"
     ]
    },
    {
     "name": "stderr",
     "output_type": "stream",
     "text": [
      "c:\\Users\\mahsh\\Documents\\GitHub\\bugs-in-democracy\\EIL summer 2023\\rcv_dimensionality.py:170: RuntimeWarning: divide by zero encountered in true_divide\n",
      "  distance = 1 / np.sqrt(freq_upper_triangle)\n",
      "C:\\Users\\mahsh\\AppData\\Local\\Temp\\ipykernel_19644\\1022061950.py:45: FutureWarning: The frame.append method is deprecated and will be removed from pandas in a future version. Use pandas.concat instead.\n",
      "  winners = winners.append({'filename': filename, 'diff': diff, \"interval gamma\": gamma, \"#candidates\": len(candidates), 'IRV1': irv1, 'Condorcet1': condorcet1,\n"
     ]
    },
    {
     "name": "stdout",
     "output_type": "stream",
     "text": [
      "170   Minneapolis_11062009_Ward6CityCouncil.csv\n"
     ]
    },
    {
     "name": "stderr",
     "output_type": "stream",
     "text": [
      "c:\\Users\\mahsh\\Documents\\GitHub\\bugs-in-democracy\\EIL summer 2023\\rcv_dimensionality.py:170: RuntimeWarning: divide by zero encountered in true_divide\n",
      "  distance = 1 / np.sqrt(freq_upper_triangle)\n",
      "C:\\Users\\mahsh\\AppData\\Local\\Temp\\ipykernel_19644\\1022061950.py:45: FutureWarning: The frame.append method is deprecated and will be removed from pandas in a future version. Use pandas.concat instead.\n",
      "  winners = winners.append({'filename': filename, 'diff': diff, \"interval gamma\": gamma, \"#candidates\": len(candidates), 'IRV1': irv1, 'Condorcet1': condorcet1,\n"
     ]
    },
    {
     "name": "stdout",
     "output_type": "stream",
     "text": [
      "171   Minneapolis_11062009_Ward7CityCouncil.csv\n"
     ]
    },
    {
     "name": "stderr",
     "output_type": "stream",
     "text": [
      "c:\\Users\\mahsh\\Documents\\GitHub\\bugs-in-democracy\\EIL summer 2023\\rcv_dimensionality.py:170: RuntimeWarning: divide by zero encountered in true_divide\n",
      "  distance = 1 / np.sqrt(freq_upper_triangle)\n",
      "C:\\Users\\mahsh\\AppData\\Local\\Temp\\ipykernel_19644\\1022061950.py:45: FutureWarning: The frame.append method is deprecated and will be removed from pandas in a future version. Use pandas.concat instead.\n",
      "  winners = winners.append({'filename': filename, 'diff': diff, \"interval gamma\": gamma, \"#candidates\": len(candidates), 'IRV1': irv1, 'Condorcet1': condorcet1,\n"
     ]
    },
    {
     "name": "stdout",
     "output_type": "stream",
     "text": [
      "172   Minneapolis_11062009_Ward8CityCouncil.csv\n"
     ]
    },
    {
     "name": "stderr",
     "output_type": "stream",
     "text": [
      "c:\\Users\\mahsh\\Documents\\GitHub\\bugs-in-democracy\\EIL summer 2023\\rcv_dimensionality.py:170: RuntimeWarning: divide by zero encountered in true_divide\n",
      "  distance = 1 / np.sqrt(freq_upper_triangle)\n",
      "C:\\Users\\mahsh\\AppData\\Local\\Temp\\ipykernel_19644\\1022061950.py:45: FutureWarning: The frame.append method is deprecated and will be removed from pandas in a future version. Use pandas.concat instead.\n",
      "  winners = winners.append({'filename': filename, 'diff': diff, \"interval gamma\": gamma, \"#candidates\": len(candidates), 'IRV1': irv1, 'Condorcet1': condorcet1,\n"
     ]
    },
    {
     "name": "stdout",
     "output_type": "stream",
     "text": [
      "173   Minneapolis_11062009_Ward9CityCouncil.csv\n"
     ]
    },
    {
     "name": "stderr",
     "output_type": "stream",
     "text": [
      "c:\\Users\\mahsh\\Documents\\GitHub\\bugs-in-democracy\\EIL summer 2023\\rcv_dimensionality.py:170: RuntimeWarning: divide by zero encountered in true_divide\n",
      "  distance = 1 / np.sqrt(freq_upper_triangle)\n",
      "C:\\Users\\mahsh\\AppData\\Local\\Temp\\ipykernel_19644\\1022061950.py:45: FutureWarning: The frame.append method is deprecated and will be removed from pandas in a future version. Use pandas.concat instead.\n",
      "  winners = winners.append({'filename': filename, 'diff': diff, \"interval gamma\": gamma, \"#candidates\": len(candidates), 'IRV1': irv1, 'Condorcet1': condorcet1,\n"
     ]
    },
    {
     "name": "stdout",
     "output_type": "stream",
     "text": [
      "174   Minneapolis_11072017_Mayor.csv\n"
     ]
    },
    {
     "name": "stderr",
     "output_type": "stream",
     "text": [
      "c:\\Users\\mahsh\\Documents\\GitHub\\bugs-in-democracy\\EIL summer 2023\\rcv_dimensionality.py:159: RuntimeWarning: divide by zero encountered in true_divide\n",
      "  frequencies = counts / mentioned_together\n",
      "c:\\Users\\mahsh\\Documents\\GitHub\\bugs-in-democracy\\EIL summer 2023\\rcv_dimensionality.py:159: RuntimeWarning: invalid value encountered in true_divide\n",
      "  frequencies = counts / mentioned_together\n",
      "c:\\Users\\mahsh\\Documents\\GitHub\\bugs-in-democracy\\EIL summer 2023\\rcv_dimensionality.py:170: RuntimeWarning: divide by zero encountered in true_divide\n",
      "  distance = 1 / np.sqrt(freq_upper_triangle)\n",
      "C:\\Users\\mahsh\\AppData\\Local\\Temp\\ipykernel_19644\\1022061950.py:45: FutureWarning: The frame.append method is deprecated and will be removed from pandas in a future version. Use pandas.concat instead.\n",
      "  winners = winners.append({'filename': filename, 'diff': diff, \"interval gamma\": gamma, \"#candidates\": len(candidates), 'IRV1': irv1, 'Condorcet1': condorcet1,\n"
     ]
    },
    {
     "name": "stdout",
     "output_type": "stream",
     "text": [
      "175   Minneapolis_11072017_PRBoardDistrict1.csv\n"
     ]
    },
    {
     "name": "stderr",
     "output_type": "stream",
     "text": [
      "c:\\Users\\mahsh\\Documents\\GitHub\\bugs-in-democracy\\EIL summer 2023\\rcv_dimensionality.py:170: RuntimeWarning: divide by zero encountered in true_divide\n",
      "  distance = 1 / np.sqrt(freq_upper_triangle)\n",
      "C:\\Users\\mahsh\\AppData\\Local\\Temp\\ipykernel_19644\\1022061950.py:45: FutureWarning: The frame.append method is deprecated and will be removed from pandas in a future version. Use pandas.concat instead.\n",
      "  winners = winners.append({'filename': filename, 'diff': diff, \"interval gamma\": gamma, \"#candidates\": len(candidates), 'IRV1': irv1, 'Condorcet1': condorcet1,\n"
     ]
    },
    {
     "name": "stdout",
     "output_type": "stream",
     "text": [
      "176   Minneapolis_11072017_PRBoardDistrict2.csv\n"
     ]
    },
    {
     "name": "stderr",
     "output_type": "stream",
     "text": [
      "c:\\Users\\mahsh\\Documents\\GitHub\\bugs-in-democracy\\EIL summer 2023\\rcv_dimensionality.py:170: RuntimeWarning: divide by zero encountered in true_divide\n",
      "  distance = 1 / np.sqrt(freq_upper_triangle)\n",
      "C:\\Users\\mahsh\\AppData\\Local\\Temp\\ipykernel_19644\\1022061950.py:45: FutureWarning: The frame.append method is deprecated and will be removed from pandas in a future version. Use pandas.concat instead.\n",
      "  winners = winners.append({'filename': filename, 'diff': diff, \"interval gamma\": gamma, \"#candidates\": len(candidates), 'IRV1': irv1, 'Condorcet1': condorcet1,\n"
     ]
    },
    {
     "name": "stdout",
     "output_type": "stream",
     "text": [
      "177   Minneapolis_11072017_PRBoardDistrict3.csv\n"
     ]
    },
    {
     "name": "stderr",
     "output_type": "stream",
     "text": [
      "c:\\Users\\mahsh\\Documents\\GitHub\\bugs-in-democracy\\EIL summer 2023\\rcv_dimensionality.py:170: RuntimeWarning: divide by zero encountered in true_divide\n",
      "  distance = 1 / np.sqrt(freq_upper_triangle)\n",
      "C:\\Users\\mahsh\\AppData\\Local\\Temp\\ipykernel_19644\\1022061950.py:45: FutureWarning: The frame.append method is deprecated and will be removed from pandas in a future version. Use pandas.concat instead.\n",
      "  winners = winners.append({'filename': filename, 'diff': diff, \"interval gamma\": gamma, \"#candidates\": len(candidates), 'IRV1': irv1, 'Condorcet1': condorcet1,\n"
     ]
    },
    {
     "name": "stdout",
     "output_type": "stream",
     "text": [
      "178   Minneapolis_11072017_PRBoardDistrict4.csv\n"
     ]
    },
    {
     "name": "stderr",
     "output_type": "stream",
     "text": [
      "c:\\Users\\mahsh\\Documents\\GitHub\\bugs-in-democracy\\EIL summer 2023\\rcv_dimensionality.py:170: RuntimeWarning: divide by zero encountered in true_divide\n",
      "  distance = 1 / np.sqrt(freq_upper_triangle)\n",
      "C:\\Users\\mahsh\\AppData\\Local\\Temp\\ipykernel_19644\\1022061950.py:45: FutureWarning: The frame.append method is deprecated and will be removed from pandas in a future version. Use pandas.concat instead.\n",
      "  winners = winners.append({'filename': filename, 'diff': diff, \"interval gamma\": gamma, \"#candidates\": len(candidates), 'IRV1': irv1, 'Condorcet1': condorcet1,\n"
     ]
    },
    {
     "name": "stdout",
     "output_type": "stream",
     "text": [
      "179   Minneapolis_11072017_PRBoardDistrict5.csv\n"
     ]
    },
    {
     "name": "stderr",
     "output_type": "stream",
     "text": [
      "c:\\Users\\mahsh\\Documents\\GitHub\\bugs-in-democracy\\EIL summer 2023\\rcv_dimensionality.py:170: RuntimeWarning: divide by zero encountered in true_divide\n",
      "  distance = 1 / np.sqrt(freq_upper_triangle)\n",
      "C:\\Users\\mahsh\\AppData\\Local\\Temp\\ipykernel_19644\\1022061950.py:45: FutureWarning: The frame.append method is deprecated and will be removed from pandas in a future version. Use pandas.concat instead.\n",
      "  winners = winners.append({'filename': filename, 'diff': diff, \"interval gamma\": gamma, \"#candidates\": len(candidates), 'IRV1': irv1, 'Condorcet1': condorcet1,\n"
     ]
    },
    {
     "name": "stdout",
     "output_type": "stream",
     "text": [
      "180   Minneapolis_11072017_PRBoardDistrict6.csv\n"
     ]
    },
    {
     "name": "stderr",
     "output_type": "stream",
     "text": [
      "c:\\Users\\mahsh\\Documents\\GitHub\\bugs-in-democracy\\EIL summer 2023\\rcv_dimensionality.py:170: RuntimeWarning: divide by zero encountered in true_divide\n",
      "  distance = 1 / np.sqrt(freq_upper_triangle)\n",
      "C:\\Users\\mahsh\\AppData\\Local\\Temp\\ipykernel_19644\\1022061950.py:45: FutureWarning: The frame.append method is deprecated and will be removed from pandas in a future version. Use pandas.concat instead.\n",
      "  winners = winners.append({'filename': filename, 'diff': diff, \"interval gamma\": gamma, \"#candidates\": len(candidates), 'IRV1': irv1, 'Condorcet1': condorcet1,\n"
     ]
    },
    {
     "name": "stdout",
     "output_type": "stream",
     "text": [
      "181   Minneapolis_11072017_Ward10CityCouncil.csv\n"
     ]
    },
    {
     "name": "stderr",
     "output_type": "stream",
     "text": [
      "c:\\Users\\mahsh\\Documents\\GitHub\\bugs-in-democracy\\EIL summer 2023\\rcv_dimensionality.py:170: RuntimeWarning: divide by zero encountered in true_divide\n",
      "  distance = 1 / np.sqrt(freq_upper_triangle)\n",
      "C:\\Users\\mahsh\\AppData\\Local\\Temp\\ipykernel_19644\\1022061950.py:45: FutureWarning: The frame.append method is deprecated and will be removed from pandas in a future version. Use pandas.concat instead.\n",
      "  winners = winners.append({'filename': filename, 'diff': diff, \"interval gamma\": gamma, \"#candidates\": len(candidates), 'IRV1': irv1, 'Condorcet1': condorcet1,\n"
     ]
    },
    {
     "name": "stdout",
     "output_type": "stream",
     "text": [
      "182   Minneapolis_11072017_Ward11CityCouncil.csv\n"
     ]
    },
    {
     "name": "stderr",
     "output_type": "stream",
     "text": [
      "c:\\Users\\mahsh\\Documents\\GitHub\\bugs-in-democracy\\EIL summer 2023\\rcv_dimensionality.py:170: RuntimeWarning: divide by zero encountered in true_divide\n",
      "  distance = 1 / np.sqrt(freq_upper_triangle)\n",
      "C:\\Users\\mahsh\\AppData\\Local\\Temp\\ipykernel_19644\\1022061950.py:45: FutureWarning: The frame.append method is deprecated and will be removed from pandas in a future version. Use pandas.concat instead.\n",
      "  winners = winners.append({'filename': filename, 'diff': diff, \"interval gamma\": gamma, \"#candidates\": len(candidates), 'IRV1': irv1, 'Condorcet1': condorcet1,\n"
     ]
    },
    {
     "name": "stdout",
     "output_type": "stream",
     "text": [
      "183   Minneapolis_11072017_Ward12CityCouncil.csv\n"
     ]
    },
    {
     "name": "stderr",
     "output_type": "stream",
     "text": [
      "c:\\Users\\mahsh\\Documents\\GitHub\\bugs-in-democracy\\EIL summer 2023\\rcv_dimensionality.py:170: RuntimeWarning: divide by zero encountered in true_divide\n",
      "  distance = 1 / np.sqrt(freq_upper_triangle)\n",
      "C:\\Users\\mahsh\\AppData\\Local\\Temp\\ipykernel_19644\\1022061950.py:45: FutureWarning: The frame.append method is deprecated and will be removed from pandas in a future version. Use pandas.concat instead.\n",
      "  winners = winners.append({'filename': filename, 'diff': diff, \"interval gamma\": gamma, \"#candidates\": len(candidates), 'IRV1': irv1, 'Condorcet1': condorcet1,\n"
     ]
    },
    {
     "name": "stdout",
     "output_type": "stream",
     "text": [
      "184   Minneapolis_11072017_Ward13CityCouncil.csv\n"
     ]
    },
    {
     "name": "stderr",
     "output_type": "stream",
     "text": [
      "c:\\Users\\mahsh\\Documents\\GitHub\\bugs-in-democracy\\EIL summer 2023\\rcv_dimensionality.py:170: RuntimeWarning: divide by zero encountered in true_divide\n",
      "  distance = 1 / np.sqrt(freq_upper_triangle)\n",
      "C:\\Users\\mahsh\\AppData\\Local\\Temp\\ipykernel_19644\\1022061950.py:45: FutureWarning: The frame.append method is deprecated and will be removed from pandas in a future version. Use pandas.concat instead.\n",
      "  winners = winners.append({'filename': filename, 'diff': diff, \"interval gamma\": gamma, \"#candidates\": len(candidates), 'IRV1': irv1, 'Condorcet1': condorcet1,\n"
     ]
    },
    {
     "name": "stdout",
     "output_type": "stream",
     "text": [
      "185   Minneapolis_11072017_Ward1CityCouncil.csv\n"
     ]
    },
    {
     "name": "stderr",
     "output_type": "stream",
     "text": [
      "c:\\Users\\mahsh\\Documents\\GitHub\\bugs-in-democracy\\EIL summer 2023\\rcv_dimensionality.py:170: RuntimeWarning: divide by zero encountered in true_divide\n",
      "  distance = 1 / np.sqrt(freq_upper_triangle)\n",
      "C:\\Users\\mahsh\\AppData\\Local\\Temp\\ipykernel_19644\\1022061950.py:45: FutureWarning: The frame.append method is deprecated and will be removed from pandas in a future version. Use pandas.concat instead.\n",
      "  winners = winners.append({'filename': filename, 'diff': diff, \"interval gamma\": gamma, \"#candidates\": len(candidates), 'IRV1': irv1, 'Condorcet1': condorcet1,\n"
     ]
    },
    {
     "name": "stdout",
     "output_type": "stream",
     "text": [
      "186   Minneapolis_11072017_Ward2CityCouncil.csv\n",
      "Minneapolis_11072017_Ward2CityCouncil.csv  threw an exception\n",
      "187   Minneapolis_11072017_Ward3CityCouncil.csv\n"
     ]
    },
    {
     "name": "stderr",
     "output_type": "stream",
     "text": [
      "c:\\Users\\mahsh\\Documents\\GitHub\\bugs-in-democracy\\EIL summer 2023\\rcv_dimensionality.py:170: RuntimeWarning: divide by zero encountered in true_divide\n",
      "  distance = 1 / np.sqrt(freq_upper_triangle)\n",
      "C:\\Users\\mahsh\\AppData\\Local\\Temp\\ipykernel_19644\\1022061950.py:45: FutureWarning: The frame.append method is deprecated and will be removed from pandas in a future version. Use pandas.concat instead.\n",
      "  winners = winners.append({'filename': filename, 'diff': diff, \"interval gamma\": gamma, \"#candidates\": len(candidates), 'IRV1': irv1, 'Condorcet1': condorcet1,\n"
     ]
    },
    {
     "name": "stdout",
     "output_type": "stream",
     "text": [
      "188   Minneapolis_11072017_Ward4CityCouncil.csv\n"
     ]
    },
    {
     "name": "stderr",
     "output_type": "stream",
     "text": [
      "c:\\Users\\mahsh\\Documents\\GitHub\\bugs-in-democracy\\EIL summer 2023\\rcv_dimensionality.py:170: RuntimeWarning: divide by zero encountered in true_divide\n",
      "  distance = 1 / np.sqrt(freq_upper_triangle)\n",
      "C:\\Users\\mahsh\\AppData\\Local\\Temp\\ipykernel_19644\\1022061950.py:45: FutureWarning: The frame.append method is deprecated and will be removed from pandas in a future version. Use pandas.concat instead.\n",
      "  winners = winners.append({'filename': filename, 'diff': diff, \"interval gamma\": gamma, \"#candidates\": len(candidates), 'IRV1': irv1, 'Condorcet1': condorcet1,\n"
     ]
    },
    {
     "name": "stdout",
     "output_type": "stream",
     "text": [
      "189   Minneapolis_11072017_Ward5CityCouncil.csv\n"
     ]
    },
    {
     "name": "stderr",
     "output_type": "stream",
     "text": [
      "c:\\Users\\mahsh\\Documents\\GitHub\\bugs-in-democracy\\EIL summer 2023\\rcv_dimensionality.py:170: RuntimeWarning: divide by zero encountered in true_divide\n",
      "  distance = 1 / np.sqrt(freq_upper_triangle)\n",
      "C:\\Users\\mahsh\\AppData\\Local\\Temp\\ipykernel_19644\\1022061950.py:45: FutureWarning: The frame.append method is deprecated and will be removed from pandas in a future version. Use pandas.concat instead.\n",
      "  winners = winners.append({'filename': filename, 'diff': diff, \"interval gamma\": gamma, \"#candidates\": len(candidates), 'IRV1': irv1, 'Condorcet1': condorcet1,\n"
     ]
    },
    {
     "name": "stdout",
     "output_type": "stream",
     "text": [
      "190   Minneapolis_11072017_Ward6CityCouncil.csv\n"
     ]
    },
    {
     "name": "stderr",
     "output_type": "stream",
     "text": [
      "c:\\Users\\mahsh\\Documents\\GitHub\\bugs-in-democracy\\EIL summer 2023\\rcv_dimensionality.py:170: RuntimeWarning: divide by zero encountered in true_divide\n",
      "  distance = 1 / np.sqrt(freq_upper_triangle)\n",
      "C:\\Users\\mahsh\\AppData\\Local\\Temp\\ipykernel_19644\\1022061950.py:45: FutureWarning: The frame.append method is deprecated and will be removed from pandas in a future version. Use pandas.concat instead.\n",
      "  winners = winners.append({'filename': filename, 'diff': diff, \"interval gamma\": gamma, \"#candidates\": len(candidates), 'IRV1': irv1, 'Condorcet1': condorcet1,\n"
     ]
    },
    {
     "name": "stdout",
     "output_type": "stream",
     "text": [
      "191   Minneapolis_11072017_Ward7CityCouncil.csv\n"
     ]
    },
    {
     "name": "stderr",
     "output_type": "stream",
     "text": [
      "c:\\Users\\mahsh\\Documents\\GitHub\\bugs-in-democracy\\EIL summer 2023\\rcv_dimensionality.py:170: RuntimeWarning: divide by zero encountered in true_divide\n",
      "  distance = 1 / np.sqrt(freq_upper_triangle)\n",
      "C:\\Users\\mahsh\\AppData\\Local\\Temp\\ipykernel_19644\\1022061950.py:45: FutureWarning: The frame.append method is deprecated and will be removed from pandas in a future version. Use pandas.concat instead.\n",
      "  winners = winners.append({'filename': filename, 'diff': diff, \"interval gamma\": gamma, \"#candidates\": len(candidates), 'IRV1': irv1, 'Condorcet1': condorcet1,\n"
     ]
    },
    {
     "name": "stdout",
     "output_type": "stream",
     "text": [
      "192   Minneapolis_11072017_Ward8CityCouncil.csv\n"
     ]
    },
    {
     "name": "stderr",
     "output_type": "stream",
     "text": [
      "c:\\Users\\mahsh\\Documents\\GitHub\\bugs-in-democracy\\EIL summer 2023\\rcv_dimensionality.py:170: RuntimeWarning: divide by zero encountered in true_divide\n",
      "  distance = 1 / np.sqrt(freq_upper_triangle)\n",
      "C:\\Users\\mahsh\\AppData\\Local\\Temp\\ipykernel_19644\\1022061950.py:45: FutureWarning: The frame.append method is deprecated and will be removed from pandas in a future version. Use pandas.concat instead.\n",
      "  winners = winners.append({'filename': filename, 'diff': diff, \"interval gamma\": gamma, \"#candidates\": len(candidates), 'IRV1': irv1, 'Condorcet1': condorcet1,\n"
     ]
    },
    {
     "name": "stdout",
     "output_type": "stream",
     "text": [
      "193   Minneapolis_11072017_Ward9CityCouncil.csv\n"
     ]
    },
    {
     "name": "stderr",
     "output_type": "stream",
     "text": [
      "c:\\Users\\mahsh\\Documents\\GitHub\\bugs-in-democracy\\EIL summer 2023\\rcv_dimensionality.py:170: RuntimeWarning: divide by zero encountered in true_divide\n",
      "  distance = 1 / np.sqrt(freq_upper_triangle)\n",
      "C:\\Users\\mahsh\\AppData\\Local\\Temp\\ipykernel_19644\\1022061950.py:45: FutureWarning: The frame.append method is deprecated and will be removed from pandas in a future version. Use pandas.concat instead.\n",
      "  winners = winners.append({'filename': filename, 'diff': diff, \"interval gamma\": gamma, \"#candidates\": len(candidates), 'IRV1': irv1, 'Condorcet1': condorcet1,\n"
     ]
    },
    {
     "name": "stdout",
     "output_type": "stream",
     "text": [
      "194   Minnetonka_11022021_CityCouncilAtLargeSeatA.csv\n"
     ]
    },
    {
     "name": "stderr",
     "output_type": "stream",
     "text": [
      "c:\\Users\\mahsh\\Documents\\GitHub\\bugs-in-democracy\\EIL summer 2023\\rcv_dimensionality.py:170: RuntimeWarning: divide by zero encountered in true_divide\n",
      "  distance = 1 / np.sqrt(freq_upper_triangle)\n",
      "C:\\Users\\mahsh\\AppData\\Local\\Temp\\ipykernel_19644\\1022061950.py:45: FutureWarning: The frame.append method is deprecated and will be removed from pandas in a future version. Use pandas.concat instead.\n",
      "  winners = winners.append({'filename': filename, 'diff': diff, \"interval gamma\": gamma, \"#candidates\": len(candidates), 'IRV1': irv1, 'Condorcet1': condorcet1,\n"
     ]
    },
    {
     "name": "stdout",
     "output_type": "stream",
     "text": [
      "195   Minnetonka_11022021_CityCouncilAtLargeSeatB.csv\n"
     ]
    },
    {
     "name": "stderr",
     "output_type": "stream",
     "text": [
      "c:\\Users\\mahsh\\Documents\\GitHub\\bugs-in-democracy\\EIL summer 2023\\rcv_dimensionality.py:170: RuntimeWarning: divide by zero encountered in true_divide\n",
      "  distance = 1 / np.sqrt(freq_upper_triangle)\n",
      "C:\\Users\\mahsh\\AppData\\Local\\Temp\\ipykernel_19644\\1022061950.py:45: FutureWarning: The frame.append method is deprecated and will be removed from pandas in a future version. Use pandas.concat instead.\n",
      "  winners = winners.append({'filename': filename, 'diff': diff, \"interval gamma\": gamma, \"#candidates\": len(candidates), 'IRV1': irv1, 'Condorcet1': condorcet1,\n"
     ]
    },
    {
     "name": "stdout",
     "output_type": "stream",
     "text": [
      "196   Minnetonka_11022021_Mayor.csv\n"
     ]
    },
    {
     "name": "stderr",
     "output_type": "stream",
     "text": [
      "c:\\Users\\mahsh\\Documents\\GitHub\\bugs-in-democracy\\EIL summer 2023\\rcv_dimensionality.py:170: RuntimeWarning: divide by zero encountered in true_divide\n",
      "  distance = 1 / np.sqrt(freq_upper_triangle)\n",
      "C:\\Users\\mahsh\\AppData\\Local\\Temp\\ipykernel_19644\\1022061950.py:45: FutureWarning: The frame.append method is deprecated and will be removed from pandas in a future version. Use pandas.concat instead.\n",
      "  winners = winners.append({'filename': filename, 'diff': diff, \"interval gamma\": gamma, \"#candidates\": len(candidates), 'IRV1': irv1, 'Condorcet1': condorcet1,\n"
     ]
    },
    {
     "name": "stdout",
     "output_type": "stream",
     "text": [
      "197   NewYorkCity_06222021_CONCouncilMember19thCouncilDistrict.csv\n"
     ]
    },
    {
     "name": "stderr",
     "output_type": "stream",
     "text": [
      "c:\\Users\\mahsh\\Documents\\GitHub\\bugs-in-democracy\\EIL summer 2023\\rcv_dimensionality.py:170: RuntimeWarning: divide by zero encountered in true_divide\n",
      "  distance = 1 / np.sqrt(freq_upper_triangle)\n",
      "C:\\Users\\mahsh\\AppData\\Local\\Temp\\ipykernel_19644\\1022061950.py:45: FutureWarning: The frame.append method is deprecated and will be removed from pandas in a future version. Use pandas.concat instead.\n",
      "  winners = winners.append({'filename': filename, 'diff': diff, \"interval gamma\": gamma, \"#candidates\": len(candidates), 'IRV1': irv1, 'Condorcet1': condorcet1,\n"
     ]
    },
    {
     "name": "stdout",
     "output_type": "stream",
     "text": [
      "198   NewYorkCity_06222021_DEMBoroughPresidentBronx.csv\n"
     ]
    },
    {
     "name": "stderr",
     "output_type": "stream",
     "text": [
      "c:\\Users\\mahsh\\Documents\\GitHub\\bugs-in-democracy\\EIL summer 2023\\rcv_dimensionality.py:170: RuntimeWarning: divide by zero encountered in true_divide\n",
      "  distance = 1 / np.sqrt(freq_upper_triangle)\n",
      "C:\\Users\\mahsh\\AppData\\Local\\Temp\\ipykernel_19644\\1022061950.py:45: FutureWarning: The frame.append method is deprecated and will be removed from pandas in a future version. Use pandas.concat instead.\n",
      "  winners = winners.append({'filename': filename, 'diff': diff, \"interval gamma\": gamma, \"#candidates\": len(candidates), 'IRV1': irv1, 'Condorcet1': condorcet1,\n"
     ]
    },
    {
     "name": "stdout",
     "output_type": "stream",
     "text": [
      "199   NewYorkCity_06222021_DEMBoroughPresidentKings.csv\n"
     ]
    },
    {
     "name": "stderr",
     "output_type": "stream",
     "text": [
      "c:\\Users\\mahsh\\Documents\\GitHub\\bugs-in-democracy\\EIL summer 2023\\rcv_dimensionality.py:170: RuntimeWarning: divide by zero encountered in true_divide\n",
      "  distance = 1 / np.sqrt(freq_upper_triangle)\n",
      "C:\\Users\\mahsh\\AppData\\Local\\Temp\\ipykernel_19644\\1022061950.py:45: FutureWarning: The frame.append method is deprecated and will be removed from pandas in a future version. Use pandas.concat instead.\n",
      "  winners = winners.append({'filename': filename, 'diff': diff, \"interval gamma\": gamma, \"#candidates\": len(candidates), 'IRV1': irv1, 'Condorcet1': condorcet1,\n",
      "c:\\Users\\mahsh\\Documents\\GitHub\\bugs-in-democracy\\EIL summer 2023\\rcv_dimensionality.py:170: RuntimeWarning: divide by zero encountered in true_divide\n",
      "  distance = 1 / np.sqrt(freq_upper_triangle)\n",
      "C:\\Users\\mahsh\\AppData\\Local\\Temp\\ipykernel_19644\\1022061950.py:45: FutureWarning: The frame.append method is deprecated and will be removed from pandas in a future version. Use pandas.concat instead.\n",
      "  winners = winners.append({'filename': filename, 'diff': diff, \"interval gamma\": gamma, \"#candidates\": len(candidates), 'IRV1': irv1, 'Condorcet1': condorcet1,\n"
     ]
    },
    {
     "name": "stdout",
     "output_type": "stream",
     "text": [
      "201   NewYorkCity_06222021_DEMBoroughPresidentQueens.csv\n"
     ]
    },
    {
     "name": "stderr",
     "output_type": "stream",
     "text": [
      "c:\\Users\\mahsh\\Documents\\GitHub\\bugs-in-democracy\\EIL summer 2023\\rcv_dimensionality.py:170: RuntimeWarning: divide by zero encountered in true_divide\n",
      "  distance = 1 / np.sqrt(freq_upper_triangle)\n",
      "C:\\Users\\mahsh\\AppData\\Local\\Temp\\ipykernel_19644\\1022061950.py:45: FutureWarning: The frame.append method is deprecated and will be removed from pandas in a future version. Use pandas.concat instead.\n",
      "  winners = winners.append({'filename': filename, 'diff': diff, \"interval gamma\": gamma, \"#candidates\": len(candidates), 'IRV1': irv1, 'Condorcet1': condorcet1,\n"
     ]
    },
    {
     "name": "stdout",
     "output_type": "stream",
     "text": [
      "202   NewYorkCity_06222021_DEMBoroughPresidentRichmond.csv\n"
     ]
    },
    {
     "name": "stderr",
     "output_type": "stream",
     "text": [
      "c:\\Users\\mahsh\\Documents\\GitHub\\bugs-in-democracy\\EIL summer 2023\\rcv_dimensionality.py:170: RuntimeWarning: divide by zero encountered in true_divide\n",
      "  distance = 1 / np.sqrt(freq_upper_triangle)\n",
      "C:\\Users\\mahsh\\AppData\\Local\\Temp\\ipykernel_19644\\1022061950.py:45: FutureWarning: The frame.append method is deprecated and will be removed from pandas in a future version. Use pandas.concat instead.\n",
      "  winners = winners.append({'filename': filename, 'diff': diff, \"interval gamma\": gamma, \"#candidates\": len(candidates), 'IRV1': irv1, 'Condorcet1': condorcet1,\n"
     ]
    },
    {
     "name": "stdout",
     "output_type": "stream",
     "text": [
      "203   NewYorkCity_06222021_DEMComptrollerCitywide.csv\n"
     ]
    },
    {
     "name": "stderr",
     "output_type": "stream",
     "text": [
      "c:\\Users\\mahsh\\Documents\\GitHub\\bugs-in-democracy\\EIL summer 2023\\rcv_dimensionality.py:170: RuntimeWarning: divide by zero encountered in true_divide\n",
      "  distance = 1 / np.sqrt(freq_upper_triangle)\n",
      "C:\\Users\\mahsh\\AppData\\Local\\Temp\\ipykernel_19644\\1022061950.py:45: FutureWarning: The frame.append method is deprecated and will be removed from pandas in a future version. Use pandas.concat instead.\n",
      "  winners = winners.append({'filename': filename, 'diff': diff, \"interval gamma\": gamma, \"#candidates\": len(candidates), 'IRV1': irv1, 'Condorcet1': condorcet1,\n"
     ]
    },
    {
     "name": "stdout",
     "output_type": "stream",
     "text": [
      "204   NewYorkCity_06222021_DEMCouncilMember10thCouncilDistrict.csv\n"
     ]
    },
    {
     "name": "stderr",
     "output_type": "stream",
     "text": [
      "c:\\Users\\mahsh\\Documents\\GitHub\\bugs-in-democracy\\EIL summer 2023\\rcv_dimensionality.py:170: RuntimeWarning: divide by zero encountered in true_divide\n",
      "  distance = 1 / np.sqrt(freq_upper_triangle)\n",
      "C:\\Users\\mahsh\\AppData\\Local\\Temp\\ipykernel_19644\\1022061950.py:45: FutureWarning: The frame.append method is deprecated and will be removed from pandas in a future version. Use pandas.concat instead.\n",
      "  winners = winners.append({'filename': filename, 'diff': diff, \"interval gamma\": gamma, \"#candidates\": len(candidates), 'IRV1': irv1, 'Condorcet1': condorcet1,\n"
     ]
    },
    {
     "name": "stdout",
     "output_type": "stream",
     "text": [
      "205   NewYorkCity_06222021_DEMCouncilMember11thCouncilDistrict.csv\n"
     ]
    },
    {
     "name": "stderr",
     "output_type": "stream",
     "text": [
      "c:\\Users\\mahsh\\Documents\\GitHub\\bugs-in-democracy\\EIL summer 2023\\rcv_dimensionality.py:170: RuntimeWarning: divide by zero encountered in true_divide\n",
      "  distance = 1 / np.sqrt(freq_upper_triangle)\n",
      "C:\\Users\\mahsh\\AppData\\Local\\Temp\\ipykernel_19644\\1022061950.py:45: FutureWarning: The frame.append method is deprecated and will be removed from pandas in a future version. Use pandas.concat instead.\n",
      "  winners = winners.append({'filename': filename, 'diff': diff, \"interval gamma\": gamma, \"#candidates\": len(candidates), 'IRV1': irv1, 'Condorcet1': condorcet1,\n"
     ]
    },
    {
     "name": "stdout",
     "output_type": "stream",
     "text": [
      "206   NewYorkCity_06222021_DEMCouncilMember12thCouncilDistrict.csv\n"
     ]
    },
    {
     "name": "stderr",
     "output_type": "stream",
     "text": [
      "c:\\Users\\mahsh\\Documents\\GitHub\\bugs-in-democracy\\EIL summer 2023\\rcv_dimensionality.py:170: RuntimeWarning: divide by zero encountered in true_divide\n",
      "  distance = 1 / np.sqrt(freq_upper_triangle)\n",
      "C:\\Users\\mahsh\\AppData\\Local\\Temp\\ipykernel_19644\\1022061950.py:45: FutureWarning: The frame.append method is deprecated and will be removed from pandas in a future version. Use pandas.concat instead.\n",
      "  winners = winners.append({'filename': filename, 'diff': diff, \"interval gamma\": gamma, \"#candidates\": len(candidates), 'IRV1': irv1, 'Condorcet1': condorcet1,\n"
     ]
    },
    {
     "name": "stdout",
     "output_type": "stream",
     "text": [
      "207   NewYorkCity_06222021_DEMCouncilMember13thCouncilDistrict.csv\n"
     ]
    },
    {
     "name": "stderr",
     "output_type": "stream",
     "text": [
      "c:\\Users\\mahsh\\Documents\\GitHub\\bugs-in-democracy\\EIL summer 2023\\rcv_dimensionality.py:170: RuntimeWarning: divide by zero encountered in true_divide\n",
      "  distance = 1 / np.sqrt(freq_upper_triangle)\n",
      "C:\\Users\\mahsh\\AppData\\Local\\Temp\\ipykernel_19644\\1022061950.py:45: FutureWarning: The frame.append method is deprecated and will be removed from pandas in a future version. Use pandas.concat instead.\n",
      "  winners = winners.append({'filename': filename, 'diff': diff, \"interval gamma\": gamma, \"#candidates\": len(candidates), 'IRV1': irv1, 'Condorcet1': condorcet1,\n"
     ]
    },
    {
     "name": "stdout",
     "output_type": "stream",
     "text": [
      "208   NewYorkCity_06222021_DEMCouncilMember14thCouncilDistrict.csv\n"
     ]
    },
    {
     "name": "stderr",
     "output_type": "stream",
     "text": [
      "c:\\Users\\mahsh\\Documents\\GitHub\\bugs-in-democracy\\EIL summer 2023\\rcv_dimensionality.py:170: RuntimeWarning: divide by zero encountered in true_divide\n",
      "  distance = 1 / np.sqrt(freq_upper_triangle)\n",
      "C:\\Users\\mahsh\\AppData\\Local\\Temp\\ipykernel_19644\\1022061950.py:45: FutureWarning: The frame.append method is deprecated and will be removed from pandas in a future version. Use pandas.concat instead.\n",
      "  winners = winners.append({'filename': filename, 'diff': diff, \"interval gamma\": gamma, \"#candidates\": len(candidates), 'IRV1': irv1, 'Condorcet1': condorcet1,\n"
     ]
    },
    {
     "name": "stdout",
     "output_type": "stream",
     "text": [
      "209   NewYorkCity_06222021_DEMCouncilMember15thCouncilDistrict.csv\n"
     ]
    },
    {
     "name": "stderr",
     "output_type": "stream",
     "text": [
      "c:\\Users\\mahsh\\Documents\\GitHub\\bugs-in-democracy\\EIL summer 2023\\rcv_dimensionality.py:170: RuntimeWarning: divide by zero encountered in true_divide\n",
      "  distance = 1 / np.sqrt(freq_upper_triangle)\n",
      "C:\\Users\\mahsh\\AppData\\Local\\Temp\\ipykernel_19644\\1022061950.py:45: FutureWarning: The frame.append method is deprecated and will be removed from pandas in a future version. Use pandas.concat instead.\n",
      "  winners = winners.append({'filename': filename, 'diff': diff, \"interval gamma\": gamma, \"#candidates\": len(candidates), 'IRV1': irv1, 'Condorcet1': condorcet1,\n"
     ]
    },
    {
     "name": "stdout",
     "output_type": "stream",
     "text": [
      "210   NewYorkCity_06222021_DEMCouncilMember16thCouncilDistrict.csv\n"
     ]
    },
    {
     "name": "stderr",
     "output_type": "stream",
     "text": [
      "c:\\Users\\mahsh\\Documents\\GitHub\\bugs-in-democracy\\EIL summer 2023\\rcv_dimensionality.py:170: RuntimeWarning: divide by zero encountered in true_divide\n",
      "  distance = 1 / np.sqrt(freq_upper_triangle)\n",
      "C:\\Users\\mahsh\\AppData\\Local\\Temp\\ipykernel_19644\\1022061950.py:45: FutureWarning: The frame.append method is deprecated and will be removed from pandas in a future version. Use pandas.concat instead.\n",
      "  winners = winners.append({'filename': filename, 'diff': diff, \"interval gamma\": gamma, \"#candidates\": len(candidates), 'IRV1': irv1, 'Condorcet1': condorcet1,\n"
     ]
    },
    {
     "name": "stdout",
     "output_type": "stream",
     "text": [
      "211   NewYorkCity_06222021_DEMCouncilMember17thCouncilDistrict.csv\n"
     ]
    },
    {
     "name": "stderr",
     "output_type": "stream",
     "text": [
      "c:\\Users\\mahsh\\Documents\\GitHub\\bugs-in-democracy\\EIL summer 2023\\rcv_dimensionality.py:170: RuntimeWarning: divide by zero encountered in true_divide\n",
      "  distance = 1 / np.sqrt(freq_upper_triangle)\n",
      "C:\\Users\\mahsh\\AppData\\Local\\Temp\\ipykernel_19644\\1022061950.py:45: FutureWarning: The frame.append method is deprecated and will be removed from pandas in a future version. Use pandas.concat instead.\n",
      "  winners = winners.append({'filename': filename, 'diff': diff, \"interval gamma\": gamma, \"#candidates\": len(candidates), 'IRV1': irv1, 'Condorcet1': condorcet1,\n"
     ]
    },
    {
     "name": "stdout",
     "output_type": "stream",
     "text": [
      "212   NewYorkCity_06222021_DEMCouncilMember18thCouncilDistrict.csv\n"
     ]
    },
    {
     "name": "stderr",
     "output_type": "stream",
     "text": [
      "c:\\Users\\mahsh\\Documents\\GitHub\\bugs-in-democracy\\EIL summer 2023\\rcv_dimensionality.py:170: RuntimeWarning: divide by zero encountered in true_divide\n",
      "  distance = 1 / np.sqrt(freq_upper_triangle)\n",
      "C:\\Users\\mahsh\\AppData\\Local\\Temp\\ipykernel_19644\\1022061950.py:45: FutureWarning: The frame.append method is deprecated and will be removed from pandas in a future version. Use pandas.concat instead.\n",
      "  winners = winners.append({'filename': filename, 'diff': diff, \"interval gamma\": gamma, \"#candidates\": len(candidates), 'IRV1': irv1, 'Condorcet1': condorcet1,\n"
     ]
    },
    {
     "name": "stdout",
     "output_type": "stream",
     "text": [
      "213   NewYorkCity_06222021_DEMCouncilMember19thCouncilDistrict.csv\n"
     ]
    },
    {
     "name": "stderr",
     "output_type": "stream",
     "text": [
      "c:\\Users\\mahsh\\Documents\\GitHub\\bugs-in-democracy\\EIL summer 2023\\rcv_dimensionality.py:170: RuntimeWarning: divide by zero encountered in true_divide\n",
      "  distance = 1 / np.sqrt(freq_upper_triangle)\n",
      "C:\\Users\\mahsh\\AppData\\Local\\Temp\\ipykernel_19644\\1022061950.py:45: FutureWarning: The frame.append method is deprecated and will be removed from pandas in a future version. Use pandas.concat instead.\n",
      "  winners = winners.append({'filename': filename, 'diff': diff, \"interval gamma\": gamma, \"#candidates\": len(candidates), 'IRV1': irv1, 'Condorcet1': condorcet1,\n"
     ]
    },
    {
     "name": "stdout",
     "output_type": "stream",
     "text": [
      "214   NewYorkCity_06222021_DEMCouncilMember1stCouncilDistrict.csv\n"
     ]
    },
    {
     "name": "stderr",
     "output_type": "stream",
     "text": [
      "c:\\Users\\mahsh\\Documents\\GitHub\\bugs-in-democracy\\EIL summer 2023\\rcv_dimensionality.py:170: RuntimeWarning: divide by zero encountered in true_divide\n",
      "  distance = 1 / np.sqrt(freq_upper_triangle)\n",
      "C:\\Users\\mahsh\\AppData\\Local\\Temp\\ipykernel_19644\\1022061950.py:45: FutureWarning: The frame.append method is deprecated and will be removed from pandas in a future version. Use pandas.concat instead.\n",
      "  winners = winners.append({'filename': filename, 'diff': diff, \"interval gamma\": gamma, \"#candidates\": len(candidates), 'IRV1': irv1, 'Condorcet1': condorcet1,\n"
     ]
    },
    {
     "name": "stdout",
     "output_type": "stream",
     "text": [
      "215   NewYorkCity_06222021_DEMCouncilMember20thCouncilDistrict.csv\n"
     ]
    },
    {
     "name": "stderr",
     "output_type": "stream",
     "text": [
      "c:\\Users\\mahsh\\Documents\\GitHub\\bugs-in-democracy\\EIL summer 2023\\rcv_dimensionality.py:170: RuntimeWarning: divide by zero encountered in true_divide\n",
      "  distance = 1 / np.sqrt(freq_upper_triangle)\n",
      "C:\\Users\\mahsh\\AppData\\Local\\Temp\\ipykernel_19644\\1022061950.py:45: FutureWarning: The frame.append method is deprecated and will be removed from pandas in a future version. Use pandas.concat instead.\n",
      "  winners = winners.append({'filename': filename, 'diff': diff, \"interval gamma\": gamma, \"#candidates\": len(candidates), 'IRV1': irv1, 'Condorcet1': condorcet1,\n"
     ]
    },
    {
     "name": "stdout",
     "output_type": "stream",
     "text": [
      "216   NewYorkCity_06222021_DEMCouncilMember21stCouncilDistrict.csv\n"
     ]
    },
    {
     "name": "stderr",
     "output_type": "stream",
     "text": [
      "c:\\Users\\mahsh\\Documents\\GitHub\\bugs-in-democracy\\EIL summer 2023\\rcv_dimensionality.py:170: RuntimeWarning: divide by zero encountered in true_divide\n",
      "  distance = 1 / np.sqrt(freq_upper_triangle)\n",
      "C:\\Users\\mahsh\\AppData\\Local\\Temp\\ipykernel_19644\\1022061950.py:45: FutureWarning: The frame.append method is deprecated and will be removed from pandas in a future version. Use pandas.concat instead.\n",
      "  winners = winners.append({'filename': filename, 'diff': diff, \"interval gamma\": gamma, \"#candidates\": len(candidates), 'IRV1': irv1, 'Condorcet1': condorcet1,\n"
     ]
    },
    {
     "name": "stdout",
     "output_type": "stream",
     "text": [
      "217   NewYorkCity_06222021_DEMCouncilMember22ndCouncilDistrict.csv\n"
     ]
    },
    {
     "name": "stderr",
     "output_type": "stream",
     "text": [
      "c:\\Users\\mahsh\\Documents\\GitHub\\bugs-in-democracy\\EIL summer 2023\\rcv_dimensionality.py:170: RuntimeWarning: divide by zero encountered in true_divide\n",
      "  distance = 1 / np.sqrt(freq_upper_triangle)\n",
      "C:\\Users\\mahsh\\AppData\\Local\\Temp\\ipykernel_19644\\1022061950.py:45: FutureWarning: The frame.append method is deprecated and will be removed from pandas in a future version. Use pandas.concat instead.\n",
      "  winners = winners.append({'filename': filename, 'diff': diff, \"interval gamma\": gamma, \"#candidates\": len(candidates), 'IRV1': irv1, 'Condorcet1': condorcet1,\n"
     ]
    },
    {
     "name": "stdout",
     "output_type": "stream",
     "text": [
      "218   NewYorkCity_06222021_DEMCouncilMember23rdCouncilDistrict.csv\n"
     ]
    },
    {
     "name": "stderr",
     "output_type": "stream",
     "text": [
      "c:\\Users\\mahsh\\Documents\\GitHub\\bugs-in-democracy\\EIL summer 2023\\rcv_dimensionality.py:170: RuntimeWarning: divide by zero encountered in true_divide\n",
      "  distance = 1 / np.sqrt(freq_upper_triangle)\n",
      "C:\\Users\\mahsh\\AppData\\Local\\Temp\\ipykernel_19644\\1022061950.py:45: FutureWarning: The frame.append method is deprecated and will be removed from pandas in a future version. Use pandas.concat instead.\n",
      "  winners = winners.append({'filename': filename, 'diff': diff, \"interval gamma\": gamma, \"#candidates\": len(candidates), 'IRV1': irv1, 'Condorcet1': condorcet1,\n"
     ]
    },
    {
     "name": "stdout",
     "output_type": "stream",
     "text": [
      "219   NewYorkCity_06222021_DEMCouncilMember24thCouncilDistrict.csv\n"
     ]
    },
    {
     "name": "stderr",
     "output_type": "stream",
     "text": [
      "c:\\Users\\mahsh\\Documents\\GitHub\\bugs-in-democracy\\EIL summer 2023\\rcv_dimensionality.py:170: RuntimeWarning: divide by zero encountered in true_divide\n",
      "  distance = 1 / np.sqrt(freq_upper_triangle)\n",
      "C:\\Users\\mahsh\\AppData\\Local\\Temp\\ipykernel_19644\\1022061950.py:45: FutureWarning: The frame.append method is deprecated and will be removed from pandas in a future version. Use pandas.concat instead.\n",
      "  winners = winners.append({'filename': filename, 'diff': diff, \"interval gamma\": gamma, \"#candidates\": len(candidates), 'IRV1': irv1, 'Condorcet1': condorcet1,\n"
     ]
    },
    {
     "name": "stdout",
     "output_type": "stream",
     "text": [
      "220   NewYorkCity_06222021_DEMCouncilMember25thCouncilDistrict.csv\n"
     ]
    },
    {
     "name": "stderr",
     "output_type": "stream",
     "text": [
      "c:\\Users\\mahsh\\Documents\\GitHub\\bugs-in-democracy\\EIL summer 2023\\rcv_dimensionality.py:170: RuntimeWarning: divide by zero encountered in true_divide\n",
      "  distance = 1 / np.sqrt(freq_upper_triangle)\n",
      "C:\\Users\\mahsh\\AppData\\Local\\Temp\\ipykernel_19644\\1022061950.py:45: FutureWarning: The frame.append method is deprecated and will be removed from pandas in a future version. Use pandas.concat instead.\n",
      "  winners = winners.append({'filename': filename, 'diff': diff, \"interval gamma\": gamma, \"#candidates\": len(candidates), 'IRV1': irv1, 'Condorcet1': condorcet1,\n"
     ]
    },
    {
     "name": "stdout",
     "output_type": "stream",
     "text": [
      "221   NewYorkCity_06222021_DEMCouncilMember26thCouncilDistrict.csv\n"
     ]
    },
    {
     "name": "stderr",
     "output_type": "stream",
     "text": [
      "c:\\Users\\mahsh\\Documents\\GitHub\\bugs-in-democracy\\EIL summer 2023\\rcv_dimensionality.py:170: RuntimeWarning: divide by zero encountered in true_divide\n",
      "  distance = 1 / np.sqrt(freq_upper_triangle)\n",
      "C:\\Users\\mahsh\\AppData\\Local\\Temp\\ipykernel_19644\\1022061950.py:45: FutureWarning: The frame.append method is deprecated and will be removed from pandas in a future version. Use pandas.concat instead.\n",
      "  winners = winners.append({'filename': filename, 'diff': diff, \"interval gamma\": gamma, \"#candidates\": len(candidates), 'IRV1': irv1, 'Condorcet1': condorcet1,\n"
     ]
    },
    {
     "name": "stdout",
     "output_type": "stream",
     "text": [
      "222   NewYorkCity_06222021_DEMCouncilMember27thCouncilDistrict.csv\n"
     ]
    },
    {
     "name": "stderr",
     "output_type": "stream",
     "text": [
      "c:\\Users\\mahsh\\Documents\\GitHub\\bugs-in-democracy\\EIL summer 2023\\rcv_dimensionality.py:170: RuntimeWarning: divide by zero encountered in true_divide\n",
      "  distance = 1 / np.sqrt(freq_upper_triangle)\n",
      "C:\\Users\\mahsh\\AppData\\Local\\Temp\\ipykernel_19644\\1022061950.py:45: FutureWarning: The frame.append method is deprecated and will be removed from pandas in a future version. Use pandas.concat instead.\n",
      "  winners = winners.append({'filename': filename, 'diff': diff, \"interval gamma\": gamma, \"#candidates\": len(candidates), 'IRV1': irv1, 'Condorcet1': condorcet1,\n"
     ]
    },
    {
     "name": "stdout",
     "output_type": "stream",
     "text": [
      "223   NewYorkCity_06222021_DEMCouncilMember28thCouncilDistrict.csv\n"
     ]
    },
    {
     "name": "stderr",
     "output_type": "stream",
     "text": [
      "c:\\Users\\mahsh\\Documents\\GitHub\\bugs-in-democracy\\EIL summer 2023\\rcv_dimensionality.py:170: RuntimeWarning: divide by zero encountered in true_divide\n",
      "  distance = 1 / np.sqrt(freq_upper_triangle)\n",
      "C:\\Users\\mahsh\\AppData\\Local\\Temp\\ipykernel_19644\\1022061950.py:45: FutureWarning: The frame.append method is deprecated and will be removed from pandas in a future version. Use pandas.concat instead.\n",
      "  winners = winners.append({'filename': filename, 'diff': diff, \"interval gamma\": gamma, \"#candidates\": len(candidates), 'IRV1': irv1, 'Condorcet1': condorcet1,\n"
     ]
    },
    {
     "name": "stdout",
     "output_type": "stream",
     "text": [
      "224   NewYorkCity_06222021_DEMCouncilMember29thCouncilDistrict.csv\n"
     ]
    },
    {
     "name": "stderr",
     "output_type": "stream",
     "text": [
      "c:\\Users\\mahsh\\Documents\\GitHub\\bugs-in-democracy\\EIL summer 2023\\rcv_dimensionality.py:170: RuntimeWarning: divide by zero encountered in true_divide\n",
      "  distance = 1 / np.sqrt(freq_upper_triangle)\n",
      "C:\\Users\\mahsh\\AppData\\Local\\Temp\\ipykernel_19644\\1022061950.py:45: FutureWarning: The frame.append method is deprecated and will be removed from pandas in a future version. Use pandas.concat instead.\n",
      "  winners = winners.append({'filename': filename, 'diff': diff, \"interval gamma\": gamma, \"#candidates\": len(candidates), 'IRV1': irv1, 'Condorcet1': condorcet1,\n"
     ]
    },
    {
     "name": "stdout",
     "output_type": "stream",
     "text": [
      "225   NewYorkCity_06222021_DEMCouncilMember2ndCouncilDistrict.csv\n"
     ]
    },
    {
     "name": "stderr",
     "output_type": "stream",
     "text": [
      "c:\\Users\\mahsh\\Documents\\GitHub\\bugs-in-democracy\\EIL summer 2023\\rcv_dimensionality.py:170: RuntimeWarning: divide by zero encountered in true_divide\n",
      "  distance = 1 / np.sqrt(freq_upper_triangle)\n",
      "C:\\Users\\mahsh\\AppData\\Local\\Temp\\ipykernel_19644\\1022061950.py:45: FutureWarning: The frame.append method is deprecated and will be removed from pandas in a future version. Use pandas.concat instead.\n",
      "  winners = winners.append({'filename': filename, 'diff': diff, \"interval gamma\": gamma, \"#candidates\": len(candidates), 'IRV1': irv1, 'Condorcet1': condorcet1,\n"
     ]
    },
    {
     "name": "stdout",
     "output_type": "stream",
     "text": [
      "226   NewYorkCity_06222021_DEMCouncilMember30thCouncilDistrict.csv\n"
     ]
    },
    {
     "name": "stderr",
     "output_type": "stream",
     "text": [
      "c:\\Users\\mahsh\\Documents\\GitHub\\bugs-in-democracy\\EIL summer 2023\\rcv_dimensionality.py:170: RuntimeWarning: divide by zero encountered in true_divide\n",
      "  distance = 1 / np.sqrt(freq_upper_triangle)\n",
      "C:\\Users\\mahsh\\AppData\\Local\\Temp\\ipykernel_19644\\1022061950.py:45: FutureWarning: The frame.append method is deprecated and will be removed from pandas in a future version. Use pandas.concat instead.\n",
      "  winners = winners.append({'filename': filename, 'diff': diff, \"interval gamma\": gamma, \"#candidates\": len(candidates), 'IRV1': irv1, 'Condorcet1': condorcet1,\n"
     ]
    },
    {
     "name": "stdout",
     "output_type": "stream",
     "text": [
      "227   NewYorkCity_06222021_DEMCouncilMember31stCouncilDistrict.csv\n"
     ]
    },
    {
     "name": "stderr",
     "output_type": "stream",
     "text": [
      "c:\\Users\\mahsh\\Documents\\GitHub\\bugs-in-democracy\\EIL summer 2023\\rcv_dimensionality.py:170: RuntimeWarning: divide by zero encountered in true_divide\n",
      "  distance = 1 / np.sqrt(freq_upper_triangle)\n",
      "C:\\Users\\mahsh\\AppData\\Local\\Temp\\ipykernel_19644\\1022061950.py:45: FutureWarning: The frame.append method is deprecated and will be removed from pandas in a future version. Use pandas.concat instead.\n",
      "  winners = winners.append({'filename': filename, 'diff': diff, \"interval gamma\": gamma, \"#candidates\": len(candidates), 'IRV1': irv1, 'Condorcet1': condorcet1,\n"
     ]
    },
    {
     "name": "stdout",
     "output_type": "stream",
     "text": [
      "228   NewYorkCity_06222021_DEMCouncilMember32ndCouncilDistrict.csv\n"
     ]
    },
    {
     "name": "stderr",
     "output_type": "stream",
     "text": [
      "c:\\Users\\mahsh\\Documents\\GitHub\\bugs-in-democracy\\EIL summer 2023\\rcv_dimensionality.py:170: RuntimeWarning: divide by zero encountered in true_divide\n",
      "  distance = 1 / np.sqrt(freq_upper_triangle)\n",
      "C:\\Users\\mahsh\\AppData\\Local\\Temp\\ipykernel_19644\\1022061950.py:45: FutureWarning: The frame.append method is deprecated and will be removed from pandas in a future version. Use pandas.concat instead.\n",
      "  winners = winners.append({'filename': filename, 'diff': diff, \"interval gamma\": gamma, \"#candidates\": len(candidates), 'IRV1': irv1, 'Condorcet1': condorcet1,\n"
     ]
    },
    {
     "name": "stdout",
     "output_type": "stream",
     "text": [
      "229   NewYorkCity_06222021_DEMCouncilMember33rdCouncilDistrict.csv\n"
     ]
    },
    {
     "name": "stderr",
     "output_type": "stream",
     "text": [
      "c:\\Users\\mahsh\\Documents\\GitHub\\bugs-in-democracy\\EIL summer 2023\\rcv_dimensionality.py:170: RuntimeWarning: divide by zero encountered in true_divide\n",
      "  distance = 1 / np.sqrt(freq_upper_triangle)\n",
      "C:\\Users\\mahsh\\AppData\\Local\\Temp\\ipykernel_19644\\1022061950.py:45: FutureWarning: The frame.append method is deprecated and will be removed from pandas in a future version. Use pandas.concat instead.\n",
      "  winners = winners.append({'filename': filename, 'diff': diff, \"interval gamma\": gamma, \"#candidates\": len(candidates), 'IRV1': irv1, 'Condorcet1': condorcet1,\n"
     ]
    },
    {
     "name": "stdout",
     "output_type": "stream",
     "text": [
      "230   NewYorkCity_06222021_DEMCouncilMember34thCouncilDistrict.csv\n"
     ]
    },
    {
     "name": "stderr",
     "output_type": "stream",
     "text": [
      "c:\\Users\\mahsh\\Documents\\GitHub\\bugs-in-democracy\\EIL summer 2023\\rcv_dimensionality.py:170: RuntimeWarning: divide by zero encountered in true_divide\n",
      "  distance = 1 / np.sqrt(freq_upper_triangle)\n",
      "C:\\Users\\mahsh\\AppData\\Local\\Temp\\ipykernel_19644\\1022061950.py:45: FutureWarning: The frame.append method is deprecated and will be removed from pandas in a future version. Use pandas.concat instead.\n",
      "  winners = winners.append({'filename': filename, 'diff': diff, \"interval gamma\": gamma, \"#candidates\": len(candidates), 'IRV1': irv1, 'Condorcet1': condorcet1,\n"
     ]
    },
    {
     "name": "stdout",
     "output_type": "stream",
     "text": [
      "231   NewYorkCity_06222021_DEMCouncilMember35thCouncilDistrict.csv\n"
     ]
    },
    {
     "name": "stderr",
     "output_type": "stream",
     "text": [
      "c:\\Users\\mahsh\\Documents\\GitHub\\bugs-in-democracy\\EIL summer 2023\\rcv_dimensionality.py:170: RuntimeWarning: divide by zero encountered in true_divide\n",
      "  distance = 1 / np.sqrt(freq_upper_triangle)\n",
      "C:\\Users\\mahsh\\AppData\\Local\\Temp\\ipykernel_19644\\1022061950.py:45: FutureWarning: The frame.append method is deprecated and will be removed from pandas in a future version. Use pandas.concat instead.\n",
      "  winners = winners.append({'filename': filename, 'diff': diff, \"interval gamma\": gamma, \"#candidates\": len(candidates), 'IRV1': irv1, 'Condorcet1': condorcet1,\n"
     ]
    },
    {
     "name": "stdout",
     "output_type": "stream",
     "text": [
      "232   NewYorkCity_06222021_DEMCouncilMember36thCouncilDistrict.csv\n"
     ]
    },
    {
     "name": "stderr",
     "output_type": "stream",
     "text": [
      "c:\\Users\\mahsh\\Documents\\GitHub\\bugs-in-democracy\\EIL summer 2023\\rcv_dimensionality.py:170: RuntimeWarning: divide by zero encountered in true_divide\n",
      "  distance = 1 / np.sqrt(freq_upper_triangle)\n",
      "C:\\Users\\mahsh\\AppData\\Local\\Temp\\ipykernel_19644\\1022061950.py:45: FutureWarning: The frame.append method is deprecated and will be removed from pandas in a future version. Use pandas.concat instead.\n",
      "  winners = winners.append({'filename': filename, 'diff': diff, \"interval gamma\": gamma, \"#candidates\": len(candidates), 'IRV1': irv1, 'Condorcet1': condorcet1,\n"
     ]
    },
    {
     "name": "stdout",
     "output_type": "stream",
     "text": [
      "233   NewYorkCity_06222021_DEMCouncilMember37thCouncilDistrict.csv\n"
     ]
    },
    {
     "name": "stderr",
     "output_type": "stream",
     "text": [
      "c:\\Users\\mahsh\\Documents\\GitHub\\bugs-in-democracy\\EIL summer 2023\\rcv_dimensionality.py:170: RuntimeWarning: divide by zero encountered in true_divide\n",
      "  distance = 1 / np.sqrt(freq_upper_triangle)\n",
      "C:\\Users\\mahsh\\AppData\\Local\\Temp\\ipykernel_19644\\1022061950.py:45: FutureWarning: The frame.append method is deprecated and will be removed from pandas in a future version. Use pandas.concat instead.\n",
      "  winners = winners.append({'filename': filename, 'diff': diff, \"interval gamma\": gamma, \"#candidates\": len(candidates), 'IRV1': irv1, 'Condorcet1': condorcet1,\n"
     ]
    },
    {
     "name": "stdout",
     "output_type": "stream",
     "text": [
      "234   NewYorkCity_06222021_DEMCouncilMember38thCouncilDistrict.csv\n"
     ]
    },
    {
     "name": "stderr",
     "output_type": "stream",
     "text": [
      "c:\\Users\\mahsh\\Documents\\GitHub\\bugs-in-democracy\\EIL summer 2023\\rcv_dimensionality.py:170: RuntimeWarning: divide by zero encountered in true_divide\n",
      "  distance = 1 / np.sqrt(freq_upper_triangle)\n",
      "C:\\Users\\mahsh\\AppData\\Local\\Temp\\ipykernel_19644\\1022061950.py:45: FutureWarning: The frame.append method is deprecated and will be removed from pandas in a future version. Use pandas.concat instead.\n",
      "  winners = winners.append({'filename': filename, 'diff': diff, \"interval gamma\": gamma, \"#candidates\": len(candidates), 'IRV1': irv1, 'Condorcet1': condorcet1,\n"
     ]
    },
    {
     "name": "stdout",
     "output_type": "stream",
     "text": [
      "235   NewYorkCity_06222021_DEMCouncilMember39thCouncilDistrict.csv\n"
     ]
    },
    {
     "name": "stderr",
     "output_type": "stream",
     "text": [
      "c:\\Users\\mahsh\\Documents\\GitHub\\bugs-in-democracy\\EIL summer 2023\\rcv_dimensionality.py:170: RuntimeWarning: divide by zero encountered in true_divide\n",
      "  distance = 1 / np.sqrt(freq_upper_triangle)\n",
      "C:\\Users\\mahsh\\AppData\\Local\\Temp\\ipykernel_19644\\1022061950.py:45: FutureWarning: The frame.append method is deprecated and will be removed from pandas in a future version. Use pandas.concat instead.\n",
      "  winners = winners.append({'filename': filename, 'diff': diff, \"interval gamma\": gamma, \"#candidates\": len(candidates), 'IRV1': irv1, 'Condorcet1': condorcet1,\n"
     ]
    },
    {
     "name": "stdout",
     "output_type": "stream",
     "text": [
      "236   NewYorkCity_06222021_DEMCouncilMember3rdCouncilDistrict.csv\n"
     ]
    },
    {
     "name": "stderr",
     "output_type": "stream",
     "text": [
      "c:\\Users\\mahsh\\Documents\\GitHub\\bugs-in-democracy\\EIL summer 2023\\rcv_dimensionality.py:170: RuntimeWarning: divide by zero encountered in true_divide\n",
      "  distance = 1 / np.sqrt(freq_upper_triangle)\n",
      "C:\\Users\\mahsh\\AppData\\Local\\Temp\\ipykernel_19644\\1022061950.py:45: FutureWarning: The frame.append method is deprecated and will be removed from pandas in a future version. Use pandas.concat instead.\n",
      "  winners = winners.append({'filename': filename, 'diff': diff, \"interval gamma\": gamma, \"#candidates\": len(candidates), 'IRV1': irv1, 'Condorcet1': condorcet1,\n"
     ]
    },
    {
     "name": "stdout",
     "output_type": "stream",
     "text": [
      "237   NewYorkCity_06222021_DEMCouncilMember40thCouncilDistrict.csv\n"
     ]
    },
    {
     "name": "stderr",
     "output_type": "stream",
     "text": [
      "c:\\Users\\mahsh\\Documents\\GitHub\\bugs-in-democracy\\EIL summer 2023\\rcv_dimensionality.py:170: RuntimeWarning: divide by zero encountered in true_divide\n",
      "  distance = 1 / np.sqrt(freq_upper_triangle)\n",
      "C:\\Users\\mahsh\\AppData\\Local\\Temp\\ipykernel_19644\\1022061950.py:45: FutureWarning: The frame.append method is deprecated and will be removed from pandas in a future version. Use pandas.concat instead.\n",
      "  winners = winners.append({'filename': filename, 'diff': diff, \"interval gamma\": gamma, \"#candidates\": len(candidates), 'IRV1': irv1, 'Condorcet1': condorcet1,\n"
     ]
    },
    {
     "name": "stdout",
     "output_type": "stream",
     "text": [
      "238   NewYorkCity_06222021_DEMCouncilMember41stCouncilDistrict.csv\n"
     ]
    },
    {
     "name": "stderr",
     "output_type": "stream",
     "text": [
      "c:\\Users\\mahsh\\Documents\\GitHub\\bugs-in-democracy\\EIL summer 2023\\rcv_dimensionality.py:170: RuntimeWarning: divide by zero encountered in true_divide\n",
      "  distance = 1 / np.sqrt(freq_upper_triangle)\n",
      "C:\\Users\\mahsh\\AppData\\Local\\Temp\\ipykernel_19644\\1022061950.py:45: FutureWarning: The frame.append method is deprecated and will be removed from pandas in a future version. Use pandas.concat instead.\n",
      "  winners = winners.append({'filename': filename, 'diff': diff, \"interval gamma\": gamma, \"#candidates\": len(candidates), 'IRV1': irv1, 'Condorcet1': condorcet1,\n"
     ]
    },
    {
     "name": "stdout",
     "output_type": "stream",
     "text": [
      "239   NewYorkCity_06222021_DEMCouncilMember42ndCouncilDistrict.csv\n"
     ]
    },
    {
     "name": "stderr",
     "output_type": "stream",
     "text": [
      "c:\\Users\\mahsh\\Documents\\GitHub\\bugs-in-democracy\\EIL summer 2023\\rcv_dimensionality.py:170: RuntimeWarning: divide by zero encountered in true_divide\n",
      "  distance = 1 / np.sqrt(freq_upper_triangle)\n",
      "C:\\Users\\mahsh\\AppData\\Local\\Temp\\ipykernel_19644\\1022061950.py:45: FutureWarning: The frame.append method is deprecated and will be removed from pandas in a future version. Use pandas.concat instead.\n",
      "  winners = winners.append({'filename': filename, 'diff': diff, \"interval gamma\": gamma, \"#candidates\": len(candidates), 'IRV1': irv1, 'Condorcet1': condorcet1,\n"
     ]
    },
    {
     "name": "stdout",
     "output_type": "stream",
     "text": [
      "240   NewYorkCity_06222021_DEMCouncilMember45thCouncilDistrict.csv\n"
     ]
    },
    {
     "name": "stderr",
     "output_type": "stream",
     "text": [
      "c:\\Users\\mahsh\\Documents\\GitHub\\bugs-in-democracy\\EIL summer 2023\\rcv_dimensionality.py:170: RuntimeWarning: divide by zero encountered in true_divide\n",
      "  distance = 1 / np.sqrt(freq_upper_triangle)\n",
      "C:\\Users\\mahsh\\AppData\\Local\\Temp\\ipykernel_19644\\1022061950.py:45: FutureWarning: The frame.append method is deprecated and will be removed from pandas in a future version. Use pandas.concat instead.\n",
      "  winners = winners.append({'filename': filename, 'diff': diff, \"interval gamma\": gamma, \"#candidates\": len(candidates), 'IRV1': irv1, 'Condorcet1': condorcet1,\n"
     ]
    },
    {
     "name": "stdout",
     "output_type": "stream",
     "text": [
      "241   NewYorkCity_06222021_DEMCouncilMember46thCouncilDistrict.csv\n"
     ]
    },
    {
     "name": "stderr",
     "output_type": "stream",
     "text": [
      "c:\\Users\\mahsh\\Documents\\GitHub\\bugs-in-democracy\\EIL summer 2023\\rcv_dimensionality.py:170: RuntimeWarning: divide by zero encountered in true_divide\n",
      "  distance = 1 / np.sqrt(freq_upper_triangle)\n",
      "C:\\Users\\mahsh\\AppData\\Local\\Temp\\ipykernel_19644\\1022061950.py:45: FutureWarning: The frame.append method is deprecated and will be removed from pandas in a future version. Use pandas.concat instead.\n",
      "  winners = winners.append({'filename': filename, 'diff': diff, \"interval gamma\": gamma, \"#candidates\": len(candidates), 'IRV1': irv1, 'Condorcet1': condorcet1,\n"
     ]
    },
    {
     "name": "stdout",
     "output_type": "stream",
     "text": [
      "242   NewYorkCity_06222021_DEMCouncilMember47thCouncilDistrict.csv\n"
     ]
    },
    {
     "name": "stderr",
     "output_type": "stream",
     "text": [
      "c:\\Users\\mahsh\\Documents\\GitHub\\bugs-in-democracy\\EIL summer 2023\\rcv_dimensionality.py:170: RuntimeWarning: divide by zero encountered in true_divide\n",
      "  distance = 1 / np.sqrt(freq_upper_triangle)\n",
      "C:\\Users\\mahsh\\AppData\\Local\\Temp\\ipykernel_19644\\1022061950.py:45: FutureWarning: The frame.append method is deprecated and will be removed from pandas in a future version. Use pandas.concat instead.\n",
      "  winners = winners.append({'filename': filename, 'diff': diff, \"interval gamma\": gamma, \"#candidates\": len(candidates), 'IRV1': irv1, 'Condorcet1': condorcet1,\n"
     ]
    },
    {
     "name": "stdout",
     "output_type": "stream",
     "text": [
      "243   NewYorkCity_06222021_DEMCouncilMember48thCouncilDistrict.csv\n"
     ]
    },
    {
     "name": "stderr",
     "output_type": "stream",
     "text": [
      "c:\\Users\\mahsh\\Documents\\GitHub\\bugs-in-democracy\\EIL summer 2023\\rcv_dimensionality.py:170: RuntimeWarning: divide by zero encountered in true_divide\n",
      "  distance = 1 / np.sqrt(freq_upper_triangle)\n",
      "C:\\Users\\mahsh\\AppData\\Local\\Temp\\ipykernel_19644\\1022061950.py:45: FutureWarning: The frame.append method is deprecated and will be removed from pandas in a future version. Use pandas.concat instead.\n",
      "  winners = winners.append({'filename': filename, 'diff': diff, \"interval gamma\": gamma, \"#candidates\": len(candidates), 'IRV1': irv1, 'Condorcet1': condorcet1,\n"
     ]
    },
    {
     "name": "stdout",
     "output_type": "stream",
     "text": [
      "244   NewYorkCity_06222021_DEMCouncilMember49thCouncilDistrict.csv\n"
     ]
    },
    {
     "name": "stderr",
     "output_type": "stream",
     "text": [
      "c:\\Users\\mahsh\\Documents\\GitHub\\bugs-in-democracy\\EIL summer 2023\\rcv_dimensionality.py:170: RuntimeWarning: divide by zero encountered in true_divide\n",
      "  distance = 1 / np.sqrt(freq_upper_triangle)\n",
      "C:\\Users\\mahsh\\AppData\\Local\\Temp\\ipykernel_19644\\1022061950.py:45: FutureWarning: The frame.append method is deprecated and will be removed from pandas in a future version. Use pandas.concat instead.\n",
      "  winners = winners.append({'filename': filename, 'diff': diff, \"interval gamma\": gamma, \"#candidates\": len(candidates), 'IRV1': irv1, 'Condorcet1': condorcet1,\n"
     ]
    },
    {
     "name": "stdout",
     "output_type": "stream",
     "text": [
      "245   NewYorkCity_06222021_DEMCouncilMember5thCouncilDistrict.csv\n"
     ]
    },
    {
     "name": "stderr",
     "output_type": "stream",
     "text": [
      "c:\\Users\\mahsh\\Documents\\GitHub\\bugs-in-democracy\\EIL summer 2023\\rcv_dimensionality.py:170: RuntimeWarning: divide by zero encountered in true_divide\n",
      "  distance = 1 / np.sqrt(freq_upper_triangle)\n",
      "C:\\Users\\mahsh\\AppData\\Local\\Temp\\ipykernel_19644\\1022061950.py:45: FutureWarning: The frame.append method is deprecated and will be removed from pandas in a future version. Use pandas.concat instead.\n",
      "  winners = winners.append({'filename': filename, 'diff': diff, \"interval gamma\": gamma, \"#candidates\": len(candidates), 'IRV1': irv1, 'Condorcet1': condorcet1,\n"
     ]
    },
    {
     "name": "stdout",
     "output_type": "stream",
     "text": [
      "246   NewYorkCity_06222021_DEMCouncilMember6thCouncilDistrict.csv\n"
     ]
    },
    {
     "name": "stderr",
     "output_type": "stream",
     "text": [
      "c:\\Users\\mahsh\\Documents\\GitHub\\bugs-in-democracy\\EIL summer 2023\\rcv_dimensionality.py:170: RuntimeWarning: divide by zero encountered in true_divide\n",
      "  distance = 1 / np.sqrt(freq_upper_triangle)\n",
      "C:\\Users\\mahsh\\AppData\\Local\\Temp\\ipykernel_19644\\1022061950.py:45: FutureWarning: The frame.append method is deprecated and will be removed from pandas in a future version. Use pandas.concat instead.\n",
      "  winners = winners.append({'filename': filename, 'diff': diff, \"interval gamma\": gamma, \"#candidates\": len(candidates), 'IRV1': irv1, 'Condorcet1': condorcet1,\n"
     ]
    },
    {
     "name": "stdout",
     "output_type": "stream",
     "text": [
      "247   NewYorkCity_06222021_DEMCouncilMember7thCouncilDistrict.csv\n"
     ]
    },
    {
     "name": "stderr",
     "output_type": "stream",
     "text": [
      "c:\\Users\\mahsh\\Documents\\GitHub\\bugs-in-democracy\\EIL summer 2023\\rcv_dimensionality.py:170: RuntimeWarning: divide by zero encountered in true_divide\n",
      "  distance = 1 / np.sqrt(freq_upper_triangle)\n",
      "C:\\Users\\mahsh\\AppData\\Local\\Temp\\ipykernel_19644\\1022061950.py:45: FutureWarning: The frame.append method is deprecated and will be removed from pandas in a future version. Use pandas.concat instead.\n",
      "  winners = winners.append({'filename': filename, 'diff': diff, \"interval gamma\": gamma, \"#candidates\": len(candidates), 'IRV1': irv1, 'Condorcet1': condorcet1,\n"
     ]
    },
    {
     "name": "stdout",
     "output_type": "stream",
     "text": [
      "248   NewYorkCity_06222021_DEMCouncilMember8thCouncilDistrict.csv\n"
     ]
    },
    {
     "name": "stderr",
     "output_type": "stream",
     "text": [
      "c:\\Users\\mahsh\\Documents\\GitHub\\bugs-in-democracy\\EIL summer 2023\\rcv_dimensionality.py:170: RuntimeWarning: divide by zero encountered in true_divide\n",
      "  distance = 1 / np.sqrt(freq_upper_triangle)\n",
      "C:\\Users\\mahsh\\AppData\\Local\\Temp\\ipykernel_19644\\1022061950.py:45: FutureWarning: The frame.append method is deprecated and will be removed from pandas in a future version. Use pandas.concat instead.\n",
      "  winners = winners.append({'filename': filename, 'diff': diff, \"interval gamma\": gamma, \"#candidates\": len(candidates), 'IRV1': irv1, 'Condorcet1': condorcet1,\n"
     ]
    },
    {
     "name": "stdout",
     "output_type": "stream",
     "text": [
      "249   NewYorkCity_06222021_DEMCouncilMember9thCouncilDistrict.csv\n"
     ]
    },
    {
     "name": "stderr",
     "output_type": "stream",
     "text": [
      "c:\\Users\\mahsh\\Documents\\GitHub\\bugs-in-democracy\\EIL summer 2023\\rcv_dimensionality.py:170: RuntimeWarning: divide by zero encountered in true_divide\n",
      "  distance = 1 / np.sqrt(freq_upper_triangle)\n",
      "C:\\Users\\mahsh\\AppData\\Local\\Temp\\ipykernel_19644\\1022061950.py:45: FutureWarning: The frame.append method is deprecated and will be removed from pandas in a future version. Use pandas.concat instead.\n",
      "  winners = winners.append({'filename': filename, 'diff': diff, \"interval gamma\": gamma, \"#candidates\": len(candidates), 'IRV1': irv1, 'Condorcet1': condorcet1,\n",
      "c:\\Users\\mahsh\\Documents\\GitHub\\bugs-in-democracy\\EIL summer 2023\\rcv_dimensionality.py:170: RuntimeWarning: divide by zero encountered in true_divide\n",
      "  distance = 1 / np.sqrt(freq_upper_triangle)\n",
      "C:\\Users\\mahsh\\AppData\\Local\\Temp\\ipykernel_19644\\1022061950.py:45: FutureWarning: The frame.append method is deprecated and will be removed from pandas in a future version. Use pandas.concat instead.\n",
      "  winners = winners.append({'filename': filename, 'diff': diff, \"interval gamma\": gamma, \"#candidates\": len(candidates), 'IRV1': irv1, 'Condorcet1': condorcet1,\n"
     ]
    },
    {
     "name": "stdout",
     "output_type": "stream",
     "text": [
      "251   NewYorkCity_06222021_DEMPublicAdvocateCitywide.csv\n"
     ]
    },
    {
     "name": "stderr",
     "output_type": "stream",
     "text": [
      "c:\\Users\\mahsh\\Documents\\GitHub\\bugs-in-democracy\\EIL summer 2023\\rcv_dimensionality.py:170: RuntimeWarning: divide by zero encountered in true_divide\n",
      "  distance = 1 / np.sqrt(freq_upper_triangle)\n",
      "C:\\Users\\mahsh\\AppData\\Local\\Temp\\ipykernel_19644\\1022061950.py:45: FutureWarning: The frame.append method is deprecated and will be removed from pandas in a future version. Use pandas.concat instead.\n",
      "  winners = winners.append({'filename': filename, 'diff': diff, \"interval gamma\": gamma, \"#candidates\": len(candidates), 'IRV1': irv1, 'Condorcet1': condorcet1,\n"
     ]
    },
    {
     "name": "stdout",
     "output_type": "stream",
     "text": [
      "252   NewYorkCity_06222021_REPBoroughPresidentQueens.csv\n"
     ]
    },
    {
     "name": "stderr",
     "output_type": "stream",
     "text": [
      "c:\\Users\\mahsh\\Documents\\GitHub\\bugs-in-democracy\\EIL summer 2023\\rcv_dimensionality.py:170: RuntimeWarning: divide by zero encountered in true_divide\n",
      "  distance = 1 / np.sqrt(freq_upper_triangle)\n",
      "C:\\Users\\mahsh\\AppData\\Local\\Temp\\ipykernel_19644\\1022061950.py:45: FutureWarning: The frame.append method is deprecated and will be removed from pandas in a future version. Use pandas.concat instead.\n",
      "  winners = winners.append({'filename': filename, 'diff': diff, \"interval gamma\": gamma, \"#candidates\": len(candidates), 'IRV1': irv1, 'Condorcet1': condorcet1,\n"
     ]
    },
    {
     "name": "stdout",
     "output_type": "stream",
     "text": [
      "253   NewYorkCity_06222021_REPBoroughPresidentRichmond.csv\n"
     ]
    },
    {
     "name": "stderr",
     "output_type": "stream",
     "text": [
      "c:\\Users\\mahsh\\Documents\\GitHub\\bugs-in-democracy\\EIL summer 2023\\rcv_dimensionality.py:170: RuntimeWarning: divide by zero encountered in true_divide\n",
      "  distance = 1 / np.sqrt(freq_upper_triangle)\n",
      "C:\\Users\\mahsh\\AppData\\Local\\Temp\\ipykernel_19644\\1022061950.py:45: FutureWarning: The frame.append method is deprecated and will be removed from pandas in a future version. Use pandas.concat instead.\n",
      "  winners = winners.append({'filename': filename, 'diff': diff, \"interval gamma\": gamma, \"#candidates\": len(candidates), 'IRV1': irv1, 'Condorcet1': condorcet1,\n"
     ]
    },
    {
     "name": "stdout",
     "output_type": "stream",
     "text": [
      "254   NewYorkCity_06222021_REPCouncilMember15thCouncilDistrict.csv\n"
     ]
    },
    {
     "name": "stderr",
     "output_type": "stream",
     "text": [
      "c:\\Users\\mahsh\\Documents\\GitHub\\bugs-in-democracy\\EIL summer 2023\\rcv_dimensionality.py:170: RuntimeWarning: divide by zero encountered in true_divide\n",
      "  distance = 1 / np.sqrt(freq_upper_triangle)\n",
      "C:\\Users\\mahsh\\AppData\\Local\\Temp\\ipykernel_19644\\1022061950.py:45: FutureWarning: The frame.append method is deprecated and will be removed from pandas in a future version. Use pandas.concat instead.\n",
      "  winners = winners.append({'filename': filename, 'diff': diff, \"interval gamma\": gamma, \"#candidates\": len(candidates), 'IRV1': irv1, 'Condorcet1': condorcet1,\n"
     ]
    },
    {
     "name": "stdout",
     "output_type": "stream",
     "text": [
      "255   NewYorkCity_06222021_REPCouncilMember19thCouncilDistrict.csv\n"
     ]
    },
    {
     "name": "stderr",
     "output_type": "stream",
     "text": [
      "c:\\Users\\mahsh\\Documents\\GitHub\\bugs-in-democracy\\EIL summer 2023\\rcv_dimensionality.py:170: RuntimeWarning: divide by zero encountered in true_divide\n",
      "  distance = 1 / np.sqrt(freq_upper_triangle)\n",
      "C:\\Users\\mahsh\\AppData\\Local\\Temp\\ipykernel_19644\\1022061950.py:45: FutureWarning: The frame.append method is deprecated and will be removed from pandas in a future version. Use pandas.concat instead.\n",
      "  winners = winners.append({'filename': filename, 'diff': diff, \"interval gamma\": gamma, \"#candidates\": len(candidates), 'IRV1': irv1, 'Condorcet1': condorcet1,\n"
     ]
    },
    {
     "name": "stdout",
     "output_type": "stream",
     "text": [
      "256   NewYorkCity_06222021_REPCouncilMember23rdCouncilDistrict.csv\n"
     ]
    },
    {
     "name": "stderr",
     "output_type": "stream",
     "text": [
      "c:\\Users\\mahsh\\Documents\\GitHub\\bugs-in-democracy\\EIL summer 2023\\rcv_dimensionality.py:170: RuntimeWarning: divide by zero encountered in true_divide\n",
      "  distance = 1 / np.sqrt(freq_upper_triangle)\n",
      "C:\\Users\\mahsh\\AppData\\Local\\Temp\\ipykernel_19644\\1022061950.py:45: FutureWarning: The frame.append method is deprecated and will be removed from pandas in a future version. Use pandas.concat instead.\n",
      "  winners = winners.append({'filename': filename, 'diff': diff, \"interval gamma\": gamma, \"#candidates\": len(candidates), 'IRV1': irv1, 'Condorcet1': condorcet1,\n"
     ]
    },
    {
     "name": "stdout",
     "output_type": "stream",
     "text": [
      "257   NewYorkCity_06222021_REPCouncilMember24thCouncilDistrict.csv\n"
     ]
    },
    {
     "name": "stderr",
     "output_type": "stream",
     "text": [
      "c:\\Users\\mahsh\\Documents\\GitHub\\bugs-in-democracy\\EIL summer 2023\\rcv_dimensionality.py:170: RuntimeWarning: divide by zero encountered in true_divide\n",
      "  distance = 1 / np.sqrt(freq_upper_triangle)\n",
      "C:\\Users\\mahsh\\AppData\\Local\\Temp\\ipykernel_19644\\1022061950.py:45: FutureWarning: The frame.append method is deprecated and will be removed from pandas in a future version. Use pandas.concat instead.\n",
      "  winners = winners.append({'filename': filename, 'diff': diff, \"interval gamma\": gamma, \"#candidates\": len(candidates), 'IRV1': irv1, 'Condorcet1': condorcet1,\n"
     ]
    },
    {
     "name": "stdout",
     "output_type": "stream",
     "text": [
      "258   NewYorkCity_06222021_REPCouncilMember32ndCouncilDistrict.csv\n"
     ]
    },
    {
     "name": "stderr",
     "output_type": "stream",
     "text": [
      "c:\\Users\\mahsh\\Documents\\GitHub\\bugs-in-democracy\\EIL summer 2023\\rcv_dimensionality.py:170: RuntimeWarning: divide by zero encountered in true_divide\n",
      "  distance = 1 / np.sqrt(freq_upper_triangle)\n",
      "C:\\Users\\mahsh\\AppData\\Local\\Temp\\ipykernel_19644\\1022061950.py:45: FutureWarning: The frame.append method is deprecated and will be removed from pandas in a future version. Use pandas.concat instead.\n",
      "  winners = winners.append({'filename': filename, 'diff': diff, \"interval gamma\": gamma, \"#candidates\": len(candidates), 'IRV1': irv1, 'Condorcet1': condorcet1,\n"
     ]
    },
    {
     "name": "stdout",
     "output_type": "stream",
     "text": [
      "259   NewYorkCity_06222021_REPCouncilMember50thCouncilDistrict.csv\n"
     ]
    },
    {
     "name": "stderr",
     "output_type": "stream",
     "text": [
      "c:\\Users\\mahsh\\Documents\\GitHub\\bugs-in-democracy\\EIL summer 2023\\rcv_dimensionality.py:170: RuntimeWarning: divide by zero encountered in true_divide\n",
      "  distance = 1 / np.sqrt(freq_upper_triangle)\n",
      "C:\\Users\\mahsh\\AppData\\Local\\Temp\\ipykernel_19644\\1022061950.py:45: FutureWarning: The frame.append method is deprecated and will be removed from pandas in a future version. Use pandas.concat instead.\n",
      "  winners = winners.append({'filename': filename, 'diff': diff, \"interval gamma\": gamma, \"#candidates\": len(candidates), 'IRV1': irv1, 'Condorcet1': condorcet1,\n"
     ]
    },
    {
     "name": "stdout",
     "output_type": "stream",
     "text": [
      "260   NewYorkCity_06222021_REPMayorCitywide.csv\n"
     ]
    },
    {
     "name": "stderr",
     "output_type": "stream",
     "text": [
      "c:\\Users\\mahsh\\Documents\\GitHub\\bugs-in-democracy\\EIL summer 2023\\rcv_dimensionality.py:170: RuntimeWarning: divide by zero encountered in true_divide\n",
      "  distance = 1 / np.sqrt(freq_upper_triangle)\n",
      "C:\\Users\\mahsh\\AppData\\Local\\Temp\\ipykernel_19644\\1022061950.py:45: FutureWarning: The frame.append method is deprecated and will be removed from pandas in a future version. Use pandas.concat instead.\n",
      "  winners = winners.append({'filename': filename, 'diff': diff, \"interval gamma\": gamma, \"#candidates\": len(candidates), 'IRV1': irv1, 'Condorcet1': condorcet1,\n"
     ]
    },
    {
     "name": "stdout",
     "output_type": "stream",
     "text": [
      "261   Oakland_11022010_CityAuditor.csv\n"
     ]
    },
    {
     "name": "stderr",
     "output_type": "stream",
     "text": [
      "c:\\Users\\mahsh\\Documents\\GitHub\\bugs-in-democracy\\EIL summer 2023\\rcv_dimensionality.py:170: RuntimeWarning: divide by zero encountered in true_divide\n",
      "  distance = 1 / np.sqrt(freq_upper_triangle)\n",
      "C:\\Users\\mahsh\\AppData\\Local\\Temp\\ipykernel_19644\\1022061950.py:45: FutureWarning: The frame.append method is deprecated and will be removed from pandas in a future version. Use pandas.concat instead.\n",
      "  winners = winners.append({'filename': filename, 'diff': diff, \"interval gamma\": gamma, \"#candidates\": len(candidates), 'IRV1': irv1, 'Condorcet1': condorcet1,\n"
     ]
    },
    {
     "name": "stdout",
     "output_type": "stream",
     "text": [
      "262   Oakland_11022010_CityCouncilDistrict2.csv\n"
     ]
    },
    {
     "name": "stderr",
     "output_type": "stream",
     "text": [
      "c:\\Users\\mahsh\\Documents\\GitHub\\bugs-in-democracy\\EIL summer 2023\\rcv_dimensionality.py:170: RuntimeWarning: divide by zero encountered in true_divide\n",
      "  distance = 1 / np.sqrt(freq_upper_triangle)\n",
      "C:\\Users\\mahsh\\AppData\\Local\\Temp\\ipykernel_19644\\1022061950.py:45: FutureWarning: The frame.append method is deprecated and will be removed from pandas in a future version. Use pandas.concat instead.\n",
      "  winners = winners.append({'filename': filename, 'diff': diff, \"interval gamma\": gamma, \"#candidates\": len(candidates), 'IRV1': irv1, 'Condorcet1': condorcet1,\n"
     ]
    },
    {
     "name": "stdout",
     "output_type": "stream",
     "text": [
      "263   Oakland_11022010_CityCouncilDistrict4.csv\n"
     ]
    },
    {
     "name": "stderr",
     "output_type": "stream",
     "text": [
      "c:\\Users\\mahsh\\Documents\\GitHub\\bugs-in-democracy\\EIL summer 2023\\rcv_dimensionality.py:170: RuntimeWarning: divide by zero encountered in true_divide\n",
      "  distance = 1 / np.sqrt(freq_upper_triangle)\n",
      "C:\\Users\\mahsh\\AppData\\Local\\Temp\\ipykernel_19644\\1022061950.py:45: FutureWarning: The frame.append method is deprecated and will be removed from pandas in a future version. Use pandas.concat instead.\n",
      "  winners = winners.append({'filename': filename, 'diff': diff, \"interval gamma\": gamma, \"#candidates\": len(candidates), 'IRV1': irv1, 'Condorcet1': condorcet1,\n"
     ]
    },
    {
     "name": "stdout",
     "output_type": "stream",
     "text": [
      "264   Oakland_11022010_CityCouncilDistrict6.csv\n"
     ]
    },
    {
     "name": "stderr",
     "output_type": "stream",
     "text": [
      "c:\\Users\\mahsh\\Documents\\GitHub\\bugs-in-democracy\\EIL summer 2023\\rcv_dimensionality.py:170: RuntimeWarning: divide by zero encountered in true_divide\n",
      "  distance = 1 / np.sqrt(freq_upper_triangle)\n",
      "C:\\Users\\mahsh\\AppData\\Local\\Temp\\ipykernel_19644\\1022061950.py:45: FutureWarning: The frame.append method is deprecated and will be removed from pandas in a future version. Use pandas.concat instead.\n",
      "  winners = winners.append({'filename': filename, 'diff': diff, \"interval gamma\": gamma, \"#candidates\": len(candidates), 'IRV1': irv1, 'Condorcet1': condorcet1,\n"
     ]
    },
    {
     "name": "stdout",
     "output_type": "stream",
     "text": [
      "265   Oakland_11022010_Mayor.csv\n"
     ]
    },
    {
     "name": "stderr",
     "output_type": "stream",
     "text": [
      "c:\\Users\\mahsh\\Documents\\GitHub\\bugs-in-democracy\\EIL summer 2023\\rcv_dimensionality.py:170: RuntimeWarning: divide by zero encountered in true_divide\n",
      "  distance = 1 / np.sqrt(freq_upper_triangle)\n",
      "C:\\Users\\mahsh\\AppData\\Local\\Temp\\ipykernel_19644\\1022061950.py:45: FutureWarning: The frame.append method is deprecated and will be removed from pandas in a future version. Use pandas.concat instead.\n",
      "  winners = winners.append({'filename': filename, 'diff': diff, \"interval gamma\": gamma, \"#candidates\": len(candidates), 'IRV1': irv1, 'Condorcet1': condorcet1,\n"
     ]
    },
    {
     "name": "stdout",
     "output_type": "stream",
     "text": [
      "266   Oakland_11022010_SchoolDirectorDistrict2.csv\n",
      "Oakland_11022010_SchoolDirectorDistrict2.csv  threw an exception\n",
      "267   Oakland_11022010_SchoolDirectorDistrict4.csv\n"
     ]
    },
    {
     "name": "stderr",
     "output_type": "stream",
     "text": [
      "c:\\Users\\mahsh\\Documents\\GitHub\\bugs-in-democracy\\EIL summer 2023\\rcv_dimensionality.py:170: RuntimeWarning: divide by zero encountered in true_divide\n",
      "  distance = 1 / np.sqrt(freq_upper_triangle)\n",
      "C:\\Users\\mahsh\\AppData\\Local\\Temp\\ipykernel_19644\\1022061950.py:45: FutureWarning: The frame.append method is deprecated and will be removed from pandas in a future version. Use pandas.concat instead.\n",
      "  winners = winners.append({'filename': filename, 'diff': diff, \"interval gamma\": gamma, \"#candidates\": len(candidates), 'IRV1': irv1, 'Condorcet1': condorcet1,\n"
     ]
    },
    {
     "name": "stdout",
     "output_type": "stream",
     "text": [
      "268   Oakland_11022010_SchoolDirectorDistrict6.csv\n",
      "Oakland_11022010_SchoolDirectorDistrict6.csv  threw an exception\n",
      "269   Oakland_11032020_CityAttorneyOaklandRCV.csv\n"
     ]
    },
    {
     "name": "stderr",
     "output_type": "stream",
     "text": [
      "c:\\Users\\mahsh\\Documents\\GitHub\\bugs-in-democracy\\EIL summer 2023\\rcv_dimensionality.py:170: RuntimeWarning: divide by zero encountered in true_divide\n",
      "  distance = 1 / np.sqrt(freq_upper_triangle)\n",
      "C:\\Users\\mahsh\\AppData\\Local\\Temp\\ipykernel_19644\\1022061950.py:45: FutureWarning: The frame.append method is deprecated and will be removed from pandas in a future version. Use pandas.concat instead.\n",
      "  winners = winners.append({'filename': filename, 'diff': diff, \"interval gamma\": gamma, \"#candidates\": len(candidates), 'IRV1': irv1, 'Condorcet1': condorcet1,\n"
     ]
    },
    {
     "name": "stdout",
     "output_type": "stream",
     "text": [
      "270   Oakland_11032020_MemberCityCouncilAtLargeOaklandRCV.csv\n"
     ]
    },
    {
     "name": "stderr",
     "output_type": "stream",
     "text": [
      "c:\\Users\\mahsh\\Documents\\GitHub\\bugs-in-democracy\\EIL summer 2023\\rcv_dimensionality.py:170: RuntimeWarning: divide by zero encountered in true_divide\n",
      "  distance = 1 / np.sqrt(freq_upper_triangle)\n",
      "C:\\Users\\mahsh\\AppData\\Local\\Temp\\ipykernel_19644\\1022061950.py:45: FutureWarning: The frame.append method is deprecated and will be removed from pandas in a future version. Use pandas.concat instead.\n",
      "  winners = winners.append({'filename': filename, 'diff': diff, \"interval gamma\": gamma, \"#candidates\": len(candidates), 'IRV1': irv1, 'Condorcet1': condorcet1,\n"
     ]
    },
    {
     "name": "stdout",
     "output_type": "stream",
     "text": [
      "271   Oakland_11032020_MemberCityCouncilDist1OaklandRCV.csv\n"
     ]
    },
    {
     "name": "stderr",
     "output_type": "stream",
     "text": [
      "c:\\Users\\mahsh\\Documents\\GitHub\\bugs-in-democracy\\EIL summer 2023\\rcv_dimensionality.py:170: RuntimeWarning: divide by zero encountered in true_divide\n",
      "  distance = 1 / np.sqrt(freq_upper_triangle)\n",
      "C:\\Users\\mahsh\\AppData\\Local\\Temp\\ipykernel_19644\\1022061950.py:45: FutureWarning: The frame.append method is deprecated and will be removed from pandas in a future version. Use pandas.concat instead.\n",
      "  winners = winners.append({'filename': filename, 'diff': diff, \"interval gamma\": gamma, \"#candidates\": len(candidates), 'IRV1': irv1, 'Condorcet1': condorcet1,\n"
     ]
    },
    {
     "name": "stdout",
     "output_type": "stream",
     "text": [
      "272   Oakland_11032020_MemberCityCouncilDist3OaklandRCV.csv\n"
     ]
    },
    {
     "name": "stderr",
     "output_type": "stream",
     "text": [
      "c:\\Users\\mahsh\\Documents\\GitHub\\bugs-in-democracy\\EIL summer 2023\\rcv_dimensionality.py:170: RuntimeWarning: divide by zero encountered in true_divide\n",
      "  distance = 1 / np.sqrt(freq_upper_triangle)\n",
      "C:\\Users\\mahsh\\AppData\\Local\\Temp\\ipykernel_19644\\1022061950.py:45: FutureWarning: The frame.append method is deprecated and will be removed from pandas in a future version. Use pandas.concat instead.\n",
      "  winners = winners.append({'filename': filename, 'diff': diff, \"interval gamma\": gamma, \"#candidates\": len(candidates), 'IRV1': irv1, 'Condorcet1': condorcet1,\n"
     ]
    },
    {
     "name": "stdout",
     "output_type": "stream",
     "text": [
      "273   Oakland_11032020_MemberCityCouncilDist5OaklandRCV.csv\n"
     ]
    },
    {
     "name": "stderr",
     "output_type": "stream",
     "text": [
      "c:\\Users\\mahsh\\Documents\\GitHub\\bugs-in-democracy\\EIL summer 2023\\rcv_dimensionality.py:170: RuntimeWarning: divide by zero encountered in true_divide\n",
      "  distance = 1 / np.sqrt(freq_upper_triangle)\n",
      "C:\\Users\\mahsh\\AppData\\Local\\Temp\\ipykernel_19644\\1022061950.py:45: FutureWarning: The frame.append method is deprecated and will be removed from pandas in a future version. Use pandas.concat instead.\n",
      "  winners = winners.append({'filename': filename, 'diff': diff, \"interval gamma\": gamma, \"#candidates\": len(candidates), 'IRV1': irv1, 'Condorcet1': condorcet1,\n"
     ]
    },
    {
     "name": "stdout",
     "output_type": "stream",
     "text": [
      "274   Oakland_11032020_MemberCityCouncilDist7OaklandRCV.csv\n"
     ]
    },
    {
     "name": "stderr",
     "output_type": "stream",
     "text": [
      "c:\\Users\\mahsh\\Documents\\GitHub\\bugs-in-democracy\\EIL summer 2023\\rcv_dimensionality.py:170: RuntimeWarning: divide by zero encountered in true_divide\n",
      "  distance = 1 / np.sqrt(freq_upper_triangle)\n",
      "C:\\Users\\mahsh\\AppData\\Local\\Temp\\ipykernel_19644\\1022061950.py:45: FutureWarning: The frame.append method is deprecated and will be removed from pandas in a future version. Use pandas.concat instead.\n",
      "  winners = winners.append({'filename': filename, 'diff': diff, \"interval gamma\": gamma, \"#candidates\": len(candidates), 'IRV1': irv1, 'Condorcet1': condorcet1,\n"
     ]
    },
    {
     "name": "stdout",
     "output_type": "stream",
     "text": [
      "275   Oakland_11032020_SchoolDirectorDist1OaklandRCV.csv\n"
     ]
    },
    {
     "name": "stderr",
     "output_type": "stream",
     "text": [
      "c:\\Users\\mahsh\\Documents\\GitHub\\bugs-in-democracy\\EIL summer 2023\\rcv_dimensionality.py:170: RuntimeWarning: divide by zero encountered in true_divide\n",
      "  distance = 1 / np.sqrt(freq_upper_triangle)\n",
      "C:\\Users\\mahsh\\AppData\\Local\\Temp\\ipykernel_19644\\1022061950.py:45: FutureWarning: The frame.append method is deprecated and will be removed from pandas in a future version. Use pandas.concat instead.\n",
      "  winners = winners.append({'filename': filename, 'diff': diff, \"interval gamma\": gamma, \"#candidates\": len(candidates), 'IRV1': irv1, 'Condorcet1': condorcet1,\n"
     ]
    },
    {
     "name": "stdout",
     "output_type": "stream",
     "text": [
      "276   Oakland_11032020_SchoolDirectorDist3OaklandRCV.csv\n"
     ]
    },
    {
     "name": "stderr",
     "output_type": "stream",
     "text": [
      "c:\\Users\\mahsh\\Documents\\GitHub\\bugs-in-democracy\\EIL summer 2023\\rcv_dimensionality.py:170: RuntimeWarning: divide by zero encountered in true_divide\n",
      "  distance = 1 / np.sqrt(freq_upper_triangle)\n",
      "C:\\Users\\mahsh\\AppData\\Local\\Temp\\ipykernel_19644\\1022061950.py:45: FutureWarning: The frame.append method is deprecated and will be removed from pandas in a future version. Use pandas.concat instead.\n",
      "  winners = winners.append({'filename': filename, 'diff': diff, \"interval gamma\": gamma, \"#candidates\": len(candidates), 'IRV1': irv1, 'Condorcet1': condorcet1,\n"
     ]
    },
    {
     "name": "stdout",
     "output_type": "stream",
     "text": [
      "277   Oakland_11032020_SchoolDirectorDist5OaklandRCV.csv\n"
     ]
    },
    {
     "name": "stderr",
     "output_type": "stream",
     "text": [
      "c:\\Users\\mahsh\\Documents\\GitHub\\bugs-in-democracy\\EIL summer 2023\\rcv_dimensionality.py:170: RuntimeWarning: divide by zero encountered in true_divide\n",
      "  distance = 1 / np.sqrt(freq_upper_triangle)\n",
      "C:\\Users\\mahsh\\AppData\\Local\\Temp\\ipykernel_19644\\1022061950.py:45: FutureWarning: The frame.append method is deprecated and will be removed from pandas in a future version. Use pandas.concat instead.\n",
      "  winners = winners.append({'filename': filename, 'diff': diff, \"interval gamma\": gamma, \"#candidates\": len(candidates), 'IRV1': irv1, 'Condorcet1': condorcet1,\n"
     ]
    },
    {
     "name": "stdout",
     "output_type": "stream",
     "text": [
      "278   Oakland_11032020_SchoolDirectorDist7OaklandRCV.csv\n"
     ]
    },
    {
     "name": "stderr",
     "output_type": "stream",
     "text": [
      "c:\\Users\\mahsh\\Documents\\GitHub\\bugs-in-democracy\\EIL summer 2023\\rcv_dimensionality.py:170: RuntimeWarning: divide by zero encountered in true_divide\n",
      "  distance = 1 / np.sqrt(freq_upper_triangle)\n",
      "C:\\Users\\mahsh\\AppData\\Local\\Temp\\ipykernel_19644\\1022061950.py:45: FutureWarning: The frame.append method is deprecated and will be removed from pandas in a future version. Use pandas.concat instead.\n",
      "  winners = winners.append({'filename': filename, 'diff': diff, \"interval gamma\": gamma, \"#candidates\": len(candidates), 'IRV1': irv1, 'Condorcet1': condorcet1,\n"
     ]
    },
    {
     "name": "stdout",
     "output_type": "stream",
     "text": [
      "279   Oakland_11042014_CityAuditor.csv\n"
     ]
    },
    {
     "name": "stderr",
     "output_type": "stream",
     "text": [
      "c:\\Users\\mahsh\\Documents\\GitHub\\bugs-in-democracy\\EIL summer 2023\\rcv_dimensionality.py:170: RuntimeWarning: divide by zero encountered in true_divide\n",
      "  distance = 1 / np.sqrt(freq_upper_triangle)\n",
      "C:\\Users\\mahsh\\AppData\\Local\\Temp\\ipykernel_19644\\1022061950.py:45: FutureWarning: The frame.append method is deprecated and will be removed from pandas in a future version. Use pandas.concat instead.\n",
      "  winners = winners.append({'filename': filename, 'diff': diff, \"interval gamma\": gamma, \"#candidates\": len(candidates), 'IRV1': irv1, 'Condorcet1': condorcet1,\n"
     ]
    },
    {
     "name": "stdout",
     "output_type": "stream",
     "text": [
      "280   Oakland_11042014_CityCouncilDistrict2.csv\n"
     ]
    },
    {
     "name": "stderr",
     "output_type": "stream",
     "text": [
      "c:\\Users\\mahsh\\Documents\\GitHub\\bugs-in-democracy\\EIL summer 2023\\rcv_dimensionality.py:170: RuntimeWarning: divide by zero encountered in true_divide\n",
      "  distance = 1 / np.sqrt(freq_upper_triangle)\n",
      "C:\\Users\\mahsh\\AppData\\Local\\Temp\\ipykernel_19644\\1022061950.py:45: FutureWarning: The frame.append method is deprecated and will be removed from pandas in a future version. Use pandas.concat instead.\n",
      "  winners = winners.append({'filename': filename, 'diff': diff, \"interval gamma\": gamma, \"#candidates\": len(candidates), 'IRV1': irv1, 'Condorcet1': condorcet1,\n"
     ]
    },
    {
     "name": "stdout",
     "output_type": "stream",
     "text": [
      "281   Oakland_11042014_CityCouncilDistrict4.csv\n"
     ]
    },
    {
     "name": "stderr",
     "output_type": "stream",
     "text": [
      "c:\\Users\\mahsh\\Documents\\GitHub\\bugs-in-democracy\\EIL summer 2023\\rcv_dimensionality.py:170: RuntimeWarning: divide by zero encountered in true_divide\n",
      "  distance = 1 / np.sqrt(freq_upper_triangle)\n",
      "C:\\Users\\mahsh\\AppData\\Local\\Temp\\ipykernel_19644\\1022061950.py:45: FutureWarning: The frame.append method is deprecated and will be removed from pandas in a future version. Use pandas.concat instead.\n",
      "  winners = winners.append({'filename': filename, 'diff': diff, \"interval gamma\": gamma, \"#candidates\": len(candidates), 'IRV1': irv1, 'Condorcet1': condorcet1,\n"
     ]
    },
    {
     "name": "stdout",
     "output_type": "stream",
     "text": [
      "282   Oakland_11042014_CityCouncilDistrict6.csv\n"
     ]
    },
    {
     "name": "stderr",
     "output_type": "stream",
     "text": [
      "c:\\Users\\mahsh\\Documents\\GitHub\\bugs-in-democracy\\EIL summer 2023\\rcv_dimensionality.py:170: RuntimeWarning: divide by zero encountered in true_divide\n",
      "  distance = 1 / np.sqrt(freq_upper_triangle)\n",
      "C:\\Users\\mahsh\\AppData\\Local\\Temp\\ipykernel_19644\\1022061950.py:45: FutureWarning: The frame.append method is deprecated and will be removed from pandas in a future version. Use pandas.concat instead.\n",
      "  winners = winners.append({'filename': filename, 'diff': diff, \"interval gamma\": gamma, \"#candidates\": len(candidates), 'IRV1': irv1, 'Condorcet1': condorcet1,\n"
     ]
    },
    {
     "name": "stdout",
     "output_type": "stream",
     "text": [
      "283   Oakland_11042014_Mayor.csv\n"
     ]
    },
    {
     "name": "stderr",
     "output_type": "stream",
     "text": [
      "c:\\Users\\mahsh\\Documents\\GitHub\\bugs-in-democracy\\EIL summer 2023\\rcv_dimensionality.py:159: RuntimeWarning: divide by zero encountered in true_divide\n",
      "  frequencies = counts / mentioned_together\n",
      "c:\\Users\\mahsh\\Documents\\GitHub\\bugs-in-democracy\\EIL summer 2023\\rcv_dimensionality.py:170: RuntimeWarning: divide by zero encountered in true_divide\n",
      "  distance = 1 / np.sqrt(freq_upper_triangle)\n",
      "C:\\Users\\mahsh\\AppData\\Local\\Temp\\ipykernel_19644\\1022061950.py:45: FutureWarning: The frame.append method is deprecated and will be removed from pandas in a future version. Use pandas.concat instead.\n",
      "  winners = winners.append({'filename': filename, 'diff': diff, \"interval gamma\": gamma, \"#candidates\": len(candidates), 'IRV1': irv1, 'Condorcet1': condorcet1,\n"
     ]
    },
    {
     "name": "stdout",
     "output_type": "stream",
     "text": [
      "284   Oakland_11042014_SchoolDirectorDistrict2.csv\n"
     ]
    },
    {
     "name": "stderr",
     "output_type": "stream",
     "text": [
      "c:\\Users\\mahsh\\Documents\\GitHub\\bugs-in-democracy\\EIL summer 2023\\rcv_dimensionality.py:170: RuntimeWarning: divide by zero encountered in true_divide\n",
      "  distance = 1 / np.sqrt(freq_upper_triangle)\n",
      "C:\\Users\\mahsh\\AppData\\Local\\Temp\\ipykernel_19644\\1022061950.py:45: FutureWarning: The frame.append method is deprecated and will be removed from pandas in a future version. Use pandas.concat instead.\n",
      "  winners = winners.append({'filename': filename, 'diff': diff, \"interval gamma\": gamma, \"#candidates\": len(candidates), 'IRV1': irv1, 'Condorcet1': condorcet1,\n"
     ]
    },
    {
     "name": "stdout",
     "output_type": "stream",
     "text": [
      "285   Oakland_11042014_SchoolDirectorDistrict4.csv\n"
     ]
    },
    {
     "name": "stderr",
     "output_type": "stream",
     "text": [
      "c:\\Users\\mahsh\\Documents\\GitHub\\bugs-in-democracy\\EIL summer 2023\\rcv_dimensionality.py:170: RuntimeWarning: divide by zero encountered in true_divide\n",
      "  distance = 1 / np.sqrt(freq_upper_triangle)\n",
      "C:\\Users\\mahsh\\AppData\\Local\\Temp\\ipykernel_19644\\1022061950.py:45: FutureWarning: The frame.append method is deprecated and will be removed from pandas in a future version. Use pandas.concat instead.\n",
      "  winners = winners.append({'filename': filename, 'diff': diff, \"interval gamma\": gamma, \"#candidates\": len(candidates), 'IRV1': irv1, 'Condorcet1': condorcet1,\n"
     ]
    },
    {
     "name": "stdout",
     "output_type": "stream",
     "text": [
      "286   Oakland_11042014_SchoolDirectorDistrict6.csv\n"
     ]
    },
    {
     "name": "stderr",
     "output_type": "stream",
     "text": [
      "c:\\Users\\mahsh\\Documents\\GitHub\\bugs-in-democracy\\EIL summer 2023\\rcv_dimensionality.py:170: RuntimeWarning: divide by zero encountered in true_divide\n",
      "  distance = 1 / np.sqrt(freq_upper_triangle)\n",
      "C:\\Users\\mahsh\\AppData\\Local\\Temp\\ipykernel_19644\\1022061950.py:45: FutureWarning: The frame.append method is deprecated and will be removed from pandas in a future version. Use pandas.concat instead.\n",
      "  winners = winners.append({'filename': filename, 'diff': diff, \"interval gamma\": gamma, \"#candidates\": len(candidates), 'IRV1': irv1, 'Condorcet1': condorcet1,\n"
     ]
    },
    {
     "name": "stdout",
     "output_type": "stream",
     "text": [
      "287   Oakland_11062012_CityAttorney.csv\n"
     ]
    },
    {
     "name": "stderr",
     "output_type": "stream",
     "text": [
      "c:\\Users\\mahsh\\Documents\\GitHub\\bugs-in-democracy\\EIL summer 2023\\rcv_dimensionality.py:170: RuntimeWarning: divide by zero encountered in true_divide\n",
      "  distance = 1 / np.sqrt(freq_upper_triangle)\n",
      "C:\\Users\\mahsh\\AppData\\Local\\Temp\\ipykernel_19644\\1022061950.py:45: FutureWarning: The frame.append method is deprecated and will be removed from pandas in a future version. Use pandas.concat instead.\n",
      "  winners = winners.append({'filename': filename, 'diff': diff, \"interval gamma\": gamma, \"#candidates\": len(candidates), 'IRV1': irv1, 'Condorcet1': condorcet1,\n"
     ]
    },
    {
     "name": "stdout",
     "output_type": "stream",
     "text": [
      "288   Oakland_11062012_CityCouncilAtLarge.csv\n"
     ]
    },
    {
     "name": "stderr",
     "output_type": "stream",
     "text": [
      "c:\\Users\\mahsh\\Documents\\GitHub\\bugs-in-democracy\\EIL summer 2023\\rcv_dimensionality.py:170: RuntimeWarning: divide by zero encountered in true_divide\n",
      "  distance = 1 / np.sqrt(freq_upper_triangle)\n",
      "C:\\Users\\mahsh\\AppData\\Local\\Temp\\ipykernel_19644\\1022061950.py:45: FutureWarning: The frame.append method is deprecated and will be removed from pandas in a future version. Use pandas.concat instead.\n",
      "  winners = winners.append({'filename': filename, 'diff': diff, \"interval gamma\": gamma, \"#candidates\": len(candidates), 'IRV1': irv1, 'Condorcet1': condorcet1,\n"
     ]
    },
    {
     "name": "stdout",
     "output_type": "stream",
     "text": [
      "289   Oakland_11062012_CityCouncilDistrict1.csv\n"
     ]
    },
    {
     "name": "stderr",
     "output_type": "stream",
     "text": [
      "c:\\Users\\mahsh\\Documents\\GitHub\\bugs-in-democracy\\EIL summer 2023\\rcv_dimensionality.py:170: RuntimeWarning: divide by zero encountered in true_divide\n",
      "  distance = 1 / np.sqrt(freq_upper_triangle)\n",
      "C:\\Users\\mahsh\\AppData\\Local\\Temp\\ipykernel_19644\\1022061950.py:45: FutureWarning: The frame.append method is deprecated and will be removed from pandas in a future version. Use pandas.concat instead.\n",
      "  winners = winners.append({'filename': filename, 'diff': diff, \"interval gamma\": gamma, \"#candidates\": len(candidates), 'IRV1': irv1, 'Condorcet1': condorcet1,\n"
     ]
    },
    {
     "name": "stdout",
     "output_type": "stream",
     "text": [
      "290   Oakland_11062012_CityCouncilDistrict3.csv\n"
     ]
    },
    {
     "name": "stderr",
     "output_type": "stream",
     "text": [
      "c:\\Users\\mahsh\\Documents\\GitHub\\bugs-in-democracy\\EIL summer 2023\\rcv_dimensionality.py:170: RuntimeWarning: divide by zero encountered in true_divide\n",
      "  distance = 1 / np.sqrt(freq_upper_triangle)\n",
      "C:\\Users\\mahsh\\AppData\\Local\\Temp\\ipykernel_19644\\1022061950.py:45: FutureWarning: The frame.append method is deprecated and will be removed from pandas in a future version. Use pandas.concat instead.\n",
      "  winners = winners.append({'filename': filename, 'diff': diff, \"interval gamma\": gamma, \"#candidates\": len(candidates), 'IRV1': irv1, 'Condorcet1': condorcet1,\n"
     ]
    },
    {
     "name": "stdout",
     "output_type": "stream",
     "text": [
      "291   Oakland_11062012_CityCouncilDistrict5.csv\n"
     ]
    },
    {
     "name": "stderr",
     "output_type": "stream",
     "text": [
      "c:\\Users\\mahsh\\Documents\\GitHub\\bugs-in-democracy\\EIL summer 2023\\rcv_dimensionality.py:170: RuntimeWarning: divide by zero encountered in true_divide\n",
      "  distance = 1 / np.sqrt(freq_upper_triangle)\n",
      "C:\\Users\\mahsh\\AppData\\Local\\Temp\\ipykernel_19644\\1022061950.py:45: FutureWarning: The frame.append method is deprecated and will be removed from pandas in a future version. Use pandas.concat instead.\n",
      "  winners = winners.append({'filename': filename, 'diff': diff, \"interval gamma\": gamma, \"#candidates\": len(candidates), 'IRV1': irv1, 'Condorcet1': condorcet1,\n"
     ]
    },
    {
     "name": "stdout",
     "output_type": "stream",
     "text": [
      "292   Oakland_11062012_CityCouncilDistrict7.csv\n"
     ]
    },
    {
     "name": "stderr",
     "output_type": "stream",
     "text": [
      "c:\\Users\\mahsh\\Documents\\GitHub\\bugs-in-democracy\\EIL summer 2023\\rcv_dimensionality.py:170: RuntimeWarning: divide by zero encountered in true_divide\n",
      "  distance = 1 / np.sqrt(freq_upper_triangle)\n",
      "C:\\Users\\mahsh\\AppData\\Local\\Temp\\ipykernel_19644\\1022061950.py:45: FutureWarning: The frame.append method is deprecated and will be removed from pandas in a future version. Use pandas.concat instead.\n",
      "  winners = winners.append({'filename': filename, 'diff': diff, \"interval gamma\": gamma, \"#candidates\": len(candidates), 'IRV1': irv1, 'Condorcet1': condorcet1,\n"
     ]
    },
    {
     "name": "stdout",
     "output_type": "stream",
     "text": [
      "293   Oakland_11062012_SchoolDirectorDistrict1.csv\n"
     ]
    },
    {
     "name": "stderr",
     "output_type": "stream",
     "text": [
      "c:\\Users\\mahsh\\Documents\\GitHub\\bugs-in-democracy\\EIL summer 2023\\rcv_dimensionality.py:170: RuntimeWarning: divide by zero encountered in true_divide\n",
      "  distance = 1 / np.sqrt(freq_upper_triangle)\n",
      "C:\\Users\\mahsh\\AppData\\Local\\Temp\\ipykernel_19644\\1022061950.py:45: FutureWarning: The frame.append method is deprecated and will be removed from pandas in a future version. Use pandas.concat instead.\n",
      "  winners = winners.append({'filename': filename, 'diff': diff, \"interval gamma\": gamma, \"#candidates\": len(candidates), 'IRV1': irv1, 'Condorcet1': condorcet1,\n"
     ]
    },
    {
     "name": "stdout",
     "output_type": "stream",
     "text": [
      "294   Oakland_11062012_SchoolDirectorDistrict3.csv\n"
     ]
    },
    {
     "name": "stderr",
     "output_type": "stream",
     "text": [
      "c:\\Users\\mahsh\\Documents\\GitHub\\bugs-in-democracy\\EIL summer 2023\\rcv_dimensionality.py:170: RuntimeWarning: divide by zero encountered in true_divide\n",
      "  distance = 1 / np.sqrt(freq_upper_triangle)\n",
      "C:\\Users\\mahsh\\AppData\\Local\\Temp\\ipykernel_19644\\1022061950.py:45: FutureWarning: The frame.append method is deprecated and will be removed from pandas in a future version. Use pandas.concat instead.\n",
      "  winners = winners.append({'filename': filename, 'diff': diff, \"interval gamma\": gamma, \"#candidates\": len(candidates), 'IRV1': irv1, 'Condorcet1': condorcet1,\n"
     ]
    },
    {
     "name": "stdout",
     "output_type": "stream",
     "text": [
      "295   Oakland_11062012_SchoolDirectorDistrict5.csv\n"
     ]
    },
    {
     "name": "stderr",
     "output_type": "stream",
     "text": [
      "c:\\Users\\mahsh\\Documents\\GitHub\\bugs-in-democracy\\EIL summer 2023\\rcv_dimensionality.py:170: RuntimeWarning: divide by zero encountered in true_divide\n",
      "  distance = 1 / np.sqrt(freq_upper_triangle)\n",
      "C:\\Users\\mahsh\\AppData\\Local\\Temp\\ipykernel_19644\\1022061950.py:45: FutureWarning: The frame.append method is deprecated and will be removed from pandas in a future version. Use pandas.concat instead.\n",
      "  winners = winners.append({'filename': filename, 'diff': diff, \"interval gamma\": gamma, \"#candidates\": len(candidates), 'IRV1': irv1, 'Condorcet1': condorcet1,\n"
     ]
    },
    {
     "name": "stdout",
     "output_type": "stream",
     "text": [
      "296   Oakland_11062012_SchoolDirectorDistrict7.csv\n"
     ]
    },
    {
     "name": "stderr",
     "output_type": "stream",
     "text": [
      "c:\\Users\\mahsh\\Documents\\GitHub\\bugs-in-democracy\\EIL summer 2023\\rcv_dimensionality.py:170: RuntimeWarning: divide by zero encountered in true_divide\n",
      "  distance = 1 / np.sqrt(freq_upper_triangle)\n",
      "C:\\Users\\mahsh\\AppData\\Local\\Temp\\ipykernel_19644\\1022061950.py:45: FutureWarning: The frame.append method is deprecated and will be removed from pandas in a future version. Use pandas.concat instead.\n",
      "  winners = winners.append({'filename': filename, 'diff': diff, \"interval gamma\": gamma, \"#candidates\": len(candidates), 'IRV1': irv1, 'Condorcet1': condorcet1,\n"
     ]
    },
    {
     "name": "stdout",
     "output_type": "stream",
     "text": [
      "297   Oakland_11062018_CityAuditor.csv\n"
     ]
    },
    {
     "name": "stderr",
     "output_type": "stream",
     "text": [
      "c:\\Users\\mahsh\\Documents\\GitHub\\bugs-in-democracy\\EIL summer 2023\\rcv_dimensionality.py:170: RuntimeWarning: divide by zero encountered in true_divide\n",
      "  distance = 1 / np.sqrt(freq_upper_triangle)\n",
      "C:\\Users\\mahsh\\AppData\\Local\\Temp\\ipykernel_19644\\1022061950.py:45: FutureWarning: The frame.append method is deprecated and will be removed from pandas in a future version. Use pandas.concat instead.\n",
      "  winners = winners.append({'filename': filename, 'diff': diff, \"interval gamma\": gamma, \"#candidates\": len(candidates), 'IRV1': irv1, 'Condorcet1': condorcet1,\n"
     ]
    },
    {
     "name": "stdout",
     "output_type": "stream",
     "text": [
      "298   Oakland_11062018_CityCouncilDistrict2.csv\n"
     ]
    },
    {
     "name": "stderr",
     "output_type": "stream",
     "text": [
      "c:\\Users\\mahsh\\Documents\\GitHub\\bugs-in-democracy\\EIL summer 2023\\rcv_dimensionality.py:170: RuntimeWarning: divide by zero encountered in true_divide\n",
      "  distance = 1 / np.sqrt(freq_upper_triangle)\n",
      "C:\\Users\\mahsh\\AppData\\Local\\Temp\\ipykernel_19644\\1022061950.py:45: FutureWarning: The frame.append method is deprecated and will be removed from pandas in a future version. Use pandas.concat instead.\n",
      "  winners = winners.append({'filename': filename, 'diff': diff, \"interval gamma\": gamma, \"#candidates\": len(candidates), 'IRV1': irv1, 'Condorcet1': condorcet1,\n"
     ]
    },
    {
     "name": "stdout",
     "output_type": "stream",
     "text": [
      "299   Oakland_11062018_CityCouncilDistrict4.csv\n"
     ]
    },
    {
     "name": "stderr",
     "output_type": "stream",
     "text": [
      "c:\\Users\\mahsh\\Documents\\GitHub\\bugs-in-democracy\\EIL summer 2023\\rcv_dimensionality.py:170: RuntimeWarning: divide by zero encountered in true_divide\n",
      "  distance = 1 / np.sqrt(freq_upper_triangle)\n",
      "C:\\Users\\mahsh\\AppData\\Local\\Temp\\ipykernel_19644\\1022061950.py:45: FutureWarning: The frame.append method is deprecated and will be removed from pandas in a future version. Use pandas.concat instead.\n",
      "  winners = winners.append({'filename': filename, 'diff': diff, \"interval gamma\": gamma, \"#candidates\": len(candidates), 'IRV1': irv1, 'Condorcet1': condorcet1,\n",
      "c:\\Users\\mahsh\\Documents\\GitHub\\bugs-in-democracy\\EIL summer 2023\\rcv_dimensionality.py:170: RuntimeWarning: divide by zero encountered in true_divide\n",
      "  distance = 1 / np.sqrt(freq_upper_triangle)\n",
      "C:\\Users\\mahsh\\AppData\\Local\\Temp\\ipykernel_19644\\1022061950.py:45: FutureWarning: The frame.append method is deprecated and will be removed from pandas in a future version. Use pandas.concat instead.\n",
      "  winners = winners.append({'filename': filename, 'diff': diff, \"interval gamma\": gamma, \"#candidates\": len(candidates), 'IRV1': irv1, 'Condorcet1': condorcet1,\n"
     ]
    },
    {
     "name": "stdout",
     "output_type": "stream",
     "text": [
      "301   Oakland_11062018_Mayor.csv\n"
     ]
    },
    {
     "name": "stderr",
     "output_type": "stream",
     "text": [
      "c:\\Users\\mahsh\\Documents\\GitHub\\bugs-in-democracy\\EIL summer 2023\\rcv_dimensionality.py:170: RuntimeWarning: divide by zero encountered in true_divide\n",
      "  distance = 1 / np.sqrt(freq_upper_triangle)\n",
      "C:\\Users\\mahsh\\AppData\\Local\\Temp\\ipykernel_19644\\1022061950.py:45: FutureWarning: The frame.append method is deprecated and will be removed from pandas in a future version. Use pandas.concat instead.\n",
      "  winners = winners.append({'filename': filename, 'diff': diff, \"interval gamma\": gamma, \"#candidates\": len(candidates), 'IRV1': irv1, 'Condorcet1': condorcet1,\n"
     ]
    },
    {
     "name": "stdout",
     "output_type": "stream",
     "text": [
      "302   Oakland_11062018_SchoolDirectorDistrict2.csv\n",
      "Oakland_11062018_SchoolDirectorDistrict2.csv  threw an exception\n",
      "303   Oakland_11062018_SchoolDirectorDistrict4.csv\n"
     ]
    },
    {
     "name": "stderr",
     "output_type": "stream",
     "text": [
      "c:\\Users\\mahsh\\Documents\\GitHub\\bugs-in-democracy\\EIL summer 2023\\rcv_dimensionality.py:170: RuntimeWarning: divide by zero encountered in true_divide\n",
      "  distance = 1 / np.sqrt(freq_upper_triangle)\n",
      "C:\\Users\\mahsh\\AppData\\Local\\Temp\\ipykernel_19644\\1022061950.py:45: FutureWarning: The frame.append method is deprecated and will be removed from pandas in a future version. Use pandas.concat instead.\n",
      "  winners = winners.append({'filename': filename, 'diff': diff, \"interval gamma\": gamma, \"#candidates\": len(candidates), 'IRV1': irv1, 'Condorcet1': condorcet1,\n"
     ]
    },
    {
     "name": "stdout",
     "output_type": "stream",
     "text": [
      "304   Oakland_11062018_SchoolDirectorDistrict6.csv\n"
     ]
    },
    {
     "name": "stderr",
     "output_type": "stream",
     "text": [
      "c:\\Users\\mahsh\\Documents\\GitHub\\bugs-in-democracy\\EIL summer 2023\\rcv_dimensionality.py:170: RuntimeWarning: divide by zero encountered in true_divide\n",
      "  distance = 1 / np.sqrt(freq_upper_triangle)\n",
      "C:\\Users\\mahsh\\AppData\\Local\\Temp\\ipykernel_19644\\1022061950.py:45: FutureWarning: The frame.append method is deprecated and will be removed from pandas in a future version. Use pandas.concat instead.\n",
      "  winners = winners.append({'filename': filename, 'diff': diff, \"interval gamma\": gamma, \"#candidates\": len(candidates), 'IRV1': irv1, 'Condorcet1': condorcet1,\n"
     ]
    },
    {
     "name": "stdout",
     "output_type": "stream",
     "text": [
      "305   Oakland_11082016_CityAttorney.csv\n",
      "Oakland_11082016_CityAttorney.csv  threw an exception\n",
      "306   Oakland_11082016_CityCouncilDistrict1.csv\n"
     ]
    },
    {
     "name": "stderr",
     "output_type": "stream",
     "text": [
      "c:\\Users\\mahsh\\Documents\\GitHub\\bugs-in-democracy\\EIL summer 2023\\rcv_dimensionality.py:170: RuntimeWarning: divide by zero encountered in true_divide\n",
      "  distance = 1 / np.sqrt(freq_upper_triangle)\n",
      "C:\\Users\\mahsh\\AppData\\Local\\Temp\\ipykernel_19644\\1022061950.py:45: FutureWarning: The frame.append method is deprecated and will be removed from pandas in a future version. Use pandas.concat instead.\n",
      "  winners = winners.append({'filename': filename, 'diff': diff, \"interval gamma\": gamma, \"#candidates\": len(candidates), 'IRV1': irv1, 'Condorcet1': condorcet1,\n"
     ]
    },
    {
     "name": "stdout",
     "output_type": "stream",
     "text": [
      "307   Oakland_11082016_CityCouncilDistrict3.csv\n"
     ]
    },
    {
     "name": "stderr",
     "output_type": "stream",
     "text": [
      "c:\\Users\\mahsh\\Documents\\GitHub\\bugs-in-democracy\\EIL summer 2023\\rcv_dimensionality.py:170: RuntimeWarning: divide by zero encountered in true_divide\n",
      "  distance = 1 / np.sqrt(freq_upper_triangle)\n",
      "C:\\Users\\mahsh\\AppData\\Local\\Temp\\ipykernel_19644\\1022061950.py:45: FutureWarning: The frame.append method is deprecated and will be removed from pandas in a future version. Use pandas.concat instead.\n",
      "  winners = winners.append({'filename': filename, 'diff': diff, \"interval gamma\": gamma, \"#candidates\": len(candidates), 'IRV1': irv1, 'Condorcet1': condorcet1,\n"
     ]
    },
    {
     "name": "stdout",
     "output_type": "stream",
     "text": [
      "308   Oakland_11082016_CityCouncilDistrict5.csv\n"
     ]
    },
    {
     "name": "stderr",
     "output_type": "stream",
     "text": [
      "c:\\Users\\mahsh\\Documents\\GitHub\\bugs-in-democracy\\EIL summer 2023\\rcv_dimensionality.py:170: RuntimeWarning: divide by zero encountered in true_divide\n",
      "  distance = 1 / np.sqrt(freq_upper_triangle)\n",
      "C:\\Users\\mahsh\\AppData\\Local\\Temp\\ipykernel_19644\\1022061950.py:45: FutureWarning: The frame.append method is deprecated and will be removed from pandas in a future version. Use pandas.concat instead.\n",
      "  winners = winners.append({'filename': filename, 'diff': diff, \"interval gamma\": gamma, \"#candidates\": len(candidates), 'IRV1': irv1, 'Condorcet1': condorcet1,\n"
     ]
    },
    {
     "name": "stdout",
     "output_type": "stream",
     "text": [
      "309   Oakland_11082016_CityCouncilDistrict7.csv\n"
     ]
    },
    {
     "name": "stderr",
     "output_type": "stream",
     "text": [
      "c:\\Users\\mahsh\\Documents\\GitHub\\bugs-in-democracy\\EIL summer 2023\\rcv_dimensionality.py:170: RuntimeWarning: divide by zero encountered in true_divide\n",
      "  distance = 1 / np.sqrt(freq_upper_triangle)\n",
      "C:\\Users\\mahsh\\AppData\\Local\\Temp\\ipykernel_19644\\1022061950.py:45: FutureWarning: The frame.append method is deprecated and will be removed from pandas in a future version. Use pandas.concat instead.\n",
      "  winners = winners.append({'filename': filename, 'diff': diff, \"interval gamma\": gamma, \"#candidates\": len(candidates), 'IRV1': irv1, 'Condorcet1': condorcet1,\n"
     ]
    },
    {
     "name": "stdout",
     "output_type": "stream",
     "text": [
      "310   Oakland_11082016_CouncilAtLrg.csv\n"
     ]
    },
    {
     "name": "stderr",
     "output_type": "stream",
     "text": [
      "c:\\Users\\mahsh\\Documents\\GitHub\\bugs-in-democracy\\EIL summer 2023\\rcv_dimensionality.py:170: RuntimeWarning: divide by zero encountered in true_divide\n",
      "  distance = 1 / np.sqrt(freq_upper_triangle)\n",
      "C:\\Users\\mahsh\\AppData\\Local\\Temp\\ipykernel_19644\\1022061950.py:45: FutureWarning: The frame.append method is deprecated and will be removed from pandas in a future version. Use pandas.concat instead.\n",
      "  winners = winners.append({'filename': filename, 'diff': diff, \"interval gamma\": gamma, \"#candidates\": len(candidates), 'IRV1': irv1, 'Condorcet1': condorcet1,\n"
     ]
    },
    {
     "name": "stdout",
     "output_type": "stream",
     "text": [
      "311   Oakland_11082016_SchoolDirectorDistrict1.csv\n"
     ]
    },
    {
     "name": "stderr",
     "output_type": "stream",
     "text": [
      "c:\\Users\\mahsh\\Documents\\GitHub\\bugs-in-democracy\\EIL summer 2023\\rcv_dimensionality.py:170: RuntimeWarning: divide by zero encountered in true_divide\n",
      "  distance = 1 / np.sqrt(freq_upper_triangle)\n",
      "C:\\Users\\mahsh\\AppData\\Local\\Temp\\ipykernel_19644\\1022061950.py:45: FutureWarning: The frame.append method is deprecated and will be removed from pandas in a future version. Use pandas.concat instead.\n",
      "  winners = winners.append({'filename': filename, 'diff': diff, \"interval gamma\": gamma, \"#candidates\": len(candidates), 'IRV1': irv1, 'Condorcet1': condorcet1,\n"
     ]
    },
    {
     "name": "stdout",
     "output_type": "stream",
     "text": [
      "312   Oakland_11082016_SchoolDirectorDistrict3.csv\n"
     ]
    },
    {
     "name": "stderr",
     "output_type": "stream",
     "text": [
      "c:\\Users\\mahsh\\Documents\\GitHub\\bugs-in-democracy\\EIL summer 2023\\rcv_dimensionality.py:170: RuntimeWarning: divide by zero encountered in true_divide\n",
      "  distance = 1 / np.sqrt(freq_upper_triangle)\n",
      "C:\\Users\\mahsh\\AppData\\Local\\Temp\\ipykernel_19644\\1022061950.py:45: FutureWarning: The frame.append method is deprecated and will be removed from pandas in a future version. Use pandas.concat instead.\n",
      "  winners = winners.append({'filename': filename, 'diff': diff, \"interval gamma\": gamma, \"#candidates\": len(candidates), 'IRV1': irv1, 'Condorcet1': condorcet1,\n"
     ]
    },
    {
     "name": "stdout",
     "output_type": "stream",
     "text": [
      "313   Oakland_11082016_SchoolDirectorDistrict5.csv\n"
     ]
    },
    {
     "name": "stderr",
     "output_type": "stream",
     "text": [
      "c:\\Users\\mahsh\\Documents\\GitHub\\bugs-in-democracy\\EIL summer 2023\\rcv_dimensionality.py:170: RuntimeWarning: divide by zero encountered in true_divide\n",
      "  distance = 1 / np.sqrt(freq_upper_triangle)\n",
      "C:\\Users\\mahsh\\AppData\\Local\\Temp\\ipykernel_19644\\1022061950.py:45: FutureWarning: The frame.append method is deprecated and will be removed from pandas in a future version. Use pandas.concat instead.\n",
      "  winners = winners.append({'filename': filename, 'diff': diff, \"interval gamma\": gamma, \"#candidates\": len(candidates), 'IRV1': irv1, 'Condorcet1': condorcet1,\n"
     ]
    },
    {
     "name": "stdout",
     "output_type": "stream",
     "text": [
      "314   Oakland_11082016_SchoolDirectorDistrict7.csv\n"
     ]
    },
    {
     "name": "stderr",
     "output_type": "stream",
     "text": [
      "c:\\Users\\mahsh\\Documents\\GitHub\\bugs-in-democracy\\EIL summer 2023\\rcv_dimensionality.py:170: RuntimeWarning: divide by zero encountered in true_divide\n",
      "  distance = 1 / np.sqrt(freq_upper_triangle)\n",
      "C:\\Users\\mahsh\\AppData\\Local\\Temp\\ipykernel_19644\\1022061950.py:45: FutureWarning: The frame.append method is deprecated and will be removed from pandas in a future version. Use pandas.concat instead.\n",
      "  winners = winners.append({'filename': filename, 'diff': diff, \"interval gamma\": gamma, \"#candidates\": len(candidates), 'IRV1': irv1, 'Condorcet1': condorcet1,\n"
     ]
    },
    {
     "name": "stdout",
     "output_type": "stream",
     "text": [
      "315   Oakland_11082022_CityAuditor.csv\n",
      "Oakland_11082022_CityAuditor.csv  threw an exception\n",
      "316   Oakland_11082022_CityCouncilmemberDistrict4.csv\n"
     ]
    },
    {
     "name": "stderr",
     "output_type": "stream",
     "text": [
      "c:\\Users\\mahsh\\Documents\\GitHub\\bugs-in-democracy\\EIL summer 2023\\rcv_dimensionality.py:170: RuntimeWarning: divide by zero encountered in true_divide\n",
      "  distance = 1 / np.sqrt(freq_upper_triangle)\n",
      "C:\\Users\\mahsh\\AppData\\Local\\Temp\\ipykernel_19644\\1022061950.py:45: FutureWarning: The frame.append method is deprecated and will be removed from pandas in a future version. Use pandas.concat instead.\n",
      "  winners = winners.append({'filename': filename, 'diff': diff, \"interval gamma\": gamma, \"#candidates\": len(candidates), 'IRV1': irv1, 'Condorcet1': condorcet1,\n"
     ]
    },
    {
     "name": "stdout",
     "output_type": "stream",
     "text": [
      "317   Oakland_11082022_CityCouncilmemberDistrict6.csv\n"
     ]
    },
    {
     "name": "stderr",
     "output_type": "stream",
     "text": [
      "c:\\Users\\mahsh\\Documents\\GitHub\\bugs-in-democracy\\EIL summer 2023\\rcv_dimensionality.py:170: RuntimeWarning: divide by zero encountered in true_divide\n",
      "  distance = 1 / np.sqrt(freq_upper_triangle)\n",
      "C:\\Users\\mahsh\\AppData\\Local\\Temp\\ipykernel_19644\\1022061950.py:45: FutureWarning: The frame.append method is deprecated and will be removed from pandas in a future version. Use pandas.concat instead.\n",
      "  winners = winners.append({'filename': filename, 'diff': diff, \"interval gamma\": gamma, \"#candidates\": len(candidates), 'IRV1': irv1, 'Condorcet1': condorcet1,\n"
     ]
    },
    {
     "name": "stdout",
     "output_type": "stream",
     "text": [
      "318   Oakland_11082022_Mayor.csv\n"
     ]
    },
    {
     "name": "stderr",
     "output_type": "stream",
     "text": [
      "c:\\Users\\mahsh\\Documents\\GitHub\\bugs-in-democracy\\EIL summer 2023\\rcv_dimensionality.py:170: RuntimeWarning: divide by zero encountered in true_divide\n",
      "  distance = 1 / np.sqrt(freq_upper_triangle)\n",
      "C:\\Users\\mahsh\\AppData\\Local\\Temp\\ipykernel_19644\\1022061950.py:45: FutureWarning: The frame.append method is deprecated and will be removed from pandas in a future version. Use pandas.concat instead.\n",
      "  winners = winners.append({'filename': filename, 'diff': diff, \"interval gamma\": gamma, \"#candidates\": len(candidates), 'IRV1': irv1, 'Condorcet1': condorcet1,\n"
     ]
    },
    {
     "name": "stdout",
     "output_type": "stream",
     "text": [
      "319   Oakland_11082022_Schoolboarddistrict2.csv\n"
     ]
    },
    {
     "name": "stderr",
     "output_type": "stream",
     "text": [
      "c:\\Users\\mahsh\\Documents\\GitHub\\bugs-in-democracy\\EIL summer 2023\\rcv_dimensionality.py:170: RuntimeWarning: divide by zero encountered in true_divide\n",
      "  distance = 1 / np.sqrt(freq_upper_triangle)\n",
      "C:\\Users\\mahsh\\AppData\\Local\\Temp\\ipykernel_19644\\1022061950.py:45: FutureWarning: The frame.append method is deprecated and will be removed from pandas in a future version. Use pandas.concat instead.\n",
      "  winners = winners.append({'filename': filename, 'diff': diff, \"interval gamma\": gamma, \"#candidates\": len(candidates), 'IRV1': irv1, 'Condorcet1': condorcet1,\n"
     ]
    },
    {
     "name": "stdout",
     "output_type": "stream",
     "text": [
      "320   Oakland_11082022_Schoolboarddistrict4.csv\n"
     ]
    },
    {
     "name": "stderr",
     "output_type": "stream",
     "text": [
      "c:\\Users\\mahsh\\Documents\\GitHub\\bugs-in-democracy\\EIL summer 2023\\rcv_dimensionality.py:170: RuntimeWarning: divide by zero encountered in true_divide\n",
      "  distance = 1 / np.sqrt(freq_upper_triangle)\n",
      "C:\\Users\\mahsh\\AppData\\Local\\Temp\\ipykernel_19644\\1022061950.py:45: FutureWarning: The frame.append method is deprecated and will be removed from pandas in a future version. Use pandas.concat instead.\n",
      "  winners = winners.append({'filename': filename, 'diff': diff, \"interval gamma\": gamma, \"#candidates\": len(candidates), 'IRV1': irv1, 'Condorcet1': condorcet1,\n"
     ]
    },
    {
     "name": "stdout",
     "output_type": "stream",
     "text": [
      "321   Oakland_11082022_Schoolboarddistrict6.csv\n"
     ]
    },
    {
     "name": "stderr",
     "output_type": "stream",
     "text": [
      "c:\\Users\\mahsh\\Documents\\GitHub\\bugs-in-democracy\\EIL summer 2023\\rcv_dimensionality.py:170: RuntimeWarning: divide by zero encountered in true_divide\n",
      "  distance = 1 / np.sqrt(freq_upper_triangle)\n",
      "C:\\Users\\mahsh\\AppData\\Local\\Temp\\ipykernel_19644\\1022061950.py:45: FutureWarning: The frame.append method is deprecated and will be removed from pandas in a future version. Use pandas.concat instead.\n",
      "  winners = winners.append({'filename': filename, 'diff': diff, \"interval gamma\": gamma, \"#candidates\": len(candidates), 'IRV1': irv1, 'Condorcet1': condorcet1,\n"
     ]
    },
    {
     "name": "stdout",
     "output_type": "stream",
     "text": [
      "322   Payson_11052019_CityCouncil.csv\n"
     ]
    },
    {
     "name": "stderr",
     "output_type": "stream",
     "text": [
      "c:\\Users\\mahsh\\Documents\\GitHub\\bugs-in-democracy\\EIL summer 2023\\rcv_dimensionality.py:170: RuntimeWarning: divide by zero encountered in true_divide\n",
      "  distance = 1 / np.sqrt(freq_upper_triangle)\n",
      "C:\\Users\\mahsh\\AppData\\Local\\Temp\\ipykernel_19644\\1022061950.py:45: FutureWarning: The frame.append method is deprecated and will be removed from pandas in a future version. Use pandas.concat instead.\n",
      "  winners = winners.append({'filename': filename, 'diff': diff, \"interval gamma\": gamma, \"#candidates\": len(candidates), 'IRV1': irv1, 'Condorcet1': condorcet1,\n"
     ]
    },
    {
     "name": "stdout",
     "output_type": "stream",
     "text": [
      "323   PierceCounty_11032009_CountyAuditor.csv\n"
     ]
    },
    {
     "name": "stderr",
     "output_type": "stream",
     "text": [
      "c:\\Users\\mahsh\\Documents\\GitHub\\bugs-in-democracy\\EIL summer 2023\\rcv_dimensionality.py:170: RuntimeWarning: divide by zero encountered in true_divide\n",
      "  distance = 1 / np.sqrt(freq_upper_triangle)\n",
      "C:\\Users\\mahsh\\AppData\\Local\\Temp\\ipykernel_19644\\1022061950.py:45: FutureWarning: The frame.append method is deprecated and will be removed from pandas in a future version. Use pandas.concat instead.\n",
      "  winners = winners.append({'filename': filename, 'diff': diff, \"interval gamma\": gamma, \"#candidates\": len(candidates), 'IRV1': irv1, 'Condorcet1': condorcet1,\n"
     ]
    },
    {
     "name": "stdout",
     "output_type": "stream",
     "text": [
      "324   PierceCounty_11042008_CountyAssessorTreasurer.csv\n"
     ]
    },
    {
     "name": "stderr",
     "output_type": "stream",
     "text": [
      "c:\\Users\\mahsh\\Documents\\GitHub\\bugs-in-democracy\\EIL summer 2023\\rcv_dimensionality.py:170: RuntimeWarning: divide by zero encountered in true_divide\n",
      "  distance = 1 / np.sqrt(freq_upper_triangle)\n",
      "C:\\Users\\mahsh\\AppData\\Local\\Temp\\ipykernel_19644\\1022061950.py:45: FutureWarning: The frame.append method is deprecated and will be removed from pandas in a future version. Use pandas.concat instead.\n",
      "  winners = winners.append({'filename': filename, 'diff': diff, \"interval gamma\": gamma, \"#candidates\": len(candidates), 'IRV1': irv1, 'Condorcet1': condorcet1,\n"
     ]
    },
    {
     "name": "stdout",
     "output_type": "stream",
     "text": [
      "325   PierceCounty_11042008_CountyCouncilDistrict2.csv\n"
     ]
    },
    {
     "name": "stderr",
     "output_type": "stream",
     "text": [
      "c:\\Users\\mahsh\\Documents\\GitHub\\bugs-in-democracy\\EIL summer 2023\\rcv_dimensionality.py:170: RuntimeWarning: divide by zero encountered in true_divide\n",
      "  distance = 1 / np.sqrt(freq_upper_triangle)\n",
      "C:\\Users\\mahsh\\AppData\\Local\\Temp\\ipykernel_19644\\1022061950.py:45: FutureWarning: The frame.append method is deprecated and will be removed from pandas in a future version. Use pandas.concat instead.\n",
      "  winners = winners.append({'filename': filename, 'diff': diff, \"interval gamma\": gamma, \"#candidates\": len(candidates), 'IRV1': irv1, 'Condorcet1': condorcet1,\n"
     ]
    },
    {
     "name": "stdout",
     "output_type": "stream",
     "text": [
      "326   PierceCounty_11042008_CountyExecutiveMember.csv\n"
     ]
    },
    {
     "name": "stderr",
     "output_type": "stream",
     "text": [
      "c:\\Users\\mahsh\\Documents\\GitHub\\bugs-in-democracy\\EIL summer 2023\\rcv_dimensionality.py:170: RuntimeWarning: divide by zero encountered in true_divide\n",
      "  distance = 1 / np.sqrt(freq_upper_triangle)\n",
      "C:\\Users\\mahsh\\AppData\\Local\\Temp\\ipykernel_19644\\1022061950.py:45: FutureWarning: The frame.append method is deprecated and will be removed from pandas in a future version. Use pandas.concat instead.\n",
      "  winners = winners.append({'filename': filename, 'diff': diff, \"interval gamma\": gamma, \"#candidates\": len(candidates), 'IRV1': irv1, 'Condorcet1': condorcet1,\n"
     ]
    },
    {
     "name": "stdout",
     "output_type": "stream",
     "text": [
      "327   Portland_06082021_charter_commission_at_large.csv\n"
     ]
    },
    {
     "name": "stderr",
     "output_type": "stream",
     "text": [
      "c:\\Users\\mahsh\\Documents\\GitHub\\bugs-in-democracy\\EIL summer 2023\\rcv_dimensionality.py:170: RuntimeWarning: divide by zero encountered in true_divide\n",
      "  distance = 1 / np.sqrt(freq_upper_triangle)\n",
      "C:\\Users\\mahsh\\AppData\\Local\\Temp\\ipykernel_19644\\1022061950.py:45: FutureWarning: The frame.append method is deprecated and will be removed from pandas in a future version. Use pandas.concat instead.\n",
      "  winners = winners.append({'filename': filename, 'diff': diff, \"interval gamma\": gamma, \"#candidates\": len(candidates), 'IRV1': irv1, 'Condorcet1': condorcet1,\n"
     ]
    },
    {
     "name": "stdout",
     "output_type": "stream",
     "text": [
      "328   Portland_06142022_SchoolboardAL-1.csv\n"
     ]
    },
    {
     "name": "stderr",
     "output_type": "stream",
     "text": [
      "c:\\Users\\mahsh\\Documents\\GitHub\\bugs-in-democracy\\EIL summer 2023\\rcv_dimensionality.py:170: RuntimeWarning: divide by zero encountered in true_divide\n",
      "  distance = 1 / np.sqrt(freq_upper_triangle)\n",
      "C:\\Users\\mahsh\\AppData\\Local\\Temp\\ipykernel_19644\\1022061950.py:45: FutureWarning: The frame.append method is deprecated and will be removed from pandas in a future version. Use pandas.concat instead.\n",
      "  winners = winners.append({'filename': filename, 'diff': diff, \"interval gamma\": gamma, \"#candidates\": len(candidates), 'IRV1': irv1, 'Condorcet1': condorcet1,\n"
     ]
    },
    {
     "name": "stdout",
     "output_type": "stream",
     "text": [
      "329   Portland_06142022_SchoolboardAL.csv\n"
     ]
    },
    {
     "name": "stderr",
     "output_type": "stream",
     "text": [
      "c:\\Users\\mahsh\\Documents\\GitHub\\bugs-in-democracy\\EIL summer 2023\\rcv_dimensionality.py:159: RuntimeWarning: divide by zero encountered in true_divide\n",
      "  frequencies = counts / mentioned_together\n",
      "c:\\Users\\mahsh\\Documents\\GitHub\\bugs-in-democracy\\EIL summer 2023\\rcv_dimensionality.py:159: RuntimeWarning: invalid value encountered in true_divide\n",
      "  frequencies = counts / mentioned_together\n",
      "c:\\Users\\mahsh\\Documents\\GitHub\\bugs-in-democracy\\EIL summer 2023\\rcv_dimensionality.py:170: RuntimeWarning: divide by zero encountered in true_divide\n",
      "  distance = 1 / np.sqrt(freq_upper_triangle)\n",
      "C:\\Users\\mahsh\\AppData\\Local\\Temp\\ipykernel_19644\\1022061950.py:45: FutureWarning: The frame.append method is deprecated and will be removed from pandas in a future version. Use pandas.concat instead.\n",
      "  winners = winners.append({'filename': filename, 'diff': diff, \"interval gamma\": gamma, \"#candidates\": len(candidates), 'IRV1': irv1, 'Condorcet1': condorcet1,\n"
     ]
    },
    {
     "name": "stdout",
     "output_type": "stream",
     "text": [
      "330   Portland_06142022_Schoolboarddistrict5-1.csv\n"
     ]
    },
    {
     "name": "stderr",
     "output_type": "stream",
     "text": [
      "c:\\Users\\mahsh\\Documents\\GitHub\\bugs-in-democracy\\EIL summer 2023\\rcv_dimensionality.py:170: RuntimeWarning: divide by zero encountered in true_divide\n",
      "  distance = 1 / np.sqrt(freq_upper_triangle)\n",
      "C:\\Users\\mahsh\\AppData\\Local\\Temp\\ipykernel_19644\\1022061950.py:45: FutureWarning: The frame.append method is deprecated and will be removed from pandas in a future version. Use pandas.concat instead.\n",
      "  winners = winners.append({'filename': filename, 'diff': diff, \"interval gamma\": gamma, \"#candidates\": len(candidates), 'IRV1': irv1, 'Condorcet1': condorcet1,\n"
     ]
    },
    {
     "name": "stdout",
     "output_type": "stream",
     "text": [
      "331   Portland_06142022_Schoolboarddistrict5.csv\n"
     ]
    },
    {
     "name": "stderr",
     "output_type": "stream",
     "text": [
      "c:\\Users\\mahsh\\Documents\\GitHub\\bugs-in-democracy\\EIL summer 2023\\rcv_dimensionality.py:159: RuntimeWarning: divide by zero encountered in true_divide\n",
      "  frequencies = counts / mentioned_together\n",
      "c:\\Users\\mahsh\\Documents\\GitHub\\bugs-in-democracy\\EIL summer 2023\\rcv_dimensionality.py:159: RuntimeWarning: invalid value encountered in true_divide\n",
      "  frequencies = counts / mentioned_together\n",
      "c:\\Users\\mahsh\\Documents\\GitHub\\bugs-in-democracy\\EIL summer 2023\\rcv_dimensionality.py:170: RuntimeWarning: divide by zero encountered in true_divide\n",
      "  distance = 1 / np.sqrt(freq_upper_triangle)\n",
      "C:\\Users\\mahsh\\AppData\\Local\\Temp\\ipykernel_19644\\1022061950.py:45: FutureWarning: The frame.append method is deprecated and will be removed from pandas in a future version. Use pandas.concat instead.\n",
      "  winners = winners.append({'filename': filename, 'diff': diff, \"interval gamma\": gamma, \"#candidates\": len(candidates), 'IRV1': irv1, 'Condorcet1': condorcet1,\n"
     ]
    },
    {
     "name": "stdout",
     "output_type": "stream",
     "text": [
      "332   Portland_11082022_SchoolBoardDistrict3.csv\n"
     ]
    },
    {
     "name": "stderr",
     "output_type": "stream",
     "text": [
      "c:\\Users\\mahsh\\Documents\\GitHub\\bugs-in-democracy\\EIL summer 2023\\rcv_dimensionality.py:170: RuntimeWarning: divide by zero encountered in true_divide\n",
      "  distance = 1 / np.sqrt(freq_upper_triangle)\n",
      "C:\\Users\\mahsh\\AppData\\Local\\Temp\\ipykernel_19644\\1022061950.py:45: FutureWarning: The frame.append method is deprecated and will be removed from pandas in a future version. Use pandas.concat instead.\n",
      "  winners = winners.append({'filename': filename, 'diff': diff, \"interval gamma\": gamma, \"#candidates\": len(candidates), 'IRV1': irv1, 'Condorcet1': condorcet1,\n"
     ]
    },
    {
     "name": "stdout",
     "output_type": "stream",
     "text": [
      "333   SanFrancisco_06052018_BoardofSupervisorsDistrict8.csv\n"
     ]
    },
    {
     "name": "stderr",
     "output_type": "stream",
     "text": [
      "c:\\Users\\mahsh\\Documents\\GitHub\\bugs-in-democracy\\EIL summer 2023\\rcv_dimensionality.py:170: RuntimeWarning: divide by zero encountered in true_divide\n",
      "  distance = 1 / np.sqrt(freq_upper_triangle)\n",
      "C:\\Users\\mahsh\\AppData\\Local\\Temp\\ipykernel_19644\\1022061950.py:45: FutureWarning: The frame.append method is deprecated and will be removed from pandas in a future version. Use pandas.concat instead.\n",
      "  winners = winners.append({'filename': filename, 'diff': diff, \"interval gamma\": gamma, \"#candidates\": len(candidates), 'IRV1': irv1, 'Condorcet1': condorcet1,\n"
     ]
    },
    {
     "name": "stdout",
     "output_type": "stream",
     "text": [
      "334   SanFrancisco_06052018_Mayor.csv\n"
     ]
    },
    {
     "name": "stderr",
     "output_type": "stream",
     "text": [
      "c:\\Users\\mahsh\\Documents\\GitHub\\bugs-in-democracy\\EIL summer 2023\\rcv_dimensionality.py:170: RuntimeWarning: divide by zero encountered in true_divide\n",
      "  distance = 1 / np.sqrt(freq_upper_triangle)\n",
      "C:\\Users\\mahsh\\AppData\\Local\\Temp\\ipykernel_19644\\1022061950.py:45: FutureWarning: The frame.append method is deprecated and will be removed from pandas in a future version. Use pandas.concat instead.\n",
      "  winners = winners.append({'filename': filename, 'diff': diff, \"interval gamma\": gamma, \"#candidates\": len(candidates), 'IRV1': irv1, 'Condorcet1': condorcet1,\n"
     ]
    },
    {
     "name": "stdout",
     "output_type": "stream",
     "text": [
      "335   SanFrancisco_11022004_BoardofSupervisorsDistrict11.csv\n"
     ]
    },
    {
     "name": "stderr",
     "output_type": "stream",
     "text": [
      "c:\\Users\\mahsh\\Documents\\GitHub\\bugs-in-democracy\\EIL summer 2023\\rcv_dimensionality.py:170: RuntimeWarning: divide by zero encountered in true_divide\n",
      "  distance = 1 / np.sqrt(freq_upper_triangle)\n",
      "C:\\Users\\mahsh\\AppData\\Local\\Temp\\ipykernel_19644\\1022061950.py:45: FutureWarning: The frame.append method is deprecated and will be removed from pandas in a future version. Use pandas.concat instead.\n",
      "  winners = winners.append({'filename': filename, 'diff': diff, \"interval gamma\": gamma, \"#candidates\": len(candidates), 'IRV1': irv1, 'Condorcet1': condorcet1,\n"
     ]
    },
    {
     "name": "stdout",
     "output_type": "stream",
     "text": [
      "336   SanFrancisco_11022004_BoardofSupervisorsDistrict2.csv\n"
     ]
    },
    {
     "name": "stderr",
     "output_type": "stream",
     "text": [
      "c:\\Users\\mahsh\\Documents\\GitHub\\bugs-in-democracy\\EIL summer 2023\\rcv_dimensionality.py:170: RuntimeWarning: divide by zero encountered in true_divide\n",
      "  distance = 1 / np.sqrt(freq_upper_triangle)\n",
      "C:\\Users\\mahsh\\AppData\\Local\\Temp\\ipykernel_19644\\1022061950.py:45: FutureWarning: The frame.append method is deprecated and will be removed from pandas in a future version. Use pandas.concat instead.\n",
      "  winners = winners.append({'filename': filename, 'diff': diff, \"interval gamma\": gamma, \"#candidates\": len(candidates), 'IRV1': irv1, 'Condorcet1': condorcet1,\n"
     ]
    },
    {
     "name": "stdout",
     "output_type": "stream",
     "text": [
      "337   SanFrancisco_11022004_BoardofSupervisorsDistrict3.csv\n"
     ]
    },
    {
     "name": "stderr",
     "output_type": "stream",
     "text": [
      "c:\\Users\\mahsh\\Documents\\GitHub\\bugs-in-democracy\\EIL summer 2023\\rcv_dimensionality.py:170: RuntimeWarning: divide by zero encountered in true_divide\n",
      "  distance = 1 / np.sqrt(freq_upper_triangle)\n",
      "C:\\Users\\mahsh\\AppData\\Local\\Temp\\ipykernel_19644\\1022061950.py:45: FutureWarning: The frame.append method is deprecated and will be removed from pandas in a future version. Use pandas.concat instead.\n",
      "  winners = winners.append({'filename': filename, 'diff': diff, \"interval gamma\": gamma, \"#candidates\": len(candidates), 'IRV1': irv1, 'Condorcet1': condorcet1,\n"
     ]
    },
    {
     "name": "stdout",
     "output_type": "stream",
     "text": [
      "338   SanFrancisco_11022004_BoardofSupervisorsDistrict5.csv\n"
     ]
    },
    {
     "name": "stderr",
     "output_type": "stream",
     "text": [
      "c:\\Users\\mahsh\\Documents\\GitHub\\bugs-in-democracy\\EIL summer 2023\\rcv_dimensionality.py:170: RuntimeWarning: divide by zero encountered in true_divide\n",
      "  distance = 1 / np.sqrt(freq_upper_triangle)\n",
      "C:\\Users\\mahsh\\AppData\\Local\\Temp\\ipykernel_19644\\1022061950.py:45: FutureWarning: The frame.append method is deprecated and will be removed from pandas in a future version. Use pandas.concat instead.\n",
      "  winners = winners.append({'filename': filename, 'diff': diff, \"interval gamma\": gamma, \"#candidates\": len(candidates), 'IRV1': irv1, 'Condorcet1': condorcet1,\n"
     ]
    },
    {
     "name": "stdout",
     "output_type": "stream",
     "text": [
      "339   SanFrancisco_11022004_BoardofSupervisorsDistrict7.csv\n"
     ]
    },
    {
     "name": "stderr",
     "output_type": "stream",
     "text": [
      "c:\\Users\\mahsh\\Documents\\GitHub\\bugs-in-democracy\\EIL summer 2023\\rcv_dimensionality.py:170: RuntimeWarning: divide by zero encountered in true_divide\n",
      "  distance = 1 / np.sqrt(freq_upper_triangle)\n",
      "C:\\Users\\mahsh\\AppData\\Local\\Temp\\ipykernel_19644\\1022061950.py:45: FutureWarning: The frame.append method is deprecated and will be removed from pandas in a future version. Use pandas.concat instead.\n",
      "  winners = winners.append({'filename': filename, 'diff': diff, \"interval gamma\": gamma, \"#candidates\": len(candidates), 'IRV1': irv1, 'Condorcet1': condorcet1,\n"
     ]
    },
    {
     "name": "stdout",
     "output_type": "stream",
     "text": [
      "340   SanFrancisco_11022004_BoardofSupervisorsDistrict9.csv\n"
     ]
    },
    {
     "name": "stderr",
     "output_type": "stream",
     "text": [
      "c:\\Users\\mahsh\\Documents\\GitHub\\bugs-in-democracy\\EIL summer 2023\\rcv_dimensionality.py:170: RuntimeWarning: divide by zero encountered in true_divide\n",
      "  distance = 1 / np.sqrt(freq_upper_triangle)\n",
      "C:\\Users\\mahsh\\AppData\\Local\\Temp\\ipykernel_19644\\1022061950.py:45: FutureWarning: The frame.append method is deprecated and will be removed from pandas in a future version. Use pandas.concat instead.\n",
      "  winners = winners.append({'filename': filename, 'diff': diff, \"interval gamma\": gamma, \"#candidates\": len(candidates), 'IRV1': irv1, 'Condorcet1': condorcet1,\n"
     ]
    },
    {
     "name": "stdout",
     "output_type": "stream",
     "text": [
      "341   SanFrancisco_11022010_BoardofSupervisorsDistrict10.csv\n"
     ]
    },
    {
     "name": "stderr",
     "output_type": "stream",
     "text": [
      "c:\\Users\\mahsh\\Documents\\GitHub\\bugs-in-democracy\\EIL summer 2023\\rcv_dimensionality.py:170: RuntimeWarning: divide by zero encountered in true_divide\n",
      "  distance = 1 / np.sqrt(freq_upper_triangle)\n",
      "C:\\Users\\mahsh\\AppData\\Local\\Temp\\ipykernel_19644\\1022061950.py:45: FutureWarning: The frame.append method is deprecated and will be removed from pandas in a future version. Use pandas.concat instead.\n",
      "  winners = winners.append({'filename': filename, 'diff': diff, \"interval gamma\": gamma, \"#candidates\": len(candidates), 'IRV1': irv1, 'Condorcet1': condorcet1,\n"
     ]
    },
    {
     "name": "stdout",
     "output_type": "stream",
     "text": [
      "342   SanFrancisco_11022010_BoardofSupervisorsDistrict2.csv\n"
     ]
    },
    {
     "name": "stderr",
     "output_type": "stream",
     "text": [
      "c:\\Users\\mahsh\\Documents\\GitHub\\bugs-in-democracy\\EIL summer 2023\\rcv_dimensionality.py:170: RuntimeWarning: divide by zero encountered in true_divide\n",
      "  distance = 1 / np.sqrt(freq_upper_triangle)\n",
      "C:\\Users\\mahsh\\AppData\\Local\\Temp\\ipykernel_19644\\1022061950.py:45: FutureWarning: The frame.append method is deprecated and will be removed from pandas in a future version. Use pandas.concat instead.\n",
      "  winners = winners.append({'filename': filename, 'diff': diff, \"interval gamma\": gamma, \"#candidates\": len(candidates), 'IRV1': irv1, 'Condorcet1': condorcet1,\n"
     ]
    },
    {
     "name": "stdout",
     "output_type": "stream",
     "text": [
      "343   SanFrancisco_11022010_BoardofSupervisorsDistrict6.csv\n"
     ]
    },
    {
     "name": "stderr",
     "output_type": "stream",
     "text": [
      "c:\\Users\\mahsh\\Documents\\GitHub\\bugs-in-democracy\\EIL summer 2023\\rcv_dimensionality.py:170: RuntimeWarning: divide by zero encountered in true_divide\n",
      "  distance = 1 / np.sqrt(freq_upper_triangle)\n",
      "C:\\Users\\mahsh\\AppData\\Local\\Temp\\ipykernel_19644\\1022061950.py:45: FutureWarning: The frame.append method is deprecated and will be removed from pandas in a future version. Use pandas.concat instead.\n",
      "  winners = winners.append({'filename': filename, 'diff': diff, \"interval gamma\": gamma, \"#candidates\": len(candidates), 'IRV1': irv1, 'Condorcet1': condorcet1,\n"
     ]
    },
    {
     "name": "stdout",
     "output_type": "stream",
     "text": [
      "344   SanFrancisco_11022010_BoardofSupervisorsDistrict8.csv\n"
     ]
    },
    {
     "name": "stderr",
     "output_type": "stream",
     "text": [
      "c:\\Users\\mahsh\\Documents\\GitHub\\bugs-in-democracy\\EIL summer 2023\\rcv_dimensionality.py:170: RuntimeWarning: divide by zero encountered in true_divide\n",
      "  distance = 1 / np.sqrt(freq_upper_triangle)\n",
      "C:\\Users\\mahsh\\AppData\\Local\\Temp\\ipykernel_19644\\1022061950.py:45: FutureWarning: The frame.append method is deprecated and will be removed from pandas in a future version. Use pandas.concat instead.\n",
      "  winners = winners.append({'filename': filename, 'diff': diff, \"interval gamma\": gamma, \"#candidates\": len(candidates), 'IRV1': irv1, 'Condorcet1': condorcet1,\n"
     ]
    },
    {
     "name": "stdout",
     "output_type": "stream",
     "text": [
      "345   SanFrancisco_11032015_BoardofSupervisorsDistrict3.csv\n"
     ]
    },
    {
     "name": "stderr",
     "output_type": "stream",
     "text": [
      "c:\\Users\\mahsh\\Documents\\GitHub\\bugs-in-democracy\\EIL summer 2023\\rcv_dimensionality.py:170: RuntimeWarning: divide by zero encountered in true_divide\n",
      "  distance = 1 / np.sqrt(freq_upper_triangle)\n",
      "C:\\Users\\mahsh\\AppData\\Local\\Temp\\ipykernel_19644\\1022061950.py:45: FutureWarning: The frame.append method is deprecated and will be removed from pandas in a future version. Use pandas.concat instead.\n",
      "  winners = winners.append({'filename': filename, 'diff': diff, \"interval gamma\": gamma, \"#candidates\": len(candidates), 'IRV1': irv1, 'Condorcet1': condorcet1,\n"
     ]
    },
    {
     "name": "stdout",
     "output_type": "stream",
     "text": [
      "346   SanFrancisco_11032015_Mayor.csv\n"
     ]
    },
    {
     "name": "stderr",
     "output_type": "stream",
     "text": [
      "c:\\Users\\mahsh\\Documents\\GitHub\\bugs-in-democracy\\EIL summer 2023\\rcv_dimensionality.py:170: RuntimeWarning: divide by zero encountered in true_divide\n",
      "  distance = 1 / np.sqrt(freq_upper_triangle)\n",
      "C:\\Users\\mahsh\\AppData\\Local\\Temp\\ipykernel_19644\\1022061950.py:45: FutureWarning: The frame.append method is deprecated and will be removed from pandas in a future version. Use pandas.concat instead.\n",
      "  winners = winners.append({'filename': filename, 'diff': diff, \"interval gamma\": gamma, \"#candidates\": len(candidates), 'IRV1': irv1, 'Condorcet1': condorcet1,\n"
     ]
    },
    {
     "name": "stdout",
     "output_type": "stream",
     "text": [
      "347   SanFrancisco_11032015_Sheriff.csv\n"
     ]
    },
    {
     "name": "stderr",
     "output_type": "stream",
     "text": [
      "c:\\Users\\mahsh\\Documents\\GitHub\\bugs-in-democracy\\EIL summer 2023\\rcv_dimensionality.py:170: RuntimeWarning: divide by zero encountered in true_divide\n",
      "  distance = 1 / np.sqrt(freq_upper_triangle)\n",
      "C:\\Users\\mahsh\\AppData\\Local\\Temp\\ipykernel_19644\\1022061950.py:45: FutureWarning: The frame.append method is deprecated and will be removed from pandas in a future version. Use pandas.concat instead.\n",
      "  winners = winners.append({'filename': filename, 'diff': diff, \"interval gamma\": gamma, \"#candidates\": len(candidates), 'IRV1': irv1, 'Condorcet1': condorcet1,\n"
     ]
    },
    {
     "name": "stdout",
     "output_type": "stream",
     "text": [
      "348   SanFrancisco_11032020_BOARDOFSUPERVISORSDISTRICT1.csv\n"
     ]
    },
    {
     "name": "stderr",
     "output_type": "stream",
     "text": [
      "c:\\Users\\mahsh\\Documents\\GitHub\\bugs-in-democracy\\EIL summer 2023\\rcv_dimensionality.py:170: RuntimeWarning: divide by zero encountered in true_divide\n",
      "  distance = 1 / np.sqrt(freq_upper_triangle)\n",
      "C:\\Users\\mahsh\\AppData\\Local\\Temp\\ipykernel_19644\\1022061950.py:45: FutureWarning: The frame.append method is deprecated and will be removed from pandas in a future version. Use pandas.concat instead.\n",
      "  winners = winners.append({'filename': filename, 'diff': diff, \"interval gamma\": gamma, \"#candidates\": len(candidates), 'IRV1': irv1, 'Condorcet1': condorcet1,\n"
     ]
    },
    {
     "name": "stdout",
     "output_type": "stream",
     "text": [
      "349   SanFrancisco_11032020_BOARDOFSUPERVISORSDISTRICT11.csv\n"
     ]
    },
    {
     "name": "stderr",
     "output_type": "stream",
     "text": [
      "c:\\Users\\mahsh\\Documents\\GitHub\\bugs-in-democracy\\EIL summer 2023\\rcv_dimensionality.py:170: RuntimeWarning: divide by zero encountered in true_divide\n",
      "  distance = 1 / np.sqrt(freq_upper_triangle)\n",
      "C:\\Users\\mahsh\\AppData\\Local\\Temp\\ipykernel_19644\\1022061950.py:45: FutureWarning: The frame.append method is deprecated and will be removed from pandas in a future version. Use pandas.concat instead.\n",
      "  winners = winners.append({'filename': filename, 'diff': diff, \"interval gamma\": gamma, \"#candidates\": len(candidates), 'IRV1': irv1, 'Condorcet1': condorcet1,\n",
      "c:\\Users\\mahsh\\Documents\\GitHub\\bugs-in-democracy\\EIL summer 2023\\rcv_dimensionality.py:170: RuntimeWarning: divide by zero encountered in true_divide\n",
      "  distance = 1 / np.sqrt(freq_upper_triangle)\n",
      "C:\\Users\\mahsh\\AppData\\Local\\Temp\\ipykernel_19644\\1022061950.py:45: FutureWarning: The frame.append method is deprecated and will be removed from pandas in a future version. Use pandas.concat instead.\n",
      "  winners = winners.append({'filename': filename, 'diff': diff, \"interval gamma\": gamma, \"#candidates\": len(candidates), 'IRV1': irv1, 'Condorcet1': condorcet1,\n"
     ]
    },
    {
     "name": "stdout",
     "output_type": "stream",
     "text": [
      "351   SanFrancisco_11032020_BOARDOFSUPERVISORSDISTRICT5.csv\n"
     ]
    },
    {
     "name": "stderr",
     "output_type": "stream",
     "text": [
      "c:\\Users\\mahsh\\Documents\\GitHub\\bugs-in-democracy\\EIL summer 2023\\rcv_dimensionality.py:170: RuntimeWarning: divide by zero encountered in true_divide\n",
      "  distance = 1 / np.sqrt(freq_upper_triangle)\n",
      "C:\\Users\\mahsh\\AppData\\Local\\Temp\\ipykernel_19644\\1022061950.py:45: FutureWarning: The frame.append method is deprecated and will be removed from pandas in a future version. Use pandas.concat instead.\n",
      "  winners = winners.append({'filename': filename, 'diff': diff, \"interval gamma\": gamma, \"#candidates\": len(candidates), 'IRV1': irv1, 'Condorcet1': condorcet1,\n"
     ]
    },
    {
     "name": "stdout",
     "output_type": "stream",
     "text": [
      "352   SanFrancisco_11032020_BOARDOFSUPERVISORSDISTRICT7.csv\n"
     ]
    },
    {
     "name": "stderr",
     "output_type": "stream",
     "text": [
      "c:\\Users\\mahsh\\Documents\\GitHub\\bugs-in-democracy\\EIL summer 2023\\rcv_dimensionality.py:170: RuntimeWarning: divide by zero encountered in true_divide\n",
      "  distance = 1 / np.sqrt(freq_upper_triangle)\n",
      "C:\\Users\\mahsh\\AppData\\Local\\Temp\\ipykernel_19644\\1022061950.py:45: FutureWarning: The frame.append method is deprecated and will be removed from pandas in a future version. Use pandas.concat instead.\n",
      "  winners = winners.append({'filename': filename, 'diff': diff, \"interval gamma\": gamma, \"#candidates\": len(candidates), 'IRV1': irv1, 'Condorcet1': condorcet1,\n"
     ]
    },
    {
     "name": "stdout",
     "output_type": "stream",
     "text": [
      "353   SanFrancisco_11032020_BOARDOFSUPERVISORSDISTRICT9.csv\n"
     ]
    },
    {
     "name": "stderr",
     "output_type": "stream",
     "text": [
      "c:\\Users\\mahsh\\Documents\\GitHub\\bugs-in-democracy\\EIL summer 2023\\rcv_dimensionality.py:170: RuntimeWarning: divide by zero encountered in true_divide\n",
      "  distance = 1 / np.sqrt(freq_upper_triangle)\n",
      "C:\\Users\\mahsh\\AppData\\Local\\Temp\\ipykernel_19644\\1022061950.py:45: FutureWarning: The frame.append method is deprecated and will be removed from pandas in a future version. Use pandas.concat instead.\n",
      "  winners = winners.append({'filename': filename, 'diff': diff, \"interval gamma\": gamma, \"#candidates\": len(candidates), 'IRV1': irv1, 'Condorcet1': condorcet1,\n"
     ]
    },
    {
     "name": "stdout",
     "output_type": "stream",
     "text": [
      "354   SanFrancisco_11042008_BoardofSupervisorsDistrict1.csv\n"
     ]
    },
    {
     "name": "stderr",
     "output_type": "stream",
     "text": [
      "c:\\Users\\mahsh\\Documents\\GitHub\\bugs-in-democracy\\EIL summer 2023\\rcv_dimensionality.py:170: RuntimeWarning: divide by zero encountered in true_divide\n",
      "  distance = 1 / np.sqrt(freq_upper_triangle)\n",
      "C:\\Users\\mahsh\\AppData\\Local\\Temp\\ipykernel_19644\\1022061950.py:45: FutureWarning: The frame.append method is deprecated and will be removed from pandas in a future version. Use pandas.concat instead.\n",
      "  winners = winners.append({'filename': filename, 'diff': diff, \"interval gamma\": gamma, \"#candidates\": len(candidates), 'IRV1': irv1, 'Condorcet1': condorcet1,\n"
     ]
    },
    {
     "name": "stdout",
     "output_type": "stream",
     "text": [
      "355   SanFrancisco_11042008_BoardofSupervisorsDistrict11.csv\n"
     ]
    },
    {
     "name": "stderr",
     "output_type": "stream",
     "text": [
      "c:\\Users\\mahsh\\Documents\\GitHub\\bugs-in-democracy\\EIL summer 2023\\rcv_dimensionality.py:159: RuntimeWarning: divide by zero encountered in true_divide\n",
      "  frequencies = counts / mentioned_together\n",
      "c:\\Users\\mahsh\\Documents\\GitHub\\bugs-in-democracy\\EIL summer 2023\\rcv_dimensionality.py:159: RuntimeWarning: invalid value encountered in true_divide\n",
      "  frequencies = counts / mentioned_together\n",
      "c:\\Users\\mahsh\\Documents\\GitHub\\bugs-in-democracy\\EIL summer 2023\\rcv_dimensionality.py:170: RuntimeWarning: divide by zero encountered in true_divide\n",
      "  distance = 1 / np.sqrt(freq_upper_triangle)\n",
      "C:\\Users\\mahsh\\AppData\\Local\\Temp\\ipykernel_19644\\1022061950.py:45: FutureWarning: The frame.append method is deprecated and will be removed from pandas in a future version. Use pandas.concat instead.\n",
      "  winners = winners.append({'filename': filename, 'diff': diff, \"interval gamma\": gamma, \"#candidates\": len(candidates), 'IRV1': irv1, 'Condorcet1': condorcet1,\n"
     ]
    },
    {
     "name": "stdout",
     "output_type": "stream",
     "text": [
      "356   SanFrancisco_11042008_BoardofSupervisorsDistrict3.csv\n"
     ]
    },
    {
     "name": "stderr",
     "output_type": "stream",
     "text": [
      "c:\\Users\\mahsh\\Documents\\GitHub\\bugs-in-democracy\\EIL summer 2023\\rcv_dimensionality.py:170: RuntimeWarning: divide by zero encountered in true_divide\n",
      "  distance = 1 / np.sqrt(freq_upper_triangle)\n",
      "C:\\Users\\mahsh\\AppData\\Local\\Temp\\ipykernel_19644\\1022061950.py:45: FutureWarning: The frame.append method is deprecated and will be removed from pandas in a future version. Use pandas.concat instead.\n",
      "  winners = winners.append({'filename': filename, 'diff': diff, \"interval gamma\": gamma, \"#candidates\": len(candidates), 'IRV1': irv1, 'Condorcet1': condorcet1,\n"
     ]
    },
    {
     "name": "stdout",
     "output_type": "stream",
     "text": [
      "357   SanFrancisco_11042008_BoardofSupervisorsDistrict4.csv\n"
     ]
    },
    {
     "name": "stderr",
     "output_type": "stream",
     "text": [
      "c:\\Users\\mahsh\\Documents\\GitHub\\bugs-in-democracy\\EIL summer 2023\\rcv_dimensionality.py:170: RuntimeWarning: divide by zero encountered in true_divide\n",
      "  distance = 1 / np.sqrt(freq_upper_triangle)\n",
      "C:\\Users\\mahsh\\AppData\\Local\\Temp\\ipykernel_19644\\1022061950.py:45: FutureWarning: The frame.append method is deprecated and will be removed from pandas in a future version. Use pandas.concat instead.\n",
      "  winners = winners.append({'filename': filename, 'diff': diff, \"interval gamma\": gamma, \"#candidates\": len(candidates), 'IRV1': irv1, 'Condorcet1': condorcet1,\n"
     ]
    },
    {
     "name": "stdout",
     "output_type": "stream",
     "text": [
      "358   SanFrancisco_11042008_BoardofSupervisorsDistrict5.csv\n"
     ]
    },
    {
     "name": "stderr",
     "output_type": "stream",
     "text": [
      "c:\\Users\\mahsh\\Documents\\GitHub\\bugs-in-democracy\\EIL summer 2023\\rcv_dimensionality.py:170: RuntimeWarning: divide by zero encountered in true_divide\n",
      "  distance = 1 / np.sqrt(freq_upper_triangle)\n",
      "C:\\Users\\mahsh\\AppData\\Local\\Temp\\ipykernel_19644\\1022061950.py:45: FutureWarning: The frame.append method is deprecated and will be removed from pandas in a future version. Use pandas.concat instead.\n",
      "  winners = winners.append({'filename': filename, 'diff': diff, \"interval gamma\": gamma, \"#candidates\": len(candidates), 'IRV1': irv1, 'Condorcet1': condorcet1,\n"
     ]
    },
    {
     "name": "stdout",
     "output_type": "stream",
     "text": [
      "359   SanFrancisco_11042008_BoardofSupervisorsDistrict7.csv\n"
     ]
    },
    {
     "name": "stderr",
     "output_type": "stream",
     "text": [
      "c:\\Users\\mahsh\\Documents\\GitHub\\bugs-in-democracy\\EIL summer 2023\\rcv_dimensionality.py:170: RuntimeWarning: divide by zero encountered in true_divide\n",
      "  distance = 1 / np.sqrt(freq_upper_triangle)\n",
      "C:\\Users\\mahsh\\AppData\\Local\\Temp\\ipykernel_19644\\1022061950.py:45: FutureWarning: The frame.append method is deprecated and will be removed from pandas in a future version. Use pandas.concat instead.\n",
      "  winners = winners.append({'filename': filename, 'diff': diff, \"interval gamma\": gamma, \"#candidates\": len(candidates), 'IRV1': irv1, 'Condorcet1': condorcet1,\n"
     ]
    },
    {
     "name": "stdout",
     "output_type": "stream",
     "text": [
      "360   SanFrancisco_11042008_BoardofSupervisorsDistrict9.csv\n"
     ]
    },
    {
     "name": "stderr",
     "output_type": "stream",
     "text": [
      "c:\\Users\\mahsh\\Documents\\GitHub\\bugs-in-democracy\\EIL summer 2023\\rcv_dimensionality.py:170: RuntimeWarning: divide by zero encountered in true_divide\n",
      "  distance = 1 / np.sqrt(freq_upper_triangle)\n",
      "C:\\Users\\mahsh\\AppData\\Local\\Temp\\ipykernel_19644\\1022061950.py:45: FutureWarning: The frame.append method is deprecated and will be removed from pandas in a future version. Use pandas.concat instead.\n",
      "  winners = winners.append({'filename': filename, 'diff': diff, \"interval gamma\": gamma, \"#candidates\": len(candidates), 'IRV1': irv1, 'Condorcet1': condorcet1,\n"
     ]
    },
    {
     "name": "stdout",
     "output_type": "stream",
     "text": [
      "361   SanFrancisco_11042014_BoardofSupervisorsDistrict10.csv\n"
     ]
    },
    {
     "name": "stderr",
     "output_type": "stream",
     "text": [
      "c:\\Users\\mahsh\\Documents\\GitHub\\bugs-in-democracy\\EIL summer 2023\\rcv_dimensionality.py:170: RuntimeWarning: divide by zero encountered in true_divide\n",
      "  distance = 1 / np.sqrt(freq_upper_triangle)\n",
      "C:\\Users\\mahsh\\AppData\\Local\\Temp\\ipykernel_19644\\1022061950.py:45: FutureWarning: The frame.append method is deprecated and will be removed from pandas in a future version. Use pandas.concat instead.\n",
      "  winners = winners.append({'filename': filename, 'diff': diff, \"interval gamma\": gamma, \"#candidates\": len(candidates), 'IRV1': irv1, 'Condorcet1': condorcet1,\n"
     ]
    },
    {
     "name": "stdout",
     "output_type": "stream",
     "text": [
      "362   SanFrancisco_11052004_BoardofSupervisorsDistrict1.csv\n"
     ]
    },
    {
     "name": "stderr",
     "output_type": "stream",
     "text": [
      "c:\\Users\\mahsh\\Documents\\GitHub\\bugs-in-democracy\\EIL summer 2023\\rcv_dimensionality.py:170: RuntimeWarning: divide by zero encountered in true_divide\n",
      "  distance = 1 / np.sqrt(freq_upper_triangle)\n",
      "C:\\Users\\mahsh\\AppData\\Local\\Temp\\ipykernel_19644\\1022061950.py:45: FutureWarning: The frame.append method is deprecated and will be removed from pandas in a future version. Use pandas.concat instead.\n",
      "  winners = winners.append({'filename': filename, 'diff': diff, \"interval gamma\": gamma, \"#candidates\": len(candidates), 'IRV1': irv1, 'Condorcet1': condorcet1,\n"
     ]
    },
    {
     "name": "stdout",
     "output_type": "stream",
     "text": [
      "363   SanFrancisco_11052019_CityAttorney.csv\n",
      "SanFrancisco_11052019_CityAttorney.csv  threw an exception\n",
      "364   SanFrancisco_11052019_DistrictAttorney.csv\n"
     ]
    },
    {
     "name": "stderr",
     "output_type": "stream",
     "text": [
      "c:\\Users\\mahsh\\Documents\\GitHub\\bugs-in-democracy\\EIL summer 2023\\rcv_dimensionality.py:170: RuntimeWarning: divide by zero encountered in true_divide\n",
      "  distance = 1 / np.sqrt(freq_upper_triangle)\n",
      "C:\\Users\\mahsh\\AppData\\Local\\Temp\\ipykernel_19644\\1022061950.py:45: FutureWarning: The frame.append method is deprecated and will be removed from pandas in a future version. Use pandas.concat instead.\n",
      "  winners = winners.append({'filename': filename, 'diff': diff, \"interval gamma\": gamma, \"#candidates\": len(candidates), 'IRV1': irv1, 'Condorcet1': condorcet1,\n"
     ]
    },
    {
     "name": "stdout",
     "output_type": "stream",
     "text": [
      "365   SanFrancisco_11052019_Mayor.csv\n"
     ]
    },
    {
     "name": "stderr",
     "output_type": "stream",
     "text": [
      "c:\\Users\\mahsh\\Documents\\GitHub\\bugs-in-democracy\\EIL summer 2023\\rcv_dimensionality.py:170: RuntimeWarning: divide by zero encountered in true_divide\n",
      "  distance = 1 / np.sqrt(freq_upper_triangle)\n",
      "C:\\Users\\mahsh\\AppData\\Local\\Temp\\ipykernel_19644\\1022061950.py:45: FutureWarning: The frame.append method is deprecated and will be removed from pandas in a future version. Use pandas.concat instead.\n",
      "  winners = winners.append({'filename': filename, 'diff': diff, \"interval gamma\": gamma, \"#candidates\": len(candidates), 'IRV1': irv1, 'Condorcet1': condorcet1,\n"
     ]
    },
    {
     "name": "stdout",
     "output_type": "stream",
     "text": [
      "366   SanFrancisco_11052019_MemberBoardofSupervisorsDistrict5.csv\n"
     ]
    },
    {
     "name": "stderr",
     "output_type": "stream",
     "text": [
      "c:\\Users\\mahsh\\Documents\\GitHub\\bugs-in-democracy\\EIL summer 2023\\rcv_dimensionality.py:170: RuntimeWarning: divide by zero encountered in true_divide\n",
      "  distance = 1 / np.sqrt(freq_upper_triangle)\n",
      "C:\\Users\\mahsh\\AppData\\Local\\Temp\\ipykernel_19644\\1022061950.py:45: FutureWarning: The frame.append method is deprecated and will be removed from pandas in a future version. Use pandas.concat instead.\n",
      "  winners = winners.append({'filename': filename, 'diff': diff, \"interval gamma\": gamma, \"#candidates\": len(candidates), 'IRV1': irv1, 'Condorcet1': condorcet1,\n"
     ]
    },
    {
     "name": "stdout",
     "output_type": "stream",
     "text": [
      "367   SanFrancisco_11052019_PublicDefender.csv\n",
      "SanFrancisco_11052019_PublicDefender.csv  threw an exception\n",
      "368   SanFrancisco_11052019_Sheriff.csv\n",
      "SanFrancisco_11052019_Sheriff.csv  threw an exception\n",
      "369   SanFrancisco_11052019_Treasurer.csv\n",
      "SanFrancisco_11052019_Treasurer.csv  threw an exception\n",
      "370   SanFrancisco_11062007_Mayor.csv\n"
     ]
    },
    {
     "name": "stderr",
     "output_type": "stream",
     "text": [
      "c:\\Users\\mahsh\\Documents\\GitHub\\bugs-in-democracy\\EIL summer 2023\\rcv_dimensionality.py:170: RuntimeWarning: divide by zero encountered in true_divide\n",
      "  distance = 1 / np.sqrt(freq_upper_triangle)\n",
      "C:\\Users\\mahsh\\AppData\\Local\\Temp\\ipykernel_19644\\1022061950.py:45: FutureWarning: The frame.append method is deprecated and will be removed from pandas in a future version. Use pandas.concat instead.\n",
      "  winners = winners.append({'filename': filename, 'diff': diff, \"interval gamma\": gamma, \"#candidates\": len(candidates), 'IRV1': irv1, 'Condorcet1': condorcet1,\n"
     ]
    },
    {
     "name": "stdout",
     "output_type": "stream",
     "text": [
      "371   SanFrancisco_11062012_BoardofSupervisorsDistrict5.csv\n"
     ]
    },
    {
     "name": "stderr",
     "output_type": "stream",
     "text": [
      "c:\\Users\\mahsh\\Documents\\GitHub\\bugs-in-democracy\\EIL summer 2023\\rcv_dimensionality.py:170: RuntimeWarning: divide by zero encountered in true_divide\n",
      "  distance = 1 / np.sqrt(freq_upper_triangle)\n",
      "C:\\Users\\mahsh\\AppData\\Local\\Temp\\ipykernel_19644\\1022061950.py:45: FutureWarning: The frame.append method is deprecated and will be removed from pandas in a future version. Use pandas.concat instead.\n",
      "  winners = winners.append({'filename': filename, 'diff': diff, \"interval gamma\": gamma, \"#candidates\": len(candidates), 'IRV1': irv1, 'Condorcet1': condorcet1,\n"
     ]
    },
    {
     "name": "stdout",
     "output_type": "stream",
     "text": [
      "372   SanFrancisco_11062012_BoardofSupervisorsDistrict7.csv\n"
     ]
    },
    {
     "name": "stderr",
     "output_type": "stream",
     "text": [
      "c:\\Users\\mahsh\\Documents\\GitHub\\bugs-in-democracy\\EIL summer 2023\\rcv_dimensionality.py:170: RuntimeWarning: divide by zero encountered in true_divide\n",
      "  distance = 1 / np.sqrt(freq_upper_triangle)\n",
      "C:\\Users\\mahsh\\AppData\\Local\\Temp\\ipykernel_19644\\1022061950.py:45: FutureWarning: The frame.append method is deprecated and will be removed from pandas in a future version. Use pandas.concat instead.\n",
      "  winners = winners.append({'filename': filename, 'diff': diff, \"interval gamma\": gamma, \"#candidates\": len(candidates), 'IRV1': irv1, 'Condorcet1': condorcet1,\n"
     ]
    },
    {
     "name": "stdout",
     "output_type": "stream",
     "text": [
      "373   SanFrancisco_11062018_AssessorRecorder.csv\n"
     ]
    },
    {
     "name": "stderr",
     "output_type": "stream",
     "text": [
      "c:\\Users\\mahsh\\Documents\\GitHub\\bugs-in-democracy\\EIL summer 2023\\rcv_dimensionality.py:170: RuntimeWarning: divide by zero encountered in true_divide\n",
      "  distance = 1 / np.sqrt(freq_upper_triangle)\n",
      "C:\\Users\\mahsh\\AppData\\Local\\Temp\\ipykernel_19644\\1022061950.py:45: FutureWarning: The frame.append method is deprecated and will be removed from pandas in a future version. Use pandas.concat instead.\n",
      "  winners = winners.append({'filename': filename, 'diff': diff, \"interval gamma\": gamma, \"#candidates\": len(candidates), 'IRV1': irv1, 'Condorcet1': condorcet1,\n"
     ]
    },
    {
     "name": "stdout",
     "output_type": "stream",
     "text": [
      "374   SanFrancisco_11062018_BoardofSupervisorsDistrict10.csv\n"
     ]
    },
    {
     "name": "stderr",
     "output_type": "stream",
     "text": [
      "c:\\Users\\mahsh\\Documents\\GitHub\\bugs-in-democracy\\EIL summer 2023\\rcv_dimensionality.py:170: RuntimeWarning: divide by zero encountered in true_divide\n",
      "  distance = 1 / np.sqrt(freq_upper_triangle)\n",
      "C:\\Users\\mahsh\\AppData\\Local\\Temp\\ipykernel_19644\\1022061950.py:45: FutureWarning: The frame.append method is deprecated and will be removed from pandas in a future version. Use pandas.concat instead.\n",
      "  winners = winners.append({'filename': filename, 'diff': diff, \"interval gamma\": gamma, \"#candidates\": len(candidates), 'IRV1': irv1, 'Condorcet1': condorcet1,\n"
     ]
    },
    {
     "name": "stdout",
     "output_type": "stream",
     "text": [
      "375   SanFrancisco_11062018_BoardofSupervisorsDistrict2.csv\n"
     ]
    },
    {
     "name": "stderr",
     "output_type": "stream",
     "text": [
      "c:\\Users\\mahsh\\Documents\\GitHub\\bugs-in-democracy\\EIL summer 2023\\rcv_dimensionality.py:170: RuntimeWarning: divide by zero encountered in true_divide\n",
      "  distance = 1 / np.sqrt(freq_upper_triangle)\n",
      "C:\\Users\\mahsh\\AppData\\Local\\Temp\\ipykernel_19644\\1022061950.py:45: FutureWarning: The frame.append method is deprecated and will be removed from pandas in a future version. Use pandas.concat instead.\n",
      "  winners = winners.append({'filename': filename, 'diff': diff, \"interval gamma\": gamma, \"#candidates\": len(candidates), 'IRV1': irv1, 'Condorcet1': condorcet1,\n"
     ]
    },
    {
     "name": "stdout",
     "output_type": "stream",
     "text": [
      "376   SanFrancisco_11062018_BoardofSupervisorsDistrict4.csv\n"
     ]
    },
    {
     "name": "stderr",
     "output_type": "stream",
     "text": [
      "c:\\Users\\mahsh\\Documents\\GitHub\\bugs-in-democracy\\EIL summer 2023\\rcv_dimensionality.py:170: RuntimeWarning: divide by zero encountered in true_divide\n",
      "  distance = 1 / np.sqrt(freq_upper_triangle)\n",
      "C:\\Users\\mahsh\\AppData\\Local\\Temp\\ipykernel_19644\\1022061950.py:45: FutureWarning: The frame.append method is deprecated and will be removed from pandas in a future version. Use pandas.concat instead.\n",
      "  winners = winners.append({'filename': filename, 'diff': diff, \"interval gamma\": gamma, \"#candidates\": len(candidates), 'IRV1': irv1, 'Condorcet1': condorcet1,\n"
     ]
    },
    {
     "name": "stdout",
     "output_type": "stream",
     "text": [
      "377   SanFrancisco_11062018_BoardofSupervisorsDistrict6.csv\n"
     ]
    },
    {
     "name": "stderr",
     "output_type": "stream",
     "text": [
      "c:\\Users\\mahsh\\Documents\\GitHub\\bugs-in-democracy\\EIL summer 2023\\rcv_dimensionality.py:170: RuntimeWarning: divide by zero encountered in true_divide\n",
      "  distance = 1 / np.sqrt(freq_upper_triangle)\n",
      "C:\\Users\\mahsh\\AppData\\Local\\Temp\\ipykernel_19644\\1022061950.py:45: FutureWarning: The frame.append method is deprecated and will be removed from pandas in a future version. Use pandas.concat instead.\n",
      "  winners = winners.append({'filename': filename, 'diff': diff, \"interval gamma\": gamma, \"#candidates\": len(candidates), 'IRV1': irv1, 'Condorcet1': condorcet1,\n"
     ]
    },
    {
     "name": "stdout",
     "output_type": "stream",
     "text": [
      "378   SanFrancisco_11062018_BoardofSupervisorsDistrict8.csv\n"
     ]
    },
    {
     "name": "stderr",
     "output_type": "stream",
     "text": [
      "c:\\Users\\mahsh\\Documents\\GitHub\\bugs-in-democracy\\EIL summer 2023\\rcv_dimensionality.py:170: RuntimeWarning: divide by zero encountered in true_divide\n",
      "  distance = 1 / np.sqrt(freq_upper_triangle)\n",
      "C:\\Users\\mahsh\\AppData\\Local\\Temp\\ipykernel_19644\\1022061950.py:45: FutureWarning: The frame.append method is deprecated and will be removed from pandas in a future version. Use pandas.concat instead.\n",
      "  winners = winners.append({'filename': filename, 'diff': diff, \"interval gamma\": gamma, \"#candidates\": len(candidates), 'IRV1': irv1, 'Condorcet1': condorcet1,\n"
     ]
    },
    {
     "name": "stdout",
     "output_type": "stream",
     "text": [
      "379   SanFrancisco_11062018_PublicDefender.csv\n",
      "SanFrancisco_11062018_PublicDefender.csv  threw an exception\n",
      "380   SanFrancisco_11072006_BoardofSupervisorsDistrict10.csv\n"
     ]
    },
    {
     "name": "stderr",
     "output_type": "stream",
     "text": [
      "c:\\Users\\mahsh\\Documents\\GitHub\\bugs-in-democracy\\EIL summer 2023\\rcv_dimensionality.py:170: RuntimeWarning: divide by zero encountered in true_divide\n",
      "  distance = 1 / np.sqrt(freq_upper_triangle)\n",
      "C:\\Users\\mahsh\\AppData\\Local\\Temp\\ipykernel_19644\\1022061950.py:45: FutureWarning: The frame.append method is deprecated and will be removed from pandas in a future version. Use pandas.concat instead.\n",
      "  winners = winners.append({'filename': filename, 'diff': diff, \"interval gamma\": gamma, \"#candidates\": len(candidates), 'IRV1': irv1, 'Condorcet1': condorcet1,\n"
     ]
    },
    {
     "name": "stdout",
     "output_type": "stream",
     "text": [
      "381   SanFrancisco_11072006_BoardofSupervisorsDistrict2.csv\n"
     ]
    },
    {
     "name": "stderr",
     "output_type": "stream",
     "text": [
      "c:\\Users\\mahsh\\Documents\\GitHub\\bugs-in-democracy\\EIL summer 2023\\rcv_dimensionality.py:170: RuntimeWarning: divide by zero encountered in true_divide\n",
      "  distance = 1 / np.sqrt(freq_upper_triangle)\n",
      "C:\\Users\\mahsh\\AppData\\Local\\Temp\\ipykernel_19644\\1022061950.py:45: FutureWarning: The frame.append method is deprecated and will be removed from pandas in a future version. Use pandas.concat instead.\n",
      "  winners = winners.append({'filename': filename, 'diff': diff, \"interval gamma\": gamma, \"#candidates\": len(candidates), 'IRV1': irv1, 'Condorcet1': condorcet1,\n"
     ]
    },
    {
     "name": "stdout",
     "output_type": "stream",
     "text": [
      "382   SanFrancisco_11072006_BoardofSupervisorsDistrict4.csv\n"
     ]
    },
    {
     "name": "stderr",
     "output_type": "stream",
     "text": [
      "c:\\Users\\mahsh\\Documents\\GitHub\\bugs-in-democracy\\EIL summer 2023\\rcv_dimensionality.py:170: RuntimeWarning: divide by zero encountered in true_divide\n",
      "  distance = 1 / np.sqrt(freq_upper_triangle)\n",
      "C:\\Users\\mahsh\\AppData\\Local\\Temp\\ipykernel_19644\\1022061950.py:45: FutureWarning: The frame.append method is deprecated and will be removed from pandas in a future version. Use pandas.concat instead.\n",
      "  winners = winners.append({'filename': filename, 'diff': diff, \"interval gamma\": gamma, \"#candidates\": len(candidates), 'IRV1': irv1, 'Condorcet1': condorcet1,\n"
     ]
    },
    {
     "name": "stdout",
     "output_type": "stream",
     "text": [
      "383   SanFrancisco_11072006_BoardofSupervisorsDistrict6.csv\n"
     ]
    },
    {
     "name": "stderr",
     "output_type": "stream",
     "text": [
      "c:\\Users\\mahsh\\Documents\\GitHub\\bugs-in-democracy\\EIL summer 2023\\rcv_dimensionality.py:170: RuntimeWarning: divide by zero encountered in true_divide\n",
      "  distance = 1 / np.sqrt(freq_upper_triangle)\n",
      "C:\\Users\\mahsh\\AppData\\Local\\Temp\\ipykernel_19644\\1022061950.py:45: FutureWarning: The frame.append method is deprecated and will be removed from pandas in a future version. Use pandas.concat instead.\n",
      "  winners = winners.append({'filename': filename, 'diff': diff, \"interval gamma\": gamma, \"#candidates\": len(candidates), 'IRV1': irv1, 'Condorcet1': condorcet1,\n"
     ]
    },
    {
     "name": "stdout",
     "output_type": "stream",
     "text": [
      "384   SanFrancisco_11072006_BoardofSupervisorsDistrict8.csv\n"
     ]
    },
    {
     "name": "stderr",
     "output_type": "stream",
     "text": [
      "c:\\Users\\mahsh\\Documents\\GitHub\\bugs-in-democracy\\EIL summer 2023\\rcv_dimensionality.py:170: RuntimeWarning: divide by zero encountered in true_divide\n",
      "  distance = 1 / np.sqrt(freq_upper_triangle)\n",
      "C:\\Users\\mahsh\\AppData\\Local\\Temp\\ipykernel_19644\\1022061950.py:45: FutureWarning: The frame.append method is deprecated and will be removed from pandas in a future version. Use pandas.concat instead.\n",
      "  winners = winners.append({'filename': filename, 'diff': diff, \"interval gamma\": gamma, \"#candidates\": len(candidates), 'IRV1': irv1, 'Condorcet1': condorcet1,\n"
     ]
    },
    {
     "name": "stdout",
     "output_type": "stream",
     "text": [
      "385   SanFrancisco_11082005_AssessorRecorder.csv\n"
     ]
    },
    {
     "name": "stderr",
     "output_type": "stream",
     "text": [
      "c:\\Users\\mahsh\\Documents\\GitHub\\bugs-in-democracy\\EIL summer 2023\\rcv_dimensionality.py:170: RuntimeWarning: divide by zero encountered in true_divide\n",
      "  distance = 1 / np.sqrt(freq_upper_triangle)\n",
      "C:\\Users\\mahsh\\AppData\\Local\\Temp\\ipykernel_19644\\1022061950.py:45: FutureWarning: The frame.append method is deprecated and will be removed from pandas in a future version. Use pandas.concat instead.\n",
      "  winners = winners.append({'filename': filename, 'diff': diff, \"interval gamma\": gamma, \"#candidates\": len(candidates), 'IRV1': irv1, 'Condorcet1': condorcet1,\n"
     ]
    },
    {
     "name": "stdout",
     "output_type": "stream",
     "text": [
      "386   SanFrancisco_11082005_Treasurer.csv\n"
     ]
    },
    {
     "name": "stderr",
     "output_type": "stream",
     "text": [
      "c:\\Users\\mahsh\\Documents\\GitHub\\bugs-in-democracy\\EIL summer 2023\\rcv_dimensionality.py:170: RuntimeWarning: divide by zero encountered in true_divide\n",
      "  distance = 1 / np.sqrt(freq_upper_triangle)\n",
      "C:\\Users\\mahsh\\AppData\\Local\\Temp\\ipykernel_19644\\1022061950.py:45: FutureWarning: The frame.append method is deprecated and will be removed from pandas in a future version. Use pandas.concat instead.\n",
      "  winners = winners.append({'filename': filename, 'diff': diff, \"interval gamma\": gamma, \"#candidates\": len(candidates), 'IRV1': irv1, 'Condorcet1': condorcet1,\n"
     ]
    },
    {
     "name": "stdout",
     "output_type": "stream",
     "text": [
      "387   SanFrancisco_11082011_DistrictAttorney.csv\n"
     ]
    },
    {
     "name": "stderr",
     "output_type": "stream",
     "text": [
      "c:\\Users\\mahsh\\Documents\\GitHub\\bugs-in-democracy\\EIL summer 2023\\rcv_dimensionality.py:170: RuntimeWarning: divide by zero encountered in true_divide\n",
      "  distance = 1 / np.sqrt(freq_upper_triangle)\n",
      "C:\\Users\\mahsh\\AppData\\Local\\Temp\\ipykernel_19644\\1022061950.py:45: FutureWarning: The frame.append method is deprecated and will be removed from pandas in a future version. Use pandas.concat instead.\n",
      "  winners = winners.append({'filename': filename, 'diff': diff, \"interval gamma\": gamma, \"#candidates\": len(candidates), 'IRV1': irv1, 'Condorcet1': condorcet1,\n"
     ]
    },
    {
     "name": "stdout",
     "output_type": "stream",
     "text": [
      "388   SanFrancisco_11082011_Mayor.csv\n"
     ]
    },
    {
     "name": "stderr",
     "output_type": "stream",
     "text": [
      "c:\\Users\\mahsh\\Documents\\GitHub\\bugs-in-democracy\\EIL summer 2023\\rcv_dimensionality.py:170: RuntimeWarning: divide by zero encountered in true_divide\n",
      "  distance = 1 / np.sqrt(freq_upper_triangle)\n",
      "C:\\Users\\mahsh\\AppData\\Local\\Temp\\ipykernel_19644\\1022061950.py:45: FutureWarning: The frame.append method is deprecated and will be removed from pandas in a future version. Use pandas.concat instead.\n",
      "  winners = winners.append({'filename': filename, 'diff': diff, \"interval gamma\": gamma, \"#candidates\": len(candidates), 'IRV1': irv1, 'Condorcet1': condorcet1,\n"
     ]
    },
    {
     "name": "stdout",
     "output_type": "stream",
     "text": [
      "389   SanFrancisco_11082011_Sheriff.csv\n"
     ]
    },
    {
     "name": "stderr",
     "output_type": "stream",
     "text": [
      "c:\\Users\\mahsh\\Documents\\GitHub\\bugs-in-democracy\\EIL summer 2023\\rcv_dimensionality.py:170: RuntimeWarning: divide by zero encountered in true_divide\n",
      "  distance = 1 / np.sqrt(freq_upper_triangle)\n",
      "C:\\Users\\mahsh\\AppData\\Local\\Temp\\ipykernel_19644\\1022061950.py:45: FutureWarning: The frame.append method is deprecated and will be removed from pandas in a future version. Use pandas.concat instead.\n",
      "  winners = winners.append({'filename': filename, 'diff': diff, \"interval gamma\": gamma, \"#candidates\": len(candidates), 'IRV1': irv1, 'Condorcet1': condorcet1,\n"
     ]
    },
    {
     "name": "stdout",
     "output_type": "stream",
     "text": [
      "390   SanFrancisco_11082016_BoardofSupervisorsDistrict1.csv\n"
     ]
    },
    {
     "name": "stderr",
     "output_type": "stream",
     "text": [
      "c:\\Users\\mahsh\\Documents\\GitHub\\bugs-in-democracy\\EIL summer 2023\\rcv_dimensionality.py:170: RuntimeWarning: divide by zero encountered in true_divide\n",
      "  distance = 1 / np.sqrt(freq_upper_triangle)\n",
      "C:\\Users\\mahsh\\AppData\\Local\\Temp\\ipykernel_19644\\1022061950.py:45: FutureWarning: The frame.append method is deprecated and will be removed from pandas in a future version. Use pandas.concat instead.\n",
      "  winners = winners.append({'filename': filename, 'diff': diff, \"interval gamma\": gamma, \"#candidates\": len(candidates), 'IRV1': irv1, 'Condorcet1': condorcet1,\n"
     ]
    },
    {
     "name": "stdout",
     "output_type": "stream",
     "text": [
      "391   SanFrancisco_11082016_BoardofSupervisorsDistrict11.csv\n"
     ]
    },
    {
     "name": "stderr",
     "output_type": "stream",
     "text": [
      "c:\\Users\\mahsh\\Documents\\GitHub\\bugs-in-democracy\\EIL summer 2023\\rcv_dimensionality.py:170: RuntimeWarning: divide by zero encountered in true_divide\n",
      "  distance = 1 / np.sqrt(freq_upper_triangle)\n",
      "C:\\Users\\mahsh\\AppData\\Local\\Temp\\ipykernel_19644\\1022061950.py:45: FutureWarning: The frame.append method is deprecated and will be removed from pandas in a future version. Use pandas.concat instead.\n",
      "  winners = winners.append({'filename': filename, 'diff': diff, \"interval gamma\": gamma, \"#candidates\": len(candidates), 'IRV1': irv1, 'Condorcet1': condorcet1,\n"
     ]
    },
    {
     "name": "stdout",
     "output_type": "stream",
     "text": [
      "392   SanFrancisco_11082016_BoardofSupervisorsDistrict3.csv\n"
     ]
    },
    {
     "name": "stderr",
     "output_type": "stream",
     "text": [
      "c:\\Users\\mahsh\\Documents\\GitHub\\bugs-in-democracy\\EIL summer 2023\\rcv_dimensionality.py:170: RuntimeWarning: divide by zero encountered in true_divide\n",
      "  distance = 1 / np.sqrt(freq_upper_triangle)\n",
      "C:\\Users\\mahsh\\AppData\\Local\\Temp\\ipykernel_19644\\1022061950.py:45: FutureWarning: The frame.append method is deprecated and will be removed from pandas in a future version. Use pandas.concat instead.\n",
      "  winners = winners.append({'filename': filename, 'diff': diff, \"interval gamma\": gamma, \"#candidates\": len(candidates), 'IRV1': irv1, 'Condorcet1': condorcet1,\n"
     ]
    },
    {
     "name": "stdout",
     "output_type": "stream",
     "text": [
      "393   SanFrancisco_11082016_BoardofSupervisorsDistrict5.csv\n"
     ]
    },
    {
     "name": "stderr",
     "output_type": "stream",
     "text": [
      "c:\\Users\\mahsh\\Documents\\GitHub\\bugs-in-democracy\\EIL summer 2023\\rcv_dimensionality.py:170: RuntimeWarning: divide by zero encountered in true_divide\n",
      "  distance = 1 / np.sqrt(freq_upper_triangle)\n",
      "C:\\Users\\mahsh\\AppData\\Local\\Temp\\ipykernel_19644\\1022061950.py:45: FutureWarning: The frame.append method is deprecated and will be removed from pandas in a future version. Use pandas.concat instead.\n",
      "  winners = winners.append({'filename': filename, 'diff': diff, \"interval gamma\": gamma, \"#candidates\": len(candidates), 'IRV1': irv1, 'Condorcet1': condorcet1,\n"
     ]
    },
    {
     "name": "stdout",
     "output_type": "stream",
     "text": [
      "394   SanFrancisco_11082016_BoardofSupervisorsDistrict7.csv\n"
     ]
    },
    {
     "name": "stderr",
     "output_type": "stream",
     "text": [
      "c:\\Users\\mahsh\\Documents\\GitHub\\bugs-in-democracy\\EIL summer 2023\\rcv_dimensionality.py:170: RuntimeWarning: divide by zero encountered in true_divide\n",
      "  distance = 1 / np.sqrt(freq_upper_triangle)\n",
      "C:\\Users\\mahsh\\AppData\\Local\\Temp\\ipykernel_19644\\1022061950.py:45: FutureWarning: The frame.append method is deprecated and will be removed from pandas in a future version. Use pandas.concat instead.\n",
      "  winners = winners.append({'filename': filename, 'diff': diff, \"interval gamma\": gamma, \"#candidates\": len(candidates), 'IRV1': irv1, 'Condorcet1': condorcet1,\n"
     ]
    },
    {
     "name": "stdout",
     "output_type": "stream",
     "text": [
      "395   SanFrancisco_11082016_BoardofSupervisorsDistrict9.csv\n"
     ]
    },
    {
     "name": "stderr",
     "output_type": "stream",
     "text": [
      "c:\\Users\\mahsh\\Documents\\GitHub\\bugs-in-democracy\\EIL summer 2023\\rcv_dimensionality.py:170: RuntimeWarning: divide by zero encountered in true_divide\n",
      "  distance = 1 / np.sqrt(freq_upper_triangle)\n",
      "C:\\Users\\mahsh\\AppData\\Local\\Temp\\ipykernel_19644\\1022061950.py:45: FutureWarning: The frame.append method is deprecated and will be removed from pandas in a future version. Use pandas.concat instead.\n",
      "  winners = winners.append({'filename': filename, 'diff': diff, \"interval gamma\": gamma, \"#candidates\": len(candidates), 'IRV1': irv1, 'Condorcet1': condorcet1,\n"
     ]
    },
    {
     "name": "stdout",
     "output_type": "stream",
     "text": [
      "396   SanFrancisco_11082022_AssessorRecorder.csv\n",
      "SanFrancisco_11082022_AssessorRecorder.csv  threw an exception\n",
      "397   SanFrancisco_11082022_BoardofSupervisorsD10.csv\n"
     ]
    },
    {
     "name": "stderr",
     "output_type": "stream",
     "text": [
      "c:\\Users\\mahsh\\Documents\\GitHub\\bugs-in-democracy\\EIL summer 2023\\rcv_dimensionality.py:170: RuntimeWarning: divide by zero encountered in true_divide\n",
      "  distance = 1 / np.sqrt(freq_upper_triangle)\n",
      "C:\\Users\\mahsh\\AppData\\Local\\Temp\\ipykernel_19644\\1022061950.py:45: FutureWarning: The frame.append method is deprecated and will be removed from pandas in a future version. Use pandas.concat instead.\n",
      "  winners = winners.append({'filename': filename, 'diff': diff, \"interval gamma\": gamma, \"#candidates\": len(candidates), 'IRV1': irv1, 'Condorcet1': condorcet1,\n"
     ]
    },
    {
     "name": "stdout",
     "output_type": "stream",
     "text": [
      "398   SanFrancisco_11082022_BoardofSupervisorsD2.csv\n",
      "SanFrancisco_11082022_BoardofSupervisorsD2.csv  threw an exception\n",
      "399   SanFrancisco_11082022_BoardofSupervisorsD4.csv\n"
     ]
    },
    {
     "name": "stderr",
     "output_type": "stream",
     "text": [
      "c:\\Users\\mahsh\\Documents\\GitHub\\bugs-in-democracy\\EIL summer 2023\\rcv_dimensionality.py:170: RuntimeWarning: divide by zero encountered in true_divide\n",
      "  distance = 1 / np.sqrt(freq_upper_triangle)\n",
      "C:\\Users\\mahsh\\AppData\\Local\\Temp\\ipykernel_19644\\1022061950.py:45: FutureWarning: The frame.append method is deprecated and will be removed from pandas in a future version. Use pandas.concat instead.\n",
      "  winners = winners.append({'filename': filename, 'diff': diff, \"interval gamma\": gamma, \"#candidates\": len(candidates), 'IRV1': irv1, 'Condorcet1': condorcet1,\n",
      "c:\\Users\\mahsh\\Documents\\GitHub\\bugs-in-democracy\\EIL summer 2023\\rcv_dimensionality.py:170: RuntimeWarning: divide by zero encountered in true_divide\n",
      "  distance = 1 / np.sqrt(freq_upper_triangle)\n",
      "C:\\Users\\mahsh\\AppData\\Local\\Temp\\ipykernel_19644\\1022061950.py:45: FutureWarning: The frame.append method is deprecated and will be removed from pandas in a future version. Use pandas.concat instead.\n",
      "  winners = winners.append({'filename': filename, 'diff': diff, \"interval gamma\": gamma, \"#candidates\": len(candidates), 'IRV1': irv1, 'Condorcet1': condorcet1,\n"
     ]
    },
    {
     "name": "stdout",
     "output_type": "stream",
     "text": [
      "401   SanFrancisco_11082022_BoardofSupervisorsD8.csv\n"
     ]
    },
    {
     "name": "stderr",
     "output_type": "stream",
     "text": [
      "c:\\Users\\mahsh\\Documents\\GitHub\\bugs-in-democracy\\EIL summer 2023\\rcv_dimensionality.py:170: RuntimeWarning: divide by zero encountered in true_divide\n",
      "  distance = 1 / np.sqrt(freq_upper_triangle)\n",
      "C:\\Users\\mahsh\\AppData\\Local\\Temp\\ipykernel_19644\\1022061950.py:45: FutureWarning: The frame.append method is deprecated and will be removed from pandas in a future version. Use pandas.concat instead.\n",
      "  winners = winners.append({'filename': filename, 'diff': diff, \"interval gamma\": gamma, \"#candidates\": len(candidates), 'IRV1': irv1, 'Condorcet1': condorcet1,\n"
     ]
    },
    {
     "name": "stdout",
     "output_type": "stream",
     "text": [
      "402   SanFrancisco_11082022_DistrictAttorney.csv\n"
     ]
    },
    {
     "name": "stderr",
     "output_type": "stream",
     "text": [
      "c:\\Users\\mahsh\\Documents\\GitHub\\bugs-in-democracy\\EIL summer 2023\\rcv_dimensionality.py:170: RuntimeWarning: divide by zero encountered in true_divide\n",
      "  distance = 1 / np.sqrt(freq_upper_triangle)\n",
      "C:\\Users\\mahsh\\AppData\\Local\\Temp\\ipykernel_19644\\1022061950.py:45: FutureWarning: The frame.append method is deprecated and will be removed from pandas in a future version. Use pandas.concat instead.\n",
      "  winners = winners.append({'filename': filename, 'diff': diff, \"interval gamma\": gamma, \"#candidates\": len(candidates), 'IRV1': irv1, 'Condorcet1': condorcet1,\n"
     ]
    },
    {
     "name": "stdout",
     "output_type": "stream",
     "text": [
      "403   SanFrancisco_11082022_PublicDefender.csv\n"
     ]
    },
    {
     "name": "stderr",
     "output_type": "stream",
     "text": [
      "c:\\Users\\mahsh\\Documents\\GitHub\\bugs-in-democracy\\EIL summer 2023\\rcv_dimensionality.py:170: RuntimeWarning: divide by zero encountered in true_divide\n",
      "  distance = 1 / np.sqrt(freq_upper_triangle)\n",
      "C:\\Users\\mahsh\\AppData\\Local\\Temp\\ipykernel_19644\\1022061950.py:45: FutureWarning: The frame.append method is deprecated and will be removed from pandas in a future version. Use pandas.concat instead.\n",
      "  winners = winners.append({'filename': filename, 'diff': diff, \"interval gamma\": gamma, \"#candidates\": len(candidates), 'IRV1': irv1, 'Condorcet1': condorcet1,\n"
     ]
    },
    {
     "name": "stdout",
     "output_type": "stream",
     "text": [
      "404   SanLeandro_11022010_CountyCouncilDistrict1.csv\n"
     ]
    },
    {
     "name": "stderr",
     "output_type": "stream",
     "text": [
      "c:\\Users\\mahsh\\Documents\\GitHub\\bugs-in-democracy\\EIL summer 2023\\rcv_dimensionality.py:170: RuntimeWarning: divide by zero encountered in true_divide\n",
      "  distance = 1 / np.sqrt(freq_upper_triangle)\n",
      "C:\\Users\\mahsh\\AppData\\Local\\Temp\\ipykernel_19644\\1022061950.py:45: FutureWarning: The frame.append method is deprecated and will be removed from pandas in a future version. Use pandas.concat instead.\n",
      "  winners = winners.append({'filename': filename, 'diff': diff, \"interval gamma\": gamma, \"#candidates\": len(candidates), 'IRV1': irv1, 'Condorcet1': condorcet1,\n"
     ]
    },
    {
     "name": "stdout",
     "output_type": "stream",
     "text": [
      "405   SanLeandro_11022010_CountyCouncilDistrict3.csv\n",
      "SanLeandro_11022010_CountyCouncilDistrict3.csv  threw an exception\n",
      "406   SanLeandro_11022010_CountyCouncilDistrict5.csv\n"
     ]
    },
    {
     "name": "stderr",
     "output_type": "stream",
     "text": [
      "c:\\Users\\mahsh\\Documents\\GitHub\\bugs-in-democracy\\EIL summer 2023\\rcv_dimensionality.py:170: RuntimeWarning: divide by zero encountered in true_divide\n",
      "  distance = 1 / np.sqrt(freq_upper_triangle)\n",
      "C:\\Users\\mahsh\\AppData\\Local\\Temp\\ipykernel_19644\\1022061950.py:45: FutureWarning: The frame.append method is deprecated and will be removed from pandas in a future version. Use pandas.concat instead.\n",
      "  winners = winners.append({'filename': filename, 'diff': diff, \"interval gamma\": gamma, \"#candidates\": len(candidates), 'IRV1': irv1, 'Condorcet1': condorcet1,\n"
     ]
    },
    {
     "name": "stdout",
     "output_type": "stream",
     "text": [
      "407   SanLeandro_11022010_Mayor.csv\n"
     ]
    },
    {
     "name": "stderr",
     "output_type": "stream",
     "text": [
      "c:\\Users\\mahsh\\Documents\\GitHub\\bugs-in-democracy\\EIL summer 2023\\rcv_dimensionality.py:159: RuntimeWarning: divide by zero encountered in true_divide\n",
      "  frequencies = counts / mentioned_together\n",
      "c:\\Users\\mahsh\\Documents\\GitHub\\bugs-in-democracy\\EIL summer 2023\\rcv_dimensionality.py:170: RuntimeWarning: divide by zero encountered in true_divide\n",
      "  distance = 1 / np.sqrt(freq_upper_triangle)\n",
      "C:\\Users\\mahsh\\AppData\\Local\\Temp\\ipykernel_19644\\1022061950.py:45: FutureWarning: The frame.append method is deprecated and will be removed from pandas in a future version. Use pandas.concat instead.\n",
      "  winners = winners.append({'filename': filename, 'diff': diff, \"interval gamma\": gamma, \"#candidates\": len(candidates), 'IRV1': irv1, 'Condorcet1': condorcet1,\n"
     ]
    },
    {
     "name": "stdout",
     "output_type": "stream",
     "text": [
      "408   SanLeandro_11032020_MemberCityCouncilDist2SanLeandroRCV.csv\n"
     ]
    },
    {
     "name": "stderr",
     "output_type": "stream",
     "text": [
      "c:\\Users\\mahsh\\Documents\\GitHub\\bugs-in-democracy\\EIL summer 2023\\rcv_dimensionality.py:170: RuntimeWarning: divide by zero encountered in true_divide\n",
      "  distance = 1 / np.sqrt(freq_upper_triangle)\n",
      "C:\\Users\\mahsh\\AppData\\Local\\Temp\\ipykernel_19644\\1022061950.py:45: FutureWarning: The frame.append method is deprecated and will be removed from pandas in a future version. Use pandas.concat instead.\n",
      "  winners = winners.append({'filename': filename, 'diff': diff, \"interval gamma\": gamma, \"#candidates\": len(candidates), 'IRV1': irv1, 'Condorcet1': condorcet1,\n"
     ]
    },
    {
     "name": "stdout",
     "output_type": "stream",
     "text": [
      "409   SanLeandro_11032020_MemberCityCouncilDist4SanLeandroRCV.csv\n"
     ]
    },
    {
     "name": "stderr",
     "output_type": "stream",
     "text": [
      "c:\\Users\\mahsh\\Documents\\GitHub\\bugs-in-democracy\\EIL summer 2023\\rcv_dimensionality.py:170: RuntimeWarning: divide by zero encountered in true_divide\n",
      "  distance = 1 / np.sqrt(freq_upper_triangle)\n",
      "C:\\Users\\mahsh\\AppData\\Local\\Temp\\ipykernel_19644\\1022061950.py:45: FutureWarning: The frame.append method is deprecated and will be removed from pandas in a future version. Use pandas.concat instead.\n",
      "  winners = winners.append({'filename': filename, 'diff': diff, \"interval gamma\": gamma, \"#candidates\": len(candidates), 'IRV1': irv1, 'Condorcet1': condorcet1,\n"
     ]
    },
    {
     "name": "stdout",
     "output_type": "stream",
     "text": [
      "410   SanLeandro_11032020_MemberCityCouncilDist6SanLeandroRCV.csv\n",
      "SanLeandro_11032020_MemberCityCouncilDist6SanLeandroRCV.csv  threw an exception\n",
      "411   SanLeandro_11042014_CountyCouncilDistrict1.csv\n"
     ]
    },
    {
     "name": "stderr",
     "output_type": "stream",
     "text": [
      "c:\\Users\\mahsh\\Documents\\GitHub\\bugs-in-democracy\\EIL summer 2023\\rcv_dimensionality.py:170: RuntimeWarning: divide by zero encountered in true_divide\n",
      "  distance = 1 / np.sqrt(freq_upper_triangle)\n",
      "C:\\Users\\mahsh\\AppData\\Local\\Temp\\ipykernel_19644\\1022061950.py:45: FutureWarning: The frame.append method is deprecated and will be removed from pandas in a future version. Use pandas.concat instead.\n",
      "  winners = winners.append({'filename': filename, 'diff': diff, \"interval gamma\": gamma, \"#candidates\": len(candidates), 'IRV1': irv1, 'Condorcet1': condorcet1,\n"
     ]
    },
    {
     "name": "stdout",
     "output_type": "stream",
     "text": [
      "412   SanLeandro_11042014_CountyCouncilDistrict3.csv\n"
     ]
    },
    {
     "name": "stderr",
     "output_type": "stream",
     "text": [
      "c:\\Users\\mahsh\\Documents\\GitHub\\bugs-in-democracy\\EIL summer 2023\\rcv_dimensionality.py:170: RuntimeWarning: divide by zero encountered in true_divide\n",
      "  distance = 1 / np.sqrt(freq_upper_triangle)\n",
      "C:\\Users\\mahsh\\AppData\\Local\\Temp\\ipykernel_19644\\1022061950.py:45: FutureWarning: The frame.append method is deprecated and will be removed from pandas in a future version. Use pandas.concat instead.\n",
      "  winners = winners.append({'filename': filename, 'diff': diff, \"interval gamma\": gamma, \"#candidates\": len(candidates), 'IRV1': irv1, 'Condorcet1': condorcet1,\n"
     ]
    },
    {
     "name": "stdout",
     "output_type": "stream",
     "text": [
      "413   SanLeandro_11042014_CountyCouncilDistrict5.csv\n"
     ]
    },
    {
     "name": "stderr",
     "output_type": "stream",
     "text": [
      "c:\\Users\\mahsh\\Documents\\GitHub\\bugs-in-democracy\\EIL summer 2023\\rcv_dimensionality.py:170: RuntimeWarning: divide by zero encountered in true_divide\n",
      "  distance = 1 / np.sqrt(freq_upper_triangle)\n",
      "C:\\Users\\mahsh\\AppData\\Local\\Temp\\ipykernel_19644\\1022061950.py:45: FutureWarning: The frame.append method is deprecated and will be removed from pandas in a future version. Use pandas.concat instead.\n",
      "  winners = winners.append({'filename': filename, 'diff': diff, \"interval gamma\": gamma, \"#candidates\": len(candidates), 'IRV1': irv1, 'Condorcet1': condorcet1,\n"
     ]
    },
    {
     "name": "stdout",
     "output_type": "stream",
     "text": [
      "414   SanLeandro_11042014_Mayor.csv\n"
     ]
    },
    {
     "name": "stderr",
     "output_type": "stream",
     "text": [
      "c:\\Users\\mahsh\\Documents\\GitHub\\bugs-in-democracy\\EIL summer 2023\\rcv_dimensionality.py:170: RuntimeWarning: divide by zero encountered in true_divide\n",
      "  distance = 1 / np.sqrt(freq_upper_triangle)\n",
      "C:\\Users\\mahsh\\AppData\\Local\\Temp\\ipykernel_19644\\1022061950.py:45: FutureWarning: The frame.append method is deprecated and will be removed from pandas in a future version. Use pandas.concat instead.\n",
      "  winners = winners.append({'filename': filename, 'diff': diff, \"interval gamma\": gamma, \"#candidates\": len(candidates), 'IRV1': irv1, 'Condorcet1': condorcet1,\n"
     ]
    },
    {
     "name": "stdout",
     "output_type": "stream",
     "text": [
      "415   SanLeandro_11062012_CountyCouncilDistrict2.csv\n"
     ]
    },
    {
     "name": "stderr",
     "output_type": "stream",
     "text": [
      "c:\\Users\\mahsh\\Documents\\GitHub\\bugs-in-democracy\\EIL summer 2023\\rcv_dimensionality.py:170: RuntimeWarning: divide by zero encountered in true_divide\n",
      "  distance = 1 / np.sqrt(freq_upper_triangle)\n",
      "C:\\Users\\mahsh\\AppData\\Local\\Temp\\ipykernel_19644\\1022061950.py:45: FutureWarning: The frame.append method is deprecated and will be removed from pandas in a future version. Use pandas.concat instead.\n",
      "  winners = winners.append({'filename': filename, 'diff': diff, \"interval gamma\": gamma, \"#candidates\": len(candidates), 'IRV1': irv1, 'Condorcet1': condorcet1,\n"
     ]
    },
    {
     "name": "stdout",
     "output_type": "stream",
     "text": [
      "416   SanLeandro_11062012_CountyCouncilDistrict4.csv\n"
     ]
    },
    {
     "name": "stderr",
     "output_type": "stream",
     "text": [
      "c:\\Users\\mahsh\\Documents\\GitHub\\bugs-in-democracy\\EIL summer 2023\\rcv_dimensionality.py:170: RuntimeWarning: divide by zero encountered in true_divide\n",
      "  distance = 1 / np.sqrt(freq_upper_triangle)\n",
      "C:\\Users\\mahsh\\AppData\\Local\\Temp\\ipykernel_19644\\1022061950.py:45: FutureWarning: The frame.append method is deprecated and will be removed from pandas in a future version. Use pandas.concat instead.\n",
      "  winners = winners.append({'filename': filename, 'diff': diff, \"interval gamma\": gamma, \"#candidates\": len(candidates), 'IRV1': irv1, 'Condorcet1': condorcet1,\n"
     ]
    },
    {
     "name": "stdout",
     "output_type": "stream",
     "text": [
      "417   SanLeandro_11062012_CountyCouncilDistrict6.csv\n"
     ]
    },
    {
     "name": "stderr",
     "output_type": "stream",
     "text": [
      "c:\\Users\\mahsh\\Documents\\GitHub\\bugs-in-democracy\\EIL summer 2023\\rcv_dimensionality.py:170: RuntimeWarning: divide by zero encountered in true_divide\n",
      "  distance = 1 / np.sqrt(freq_upper_triangle)\n",
      "C:\\Users\\mahsh\\AppData\\Local\\Temp\\ipykernel_19644\\1022061950.py:45: FutureWarning: The frame.append method is deprecated and will be removed from pandas in a future version. Use pandas.concat instead.\n",
      "  winners = winners.append({'filename': filename, 'diff': diff, \"interval gamma\": gamma, \"#candidates\": len(candidates), 'IRV1': irv1, 'Condorcet1': condorcet1,\n"
     ]
    },
    {
     "name": "stdout",
     "output_type": "stream",
     "text": [
      "418   SanLeandro_11062018_CountyCouncilDistrict1.csv\n"
     ]
    },
    {
     "name": "stderr",
     "output_type": "stream",
     "text": [
      "c:\\Users\\mahsh\\Documents\\GitHub\\bugs-in-democracy\\EIL summer 2023\\rcv_dimensionality.py:170: RuntimeWarning: divide by zero encountered in true_divide\n",
      "  distance = 1 / np.sqrt(freq_upper_triangle)\n",
      "C:\\Users\\mahsh\\AppData\\Local\\Temp\\ipykernel_19644\\1022061950.py:45: FutureWarning: The frame.append method is deprecated and will be removed from pandas in a future version. Use pandas.concat instead.\n",
      "  winners = winners.append({'filename': filename, 'diff': diff, \"interval gamma\": gamma, \"#candidates\": len(candidates), 'IRV1': irv1, 'Condorcet1': condorcet1,\n"
     ]
    },
    {
     "name": "stdout",
     "output_type": "stream",
     "text": [
      "419   SanLeandro_11062018_CountyCouncilDistrict3.csv\n"
     ]
    },
    {
     "name": "stderr",
     "output_type": "stream",
     "text": [
      "c:\\Users\\mahsh\\Documents\\GitHub\\bugs-in-democracy\\EIL summer 2023\\rcv_dimensionality.py:170: RuntimeWarning: divide by zero encountered in true_divide\n",
      "  distance = 1 / np.sqrt(freq_upper_triangle)\n",
      "C:\\Users\\mahsh\\AppData\\Local\\Temp\\ipykernel_19644\\1022061950.py:45: FutureWarning: The frame.append method is deprecated and will be removed from pandas in a future version. Use pandas.concat instead.\n",
      "  winners = winners.append({'filename': filename, 'diff': diff, \"interval gamma\": gamma, \"#candidates\": len(candidates), 'IRV1': irv1, 'Condorcet1': condorcet1,\n"
     ]
    },
    {
     "name": "stdout",
     "output_type": "stream",
     "text": [
      "420   SanLeandro_11062018_CountyCouncilDistrict5.csv\n"
     ]
    },
    {
     "name": "stderr",
     "output_type": "stream",
     "text": [
      "c:\\Users\\mahsh\\Documents\\GitHub\\bugs-in-democracy\\EIL summer 2023\\rcv_dimensionality.py:170: RuntimeWarning: divide by zero encountered in true_divide\n",
      "  distance = 1 / np.sqrt(freq_upper_triangle)\n",
      "C:\\Users\\mahsh\\AppData\\Local\\Temp\\ipykernel_19644\\1022061950.py:45: FutureWarning: The frame.append method is deprecated and will be removed from pandas in a future version. Use pandas.concat instead.\n",
      "  winners = winners.append({'filename': filename, 'diff': diff, \"interval gamma\": gamma, \"#candidates\": len(candidates), 'IRV1': irv1, 'Condorcet1': condorcet1,\n"
     ]
    },
    {
     "name": "stdout",
     "output_type": "stream",
     "text": [
      "421   SanLeandro_11062018_Mayor.csv\n"
     ]
    },
    {
     "name": "stderr",
     "output_type": "stream",
     "text": [
      "c:\\Users\\mahsh\\Documents\\GitHub\\bugs-in-democracy\\EIL summer 2023\\rcv_dimensionality.py:170: RuntimeWarning: divide by zero encountered in true_divide\n",
      "  distance = 1 / np.sqrt(freq_upper_triangle)\n",
      "C:\\Users\\mahsh\\AppData\\Local\\Temp\\ipykernel_19644\\1022061950.py:45: FutureWarning: The frame.append method is deprecated and will be removed from pandas in a future version. Use pandas.concat instead.\n",
      "  winners = winners.append({'filename': filename, 'diff': diff, \"interval gamma\": gamma, \"#candidates\": len(candidates), 'IRV1': irv1, 'Condorcet1': condorcet1,\n"
     ]
    },
    {
     "name": "stdout",
     "output_type": "stream",
     "text": [
      "422   SanLeandro_11082016_CountyCouncilDistrict2.csv\n"
     ]
    },
    {
     "name": "stderr",
     "output_type": "stream",
     "text": [
      "c:\\Users\\mahsh\\Documents\\GitHub\\bugs-in-democracy\\EIL summer 2023\\rcv_dimensionality.py:170: RuntimeWarning: divide by zero encountered in true_divide\n",
      "  distance = 1 / np.sqrt(freq_upper_triangle)\n",
      "C:\\Users\\mahsh\\AppData\\Local\\Temp\\ipykernel_19644\\1022061950.py:45: FutureWarning: The frame.append method is deprecated and will be removed from pandas in a future version. Use pandas.concat instead.\n",
      "  winners = winners.append({'filename': filename, 'diff': diff, \"interval gamma\": gamma, \"#candidates\": len(candidates), 'IRV1': irv1, 'Condorcet1': condorcet1,\n"
     ]
    },
    {
     "name": "stdout",
     "output_type": "stream",
     "text": [
      "423   SanLeandro_11082016_CountyCouncilDistrict4.csv\n",
      "SanLeandro_11082016_CountyCouncilDistrict4.csv  threw an exception\n",
      "424   SanLeandro_11082016_CountyCouncilDistrict6.csv\n",
      "SanLeandro_11082016_CountyCouncilDistrict6.csv  threw an exception\n",
      "425   SantaFe_03062018_CityCouncilDistrict2.csv\n"
     ]
    },
    {
     "name": "stderr",
     "output_type": "stream",
     "text": [
      "c:\\Users\\mahsh\\Documents\\GitHub\\bugs-in-democracy\\EIL summer 2023\\rcv_dimensionality.py:170: RuntimeWarning: divide by zero encountered in true_divide\n",
      "  distance = 1 / np.sqrt(freq_upper_triangle)\n",
      "C:\\Users\\mahsh\\AppData\\Local\\Temp\\ipykernel_19644\\1022061950.py:45: FutureWarning: The frame.append method is deprecated and will be removed from pandas in a future version. Use pandas.concat instead.\n",
      "  winners = winners.append({'filename': filename, 'diff': diff, \"interval gamma\": gamma, \"#candidates\": len(candidates), 'IRV1': irv1, 'Condorcet1': condorcet1,\n"
     ]
    },
    {
     "name": "stdout",
     "output_type": "stream",
     "text": [
      "426   SantaFe_03062018_CityCouncilDistrict4.csv\n"
     ]
    },
    {
     "name": "stderr",
     "output_type": "stream",
     "text": [
      "c:\\Users\\mahsh\\Documents\\GitHub\\bugs-in-democracy\\EIL summer 2023\\rcv_dimensionality.py:170: RuntimeWarning: divide by zero encountered in true_divide\n",
      "  distance = 1 / np.sqrt(freq_upper_triangle)\n",
      "C:\\Users\\mahsh\\AppData\\Local\\Temp\\ipykernel_19644\\1022061950.py:45: FutureWarning: The frame.append method is deprecated and will be removed from pandas in a future version. Use pandas.concat instead.\n",
      "  winners = winners.append({'filename': filename, 'diff': diff, \"interval gamma\": gamma, \"#candidates\": len(candidates), 'IRV1': irv1, 'Condorcet1': condorcet1,\n"
     ]
    },
    {
     "name": "stdout",
     "output_type": "stream",
     "text": [
      "427   SantaFe_03062018_Mayor.csv\n"
     ]
    },
    {
     "name": "stderr",
     "output_type": "stream",
     "text": [
      "c:\\Users\\mahsh\\Documents\\GitHub\\bugs-in-democracy\\EIL summer 2023\\rcv_dimensionality.py:170: RuntimeWarning: divide by zero encountered in true_divide\n",
      "  distance = 1 / np.sqrt(freq_upper_triangle)\n",
      "C:\\Users\\mahsh\\AppData\\Local\\Temp\\ipykernel_19644\\1022061950.py:45: FutureWarning: The frame.append method is deprecated and will be removed from pandas in a future version. Use pandas.concat instead.\n",
      "  winners = winners.append({'filename': filename, 'diff': diff, \"interval gamma\": gamma, \"#candidates\": len(candidates), 'IRV1': irv1, 'Condorcet1': condorcet1,\n"
     ]
    },
    {
     "name": "stdout",
     "output_type": "stream",
     "text": [
      "428   Springville_11022021_CityCouncil2yr.csv\n"
     ]
    },
    {
     "name": "stderr",
     "output_type": "stream",
     "text": [
      "c:\\Users\\mahsh\\Documents\\GitHub\\bugs-in-democracy\\EIL summer 2023\\rcv_dimensionality.py:170: RuntimeWarning: divide by zero encountered in true_divide\n",
      "  distance = 1 / np.sqrt(freq_upper_triangle)\n",
      "C:\\Users\\mahsh\\AppData\\Local\\Temp\\ipykernel_19644\\1022061950.py:45: FutureWarning: The frame.append method is deprecated and will be removed from pandas in a future version. Use pandas.concat instead.\n",
      "  winners = winners.append({'filename': filename, 'diff': diff, \"interval gamma\": gamma, \"#candidates\": len(candidates), 'IRV1': irv1, 'Condorcet1': condorcet1,\n"
     ]
    },
    {
     "name": "stdout",
     "output_type": "stream",
     "text": [
      "429   Springville_11022021_Mayor.csv\n"
     ]
    },
    {
     "name": "stderr",
     "output_type": "stream",
     "text": [
      "c:\\Users\\mahsh\\Documents\\GitHub\\bugs-in-democracy\\EIL summer 2023\\rcv_dimensionality.py:170: RuntimeWarning: divide by zero encountered in true_divide\n",
      "  distance = 1 / np.sqrt(freq_upper_triangle)\n",
      "C:\\Users\\mahsh\\AppData\\Local\\Temp\\ipykernel_19644\\1022061950.py:45: FutureWarning: The frame.append method is deprecated and will be removed from pandas in a future version. Use pandas.concat instead.\n",
      "  winners = winners.append({'filename': filename, 'diff': diff, \"interval gamma\": gamma, \"#candidates\": len(candidates), 'IRV1': irv1, 'Condorcet1': condorcet1,\n"
     ]
    },
    {
     "name": "stdout",
     "output_type": "stream",
     "text": [
      "430   StLouisPark_11022021_CityCouncilWard1.csv\n",
      "StLouisPark_11022021_CityCouncilWard1.csv  threw an exception\n",
      "431   StLouisPark_11022021_CityCouncilWard2.csv\n"
     ]
    },
    {
     "name": "stderr",
     "output_type": "stream",
     "text": [
      "c:\\Users\\mahsh\\Documents\\GitHub\\bugs-in-democracy\\EIL summer 2023\\rcv_dimensionality.py:170: RuntimeWarning: divide by zero encountered in true_divide\n",
      "  distance = 1 / np.sqrt(freq_upper_triangle)\n",
      "C:\\Users\\mahsh\\AppData\\Local\\Temp\\ipykernel_19644\\1022061950.py:45: FutureWarning: The frame.append method is deprecated and will be removed from pandas in a future version. Use pandas.concat instead.\n",
      "  winners = winners.append({'filename': filename, 'diff': diff, \"interval gamma\": gamma, \"#candidates\": len(candidates), 'IRV1': irv1, 'Condorcet1': condorcet1,\n"
     ]
    },
    {
     "name": "stdout",
     "output_type": "stream",
     "text": [
      "432   StLouisPark_11022021_CityCouncilWard3.csv\n"
     ]
    },
    {
     "name": "stderr",
     "output_type": "stream",
     "text": [
      "c:\\Users\\mahsh\\Documents\\GitHub\\bugs-in-democracy\\EIL summer 2023\\rcv_dimensionality.py:170: RuntimeWarning: divide by zero encountered in true_divide\n",
      "  distance = 1 / np.sqrt(freq_upper_triangle)\n",
      "C:\\Users\\mahsh\\AppData\\Local\\Temp\\ipykernel_19644\\1022061950.py:45: FutureWarning: The frame.append method is deprecated and will be removed from pandas in a future version. Use pandas.concat instead.\n",
      "  winners = winners.append({'filename': filename, 'diff': diff, \"interval gamma\": gamma, \"#candidates\": len(candidates), 'IRV1': irv1, 'Condorcet1': condorcet1,\n"
     ]
    },
    {
     "name": "stdout",
     "output_type": "stream",
     "text": [
      "433   StLouisPark_11022021_CityCouncilWard4.csv\n",
      "StLouisPark_11022021_CityCouncilWard4.csv  threw an exception\n",
      "434   TakomaPark_11082022_CityCouncilWard1.csv\n"
     ]
    },
    {
     "name": "stderr",
     "output_type": "stream",
     "text": [
      "c:\\Users\\mahsh\\Documents\\GitHub\\bugs-in-democracy\\EIL summer 2023\\rcv_dimensionality.py:170: RuntimeWarning: divide by zero encountered in true_divide\n",
      "  distance = 1 / np.sqrt(freq_upper_triangle)\n",
      "C:\\Users\\mahsh\\AppData\\Local\\Temp\\ipykernel_19644\\1022061950.py:45: FutureWarning: The frame.append method is deprecated and will be removed from pandas in a future version. Use pandas.concat instead.\n",
      "  winners = winners.append({'filename': filename, 'diff': diff, \"interval gamma\": gamma, \"#candidates\": len(candidates), 'IRV1': irv1, 'Condorcet1': condorcet1,\n"
     ]
    },
    {
     "name": "stdout",
     "output_type": "stream",
     "text": [
      "435   TakomaPark_11082022_CityCouncilWard2.csv\n",
      "TakomaPark_11082022_CityCouncilWard2.csv  threw an exception\n",
      "436   TakomaPark_11082022_CityCouncilWard3.csv\n"
     ]
    },
    {
     "name": "stderr",
     "output_type": "stream",
     "text": [
      "c:\\Users\\mahsh\\Documents\\GitHub\\bugs-in-democracy\\EIL summer 2023\\rcv_dimensionality.py:159: RuntimeWarning: divide by zero encountered in true_divide\n",
      "  frequencies = counts / mentioned_together\n",
      "c:\\Users\\mahsh\\Documents\\GitHub\\bugs-in-democracy\\EIL summer 2023\\rcv_dimensionality.py:159: RuntimeWarning: invalid value encountered in true_divide\n",
      "  frequencies = counts / mentioned_together\n",
      "c:\\Users\\mahsh\\Documents\\GitHub\\bugs-in-democracy\\EIL summer 2023\\rcv_dimensionality.py:170: RuntimeWarning: divide by zero encountered in true_divide\n",
      "  distance = 1 / np.sqrt(freq_upper_triangle)\n",
      "C:\\Users\\mahsh\\AppData\\Local\\Temp\\ipykernel_19644\\1022061950.py:45: FutureWarning: The frame.append method is deprecated and will be removed from pandas in a future version. Use pandas.concat instead.\n",
      "  winners = winners.append({'filename': filename, 'diff': diff, \"interval gamma\": gamma, \"#candidates\": len(candidates), 'IRV1': irv1, 'Condorcet1': condorcet1,\n",
      "c:\\Users\\mahsh\\Documents\\GitHub\\bugs-in-democracy\\EIL summer 2023\\rcv_dimensionality.py:170: RuntimeWarning: divide by zero encountered in true_divide\n",
      "  distance = 1 / np.sqrt(freq_upper_triangle)\n"
     ]
    },
    {
     "name": "stdout",
     "output_type": "stream",
     "text": [
      "437   TakomaPark_11082022_CityCouncilWard4.csv\n",
      "TakomaPark_11082022_CityCouncilWard4.csv  threw an exception\n",
      "438   TakomaPark_11082022_CityCouncilWard5.csv\n"
     ]
    },
    {
     "name": "stderr",
     "output_type": "stream",
     "text": [
      "C:\\Users\\mahsh\\AppData\\Local\\Temp\\ipykernel_19644\\1022061950.py:45: FutureWarning: The frame.append method is deprecated and will be removed from pandas in a future version. Use pandas.concat instead.\n",
      "  winners = winners.append({'filename': filename, 'diff': diff, \"interval gamma\": gamma, \"#candidates\": len(candidates), 'IRV1': irv1, 'Condorcet1': condorcet1,\n",
      "c:\\Users\\mahsh\\Documents\\GitHub\\bugs-in-democracy\\EIL summer 2023\\rcv_dimensionality.py:159: RuntimeWarning: divide by zero encountered in true_divide\n",
      "  frequencies = counts / mentioned_together\n",
      "c:\\Users\\mahsh\\Documents\\GitHub\\bugs-in-democracy\\EIL summer 2023\\rcv_dimensionality.py:159: RuntimeWarning: invalid value encountered in true_divide\n",
      "  frequencies = counts / mentioned_together\n",
      "c:\\Users\\mahsh\\Documents\\GitHub\\bugs-in-democracy\\EIL summer 2023\\rcv_dimensionality.py:170: RuntimeWarning: divide by zero encountered in true_divide\n",
      "  distance = 1 / np.sqrt(freq_upper_triangle)\n"
     ]
    },
    {
     "name": "stdout",
     "output_type": "stream",
     "text": [
      "439   TakomaPark_11082022_CityCouncilWard6.csv\n"
     ]
    },
    {
     "name": "stderr",
     "output_type": "stream",
     "text": [
      "C:\\Users\\mahsh\\AppData\\Local\\Temp\\ipykernel_19644\\1022061950.py:45: FutureWarning: The frame.append method is deprecated and will be removed from pandas in a future version. Use pandas.concat instead.\n",
      "  winners = winners.append({'filename': filename, 'diff': diff, \"interval gamma\": gamma, \"#candidates\": len(candidates), 'IRV1': irv1, 'Condorcet1': condorcet1,\n"
     ]
    },
    {
     "name": "stdout",
     "output_type": "stream",
     "text": [
      "440   TakomaPark_11082022_Mayor.csv\n"
     ]
    },
    {
     "name": "stderr",
     "output_type": "stream",
     "text": [
      "c:\\Users\\mahsh\\Documents\\GitHub\\bugs-in-democracy\\EIL summer 2023\\rcv_dimensionality.py:159: RuntimeWarning: divide by zero encountered in true_divide\n",
      "  frequencies = counts / mentioned_together\n",
      "c:\\Users\\mahsh\\Documents\\GitHub\\bugs-in-democracy\\EIL summer 2023\\rcv_dimensionality.py:159: RuntimeWarning: invalid value encountered in true_divide\n",
      "  frequencies = counts / mentioned_together\n",
      "c:\\Users\\mahsh\\Documents\\GitHub\\bugs-in-democracy\\EIL summer 2023\\rcv_dimensionality.py:170: RuntimeWarning: divide by zero encountered in true_divide\n",
      "  distance = 1 / np.sqrt(freq_upper_triangle)\n",
      "C:\\Users\\mahsh\\AppData\\Local\\Temp\\ipykernel_19644\\1022061950.py:45: FutureWarning: The frame.append method is deprecated and will be removed from pandas in a future version. Use pandas.concat instead.\n",
      "  winners = winners.append({'filename': filename, 'diff': diff, \"interval gamma\": gamma, \"#candidates\": len(candidates), 'IRV1': irv1, 'Condorcet1': condorcet1,\n"
     ]
    },
    {
     "name": "stdout",
     "output_type": "stream",
     "text": [
      "441   Vineyard_11022021_Mayor.csv\n"
     ]
    },
    {
     "name": "stderr",
     "output_type": "stream",
     "text": [
      "c:\\Users\\mahsh\\Documents\\GitHub\\bugs-in-democracy\\EIL summer 2023\\rcv_dimensionality.py:170: RuntimeWarning: divide by zero encountered in true_divide\n",
      "  distance = 1 / np.sqrt(freq_upper_triangle)\n",
      "C:\\Users\\mahsh\\AppData\\Local\\Temp\\ipykernel_19644\\1022061950.py:45: FutureWarning: The frame.append method is deprecated and will be removed from pandas in a future version. Use pandas.concat instead.\n",
      "  winners = winners.append({'filename': filename, 'diff': diff, \"interval gamma\": gamma, \"#candidates\": len(candidates), 'IRV1': irv1, 'Condorcet1': condorcet1,\n"
     ]
    },
    {
     "name": "stdout",
     "output_type": "stream",
     "text": [
      "442   Vineyard_11052019_CityCouncil.csv\n"
     ]
    },
    {
     "name": "stderr",
     "output_type": "stream",
     "text": [
      "c:\\Users\\mahsh\\Documents\\GitHub\\bugs-in-democracy\\EIL summer 2023\\rcv_dimensionality.py:170: RuntimeWarning: divide by zero encountered in true_divide\n",
      "  distance = 1 / np.sqrt(freq_upper_triangle)\n",
      "C:\\Users\\mahsh\\AppData\\Local\\Temp\\ipykernel_19644\\1022061950.py:45: FutureWarning: The frame.append method is deprecated and will be removed from pandas in a future version. Use pandas.concat instead.\n",
      "  winners = winners.append({'filename': filename, 'diff': diff, \"interval gamma\": gamma, \"#candidates\": len(candidates), 'IRV1': irv1, 'Condorcet1': condorcet1,\n",
      "c:\\Users\\mahsh\\Documents\\GitHub\\bugs-in-democracy\\EIL summer 2023\\rcv_dimensionality.py:170: RuntimeWarning: divide by zero encountered in true_divide\n",
      "  distance = 1 / np.sqrt(freq_upper_triangle)\n"
     ]
    },
    {
     "name": "stdout",
     "output_type": "stream",
     "text": [
      "443   WoodlandHills_11022021_Mayor.csv\n"
     ]
    },
    {
     "name": "stderr",
     "output_type": "stream",
     "text": [
      "C:\\Users\\mahsh\\AppData\\Local\\Temp\\ipykernel_19644\\1022061950.py:45: FutureWarning: The frame.append method is deprecated and will be removed from pandas in a future version. Use pandas.concat instead.\n",
      "  winners = winners.append({'filename': filename, 'diff': diff, \"interval gamma\": gamma, \"#candidates\": len(candidates), 'IRV1': irv1, 'Condorcet1': condorcet1,\n"
     ]
    },
    {
     "name": "stdout",
     "output_type": "stream",
     "text": [
      "444   Wyoming_04172020_PRESIDENTOFTHEUNITEDSTATES.csv\n"
     ]
    },
    {
     "name": "stderr",
     "output_type": "stream",
     "text": [
      "c:\\Users\\mahsh\\Documents\\GitHub\\bugs-in-democracy\\EIL summer 2023\\rcv_dimensionality.py:170: RuntimeWarning: divide by zero encountered in true_divide\n",
      "  distance = 1 / np.sqrt(freq_upper_triangle)\n",
      "C:\\Users\\mahsh\\AppData\\Local\\Temp\\ipykernel_19644\\1022061950.py:45: FutureWarning: The frame.append method is deprecated and will be removed from pandas in a future version. Use pandas.concat instead.\n",
      "  winners = winners.append({'filename': filename, 'diff': diff, \"interval gamma\": gamma, \"#candidates\": len(candidates), 'IRV1': irv1, 'Condorcet1': condorcet1,\n"
     ]
    }
   ],
   "source": [
    "winners = pd.DataFrame(columns=[\"filename\", \"diff\", \"interval gamma\", \"#candidates\",\"IRV1\", \"Condorcet1\", \"Plurality1\", \"Approval1\" \"IRV2\", \"Condorcet2\", \"Plurality2\", \"Approval2\"])\n",
    "directory = \"dataverse_files\"\n",
    "count = 0\n",
    "for filename in os.listdir(directory):\n",
    "    count += 1\n",
    "    if (count % 50):\n",
    "        print(count, \" \", filename)\n",
    "    try:\n",
    "        csv =  os.path.join(directory, filename)\n",
    "        ballots, candidates = parse_election_data(csv)\n",
    "\n",
    "        # Perform the RCV analysis\n",
    "        test = perform_rcv_analysis(csv, n_runs=1000)\n",
    "        mds_1d_coordinates, mds_2d_coordinates, most_common_order, order_frequencies, candidate_names = test\n",
    "\n",
    "        # Print the normalized distances between candidates and plot the MDS analysis\n",
    "        normalized_distances = get_distances_normalized(most_common_order, mds_1d_coordinates, candidate_names)\n",
    "        \n",
    "        #running voting rules in the original election \n",
    "        org_election = voting_rules(ballots, candidates)\n",
    "        irv1 = org_election.irv()\n",
    "        condorcet1 = org_election.condorcet()\n",
    "        plurality1 = org_election.plurality()\n",
    "        approval1 = org_election.approval()\n",
    "\n",
    "        #getting consistent ballots using the interval approach\n",
    "        consistent_ballots, gamma = get_interval_consistent_points(ballots, normalized_distances)\n",
    "        \n",
    "        #running voting rules on only consistent ballots\n",
    "        election = voting_rules(consistent_ballots, candidates)\n",
    "        irv2 = election.irv()\n",
    "        condorcet2 = election.condorcet()\n",
    "        plurality2 = election.plurality()\n",
    "        approval2 = election.approval()\n",
    "\n",
    "        diff = []\n",
    "        if (irv1 != irv2):\n",
    "            diff.append(\"IRV\")\n",
    "        if (condorcet1 != condorcet2):\n",
    "            diff.append(\"Condorcet\")\n",
    "        if (plurality1 != plurality2):\n",
    "            diff.append(\"Plurality\")\n",
    "        if (approval1 != approval2):\n",
    "            diff.append(\"Approval\")\n",
    "        winners = winners.append({'filename': filename, 'diff': diff, \"interval gamma\": gamma, \"#candidates\": len(candidates), 'IRV1': irv1, 'Condorcet1': condorcet1,\n",
    "                                'Plurality1': plurality1, 'Approval1': approval1,\n",
    "                                'IRV2': irv2, \"Condorcet2\": condorcet2, \n",
    "                                'Plurality2':plurality2, 'Approval2': approval2}, ignore_index=True)\n",
    "\n",
    "\n",
    "    except:\n",
    "        print(filename, \" threw an exception\")\n",
    "winners.to_csv('interval_winners.csv', index=False)\n",
    "    "
   ]
  },
  {
   "cell_type": "code",
   "execution_count": 7,
   "metadata": {},
   "outputs": [
    {
     "name": "stdout",
     "output_type": "stream",
     "text": [
      "                                              filename diff interval gamma  \\\n",
      "0       Alaska_04102020_PRESIDENTOFTHEUNITEDSTATES.csv   []        0.82544   \n",
      "1    Alaska_08162022_HouseofRepresentativesSpecial.csv   []        0.82544   \n",
      "2       Alaska_11082022_GovernorLieutenantGovernor.csv   []        0.82544   \n",
      "3                   Alaska_11082022_HouseDistrict1.csv   []        0.82544   \n",
      "4                  Alaska_11082022_HouseDistrict10.csv   []        0.82544   \n",
      "..                                                 ...  ...            ...   \n",
      "439                      TakomaPark_11082022_Mayor.csv   []        0.82544   \n",
      "440                        Vineyard_11022021_Mayor.csv   []        0.82544   \n",
      "441                  Vineyard_11052019_CityCouncil.csv   []        0.82544   \n",
      "442                   WoodlandHills_11022021_Mayor.csv   []        0.82544   \n",
      "443    Wyoming_04172020_PRESIDENTOFTHEUNITEDSTATES.csv   []        0.82544   \n",
      "\n",
      "    #candidates           IRV1     Condorcet1     Plurality1 Approval1IRV2  \\\n",
      "0             4  Elliott Payne  Elliott Payne  Elliott Payne           NaN   \n",
      "1             4  Elliott Payne  Elliott Payne  Elliott Payne           NaN   \n",
      "2             4  Elliott Payne  Elliott Payne  Elliott Payne           NaN   \n",
      "3             4  Elliott Payne  Elliott Payne  Elliott Payne           NaN   \n",
      "4             4  Elliott Payne  Elliott Payne  Elliott Payne           NaN   \n",
      "..          ...            ...            ...            ...           ...   \n",
      "439           4  Elliott Payne  Elliott Payne  Elliott Payne           NaN   \n",
      "440           4  Elliott Payne  Elliott Payne  Elliott Payne           NaN   \n",
      "441           4  Elliott Payne  Elliott Payne  Elliott Payne           NaN   \n",
      "442           4  Elliott Payne  Elliott Payne  Elliott Payne           NaN   \n",
      "443           4  Elliott Payne  Elliott Payne  Elliott Payne           NaN   \n",
      "\n",
      "        Condorcet2     Plurality2      Approval2      Approval1           IRV2  \n",
      "0    Elliott Payne  Elliott Payne  Elliott Payne  Elliott Payne  Elliott Payne  \n",
      "1    Elliott Payne  Elliott Payne  Elliott Payne  Elliott Payne  Elliott Payne  \n",
      "2    Elliott Payne  Elliott Payne  Elliott Payne  Elliott Payne  Elliott Payne  \n",
      "3    Elliott Payne  Elliott Payne  Elliott Payne  Elliott Payne  Elliott Payne  \n",
      "4    Elliott Payne  Elliott Payne  Elliott Payne  Elliott Payne  Elliott Payne  \n",
      "..             ...            ...            ...            ...            ...  \n",
      "439  Elliott Payne  Elliott Payne  Elliott Payne  Elliott Payne  Elliott Payne  \n",
      "440  Elliott Payne  Elliott Payne  Elliott Payne  Elliott Payne  Elliott Payne  \n",
      "441  Elliott Payne  Elliott Payne  Elliott Payne  Elliott Payne  Elliott Payne  \n",
      "442  Elliott Payne  Elliott Payne  Elliott Payne  Elliott Payne  Elliott Payne  \n",
      "443  Elliott Payne  Elliott Payne  Elliott Payne  Elliott Payne  Elliott Payne  \n",
      "\n",
      "[444 rows x 13 columns]\n"
     ]
    }
   ],
   "source": [
    "print(winners)"
   ]
  },
  {
   "cell_type": "code",
   "execution_count": null,
   "metadata": {},
   "outputs": [],
   "source": []
  }
 ],
 "metadata": {
  "kernelspec": {
   "display_name": "base",
   "language": "python",
   "name": "python3"
  },
  "language_info": {
   "codemirror_mode": {
    "name": "ipython",
    "version": 3
   },
   "file_extension": ".py",
   "mimetype": "text/x-python",
   "name": "python",
   "nbconvert_exporter": "python",
   "pygments_lexer": "ipython3",
   "version": "3.9.12"
  }
 },
 "nbformat": 4,
 "nbformat_minor": 2
}
