{
 "cells": [
  {
   "cell_type": "code",
   "execution_count": 2,
   "metadata": {},
   "outputs": [],
   "source": [
    "import seaborn as sns\n",
    "\n",
    "from scipy.stats import kurtosis, skew\n",
    "import os \n",
    "from rcv_distribution import *\n",
    "from rcv_dimensionality import *\n",
    "from voting_rules import *"
   ]
  },
  {
   "cell_type": "code",
   "execution_count": 18,
   "metadata": {},
   "outputs": [
    {
     "name": "stderr",
     "output_type": "stream",
     "text": [
      "c:\\Users\\mahsh\\Documents\\GitHub\\bugs-in-democracy\\EIL summer 2023\\rcv_dimensionality.py:170: RuntimeWarning: divide by zero encountered in true_divide\n",
      "  distance = 1 / np.sqrt(freq_upper_triangle)\n",
      "c:\\Users\\mahsh\\Documents\\GitHub\\bugs-in-democracy\\EIL summer 2023\\rcv_dimensionality.py:170: RuntimeWarning: divide by zero encountered in true_divide\n",
      "  distance = 1 / np.sqrt(freq_upper_triangle)\n",
      "c:\\Users\\mahsh\\Documents\\GitHub\\bugs-in-democracy\\EIL summer 2023\\rcv_dimensionality.py:170: RuntimeWarning: divide by zero encountered in true_divide\n",
      "  distance = 1 / np.sqrt(freq_upper_triangle)\n",
      "c:\\Users\\mahsh\\Documents\\GitHub\\bugs-in-democracy\\EIL summer 2023\\rcv_dimensionality.py:170: RuntimeWarning: divide by zero encountered in true_divide\n",
      "  distance = 1 / np.sqrt(freq_upper_triangle)\n",
      "c:\\Users\\mahsh\\Documents\\GitHub\\bugs-in-democracy\\EIL summer 2023\\rcv_dimensionality.py:170: RuntimeWarning: divide by zero encountered in true_divide\n",
      "  distance = 1 / np.sqrt(freq_upper_triangle)\n",
      "c:\\Users\\mahsh\\Documents\\GitHub\\bugs-in-democracy\\EIL summer 2023\\rcv_dimensionality.py:170: RuntimeWarning: divide by zero encountered in true_divide\n",
      "  distance = 1 / np.sqrt(freq_upper_triangle)\n",
      "c:\\Users\\mahsh\\Documents\\GitHub\\bugs-in-democracy\\EIL summer 2023\\rcv_dimensionality.py:170: RuntimeWarning: divide by zero encountered in true_divide\n",
      "  distance = 1 / np.sqrt(freq_upper_triangle)\n",
      "c:\\Users\\mahsh\\Documents\\GitHub\\bugs-in-democracy\\EIL summer 2023\\rcv_dimensionality.py:170: RuntimeWarning: divide by zero encountered in true_divide\n",
      "  distance = 1 / np.sqrt(freq_upper_triangle)\n",
      "c:\\Users\\mahsh\\Documents\\GitHub\\bugs-in-democracy\\EIL summer 2023\\rcv_dimensionality.py:170: RuntimeWarning: divide by zero encountered in true_divide\n",
      "  distance = 1 / np.sqrt(freq_upper_triangle)\n"
     ]
    },
    {
     "name": "stdout",
     "output_type": "stream",
     "text": [
      "10   Alaska_11082022_HouseDistrict15.csv\n",
      "Empty DataFrame\n",
      "Columns: [candidate, position, first place count, first place freq]\n",
      "Index: []\n"
     ]
    },
    {
     "name": "stderr",
     "output_type": "stream",
     "text": [
      "c:\\Users\\mahsh\\Documents\\GitHub\\bugs-in-democracy\\EIL summer 2023\\rcv_dimensionality.py:170: RuntimeWarning: divide by zero encountered in true_divide\n",
      "  distance = 1 / np.sqrt(freq_upper_triangle)\n"
     ]
    },
    {
     "name": "stdout",
     "output_type": "stream",
     "text": [
      "10   Alaska_11082022_HouseDistrict15.csv\n",
      "                candidate  position  first place count  first place freq  \\\n",
      "0            Wells, Denny       0.0               3386          0.465750   \n",
      "1  McKay, Thomas W. \"Tom\"       2.0               2842          0.390922   \n",
      "2           Eibeck, David  1.206211               1042          0.143329   \n",
      "\n",
      "   len_1  len_2  len_3  \n",
      "0   2366    246    774  \n",
      "1   1010   1354    478  \n",
      "2    305    504    233  \n"
     ]
    },
    {
     "name": "stderr",
     "output_type": "stream",
     "text": [
      "c:\\Users\\mahsh\\Documents\\GitHub\\bugs-in-democracy\\EIL summer 2023\\rcv_dimensionality.py:170: RuntimeWarning: divide by zero encountered in true_divide\n",
      "  distance = 1 / np.sqrt(freq_upper_triangle)\n",
      "c:\\Users\\mahsh\\Documents\\GitHub\\bugs-in-democracy\\EIL summer 2023\\rcv_dimensionality.py:170: RuntimeWarning: divide by zero encountered in true_divide\n",
      "  distance = 1 / np.sqrt(freq_upper_triangle)\n",
      "c:\\Users\\mahsh\\Documents\\GitHub\\bugs-in-democracy\\EIL summer 2023\\rcv_dimensionality.py:170: RuntimeWarning: divide by zero encountered in true_divide\n",
      "  distance = 1 / np.sqrt(freq_upper_triangle)\n",
      "c:\\Users\\mahsh\\Documents\\GitHub\\bugs-in-democracy\\EIL summer 2023\\rcv_dimensionality.py:170: RuntimeWarning: divide by zero encountered in true_divide\n",
      "  distance = 1 / np.sqrt(freq_upper_triangle)\n",
      "c:\\Users\\mahsh\\Documents\\GitHub\\bugs-in-democracy\\EIL summer 2023\\rcv_dimensionality.py:170: RuntimeWarning: divide by zero encountered in true_divide\n",
      "  distance = 1 / np.sqrt(freq_upper_triangle)\n",
      "c:\\Users\\mahsh\\Documents\\GitHub\\bugs-in-democracy\\EIL summer 2023\\rcv_dimensionality.py:170: RuntimeWarning: divide by zero encountered in true_divide\n",
      "  distance = 1 / np.sqrt(freq_upper_triangle)\n",
      "c:\\Users\\mahsh\\Documents\\GitHub\\bugs-in-democracy\\EIL summer 2023\\rcv_dimensionality.py:170: RuntimeWarning: divide by zero encountered in true_divide\n",
      "  distance = 1 / np.sqrt(freq_upper_triangle)\n",
      "c:\\Users\\mahsh\\Documents\\GitHub\\bugs-in-democracy\\EIL summer 2023\\rcv_dimensionality.py:170: RuntimeWarning: divide by zero encountered in true_divide\n",
      "  distance = 1 / np.sqrt(freq_upper_triangle)\n",
      "c:\\Users\\mahsh\\Documents\\GitHub\\bugs-in-democracy\\EIL summer 2023\\rcv_dimensionality.py:170: RuntimeWarning: divide by zero encountered in true_divide\n",
      "  distance = 1 / np.sqrt(freq_upper_triangle)\n"
     ]
    },
    {
     "name": "stdout",
     "output_type": "stream",
     "text": [
      "20   Alaska_11082022_HouseDistrict24.csv\n",
      "Empty DataFrame\n",
      "Columns: [candidate, position, first place count, first place freq]\n",
      "Index: []\n"
     ]
    },
    {
     "name": "stderr",
     "output_type": "stream",
     "text": [
      "c:\\Users\\mahsh\\Documents\\GitHub\\bugs-in-democracy\\EIL summer 2023\\rcv_dimensionality.py:170: RuntimeWarning: divide by zero encountered in true_divide\n",
      "  distance = 1 / np.sqrt(freq_upper_triangle)\n"
     ]
    },
    {
     "name": "stdout",
     "output_type": "stream",
     "text": [
      "20   Alaska_11082022_HouseDistrict24.csv\n",
      "          candidate  position  first place count  first place freq  len_1  \\\n",
      "0  Nelson, Daryl W.       0.0               1623          0.216400    896   \n",
      "1      Saddler, Dan       2.0               3994          0.532533   1599   \n",
      "2   Jackson, Sharon  1.264784               1883          0.251067    630   \n",
      "\n",
      "   len_2  len_3  \n",
      "0    282    445  \n",
      "1   1703    692  \n",
      "2    940    313  \n"
     ]
    },
    {
     "name": "stderr",
     "output_type": "stream",
     "text": [
      "c:\\Users\\mahsh\\Documents\\GitHub\\bugs-in-democracy\\EIL summer 2023\\rcv_dimensionality.py:170: RuntimeWarning: divide by zero encountered in true_divide\n",
      "  distance = 1 / np.sqrt(freq_upper_triangle)\n",
      "c:\\Users\\mahsh\\Documents\\GitHub\\bugs-in-democracy\\EIL summer 2023\\rcv_dimensionality.py:170: RuntimeWarning: divide by zero encountered in true_divide\n",
      "  distance = 1 / np.sqrt(freq_upper_triangle)\n",
      "c:\\Users\\mahsh\\Documents\\GitHub\\bugs-in-democracy\\EIL summer 2023\\rcv_dimensionality.py:170: RuntimeWarning: divide by zero encountered in true_divide\n",
      "  distance = 1 / np.sqrt(freq_upper_triangle)\n",
      "c:\\Users\\mahsh\\Documents\\GitHub\\bugs-in-democracy\\EIL summer 2023\\rcv_dimensionality.py:170: RuntimeWarning: divide by zero encountered in true_divide\n",
      "  distance = 1 / np.sqrt(freq_upper_triangle)\n",
      "c:\\Users\\mahsh\\Documents\\GitHub\\bugs-in-democracy\\EIL summer 2023\\rcv_dimensionality.py:170: RuntimeWarning: divide by zero encountered in true_divide\n",
      "  distance = 1 / np.sqrt(freq_upper_triangle)\n"
     ]
    },
    {
     "name": "stdout",
     "output_type": "stream",
     "text": [
      "Alaska_11082022_HouseDistrict3.csv  threw an exception\n"
     ]
    },
    {
     "name": "stderr",
     "output_type": "stream",
     "text": [
      "c:\\Users\\mahsh\\Documents\\GitHub\\bugs-in-democracy\\EIL summer 2023\\rcv_dimensionality.py:170: RuntimeWarning: divide by zero encountered in true_divide\n",
      "  distance = 1 / np.sqrt(freq_upper_triangle)\n",
      "c:\\Users\\mahsh\\Documents\\GitHub\\bugs-in-democracy\\EIL summer 2023\\rcv_dimensionality.py:170: RuntimeWarning: divide by zero encountered in true_divide\n",
      "  distance = 1 / np.sqrt(freq_upper_triangle)\n",
      "c:\\Users\\mahsh\\Documents\\GitHub\\bugs-in-democracy\\EIL summer 2023\\rcv_dimensionality.py:170: RuntimeWarning: divide by zero encountered in true_divide\n",
      "  distance = 1 / np.sqrt(freq_upper_triangle)\n"
     ]
    },
    {
     "name": "stdout",
     "output_type": "stream",
     "text": [
      "30   Alaska_11082022_HouseDistrict33.csv\n",
      "Empty DataFrame\n",
      "Columns: [candidate, position, first place count, first place freq]\n",
      "Index: []\n",
      "Alaska_11082022_HouseDistrict33.csv  threw an exception\n"
     ]
    },
    {
     "name": "stderr",
     "output_type": "stream",
     "text": [
      "c:\\Users\\mahsh\\Documents\\GitHub\\bugs-in-democracy\\EIL summer 2023\\rcv_dimensionality.py:170: RuntimeWarning: divide by zero encountered in true_divide\n",
      "  distance = 1 / np.sqrt(freq_upper_triangle)\n",
      "c:\\Users\\mahsh\\Documents\\GitHub\\bugs-in-democracy\\EIL summer 2023\\rcv_dimensionality.py:170: RuntimeWarning: divide by zero encountered in true_divide\n",
      "  distance = 1 / np.sqrt(freq_upper_triangle)\n",
      "c:\\Users\\mahsh\\Documents\\GitHub\\bugs-in-democracy\\EIL summer 2023\\rcv_dimensionality.py:170: RuntimeWarning: divide by zero encountered in true_divide\n",
      "  distance = 1 / np.sqrt(freq_upper_triangle)\n"
     ]
    },
    {
     "name": "stdout",
     "output_type": "stream",
     "text": [
      "Alaska_11082022_HouseDistrict37.csv  threw an exception\n",
      "Alaska_11082022_HouseDistrict38.csv  threw an exception\n"
     ]
    },
    {
     "name": "stderr",
     "output_type": "stream",
     "text": [
      "c:\\Users\\mahsh\\Documents\\GitHub\\bugs-in-democracy\\EIL summer 2023\\rcv_dimensionality.py:170: RuntimeWarning: divide by zero encountered in true_divide\n",
      "  distance = 1 / np.sqrt(freq_upper_triangle)\n",
      "c:\\Users\\mahsh\\Documents\\GitHub\\bugs-in-democracy\\EIL summer 2023\\rcv_dimensionality.py:170: RuntimeWarning: divide by zero encountered in true_divide\n",
      "  distance = 1 / np.sqrt(freq_upper_triangle)\n"
     ]
    },
    {
     "name": "stdout",
     "output_type": "stream",
     "text": [
      "Alaska_11082022_HouseDistrict40.csv  threw an exception\n"
     ]
    },
    {
     "name": "stderr",
     "output_type": "stream",
     "text": [
      "c:\\Users\\mahsh\\Documents\\GitHub\\bugs-in-democracy\\EIL summer 2023\\rcv_dimensionality.py:170: RuntimeWarning: divide by zero encountered in true_divide\n",
      "  distance = 1 / np.sqrt(freq_upper_triangle)\n"
     ]
    },
    {
     "name": "stdout",
     "output_type": "stream",
     "text": [
      "40   Alaska_11082022_HouseDistrict6.csv\n",
      "Empty DataFrame\n",
      "Columns: [candidate, position, first place count, first place freq]\n",
      "Index: []\n"
     ]
    },
    {
     "name": "stderr",
     "output_type": "stream",
     "text": [
      "c:\\Users\\mahsh\\Documents\\GitHub\\bugs-in-democracy\\EIL summer 2023\\rcv_dimensionality.py:170: RuntimeWarning: divide by zero encountered in true_divide\n",
      "  distance = 1 / np.sqrt(freq_upper_triangle)\n"
     ]
    },
    {
     "name": "stdout",
     "output_type": "stream",
     "text": [
      "40   Alaska_11082022_HouseDistrict6.csv\n",
      "                 candidate  position  first place count  first place freq  \\\n",
      "0          Vance, Sarah L.       0.0               4962          0.521164   \n",
      "1  Flora, Louis A. \"Louie\"       2.0               4208          0.441970   \n",
      "2           Bryant, Ginger  1.328514                351          0.036866   \n",
      "\n",
      "   len_1  len_2  len_3  \n",
      "0   3909    488    565  \n",
      "1   1707   1677    824  \n",
      "2    125    136     90  \n"
     ]
    },
    {
     "name": "stderr",
     "output_type": "stream",
     "text": [
      "c:\\Users\\mahsh\\Documents\\GitHub\\bugs-in-democracy\\EIL summer 2023\\rcv_dimensionality.py:170: RuntimeWarning: divide by zero encountered in true_divide\n",
      "  distance = 1 / np.sqrt(freq_upper_triangle)\n"
     ]
    },
    {
     "name": "stdout",
     "output_type": "stream",
     "text": [
      "Alaska_11082022_HouseDistrict8.csv  threw an exception\n"
     ]
    },
    {
     "name": "stderr",
     "output_type": "stream",
     "text": [
      "c:\\Users\\mahsh\\Documents\\GitHub\\bugs-in-democracy\\EIL summer 2023\\rcv_dimensionality.py:170: RuntimeWarning: divide by zero encountered in true_divide\n",
      "  distance = 1 / np.sqrt(freq_upper_triangle)\n",
      "c:\\Users\\mahsh\\Documents\\GitHub\\bugs-in-democracy\\EIL summer 2023\\rcv_dimensionality.py:170: RuntimeWarning: divide by zero encountered in true_divide\n",
      "  distance = 1 / np.sqrt(freq_upper_triangle)\n"
     ]
    },
    {
     "name": "stdout",
     "output_type": "stream",
     "text": [
      "Alaska_11082022_SenateDistrictB.csv  threw an exception\n"
     ]
    },
    {
     "name": "stderr",
     "output_type": "stream",
     "text": [
      "c:\\Users\\mahsh\\Documents\\GitHub\\bugs-in-democracy\\EIL summer 2023\\rcv_dimensionality.py:170: RuntimeWarning: divide by zero encountered in true_divide\n",
      "  distance = 1 / np.sqrt(freq_upper_triangle)\n",
      "c:\\Users\\mahsh\\Documents\\GitHub\\bugs-in-democracy\\EIL summer 2023\\rcv_dimensionality.py:170: RuntimeWarning: divide by zero encountered in true_divide\n",
      "  distance = 1 / np.sqrt(freq_upper_triangle)\n",
      "c:\\Users\\mahsh\\Documents\\GitHub\\bugs-in-democracy\\EIL summer 2023\\rcv_dimensionality.py:170: RuntimeWarning: divide by zero encountered in true_divide\n",
      "  distance = 1 / np.sqrt(freq_upper_triangle)\n",
      "c:\\Users\\mahsh\\Documents\\GitHub\\bugs-in-democracy\\EIL summer 2023\\rcv_dimensionality.py:170: RuntimeWarning: divide by zero encountered in true_divide\n",
      "  distance = 1 / np.sqrt(freq_upper_triangle)\n"
     ]
    },
    {
     "name": "stdout",
     "output_type": "stream",
     "text": [
      "50   Alaska_11082022_SenateDistrictG.csv\n",
      "Empty DataFrame\n",
      "Columns: [candidate, position, first place count, first place freq]\n",
      "Index: []\n"
     ]
    },
    {
     "name": "stderr",
     "output_type": "stream",
     "text": [
      "c:\\Users\\mahsh\\Documents\\GitHub\\bugs-in-democracy\\EIL summer 2023\\rcv_dimensionality.py:170: RuntimeWarning: divide by zero encountered in true_divide\n",
      "  distance = 1 / np.sqrt(freq_upper_triangle)\n"
     ]
    },
    {
     "name": "stdout",
     "output_type": "stream",
     "text": [
      "50   Alaska_11082022_SenateDistrictG.csv\n",
      "            candidate position  first place count  first place freq  len_1  \\\n",
      "0  Gray-Jackson, Elvi      1.0               6350          0.566863   4705   \n",
      "1  Sanders, Marcus D.      0.0               4852          0.433137   3899   \n",
      "\n",
      "   len_2  \n",
      "0   1645  \n",
      "1    953  \n"
     ]
    },
    {
     "name": "stderr",
     "output_type": "stream",
     "text": [
      "c:\\Users\\mahsh\\Documents\\GitHub\\bugs-in-democracy\\EIL summer 2023\\rcv_dimensionality.py:170: RuntimeWarning: divide by zero encountered in true_divide\n",
      "  distance = 1 / np.sqrt(freq_upper_triangle)\n",
      "c:\\Users\\mahsh\\Documents\\GitHub\\bugs-in-democracy\\EIL summer 2023\\rcv_dimensionality.py:170: RuntimeWarning: divide by zero encountered in true_divide\n",
      "  distance = 1 / np.sqrt(freq_upper_triangle)\n",
      "c:\\Users\\mahsh\\Documents\\GitHub\\bugs-in-democracy\\EIL summer 2023\\rcv_dimensionality.py:170: RuntimeWarning: divide by zero encountered in true_divide\n",
      "  distance = 1 / np.sqrt(freq_upper_triangle)\n",
      "c:\\Users\\mahsh\\Documents\\GitHub\\bugs-in-democracy\\EIL summer 2023\\rcv_dimensionality.py:170: RuntimeWarning: divide by zero encountered in true_divide\n",
      "  distance = 1 / np.sqrt(freq_upper_triangle)\n",
      "c:\\Users\\mahsh\\Documents\\GitHub\\bugs-in-democracy\\EIL summer 2023\\rcv_dimensionality.py:170: RuntimeWarning: divide by zero encountered in true_divide\n",
      "  distance = 1 / np.sqrt(freq_upper_triangle)\n",
      "c:\\Users\\mahsh\\Documents\\GitHub\\bugs-in-democracy\\EIL summer 2023\\rcv_dimensionality.py:170: RuntimeWarning: divide by zero encountered in true_divide\n",
      "  distance = 1 / np.sqrt(freq_upper_triangle)\n",
      "c:\\Users\\mahsh\\Documents\\GitHub\\bugs-in-democracy\\EIL summer 2023\\rcv_dimensionality.py:170: RuntimeWarning: divide by zero encountered in true_divide\n",
      "  distance = 1 / np.sqrt(freq_upper_triangle)\n",
      "c:\\Users\\mahsh\\Documents\\GitHub\\bugs-in-democracy\\EIL summer 2023\\rcv_dimensionality.py:170: RuntimeWarning: divide by zero encountered in true_divide\n",
      "  distance = 1 / np.sqrt(freq_upper_triangle)\n",
      "c:\\Users\\mahsh\\Documents\\GitHub\\bugs-in-democracy\\EIL summer 2023\\rcv_dimensionality.py:170: RuntimeWarning: divide by zero encountered in true_divide\n",
      "  distance = 1 / np.sqrt(freq_upper_triangle)\n"
     ]
    },
    {
     "name": "stdout",
     "output_type": "stream",
     "text": [
      "60   Alaska_11082022_SenateDistrictQ.csv\n",
      "Empty DataFrame\n",
      "Columns: [candidate, position, first place count, first place freq]\n",
      "Index: []\n"
     ]
    },
    {
     "name": "stderr",
     "output_type": "stream",
     "text": [
      "c:\\Users\\mahsh\\Documents\\GitHub\\bugs-in-democracy\\EIL summer 2023\\rcv_dimensionality.py:170: RuntimeWarning: divide by zero encountered in true_divide\n",
      "  distance = 1 / np.sqrt(freq_upper_triangle)\n"
     ]
    },
    {
     "name": "stdout",
     "output_type": "stream",
     "text": [
      "60   Alaska_11082022_SenateDistrictQ.csv\n",
      "              candidate  position  first place count  first place freq  len_1  \\\n",
      "0  Myers, Robert H. Jr.       0.0               8158          0.627780   5787   \n",
      "1      Bennett, John D.       2.0               4031          0.310196   2348   \n",
      "2     Serkov, Arthur P.  1.058356                806          0.062024    269   \n",
      "\n",
      "   len_2  len_3  \n",
      "0    888   1483  \n",
      "1    750    933  \n",
      "2    211    326  \n"
     ]
    },
    {
     "name": "stderr",
     "output_type": "stream",
     "text": [
      "c:\\Users\\mahsh\\Documents\\GitHub\\bugs-in-democracy\\EIL summer 2023\\rcv_dimensionality.py:170: RuntimeWarning: divide by zero encountered in true_divide\n",
      "  distance = 1 / np.sqrt(freq_upper_triangle)\n",
      "c:\\Users\\mahsh\\Documents\\GitHub\\bugs-in-democracy\\EIL summer 2023\\rcv_dimensionality.py:170: RuntimeWarning: divide by zero encountered in true_divide\n",
      "  distance = 1 / np.sqrt(freq_upper_triangle)\n",
      "c:\\Users\\mahsh\\Documents\\GitHub\\bugs-in-democracy\\EIL summer 2023\\rcv_dimensionality.py:170: RuntimeWarning: divide by zero encountered in true_divide\n",
      "  distance = 1 / np.sqrt(freq_upper_triangle)\n",
      "c:\\Users\\mahsh\\Documents\\GitHub\\bugs-in-democracy\\EIL summer 2023\\rcv_dimensionality.py:170: RuntimeWarning: divide by zero encountered in true_divide\n",
      "  distance = 1 / np.sqrt(freq_upper_triangle)\n",
      "c:\\Users\\mahsh\\Documents\\GitHub\\bugs-in-democracy\\EIL summer 2023\\rcv_dimensionality.py:170: RuntimeWarning: divide by zero encountered in true_divide\n",
      "  distance = 1 / np.sqrt(freq_upper_triangle)\n",
      "c:\\Users\\mahsh\\Documents\\GitHub\\bugs-in-democracy\\EIL summer 2023\\rcv_dimensionality.py:170: RuntimeWarning: divide by zero encountered in true_divide\n",
      "  distance = 1 / np.sqrt(freq_upper_triangle)\n",
      "c:\\Users\\mahsh\\Documents\\GitHub\\bugs-in-democracy\\EIL summer 2023\\rcv_dimensionality.py:170: RuntimeWarning: divide by zero encountered in true_divide\n",
      "  distance = 1 / np.sqrt(freq_upper_triangle)\n",
      "c:\\Users\\mahsh\\Documents\\GitHub\\bugs-in-democracy\\EIL summer 2023\\rcv_dimensionality.py:170: RuntimeWarning: divide by zero encountered in true_divide\n",
      "  distance = 1 / np.sqrt(freq_upper_triangle)\n"
     ]
    },
    {
     "name": "stdout",
     "output_type": "stream",
     "text": [
      "Berkeley_11022010_CityAuditor.csv  threw an exception\n",
      "70   Berkeley_11022010_CityCouncilDistrict1.csv\n",
      "Empty DataFrame\n",
      "Columns: [candidate, position, first place count, first place freq]\n",
      "Index: []\n"
     ]
    },
    {
     "name": "stderr",
     "output_type": "stream",
     "text": [
      "c:\\Users\\mahsh\\Documents\\GitHub\\bugs-in-democracy\\EIL summer 2023\\rcv_dimensionality.py:170: RuntimeWarning: divide by zero encountered in true_divide\n",
      "  distance = 1 / np.sqrt(freq_upper_triangle)\n"
     ]
    },
    {
     "name": "stdout",
     "output_type": "stream",
     "text": [
      "70   Berkeley_11022010_CityCouncilDistrict1.csv\n",
      "           candidate  position  first place count  first place freq  len_1  \\\n",
      "0         LINDA MAIO  0.874876               3735          0.656877   1733   \n",
      "1  MERRILIE MITCHELL       0.0                478          0.084066     55   \n",
      "2    JASPER KINGETER  1.334865               1280          0.225114    248   \n",
      "3  ANTHONY Di DONATO       3.0                193          0.033943     44   \n",
      "\n",
      "   len_2  len_3  len_4  \n",
      "0    530   1472     -1  \n",
      "1    116    307     -1  \n",
      "2    300    732     -1  \n",
      "3     32    117     -1  \n"
     ]
    },
    {
     "name": "stderr",
     "output_type": "stream",
     "text": [
      "c:\\Users\\mahsh\\Documents\\GitHub\\bugs-in-democracy\\EIL summer 2023\\rcv_dimensionality.py:170: RuntimeWarning: divide by zero encountered in true_divide\n",
      "  distance = 1 / np.sqrt(freq_upper_triangle)\n",
      "c:\\Users\\mahsh\\Documents\\GitHub\\bugs-in-democracy\\EIL summer 2023\\rcv_dimensionality.py:170: RuntimeWarning: divide by zero encountered in true_divide\n",
      "  distance = 1 / np.sqrt(freq_upper_triangle)\n",
      "c:\\Users\\mahsh\\Documents\\GitHub\\bugs-in-democracy\\EIL summer 2023\\rcv_dimensionality.py:170: RuntimeWarning: divide by zero encountered in true_divide\n",
      "  distance = 1 / np.sqrt(freq_upper_triangle)\n",
      "c:\\Users\\mahsh\\Documents\\GitHub\\bugs-in-democracy\\EIL summer 2023\\rcv_dimensionality.py:170: RuntimeWarning: divide by zero encountered in true_divide\n",
      "  distance = 1 / np.sqrt(freq_upper_triangle)\n",
      "c:\\Users\\mahsh\\Documents\\GitHub\\bugs-in-democracy\\EIL summer 2023\\rcv_dimensionality.py:170: RuntimeWarning: divide by zero encountered in true_divide\n",
      "  distance = 1 / np.sqrt(freq_upper_triangle)\n",
      "c:\\Users\\mahsh\\Documents\\GitHub\\bugs-in-democracy\\EIL summer 2023\\rcv_dimensionality.py:170: RuntimeWarning: divide by zero encountered in true_divide\n",
      "  distance = 1 / np.sqrt(freq_upper_triangle)\n",
      "c:\\Users\\mahsh\\Documents\\GitHub\\bugs-in-democracy\\EIL summer 2023\\rcv_dimensionality.py:170: RuntimeWarning: divide by zero encountered in true_divide\n",
      "  distance = 1 / np.sqrt(freq_upper_triangle)\n",
      "c:\\Users\\mahsh\\Documents\\GitHub\\bugs-in-democracy\\EIL summer 2023\\rcv_dimensionality.py:170: RuntimeWarning: divide by zero encountered in true_divide\n",
      "  distance = 1 / np.sqrt(freq_upper_triangle)\n"
     ]
    },
    {
     "name": "stdout",
     "output_type": "stream",
     "text": [
      "Berkeley_11042014_CityAuditor.csv  threw an exception\n",
      "80   Berkeley_11042014_CityCouncilDistrict1.csv\n",
      "Empty DataFrame\n",
      "Columns: [candidate, position, first place count, first place freq]\n",
      "Index: []\n"
     ]
    },
    {
     "name": "stderr",
     "output_type": "stream",
     "text": [
      "c:\\Users\\mahsh\\Documents\\GitHub\\bugs-in-democracy\\EIL summer 2023\\rcv_dimensionality.py:170: RuntimeWarning: divide by zero encountered in true_divide\n",
      "  distance = 1 / np.sqrt(freq_upper_triangle)\n"
     ]
    },
    {
     "name": "stdout",
     "output_type": "stream",
     "text": [
      "80   Berkeley_11042014_CityCouncilDistrict1.csv\n",
      "              candidate  position  first place count  first place freq  len_1  \\\n",
      "0  ALEJANDRO SOTO-VIGIL       2.0               2270          0.407467    683   \n",
      "1            LINDA MAIO  1.219916               3044          0.546401   1194   \n",
      "2     MERRILIE MITCHELL       0.0                257          0.046132     80   \n",
      "\n",
      "   len_2  len_3  \n",
      "0    598    989  \n",
      "1    692   1158  \n",
      "2     51    126  \n"
     ]
    },
    {
     "name": "stderr",
     "output_type": "stream",
     "text": [
      "c:\\Users\\mahsh\\Documents\\GitHub\\bugs-in-democracy\\EIL summer 2023\\rcv_dimensionality.py:170: RuntimeWarning: divide by zero encountered in true_divide\n",
      "  distance = 1 / np.sqrt(freq_upper_triangle)\n",
      "c:\\Users\\mahsh\\Documents\\GitHub\\bugs-in-democracy\\EIL summer 2023\\rcv_dimensionality.py:170: RuntimeWarning: divide by zero encountered in true_divide\n",
      "  distance = 1 / np.sqrt(freq_upper_triangle)\n",
      "c:\\Users\\mahsh\\Documents\\GitHub\\bugs-in-democracy\\EIL summer 2023\\rcv_dimensionality.py:170: RuntimeWarning: divide by zero encountered in true_divide\n",
      "  distance = 1 / np.sqrt(freq_upper_triangle)\n",
      "c:\\Users\\mahsh\\Documents\\GitHub\\bugs-in-democracy\\EIL summer 2023\\rcv_dimensionality.py:170: RuntimeWarning: divide by zero encountered in true_divide\n",
      "  distance = 1 / np.sqrt(freq_upper_triangle)\n",
      "c:\\Users\\mahsh\\Documents\\GitHub\\bugs-in-democracy\\EIL summer 2023\\rcv_dimensionality.py:170: RuntimeWarning: divide by zero encountered in true_divide\n",
      "  distance = 1 / np.sqrt(freq_upper_triangle)\n",
      "c:\\Users\\mahsh\\Documents\\GitHub\\bugs-in-democracy\\EIL summer 2023\\rcv_dimensionality.py:170: RuntimeWarning: divide by zero encountered in true_divide\n",
      "  distance = 1 / np.sqrt(freq_upper_triangle)\n",
      "c:\\Users\\mahsh\\Documents\\GitHub\\bugs-in-democracy\\EIL summer 2023\\rcv_dimensionality.py:170: RuntimeWarning: divide by zero encountered in true_divide\n",
      "  distance = 1 / np.sqrt(freq_upper_triangle)\n",
      "c:\\Users\\mahsh\\Documents\\GitHub\\bugs-in-democracy\\EIL summer 2023\\rcv_dimensionality.py:170: RuntimeWarning: divide by zero encountered in true_divide\n",
      "  distance = 1 / np.sqrt(freq_upper_triangle)\n",
      "c:\\Users\\mahsh\\Documents\\GitHub\\bugs-in-democracy\\EIL summer 2023\\rcv_dimensionality.py:170: RuntimeWarning: divide by zero encountered in true_divide\n",
      "  distance = 1 / np.sqrt(freq_upper_triangle)\n"
     ]
    },
    {
     "name": "stdout",
     "output_type": "stream",
     "text": [
      "90   Berkeley_11062018_CityCouncilDistrict4.csv\n",
      "Empty DataFrame\n",
      "Columns: [candidate, position, first place count, first place freq]\n",
      "Index: []\n"
     ]
    },
    {
     "name": "stderr",
     "output_type": "stream",
     "text": [
      "c:\\Users\\mahsh\\Documents\\GitHub\\bugs-in-democracy\\EIL summer 2023\\rcv_dimensionality.py:170: RuntimeWarning: divide by zero encountered in true_divide\n",
      "  distance = 1 / np.sqrt(freq_upper_triangle)\n"
     ]
    },
    {
     "name": "stdout",
     "output_type": "stream",
     "text": [
      "90   Berkeley_11062018_CityCouncilDistrict4.csv\n",
      "         candidate  position  first place count  first place freq  len_1  \\\n",
      "0        BEN GOULD  0.974768               1917          0.349562    271   \n",
      "1    KATE HARRISON       0.0               2896          0.528082    914   \n",
      "2  GREGORY MAGOFNA       2.0                671          0.122356     65   \n",
      "\n",
      "   len_2  len_3  \n",
      "0    542   1104  \n",
      "1    493   1489  \n",
      "2    230    376  \n"
     ]
    },
    {
     "name": "stderr",
     "output_type": "stream",
     "text": [
      "c:\\Users\\mahsh\\Documents\\GitHub\\bugs-in-democracy\\EIL summer 2023\\rcv_dimensionality.py:170: RuntimeWarning: divide by zero encountered in true_divide\n",
      "  distance = 1 / np.sqrt(freq_upper_triangle)\n",
      "c:\\Users\\mahsh\\Documents\\GitHub\\bugs-in-democracy\\EIL summer 2023\\rcv_dimensionality.py:170: RuntimeWarning: divide by zero encountered in true_divide\n",
      "  distance = 1 / np.sqrt(freq_upper_triangle)\n",
      "c:\\Users\\mahsh\\Documents\\GitHub\\bugs-in-democracy\\EIL summer 2023\\rcv_dimensionality.py:170: RuntimeWarning: divide by zero encountered in true_divide\n",
      "  distance = 1 / np.sqrt(freq_upper_triangle)\n",
      "c:\\Users\\mahsh\\Documents\\GitHub\\bugs-in-democracy\\EIL summer 2023\\rcv_dimensionality.py:170: RuntimeWarning: divide by zero encountered in true_divide\n",
      "  distance = 1 / np.sqrt(freq_upper_triangle)\n",
      "c:\\Users\\mahsh\\Documents\\GitHub\\bugs-in-democracy\\EIL summer 2023\\rcv_dimensionality.py:170: RuntimeWarning: divide by zero encountered in true_divide\n",
      "  distance = 1 / np.sqrt(freq_upper_triangle)\n",
      "c:\\Users\\mahsh\\Documents\\GitHub\\bugs-in-democracy\\EIL summer 2023\\rcv_dimensionality.py:170: RuntimeWarning: divide by zero encountered in true_divide\n",
      "  distance = 1 / np.sqrt(freq_upper_triangle)\n",
      "c:\\Users\\mahsh\\Documents\\GitHub\\bugs-in-democracy\\EIL summer 2023\\rcv_dimensionality.py:170: RuntimeWarning: divide by zero encountered in true_divide\n",
      "  distance = 1 / np.sqrt(freq_upper_triangle)\n",
      "c:\\Users\\mahsh\\Documents\\GitHub\\bugs-in-democracy\\EIL summer 2023\\rcv_dimensionality.py:170: RuntimeWarning: divide by zero encountered in true_divide\n",
      "  distance = 1 / np.sqrt(freq_upper_triangle)\n",
      "c:\\Users\\mahsh\\Documents\\GitHub\\bugs-in-democracy\\EIL summer 2023\\rcv_dimensionality.py:170: RuntimeWarning: divide by zero encountered in true_divide\n",
      "  distance = 1 / np.sqrt(freq_upper_triangle)\n"
     ]
    },
    {
     "name": "stdout",
     "output_type": "stream",
     "text": [
      "100   Burlington_03072023_CityCouncilCentralDistrict.csv\n",
      "Empty DataFrame\n",
      "Columns: [candidate, position, first place count, first place freq]\n",
      "Index: []\n"
     ]
    },
    {
     "name": "stderr",
     "output_type": "stream",
     "text": [
      "c:\\Users\\mahsh\\Documents\\GitHub\\bugs-in-democracy\\EIL summer 2023\\rcv_dimensionality.py:170: RuntimeWarning: divide by zero encountered in true_divide\n",
      "  distance = 1 / np.sqrt(freq_upper_triangle)\n"
     ]
    },
    {
     "name": "stdout",
     "output_type": "stream",
     "text": [
      "100   Burlington_03072023_CityCouncilCentralDistrict.csv\n",
      "       candidate position  first place count  first place freq  len_1  len_2\n",
      "0     MELO GRANT      1.0               1416          0.664477    604    812\n",
      "1  AVERY MUZIKAR      0.0                715          0.335523    397    318\n"
     ]
    },
    {
     "name": "stderr",
     "output_type": "stream",
     "text": [
      "c:\\Users\\mahsh\\Documents\\GitHub\\bugs-in-democracy\\EIL summer 2023\\rcv_dimensionality.py:170: RuntimeWarning: divide by zero encountered in true_divide\n",
      "  distance = 1 / np.sqrt(freq_upper_triangle)\n"
     ]
    },
    {
     "name": "stdout",
     "output_type": "stream",
     "text": [
      "Burlington_03072023_CityCouncilNorthDistrict.csv  threw an exception\n"
     ]
    },
    {
     "name": "stderr",
     "output_type": "stream",
     "text": [
      "c:\\Users\\mahsh\\Documents\\GitHub\\bugs-in-democracy\\EIL summer 2023\\rcv_dimensionality.py:170: RuntimeWarning: divide by zero encountered in true_divide\n",
      "  distance = 1 / np.sqrt(freq_upper_triangle)\n",
      "c:\\Users\\mahsh\\Documents\\GitHub\\bugs-in-democracy\\EIL summer 2023\\rcv_dimensionality.py:170: RuntimeWarning: divide by zero encountered in true_divide\n",
      "  distance = 1 / np.sqrt(freq_upper_triangle)\n",
      "c:\\Users\\mahsh\\Documents\\GitHub\\bugs-in-democracy\\EIL summer 2023\\rcv_dimensionality.py:170: RuntimeWarning: divide by zero encountered in true_divide\n",
      "  distance = 1 / np.sqrt(freq_upper_triangle)\n",
      "c:\\Users\\mahsh\\Documents\\GitHub\\bugs-in-democracy\\EIL summer 2023\\rcv_dimensionality.py:159: RuntimeWarning: divide by zero encountered in true_divide\n",
      "  frequencies = counts / mentioned_together\n",
      "c:\\Users\\mahsh\\Documents\\GitHub\\bugs-in-democracy\\EIL summer 2023\\rcv_dimensionality.py:159: RuntimeWarning: invalid value encountered in true_divide\n",
      "  frequencies = counts / mentioned_together\n",
      "c:\\Users\\mahsh\\Documents\\GitHub\\bugs-in-democracy\\EIL summer 2023\\rcv_dimensionality.py:170: RuntimeWarning: divide by zero encountered in true_divide\n",
      "  distance = 1 / np.sqrt(freq_upper_triangle)\n",
      "c:\\Users\\mahsh\\Documents\\GitHub\\bugs-in-democracy\\EIL summer 2023\\rcv_dimensionality.py:170: RuntimeWarning: divide by zero encountered in true_divide\n",
      "  distance = 1 / np.sqrt(freq_upper_triangle)\n",
      "c:\\Users\\mahsh\\Documents\\GitHub\\bugs-in-democracy\\EIL summer 2023\\rcv_dimensionality.py:170: RuntimeWarning: divide by zero encountered in true_divide\n",
      "  distance = 1 / np.sqrt(freq_upper_triangle)\n",
      "c:\\Users\\mahsh\\Documents\\GitHub\\bugs-in-democracy\\EIL summer 2023\\rcv_dimensionality.py:170: RuntimeWarning: divide by zero encountered in true_divide\n",
      "  distance = 1 / np.sqrt(freq_upper_triangle)\n"
     ]
    },
    {
     "name": "stdout",
     "output_type": "stream",
     "text": [
      "110   Hawaii_05232020_PresidentoftheUnitedStateCD1CD2.csv\n",
      "Empty DataFrame\n",
      "Columns: [candidate, position, first place count, first place freq]\n",
      "Index: []\n"
     ]
    },
    {
     "name": "stderr",
     "output_type": "stream",
     "text": [
      "c:\\Users\\mahsh\\Documents\\GitHub\\bugs-in-democracy\\EIL summer 2023\\rcv_dimensionality.py:170: RuntimeWarning: divide by zero encountered in true_divide\n",
      "  distance = 1 / np.sqrt(freq_upper_triangle)\n"
     ]
    },
    {
     "name": "stdout",
     "output_type": "stream",
     "text": [
      "110   Hawaii_05232020_PresidentoftheUnitedStateCD1CD2.csv\n",
      "           candidate  position  first place count  first place freq  len_1  \\\n",
      "0    Joseph R. Biden  2.533292              19593          0.560184   9778   \n",
      "1         Michael R.       0.0                460          0.013152     78   \n",
      "2     Bernie Sanders  2.090535              10777          0.308126   3045   \n",
      "3   Elizabeth Warren  2.807716               1689          0.048290     87   \n",
      "4        Andrew Yang  2.635907                340          0.009721     42   \n",
      "5        Uncommitted  1.859942                291          0.008320    237   \n",
      "6      Tulsi Gabbard   2.41576               1377          0.039370    435   \n",
      "7     Pete Buttigieg   2.89083                311          0.008892     28   \n",
      "8         Tom Steyer   1.22695                 34          0.000972      2   \n",
      "9      Amy Klobuchar  2.891832                 93          0.002659      7   \n",
      "10     Deval Patrick      10.0                 11          0.000315      1   \n",
      "\n",
      "    len_2  len_3  len_4  len_5  len_6  len_7  len_8  len_9  len_10  len_11  \n",
      "0    3359   6456     -1     -1     -1     -1     -1     -1      -1      -1  \n",
      "1      80    302     -1     -1     -1     -1     -1     -1      -1      -1  \n",
      "2    2433   5299     -1     -1     -1     -1     -1     -1      -1      -1  \n",
      "3     219   1383     -1     -1     -1     -1     -1     -1      -1      -1  \n",
      "4      39    259     -1     -1     -1     -1     -1     -1      -1      -1  \n",
      "5      14     40     -1     -1     -1     -1     -1     -1      -1      -1  \n",
      "6     216    726     -1     -1     -1     -1     -1     -1      -1      -1  \n",
      "7      38    245     -1     -1     -1     -1     -1     -1      -1      -1  \n",
      "8       8     24     -1     -1     -1     -1     -1     -1      -1      -1  \n",
      "9      12     74     -1     -1     -1     -1     -1     -1      -1      -1  \n",
      "10      1      9     -1     -1     -1     -1     -1     -1      -1      -1  \n"
     ]
    },
    {
     "name": "stderr",
     "output_type": "stream",
     "text": [
      "c:\\Users\\mahsh\\Documents\\GitHub\\bugs-in-democracy\\EIL summer 2023\\rcv_dimensionality.py:170: RuntimeWarning: divide by zero encountered in true_divide\n",
      "  distance = 1 / np.sqrt(freq_upper_triangle)\n",
      "c:\\Users\\mahsh\\Documents\\GitHub\\bugs-in-democracy\\EIL summer 2023\\rcv_dimensionality.py:170: RuntimeWarning: divide by zero encountered in true_divide\n",
      "  distance = 1 / np.sqrt(freq_upper_triangle)\n",
      "c:\\Users\\mahsh\\Documents\\GitHub\\bugs-in-democracy\\EIL summer 2023\\rcv_dimensionality.py:170: RuntimeWarning: divide by zero encountered in true_divide\n",
      "  distance = 1 / np.sqrt(freq_upper_triangle)\n",
      "c:\\Users\\mahsh\\Documents\\GitHub\\bugs-in-democracy\\EIL summer 2023\\rcv_dimensionality.py:170: RuntimeWarning: divide by zero encountered in true_divide\n",
      "  distance = 1 / np.sqrt(freq_upper_triangle)\n",
      "c:\\Users\\mahsh\\Documents\\GitHub\\bugs-in-democracy\\EIL summer 2023\\rcv_dimensionality.py:170: RuntimeWarning: divide by zero encountered in true_divide\n",
      "  distance = 1 / np.sqrt(freq_upper_triangle)\n",
      "c:\\Users\\mahsh\\Documents\\GitHub\\bugs-in-democracy\\EIL summer 2023\\rcv_dimensionality.py:170: RuntimeWarning: divide by zero encountered in true_divide\n",
      "  distance = 1 / np.sqrt(freq_upper_triangle)\n",
      "c:\\Users\\mahsh\\Documents\\GitHub\\bugs-in-democracy\\EIL summer 2023\\rcv_dimensionality.py:170: RuntimeWarning: divide by zero encountered in true_divide\n",
      "  distance = 1 / np.sqrt(freq_upper_triangle)\n",
      "c:\\Users\\mahsh\\Documents\\GitHub\\bugs-in-democracy\\EIL summer 2023\\rcv_dimensionality.py:170: RuntimeWarning: divide by zero encountered in true_divide\n",
      "  distance = 1 / np.sqrt(freq_upper_triangle)\n",
      "c:\\Users\\mahsh\\Documents\\GitHub\\bugs-in-democracy\\EIL summer 2023\\rcv_dimensionality.py:170: RuntimeWarning: divide by zero encountered in true_divide\n",
      "  distance = 1 / np.sqrt(freq_upper_triangle)\n"
     ]
    },
    {
     "name": "stdout",
     "output_type": "stream",
     "text": [
      "120   Maine_07142020_DemocraticCandidateforMaineStateHouseDistrict49.csv\n",
      "Empty DataFrame\n",
      "Columns: [candidate, position, first place count, first place freq]\n",
      "Index: []\n"
     ]
    },
    {
     "name": "stderr",
     "output_type": "stream",
     "text": [
      "c:\\Users\\mahsh\\Documents\\GitHub\\bugs-in-democracy\\EIL summer 2023\\rcv_dimensionality.py:170: RuntimeWarning: divide by zero encountered in true_divide\n",
      "  distance = 1 / np.sqrt(freq_upper_triangle)\n"
     ]
    },
    {
     "name": "stdout",
     "output_type": "stream",
     "text": [
      "120   Maine_07142020_DemocraticCandidateforMaineStateHouseDistrict49.csv\n",
      "                candidate  position  first place count  first place freq  \\\n",
      "0           Arford, Poppy       0.0                899          0.413904   \n",
      "1  Perreault, Corinne Ann  0.977607                616          0.283610   \n",
      "2    Wilson, Katherine E.       2.0                657          0.302486   \n",
      "\n",
      "   len_1  len_2  len_3  \n",
      "0    178    108    613  \n",
      "1     94     91    431  \n",
      "2    139     69    449  \n"
     ]
    },
    {
     "name": "stderr",
     "output_type": "stream",
     "text": [
      "c:\\Users\\mahsh\\Documents\\GitHub\\bugs-in-democracy\\EIL summer 2023\\rcv_dimensionality.py:170: RuntimeWarning: divide by zero encountered in true_divide\n",
      "  distance = 1 / np.sqrt(freq_upper_triangle)\n",
      "c:\\Users\\mahsh\\Documents\\GitHub\\bugs-in-democracy\\EIL summer 2023\\rcv_dimensionality.py:170: RuntimeWarning: divide by zero encountered in true_divide\n",
      "  distance = 1 / np.sqrt(freq_upper_triangle)\n",
      "c:\\Users\\mahsh\\Documents\\GitHub\\bugs-in-democracy\\EIL summer 2023\\rcv_dimensionality.py:170: RuntimeWarning: divide by zero encountered in true_divide\n",
      "  distance = 1 / np.sqrt(freq_upper_triangle)\n",
      "c:\\Users\\mahsh\\Documents\\GitHub\\bugs-in-democracy\\EIL summer 2023\\rcv_dimensionality.py:170: RuntimeWarning: divide by zero encountered in true_divide\n",
      "  distance = 1 / np.sqrt(freq_upper_triangle)\n",
      "c:\\Users\\mahsh\\Documents\\GitHub\\bugs-in-democracy\\EIL summer 2023\\rcv_dimensionality.py:170: RuntimeWarning: divide by zero encountered in true_divide\n",
      "  distance = 1 / np.sqrt(freq_upper_triangle)\n",
      "c:\\Users\\mahsh\\Documents\\GitHub\\bugs-in-democracy\\EIL summer 2023\\rcv_dimensionality.py:170: RuntimeWarning: divide by zero encountered in true_divide\n",
      "  distance = 1 / np.sqrt(freq_upper_triangle)\n",
      "c:\\Users\\mahsh\\Documents\\GitHub\\bugs-in-democracy\\EIL summer 2023\\rcv_dimensionality.py:170: RuntimeWarning: divide by zero encountered in true_divide\n",
      "  distance = 1 / np.sqrt(freq_upper_triangle)\n",
      "c:\\Users\\mahsh\\Documents\\GitHub\\bugs-in-democracy\\EIL summer 2023\\rcv_dimensionality.py:170: RuntimeWarning: divide by zero encountered in true_divide\n",
      "  distance = 1 / np.sqrt(freq_upper_triangle)\n",
      "c:\\Users\\mahsh\\Documents\\GitHub\\bugs-in-democracy\\EIL summer 2023\\rcv_dimensionality.py:170: RuntimeWarning: divide by zero encountered in true_divide\n",
      "  distance = 1 / np.sqrt(freq_upper_triangle)\n"
     ]
    },
    {
     "name": "stdout",
     "output_type": "stream",
     "text": [
      "130   Minneapolis_11022021_CityCouncilWard12.csv\n",
      "Empty DataFrame\n",
      "Columns: [candidate, position, first place count, first place freq]\n",
      "Index: []\n"
     ]
    },
    {
     "name": "stderr",
     "output_type": "stream",
     "text": [
      "c:\\Users\\mahsh\\Documents\\GitHub\\bugs-in-democracy\\EIL summer 2023\\rcv_dimensionality.py:170: RuntimeWarning: divide by zero encountered in true_divide\n",
      "  distance = 1 / np.sqrt(freq_upper_triangle)\n"
     ]
    },
    {
     "name": "stdout",
     "output_type": "stream",
     "text": [
      "130   Minneapolis_11022021_CityCouncilWard12.csv\n",
      "         candidate  position  first place count  first place freq  len_1  \\\n",
      "0       Nancy Ford       2.0               4583          0.299151   2470   \n",
      "1   Andrew Johnson  1.030679               9958          0.650000   6183   \n",
      "2  David Rosenfeld       0.0                779          0.050849    209   \n",
      "\n",
      "   len_2  len_3  \n",
      "0   1344    769  \n",
      "1   2247   1528  \n",
      "2    327    243  \n"
     ]
    },
    {
     "name": "stderr",
     "output_type": "stream",
     "text": [
      "c:\\Users\\mahsh\\Documents\\GitHub\\bugs-in-democracy\\EIL summer 2023\\rcv_dimensionality.py:170: RuntimeWarning: divide by zero encountered in true_divide\n",
      "  distance = 1 / np.sqrt(freq_upper_triangle)\n",
      "c:\\Users\\mahsh\\Documents\\GitHub\\bugs-in-democracy\\EIL summer 2023\\rcv_dimensionality.py:170: RuntimeWarning: divide by zero encountered in true_divide\n",
      "  distance = 1 / np.sqrt(freq_upper_triangle)\n",
      "c:\\Users\\mahsh\\Documents\\GitHub\\bugs-in-democracy\\EIL summer 2023\\rcv_dimensionality.py:170: RuntimeWarning: divide by zero encountered in true_divide\n",
      "  distance = 1 / np.sqrt(freq_upper_triangle)\n",
      "c:\\Users\\mahsh\\Documents\\GitHub\\bugs-in-democracy\\EIL summer 2023\\rcv_dimensionality.py:170: RuntimeWarning: divide by zero encountered in true_divide\n",
      "  distance = 1 / np.sqrt(freq_upper_triangle)\n",
      "c:\\Users\\mahsh\\Documents\\GitHub\\bugs-in-democracy\\EIL summer 2023\\rcv_dimensionality.py:170: RuntimeWarning: divide by zero encountered in true_divide\n",
      "  distance = 1 / np.sqrt(freq_upper_triangle)\n",
      "c:\\Users\\mahsh\\Documents\\GitHub\\bugs-in-democracy\\EIL summer 2023\\rcv_dimensionality.py:170: RuntimeWarning: divide by zero encountered in true_divide\n",
      "  distance = 1 / np.sqrt(freq_upper_triangle)\n",
      "c:\\Users\\mahsh\\Documents\\GitHub\\bugs-in-democracy\\EIL summer 2023\\rcv_dimensionality.py:170: RuntimeWarning: divide by zero encountered in true_divide\n",
      "  distance = 1 / np.sqrt(freq_upper_triangle)\n",
      "c:\\Users\\mahsh\\Documents\\GitHub\\bugs-in-democracy\\EIL summer 2023\\rcv_dimensionality.py:170: RuntimeWarning: divide by zero encountered in true_divide\n",
      "  distance = 1 / np.sqrt(freq_upper_triangle)\n",
      "c:\\Users\\mahsh\\Documents\\GitHub\\bugs-in-democracy\\EIL summer 2023\\rcv_dimensionality.py:170: RuntimeWarning: divide by zero encountered in true_divide\n",
      "  distance = 1 / np.sqrt(freq_upper_triangle)\n"
     ]
    },
    {
     "name": "stdout",
     "output_type": "stream",
     "text": [
      "140   Minneapolis_11022021_Mayor.csv\n",
      "Empty DataFrame\n",
      "Columns: [candidate, position, first place count, first place freq]\n",
      "Index: []\n"
     ]
    },
    {
     "name": "stderr",
     "output_type": "stream",
     "text": [
      "c:\\Users\\mahsh\\Documents\\GitHub\\bugs-in-democracy\\EIL summer 2023\\rcv_dimensionality.py:159: RuntimeWarning: divide by zero encountered in true_divide\n",
      "  frequencies = counts / mentioned_together\n",
      "c:\\Users\\mahsh\\Documents\\GitHub\\bugs-in-democracy\\EIL summer 2023\\rcv_dimensionality.py:159: RuntimeWarning: invalid value encountered in true_divide\n",
      "  frequencies = counts / mentioned_together\n",
      "c:\\Users\\mahsh\\Documents\\GitHub\\bugs-in-democracy\\EIL summer 2023\\rcv_dimensionality.py:170: RuntimeWarning: divide by zero encountered in true_divide\n",
      "  distance = 1 / np.sqrt(freq_upper_triangle)\n"
     ]
    },
    {
     "name": "stdout",
     "output_type": "stream",
     "text": [
      "140   Minneapolis_11022021_Mayor.csv\n",
      "                            candidate   position  first place count  \\\n",
      "0                          Jacob Frey  16.995407              61639   \n",
      "1                         Mark Globus  16.995285               1159   \n",
      "2                         Mike Winter  16.995071                642   \n",
      "3                Kevin \"No Body\" Ward       17.0                283   \n",
      "4                          Kate Knuth  15.865426              26472   \n",
      "5                             AJ Awed  16.996054               6868   \n",
      "6               Bob \"Again\" Carney Jr   15.86616               2792   \n",
      "7                      Laverne Turner  16.993669               4628   \n",
      "8                       Sheila Nezhad  15.867611              30369   \n",
      "9                        Clint Conner  16.995183               4312   \n",
      "10                     Perry, Jerrell  16.996445                687   \n",
      "11         Nate \"Honey Badger\" Atkins  16.995484               1181   \n",
      "12                   Troy Benjegerdes   16.99442                184   \n",
      "13                        Doug Nelson  16.996861                741   \n",
      "14                      Marcus Harcus  16.995755               1194   \n",
      "15                Christopher W David  16.995764                493   \n",
      "16                    Paul E. Johnson  16.995478                244   \n",
      "17  Christopher Robin \"CRZ\" Zimmerman        0.0                  2   \n",
      "\n",
      "    first place freq  len_1  len_2  len_3  len_4  len_5  len_6  ...  len_9  \\\n",
      "0           0.428376  29523  10037  22079     -1     -1     -1  ...     -1   \n",
      "1           0.008055    126    204    829     -1     -1     -1  ...     -1   \n",
      "2           0.004462    109    118    415     -1     -1     -1  ...     -1   \n",
      "3           0.001967     58     44    181     -1     -1     -1  ...     -1   \n",
      "4           0.183974   1900  10270  14302     -1     -1     -1  ...     -1   \n",
      "5           0.047731   2983   1149   2736     -1     -1     -1  ...     -1   \n",
      "6           0.019404    511    747   1534     -1     -1     -1  ...     -1   \n",
      "7           0.032163   1143   1233   2252     -1     -1     -1  ...     -1   \n",
      "8           0.211057   1446  13234  15689     -1     -1     -1  ...     -1   \n",
      "9           0.029967    536   1148   2628     -1     -1     -1  ...     -1   \n",
      "10          0.004774     95     89    503     -1     -1     -1  ...     -1   \n",
      "11          0.008208    184    167    830     -1     -1     -1  ...     -1   \n",
      "12          0.001279     21     25    138     -1     -1     -1  ...     -1   \n",
      "13          0.005150    100     68    573     -1     -1     -1  ...     -1   \n",
      "14          0.008298    177    164    853     -1     -1     -1  ...     -1   \n",
      "15          0.003426     88     81    324     -1     -1     -1  ...     -1   \n",
      "16          0.001696     47     33    164     -1     -1     -1  ...     -1   \n",
      "17          0.000014     -1     -1      2     -1     -1     -1  ...     -1   \n",
      "\n",
      "    len_10  len_11  len_12  len_13  len_14  len_15  len_16  len_17  len_18  \n",
      "0       -1      -1      -1      -1      -1      -1      -1      -1      -1  \n",
      "1       -1      -1      -1      -1      -1      -1      -1      -1      -1  \n",
      "2       -1      -1      -1      -1      -1      -1      -1      -1      -1  \n",
      "3       -1      -1      -1      -1      -1      -1      -1      -1      -1  \n",
      "4       -1      -1      -1      -1      -1      -1      -1      -1      -1  \n",
      "5       -1      -1      -1      -1      -1      -1      -1      -1      -1  \n",
      "6       -1      -1      -1      -1      -1      -1      -1      -1      -1  \n",
      "7       -1      -1      -1      -1      -1      -1      -1      -1      -1  \n",
      "8       -1      -1      -1      -1      -1      -1      -1      -1      -1  \n",
      "9       -1      -1      -1      -1      -1      -1      -1      -1      -1  \n",
      "10      -1      -1      -1      -1      -1      -1      -1      -1      -1  \n",
      "11      -1      -1      -1      -1      -1      -1      -1      -1      -1  \n",
      "12      -1      -1      -1      -1      -1      -1      -1      -1      -1  \n",
      "13      -1      -1      -1      -1      -1      -1      -1      -1      -1  \n",
      "14      -1      -1      -1      -1      -1      -1      -1      -1      -1  \n",
      "15      -1      -1      -1      -1      -1      -1      -1      -1      -1  \n",
      "16      -1      -1      -1      -1      -1      -1      -1      -1      -1  \n",
      "17      -1      -1      -1      -1      -1      -1      -1      -1      -1  \n",
      "\n",
      "[18 rows x 22 columns]\n"
     ]
    },
    {
     "name": "stderr",
     "output_type": "stream",
     "text": [
      "c:\\Users\\mahsh\\Documents\\GitHub\\bugs-in-democracy\\EIL summer 2023\\rcv_dimensionality.py:170: RuntimeWarning: divide by zero encountered in true_divide\n",
      "  distance = 1 / np.sqrt(freq_upper_triangle)\n"
     ]
    },
    {
     "name": "stdout",
     "output_type": "stream",
     "text": [
      "Minneapolis_11022021_ParkBoardDistrict1.csv  threw an exception\n"
     ]
    },
    {
     "name": "stderr",
     "output_type": "stream",
     "text": [
      "c:\\Users\\mahsh\\Documents\\GitHub\\bugs-in-democracy\\EIL summer 2023\\rcv_dimensionality.py:170: RuntimeWarning: divide by zero encountered in true_divide\n",
      "  distance = 1 / np.sqrt(freq_upper_triangle)\n",
      "c:\\Users\\mahsh\\Documents\\GitHub\\bugs-in-democracy\\EIL summer 2023\\rcv_dimensionality.py:170: RuntimeWarning: divide by zero encountered in true_divide\n",
      "  distance = 1 / np.sqrt(freq_upper_triangle)\n",
      "c:\\Users\\mahsh\\Documents\\GitHub\\bugs-in-democracy\\EIL summer 2023\\rcv_dimensionality.py:170: RuntimeWarning: divide by zero encountered in true_divide\n",
      "  distance = 1 / np.sqrt(freq_upper_triangle)\n",
      "c:\\Users\\mahsh\\Documents\\GitHub\\bugs-in-democracy\\EIL summer 2023\\rcv_dimensionality.py:170: RuntimeWarning: divide by zero encountered in true_divide\n",
      "  distance = 1 / np.sqrt(freq_upper_triangle)\n",
      "c:\\Users\\mahsh\\Documents\\GitHub\\bugs-in-democracy\\EIL summer 2023\\rcv_dimensionality.py:170: RuntimeWarning: divide by zero encountered in true_divide\n",
      "  distance = 1 / np.sqrt(freq_upper_triangle)\n",
      "c:\\Users\\mahsh\\Documents\\GitHub\\bugs-in-democracy\\EIL summer 2023\\rcv_dimensionality.py:159: RuntimeWarning: divide by zero encountered in true_divide\n",
      "  frequencies = counts / mentioned_together\n",
      "c:\\Users\\mahsh\\Documents\\GitHub\\bugs-in-democracy\\EIL summer 2023\\rcv_dimensionality.py:170: RuntimeWarning: divide by zero encountered in true_divide\n",
      "  distance = 1 / np.sqrt(freq_upper_triangle)\n",
      "c:\\Users\\mahsh\\Documents\\GitHub\\bugs-in-democracy\\EIL summer 2023\\rcv_dimensionality.py:170: RuntimeWarning: divide by zero encountered in true_divide\n",
      "  distance = 1 / np.sqrt(freq_upper_triangle)\n"
     ]
    },
    {
     "name": "stdout",
     "output_type": "stream",
     "text": [
      "150   Minneapolis_11052013_PRBoardDistrict6.csv\n",
      "Empty DataFrame\n",
      "Columns: [candidate, position, first place count, first place freq]\n",
      "Index: []\n"
     ]
    },
    {
     "name": "stderr",
     "output_type": "stream",
     "text": [
      "c:\\Users\\mahsh\\Documents\\GitHub\\bugs-in-democracy\\EIL summer 2023\\rcv_dimensionality.py:170: RuntimeWarning: divide by zero encountered in true_divide\n",
      "  distance = 1 / np.sqrt(freq_upper_triangle)\n"
     ]
    },
    {
     "name": "stdout",
     "output_type": "stream",
     "text": [
      "150   Minneapolis_11052013_PRBoardDistrict6.csv\n",
      "     candidate position  first place count  first place freq  len_1  len_2\n",
      "0   BRAD BOURN      1.0               8917          0.650828   5019   3898\n",
      "1  JOSH NEIMAN      0.0               4784          0.349172   2377   2407\n"
     ]
    },
    {
     "name": "stderr",
     "output_type": "stream",
     "text": [
      "c:\\Users\\mahsh\\Documents\\GitHub\\bugs-in-democracy\\EIL summer 2023\\rcv_dimensionality.py:170: RuntimeWarning: divide by zero encountered in true_divide\n",
      "  distance = 1 / np.sqrt(freq_upper_triangle)\n",
      "c:\\Users\\mahsh\\Documents\\GitHub\\bugs-in-democracy\\EIL summer 2023\\rcv_dimensionality.py:170: RuntimeWarning: divide by zero encountered in true_divide\n",
      "  distance = 1 / np.sqrt(freq_upper_triangle)\n",
      "c:\\Users\\mahsh\\Documents\\GitHub\\bugs-in-democracy\\EIL summer 2023\\rcv_dimensionality.py:170: RuntimeWarning: divide by zero encountered in true_divide\n",
      "  distance = 1 / np.sqrt(freq_upper_triangle)\n",
      "c:\\Users\\mahsh\\Documents\\GitHub\\bugs-in-democracy\\EIL summer 2023\\rcv_dimensionality.py:170: RuntimeWarning: divide by zero encountered in true_divide\n",
      "  distance = 1 / np.sqrt(freq_upper_triangle)\n",
      "c:\\Users\\mahsh\\Documents\\GitHub\\bugs-in-democracy\\EIL summer 2023\\rcv_dimensionality.py:170: RuntimeWarning: divide by zero encountered in true_divide\n",
      "  distance = 1 / np.sqrt(freq_upper_triangle)\n",
      "c:\\Users\\mahsh\\Documents\\GitHub\\bugs-in-democracy\\EIL summer 2023\\rcv_dimensionality.py:170: RuntimeWarning: divide by zero encountered in true_divide\n",
      "  distance = 1 / np.sqrt(freq_upper_triangle)\n",
      "c:\\Users\\mahsh\\Documents\\GitHub\\bugs-in-democracy\\EIL summer 2023\\rcv_dimensionality.py:170: RuntimeWarning: divide by zero encountered in true_divide\n",
      "  distance = 1 / np.sqrt(freq_upper_triangle)\n"
     ]
    },
    {
     "name": "stdout",
     "output_type": "stream",
     "text": [
      "Minneapolis_11062009_PRBoardDistrict4.csv  threw an exception\n"
     ]
    },
    {
     "name": "stderr",
     "output_type": "stream",
     "text": [
      "c:\\Users\\mahsh\\Documents\\GitHub\\bugs-in-democracy\\EIL summer 2023\\rcv_dimensionality.py:170: RuntimeWarning: divide by zero encountered in true_divide\n",
      "  distance = 1 / np.sqrt(freq_upper_triangle)\n"
     ]
    },
    {
     "name": "stdout",
     "output_type": "stream",
     "text": [
      "160   Minneapolis_11062009_PRBoardDistrict6.csv\n",
      "Empty DataFrame\n",
      "Columns: [candidate, position, first place count, first place freq]\n",
      "Index: []\n"
     ]
    },
    {
     "name": "stderr",
     "output_type": "stream",
     "text": [
      "c:\\Users\\mahsh\\Documents\\GitHub\\bugs-in-democracy\\EIL summer 2023\\rcv_dimensionality.py:170: RuntimeWarning: divide by zero encountered in true_divide\n",
      "  distance = 1 / np.sqrt(freq_upper_triangle)\n"
     ]
    },
    {
     "name": "stdout",
     "output_type": "stream",
     "text": [
      "160   Minneapolis_11062009_PRBoardDistrict6.csv\n",
      "       candidate  position  first place count  first place freq  len_1  len_2  \\\n",
      "0     Brad Bourn  1.120608               4025          0.483716   2017   1112   \n",
      "1     Meg Forney  1.600927               3040          0.365341   1708    567   \n",
      "2  Geneva Hanvik       3.0                277          0.033289    116     41   \n",
      "3   Steven Jecha       0.0                979          0.117654    371    296   \n",
      "\n",
      "   len_3  len_4  \n",
      "0    896     -1  \n",
      "1    765     -1  \n",
      "2    120     -1  \n",
      "3    312     -1  \n"
     ]
    },
    {
     "name": "stderr",
     "output_type": "stream",
     "text": [
      "c:\\Users\\mahsh\\Documents\\GitHub\\bugs-in-democracy\\EIL summer 2023\\rcv_dimensionality.py:170: RuntimeWarning: divide by zero encountered in true_divide\n",
      "  distance = 1 / np.sqrt(freq_upper_triangle)\n",
      "c:\\Users\\mahsh\\Documents\\GitHub\\bugs-in-democracy\\EIL summer 2023\\rcv_dimensionality.py:170: RuntimeWarning: divide by zero encountered in true_divide\n",
      "  distance = 1 / np.sqrt(freq_upper_triangle)\n",
      "c:\\Users\\mahsh\\Documents\\GitHub\\bugs-in-democracy\\EIL summer 2023\\rcv_dimensionality.py:170: RuntimeWarning: divide by zero encountered in true_divide\n",
      "  distance = 1 / np.sqrt(freq_upper_triangle)\n",
      "c:\\Users\\mahsh\\Documents\\GitHub\\bugs-in-democracy\\EIL summer 2023\\rcv_dimensionality.py:170: RuntimeWarning: divide by zero encountered in true_divide\n",
      "  distance = 1 / np.sqrt(freq_upper_triangle)\n",
      "c:\\Users\\mahsh\\Documents\\GitHub\\bugs-in-democracy\\EIL summer 2023\\rcv_dimensionality.py:170: RuntimeWarning: divide by zero encountered in true_divide\n",
      "  distance = 1 / np.sqrt(freq_upper_triangle)\n",
      "c:\\Users\\mahsh\\Documents\\GitHub\\bugs-in-democracy\\EIL summer 2023\\rcv_dimensionality.py:170: RuntimeWarning: divide by zero encountered in true_divide\n",
      "  distance = 1 / np.sqrt(freq_upper_triangle)\n",
      "c:\\Users\\mahsh\\Documents\\GitHub\\bugs-in-democracy\\EIL summer 2023\\rcv_dimensionality.py:170: RuntimeWarning: divide by zero encountered in true_divide\n",
      "  distance = 1 / np.sqrt(freq_upper_triangle)\n",
      "c:\\Users\\mahsh\\Documents\\GitHub\\bugs-in-democracy\\EIL summer 2023\\rcv_dimensionality.py:170: RuntimeWarning: divide by zero encountered in true_divide\n",
      "  distance = 1 / np.sqrt(freq_upper_triangle)\n",
      "c:\\Users\\mahsh\\Documents\\GitHub\\bugs-in-democracy\\EIL summer 2023\\rcv_dimensionality.py:170: RuntimeWarning: divide by zero encountered in true_divide\n",
      "  distance = 1 / np.sqrt(freq_upper_triangle)\n"
     ]
    },
    {
     "name": "stdout",
     "output_type": "stream",
     "text": [
      "170   Minneapolis_11062009_Ward6CityCouncil.csv\n",
      "Empty DataFrame\n",
      "Columns: [candidate, position, first place count, first place freq]\n",
      "Index: []\n"
     ]
    },
    {
     "name": "stderr",
     "output_type": "stream",
     "text": [
      "c:\\Users\\mahsh\\Documents\\GitHub\\bugs-in-democracy\\EIL summer 2023\\rcv_dimensionality.py:170: RuntimeWarning: divide by zero encountered in true_divide\n",
      "  distance = 1 / np.sqrt(freq_upper_triangle)\n"
     ]
    },
    {
     "name": "stdout",
     "output_type": "stream",
     "text": [
      "170   Minneapolis_11062009_Ward6CityCouncil.csv\n",
      "          candidate  position  first place count  first place freq  len_1  \\\n",
      "0  Robert Lilligren  2.384454               1021          0.529564    428   \n",
      "1           M. Cali       0.0                158          0.081950     77   \n",
      "2        Andy Exley   1.48385                165          0.085581     19   \n",
      "3        Laura Jean  3.358469                231          0.119813     52   \n",
      "4     Bruce Lundeen  2.828584                 60          0.031120      9   \n",
      "5    Michael Tupper       5.0                293          0.151971     92   \n",
      "\n",
      "   len_2  len_3  len_4  len_5  len_6  \n",
      "0    192    401     -1     -1     -1  \n",
      "1     25     56     -1     -1     -1  \n",
      "2     26    120     -1     -1     -1  \n",
      "3     33    146     -1     -1     -1  \n",
      "4     14     37     -1     -1     -1  \n",
      "5     45    156     -1     -1     -1  \n"
     ]
    },
    {
     "name": "stderr",
     "output_type": "stream",
     "text": [
      "c:\\Users\\mahsh\\Documents\\GitHub\\bugs-in-democracy\\EIL summer 2023\\rcv_dimensionality.py:170: RuntimeWarning: divide by zero encountered in true_divide\n",
      "  distance = 1 / np.sqrt(freq_upper_triangle)\n",
      "c:\\Users\\mahsh\\Documents\\GitHub\\bugs-in-democracy\\EIL summer 2023\\rcv_dimensionality.py:170: RuntimeWarning: divide by zero encountered in true_divide\n",
      "  distance = 1 / np.sqrt(freq_upper_triangle)\n",
      "c:\\Users\\mahsh\\Documents\\GitHub\\bugs-in-democracy\\EIL summer 2023\\rcv_dimensionality.py:170: RuntimeWarning: divide by zero encountered in true_divide\n",
      "  distance = 1 / np.sqrt(freq_upper_triangle)\n",
      "c:\\Users\\mahsh\\Documents\\GitHub\\bugs-in-democracy\\EIL summer 2023\\rcv_dimensionality.py:159: RuntimeWarning: divide by zero encountered in true_divide\n",
      "  frequencies = counts / mentioned_together\n",
      "c:\\Users\\mahsh\\Documents\\GitHub\\bugs-in-democracy\\EIL summer 2023\\rcv_dimensionality.py:159: RuntimeWarning: invalid value encountered in true_divide\n",
      "  frequencies = counts / mentioned_together\n",
      "c:\\Users\\mahsh\\Documents\\GitHub\\bugs-in-democracy\\EIL summer 2023\\rcv_dimensionality.py:170: RuntimeWarning: divide by zero encountered in true_divide\n",
      "  distance = 1 / np.sqrt(freq_upper_triangle)\n",
      "c:\\Users\\mahsh\\Documents\\GitHub\\bugs-in-democracy\\EIL summer 2023\\rcv_dimensionality.py:170: RuntimeWarning: divide by zero encountered in true_divide\n",
      "  distance = 1 / np.sqrt(freq_upper_triangle)\n",
      "c:\\Users\\mahsh\\Documents\\GitHub\\bugs-in-democracy\\EIL summer 2023\\rcv_dimensionality.py:170: RuntimeWarning: divide by zero encountered in true_divide\n",
      "  distance = 1 / np.sqrt(freq_upper_triangle)\n",
      "c:\\Users\\mahsh\\Documents\\GitHub\\bugs-in-democracy\\EIL summer 2023\\rcv_dimensionality.py:170: RuntimeWarning: divide by zero encountered in true_divide\n",
      "  distance = 1 / np.sqrt(freq_upper_triangle)\n",
      "c:\\Users\\mahsh\\Documents\\GitHub\\bugs-in-democracy\\EIL summer 2023\\rcv_dimensionality.py:170: RuntimeWarning: divide by zero encountered in true_divide\n",
      "  distance = 1 / np.sqrt(freq_upper_triangle)\n",
      "c:\\Users\\mahsh\\Documents\\GitHub\\bugs-in-democracy\\EIL summer 2023\\rcv_dimensionality.py:170: RuntimeWarning: divide by zero encountered in true_divide\n",
      "  distance = 1 / np.sqrt(freq_upper_triangle)\n"
     ]
    },
    {
     "name": "stdout",
     "output_type": "stream",
     "text": [
      "180   Minneapolis_11072017_PRBoardDistrict6.csv\n",
      "Empty DataFrame\n",
      "Columns: [candidate, position, first place count, first place freq]\n",
      "Index: []\n"
     ]
    },
    {
     "name": "stderr",
     "output_type": "stream",
     "text": [
      "c:\\Users\\mahsh\\Documents\\GitHub\\bugs-in-democracy\\EIL summer 2023\\rcv_dimensionality.py:170: RuntimeWarning: divide by zero encountered in true_divide\n",
      "  distance = 1 / np.sqrt(freq_upper_triangle)\n"
     ]
    },
    {
     "name": "stdout",
     "output_type": "stream",
     "text": [
      "180   Minneapolis_11072017_PRBoardDistrict6.csv\n",
      "                  candidate  position  first place count  first place freq  \\\n",
      "0                  Bob Fine  2.092322               7495          0.406387   \n",
      "1        Jennifer Zielinski  1.376901               2274          0.123299   \n",
      "2  Robert M Schlosser \"Bob\"       0.0                586          0.031774   \n",
      "3                Brad Bourn       3.0               8088          0.438540   \n",
      "\n",
      "   len_1  len_2  len_3  len_4  \n",
      "0   3594   1733   2168     -1  \n",
      "1    897    327   1050     -1  \n",
      "2    190     76    320     -1  \n",
      "3   3807   2343   1938     -1  \n"
     ]
    },
    {
     "name": "stderr",
     "output_type": "stream",
     "text": [
      "c:\\Users\\mahsh\\Documents\\GitHub\\bugs-in-democracy\\EIL summer 2023\\rcv_dimensionality.py:170: RuntimeWarning: divide by zero encountered in true_divide\n",
      "  distance = 1 / np.sqrt(freq_upper_triangle)\n",
      "c:\\Users\\mahsh\\Documents\\GitHub\\bugs-in-democracy\\EIL summer 2023\\rcv_dimensionality.py:170: RuntimeWarning: divide by zero encountered in true_divide\n",
      "  distance = 1 / np.sqrt(freq_upper_triangle)\n",
      "c:\\Users\\mahsh\\Documents\\GitHub\\bugs-in-democracy\\EIL summer 2023\\rcv_dimensionality.py:170: RuntimeWarning: divide by zero encountered in true_divide\n",
      "  distance = 1 / np.sqrt(freq_upper_triangle)\n",
      "c:\\Users\\mahsh\\Documents\\GitHub\\bugs-in-democracy\\EIL summer 2023\\rcv_dimensionality.py:170: RuntimeWarning: divide by zero encountered in true_divide\n",
      "  distance = 1 / np.sqrt(freq_upper_triangle)\n",
      "c:\\Users\\mahsh\\Documents\\GitHub\\bugs-in-democracy\\EIL summer 2023\\rcv_dimensionality.py:170: RuntimeWarning: divide by zero encountered in true_divide\n",
      "  distance = 1 / np.sqrt(freq_upper_triangle)\n"
     ]
    },
    {
     "name": "stdout",
     "output_type": "stream",
     "text": [
      "Minneapolis_11072017_Ward2CityCouncil.csv  threw an exception\n"
     ]
    },
    {
     "name": "stderr",
     "output_type": "stream",
     "text": [
      "c:\\Users\\mahsh\\Documents\\GitHub\\bugs-in-democracy\\EIL summer 2023\\rcv_dimensionality.py:170: RuntimeWarning: divide by zero encountered in true_divide\n",
      "  distance = 1 / np.sqrt(freq_upper_triangle)\n",
      "c:\\Users\\mahsh\\Documents\\GitHub\\bugs-in-democracy\\EIL summer 2023\\rcv_dimensionality.py:170: RuntimeWarning: divide by zero encountered in true_divide\n",
      "  distance = 1 / np.sqrt(freq_upper_triangle)\n",
      "c:\\Users\\mahsh\\Documents\\GitHub\\bugs-in-democracy\\EIL summer 2023\\rcv_dimensionality.py:170: RuntimeWarning: divide by zero encountered in true_divide\n",
      "  distance = 1 / np.sqrt(freq_upper_triangle)\n"
     ]
    },
    {
     "name": "stdout",
     "output_type": "stream",
     "text": [
      "190   Minneapolis_11072017_Ward6CityCouncil.csv\n",
      "Empty DataFrame\n",
      "Columns: [candidate, position, first place count, first place freq]\n",
      "Index: []\n"
     ]
    },
    {
     "name": "stderr",
     "output_type": "stream",
     "text": [
      "c:\\Users\\mahsh\\Documents\\GitHub\\bugs-in-democracy\\EIL summer 2023\\rcv_dimensionality.py:170: RuntimeWarning: divide by zero encountered in true_divide\n",
      "  distance = 1 / np.sqrt(freq_upper_triangle)\n"
     ]
    },
    {
     "name": "stdout",
     "output_type": "stream",
     "text": [
      "190   Minneapolis_11072017_Ward6CityCouncil.csv\n",
      "          candidate  position  first place count  first place freq  len_1  \\\n",
      "0      Abdi Warsame       3.0               3631          0.503257   2761   \n",
      "1      Mohamud Noor  2.274291               3395          0.470547   2102   \n",
      "2      Fadumo Yusuf  1.849505                183          0.025364    103   \n",
      "3  Tiffini Forslund       0.0                  6          0.000832      1   \n",
      "\n",
      "   len_2  len_3  len_4  \n",
      "0    566    304     -1  \n",
      "1    876    417     -1  \n",
      "2     30     50     -1  \n",
      "3      4      1     -1  \n"
     ]
    },
    {
     "name": "stderr",
     "output_type": "stream",
     "text": [
      "c:\\Users\\mahsh\\Documents\\GitHub\\bugs-in-democracy\\EIL summer 2023\\rcv_dimensionality.py:170: RuntimeWarning: divide by zero encountered in true_divide\n",
      "  distance = 1 / np.sqrt(freq_upper_triangle)\n",
      "c:\\Users\\mahsh\\Documents\\GitHub\\bugs-in-democracy\\EIL summer 2023\\rcv_dimensionality.py:170: RuntimeWarning: divide by zero encountered in true_divide\n",
      "  distance = 1 / np.sqrt(freq_upper_triangle)\n",
      "c:\\Users\\mahsh\\Documents\\GitHub\\bugs-in-democracy\\EIL summer 2023\\rcv_dimensionality.py:170: RuntimeWarning: divide by zero encountered in true_divide\n",
      "  distance = 1 / np.sqrt(freq_upper_triangle)\n",
      "c:\\Users\\mahsh\\Documents\\GitHub\\bugs-in-democracy\\EIL summer 2023\\rcv_dimensionality.py:170: RuntimeWarning: divide by zero encountered in true_divide\n",
      "  distance = 1 / np.sqrt(freq_upper_triangle)\n",
      "c:\\Users\\mahsh\\Documents\\GitHub\\bugs-in-democracy\\EIL summer 2023\\rcv_dimensionality.py:170: RuntimeWarning: divide by zero encountered in true_divide\n",
      "  distance = 1 / np.sqrt(freq_upper_triangle)\n",
      "c:\\Users\\mahsh\\Documents\\GitHub\\bugs-in-democracy\\EIL summer 2023\\rcv_dimensionality.py:170: RuntimeWarning: divide by zero encountered in true_divide\n",
      "  distance = 1 / np.sqrt(freq_upper_triangle)\n",
      "c:\\Users\\mahsh\\Documents\\GitHub\\bugs-in-democracy\\EIL summer 2023\\rcv_dimensionality.py:170: RuntimeWarning: divide by zero encountered in true_divide\n",
      "  distance = 1 / np.sqrt(freq_upper_triangle)\n",
      "c:\\Users\\mahsh\\Documents\\GitHub\\bugs-in-democracy\\EIL summer 2023\\rcv_dimensionality.py:170: RuntimeWarning: divide by zero encountered in true_divide\n",
      "  distance = 1 / np.sqrt(freq_upper_triangle)\n",
      "c:\\Users\\mahsh\\Documents\\GitHub\\bugs-in-democracy\\EIL summer 2023\\rcv_dimensionality.py:170: RuntimeWarning: divide by zero encountered in true_divide\n",
      "  distance = 1 / np.sqrt(freq_upper_triangle)\n"
     ]
    },
    {
     "name": "stdout",
     "output_type": "stream",
     "text": [
      "200   NewYorkCity_06222021_DEMBoroughPresidentNewYork.csv\n",
      "Empty DataFrame\n",
      "Columns: [candidate, position, first place count, first place freq]\n",
      "Index: []\n"
     ]
    },
    {
     "name": "stderr",
     "output_type": "stream",
     "text": [
      "c:\\Users\\mahsh\\Documents\\GitHub\\bugs-in-democracy\\EIL summer 2023\\rcv_dimensionality.py:170: RuntimeWarning: divide by zero encountered in true_divide\n",
      "  distance = 1 / np.sqrt(freq_upper_triangle)\n"
     ]
    },
    {
     "name": "stdout",
     "output_type": "stream",
     "text": [
      "200   NewYorkCity_06222021_DEMBoroughPresidentNewYork.csv\n",
      "             candidate  position  first place count  first place freq  len_1  \\\n",
      "0      Brad M. Hoylman  0.951136              61775          0.259991  20414   \n",
      "1           Ben Kallos  1.875698              30813          0.129682   9234   \n",
      "2   Guillermo A. Perez       6.0              16459          0.069271   6294   \n",
      "3       Mark D. Levine  1.497103              67453          0.283888  23641   \n",
      "4    Lindsey C. Boylan  3.457498              24510          0.103155   5545   \n",
      "5  Kimberly R. Watkins   3.37434              13035          0.054860   3882   \n",
      "6  Elizabeth R. Caputo       0.0              23559          0.099152   6216   \n",
      "\n",
      "   len_2  len_3  len_4  len_5  len_6  len_7  \n",
      "0  13473  10972   4918  11998     -1     -1  \n",
      "1   6752   5694   2629   6504     -1     -1  \n",
      "2   2205   1473   1050   5437     -1     -1  \n",
      "3  13991  10494   5064  14263     -1     -1  \n",
      "4   4983   4780   2561   6641     -1     -1  \n",
      "5   1759   1836    876   4682     -1     -1  \n",
      "6   4755   4387   1919   6282     -1     -1  \n"
     ]
    },
    {
     "name": "stderr",
     "output_type": "stream",
     "text": [
      "c:\\Users\\mahsh\\Documents\\GitHub\\bugs-in-democracy\\EIL summer 2023\\rcv_dimensionality.py:170: RuntimeWarning: divide by zero encountered in true_divide\n",
      "  distance = 1 / np.sqrt(freq_upper_triangle)\n",
      "c:\\Users\\mahsh\\Documents\\GitHub\\bugs-in-democracy\\EIL summer 2023\\rcv_dimensionality.py:170: RuntimeWarning: divide by zero encountered in true_divide\n",
      "  distance = 1 / np.sqrt(freq_upper_triangle)\n",
      "c:\\Users\\mahsh\\Documents\\GitHub\\bugs-in-democracy\\EIL summer 2023\\rcv_dimensionality.py:170: RuntimeWarning: divide by zero encountered in true_divide\n",
      "  distance = 1 / np.sqrt(freq_upper_triangle)\n",
      "c:\\Users\\mahsh\\Documents\\GitHub\\bugs-in-democracy\\EIL summer 2023\\rcv_dimensionality.py:170: RuntimeWarning: divide by zero encountered in true_divide\n",
      "  distance = 1 / np.sqrt(freq_upper_triangle)\n",
      "c:\\Users\\mahsh\\Documents\\GitHub\\bugs-in-democracy\\EIL summer 2023\\rcv_dimensionality.py:170: RuntimeWarning: divide by zero encountered in true_divide\n",
      "  distance = 1 / np.sqrt(freq_upper_triangle)\n",
      "c:\\Users\\mahsh\\Documents\\GitHub\\bugs-in-democracy\\EIL summer 2023\\rcv_dimensionality.py:170: RuntimeWarning: divide by zero encountered in true_divide\n",
      "  distance = 1 / np.sqrt(freq_upper_triangle)\n",
      "c:\\Users\\mahsh\\Documents\\GitHub\\bugs-in-democracy\\EIL summer 2023\\rcv_dimensionality.py:170: RuntimeWarning: divide by zero encountered in true_divide\n",
      "  distance = 1 / np.sqrt(freq_upper_triangle)\n",
      "c:\\Users\\mahsh\\Documents\\GitHub\\bugs-in-democracy\\EIL summer 2023\\rcv_dimensionality.py:170: RuntimeWarning: divide by zero encountered in true_divide\n",
      "  distance = 1 / np.sqrt(freq_upper_triangle)\n",
      "c:\\Users\\mahsh\\Documents\\GitHub\\bugs-in-democracy\\EIL summer 2023\\rcv_dimensionality.py:170: RuntimeWarning: divide by zero encountered in true_divide\n",
      "  distance = 1 / np.sqrt(freq_upper_triangle)\n"
     ]
    },
    {
     "name": "stdout",
     "output_type": "stream",
     "text": [
      "210   NewYorkCity_06222021_DEMCouncilMember16thCouncilDistrict.csv\n",
      "Empty DataFrame\n",
      "Columns: [candidate, position, first place count, first place freq]\n",
      "Index: []\n"
     ]
    },
    {
     "name": "stderr",
     "output_type": "stream",
     "text": [
      "c:\\Users\\mahsh\\Documents\\GitHub\\bugs-in-democracy\\EIL summer 2023\\rcv_dimensionality.py:170: RuntimeWarning: divide by zero encountered in true_divide\n",
      "  distance = 1 / np.sqrt(freq_upper_triangle)\n"
     ]
    },
    {
     "name": "stdout",
     "output_type": "stream",
     "text": [
      "210   NewYorkCity_06222021_DEMCouncilMember16thCouncilDistrict.csv\n",
      "              candidate  position  first place count  first place freq  len_1  \\\n",
      "0     Ahmadou T. Diallo  2.067852               2094          0.206937    790   \n",
      "1  Abdourahamane Diallo       3.0               2068          0.204368    757   \n",
      "2     Althea V. Stevens  0.960105               5153          0.509240   2121   \n",
      "3        Yves T. Filius       0.0                804          0.079454    302   \n",
      "\n",
      "   len_2  len_3  len_4  \n",
      "0    341    195    768  \n",
      "1    324    177    810  \n",
      "2    750    453   1829  \n",
      "3    140     76    286  \n"
     ]
    },
    {
     "name": "stderr",
     "output_type": "stream",
     "text": [
      "c:\\Users\\mahsh\\Documents\\GitHub\\bugs-in-democracy\\EIL summer 2023\\rcv_dimensionality.py:170: RuntimeWarning: divide by zero encountered in true_divide\n",
      "  distance = 1 / np.sqrt(freq_upper_triangle)\n",
      "c:\\Users\\mahsh\\Documents\\GitHub\\bugs-in-democracy\\EIL summer 2023\\rcv_dimensionality.py:170: RuntimeWarning: divide by zero encountered in true_divide\n",
      "  distance = 1 / np.sqrt(freq_upper_triangle)\n",
      "c:\\Users\\mahsh\\Documents\\GitHub\\bugs-in-democracy\\EIL summer 2023\\rcv_dimensionality.py:170: RuntimeWarning: divide by zero encountered in true_divide\n",
      "  distance = 1 / np.sqrt(freq_upper_triangle)\n",
      "c:\\Users\\mahsh\\Documents\\GitHub\\bugs-in-democracy\\EIL summer 2023\\rcv_dimensionality.py:170: RuntimeWarning: divide by zero encountered in true_divide\n",
      "  distance = 1 / np.sqrt(freq_upper_triangle)\n",
      "c:\\Users\\mahsh\\Documents\\GitHub\\bugs-in-democracy\\EIL summer 2023\\rcv_dimensionality.py:170: RuntimeWarning: divide by zero encountered in true_divide\n",
      "  distance = 1 / np.sqrt(freq_upper_triangle)\n",
      "c:\\Users\\mahsh\\Documents\\GitHub\\bugs-in-democracy\\EIL summer 2023\\rcv_dimensionality.py:170: RuntimeWarning: divide by zero encountered in true_divide\n",
      "  distance = 1 / np.sqrt(freq_upper_triangle)\n",
      "c:\\Users\\mahsh\\Documents\\GitHub\\bugs-in-democracy\\EIL summer 2023\\rcv_dimensionality.py:170: RuntimeWarning: divide by zero encountered in true_divide\n",
      "  distance = 1 / np.sqrt(freq_upper_triangle)\n",
      "c:\\Users\\mahsh\\Documents\\GitHub\\bugs-in-democracy\\EIL summer 2023\\rcv_dimensionality.py:170: RuntimeWarning: divide by zero encountered in true_divide\n",
      "  distance = 1 / np.sqrt(freq_upper_triangle)\n",
      "c:\\Users\\mahsh\\Documents\\GitHub\\bugs-in-democracy\\EIL summer 2023\\rcv_dimensionality.py:170: RuntimeWarning: divide by zero encountered in true_divide\n",
      "  distance = 1 / np.sqrt(freq_upper_triangle)\n"
     ]
    },
    {
     "name": "stdout",
     "output_type": "stream",
     "text": [
      "220   NewYorkCity_06222021_DEMCouncilMember25thCouncilDistrict.csv\n",
      "Empty DataFrame\n",
      "Columns: [candidate, position, first place count, first place freq]\n",
      "Index: []\n"
     ]
    },
    {
     "name": "stderr",
     "output_type": "stream",
     "text": [
      "c:\\Users\\mahsh\\Documents\\GitHub\\bugs-in-democracy\\EIL summer 2023\\rcv_dimensionality.py:170: RuntimeWarning: divide by zero encountered in true_divide\n",
      "  distance = 1 / np.sqrt(freq_upper_triangle)\n"
     ]
    },
    {
     "name": "stdout",
     "output_type": "stream",
     "text": [
      "220   NewYorkCity_06222021_DEMCouncilMember25thCouncilDistrict.csv\n",
      "            candidate  position  first place count  first place freq  len_1  \\\n",
      "0     Manuel F. Perez  5.228549                517          0.034635    129   \n",
      "1      Alfonso Quiroz  3.755755               1368          0.091646    286   \n",
      "2     Shekar Krishnan  2.373493               3925          0.262946    726   \n",
      "3  William H. Salgado       7.0                285          0.019093     94   \n",
      "4        Yi Andy Chen       0.0               4028          0.269847   2323   \n",
      "5        Carolyn Tran  1.626684               2310          0.154753    382   \n",
      "6     Liliana C. Melo  1.105452                947          0.063442    326   \n",
      "7       Fatima Baryab  2.654387               1547          0.103638    523   \n",
      "\n",
      "   len_2  len_3  len_4  len_5  len_6  len_7  len_8  \n",
      "0     76     72     54    186     -1     -1     -1  \n",
      "1    197    232    166    487     -1     -1     -1  \n",
      "2    934    760    398   1107     -1     -1     -1  \n",
      "3     43     32     26     90     -1     -1     -1  \n",
      "4    468    252    192    793     -1     -1     -1  \n",
      "5    631    412    225    660     -1     -1     -1  \n",
      "6    105    114     90    312     -1     -1     -1  \n",
      "7    191    163    116    554     -1     -1     -1  \n"
     ]
    },
    {
     "name": "stderr",
     "output_type": "stream",
     "text": [
      "c:\\Users\\mahsh\\Documents\\GitHub\\bugs-in-democracy\\EIL summer 2023\\rcv_dimensionality.py:170: RuntimeWarning: divide by zero encountered in true_divide\n",
      "  distance = 1 / np.sqrt(freq_upper_triangle)\n",
      "c:\\Users\\mahsh\\Documents\\GitHub\\bugs-in-democracy\\EIL summer 2023\\rcv_dimensionality.py:170: RuntimeWarning: divide by zero encountered in true_divide\n",
      "  distance = 1 / np.sqrt(freq_upper_triangle)\n",
      "c:\\Users\\mahsh\\Documents\\GitHub\\bugs-in-democracy\\EIL summer 2023\\rcv_dimensionality.py:170: RuntimeWarning: divide by zero encountered in true_divide\n",
      "  distance = 1 / np.sqrt(freq_upper_triangle)\n",
      "c:\\Users\\mahsh\\Documents\\GitHub\\bugs-in-democracy\\EIL summer 2023\\rcv_dimensionality.py:170: RuntimeWarning: divide by zero encountered in true_divide\n",
      "  distance = 1 / np.sqrt(freq_upper_triangle)\n",
      "c:\\Users\\mahsh\\Documents\\GitHub\\bugs-in-democracy\\EIL summer 2023\\rcv_dimensionality.py:170: RuntimeWarning: divide by zero encountered in true_divide\n",
      "  distance = 1 / np.sqrt(freq_upper_triangle)\n",
      "c:\\Users\\mahsh\\Documents\\GitHub\\bugs-in-democracy\\EIL summer 2023\\rcv_dimensionality.py:170: RuntimeWarning: divide by zero encountered in true_divide\n",
      "  distance = 1 / np.sqrt(freq_upper_triangle)\n",
      "c:\\Users\\mahsh\\Documents\\GitHub\\bugs-in-democracy\\EIL summer 2023\\rcv_dimensionality.py:170: RuntimeWarning: divide by zero encountered in true_divide\n",
      "  distance = 1 / np.sqrt(freq_upper_triangle)\n",
      "c:\\Users\\mahsh\\Documents\\GitHub\\bugs-in-democracy\\EIL summer 2023\\rcv_dimensionality.py:170: RuntimeWarning: divide by zero encountered in true_divide\n",
      "  distance = 1 / np.sqrt(freq_upper_triangle)\n",
      "c:\\Users\\mahsh\\Documents\\GitHub\\bugs-in-democracy\\EIL summer 2023\\rcv_dimensionality.py:170: RuntimeWarning: divide by zero encountered in true_divide\n",
      "  distance = 1 / np.sqrt(freq_upper_triangle)\n"
     ]
    },
    {
     "name": "stdout",
     "output_type": "stream",
     "text": [
      "230   NewYorkCity_06222021_DEMCouncilMember34thCouncilDistrict.csv\n",
      "Empty DataFrame\n",
      "Columns: [candidate, position, first place count, first place freq]\n",
      "Index: []\n"
     ]
    },
    {
     "name": "stderr",
     "output_type": "stream",
     "text": [
      "c:\\Users\\mahsh\\Documents\\GitHub\\bugs-in-democracy\\EIL summer 2023\\rcv_dimensionality.py:170: RuntimeWarning: divide by zero encountered in true_divide\n",
      "  distance = 1 / np.sqrt(freq_upper_triangle)\n"
     ]
    },
    {
     "name": "stdout",
     "output_type": "stream",
     "text": [
      "230   NewYorkCity_06222021_DEMCouncilMember34thCouncilDistrict.csv\n",
      "            candidate  position  first place count  first place freq  len_1  \\\n",
      "0  Jennifer Gutierrez       3.0              13081          0.797865   7225   \n",
      "1       Andy J. Marte  1.266375               1267          0.077280    572   \n",
      "2        Scott Murphy  2.226342               1413          0.086185    515   \n",
      "3        Lutchi Gayot       0.0                634          0.038670    214   \n",
      "\n",
      "   len_2  len_3  len_4  \n",
      "0   2263    792   2801  \n",
      "1    242     97    356  \n",
      "2    288    139    471  \n",
      "3    127     82    211  \n"
     ]
    },
    {
     "name": "stderr",
     "output_type": "stream",
     "text": [
      "c:\\Users\\mahsh\\Documents\\GitHub\\bugs-in-democracy\\EIL summer 2023\\rcv_dimensionality.py:170: RuntimeWarning: divide by zero encountered in true_divide\n",
      "  distance = 1 / np.sqrt(freq_upper_triangle)\n",
      "c:\\Users\\mahsh\\Documents\\GitHub\\bugs-in-democracy\\EIL summer 2023\\rcv_dimensionality.py:170: RuntimeWarning: divide by zero encountered in true_divide\n",
      "  distance = 1 / np.sqrt(freq_upper_triangle)\n",
      "c:\\Users\\mahsh\\Documents\\GitHub\\bugs-in-democracy\\EIL summer 2023\\rcv_dimensionality.py:170: RuntimeWarning: divide by zero encountered in true_divide\n",
      "  distance = 1 / np.sqrt(freq_upper_triangle)\n",
      "c:\\Users\\mahsh\\Documents\\GitHub\\bugs-in-democracy\\EIL summer 2023\\rcv_dimensionality.py:170: RuntimeWarning: divide by zero encountered in true_divide\n",
      "  distance = 1 / np.sqrt(freq_upper_triangle)\n",
      "c:\\Users\\mahsh\\Documents\\GitHub\\bugs-in-democracy\\EIL summer 2023\\rcv_dimensionality.py:170: RuntimeWarning: divide by zero encountered in true_divide\n",
      "  distance = 1 / np.sqrt(freq_upper_triangle)\n",
      "c:\\Users\\mahsh\\Documents\\GitHub\\bugs-in-democracy\\EIL summer 2023\\rcv_dimensionality.py:170: RuntimeWarning: divide by zero encountered in true_divide\n",
      "  distance = 1 / np.sqrt(freq_upper_triangle)\n",
      "c:\\Users\\mahsh\\Documents\\GitHub\\bugs-in-democracy\\EIL summer 2023\\rcv_dimensionality.py:170: RuntimeWarning: divide by zero encountered in true_divide\n",
      "  distance = 1 / np.sqrt(freq_upper_triangle)\n",
      "c:\\Users\\mahsh\\Documents\\GitHub\\bugs-in-democracy\\EIL summer 2023\\rcv_dimensionality.py:170: RuntimeWarning: divide by zero encountered in true_divide\n",
      "  distance = 1 / np.sqrt(freq_upper_triangle)\n",
      "c:\\Users\\mahsh\\Documents\\GitHub\\bugs-in-democracy\\EIL summer 2023\\rcv_dimensionality.py:170: RuntimeWarning: divide by zero encountered in true_divide\n",
      "  distance = 1 / np.sqrt(freq_upper_triangle)\n"
     ]
    },
    {
     "name": "stdout",
     "output_type": "stream",
     "text": [
      "240   NewYorkCity_06222021_DEMCouncilMember45thCouncilDistrict.csv\n",
      "Empty DataFrame\n",
      "Columns: [candidate, position, first place count, first place freq]\n",
      "Index: []\n"
     ]
    },
    {
     "name": "stderr",
     "output_type": "stream",
     "text": [
      "c:\\Users\\mahsh\\Documents\\GitHub\\bugs-in-democracy\\EIL summer 2023\\rcv_dimensionality.py:170: RuntimeWarning: divide by zero encountered in true_divide\n",
      "  distance = 1 / np.sqrt(freq_upper_triangle)\n"
     ]
    },
    {
     "name": "stdout",
     "output_type": "stream",
     "text": [
      "240   NewYorkCity_06222021_DEMCouncilMember45thCouncilDistrict.csv\n",
      "          candidate  position  first place count  first place freq  len_1  \\\n",
      "0    Farah N. Louis       2.0              14580          0.756617   8359   \n",
      "1  Anthony Beckford  1.045292               3849          0.199741   1530   \n",
      "2   Cyril F. Joseph       0.0                841          0.043643    315   \n",
      "\n",
      "   len_2  len_3  \n",
      "0   1512   4709  \n",
      "1    759   1560  \n",
      "2    106    420  \n"
     ]
    },
    {
     "name": "stderr",
     "output_type": "stream",
     "text": [
      "c:\\Users\\mahsh\\Documents\\GitHub\\bugs-in-democracy\\EIL summer 2023\\rcv_dimensionality.py:170: RuntimeWarning: divide by zero encountered in true_divide\n",
      "  distance = 1 / np.sqrt(freq_upper_triangle)\n",
      "c:\\Users\\mahsh\\Documents\\GitHub\\bugs-in-democracy\\EIL summer 2023\\rcv_dimensionality.py:170: RuntimeWarning: divide by zero encountered in true_divide\n",
      "  distance = 1 / np.sqrt(freq_upper_triangle)\n",
      "c:\\Users\\mahsh\\Documents\\GitHub\\bugs-in-democracy\\EIL summer 2023\\rcv_dimensionality.py:170: RuntimeWarning: divide by zero encountered in true_divide\n",
      "  distance = 1 / np.sqrt(freq_upper_triangle)\n",
      "c:\\Users\\mahsh\\Documents\\GitHub\\bugs-in-democracy\\EIL summer 2023\\rcv_dimensionality.py:170: RuntimeWarning: divide by zero encountered in true_divide\n",
      "  distance = 1 / np.sqrt(freq_upper_triangle)\n",
      "c:\\Users\\mahsh\\Documents\\GitHub\\bugs-in-democracy\\EIL summer 2023\\rcv_dimensionality.py:170: RuntimeWarning: divide by zero encountered in true_divide\n",
      "  distance = 1 / np.sqrt(freq_upper_triangle)\n",
      "c:\\Users\\mahsh\\Documents\\GitHub\\bugs-in-democracy\\EIL summer 2023\\rcv_dimensionality.py:170: RuntimeWarning: divide by zero encountered in true_divide\n",
      "  distance = 1 / np.sqrt(freq_upper_triangle)\n",
      "c:\\Users\\mahsh\\Documents\\GitHub\\bugs-in-democracy\\EIL summer 2023\\rcv_dimensionality.py:170: RuntimeWarning: divide by zero encountered in true_divide\n",
      "  distance = 1 / np.sqrt(freq_upper_triangle)\n",
      "c:\\Users\\mahsh\\Documents\\GitHub\\bugs-in-democracy\\EIL summer 2023\\rcv_dimensionality.py:170: RuntimeWarning: divide by zero encountered in true_divide\n",
      "  distance = 1 / np.sqrt(freq_upper_triangle)\n",
      "c:\\Users\\mahsh\\Documents\\GitHub\\bugs-in-democracy\\EIL summer 2023\\rcv_dimensionality.py:170: RuntimeWarning: divide by zero encountered in true_divide\n",
      "  distance = 1 / np.sqrt(freq_upper_triangle)\n"
     ]
    },
    {
     "name": "stdout",
     "output_type": "stream",
     "text": [
      "250   NewYorkCity_06222021_DEMMayorCitywide.csv\n",
      "Empty DataFrame\n",
      "Columns: [candidate, position, first place count, first place freq]\n",
      "Index: []\n"
     ]
    },
    {
     "name": "stderr",
     "output_type": "stream",
     "text": [
      "c:\\Users\\mahsh\\Documents\\GitHub\\bugs-in-democracy\\EIL summer 2023\\rcv_dimensionality.py:170: RuntimeWarning: divide by zero encountered in true_divide\n",
      "  distance = 1 / np.sqrt(freq_upper_triangle)\n"
     ]
    },
    {
     "name": "stdout",
     "output_type": "stream",
     "text": [
      "250   NewYorkCity_06222021_DEMMayorCitywide.csv\n",
      "               candidate  position  first place count  first place freq  \\\n",
      "0          Eric L. Adams  7.027993             289986          0.307104   \n",
      "1          Maya D. Wiley  5.584823             201562          0.213460   \n",
      "2          Shaun Donovan  6.307749              23441          0.024825   \n",
      "3      Scott M. Stringer  3.442607              52140          0.055218   \n",
      "4      Kathryn A. Garcia  5.414239             184935          0.195852   \n",
      "5         Dianne Morales  5.210693              26780          0.028361   \n",
      "6   Paperboy Love Prince       0.0               4067          0.004307   \n",
      "7            Andrew Yang  4.961285             115670          0.122498   \n",
      "8     Raymond J. McGuire  6.007953              25507          0.027013   \n",
      "9        Joycelyn Taylor  4.539007               2768          0.002931   \n",
      "10             Art Chang   4.98909               7198          0.007623   \n",
      "11   Aaron S. Foldenauer  3.940111               7886          0.008352   \n",
      "12      Isaac Wright Jr.      12.0               2321          0.002458   \n",
      "\n",
      "    len_1  len_2  len_3  len_4   len_5  len_6  len_7  len_8  len_9  len_10  \\\n",
      "0   64511  37123  41605  27496  119251     -1     -1     -1     -1      -1   \n",
      "1   12813  21533  33822  30712  102682     -1     -1     -1     -1      -1   \n",
      "2    2531   2291   3517   2989   12113     -1     -1     -1     -1      -1   \n",
      "3    6443   6290   9451   7154   22802     -1     -1     -1     -1      -1   \n",
      "4   10308  18359  34535  30559   91174     -1     -1     -1     -1      -1   \n",
      "5    3356   2984   3869   3359   13212     -1     -1     -1     -1      -1   \n",
      "6     386    280    543    645    2213     -1     -1     -1     -1      -1   \n",
      "7   20697  17488  21661  11728   44096     -1     -1     -1     -1      -1   \n",
      "8    2333   3547   4082   3860   11685     -1     -1     -1     -1      -1   \n",
      "9     539    272    309    277    1371     -1     -1     -1     -1      -1   \n",
      "10    984    781    805    794    3834     -1     -1     -1     -1      -1   \n",
      "11   2034    731    822    773    3526     -1     -1     -1     -1      -1   \n",
      "12    487    269    257    205    1103     -1     -1     -1     -1      -1   \n",
      "\n",
      "    len_11  len_12  len_13  \n",
      "0       -1      -1      -1  \n",
      "1       -1      -1      -1  \n",
      "2       -1      -1      -1  \n",
      "3       -1      -1      -1  \n",
      "4       -1      -1      -1  \n",
      "5       -1      -1      -1  \n",
      "6       -1      -1      -1  \n",
      "7       -1      -1      -1  \n",
      "8       -1      -1      -1  \n",
      "9       -1      -1      -1  \n",
      "10      -1      -1      -1  \n",
      "11      -1      -1      -1  \n",
      "12      -1      -1      -1  \n"
     ]
    },
    {
     "name": "stderr",
     "output_type": "stream",
     "text": [
      "c:\\Users\\mahsh\\Documents\\GitHub\\bugs-in-democracy\\EIL summer 2023\\rcv_dimensionality.py:170: RuntimeWarning: divide by zero encountered in true_divide\n",
      "  distance = 1 / np.sqrt(freq_upper_triangle)\n",
      "c:\\Users\\mahsh\\Documents\\GitHub\\bugs-in-democracy\\EIL summer 2023\\rcv_dimensionality.py:170: RuntimeWarning: divide by zero encountered in true_divide\n",
      "  distance = 1 / np.sqrt(freq_upper_triangle)\n",
      "c:\\Users\\mahsh\\Documents\\GitHub\\bugs-in-democracy\\EIL summer 2023\\rcv_dimensionality.py:170: RuntimeWarning: divide by zero encountered in true_divide\n",
      "  distance = 1 / np.sqrt(freq_upper_triangle)\n",
      "c:\\Users\\mahsh\\Documents\\GitHub\\bugs-in-democracy\\EIL summer 2023\\rcv_dimensionality.py:170: RuntimeWarning: divide by zero encountered in true_divide\n",
      "  distance = 1 / np.sqrt(freq_upper_triangle)\n",
      "c:\\Users\\mahsh\\Documents\\GitHub\\bugs-in-democracy\\EIL summer 2023\\rcv_dimensionality.py:170: RuntimeWarning: divide by zero encountered in true_divide\n",
      "  distance = 1 / np.sqrt(freq_upper_triangle)\n",
      "c:\\Users\\mahsh\\Documents\\GitHub\\bugs-in-democracy\\EIL summer 2023\\rcv_dimensionality.py:170: RuntimeWarning: divide by zero encountered in true_divide\n",
      "  distance = 1 / np.sqrt(freq_upper_triangle)\n",
      "c:\\Users\\mahsh\\Documents\\GitHub\\bugs-in-democracy\\EIL summer 2023\\rcv_dimensionality.py:170: RuntimeWarning: divide by zero encountered in true_divide\n",
      "  distance = 1 / np.sqrt(freq_upper_triangle)\n",
      "c:\\Users\\mahsh\\Documents\\GitHub\\bugs-in-democracy\\EIL summer 2023\\rcv_dimensionality.py:170: RuntimeWarning: divide by zero encountered in true_divide\n",
      "  distance = 1 / np.sqrt(freq_upper_triangle)\n",
      "c:\\Users\\mahsh\\Documents\\GitHub\\bugs-in-democracy\\EIL summer 2023\\rcv_dimensionality.py:170: RuntimeWarning: divide by zero encountered in true_divide\n",
      "  distance = 1 / np.sqrt(freq_upper_triangle)\n"
     ]
    },
    {
     "name": "stdout",
     "output_type": "stream",
     "text": [
      "260   NewYorkCity_06222021_REPMayorCitywide.csv\n",
      "Empty DataFrame\n",
      "Columns: [candidate, position, first place count, first place freq]\n",
      "Index: []\n"
     ]
    },
    {
     "name": "stderr",
     "output_type": "stream",
     "text": [
      "c:\\Users\\mahsh\\Documents\\GitHub\\bugs-in-democracy\\EIL summer 2023\\rcv_dimensionality.py:170: RuntimeWarning: divide by zero encountered in true_divide\n",
      "  distance = 1 / np.sqrt(freq_upper_triangle)\n"
     ]
    },
    {
     "name": "stdout",
     "output_type": "stream",
     "text": [
      "260   NewYorkCity_06222021_REPMayorCitywide.csv\n",
      "         candidate position  first place count  first place freq  len_1  len_2\n",
      "0  Curtis A. Sliwa      0.0              41485          0.705647  21496  19989\n",
      "1   Fernando Mateo      1.0              17305          0.294353   7897   9408\n"
     ]
    },
    {
     "name": "stderr",
     "output_type": "stream",
     "text": [
      "c:\\Users\\mahsh\\Documents\\GitHub\\bugs-in-democracy\\EIL summer 2023\\rcv_dimensionality.py:170: RuntimeWarning: divide by zero encountered in true_divide\n",
      "  distance = 1 / np.sqrt(freq_upper_triangle)\n",
      "c:\\Users\\mahsh\\Documents\\GitHub\\bugs-in-democracy\\EIL summer 2023\\rcv_dimensionality.py:170: RuntimeWarning: divide by zero encountered in true_divide\n",
      "  distance = 1 / np.sqrt(freq_upper_triangle)\n",
      "c:\\Users\\mahsh\\Documents\\GitHub\\bugs-in-democracy\\EIL summer 2023\\rcv_dimensionality.py:170: RuntimeWarning: divide by zero encountered in true_divide\n",
      "  distance = 1 / np.sqrt(freq_upper_triangle)\n",
      "c:\\Users\\mahsh\\Documents\\GitHub\\bugs-in-democracy\\EIL summer 2023\\rcv_dimensionality.py:170: RuntimeWarning: divide by zero encountered in true_divide\n",
      "  distance = 1 / np.sqrt(freq_upper_triangle)\n",
      "c:\\Users\\mahsh\\Documents\\GitHub\\bugs-in-democracy\\EIL summer 2023\\rcv_dimensionality.py:170: RuntimeWarning: divide by zero encountered in true_divide\n",
      "  distance = 1 / np.sqrt(freq_upper_triangle)\n"
     ]
    },
    {
     "name": "stdout",
     "output_type": "stream",
     "text": [
      "Oakland_11022010_SchoolDirectorDistrict2.csv  threw an exception\n"
     ]
    },
    {
     "name": "stderr",
     "output_type": "stream",
     "text": [
      "c:\\Users\\mahsh\\Documents\\GitHub\\bugs-in-democracy\\EIL summer 2023\\rcv_dimensionality.py:170: RuntimeWarning: divide by zero encountered in true_divide\n",
      "  distance = 1 / np.sqrt(freq_upper_triangle)\n"
     ]
    },
    {
     "name": "stdout",
     "output_type": "stream",
     "text": [
      "Oakland_11022010_SchoolDirectorDistrict6.csv  threw an exception\n"
     ]
    },
    {
     "name": "stderr",
     "output_type": "stream",
     "text": [
      "c:\\Users\\mahsh\\Documents\\GitHub\\bugs-in-democracy\\EIL summer 2023\\rcv_dimensionality.py:170: RuntimeWarning: divide by zero encountered in true_divide\n",
      "  distance = 1 / np.sqrt(freq_upper_triangle)\n"
     ]
    },
    {
     "name": "stdout",
     "output_type": "stream",
     "text": [
      "270   Oakland_11032020_MemberCityCouncilAtLargeOaklandRCV.csv\n",
      "Empty DataFrame\n",
      "Columns: [candidate, position, first place count, first place freq]\n",
      "Index: []\n"
     ]
    },
    {
     "name": "stderr",
     "output_type": "stream",
     "text": [
      "c:\\Users\\mahsh\\Documents\\GitHub\\bugs-in-democracy\\EIL summer 2023\\rcv_dimensionality.py:170: RuntimeWarning: divide by zero encountered in true_divide\n",
      "  distance = 1 / np.sqrt(freq_upper_triangle)\n"
     ]
    },
    {
     "name": "stdout",
     "output_type": "stream",
     "text": [
      "270   Oakland_11032020_MemberCityCouncilAtLargeOaklandRCV.csv\n",
      "            candidate  position  first place count  first place freq  len_1  \\\n",
      "0    NANCY SIDEBOTHAM       2.0              14720          0.079270   3007   \n",
      "1  DERRECK B. JOHNSON  0.945779              79714          0.429276  16819   \n",
      "2      REBECCA KAPLAN       0.0              91260          0.491454  32707   \n",
      "\n",
      "   len_2  len_3  \n",
      "0   2965   8748  \n",
      "1  15523  47372  \n",
      "2  12713  45840  \n"
     ]
    },
    {
     "name": "stderr",
     "output_type": "stream",
     "text": [
      "c:\\Users\\mahsh\\Documents\\GitHub\\bugs-in-democracy\\EIL summer 2023\\rcv_dimensionality.py:170: RuntimeWarning: divide by zero encountered in true_divide\n",
      "  distance = 1 / np.sqrt(freq_upper_triangle)\n",
      "c:\\Users\\mahsh\\Documents\\GitHub\\bugs-in-democracy\\EIL summer 2023\\rcv_dimensionality.py:170: RuntimeWarning: divide by zero encountered in true_divide\n",
      "  distance = 1 / np.sqrt(freq_upper_triangle)\n",
      "c:\\Users\\mahsh\\Documents\\GitHub\\bugs-in-democracy\\EIL summer 2023\\rcv_dimensionality.py:170: RuntimeWarning: divide by zero encountered in true_divide\n",
      "  distance = 1 / np.sqrt(freq_upper_triangle)\n",
      "c:\\Users\\mahsh\\Documents\\GitHub\\bugs-in-democracy\\EIL summer 2023\\rcv_dimensionality.py:170: RuntimeWarning: divide by zero encountered in true_divide\n",
      "  distance = 1 / np.sqrt(freq_upper_triangle)\n",
      "c:\\Users\\mahsh\\Documents\\GitHub\\bugs-in-democracy\\EIL summer 2023\\rcv_dimensionality.py:170: RuntimeWarning: divide by zero encountered in true_divide\n",
      "  distance = 1 / np.sqrt(freq_upper_triangle)\n",
      "c:\\Users\\mahsh\\Documents\\GitHub\\bugs-in-democracy\\EIL summer 2023\\rcv_dimensionality.py:170: RuntimeWarning: divide by zero encountered in true_divide\n",
      "  distance = 1 / np.sqrt(freq_upper_triangle)\n",
      "c:\\Users\\mahsh\\Documents\\GitHub\\bugs-in-democracy\\EIL summer 2023\\rcv_dimensionality.py:170: RuntimeWarning: divide by zero encountered in true_divide\n",
      "  distance = 1 / np.sqrt(freq_upper_triangle)\n",
      "c:\\Users\\mahsh\\Documents\\GitHub\\bugs-in-democracy\\EIL summer 2023\\rcv_dimensionality.py:170: RuntimeWarning: divide by zero encountered in true_divide\n",
      "  distance = 1 / np.sqrt(freq_upper_triangle)\n",
      "c:\\Users\\mahsh\\Documents\\GitHub\\bugs-in-democracy\\EIL summer 2023\\rcv_dimensionality.py:170: RuntimeWarning: divide by zero encountered in true_divide\n",
      "  distance = 1 / np.sqrt(freq_upper_triangle)\n"
     ]
    },
    {
     "name": "stdout",
     "output_type": "stream",
     "text": [
      "280   Oakland_11042014_CityCouncilDistrict2.csv\n",
      "Empty DataFrame\n",
      "Columns: [candidate, position, first place count, first place freq]\n",
      "Index: []\n"
     ]
    },
    {
     "name": "stderr",
     "output_type": "stream",
     "text": [
      "c:\\Users\\mahsh\\Documents\\GitHub\\bugs-in-democracy\\EIL summer 2023\\rcv_dimensionality.py:170: RuntimeWarning: divide by zero encountered in true_divide\n",
      "  distance = 1 / np.sqrt(freq_upper_triangle)\n"
     ]
    },
    {
     "name": "stdout",
     "output_type": "stream",
     "text": [
      "280   Oakland_11042014_CityCouncilDistrict2.csv\n",
      "         candidate  position  first place count  first place freq  len_1  \\\n",
      "0      ANDREW PARK  3.192922               2605          0.191968    568   \n",
      "1        DANA KING  2.548034               4464          0.328961   1254   \n",
      "2        KEN MAXEY       0.0                311          0.022918     63   \n",
      "3     ABEL GUILLEN  2.475664               4887          0.360133   1223   \n",
      "4  KEVIN BLACKBURN       4.0               1303          0.096021    207   \n",
      "\n",
      "   len_2  len_3  len_4  len_5  \n",
      "0    476   1561     -1     -1  \n",
      "1    715   2495     -1     -1  \n",
      "2     36    212     -1     -1  \n",
      "3    977   2687     -1     -1  \n",
      "4    261    835     -1     -1  \n"
     ]
    },
    {
     "name": "stderr",
     "output_type": "stream",
     "text": [
      "c:\\Users\\mahsh\\Documents\\GitHub\\bugs-in-democracy\\EIL summer 2023\\rcv_dimensionality.py:170: RuntimeWarning: divide by zero encountered in true_divide\n",
      "  distance = 1 / np.sqrt(freq_upper_triangle)\n",
      "c:\\Users\\mahsh\\Documents\\GitHub\\bugs-in-democracy\\EIL summer 2023\\rcv_dimensionality.py:170: RuntimeWarning: divide by zero encountered in true_divide\n",
      "  distance = 1 / np.sqrt(freq_upper_triangle)\n",
      "c:\\Users\\mahsh\\Documents\\GitHub\\bugs-in-democracy\\EIL summer 2023\\rcv_dimensionality.py:159: RuntimeWarning: divide by zero encountered in true_divide\n",
      "  frequencies = counts / mentioned_together\n",
      "c:\\Users\\mahsh\\Documents\\GitHub\\bugs-in-democracy\\EIL summer 2023\\rcv_dimensionality.py:170: RuntimeWarning: divide by zero encountered in true_divide\n",
      "  distance = 1 / np.sqrt(freq_upper_triangle)\n",
      "c:\\Users\\mahsh\\Documents\\GitHub\\bugs-in-democracy\\EIL summer 2023\\rcv_dimensionality.py:170: RuntimeWarning: divide by zero encountered in true_divide\n",
      "  distance = 1 / np.sqrt(freq_upper_triangle)\n",
      "c:\\Users\\mahsh\\Documents\\GitHub\\bugs-in-democracy\\EIL summer 2023\\rcv_dimensionality.py:170: RuntimeWarning: divide by zero encountered in true_divide\n",
      "  distance = 1 / np.sqrt(freq_upper_triangle)\n",
      "c:\\Users\\mahsh\\Documents\\GitHub\\bugs-in-democracy\\EIL summer 2023\\rcv_dimensionality.py:170: RuntimeWarning: divide by zero encountered in true_divide\n",
      "  distance = 1 / np.sqrt(freq_upper_triangle)\n",
      "c:\\Users\\mahsh\\Documents\\GitHub\\bugs-in-democracy\\EIL summer 2023\\rcv_dimensionality.py:170: RuntimeWarning: divide by zero encountered in true_divide\n",
      "  distance = 1 / np.sqrt(freq_upper_triangle)\n",
      "c:\\Users\\mahsh\\Documents\\GitHub\\bugs-in-democracy\\EIL summer 2023\\rcv_dimensionality.py:170: RuntimeWarning: divide by zero encountered in true_divide\n",
      "  distance = 1 / np.sqrt(freq_upper_triangle)\n",
      "c:\\Users\\mahsh\\Documents\\GitHub\\bugs-in-democracy\\EIL summer 2023\\rcv_dimensionality.py:170: RuntimeWarning: divide by zero encountered in true_divide\n",
      "  distance = 1 / np.sqrt(freq_upper_triangle)\n"
     ]
    },
    {
     "name": "stdout",
     "output_type": "stream",
     "text": [
      "290   Oakland_11062012_CityCouncilDistrict3.csv\n",
      "Empty DataFrame\n",
      "Columns: [candidate, position, first place count, first place freq]\n",
      "Index: []\n"
     ]
    },
    {
     "name": "stderr",
     "output_type": "stream",
     "text": [
      "c:\\Users\\mahsh\\Documents\\GitHub\\bugs-in-democracy\\EIL summer 2023\\rcv_dimensionality.py:170: RuntimeWarning: divide by zero encountered in true_divide\n",
      "  distance = 1 / np.sqrt(freq_upper_triangle)\n"
     ]
    },
    {
     "name": "stdout",
     "output_type": "stream",
     "text": [
      "290   Oakland_11062012_CityCouncilDistrict3.csv\n",
      "                  candidate  position  first place count  first place freq  \\\n",
      "0             SEAN SULLIVAN  1.873509               5744          0.260558   \n",
      "1          ALEX MILLER-COLE  2.798789               2016          0.091449   \n",
      "2   LARRY LIONEL YOUNG, JR.       0.0               1969          0.089317   \n",
      "3            NYEISHA DEWITT  3.400084               3924          0.178000   \n",
      "4          DERRICK MUHAMMAD       5.0               3161          0.143389   \n",
      "5  LYNETTE GIBSON-MCELHANEY  2.299366               5231          0.237287   \n",
      "\n",
      "   len_1  len_2  len_3  len_4  len_5  len_6  \n",
      "0   1297    710   3737     -1     -1     -1  \n",
      "1    471    249   1296     -1     -1     -1  \n",
      "2    444    202   1323     -1     -1     -1  \n",
      "3    883    469   2572     -1     -1     -1  \n",
      "4    673    323   2165     -1     -1     -1  \n",
      "5    919    654   3658     -1     -1     -1  \n"
     ]
    },
    {
     "name": "stderr",
     "output_type": "stream",
     "text": [
      "c:\\Users\\mahsh\\Documents\\GitHub\\bugs-in-democracy\\EIL summer 2023\\rcv_dimensionality.py:170: RuntimeWarning: divide by zero encountered in true_divide\n",
      "  distance = 1 / np.sqrt(freq_upper_triangle)\n",
      "c:\\Users\\mahsh\\Documents\\GitHub\\bugs-in-democracy\\EIL summer 2023\\rcv_dimensionality.py:170: RuntimeWarning: divide by zero encountered in true_divide\n",
      "  distance = 1 / np.sqrt(freq_upper_triangle)\n",
      "c:\\Users\\mahsh\\Documents\\GitHub\\bugs-in-democracy\\EIL summer 2023\\rcv_dimensionality.py:170: RuntimeWarning: divide by zero encountered in true_divide\n",
      "  distance = 1 / np.sqrt(freq_upper_triangle)\n",
      "c:\\Users\\mahsh\\Documents\\GitHub\\bugs-in-democracy\\EIL summer 2023\\rcv_dimensionality.py:170: RuntimeWarning: divide by zero encountered in true_divide\n",
      "  distance = 1 / np.sqrt(freq_upper_triangle)\n",
      "c:\\Users\\mahsh\\Documents\\GitHub\\bugs-in-democracy\\EIL summer 2023\\rcv_dimensionality.py:170: RuntimeWarning: divide by zero encountered in true_divide\n",
      "  distance = 1 / np.sqrt(freq_upper_triangle)\n",
      "c:\\Users\\mahsh\\Documents\\GitHub\\bugs-in-democracy\\EIL summer 2023\\rcv_dimensionality.py:170: RuntimeWarning: divide by zero encountered in true_divide\n",
      "  distance = 1 / np.sqrt(freq_upper_triangle)\n",
      "c:\\Users\\mahsh\\Documents\\GitHub\\bugs-in-democracy\\EIL summer 2023\\rcv_dimensionality.py:170: RuntimeWarning: divide by zero encountered in true_divide\n",
      "  distance = 1 / np.sqrt(freq_upper_triangle)\n",
      "c:\\Users\\mahsh\\Documents\\GitHub\\bugs-in-democracy\\EIL summer 2023\\rcv_dimensionality.py:170: RuntimeWarning: divide by zero encountered in true_divide\n",
      "  distance = 1 / np.sqrt(freq_upper_triangle)\n",
      "c:\\Users\\mahsh\\Documents\\GitHub\\bugs-in-democracy\\EIL summer 2023\\rcv_dimensionality.py:170: RuntimeWarning: divide by zero encountered in true_divide\n",
      "  distance = 1 / np.sqrt(freq_upper_triangle)\n"
     ]
    },
    {
     "name": "stdout",
     "output_type": "stream",
     "text": [
      "300   Oakland_11062018_CityCouncilDistrict6.csv\n",
      "Empty DataFrame\n",
      "Columns: [candidate, position, first place count, first place freq]\n",
      "Index: []\n"
     ]
    },
    {
     "name": "stderr",
     "output_type": "stream",
     "text": [
      "c:\\Users\\mahsh\\Documents\\GitHub\\bugs-in-democracy\\EIL summer 2023\\rcv_dimensionality.py:170: RuntimeWarning: divide by zero encountered in true_divide\n",
      "  distance = 1 / np.sqrt(freq_upper_triangle)\n"
     ]
    },
    {
     "name": "stdout",
     "output_type": "stream",
     "text": [
      "300   Oakland_11062018_CityCouncilDistrict6.csv\n",
      "           candidate  position  first place count  first place freq  len_1  \\\n",
      "0  NATASHA MIDDLETON  2.818597               2175          0.121522    276   \n",
      "1      DESLEY BROOKS       0.0               4443          0.248240   1556   \n",
      "2       LOREN TAYLOR  2.224592               7171          0.400659   1405   \n",
      "3       MYA WHITAKER    1.7379               2511          0.140295    419   \n",
      "4    MARLO RODRIGUEZ       4.0               1598          0.089284    342   \n",
      "\n",
      "   len_2  len_3  len_4  len_5  \n",
      "0    235   1664     -1     -1  \n",
      "1    669   2218     -1     -1  \n",
      "2    814   4952     -1     -1  \n",
      "3    366   1726     -1     -1  \n",
      "4    249   1007     -1     -1  \n"
     ]
    },
    {
     "name": "stderr",
     "output_type": "stream",
     "text": [
      "c:\\Users\\mahsh\\Documents\\GitHub\\bugs-in-democracy\\EIL summer 2023\\rcv_dimensionality.py:170: RuntimeWarning: divide by zero encountered in true_divide\n",
      "  distance = 1 / np.sqrt(freq_upper_triangle)\n"
     ]
    },
    {
     "name": "stdout",
     "output_type": "stream",
     "text": [
      "Oakland_11062018_SchoolDirectorDistrict2.csv  threw an exception\n"
     ]
    },
    {
     "name": "stderr",
     "output_type": "stream",
     "text": [
      "c:\\Users\\mahsh\\Documents\\GitHub\\bugs-in-democracy\\EIL summer 2023\\rcv_dimensionality.py:170: RuntimeWarning: divide by zero encountered in true_divide\n",
      "  distance = 1 / np.sqrt(freq_upper_triangle)\n",
      "c:\\Users\\mahsh\\Documents\\GitHub\\bugs-in-democracy\\EIL summer 2023\\rcv_dimensionality.py:170: RuntimeWarning: divide by zero encountered in true_divide\n",
      "  distance = 1 / np.sqrt(freq_upper_triangle)\n"
     ]
    },
    {
     "name": "stdout",
     "output_type": "stream",
     "text": [
      "Oakland_11082016_CityAttorney.csv  threw an exception\n"
     ]
    },
    {
     "name": "stderr",
     "output_type": "stream",
     "text": [
      "c:\\Users\\mahsh\\Documents\\GitHub\\bugs-in-democracy\\EIL summer 2023\\rcv_dimensionality.py:170: RuntimeWarning: divide by zero encountered in true_divide\n",
      "  distance = 1 / np.sqrt(freq_upper_triangle)\n",
      "c:\\Users\\mahsh\\Documents\\GitHub\\bugs-in-democracy\\EIL summer 2023\\rcv_dimensionality.py:170: RuntimeWarning: divide by zero encountered in true_divide\n",
      "  distance = 1 / np.sqrt(freq_upper_triangle)\n",
      "c:\\Users\\mahsh\\Documents\\GitHub\\bugs-in-democracy\\EIL summer 2023\\rcv_dimensionality.py:170: RuntimeWarning: divide by zero encountered in true_divide\n",
      "  distance = 1 / np.sqrt(freq_upper_triangle)\n",
      "c:\\Users\\mahsh\\Documents\\GitHub\\bugs-in-democracy\\EIL summer 2023\\rcv_dimensionality.py:170: RuntimeWarning: divide by zero encountered in true_divide\n",
      "  distance = 1 / np.sqrt(freq_upper_triangle)\n"
     ]
    },
    {
     "name": "stdout",
     "output_type": "stream",
     "text": [
      "310   Oakland_11082016_CouncilAtLrg.csv\n",
      "Empty DataFrame\n",
      "Columns: [candidate, position, first place count, first place freq]\n",
      "Index: []\n"
     ]
    },
    {
     "name": "stderr",
     "output_type": "stream",
     "text": [
      "c:\\Users\\mahsh\\Documents\\GitHub\\bugs-in-democracy\\EIL summer 2023\\rcv_dimensionality.py:170: RuntimeWarning: divide by zero encountered in true_divide\n",
      "  distance = 1 / np.sqrt(freq_upper_triangle)\n"
     ]
    },
    {
     "name": "stdout",
     "output_type": "stream",
     "text": [
      "310   Oakland_11082016_CouncilAtLrg.csv\n",
      "                 candidate  position  first place count  first place freq  \\\n",
      "0           REBECCA KAPLAN  2.755903              83537          0.520133   \n",
      "1              PEGGY MOORE    2.8987              32068          0.199668   \n",
      "2  FRANCIS ''MATT'' HUMMEL  1.783262              11663          0.072618   \n",
      "3         NANCY SIDEBOTHAM       0.0               5858          0.036474   \n",
      "4               BRUCE QUAN       4.0              27481          0.171107   \n",
      "\n",
      "   len_1  len_2  len_3  len_4  len_5  \n",
      "0  25459  11740  46338     -1     -1  \n",
      "1   6213   5913  19942     -1     -1  \n",
      "2   1641   2811   7211     -1     -1  \n",
      "3   1250   1004   3604     -1     -1  \n",
      "4   4658   3879  18944     -1     -1  \n"
     ]
    },
    {
     "name": "stderr",
     "output_type": "stream",
     "text": [
      "c:\\Users\\mahsh\\Documents\\GitHub\\bugs-in-democracy\\EIL summer 2023\\rcv_dimensionality.py:170: RuntimeWarning: divide by zero encountered in true_divide\n",
      "  distance = 1 / np.sqrt(freq_upper_triangle)\n",
      "c:\\Users\\mahsh\\Documents\\GitHub\\bugs-in-democracy\\EIL summer 2023\\rcv_dimensionality.py:170: RuntimeWarning: divide by zero encountered in true_divide\n",
      "  distance = 1 / np.sqrt(freq_upper_triangle)\n",
      "c:\\Users\\mahsh\\Documents\\GitHub\\bugs-in-democracy\\EIL summer 2023\\rcv_dimensionality.py:170: RuntimeWarning: divide by zero encountered in true_divide\n",
      "  distance = 1 / np.sqrt(freq_upper_triangle)\n",
      "c:\\Users\\mahsh\\Documents\\GitHub\\bugs-in-democracy\\EIL summer 2023\\rcv_dimensionality.py:170: RuntimeWarning: divide by zero encountered in true_divide\n",
      "  distance = 1 / np.sqrt(freq_upper_triangle)\n"
     ]
    },
    {
     "name": "stdout",
     "output_type": "stream",
     "text": [
      "Oakland_11082022_CityAuditor.csv  threw an exception\n"
     ]
    },
    {
     "name": "stderr",
     "output_type": "stream",
     "text": [
      "c:\\Users\\mahsh\\Documents\\GitHub\\bugs-in-democracy\\EIL summer 2023\\rcv_dimensionality.py:170: RuntimeWarning: divide by zero encountered in true_divide\n",
      "  distance = 1 / np.sqrt(freq_upper_triangle)\n",
      "c:\\Users\\mahsh\\Documents\\GitHub\\bugs-in-democracy\\EIL summer 2023\\rcv_dimensionality.py:170: RuntimeWarning: divide by zero encountered in true_divide\n",
      "  distance = 1 / np.sqrt(freq_upper_triangle)\n",
      "c:\\Users\\mahsh\\Documents\\GitHub\\bugs-in-democracy\\EIL summer 2023\\rcv_dimensionality.py:170: RuntimeWarning: divide by zero encountered in true_divide\n",
      "  distance = 1 / np.sqrt(freq_upper_triangle)\n",
      "c:\\Users\\mahsh\\Documents\\GitHub\\bugs-in-democracy\\EIL summer 2023\\rcv_dimensionality.py:170: RuntimeWarning: divide by zero encountered in true_divide\n",
      "  distance = 1 / np.sqrt(freq_upper_triangle)\n"
     ]
    },
    {
     "name": "stdout",
     "output_type": "stream",
     "text": [
      "320   Oakland_11082022_Schoolboarddistrict4.csv\n",
      "Empty DataFrame\n",
      "Columns: [candidate, position, first place count, first place freq]\n",
      "Index: []\n"
     ]
    },
    {
     "name": "stderr",
     "output_type": "stream",
     "text": [
      "c:\\Users\\mahsh\\Documents\\GitHub\\bugs-in-democracy\\EIL summer 2023\\rcv_dimensionality.py:170: RuntimeWarning: divide by zero encountered in true_divide\n",
      "  distance = 1 / np.sqrt(freq_upper_triangle)\n"
     ]
    },
    {
     "name": "stdout",
     "output_type": "stream",
     "text": [
      "320   Oakland_11082022_Schoolboarddistrict4.csv\n",
      "         candidate  position  first place count  first place freq  len_1  \\\n",
      "0  MIKE HUTCHINSON  1.130869               8255          0.311486   2331   \n",
      "1     NICK RESNICK       0.0              10026          0.378311   3746   \n",
      "2   PECOLIA MANIGO       2.0               8221          0.310203   1851   \n",
      "\n",
      "   len_2  len_3  \n",
      "0   1833   4091  \n",
      "1   1863   4417  \n",
      "2   3213   3157  \n"
     ]
    },
    {
     "name": "stderr",
     "output_type": "stream",
     "text": [
      "c:\\Users\\mahsh\\Documents\\GitHub\\bugs-in-democracy\\EIL summer 2023\\rcv_dimensionality.py:170: RuntimeWarning: divide by zero encountered in true_divide\n",
      "  distance = 1 / np.sqrt(freq_upper_triangle)\n",
      "c:\\Users\\mahsh\\Documents\\GitHub\\bugs-in-democracy\\EIL summer 2023\\rcv_dimensionality.py:170: RuntimeWarning: divide by zero encountered in true_divide\n",
      "  distance = 1 / np.sqrt(freq_upper_triangle)\n",
      "c:\\Users\\mahsh\\Documents\\GitHub\\bugs-in-democracy\\EIL summer 2023\\rcv_dimensionality.py:170: RuntimeWarning: divide by zero encountered in true_divide\n",
      "  distance = 1 / np.sqrt(freq_upper_triangle)\n",
      "c:\\Users\\mahsh\\Documents\\GitHub\\bugs-in-democracy\\EIL summer 2023\\rcv_dimensionality.py:170: RuntimeWarning: divide by zero encountered in true_divide\n",
      "  distance = 1 / np.sqrt(freq_upper_triangle)\n",
      "c:\\Users\\mahsh\\Documents\\GitHub\\bugs-in-democracy\\EIL summer 2023\\rcv_dimensionality.py:170: RuntimeWarning: divide by zero encountered in true_divide\n",
      "  distance = 1 / np.sqrt(freq_upper_triangle)\n",
      "c:\\Users\\mahsh\\Documents\\GitHub\\bugs-in-democracy\\EIL summer 2023\\rcv_dimensionality.py:170: RuntimeWarning: divide by zero encountered in true_divide\n",
      "  distance = 1 / np.sqrt(freq_upper_triangle)\n",
      "c:\\Users\\mahsh\\Documents\\GitHub\\bugs-in-democracy\\EIL summer 2023\\rcv_dimensionality.py:170: RuntimeWarning: divide by zero encountered in true_divide\n",
      "  distance = 1 / np.sqrt(freq_upper_triangle)\n",
      "c:\\Users\\mahsh\\Documents\\GitHub\\bugs-in-democracy\\EIL summer 2023\\rcv_dimensionality.py:170: RuntimeWarning: divide by zero encountered in true_divide\n",
      "  distance = 1 / np.sqrt(freq_upper_triangle)\n",
      "c:\\Users\\mahsh\\Documents\\GitHub\\bugs-in-democracy\\EIL summer 2023\\rcv_dimensionality.py:159: RuntimeWarning: divide by zero encountered in true_divide\n",
      "  frequencies = counts / mentioned_together\n",
      "c:\\Users\\mahsh\\Documents\\GitHub\\bugs-in-democracy\\EIL summer 2023\\rcv_dimensionality.py:159: RuntimeWarning: invalid value encountered in true_divide\n",
      "  frequencies = counts / mentioned_together\n",
      "c:\\Users\\mahsh\\Documents\\GitHub\\bugs-in-democracy\\EIL summer 2023\\rcv_dimensionality.py:170: RuntimeWarning: divide by zero encountered in true_divide\n",
      "  distance = 1 / np.sqrt(freq_upper_triangle)\n"
     ]
    },
    {
     "name": "stdout",
     "output_type": "stream",
     "text": [
      "330   Portland_06142022_Schoolboarddistrict5-1.csv\n",
      "Empty DataFrame\n",
      "Columns: [candidate, position, first place count, first place freq]\n",
      "Index: []\n"
     ]
    },
    {
     "name": "stderr",
     "output_type": "stream",
     "text": [
      "c:\\Users\\mahsh\\Documents\\GitHub\\bugs-in-democracy\\EIL summer 2023\\rcv_dimensionality.py:170: RuntimeWarning: divide by zero encountered in true_divide\n",
      "  distance = 1 / np.sqrt(freq_upper_triangle)\n"
     ]
    },
    {
     "name": "stdout",
     "output_type": "stream",
     "text": [
      "330   Portland_06142022_Schoolboarddistrict5-1.csv\n",
      "                     candidate  position  first place count  first place freq  \\\n",
      "0           Haefele, Joshua W.  0.572236                417          0.213737   \n",
      "1                Viola, Lou A.       0.0                182          0.093285   \n",
      "2           Goglin, Barbara E.  1.642088                118          0.060482   \n",
      "3             Brydon, Sarah M.  1.134165                949          0.486417   \n",
      "4     Capone-Newton, Elizabeth  1.318457                285          0.146079   \n",
      "5  Capone-Newton, Elizabeth A.       5.0                 -1         -0.000513   \n",
      "\n",
      "   len_1  len_2  len_3  len_4  len_5  len_6  \n",
      "0    116    122    100     14     65     -1  \n",
      "1     62     52     18      8     42     -1  \n",
      "2     51     22     15      1     29     -1  \n",
      "3    419    250     80     18    182     -1  \n",
      "4     66    106     35     12     66     -1  \n",
      "5     -1     -1     -1     -1     -1     -1  \n"
     ]
    },
    {
     "name": "stderr",
     "output_type": "stream",
     "text": [
      "c:\\Users\\mahsh\\Documents\\GitHub\\bugs-in-democracy\\EIL summer 2023\\rcv_dimensionality.py:159: RuntimeWarning: divide by zero encountered in true_divide\n",
      "  frequencies = counts / mentioned_together\n",
      "c:\\Users\\mahsh\\Documents\\GitHub\\bugs-in-democracy\\EIL summer 2023\\rcv_dimensionality.py:159: RuntimeWarning: invalid value encountered in true_divide\n",
      "  frequencies = counts / mentioned_together\n",
      "c:\\Users\\mahsh\\Documents\\GitHub\\bugs-in-democracy\\EIL summer 2023\\rcv_dimensionality.py:170: RuntimeWarning: divide by zero encountered in true_divide\n",
      "  distance = 1 / np.sqrt(freq_upper_triangle)\n",
      "c:\\Users\\mahsh\\Documents\\GitHub\\bugs-in-democracy\\EIL summer 2023\\rcv_dimensionality.py:170: RuntimeWarning: divide by zero encountered in true_divide\n",
      "  distance = 1 / np.sqrt(freq_upper_triangle)\n",
      "c:\\Users\\mahsh\\Documents\\GitHub\\bugs-in-democracy\\EIL summer 2023\\rcv_dimensionality.py:170: RuntimeWarning: divide by zero encountered in true_divide\n",
      "  distance = 1 / np.sqrt(freq_upper_triangle)\n",
      "c:\\Users\\mahsh\\Documents\\GitHub\\bugs-in-democracy\\EIL summer 2023\\rcv_dimensionality.py:170: RuntimeWarning: divide by zero encountered in true_divide\n",
      "  distance = 1 / np.sqrt(freq_upper_triangle)\n",
      "c:\\Users\\mahsh\\Documents\\GitHub\\bugs-in-democracy\\EIL summer 2023\\rcv_dimensionality.py:170: RuntimeWarning: divide by zero encountered in true_divide\n",
      "  distance = 1 / np.sqrt(freq_upper_triangle)\n",
      "c:\\Users\\mahsh\\Documents\\GitHub\\bugs-in-democracy\\EIL summer 2023\\rcv_dimensionality.py:170: RuntimeWarning: divide by zero encountered in true_divide\n",
      "  distance = 1 / np.sqrt(freq_upper_triangle)\n",
      "c:\\Users\\mahsh\\Documents\\GitHub\\bugs-in-democracy\\EIL summer 2023\\rcv_dimensionality.py:170: RuntimeWarning: divide by zero encountered in true_divide\n",
      "  distance = 1 / np.sqrt(freq_upper_triangle)\n",
      "c:\\Users\\mahsh\\Documents\\GitHub\\bugs-in-democracy\\EIL summer 2023\\rcv_dimensionality.py:170: RuntimeWarning: divide by zero encountered in true_divide\n",
      "  distance = 1 / np.sqrt(freq_upper_triangle)\n",
      "c:\\Users\\mahsh\\Documents\\GitHub\\bugs-in-democracy\\EIL summer 2023\\rcv_dimensionality.py:170: RuntimeWarning: divide by zero encountered in true_divide\n",
      "  distance = 1 / np.sqrt(freq_upper_triangle)\n"
     ]
    },
    {
     "name": "stdout",
     "output_type": "stream",
     "text": [
      "340   SanFrancisco_11022004_BoardofSupervisorsDistrict9.csv\n",
      "Empty DataFrame\n",
      "Columns: [candidate, position, first place count, first place freq]\n",
      "Index: []\n"
     ]
    },
    {
     "name": "stderr",
     "output_type": "stream",
     "text": [
      "c:\\Users\\mahsh\\Documents\\GitHub\\bugs-in-democracy\\EIL summer 2023\\rcv_dimensionality.py:170: RuntimeWarning: divide by zero encountered in true_divide\n",
      "  distance = 1 / np.sqrt(freq_upper_triangle)\n"
     ]
    },
    {
     "name": "stdout",
     "output_type": "stream",
     "text": [
      "340   SanFrancisco_11022004_BoardofSupervisorsDistrict9.csv\n",
      "           candidate  position  first place count  first place freq  len_1  \\\n",
      "0      Steve Zeltzer  2.666892                806          0.032420    154   \n",
      "1  James Boris Perez       5.0                583          0.023450    124   \n",
      "2      Renee Saucedo       0.0               5499          0.221190    636   \n",
      "3      Miguel Bustos  0.972574               4349          0.174933    850   \n",
      "4        Tom Ammiano  1.438129              12597          0.506697   2295   \n",
      "5  Lucrecia Bermudez  0.723949               1027          0.041310    119   \n",
      "\n",
      "   len_2  len_3  len_4  len_5  len_6  \n",
      "0     91    561     -1     -1     -1  \n",
      "1     87    372     -1     -1     -1  \n",
      "2    905   3958     -1     -1     -1  \n",
      "3    632   2867     -1     -1     -1  \n",
      "4   2743   7559     -1     -1     -1  \n",
      "5     98    810     -1     -1     -1  \n"
     ]
    },
    {
     "name": "stderr",
     "output_type": "stream",
     "text": [
      "c:\\Users\\mahsh\\Documents\\GitHub\\bugs-in-democracy\\EIL summer 2023\\rcv_dimensionality.py:170: RuntimeWarning: divide by zero encountered in true_divide\n",
      "  distance = 1 / np.sqrt(freq_upper_triangle)\n",
      "c:\\Users\\mahsh\\Documents\\GitHub\\bugs-in-democracy\\EIL summer 2023\\rcv_dimensionality.py:170: RuntimeWarning: divide by zero encountered in true_divide\n",
      "  distance = 1 / np.sqrt(freq_upper_triangle)\n",
      "c:\\Users\\mahsh\\Documents\\GitHub\\bugs-in-democracy\\EIL summer 2023\\rcv_dimensionality.py:170: RuntimeWarning: divide by zero encountered in true_divide\n",
      "  distance = 1 / np.sqrt(freq_upper_triangle)\n",
      "c:\\Users\\mahsh\\Documents\\GitHub\\bugs-in-democracy\\EIL summer 2023\\rcv_dimensionality.py:170: RuntimeWarning: divide by zero encountered in true_divide\n",
      "  distance = 1 / np.sqrt(freq_upper_triangle)\n",
      "c:\\Users\\mahsh\\Documents\\GitHub\\bugs-in-democracy\\EIL summer 2023\\rcv_dimensionality.py:170: RuntimeWarning: divide by zero encountered in true_divide\n",
      "  distance = 1 / np.sqrt(freq_upper_triangle)\n",
      "c:\\Users\\mahsh\\Documents\\GitHub\\bugs-in-democracy\\EIL summer 2023\\rcv_dimensionality.py:170: RuntimeWarning: divide by zero encountered in true_divide\n",
      "  distance = 1 / np.sqrt(freq_upper_triangle)\n",
      "c:\\Users\\mahsh\\Documents\\GitHub\\bugs-in-democracy\\EIL summer 2023\\rcv_dimensionality.py:170: RuntimeWarning: divide by zero encountered in true_divide\n",
      "  distance = 1 / np.sqrt(freq_upper_triangle)\n",
      "c:\\Users\\mahsh\\Documents\\GitHub\\bugs-in-democracy\\EIL summer 2023\\rcv_dimensionality.py:170: RuntimeWarning: divide by zero encountered in true_divide\n",
      "  distance = 1 / np.sqrt(freq_upper_triangle)\n",
      "c:\\Users\\mahsh\\Documents\\GitHub\\bugs-in-democracy\\EIL summer 2023\\rcv_dimensionality.py:170: RuntimeWarning: divide by zero encountered in true_divide\n",
      "  distance = 1 / np.sqrt(freq_upper_triangle)\n"
     ]
    },
    {
     "name": "stdout",
     "output_type": "stream",
     "text": [
      "350   SanFrancisco_11032020_BOARDOFSUPERVISORSDISTRICT3.csv\n",
      "Empty DataFrame\n",
      "Columns: [candidate, position, first place count, first place freq]\n",
      "Index: []\n"
     ]
    },
    {
     "name": "stderr",
     "output_type": "stream",
     "text": [
      "c:\\Users\\mahsh\\Documents\\GitHub\\bugs-in-democracy\\EIL summer 2023\\rcv_dimensionality.py:170: RuntimeWarning: divide by zero encountered in true_divide\n",
      "  distance = 1 / np.sqrt(freq_upper_triangle)\n"
     ]
    },
    {
     "name": "stdout",
     "output_type": "stream",
     "text": [
      "350   SanFrancisco_11032020_BOARDOFSUPERVISORSDISTRICT3.csv\n",
      "                 candidate  position  first place count  first place freq  \\\n",
      "0             AARON PESKIN       0.0              15417          0.532999   \n",
      "1             DANNY SAUTER  0.935993              10561          0.365117   \n",
      "2         SPENCER SIMONSEN  1.987353               1501          0.051893   \n",
      "3  STEPHEN (LULU) SCHWARTZ       3.0               1446          0.049991   \n",
      "\n",
      "   len_1  len_2  len_3  len_4  \n",
      "0   4851   1845   1291   7430  \n",
      "1   1781   1420   1467   5893  \n",
      "2    125    129    239   1008  \n",
      "3     70     44    132   1200  \n"
     ]
    },
    {
     "name": "stderr",
     "output_type": "stream",
     "text": [
      "c:\\Users\\mahsh\\Documents\\GitHub\\bugs-in-democracy\\EIL summer 2023\\rcv_dimensionality.py:170: RuntimeWarning: divide by zero encountered in true_divide\n",
      "  distance = 1 / np.sqrt(freq_upper_triangle)\n",
      "c:\\Users\\mahsh\\Documents\\GitHub\\bugs-in-democracy\\EIL summer 2023\\rcv_dimensionality.py:170: RuntimeWarning: divide by zero encountered in true_divide\n",
      "  distance = 1 / np.sqrt(freq_upper_triangle)\n",
      "c:\\Users\\mahsh\\Documents\\GitHub\\bugs-in-democracy\\EIL summer 2023\\rcv_dimensionality.py:170: RuntimeWarning: divide by zero encountered in true_divide\n",
      "  distance = 1 / np.sqrt(freq_upper_triangle)\n",
      "c:\\Users\\mahsh\\Documents\\GitHub\\bugs-in-democracy\\EIL summer 2023\\rcv_dimensionality.py:170: RuntimeWarning: divide by zero encountered in true_divide\n",
      "  distance = 1 / np.sqrt(freq_upper_triangle)\n",
      "c:\\Users\\mahsh\\Documents\\GitHub\\bugs-in-democracy\\EIL summer 2023\\rcv_dimensionality.py:159: RuntimeWarning: divide by zero encountered in true_divide\n",
      "  frequencies = counts / mentioned_together\n",
      "c:\\Users\\mahsh\\Documents\\GitHub\\bugs-in-democracy\\EIL summer 2023\\rcv_dimensionality.py:159: RuntimeWarning: invalid value encountered in true_divide\n",
      "  frequencies = counts / mentioned_together\n",
      "c:\\Users\\mahsh\\Documents\\GitHub\\bugs-in-democracy\\EIL summer 2023\\rcv_dimensionality.py:170: RuntimeWarning: divide by zero encountered in true_divide\n",
      "  distance = 1 / np.sqrt(freq_upper_triangle)\n",
      "c:\\Users\\mahsh\\Documents\\GitHub\\bugs-in-democracy\\EIL summer 2023\\rcv_dimensionality.py:170: RuntimeWarning: divide by zero encountered in true_divide\n",
      "  distance = 1 / np.sqrt(freq_upper_triangle)\n",
      "c:\\Users\\mahsh\\Documents\\GitHub\\bugs-in-democracy\\EIL summer 2023\\rcv_dimensionality.py:170: RuntimeWarning: divide by zero encountered in true_divide\n",
      "  distance = 1 / np.sqrt(freq_upper_triangle)\n",
      "c:\\Users\\mahsh\\Documents\\GitHub\\bugs-in-democracy\\EIL summer 2023\\rcv_dimensionality.py:170: RuntimeWarning: divide by zero encountered in true_divide\n",
      "  distance = 1 / np.sqrt(freq_upper_triangle)\n",
      "c:\\Users\\mahsh\\Documents\\GitHub\\bugs-in-democracy\\EIL summer 2023\\rcv_dimensionality.py:170: RuntimeWarning: divide by zero encountered in true_divide\n",
      "  distance = 1 / np.sqrt(freq_upper_triangle)\n"
     ]
    },
    {
     "name": "stdout",
     "output_type": "stream",
     "text": [
      "360   SanFrancisco_11042008_BoardofSupervisorsDistrict9.csv\n",
      "Empty DataFrame\n",
      "Columns: [candidate, position, first place count, first place freq]\n",
      "Index: []\n"
     ]
    },
    {
     "name": "stderr",
     "output_type": "stream",
     "text": [
      "c:\\Users\\mahsh\\Documents\\GitHub\\bugs-in-democracy\\EIL summer 2023\\rcv_dimensionality.py:170: RuntimeWarning: divide by zero encountered in true_divide\n",
      "  distance = 1 / np.sqrt(freq_upper_triangle)\n"
     ]
    },
    {
     "name": "stdout",
     "output_type": "stream",
     "text": [
      "360   SanFrancisco_11042008_BoardofSupervisorsDistrict9.csv\n",
      "      candidate  position  first place count  first place freq  len_1  len_2  \\\n",
      "0  MARK SANCHEZ  1.478524               7693          0.289091   1098    841   \n",
      "1  DAVID CAMPOS  1.926292               9513          0.357484   1317   1115   \n",
      "2    EVA ROYALE  2.553639               1849          0.069483    355    182   \n",
      "3    TOM VALTIN       0.0                873          0.032806    133    116   \n",
      "4  ERIC QUEZADA  2.032529               5394          0.202698    916    568   \n",
      "5   ERIC STOREY  3.123015                812          0.030514    211    119   \n",
      "6  VERN MATHEWS       6.0                477          0.017925     77     55   \n",
      "\n",
      "   len_3  len_4  len_5  len_6  len_7  \n",
      "0   5754     -1     -1     -1     -1  \n",
      "1   7081     -1     -1     -1     -1  \n",
      "2   1312     -1     -1     -1     -1  \n",
      "3    624     -1     -1     -1     -1  \n",
      "4   3910     -1     -1     -1     -1  \n",
      "5    482     -1     -1     -1     -1  \n",
      "6    345     -1     -1     -1     -1  \n"
     ]
    },
    {
     "name": "stderr",
     "output_type": "stream",
     "text": [
      "c:\\Users\\mahsh\\Documents\\GitHub\\bugs-in-democracy\\EIL summer 2023\\rcv_dimensionality.py:170: RuntimeWarning: divide by zero encountered in true_divide\n",
      "  distance = 1 / np.sqrt(freq_upper_triangle)\n",
      "c:\\Users\\mahsh\\Documents\\GitHub\\bugs-in-democracy\\EIL summer 2023\\rcv_dimensionality.py:170: RuntimeWarning: divide by zero encountered in true_divide\n",
      "  distance = 1 / np.sqrt(freq_upper_triangle)\n"
     ]
    },
    {
     "name": "stdout",
     "output_type": "stream",
     "text": [
      "SanFrancisco_11052019_CityAttorney.csv  threw an exception\n"
     ]
    },
    {
     "name": "stderr",
     "output_type": "stream",
     "text": [
      "c:\\Users\\mahsh\\Documents\\GitHub\\bugs-in-democracy\\EIL summer 2023\\rcv_dimensionality.py:170: RuntimeWarning: divide by zero encountered in true_divide\n",
      "  distance = 1 / np.sqrt(freq_upper_triangle)\n",
      "c:\\Users\\mahsh\\Documents\\GitHub\\bugs-in-democracy\\EIL summer 2023\\rcv_dimensionality.py:170: RuntimeWarning: divide by zero encountered in true_divide\n",
      "  distance = 1 / np.sqrt(freq_upper_triangle)\n",
      "c:\\Users\\mahsh\\Documents\\GitHub\\bugs-in-democracy\\EIL summer 2023\\rcv_dimensionality.py:170: RuntimeWarning: divide by zero encountered in true_divide\n",
      "  distance = 1 / np.sqrt(freq_upper_triangle)\n"
     ]
    },
    {
     "name": "stdout",
     "output_type": "stream",
     "text": [
      "SanFrancisco_11052019_PublicDefender.csv  threw an exception\n",
      "SanFrancisco_11052019_Sheriff.csv  threw an exception\n",
      "SanFrancisco_11052019_Treasurer.csv  threw an exception\n",
      "370   SanFrancisco_11062007_Mayor.csv\n",
      "Empty DataFrame\n",
      "Columns: [candidate, position, first place count, first place freq]\n",
      "Index: []\n"
     ]
    },
    {
     "name": "stderr",
     "output_type": "stream",
     "text": [
      "c:\\Users\\mahsh\\Documents\\GitHub\\bugs-in-democracy\\EIL summer 2023\\rcv_dimensionality.py:170: RuntimeWarning: divide by zero encountered in true_divide\n",
      "  distance = 1 / np.sqrt(freq_upper_triangle)\n"
     ]
    },
    {
     "name": "stdout",
     "output_type": "stream",
     "text": [
      "370   SanFrancisco_11062007_Mayor.csv\n",
      "                  candidate  position  first place count  first place freq  \\\n",
      "0     Ahimsa Porter Sumchai  4.730575               3450          0.023839   \n",
      "1                Wilma Pang  6.099279               7381          0.051002   \n",
      "2       Harold M. Hoogasian       0.0               8517          0.058851   \n",
      "3              Gavin Newsom  5.996208             106402          0.735222   \n",
      "4            Michael Powers  9.958977                534          0.003690   \n",
      "5                 Josh Wolf   5.85422               1816          0.012548   \n",
      "6   Grasshopper Alec Kaplan  7.245094               1465          0.010123   \n",
      "7              George Davis  8.370398                666          0.004602   \n",
      "8          Lonnie S. Holmes  3.175993               1830          0.012645   \n",
      "9             Quintin Mecke  5.249596               9175          0.063398   \n",
      "10                 H. Brown  2.326769                929          0.006419   \n",
      "11             John Rinaldi      11.0               2556          0.017662   \n",
      "\n",
      "    len_1  len_2  len_3  len_4  len_5  len_6  len_7  len_8  len_9  len_10  \\\n",
      "0     621    506   2323     -1     -1     -1     -1     -1     -1      -1   \n",
      "1    2637   1509   3235     -1     -1     -1     -1     -1     -1      -1   \n",
      "2    3917   1463   3137     -1     -1     -1     -1     -1     -1      -1   \n",
      "3   68544  11257  26601     -1     -1     -1     -1     -1     -1      -1   \n",
      "4     118     53    363     -1     -1     -1     -1     -1     -1      -1   \n",
      "5     319    243   1254     -1     -1     -1     -1     -1     -1      -1   \n",
      "6     291    163   1011     -1     -1     -1     -1     -1     -1      -1   \n",
      "7     149     89    428     -1     -1     -1     -1     -1     -1      -1   \n",
      "8     487    292   1051     -1     -1     -1     -1     -1     -1      -1   \n",
      "9    1220   1306   6649     -1     -1     -1     -1     -1     -1      -1   \n",
      "10    209    129    591     -1     -1     -1     -1     -1     -1      -1   \n",
      "11    374    364   1818     -1     -1     -1     -1     -1     -1      -1   \n",
      "\n",
      "    len_11  len_12  \n",
      "0       -1      -1  \n",
      "1       -1      -1  \n",
      "2       -1      -1  \n",
      "3       -1      -1  \n",
      "4       -1      -1  \n",
      "5       -1      -1  \n",
      "6       -1      -1  \n",
      "7       -1      -1  \n",
      "8       -1      -1  \n",
      "9       -1      -1  \n",
      "10      -1      -1  \n",
      "11      -1      -1  \n"
     ]
    },
    {
     "name": "stderr",
     "output_type": "stream",
     "text": [
      "c:\\Users\\mahsh\\Documents\\GitHub\\bugs-in-democracy\\EIL summer 2023\\rcv_dimensionality.py:170: RuntimeWarning: divide by zero encountered in true_divide\n",
      "  distance = 1 / np.sqrt(freq_upper_triangle)\n",
      "c:\\Users\\mahsh\\Documents\\GitHub\\bugs-in-democracy\\EIL summer 2023\\rcv_dimensionality.py:170: RuntimeWarning: divide by zero encountered in true_divide\n",
      "  distance = 1 / np.sqrt(freq_upper_triangle)\n",
      "c:\\Users\\mahsh\\Documents\\GitHub\\bugs-in-democracy\\EIL summer 2023\\rcv_dimensionality.py:170: RuntimeWarning: divide by zero encountered in true_divide\n",
      "  distance = 1 / np.sqrt(freq_upper_triangle)\n",
      "c:\\Users\\mahsh\\Documents\\GitHub\\bugs-in-democracy\\EIL summer 2023\\rcv_dimensionality.py:170: RuntimeWarning: divide by zero encountered in true_divide\n",
      "  distance = 1 / np.sqrt(freq_upper_triangle)\n",
      "c:\\Users\\mahsh\\Documents\\GitHub\\bugs-in-democracy\\EIL summer 2023\\rcv_dimensionality.py:170: RuntimeWarning: divide by zero encountered in true_divide\n",
      "  distance = 1 / np.sqrt(freq_upper_triangle)\n",
      "c:\\Users\\mahsh\\Documents\\GitHub\\bugs-in-democracy\\EIL summer 2023\\rcv_dimensionality.py:170: RuntimeWarning: divide by zero encountered in true_divide\n",
      "  distance = 1 / np.sqrt(freq_upper_triangle)\n",
      "c:\\Users\\mahsh\\Documents\\GitHub\\bugs-in-democracy\\EIL summer 2023\\rcv_dimensionality.py:170: RuntimeWarning: divide by zero encountered in true_divide\n",
      "  distance = 1 / np.sqrt(freq_upper_triangle)\n",
      "c:\\Users\\mahsh\\Documents\\GitHub\\bugs-in-democracy\\EIL summer 2023\\rcv_dimensionality.py:170: RuntimeWarning: divide by zero encountered in true_divide\n",
      "  distance = 1 / np.sqrt(freq_upper_triangle)\n"
     ]
    },
    {
     "name": "stdout",
     "output_type": "stream",
     "text": [
      "SanFrancisco_11062018_PublicDefender.csv  threw an exception\n",
      "380   SanFrancisco_11072006_BoardofSupervisorsDistrict10.csv\n",
      "Empty DataFrame\n",
      "Columns: [candidate, position, first place count, first place freq]\n",
      "Index: []\n"
     ]
    },
    {
     "name": "stderr",
     "output_type": "stream",
     "text": [
      "c:\\Users\\mahsh\\Documents\\GitHub\\bugs-in-democracy\\EIL summer 2023\\rcv_dimensionality.py:170: RuntimeWarning: divide by zero encountered in true_divide\n",
      "  distance = 1 / np.sqrt(freq_upper_triangle)\n"
     ]
    },
    {
     "name": "stdout",
     "output_type": "stream",
     "text": [
      "380   SanFrancisco_11072006_BoardofSupervisorsDistrict10.csv\n",
      "            candidate  position  first place count  first place freq  len_1  \\\n",
      "0      Sophie Maxwell   3.79829               7997          0.558372   3785   \n",
      "1    Espanola Jackson  4.293822               1483          0.103547    405   \n",
      "2   Marie L. Harrison  3.063352               1166          0.081413    283   \n",
      "3       Dwayne Jusino  2.760577               1723          0.120304    511   \n",
      "4      Charlie Walker       6.0                481          0.033585    154   \n",
      "5  Rodney Hampton Jr.  3.454749               1196          0.083508    256   \n",
      "6       Sala Chandler       0.0                276          0.019271     45   \n",
      "\n",
      "   len_2  len_3  len_4  len_5  len_6  len_7  \n",
      "0   1203   3009     -1     -1     -1     -1  \n",
      "1    231    847     -1     -1     -1     -1  \n",
      "2    194    689     -1     -1     -1     -1  \n",
      "3    249    963     -1     -1     -1     -1  \n",
      "4     71    256     -1     -1     -1     -1  \n",
      "5    137    803     -1     -1     -1     -1  \n",
      "6     33    198     -1     -1     -1     -1  \n"
     ]
    },
    {
     "name": "stderr",
     "output_type": "stream",
     "text": [
      "c:\\Users\\mahsh\\Documents\\GitHub\\bugs-in-democracy\\EIL summer 2023\\rcv_dimensionality.py:170: RuntimeWarning: divide by zero encountered in true_divide\n",
      "  distance = 1 / np.sqrt(freq_upper_triangle)\n",
      "c:\\Users\\mahsh\\Documents\\GitHub\\bugs-in-democracy\\EIL summer 2023\\rcv_dimensionality.py:170: RuntimeWarning: divide by zero encountered in true_divide\n",
      "  distance = 1 / np.sqrt(freq_upper_triangle)\n",
      "c:\\Users\\mahsh\\Documents\\GitHub\\bugs-in-democracy\\EIL summer 2023\\rcv_dimensionality.py:170: RuntimeWarning: divide by zero encountered in true_divide\n",
      "  distance = 1 / np.sqrt(freq_upper_triangle)\n",
      "c:\\Users\\mahsh\\Documents\\GitHub\\bugs-in-democracy\\EIL summer 2023\\rcv_dimensionality.py:170: RuntimeWarning: divide by zero encountered in true_divide\n",
      "  distance = 1 / np.sqrt(freq_upper_triangle)\n",
      "c:\\Users\\mahsh\\Documents\\GitHub\\bugs-in-democracy\\EIL summer 2023\\rcv_dimensionality.py:170: RuntimeWarning: divide by zero encountered in true_divide\n",
      "  distance = 1 / np.sqrt(freq_upper_triangle)\n",
      "c:\\Users\\mahsh\\Documents\\GitHub\\bugs-in-democracy\\EIL summer 2023\\rcv_dimensionality.py:170: RuntimeWarning: divide by zero encountered in true_divide\n",
      "  distance = 1 / np.sqrt(freq_upper_triangle)\n",
      "c:\\Users\\mahsh\\Documents\\GitHub\\bugs-in-democracy\\EIL summer 2023\\rcv_dimensionality.py:170: RuntimeWarning: divide by zero encountered in true_divide\n",
      "  distance = 1 / np.sqrt(freq_upper_triangle)\n",
      "c:\\Users\\mahsh\\Documents\\GitHub\\bugs-in-democracy\\EIL summer 2023\\rcv_dimensionality.py:170: RuntimeWarning: divide by zero encountered in true_divide\n",
      "  distance = 1 / np.sqrt(freq_upper_triangle)\n",
      "c:\\Users\\mahsh\\Documents\\GitHub\\bugs-in-democracy\\EIL summer 2023\\rcv_dimensionality.py:170: RuntimeWarning: divide by zero encountered in true_divide\n",
      "  distance = 1 / np.sqrt(freq_upper_triangle)\n"
     ]
    },
    {
     "name": "stdout",
     "output_type": "stream",
     "text": [
      "390   SanFrancisco_11082016_BoardofSupervisorsDistrict1.csv\n",
      "Empty DataFrame\n",
      "Columns: [candidate, position, first place count, first place freq]\n",
      "Index: []\n"
     ]
    },
    {
     "name": "stderr",
     "output_type": "stream",
     "text": [
      "c:\\Users\\mahsh\\Documents\\GitHub\\bugs-in-democracy\\EIL summer 2023\\rcv_dimensionality.py:170: RuntimeWarning: divide by zero encountered in true_divide\n",
      "  distance = 1 / np.sqrt(freq_upper_triangle)\n"
     ]
    },
    {
     "name": "stdout",
     "output_type": "stream",
     "text": [
      "390   SanFrancisco_11082016_BoardofSupervisorsDistrict1.csv\n",
      "            candidate  position  first place count  first place freq  len_1  \\\n",
      "0    SANDRA LEE FEWER  6.899099              12590          0.396074   3590   \n",
      "1     MARJAN PHILHOUR  7.022409              11132          0.350206   2469   \n",
      "2           DAVID LEE   5.48699               3417          0.107497    508   \n",
      "3        SAMUEL KWONG  3.618253                750          0.023595     79   \n",
      "4    RICHIE GREENBERG  4.710899                995          0.031302    175   \n",
      "5     BRIAN J. LARKIN  5.533426                751          0.023626     77   \n",
      "6       ANDY THORNLEY  8.526484                361          0.011357     33   \n",
      "7      JASON JUNGREIS       9.0                613          0.019285     57   \n",
      "8      JONATHAN LYENS  6.243424                618          0.019442     56   \n",
      "9  SHERMAN R. D'SILVA       0.0                560          0.017617     87   \n",
      "\n",
      "   len_2  len_3  len_4  len_5  len_6  len_7  len_8  len_9  len_10  \n",
      "0   2177   6823     -1     -1     -1     -1     -1     -1      -1  \n",
      "1   1856   6807     -1     -1     -1     -1     -1     -1      -1  \n",
      "2    435   2474     -1     -1     -1     -1     -1     -1      -1  \n",
      "3     93    578     -1     -1     -1     -1     -1     -1      -1  \n",
      "4    107    713     -1     -1     -1     -1     -1     -1      -1  \n",
      "5     78    596     -1     -1     -1     -1     -1     -1      -1  \n",
      "6     64    264     -1     -1     -1     -1     -1     -1      -1  \n",
      "7     57    499     -1     -1     -1     -1     -1     -1      -1  \n",
      "8     75    487     -1     -1     -1     -1     -1     -1      -1  \n",
      "9     47    426     -1     -1     -1     -1     -1     -1      -1  \n"
     ]
    },
    {
     "name": "stderr",
     "output_type": "stream",
     "text": [
      "c:\\Users\\mahsh\\Documents\\GitHub\\bugs-in-democracy\\EIL summer 2023\\rcv_dimensionality.py:170: RuntimeWarning: divide by zero encountered in true_divide\n",
      "  distance = 1 / np.sqrt(freq_upper_triangle)\n",
      "c:\\Users\\mahsh\\Documents\\GitHub\\bugs-in-democracy\\EIL summer 2023\\rcv_dimensionality.py:170: RuntimeWarning: divide by zero encountered in true_divide\n",
      "  distance = 1 / np.sqrt(freq_upper_triangle)\n",
      "c:\\Users\\mahsh\\Documents\\GitHub\\bugs-in-democracy\\EIL summer 2023\\rcv_dimensionality.py:170: RuntimeWarning: divide by zero encountered in true_divide\n",
      "  distance = 1 / np.sqrt(freq_upper_triangle)\n",
      "c:\\Users\\mahsh\\Documents\\GitHub\\bugs-in-democracy\\EIL summer 2023\\rcv_dimensionality.py:170: RuntimeWarning: divide by zero encountered in true_divide\n",
      "  distance = 1 / np.sqrt(freq_upper_triangle)\n",
      "c:\\Users\\mahsh\\Documents\\GitHub\\bugs-in-democracy\\EIL summer 2023\\rcv_dimensionality.py:170: RuntimeWarning: divide by zero encountered in true_divide\n",
      "  distance = 1 / np.sqrt(freq_upper_triangle)\n"
     ]
    },
    {
     "name": "stdout",
     "output_type": "stream",
     "text": [
      "SanFrancisco_11082022_AssessorRecorder.csv  threw an exception\n"
     ]
    },
    {
     "name": "stderr",
     "output_type": "stream",
     "text": [
      "c:\\Users\\mahsh\\Documents\\GitHub\\bugs-in-democracy\\EIL summer 2023\\rcv_dimensionality.py:170: RuntimeWarning: divide by zero encountered in true_divide\n",
      "  distance = 1 / np.sqrt(freq_upper_triangle)\n"
     ]
    },
    {
     "name": "stdout",
     "output_type": "stream",
     "text": [
      "SanFrancisco_11082022_BoardofSupervisorsD2.csv  threw an exception\n"
     ]
    },
    {
     "name": "stderr",
     "output_type": "stream",
     "text": [
      "c:\\Users\\mahsh\\Documents\\GitHub\\bugs-in-democracy\\EIL summer 2023\\rcv_dimensionality.py:170: RuntimeWarning: divide by zero encountered in true_divide\n",
      "  distance = 1 / np.sqrt(freq_upper_triangle)\n"
     ]
    },
    {
     "name": "stdout",
     "output_type": "stream",
     "text": [
      "400   SanFrancisco_11082022_BoardofSupervisorsD6.csv\n",
      "Empty DataFrame\n",
      "Columns: [candidate, position, first place count, first place freq]\n",
      "Index: []\n"
     ]
    },
    {
     "name": "stderr",
     "output_type": "stream",
     "text": [
      "c:\\Users\\mahsh\\Documents\\GitHub\\bugs-in-democracy\\EIL summer 2023\\rcv_dimensionality.py:170: RuntimeWarning: divide by zero encountered in true_divide\n",
      "  distance = 1 / np.sqrt(freq_upper_triangle)\n"
     ]
    },
    {
     "name": "stdout",
     "output_type": "stream",
     "text": [
      "400   SanFrancisco_11082022_BoardofSupervisorsD6.csv\n",
      "          candidate  position  first place count  first place freq  len_1  \\\n",
      "0       MATT DORSEY       3.0               8275          0.507233   3437   \n",
      "1  MS BILLIE COOPER       0.0                378          0.023170     51   \n",
      "2    HONEY MAHOGANY  2.206897               7112          0.435945   1909   \n",
      "3  CHERELLE JACKSON  1.080733                549          0.033652    110   \n",
      "\n",
      "   len_2  len_3  len_4  \n",
      "0   1509    369   2960  \n",
      "1     53     48    226  \n",
      "2   2096    476   2631  \n",
      "3     58     48    333  \n"
     ]
    },
    {
     "name": "stderr",
     "output_type": "stream",
     "text": [
      "c:\\Users\\mahsh\\Documents\\GitHub\\bugs-in-democracy\\EIL summer 2023\\rcv_dimensionality.py:170: RuntimeWarning: divide by zero encountered in true_divide\n",
      "  distance = 1 / np.sqrt(freq_upper_triangle)\n",
      "c:\\Users\\mahsh\\Documents\\GitHub\\bugs-in-democracy\\EIL summer 2023\\rcv_dimensionality.py:170: RuntimeWarning: divide by zero encountered in true_divide\n",
      "  distance = 1 / np.sqrt(freq_upper_triangle)\n",
      "c:\\Users\\mahsh\\Documents\\GitHub\\bugs-in-democracy\\EIL summer 2023\\rcv_dimensionality.py:170: RuntimeWarning: divide by zero encountered in true_divide\n",
      "  distance = 1 / np.sqrt(freq_upper_triangle)\n",
      "c:\\Users\\mahsh\\Documents\\GitHub\\bugs-in-democracy\\EIL summer 2023\\rcv_dimensionality.py:170: RuntimeWarning: divide by zero encountered in true_divide\n",
      "  distance = 1 / np.sqrt(freq_upper_triangle)\n"
     ]
    },
    {
     "name": "stdout",
     "output_type": "stream",
     "text": [
      "SanLeandro_11022010_CountyCouncilDistrict3.csv  threw an exception\n"
     ]
    },
    {
     "name": "stderr",
     "output_type": "stream",
     "text": [
      "c:\\Users\\mahsh\\Documents\\GitHub\\bugs-in-democracy\\EIL summer 2023\\rcv_dimensionality.py:170: RuntimeWarning: divide by zero encountered in true_divide\n",
      "  distance = 1 / np.sqrt(freq_upper_triangle)\n",
      "c:\\Users\\mahsh\\Documents\\GitHub\\bugs-in-democracy\\EIL summer 2023\\rcv_dimensionality.py:159: RuntimeWarning: divide by zero encountered in true_divide\n",
      "  frequencies = counts / mentioned_together\n",
      "c:\\Users\\mahsh\\Documents\\GitHub\\bugs-in-democracy\\EIL summer 2023\\rcv_dimensionality.py:170: RuntimeWarning: divide by zero encountered in true_divide\n",
      "  distance = 1 / np.sqrt(freq_upper_triangle)\n",
      "c:\\Users\\mahsh\\Documents\\GitHub\\bugs-in-democracy\\EIL summer 2023\\rcv_dimensionality.py:170: RuntimeWarning: divide by zero encountered in true_divide\n",
      "  distance = 1 / np.sqrt(freq_upper_triangle)\n",
      "c:\\Users\\mahsh\\Documents\\GitHub\\bugs-in-democracy\\EIL summer 2023\\rcv_dimensionality.py:170: RuntimeWarning: divide by zero encountered in true_divide\n",
      "  distance = 1 / np.sqrt(freq_upper_triangle)\n"
     ]
    },
    {
     "name": "stdout",
     "output_type": "stream",
     "text": [
      "410   SanLeandro_11032020_MemberCityCouncilDist6SanLeandroRCV.csv\n",
      "Empty DataFrame\n",
      "Columns: [candidate, position, first place count, first place freq]\n",
      "Index: []\n",
      "SanLeandro_11032020_MemberCityCouncilDist6SanLeandroRCV.csv  threw an exception\n"
     ]
    },
    {
     "name": "stderr",
     "output_type": "stream",
     "text": [
      "c:\\Users\\mahsh\\Documents\\GitHub\\bugs-in-democracy\\EIL summer 2023\\rcv_dimensionality.py:170: RuntimeWarning: divide by zero encountered in true_divide\n",
      "  distance = 1 / np.sqrt(freq_upper_triangle)\n",
      "c:\\Users\\mahsh\\Documents\\GitHub\\bugs-in-democracy\\EIL summer 2023\\rcv_dimensionality.py:170: RuntimeWarning: divide by zero encountered in true_divide\n",
      "  distance = 1 / np.sqrt(freq_upper_triangle)\n",
      "c:\\Users\\mahsh\\Documents\\GitHub\\bugs-in-democracy\\EIL summer 2023\\rcv_dimensionality.py:170: RuntimeWarning: divide by zero encountered in true_divide\n",
      "  distance = 1 / np.sqrt(freq_upper_triangle)\n",
      "c:\\Users\\mahsh\\Documents\\GitHub\\bugs-in-democracy\\EIL summer 2023\\rcv_dimensionality.py:170: RuntimeWarning: divide by zero encountered in true_divide\n",
      "  distance = 1 / np.sqrt(freq_upper_triangle)\n",
      "c:\\Users\\mahsh\\Documents\\GitHub\\bugs-in-democracy\\EIL summer 2023\\rcv_dimensionality.py:170: RuntimeWarning: divide by zero encountered in true_divide\n",
      "  distance = 1 / np.sqrt(freq_upper_triangle)\n",
      "c:\\Users\\mahsh\\Documents\\GitHub\\bugs-in-democracy\\EIL summer 2023\\rcv_dimensionality.py:170: RuntimeWarning: divide by zero encountered in true_divide\n",
      "  distance = 1 / np.sqrt(freq_upper_triangle)\n",
      "c:\\Users\\mahsh\\Documents\\GitHub\\bugs-in-democracy\\EIL summer 2023\\rcv_dimensionality.py:170: RuntimeWarning: divide by zero encountered in true_divide\n",
      "  distance = 1 / np.sqrt(freq_upper_triangle)\n",
      "c:\\Users\\mahsh\\Documents\\GitHub\\bugs-in-democracy\\EIL summer 2023\\rcv_dimensionality.py:170: RuntimeWarning: divide by zero encountered in true_divide\n",
      "  distance = 1 / np.sqrt(freq_upper_triangle)\n",
      "c:\\Users\\mahsh\\Documents\\GitHub\\bugs-in-democracy\\EIL summer 2023\\rcv_dimensionality.py:170: RuntimeWarning: divide by zero encountered in true_divide\n",
      "  distance = 1 / np.sqrt(freq_upper_triangle)\n"
     ]
    },
    {
     "name": "stdout",
     "output_type": "stream",
     "text": [
      "420   SanLeandro_11062018_CountyCouncilDistrict5.csv\n",
      "Empty DataFrame\n",
      "Columns: [candidate, position, first place count, first place freq]\n",
      "Index: []\n"
     ]
    },
    {
     "name": "stderr",
     "output_type": "stream",
     "text": [
      "c:\\Users\\mahsh\\Documents\\GitHub\\bugs-in-democracy\\EIL summer 2023\\rcv_dimensionality.py:170: RuntimeWarning: divide by zero encountered in true_divide\n",
      "  distance = 1 / np.sqrt(freq_upper_triangle)\n"
     ]
    },
    {
     "name": "stdout",
     "output_type": "stream",
     "text": [
      "420   SanLeandro_11062018_CountyCouncilDistrict5.csv\n",
      "              candidate position  first place count  first place freq  len_1  \\\n",
      "0       CORINA N. LOPEZ      0.0              16418          0.704665   7315   \n",
      "1  MAXINE OLIVER-BENSON      1.0               6881          0.295335   2801   \n",
      "\n",
      "   len_2  \n",
      "0   9103  \n",
      "1   4080  \n"
     ]
    },
    {
     "name": "stderr",
     "output_type": "stream",
     "text": [
      "c:\\Users\\mahsh\\Documents\\GitHub\\bugs-in-democracy\\EIL summer 2023\\rcv_dimensionality.py:170: RuntimeWarning: divide by zero encountered in true_divide\n",
      "  distance = 1 / np.sqrt(freq_upper_triangle)\n",
      "c:\\Users\\mahsh\\Documents\\GitHub\\bugs-in-democracy\\EIL summer 2023\\rcv_dimensionality.py:170: RuntimeWarning: divide by zero encountered in true_divide\n",
      "  distance = 1 / np.sqrt(freq_upper_triangle)\n"
     ]
    },
    {
     "name": "stdout",
     "output_type": "stream",
     "text": [
      "SanLeandro_11082016_CountyCouncilDistrict4.csv  threw an exception\n",
      "SanLeandro_11082016_CountyCouncilDistrict6.csv  threw an exception\n"
     ]
    },
    {
     "name": "stderr",
     "output_type": "stream",
     "text": [
      "c:\\Users\\mahsh\\Documents\\GitHub\\bugs-in-democracy\\EIL summer 2023\\rcv_dimensionality.py:170: RuntimeWarning: divide by zero encountered in true_divide\n",
      "  distance = 1 / np.sqrt(freq_upper_triangle)\n",
      "c:\\Users\\mahsh\\Documents\\GitHub\\bugs-in-democracy\\EIL summer 2023\\rcv_dimensionality.py:170: RuntimeWarning: divide by zero encountered in true_divide\n",
      "  distance = 1 / np.sqrt(freq_upper_triangle)\n",
      "c:\\Users\\mahsh\\Documents\\GitHub\\bugs-in-democracy\\EIL summer 2023\\rcv_dimensionality.py:170: RuntimeWarning: divide by zero encountered in true_divide\n",
      "  distance = 1 / np.sqrt(freq_upper_triangle)\n",
      "c:\\Users\\mahsh\\Documents\\GitHub\\bugs-in-democracy\\EIL summer 2023\\rcv_dimensionality.py:170: RuntimeWarning: divide by zero encountered in true_divide\n",
      "  distance = 1 / np.sqrt(freq_upper_triangle)\n",
      "c:\\Users\\mahsh\\Documents\\GitHub\\bugs-in-democracy\\EIL summer 2023\\rcv_dimensionality.py:170: RuntimeWarning: divide by zero encountered in true_divide\n",
      "  distance = 1 / np.sqrt(freq_upper_triangle)\n"
     ]
    },
    {
     "name": "stdout",
     "output_type": "stream",
     "text": [
      "430   StLouisPark_11022021_CityCouncilWard1.csv\n",
      "Empty DataFrame\n",
      "Columns: [candidate, position, first place count, first place freq]\n",
      "Index: []\n",
      "StLouisPark_11022021_CityCouncilWard1.csv  threw an exception\n"
     ]
    },
    {
     "name": "stderr",
     "output_type": "stream",
     "text": [
      "c:\\Users\\mahsh\\Documents\\GitHub\\bugs-in-democracy\\EIL summer 2023\\rcv_dimensionality.py:170: RuntimeWarning: divide by zero encountered in true_divide\n",
      "  distance = 1 / np.sqrt(freq_upper_triangle)\n",
      "c:\\Users\\mahsh\\Documents\\GitHub\\bugs-in-democracy\\EIL summer 2023\\rcv_dimensionality.py:170: RuntimeWarning: divide by zero encountered in true_divide\n",
      "  distance = 1 / np.sqrt(freq_upper_triangle)\n"
     ]
    },
    {
     "name": "stdout",
     "output_type": "stream",
     "text": [
      "StLouisPark_11022021_CityCouncilWard4.csv  threw an exception\n"
     ]
    },
    {
     "name": "stderr",
     "output_type": "stream",
     "text": [
      "c:\\Users\\mahsh\\Documents\\GitHub\\bugs-in-democracy\\EIL summer 2023\\rcv_dimensionality.py:170: RuntimeWarning: divide by zero encountered in true_divide\n",
      "  distance = 1 / np.sqrt(freq_upper_triangle)\n"
     ]
    },
    {
     "name": "stdout",
     "output_type": "stream",
     "text": [
      "TakomaPark_11082022_CityCouncilWard2.csv  threw an exception\n"
     ]
    },
    {
     "name": "stderr",
     "output_type": "stream",
     "text": [
      "c:\\Users\\mahsh\\Documents\\GitHub\\bugs-in-democracy\\EIL summer 2023\\rcv_dimensionality.py:159: RuntimeWarning: divide by zero encountered in true_divide\n",
      "  frequencies = counts / mentioned_together\n",
      "c:\\Users\\mahsh\\Documents\\GitHub\\bugs-in-democracy\\EIL summer 2023\\rcv_dimensionality.py:159: RuntimeWarning: invalid value encountered in true_divide\n",
      "  frequencies = counts / mentioned_together\n",
      "c:\\Users\\mahsh\\Documents\\GitHub\\bugs-in-democracy\\EIL summer 2023\\rcv_dimensionality.py:170: RuntimeWarning: divide by zero encountered in true_divide\n",
      "  distance = 1 / np.sqrt(freq_upper_triangle)\n"
     ]
    },
    {
     "name": "stdout",
     "output_type": "stream",
     "text": [
      "TakomaPark_11082022_CityCouncilWard4.csv  threw an exception\n"
     ]
    },
    {
     "name": "stderr",
     "output_type": "stream",
     "text": [
      "c:\\Users\\mahsh\\Documents\\GitHub\\bugs-in-democracy\\EIL summer 2023\\rcv_dimensionality.py:170: RuntimeWarning: divide by zero encountered in true_divide\n",
      "  distance = 1 / np.sqrt(freq_upper_triangle)\n",
      "c:\\Users\\mahsh\\Documents\\GitHub\\bugs-in-democracy\\EIL summer 2023\\rcv_dimensionality.py:159: RuntimeWarning: divide by zero encountered in true_divide\n",
      "  frequencies = counts / mentioned_together\n",
      "c:\\Users\\mahsh\\Documents\\GitHub\\bugs-in-democracy\\EIL summer 2023\\rcv_dimensionality.py:159: RuntimeWarning: invalid value encountered in true_divide\n",
      "  frequencies = counts / mentioned_together\n",
      "c:\\Users\\mahsh\\Documents\\GitHub\\bugs-in-democracy\\EIL summer 2023\\rcv_dimensionality.py:170: RuntimeWarning: divide by zero encountered in true_divide\n",
      "  distance = 1 / np.sqrt(freq_upper_triangle)\n"
     ]
    },
    {
     "name": "stdout",
     "output_type": "stream",
     "text": [
      "440   TakomaPark_11082022_Mayor.csv\n",
      "Empty DataFrame\n",
      "Columns: [candidate, position, first place count, first place freq]\n",
      "Index: []\n"
     ]
    },
    {
     "name": "stderr",
     "output_type": "stream",
     "text": [
      "c:\\Users\\mahsh\\Documents\\GitHub\\bugs-in-democracy\\EIL summer 2023\\rcv_dimensionality.py:159: RuntimeWarning: divide by zero encountered in true_divide\n",
      "  frequencies = counts / mentioned_together\n",
      "c:\\Users\\mahsh\\Documents\\GitHub\\bugs-in-democracy\\EIL summer 2023\\rcv_dimensionality.py:159: RuntimeWarning: invalid value encountered in true_divide\n",
      "  frequencies = counts / mentioned_together\n",
      "c:\\Users\\mahsh\\Documents\\GitHub\\bugs-in-democracy\\EIL summer 2023\\rcv_dimensionality.py:170: RuntimeWarning: divide by zero encountered in true_divide\n",
      "  distance = 1 / np.sqrt(freq_upper_triangle)\n"
     ]
    },
    {
     "name": "stdout",
     "output_type": "stream",
     "text": [
      "440   TakomaPark_11082022_Mayor.csv\n",
      "                      candidate  position  first place count  \\\n",
      "0                 Jarrett Smith  4.365499               1062   \n",
      "1                Talisha Searcy  4.366796               2977   \n",
      "2                   Seth Grimes  3.121017               1666   \n",
      "3     Seth Grimes]Jarrett Smith  1.872539                 -1   \n",
      "4  Talisha Searcy]Jarrett Smith       0.0                 -1   \n",
      "5    Seth Grimes]Talisha Searcy       5.0                 -1   \n",
      "\n",
      "   first place freq  len_1  len_2  len_3  len_4  len_5  len_6  \n",
      "0          0.186152    242    264    556     -1     -1     -1  \n",
      "1          0.521823    607    806   1564     -1     -1     -1  \n",
      "2          0.292025    291    438    936      1     -1     -1  \n",
      "3         -0.000175     -1     -1     -1     -1     -1     -1  \n",
      "4         -0.000175     -1     -1     -1     -1     -1     -1  \n",
      "5         -0.000175     -1     -1     -1     -1     -1     -1  \n"
     ]
    },
    {
     "name": "stderr",
     "output_type": "stream",
     "text": [
      "c:\\Users\\mahsh\\Documents\\GitHub\\bugs-in-democracy\\EIL summer 2023\\rcv_dimensionality.py:170: RuntimeWarning: divide by zero encountered in true_divide\n",
      "  distance = 1 / np.sqrt(freq_upper_triangle)\n",
      "c:\\Users\\mahsh\\Documents\\GitHub\\bugs-in-democracy\\EIL summer 2023\\rcv_dimensionality.py:170: RuntimeWarning: divide by zero encountered in true_divide\n",
      "  distance = 1 / np.sqrt(freq_upper_triangle)\n",
      "c:\\Users\\mahsh\\Documents\\GitHub\\bugs-in-democracy\\EIL summer 2023\\rcv_dimensionality.py:170: RuntimeWarning: divide by zero encountered in true_divide\n",
      "  distance = 1 / np.sqrt(freq_upper_triangle)\n",
      "c:\\Users\\mahsh\\Documents\\GitHub\\bugs-in-democracy\\EIL summer 2023\\rcv_dimensionality.py:170: RuntimeWarning: divide by zero encountered in true_divide\n",
      "  distance = 1 / np.sqrt(freq_upper_triangle)\n"
     ]
    }
   ],
   "source": [
    "#winners = pd.DataFrame(columns=[\"filename\", \"diff\", \"interval gamma\", \"#candidates\",\"IRV1\", \"Condorcet1\", \"Plurality1\", \"Approval1\" \"IRV2\", \"Condorcet2\", \"Plurality2\", \"Approval2\"])\n",
    "directory = \"dataverse_files\"\n",
    "count = 0\n",
    "for filename in os.listdir(directory):\n",
    "    df = pd.DataFrame(columns=['candidate', 'position', 'first place count', 'first place freq'])\n",
    "    count += 1\n",
    "    if (count % 10 == 0):\n",
    "        print(count, \" \", filename)\n",
    "        print(df)\n",
    "    try:\n",
    "        csv =  os.path.join(directory, filename)\n",
    "        total = 0\n",
    "        ballots, candidates = parse_election_data(csv)\n",
    "        df['candidate'] = candidates\n",
    "        df['first place count'] = [-1 for candidate in candidates]\n",
    "        df['first place freq'] = [-1 for candidate in candidates]\n",
    "        for i in range (len(candidates)):\n",
    "            df['len_' + str(i+1)] = [-1 for candidate in candidates]\n",
    "\n",
    "        for b in ballots:\n",
    "            if len(b) > 0:\n",
    "                first_place = b[0]\n",
    "                total += ballots[b]\n",
    "                #print(df.loc[df['candidate']==first_place, 'len_1'].values)\n",
    "                if df.loc[df['candidate']==first_place, 'first place count'].values[0] == -1:\n",
    "                    df.loc[df['candidate']==first_place, 'first place count'] = 0\n",
    "                df.loc[df['candidate']==first_place, 'first place count'] += ballots[b]\n",
    "                length = len(b)\n",
    "                if (length > 0):\n",
    "                    if df.loc[df['candidate']==first_place, 'len_'+str(length)].values[0] == -1:\n",
    "                        df.loc[df['candidate']==first_place, 'len_'+str(length)] = 0\n",
    "                    df.loc[df['candidate']==first_place, 'len_'+str(length)] += ballots[b]\n",
    "\n",
    "        # Perform the RCV analysis\n",
    "        test = perform_rcv_analysis(csv, n_runs=1000)\n",
    "        mds_1d_coordinates, mds_2d_coordinates, most_common_order, order_frequencies, candidate_names = test\n",
    "\n",
    "        # Print the normalized distances between candidates and plot the MDS analysis\n",
    "        normalized_distances = get_distances_normalized(most_common_order, mds_1d_coordinates, candidate_names)\n",
    "        for c in candidates:\n",
    "            df.loc[df['candidate']==c, 'position'] = normalized_distances[c]\n",
    "            df.loc[df['candidate']==c, 'first place freq'] = df.loc[df['candidate']==c, 'first place count']/total\n",
    "        df.to_csv(os.path.join(\"null_elections\", filename))\n",
    "        if (count % 10 == 0):\n",
    "            print(count, \" \", filename)\n",
    "            print(df)\n",
    "    except:\n",
    "        print(filename, \" threw an exception\")\n"
   ]
  },
  {
   "cell_type": "code",
   "execution_count": 4,
   "metadata": {},
   "outputs": [
    {
     "name": "stdout",
     "output_type": "stream",
     "text": [
      "              candidate position first place count fist place freq len_1  \\\n",
      "0   REP Poliquin, Bruce      NaN               NaN             NaN  None   \n",
      "1  DEM Golden, Jared F.      NaN               NaN             NaN  None   \n",
      "2      Bond, Tiffany L.      NaN               NaN             NaN  None   \n",
      "3    Hoar, William R.S.      NaN               NaN             NaN  None   \n",
      "\n",
      "  len_2 len_3 len_4  \n",
      "0  None  None  None  \n",
      "1  None  None  None  \n",
      "2  None  None  None  \n",
      "3  None  None  None  \n"
     ]
    }
   ],
   "source": [
    "csv = \"dataverse_files/Maine_11062018_CongressionalDistrict2.csv\"\n",
    "ballots, candidates = parse_election_data(csv)\n",
    "df = pd.DataFrame(columns=['candidate', 'position', 'first place count', 'fist place freq'])\n",
    "df['candidate'] = candidates\n",
    "for i in range (len(candidates)):\n",
    "    df['len_' + str(i+1)] = [None for candidate in candidates]\n",
    "print(df)"
   ]
  },
  {
   "cell_type": "code",
   "execution_count": 9,
   "metadata": {},
   "outputs": [
    {
     "name": "stdout",
     "output_type": "stream",
     "text": [
      "              candidate position first place count fist place freq   len_1  \\\n",
      "0   REP Poliquin, Bruce      NaN               NaN             NaN  134358   \n",
      "1  DEM Golden, Jared F.      NaN               NaN             NaN  132145   \n",
      "2      Bond, Tiffany L.      NaN               NaN             NaN   16650   \n",
      "3    Hoar, William R.S.      NaN               NaN             NaN    6996   \n",
      "\n",
      "   len_2  len_3  len_4  \n",
      "0   8905   6601  29183  \n",
      "1  17308  25408  37756  \n",
      "2   2768   2322   7159  \n",
      "3   1090    914   2812  \n",
      "290149\n"
     ]
    }
   ],
   "source": [
    "#df = pd.DataFrame(columns=['candidate', 'position'])\n",
    "df['candidate'] = candidates\n",
    "\n",
    "for i in range (len(candidates)):\n",
    "    df['len_' + str(i+1)] = [-1 for candidate in candidates]\n",
    "total = 0\n",
    "for b in ballots:\n",
    "    if len(b) > 0:\n",
    "        #print(b)\n",
    "        total += ballots[b]\n",
    "        first_place = b[0]\n",
    "        #print(df.loc[df['candidate']==first_place, 'len_1'].values)\n",
    "        if df.loc[df['candidate']==first_place, 'len_1'].values[0] == -1:\n",
    "            df.loc[df['candidate']==first_place, 'len_1'] = 0\n",
    "        df.loc[df['candidate']==first_place, 'len_1'] += ballots[b]\n",
    "        length = len(b)\n",
    "        if (length > 1):\n",
    "            if df.loc[df['candidate']==first_place, 'len_'+str(length)].values[0] == -1:\n",
    "                df.loc[df['candidate']==first_place, 'len_'+str(length)] = 0\n",
    "            df.loc[df['candidate']==first_place, 'len_'+str(length)] += ballots[b]\n",
    "print(df)\n",
    "print(total)"
   ]
  },
  {
   "cell_type": "code",
   "execution_count": 33,
   "metadata": {},
   "outputs": [
    {
     "name": "stdout",
     "output_type": "stream",
     "text": [
      "DEM Golden, Jared F.\n"
     ]
    }
   ],
   "source": []
  },
  {
   "cell_type": "code",
   "execution_count": 17,
   "metadata": {},
   "outputs": [
    {
     "name": "stderr",
     "output_type": "stream",
     "text": [
      "c:\\Users\\mahsh\\Documents\\GitHub\\bugs-in-democracy\\EIL summer 2023\\rcv_dimensionality.py:170: RuntimeWarning: divide by zero encountered in true_divide\n",
      "  distance = 1 / np.sqrt(freq_upper_triangle)\n"
     ]
    },
    {
     "name": "stdout",
     "output_type": "stream",
     "text": [
      "              candidate  position  first place count  first place freq  len_1  \\\n",
      "0   REP Poliquin, Bruce       0.0             134358          0.463066  89669   \n",
      "1  DEM Golden, Jared F.       3.0             132145          0.455438  51673   \n",
      "2      Bond, Tiffany L.  2.054073              16650          0.057384   4401   \n",
      "3    Hoar, William R.S.  1.266879               6996          0.024112   2180   \n",
      "\n",
      "   len_2  len_3  len_4  \n",
      "0   8905   6601  29183  \n",
      "1  17308  25408  37756  \n",
      "2   2768   2322   7159  \n",
      "3   1090    914   2812  \n"
     ]
    }
   ],
   "source": [
    "filename = \"dataverse_files/Maine_11062018_CongressionalDistrict2.csv\"\n",
    "df = pd.DataFrame(columns=['candidate', 'position', 'first place count', 'first place freq'])\n",
    "\n",
    "\n",
    "#csv =  os.path.join(directory, filename)\n",
    "total = 0\n",
    "ballots, candidates = parse_election_data(csv)\n",
    "df['candidate'] = candidates\n",
    "df['first place count'] = [-1 for candidate in candidates]\n",
    "df['first place freq'] = [-1 for candidate in candidates]\n",
    "for i in range (len(candidates)):\n",
    "    df['len_' + str(i+1)] = [-1 for candidate in candidates]\n",
    "\n",
    "for b in ballots:\n",
    "    if len(b) > 0:\n",
    "        first_place = b[0]\n",
    "        total += ballots[b]\n",
    "        #print(df.loc[df['candidate']==first_place, 'len_1'].values)\n",
    "        if df.loc[df['candidate']==first_place, 'first place count'].values[0] == -1:\n",
    "            df.loc[df['candidate']==first_place, 'first place count'] = 0\n",
    "        df.loc[df['candidate']==first_place, 'first place count'] += ballots[b]\n",
    "        length = len(b)\n",
    "        if (length > 0):\n",
    "            if df.loc[df['candidate']==first_place, 'len_'+str(length)].values[0] == -1:\n",
    "                df.loc[df['candidate']==first_place, 'len_'+str(length)] = 0\n",
    "            df.loc[df['candidate']==first_place, 'len_'+str(length)] += ballots[b]\n",
    "\n",
    "# Perform the RCV analysis\n",
    "test = perform_rcv_analysis(csv, n_runs=1000)\n",
    "mds_1d_coordinates, mds_2d_coordinates, most_common_order, order_frequencies, candidate_names = test\n",
    "\n",
    "# Print the normalized distances between candidates and plot the MDS analysis\n",
    "normalized_distances = get_distances_normalized(most_common_order, mds_1d_coordinates, candidate_names)\n",
    "for c in candidates:\n",
    "    df.loc[df['candidate']==c, 'position'] = normalized_distances[c]\n",
    "    df.loc[df['candidate']==c, 'first place freq'] = df.loc[df['candidate']==c, 'first place count']/total\n",
    "#df.to_csv(os.path.join(\"null_elections\", filename))\n",
    "print(df)\n",
    "\n"
   ]
  },
  {
   "cell_type": "code",
   "execution_count": null,
   "metadata": {},
   "outputs": [],
   "source": []
  }
 ],
 "metadata": {
  "kernelspec": {
   "display_name": "base",
   "language": "python",
   "name": "python3"
  },
  "language_info": {
   "codemirror_mode": {
    "name": "ipython",
    "version": 3
   },
   "file_extension": ".py",
   "mimetype": "text/x-python",
   "name": "python",
   "nbconvert_exporter": "python",
   "pygments_lexer": "ipython3",
   "version": "3.9.12"
  }
 },
 "nbformat": 4,
 "nbformat_minor": 2
}
