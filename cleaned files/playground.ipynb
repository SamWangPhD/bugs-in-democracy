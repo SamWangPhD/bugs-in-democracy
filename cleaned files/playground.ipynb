{
 "cells": [
  {
   "cell_type": "code",
   "execution_count": 1,
   "metadata": {},
   "outputs": [
    {
     "ename": "ModuleNotFoundError",
     "evalue": "No module named 'lightgbm'",
     "output_type": "error",
     "traceback": [
      "\u001b[1;31m---------------------------------------------------------------------------\u001b[0m",
      "\u001b[1;31mModuleNotFoundError\u001b[0m                       Traceback (most recent call last)",
      "Input \u001b[1;32mIn [1]\u001b[0m, in \u001b[0;36m<cell line: 3>\u001b[1;34m()\u001b[0m\n\u001b[0;32m      1\u001b[0m \u001b[38;5;28;01mimport\u001b[39;00m \u001b[38;5;21;01mos\u001b[39;00m\n\u001b[0;32m      2\u001b[0m \u001b[38;5;28;01mimport\u001b[39;00m \u001b[38;5;21;01mpandas\u001b[39;00m \u001b[38;5;28;01mas\u001b[39;00m \u001b[38;5;21;01mpd\u001b[39;00m\n\u001b[1;32m----> 3\u001b[0m \u001b[38;5;28;01mimport\u001b[39;00m \u001b[38;5;21;01mlightgbm\u001b[39;00m \u001b[38;5;28;01mas\u001b[39;00m \u001b[38;5;21;01mlgb\u001b[39;00m\n",
      "\u001b[1;31mModuleNotFoundError\u001b[0m: No module named 'lightgbm'"
     ]
    }
   ],
   "source": [
    "import os\n",
    "import pandas as pd\n",
    "import lightgbm as lgb"
   ]
  },
  {
   "cell_type": "code",
   "execution_count": null,
   "metadata": {},
   "outputs": [],
   "source": [
    "\n",
    "# Function to load and preprocess data from CSV files\n",
    "def load_and_preprocess_data(directory):\n",
    "    feature_list = []\n",
    "    ranking_list = []\n",
    "    for file_name in os.listdir(directory):\n",
    "        if file_name.endswith('.csv'):\n",
    "            file_path = os.path.join(directory, file_name)\n",
    "            data = pd.read_csv(file_path)\n",
    "            features = data[['#candidates', 'type', 'level']].copy()\n",
    "            features['num_voters'] = len(data)\n",
    "            rankings = data['rankings']\n",
    "            feature_list.append(features)\n",
    "            ranking_list.append(rankings)\n",
    "    # Combine all features and rankings into a single DataFrame\n",
    "    combined_features = pd.concat(feature_list, ignore_index=True)\n",
    "    combined_rankings = pd.concat(ranking_list, ignore_index=True)\n",
    "    return combined_features, combined_rankings\n",
    "\n",
    "# Function to train a ranking model\n",
    "def train_ranking_model(features, rankings):\n",
    "    train_data = lgb.Dataset(features, label=rankings)\n",
    "    params = {\n",
    "        'objective': 'lambdarank',\n",
    "        'metric': 'ndcg',\n",
    "        'ndcg_at': [5],  # Adjust based on your requirement\n",
    "        'learning_rate': 0.1,\n",
    "        'num_leaves': 31,\n",
    "        'min_data_in_leaf': 20,\n",
    "    }\n",
    "    ranker = lgb.train(params, train_data, num_boost_round=100)\n",
    "    return ranker\n",
    "\n",
    "# Function to predict rankings for new data\n",
    "def predict_rankings(model, features):\n",
    "    predictions = model.predict(features)\n",
    "    ranked_items = [sorted(range(len(p)), key=lambda i: p[i], reverse=True) for p in predictions]\n",
    "    return ranked_items\n",
    "\n",
    "# Function to save the predicted rankings to a new CSV file\n",
    "def save_predictions(predictions, output_file_path):\n",
    "    predictions_df = pd.DataFrame(predictions)\n",
    "    predictions_df.to_csv(output_file_path, index=False)\n",
    "\n",
    "# Main function to process all files in a directory and generate predictions\n",
    "def main(input_directory, output_file_path):\n",
    "    # Load and preprocess training data\n",
    "    features, rankings = load_and_preprocess_data(input_directory)\n",
    "    \n",
    "    # Train the ranking model\n",
    "    ranker = train_ranking_model(features, rankings)\n",
    "    \n",
    "    # Predict rankings for the features\n",
    "    predictions = predict_rankings(ranker, features)\n",
    "    \n",
    "    # Save predictions to output file\n",
    "    save_predictions(predictions, output_file_path)\n",
    "\n",
    "# Directory containing the input CSV files and the output file path\n",
    "input_directory = 'path/to/csv_files'\n",
    "output_file_path = 'predicted_rankings.csv'\n",
    "\n",
    "# Run the main function\n",
    "main(input_directory, output_file_path)\n"
   ]
  }
 ],
 "metadata": {
  "kernelspec": {
   "display_name": "base",
   "language": "python",
   "name": "python3"
  },
  "language_info": {
   "codemirror_mode": {
    "name": "ipython",
    "version": 3
   },
   "file_extension": ".py",
   "mimetype": "text/x-python",
   "name": "python",
   "nbconvert_exporter": "python",
   "pygments_lexer": "ipython3",
   "version": "3.9.12"
  }
 },
 "nbformat": 4,
 "nbformat_minor": 2
}
