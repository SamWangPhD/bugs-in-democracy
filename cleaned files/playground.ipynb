{
 "cells": [
  {
   "cell_type": "code",
   "execution_count": 1,
   "metadata": {},
   "outputs": [
    {
     "ename": "ModuleNotFoundError",
     "evalue": "No module named 'lightgbm'",
     "output_type": "error",
     "traceback": [
      "\u001b[1;31m---------------------------------------------------------------------------\u001b[0m",
      "\u001b[1;31mModuleNotFoundError\u001b[0m                       Traceback (most recent call last)",
      "Input \u001b[1;32mIn [1]\u001b[0m, in \u001b[0;36m<cell line: 3>\u001b[1;34m()\u001b[0m\n\u001b[0;32m      1\u001b[0m \u001b[38;5;28;01mimport\u001b[39;00m \u001b[38;5;21;01mos\u001b[39;00m\n\u001b[0;32m      2\u001b[0m \u001b[38;5;28;01mimport\u001b[39;00m \u001b[38;5;21;01mpandas\u001b[39;00m \u001b[38;5;28;01mas\u001b[39;00m \u001b[38;5;21;01mpd\u001b[39;00m\n\u001b[1;32m----> 3\u001b[0m \u001b[38;5;28;01mimport\u001b[39;00m \u001b[38;5;21;01mlightgbm\u001b[39;00m \u001b[38;5;28;01mas\u001b[39;00m \u001b[38;5;21;01mlgb\u001b[39;00m\n",
      "\u001b[1;31mModuleNotFoundError\u001b[0m: No module named 'lightgbm'"
     ]
    }
   ],
   "source": [
    "import os\n",
    "import pandas as pd\n",
    "import lightgbm as lgb"
   ]
  },
  {
   "cell_type": "code",
   "execution_count": null,
   "metadata": {},
   "outputs": [],
   "source": [
    "\n",
    "# Function to load and preprocess data from CSV files\n",
    "def load_and_preprocess_data(directory):\n",
    "    feature_list = []\n",
    "    ranking_list = []\n",
    "    for file_name in os.listdir(directory):\n",
    "        if file_name.endswith('.csv'):\n",
    "            file_path = os.path.join(directory, file_name)\n",
    "            data = pd.read_csv(file_path)\n",
    "            features = data[['#candidates', 'type', 'level']].copy()\n",
    "            features['num_voters'] = len(data)\n",
    "            rankings = data['rankings']\n",
    "            feature_list.append(features)\n",
    "            ranking_list.append(rankings)\n",
    "    # Combine all features and rankings into a single DataFrame\n",
    "    combined_features = pd.concat(feature_list, ignore_index=True)\n",
    "    combined_rankings = pd.concat(ranking_list, ignore_index=True)\n",
    "    return combined_features, combined_rankings\n",
    "\n",
    "# Function to train a ranking model\n",
    "def train_ranking_model(features, rankings):\n",
    "    train_data = lgb.Dataset(features, label=rankings)\n",
    "    params = {\n",
    "        'objective': 'lambdarank',\n",
    "        'metric': 'ndcg',\n",
    "        'ndcg_at': [5],  # Adjust based on your requirement\n",
    "        'learning_rate': 0.1,\n",
    "        'num_leaves': 31,\n",
    "        'min_data_in_leaf': 20,\n",
    "    }\n",
    "    ranker = lgb.train(params, train_data, num_boost_round=100)\n",
    "    return ranker\n",
    "\n",
    "# Function to predict rankings for new data\n",
    "def predict_rankings(model, features):\n",
    "    predictions = model.predict(features)\n",
    "    ranked_items = [sorted(range(len(p)), key=lambda i: p[i], reverse=True) for p in predictions]\n",
    "    return ranked_items\n",
    "\n",
    "# Function to save the predicted rankings to a new CSV file\n",
    "def save_predictions(predictions, output_file_path):\n",
    "    predictions_df = pd.DataFrame(predictions)\n",
    "    predictions_df.to_csv(output_file_path, index=False)\n",
    "\n",
    "# Main function to process all files in a directory and generate predictions\n",
    "def main(input_directory, output_file_path):\n",
    "    # Load and preprocess training data\n",
    "    features, rankings = load_and_preprocess_data(input_directory)\n",
    "    \n",
    "    # Train the ranking model\n",
    "    ranker = train_ranking_model(features, rankings)\n",
    "    \n",
    "    # Predict rankings for the features\n",
    "    predictions = predict_rankings(ranker, features)\n",
    "    \n",
    "    # Save predictions to output file\n",
    "    save_predictions(predictions, output_file_path)\n",
    "\n",
    "# Directory containing the input CSV files and the output file path\n",
    "input_directory = 'path/to/csv_files'\n",
    "output_file_path = 'predicted_rankings.csv'\n",
    "\n",
    "# Run the main function\n",
    "main(input_directory, output_file_path)\n"
   ]
  },
  {
   "cell_type": "markdown",
   "metadata": {},
   "source": [
    "NULL Elections\n"
   ]
  },
  {
   "cell_type": "code",
   "execution_count": 1,
   "metadata": {},
   "outputs": [],
   "source": [
    "from null_elections import *"
   ]
  },
  {
   "cell_type": "code",
   "execution_count": 3,
   "metadata": {},
   "outputs": [
    {
     "name": "stdout",
     "output_type": "stream",
     "text": [
      "0.7881019751920565\n"
     ]
    }
   ],
   "source": [
    "filename = \"Maine_11062018_CongressionalDistrict2.csv\"\n",
    "runs = 1\n",
    "sum_gamma = 0\n",
    "for i in range(runs):\n",
    "    gamma = get_null_gamma(filename)[1]\n",
    "    sum_gamma += gamma\n",
    "\n",
    "print(sum_gamma/runs)"
   ]
  },
  {
   "cell_type": "code",
   "execution_count": 3,
   "metadata": {},
   "outputs": [
    {
     "ename": "KeyboardInterrupt",
     "evalue": "",
     "output_type": "error",
     "traceback": [
      "\u001b[1;31m---------------------------------------------------------------------------\u001b[0m",
      "\u001b[1;31mKeyboardInterrupt\u001b[0m                         Traceback (most recent call last)",
      "Input \u001b[1;32mIn [3]\u001b[0m, in \u001b[0;36m<cell line: 4>\u001b[1;34m()\u001b[0m\n\u001b[0;32m      3\u001b[0m sum_gamma \u001b[38;5;241m=\u001b[39m \u001b[38;5;241m0\u001b[39m\n\u001b[0;32m      4\u001b[0m \u001b[38;5;28;01mfor\u001b[39;00m i \u001b[38;5;129;01min\u001b[39;00m \u001b[38;5;28mrange\u001b[39m(runs):\n\u001b[1;32m----> 5\u001b[0m     gamma \u001b[38;5;241m=\u001b[39m \u001b[43mget_null_gamma\u001b[49m\u001b[43m(\u001b[49m\u001b[43mfilename\u001b[49m\u001b[43m)\u001b[49m[\u001b[38;5;241m1\u001b[39m]\n\u001b[0;32m      6\u001b[0m     sum_gamma \u001b[38;5;241m+\u001b[39m\u001b[38;5;241m=\u001b[39m gamma\n\u001b[0;32m      8\u001b[0m \u001b[38;5;28mprint\u001b[39m(sum_gamma\u001b[38;5;241m/\u001b[39mruns)\n",
      "File \u001b[1;32mc:\\Users\\mahsh\\Documents\\GitHub\\bugs-in-democracy\\cleaned files\\null_elections.py:101\u001b[0m, in \u001b[0;36mget_null_gamma\u001b[1;34m(filename)\u001b[0m\n\u001b[0;32m     99\u001b[0m csv \u001b[38;5;241m=\u001b[39m os\u001b[38;5;241m.\u001b[39mpath\u001b[38;5;241m.\u001b[39mjoin(directory, filename) \n\u001b[0;32m    100\u001b[0m df \u001b[38;5;241m=\u001b[39m pd\u001b[38;5;241m.\u001b[39mread_csv(csv)  \n\u001b[1;32m--> 101\u001b[0m ballots \u001b[38;5;241m=\u001b[39m \u001b[43mget_null_ballots\u001b[49m\u001b[43m(\u001b[49m\u001b[43mdf\u001b[49m\u001b[43m)\u001b[49m\n\u001b[0;32m    102\u001b[0m candidates \u001b[38;5;241m=\u001b[39m df[\u001b[38;5;124m'\u001b[39m\u001b[38;5;124mcandidate\u001b[39m\u001b[38;5;124m'\u001b[39m]\u001b[38;5;241m.\u001b[39mvalues\n\u001b[0;32m    103\u001b[0m normalized_distances \u001b[38;5;241m=\u001b[39m {}\n",
      "File \u001b[1;32mc:\\Users\\mahsh\\Documents\\GitHub\\bugs-in-democracy\\cleaned files\\null_elections.py:70\u001b[0m, in \u001b[0;36mget_null_ballots\u001b[1;34m(df)\u001b[0m\n\u001b[0;32m     68\u001b[0m             final_ballots[b] \u001b[38;5;241m=\u001b[39m \u001b[38;5;241m0\u001b[39m\n\u001b[0;32m     69\u001b[0m         final_ballots[b] \u001b[38;5;241m+\u001b[39m\u001b[38;5;241m=\u001b[39m \u001b[38;5;241m1\u001b[39m\n\u001b[1;32m---> 70\u001b[0m         ballots_list\u001b[38;5;241m.\u001b[39mremove(b)\n\u001b[0;32m     73\u001b[0m \u001b[38;5;28;01melif\u001b[39;00m i\u001b[38;5;241m+\u001b[39m\u001b[38;5;241m1\u001b[39m \u001b[38;5;129;01min\u001b[39;00m lengths \u001b[38;5;129;01mand\u001b[39;00m lengths[i\u001b[38;5;241m+\u001b[39m\u001b[38;5;241m1\u001b[39m] \u001b[38;5;241m>\u001b[39m \u001b[38;5;241m0\u001b[39m:\n\u001b[0;32m     75\u001b[0m     len_i \u001b[38;5;241m=\u001b[39m lengths[i\u001b[38;5;241m+\u001b[39m\u001b[38;5;241m1\u001b[39m]\n",
      "\u001b[1;31mKeyboardInterrupt\u001b[0m: "
     ]
    }
   ],
   "source": [
    "\n",
    "filename = \"Maine_11082022_CongressionalDistrict2.csv\"\n",
    "runs = 5\n",
    "sum_gamma = 0\n",
    "for i in range(runs):\n",
    "    gamma = get_null_gamma(filename)[1]\n",
    "    sum_gamma += gamma\n",
    "\n",
    "print(sum_gamma/runs)"
   ]
  },
  {
   "cell_type": "code",
   "execution_count": 3,
   "metadata": {},
   "outputs": [
    {
     "name": "stdout",
     "output_type": "stream",
     "text": [
      "['REP Poliquin, Bruce' 'DEM Golden, Jared F.' 'Bond, Tiffany L.'\n",
      " 'Hoar, William R.S.']\n"
     ]
    }
   ],
   "source": [
    "directory = \"null_elections\"\n",
    "csv = os.path.join(directory, filename) \n",
    "df = pd.read_csv(csv)\n",
    "candidates = df['candidate'].values\n",
    "print(candidates)"
   ]
  },
  {
   "cell_type": "code",
   "execution_count": 28,
   "metadata": {},
   "outputs": [
    {
     "name": "stdout",
     "output_type": "stream",
     "text": [
      "Collecting python-constraint\n",
      "  Downloading python-constraint-1.4.0.tar.bz2 (18 kB)\n",
      "Building wheels for collected packages: python-constraint\n",
      "  Building wheel for python-constraint (setup.py): started\n",
      "  Building wheel for python-constraint (setup.py): finished with status 'done'\n",
      "  Created wheel for python-constraint: filename=python_constraint-1.4.0-py2.py3-none-any.whl size=24081 sha256=2cdd4dc30c8fd4c63336be621649299cd1924a9abcaa85b201d86051b245b4ae\n",
      "  Stored in directory: c:\\users\\mahsh\\appdata\\local\\pip\\cache\\wheels\\51\\36\\1f\\c2ccb8dc4eba38c5215636d4ae2c480b32069cab0376bcc1a4\n",
      "Successfully built python-constraint\n",
      "Installing collected packages: python-constraint\n",
      "Successfully installed python-constraint-1.4.0\n"
     ]
    }
   ],
   "source": [
    "import sys\n",
    "!{sys.executable} -m pip install python-constraint"
   ]
  },
  {
   "cell_type": "code",
   "execution_count": 30,
   "metadata": {},
   "outputs": [
    {
     "ename": "KeyboardInterrupt",
     "evalue": "",
     "output_type": "error",
     "traceback": [
      "\u001b[1;31m---------------------------------------------------------------------------\u001b[0m",
      "\u001b[1;31mKeyboardInterrupt\u001b[0m                         Traceback (most recent call last)",
      "Input \u001b[1;32mIn [30]\u001b[0m, in \u001b[0;36m<cell line: 34>\u001b[1;34m()\u001b[0m\n\u001b[0;32m     31\u001b[0m len_3 \u001b[38;5;241m=\u001b[39m \u001b[38;5;241m6\u001b[39m\n\u001b[0;32m     32\u001b[0m max_value \u001b[38;5;241m=\u001b[39m \u001b[38;5;241m10\u001b[39m\n\u001b[1;32m---> 34\u001b[0m solutions \u001b[38;5;241m=\u001b[39m \u001b[43mfind_all_solutions_cp\u001b[49m\u001b[43m(\u001b[49m\u001b[43mVa\u001b[49m\u001b[43m,\u001b[49m\u001b[43m \u001b[49m\u001b[43mVb\u001b[49m\u001b[43m,\u001b[49m\u001b[43m \u001b[49m\u001b[43mVc\u001b[49m\u001b[43m,\u001b[49m\u001b[43m \u001b[49m\u001b[43mlen_1\u001b[49m\u001b[43m,\u001b[49m\u001b[43m \u001b[49m\u001b[43mlen_2\u001b[49m\u001b[43m,\u001b[49m\u001b[43m \u001b[49m\u001b[43mlen_3\u001b[49m\u001b[43m,\u001b[49m\u001b[43m \u001b[49m\u001b[43mmax_value\u001b[49m\u001b[43m)\u001b[49m\n\u001b[0;32m     35\u001b[0m \u001b[38;5;28mprint\u001b[39m(\u001b[38;5;124mf\u001b[39m\u001b[38;5;124m\"\u001b[39m\u001b[38;5;124mFound \u001b[39m\u001b[38;5;132;01m{\u001b[39;00m\u001b[38;5;28mlen\u001b[39m(solutions)\u001b[38;5;132;01m}\u001b[39;00m\u001b[38;5;124m solutions.\u001b[39m\u001b[38;5;124m\"\u001b[39m)\n\u001b[0;32m     36\u001b[0m \u001b[38;5;28;01mfor\u001b[39;00m sol \u001b[38;5;129;01min\u001b[39;00m solutions:\n",
      "Input \u001b[1;32mIn [30]\u001b[0m, in \u001b[0;36mfind_all_solutions_cp\u001b[1;34m(Va, Vb, Vc, len_1, len_2, len_3, max_value)\u001b[0m\n\u001b[0;32m     18\u001b[0m problem\u001b[38;5;241m.\u001b[39maddConstraint(\u001b[38;5;28;01mlambda\u001b[39;00m a4, a5, b4, b5, c4, c5: a4 \u001b[38;5;241m+\u001b[39m a5 \u001b[38;5;241m+\u001b[39m b4 \u001b[38;5;241m+\u001b[39m b5 \u001b[38;5;241m+\u001b[39m c4 \u001b[38;5;241m+\u001b[39m c5 \u001b[38;5;241m==\u001b[39m len_3, [\u001b[38;5;124m'\u001b[39m\u001b[38;5;124ma4\u001b[39m\u001b[38;5;124m'\u001b[39m, \u001b[38;5;124m'\u001b[39m\u001b[38;5;124ma5\u001b[39m\u001b[38;5;124m'\u001b[39m, \u001b[38;5;124m'\u001b[39m\u001b[38;5;124mb4\u001b[39m\u001b[38;5;124m'\u001b[39m, \u001b[38;5;124m'\u001b[39m\u001b[38;5;124mb5\u001b[39m\u001b[38;5;124m'\u001b[39m, \u001b[38;5;124m'\u001b[39m\u001b[38;5;124mc4\u001b[39m\u001b[38;5;124m'\u001b[39m, \u001b[38;5;124m'\u001b[39m\u001b[38;5;124mc5\u001b[39m\u001b[38;5;124m'\u001b[39m])\n\u001b[0;32m     20\u001b[0m \u001b[38;5;66;03m# Find all solutions\u001b[39;00m\n\u001b[1;32m---> 21\u001b[0m solutions \u001b[38;5;241m=\u001b[39m \u001b[43mproblem\u001b[49m\u001b[38;5;241;43m.\u001b[39;49m\u001b[43mgetSolutions\u001b[49m\u001b[43m(\u001b[49m\u001b[43m)\u001b[49m\n\u001b[0;32m     23\u001b[0m \u001b[38;5;28;01mreturn\u001b[39;00m solutions\n",
      "File \u001b[1;32mc:\\Users\\mahsh\\anaconda3\\lib\\site-packages\\constraint\\__init__.py:271\u001b[0m, in \u001b[0;36mProblem.getSolutions\u001b[1;34m(self)\u001b[0m\n\u001b[0;32m    269\u001b[0m \u001b[38;5;28;01mif\u001b[39;00m \u001b[38;5;129;01mnot\u001b[39;00m domains:\n\u001b[0;32m    270\u001b[0m     \u001b[38;5;28;01mreturn\u001b[39;00m []\n\u001b[1;32m--> 271\u001b[0m \u001b[38;5;28;01mreturn\u001b[39;00m \u001b[38;5;28;43mself\u001b[39;49m\u001b[38;5;241;43m.\u001b[39;49m\u001b[43m_solver\u001b[49m\u001b[38;5;241;43m.\u001b[39;49m\u001b[43mgetSolutions\u001b[49m\u001b[43m(\u001b[49m\u001b[43mdomains\u001b[49m\u001b[43m,\u001b[49m\u001b[43m \u001b[49m\u001b[43mconstraints\u001b[49m\u001b[43m,\u001b[49m\u001b[43m \u001b[49m\u001b[43mvconstraints\u001b[49m\u001b[43m)\u001b[49m\n",
      "File \u001b[1;32mc:\\Users\\mahsh\\anaconda3\\lib\\site-packages\\constraint\\__init__.py:567\u001b[0m, in \u001b[0;36mBacktrackingSolver.getSolutions\u001b[1;34m(self, domains, constraints, vconstraints)\u001b[0m\n\u001b[0;32m    566\u001b[0m \u001b[38;5;28;01mdef\u001b[39;00m \u001b[38;5;21mgetSolutions\u001b[39m(\u001b[38;5;28mself\u001b[39m, domains, constraints, vconstraints):\n\u001b[1;32m--> 567\u001b[0m     \u001b[38;5;28;01mreturn\u001b[39;00m \u001b[38;5;28;43mlist\u001b[39;49m\u001b[43m(\u001b[49m\u001b[38;5;28;43mself\u001b[39;49m\u001b[38;5;241;43m.\u001b[39;49m\u001b[43mgetSolutionIter\u001b[49m\u001b[43m(\u001b[49m\u001b[43mdomains\u001b[49m\u001b[43m,\u001b[49m\u001b[43m \u001b[49m\u001b[43mconstraints\u001b[49m\u001b[43m,\u001b[49m\u001b[43m \u001b[49m\u001b[43mvconstraints\u001b[49m\u001b[43m)\u001b[49m\u001b[43m)\u001b[49m\n",
      "File \u001b[1;32mc:\\Users\\mahsh\\anaconda3\\lib\\site-packages\\constraint\\__init__.py:544\u001b[0m, in \u001b[0;36mBacktrackingSolver.getSolutionIter\u001b[1;34m(self, domains, constraints, vconstraints)\u001b[0m\n\u001b[0;32m    541\u001b[0m         domain\u001b[38;5;241m.\u001b[39mpushState()\n\u001b[0;32m    543\u001b[0m \u001b[38;5;28;01mfor\u001b[39;00m constraint, variables \u001b[38;5;129;01min\u001b[39;00m vconstraints[variable]:\n\u001b[1;32m--> 544\u001b[0m     \u001b[38;5;28;01mif\u001b[39;00m \u001b[38;5;129;01mnot\u001b[39;00m \u001b[43mconstraint\u001b[49m\u001b[43m(\u001b[49m\u001b[43mvariables\u001b[49m\u001b[43m,\u001b[49m\u001b[43m \u001b[49m\u001b[43mdomains\u001b[49m\u001b[43m,\u001b[49m\u001b[43m \u001b[49m\u001b[43massignments\u001b[49m\u001b[43m,\u001b[49m\u001b[43m \u001b[49m\u001b[43mpushdomains\u001b[49m\u001b[43m)\u001b[49m:\n\u001b[0;32m    545\u001b[0m         \u001b[38;5;66;03m# Value is not good.\u001b[39;00m\n\u001b[0;32m    546\u001b[0m         \u001b[38;5;28;01mbreak\u001b[39;00m\n\u001b[0;32m    547\u001b[0m \u001b[38;5;28;01melse\u001b[39;00m:\n",
      "File \u001b[1;32mc:\\Users\\mahsh\\anaconda3\\lib\\site-packages\\constraint\\__init__.py:991\u001b[0m, in \u001b[0;36mFunctionConstraint.__call__\u001b[1;34m(self, variables, domains, assignments, forwardcheck, _unassigned)\u001b[0m\n\u001b[0;32m    986\u001b[0m missing \u001b[38;5;241m=\u001b[39m parms\u001b[38;5;241m.\u001b[39mcount(_unassigned)\n\u001b[0;32m    987\u001b[0m \u001b[38;5;28;01mif\u001b[39;00m missing:\n\u001b[0;32m    988\u001b[0m     \u001b[38;5;28;01mreturn\u001b[39;00m (\u001b[38;5;28mself\u001b[39m\u001b[38;5;241m.\u001b[39m_assigned \u001b[38;5;129;01mor\u001b[39;00m \u001b[38;5;28mself\u001b[39m\u001b[38;5;241m.\u001b[39m_func(\u001b[38;5;241m*\u001b[39mparms)) \u001b[38;5;129;01mand\u001b[39;00m (\n\u001b[0;32m    989\u001b[0m         \u001b[38;5;129;01mnot\u001b[39;00m forwardcheck \u001b[38;5;129;01mor\u001b[39;00m\n\u001b[0;32m    990\u001b[0m         missing \u001b[38;5;241m!=\u001b[39m \u001b[38;5;241m1\u001b[39m \u001b[38;5;129;01mor\u001b[39;00m\n\u001b[1;32m--> 991\u001b[0m         \u001b[38;5;28;43mself\u001b[39;49m\u001b[38;5;241;43m.\u001b[39;49m\u001b[43mforwardCheck\u001b[49m\u001b[43m(\u001b[49m\u001b[43mvariables\u001b[49m\u001b[43m,\u001b[49m\u001b[43m \u001b[49m\u001b[43mdomains\u001b[49m\u001b[43m,\u001b[49m\u001b[43m \u001b[49m\u001b[43massignments\u001b[49m\u001b[43m)\u001b[49m\n\u001b[0;32m    992\u001b[0m     )\n\u001b[0;32m    993\u001b[0m \u001b[38;5;28;01mreturn\u001b[39;00m \u001b[38;5;28mself\u001b[39m\u001b[38;5;241m.\u001b[39m_func(\u001b[38;5;241m*\u001b[39mparms)\n",
      "File \u001b[1;32mc:\\Users\\mahsh\\anaconda3\\lib\\site-packages\\constraint\\__init__.py:921\u001b[0m, in \u001b[0;36mConstraint.forwardCheck\u001b[1;34m(self, variables, domains, assignments, _unassigned)\u001b[0m\n\u001b[0;32m    902\u001b[0m \u001b[38;5;124;03m\"\"\"\u001b[39;00m\n\u001b[0;32m    903\u001b[0m \u001b[38;5;124;03mHelper method for generic forward checking\u001b[39;00m\n\u001b[0;32m    904\u001b[0m \n\u001b[1;32m   (...)\u001b[0m\n\u001b[0;32m    918\u001b[0m \u001b[38;5;124;03m@rtype: bool\u001b[39;00m\n\u001b[0;32m    919\u001b[0m \u001b[38;5;124;03m\"\"\"\u001b[39;00m\n\u001b[0;32m    920\u001b[0m unassignedvariable \u001b[38;5;241m=\u001b[39m _unassigned\n\u001b[1;32m--> 921\u001b[0m \u001b[38;5;28;01mfor\u001b[39;00m variable \u001b[38;5;129;01min\u001b[39;00m variables:\n\u001b[0;32m    922\u001b[0m     \u001b[38;5;28;01mif\u001b[39;00m variable \u001b[38;5;129;01mnot\u001b[39;00m \u001b[38;5;129;01min\u001b[39;00m assignments:\n\u001b[0;32m    923\u001b[0m         \u001b[38;5;28;01mif\u001b[39;00m unassignedvariable \u001b[38;5;129;01mis\u001b[39;00m _unassigned:\n",
      "\u001b[1;31mKeyboardInterrupt\u001b[0m: "
     ]
    }
   ],
   "source": [
    "from constraint import Problem, AllDifferentConstraint\n",
    "\n",
    "def find_all_solutions_cp(Va, Vb, Vc, len_1, len_2, len_3, max_value):\n",
    "    problem = Problem()\n",
    "\n",
    "    # Add variables with their respective domains\n",
    "    problem.addVariables(['a1', 'a2', 'a3', 'a4', 'a5'], range(max_value + 1))\n",
    "    problem.addVariables(['b1', 'b2', 'b3', 'b4', 'b5'], range(max_value + 1))\n",
    "    problem.addVariables(['c1', 'c2', 'c3', 'c4', 'c5'], range(max_value + 1))\n",
    "\n",
    "    # Add constraints\n",
    "    problem.addConstraint(lambda a1, a2, a3, a4, a5: a1 + a2 + a3 + a4 + a5 == Va, ['a1', 'a2', 'a3', 'a4', 'a5'])\n",
    "    problem.addConstraint(lambda b1, b2, b3, b4, b5: b1 + b2 + b3 + b4 + b5 == Vb, ['b1', 'b2', 'b3', 'b4', 'b5'])\n",
    "    problem.addConstraint(lambda c1, c2, c3, c4, c5: c1 + c2 + c3 + c4 + c5 == Vc, ['c1', 'c2', 'c3', 'c4', 'c5'])\n",
    "\n",
    "    problem.addConstraint(lambda a1, b1, c1: a1 + b1 + c1 == len_1, ['a1', 'b1', 'c1'])\n",
    "    problem.addConstraint(lambda a2, a3, b2, b3, c2, c3: a2 + a3 + b2 + b3 + c2 + c3 == len_2, ['a2', 'a3', 'b2', 'b3', 'c2', 'c3'])\n",
    "    problem.addConstraint(lambda a4, a5, b4, b5, c4, c5: a4 + a5 + b4 + b5 + c4 + c5 == len_3, ['a4', 'a5', 'b4', 'b5', 'c4', 'c5'])\n",
    "\n",
    "    # Find all solutions\n",
    "    solutions = problem.getSolutions()\n",
    "\n",
    "    return solutions\n",
    "\n",
    "# Example usage with arbitrary values and a maximum value bound\n",
    "Va = 9\n",
    "Vb = 7\n",
    "Vc = 3\n",
    "len_1 = 5\n",
    "len_2 = 8\n",
    "len_3 = 6\n",
    "max_value = 10\n",
    "\n",
    "solutions = find_all_solutions_cp(Va, Vb, Vc, len_1, len_2, len_3, max_value)\n",
    "print(f\"Found {len(solutions)} solutions.\")\n",
    "for sol in solutions:\n",
    "    print(sol)\n"
   ]
  },
  {
   "cell_type": "code",
   "execution_count": 21,
   "metadata": {},
   "outputs": [
    {
     "name": "stdout",
     "output_type": "stream",
     "text": [
      "Solution 1:\n",
      "a[1] = 1, b[1] = 1, c[1] = 3\n",
      "a[2] = 8, b[2] = 0, c[2] = 0\n",
      "a[3] = 0, b[3] = 0, c[3] = 0\n",
      "a[4] = 0, b[4] = 6, c[4] = 0\n",
      "a[5] = 0, b[5] = 0, c[5] = 0\n",
      "\n",
      "Solution 2:\n",
      "a[1] = 1, b[1] = 1, c[1] = 3\n",
      "a[2] = 8, b[2] = 0, c[2] = 0\n",
      "a[3] = 0, b[3] = 0, c[3] = 0\n",
      "a[4] = 0, b[4] = 6, c[4] = 0\n",
      "a[5] = 0, b[5] = 0, c[5] = 0\n",
      "\n",
      "Solution 3:\n",
      "a[1] = 1, b[1] = 1, c[1] = 3\n",
      "a[2] = 8, b[2] = 0, c[2] = 0\n",
      "a[3] = 0, b[3] = 0, c[3] = 0\n",
      "a[4] = 0, b[4] = 6, c[4] = 0\n",
      "a[5] = 0, b[5] = 0, c[5] = 0\n",
      "\n",
      "Solution 4:\n",
      "a[1] = 1, b[1] = 1, c[1] = 3\n",
      "a[2] = 8, b[2] = 0, c[2] = 0\n",
      "a[3] = 0, b[3] = 0, c[3] = 0\n",
      "a[4] = 0, b[4] = 6, c[4] = 0\n",
      "a[5] = 0, b[5] = 0, c[5] = 0\n",
      "\n",
      "Solution 5:\n",
      "a[1] = 1, b[1] = 1, c[1] = 3\n",
      "a[2] = 8, b[2] = 0, c[2] = 0\n",
      "a[3] = 0, b[3] = 0, c[3] = 0\n",
      "a[4] = 0, b[4] = 6, c[4] = 0\n",
      "a[5] = 0, b[5] = 0, c[5] = 0\n",
      "\n",
      "Solution 6:\n",
      "a[1] = 1, b[1] = 1, c[1] = 3\n",
      "a[2] = 8, b[2] = 0, c[2] = 0\n",
      "a[3] = 0, b[3] = 0, c[3] = 0\n",
      "a[4] = 0, b[4] = 6, c[4] = 0\n",
      "a[5] = 0, b[5] = 0, c[5] = 0\n",
      "\n",
      "Solution 7:\n",
      "a[1] = 1, b[1] = 1, c[1] = 3\n",
      "a[2] = 8, b[2] = 0, c[2] = 0\n",
      "a[3] = 0, b[3] = 0, c[3] = 0\n",
      "a[4] = 0, b[4] = 6, c[4] = 0\n",
      "a[5] = 0, b[5] = 0, c[5] = 0\n",
      "\n",
      "Solution 8:\n",
      "a[1] = 1, b[1] = 1, c[1] = 3\n",
      "a[2] = 8, b[2] = 0, c[2] = 0\n",
      "a[3] = 0, b[3] = 0, c[3] = 0\n",
      "a[4] = 0, b[4] = 6, c[4] = 0\n",
      "a[5] = 0, b[5] = 0, c[5] = 0\n",
      "\n",
      "Solution 9:\n",
      "a[1] = 1, b[1] = 1, c[1] = 3\n",
      "a[2] = 8, b[2] = 0, c[2] = 0\n",
      "a[3] = 0, b[3] = 0, c[3] = 0\n",
      "a[4] = 0, b[4] = 6, c[4] = 0\n",
      "a[5] = 0, b[5] = 0, c[5] = 0\n",
      "\n",
      "Solution 10:\n",
      "a[1] = 1, b[1] = 1, c[1] = 3\n",
      "a[2] = 8, b[2] = 0, c[2] = 0\n",
      "a[3] = 0, b[3] = 0, c[3] = 0\n",
      "a[4] = 0, b[4] = 6, c[4] = 0\n",
      "a[5] = 0, b[5] = 0, c[5] = 0\n",
      "\n"
     ]
    }
   ],
   "source": [
    "import pulp\n",
    "import random\n",
    "\n",
    "# Example parameters (replace with your actual values)\n",
    "Va = 9\n",
    "Vb = 7\n",
    "Vc = 3\n",
    "len_1 = 5\n",
    "len_2 = 8\n",
    "len_3 = 6\n",
    "\n",
    "\n",
    "# Initialize the LP problem\n",
    "prob = pulp.LpProblem(\"RandomizedIntegerSolution\", pulp.LpMaximize)\n",
    "\n",
    "# Define variables\n",
    "a = pulp.LpVariable.dicts('a', range(1, 6), lowBound=0, cat='Integer')\n",
    "b = pulp.LpVariable.dicts('b', range(1, 6), lowBound=0, cat='Integer')\n",
    "c = pulp.LpVariable.dicts('c', range(1, 6), lowBound=0, cat='Integer')\n",
    "\n",
    "# Objective function (not really needed for feasibility check)\n",
    "prob += 0\n",
    "\n",
    "# Constraints\n",
    "prob += pulp.lpSum(a[i] for i in range(1, 6)) == Va\n",
    "prob += pulp.lpSum(b[i] for i in range(1, 6)) == Vb\n",
    "prob += pulp.lpSum(c[i] for i in range(1, 6)) == Vc\n",
    "\n",
    "prob += a[1] + b[1] + c[1] == len_1\n",
    "prob += a[2] + a[3] + b[2] + b[3] + c[2] + c[3] == len_2\n",
    "prob += a[4] + a[5] + b[4] + b[5] + c[4] + c[5] == len_3\n",
    "\n",
    "# Number of randomized runs to attempt\n",
    "num_runs = 10\n",
    "\n",
    "# List to store all found solutions\n",
    "all_solutions = []\n",
    "\n",
    "# Solve the problem multiple times with random initial values\n",
    "for _ in range(num_runs):\n",
    "    # Randomly initialize variables\n",
    "    random.seed()  # Use current system time as seed for randomness\n",
    "    for i in range(1, 6):\n",
    "        a[i].setInitialValue(random.randint(0, Va))\n",
    "        b[i].setInitialValue(random.randint(0, Vb))\n",
    "        c[i].setInitialValue(random.randint(0, Vc))\n",
    "\n",
    "    # Solve the problem\n",
    "    prob.solve()\n",
    "\n",
    "    # Store the solution if optimal\n",
    "    if pulp.LpStatus[prob.status] == \"Optimal\":\n",
    "        solution = [(int(a[i].value()), int(b[i].value()), int(c[i].value())) for i in range(1, 6)]\n",
    "        all_solutions.append(solution)\n",
    "\n",
    "# Print all found solutions\n",
    "if all_solutions:\n",
    "    for idx, solution in enumerate(all_solutions):\n",
    "        print(f\"Solution {idx + 1}:\")\n",
    "        for i in range(5):\n",
    "            print(f\"a[{i + 1}] = {solution[i][0]}, b[{i + 1}] = {solution[i][1]}, c[{i + 1}] = {solution[i][2]}\")\n",
    "        print()\n",
    "else:\n",
    "    print(\"No optimal solutions found in the given number of runs.\")\n"
   ]
  },
  {
   "cell_type": "code",
   "execution_count": null,
   "metadata": {},
   "outputs": [],
   "source": []
  }
 ],
 "metadata": {
  "kernelspec": {
   "display_name": "base",
   "language": "python",
   "name": "python3"
  },
  "language_info": {
   "codemirror_mode": {
    "name": "ipython",
    "version": 3
   },
   "file_extension": ".py",
   "mimetype": "text/x-python",
   "name": "python",
   "nbconvert_exporter": "python",
   "pygments_lexer": "ipython3",
   "version": "3.9.12"
  }
 },
 "nbformat": 4,
 "nbformat_minor": 2
}
