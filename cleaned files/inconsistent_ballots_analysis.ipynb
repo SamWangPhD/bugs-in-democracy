{
 "cells": [
  {
   "cell_type": "code",
   "execution_count": 12,
   "metadata": {},
   "outputs": [],
   "source": [
    "import seaborn as sns\n",
    "\n",
    "from scipy.stats import kurtosis, skew\n",
    "\n",
    "from rcv_distribution import *\n",
    "from MDS_analysis import *\n",
    "from voting_rules import *"
   ]
  },
  {
   "cell_type": "markdown",
   "metadata": {},
   "source": [
    "Fist we run MDS to see the ordering of the candidates"
   ]
  },
  {
   "cell_type": "code",
   "execution_count": 13,
   "metadata": {},
   "outputs": [
    {
     "name": "stderr",
     "output_type": "stream",
     "text": [
      "c:\\Users\\mahsh\\Documents\\GitHub\\bugs-in-democracy\\cleaned files\\MDS_analysis.py:162: RuntimeWarning: divide by zero encountered in true_divide\n",
      "  distance = 1 / np.sqrt(freq_upper_triangle)\n"
     ]
    },
    {
     "ename": "KeyboardInterrupt",
     "evalue": "",
     "output_type": "error",
     "traceback": [
      "\u001b[1;31m---------------------------------------------------------------------------\u001b[0m",
      "\u001b[1;31mKeyboardInterrupt\u001b[0m                         Traceback (most recent call last)",
      "Input \u001b[1;32mIn [13]\u001b[0m, in \u001b[0;36m<cell line: 7>\u001b[1;34m()\u001b[0m\n\u001b[0;32m      4\u001b[0m ballots, candidates \u001b[38;5;241m=\u001b[39m parse_election_data(csv)\n\u001b[0;32m      6\u001b[0m \u001b[38;5;66;03m# Perform the RCV analysis\u001b[39;00m\n\u001b[1;32m----> 7\u001b[0m test \u001b[38;5;241m=\u001b[39m \u001b[43mperform_rcv_analysis\u001b[49m\u001b[43m(\u001b[49m\u001b[43mballots\u001b[49m\u001b[43m,\u001b[49m\u001b[43m \u001b[49m\u001b[43mcandidates\u001b[49m\u001b[43m,\u001b[49m\u001b[43m \u001b[49m\u001b[43mn_runs\u001b[49m\u001b[38;5;241;43m=\u001b[39;49m\u001b[38;5;241;43m1000\u001b[39;49m\u001b[43m,\u001b[49m\u001b[43m \u001b[49m\u001b[43mmetric\u001b[49m\u001b[38;5;241;43m=\u001b[39;49m\u001b[38;5;28;43;01mFalse\u001b[39;49;00m\u001b[43m)\u001b[49m\n\u001b[0;32m      8\u001b[0m mds_1d_coordinates, mds_2d_coordinates, most_common_order, order_frequencies, candidate_names \u001b[38;5;241m=\u001b[39m test\n\u001b[0;32m     10\u001b[0m \u001b[38;5;66;03m# Print the normalized distances between candidates and plot the MDS analysis\u001b[39;00m\n",
      "File \u001b[1;32mc:\\Users\\mahsh\\Documents\\GitHub\\bugs-in-democracy\\cleaned files\\MDS_analysis.py:188\u001b[0m, in \u001b[0;36mperform_rcv_analysis\u001b[1;34m(raw_ballots, candidate_names, n_runs, random_state, ignore_values, metric)\u001b[0m\n\u001b[0;32m    186\u001b[0m \u001b[38;5;66;03m# Fit and transform the distance matrix\u001b[39;00m\n\u001b[0;32m    187\u001b[0m values_1d \u001b[38;5;241m=\u001b[39m mds_1d\u001b[38;5;241m.\u001b[39mfit_transform(distance)\n\u001b[1;32m--> 188\u001b[0m values_2d \u001b[38;5;241m=\u001b[39m \u001b[43mmds_2d\u001b[49m\u001b[38;5;241;43m.\u001b[39;49m\u001b[43mfit_transform\u001b[49m\u001b[43m(\u001b[49m\u001b[43mdistance\u001b[49m\u001b[43m)\u001b[49m\n\u001b[0;32m    190\u001b[0m \u001b[38;5;66;03m# Identify orders in 1D and 2D TODO Procrustes alignment for 2d ordering\u001b[39;00m\n\u001b[0;32m    191\u001b[0m order_1d \u001b[38;5;241m=\u001b[39m \u001b[38;5;28mtuple\u001b[39m(np\u001b[38;5;241m.\u001b[39margsort(values_1d\u001b[38;5;241m.\u001b[39mflatten()))\n",
      "File \u001b[1;32mc:\\Users\\mahsh\\anaconda3\\lib\\site-packages\\sklearn\\manifold\\_mds.py:534\u001b[0m, in \u001b[0;36mMDS.fit_transform\u001b[1;34m(self, X, y, init)\u001b[0m\n\u001b[0;32m    528\u001b[0m \u001b[38;5;28;01melse\u001b[39;00m:\n\u001b[0;32m    529\u001b[0m     \u001b[38;5;28;01mraise\u001b[39;00m \u001b[38;5;167;01mValueError\u001b[39;00m(\n\u001b[0;32m    530\u001b[0m         \u001b[38;5;124m\"\u001b[39m\u001b[38;5;124mProximity must be \u001b[39m\u001b[38;5;124m'\u001b[39m\u001b[38;5;124mprecomputed\u001b[39m\u001b[38;5;124m'\u001b[39m\u001b[38;5;124m or \u001b[39m\u001b[38;5;124m'\u001b[39m\u001b[38;5;124meuclidean\u001b[39m\u001b[38;5;124m'\u001b[39m\u001b[38;5;124m. Got \u001b[39m\u001b[38;5;132;01m%s\u001b[39;00m\u001b[38;5;124m instead\u001b[39m\u001b[38;5;124m\"\u001b[39m\n\u001b[0;32m    531\u001b[0m         \u001b[38;5;241m%\u001b[39m \u001b[38;5;28mstr\u001b[39m(\u001b[38;5;28mself\u001b[39m\u001b[38;5;241m.\u001b[39mdissimilarity)\n\u001b[0;32m    532\u001b[0m     )\n\u001b[1;32m--> 534\u001b[0m \u001b[38;5;28mself\u001b[39m\u001b[38;5;241m.\u001b[39membedding_, \u001b[38;5;28mself\u001b[39m\u001b[38;5;241m.\u001b[39mstress_, \u001b[38;5;28mself\u001b[39m\u001b[38;5;241m.\u001b[39mn_iter_ \u001b[38;5;241m=\u001b[39m \u001b[43msmacof\u001b[49m\u001b[43m(\u001b[49m\n\u001b[0;32m    535\u001b[0m \u001b[43m    \u001b[49m\u001b[38;5;28;43mself\u001b[39;49m\u001b[38;5;241;43m.\u001b[39;49m\u001b[43mdissimilarity_matrix_\u001b[49m\u001b[43m,\u001b[49m\n\u001b[0;32m    536\u001b[0m \u001b[43m    \u001b[49m\u001b[43mmetric\u001b[49m\u001b[38;5;241;43m=\u001b[39;49m\u001b[38;5;28;43mself\u001b[39;49m\u001b[38;5;241;43m.\u001b[39;49m\u001b[43mmetric\u001b[49m\u001b[43m,\u001b[49m\n\u001b[0;32m    537\u001b[0m \u001b[43m    \u001b[49m\u001b[43mn_components\u001b[49m\u001b[38;5;241;43m=\u001b[39;49m\u001b[38;5;28;43mself\u001b[39;49m\u001b[38;5;241;43m.\u001b[39;49m\u001b[43mn_components\u001b[49m\u001b[43m,\u001b[49m\n\u001b[0;32m    538\u001b[0m \u001b[43m    \u001b[49m\u001b[43minit\u001b[49m\u001b[38;5;241;43m=\u001b[39;49m\u001b[43minit\u001b[49m\u001b[43m,\u001b[49m\n\u001b[0;32m    539\u001b[0m \u001b[43m    \u001b[49m\u001b[43mn_init\u001b[49m\u001b[38;5;241;43m=\u001b[39;49m\u001b[38;5;28;43mself\u001b[39;49m\u001b[38;5;241;43m.\u001b[39;49m\u001b[43mn_init\u001b[49m\u001b[43m,\u001b[49m\n\u001b[0;32m    540\u001b[0m \u001b[43m    \u001b[49m\u001b[43mn_jobs\u001b[49m\u001b[38;5;241;43m=\u001b[39;49m\u001b[38;5;28;43mself\u001b[39;49m\u001b[38;5;241;43m.\u001b[39;49m\u001b[43mn_jobs\u001b[49m\u001b[43m,\u001b[49m\n\u001b[0;32m    541\u001b[0m \u001b[43m    \u001b[49m\u001b[43mmax_iter\u001b[49m\u001b[38;5;241;43m=\u001b[39;49m\u001b[38;5;28;43mself\u001b[39;49m\u001b[38;5;241;43m.\u001b[39;49m\u001b[43mmax_iter\u001b[49m\u001b[43m,\u001b[49m\n\u001b[0;32m    542\u001b[0m \u001b[43m    \u001b[49m\u001b[43mverbose\u001b[49m\u001b[38;5;241;43m=\u001b[39;49m\u001b[38;5;28;43mself\u001b[39;49m\u001b[38;5;241;43m.\u001b[39;49m\u001b[43mverbose\u001b[49m\u001b[43m,\u001b[49m\n\u001b[0;32m    543\u001b[0m \u001b[43m    \u001b[49m\u001b[43meps\u001b[49m\u001b[38;5;241;43m=\u001b[39;49m\u001b[38;5;28;43mself\u001b[39;49m\u001b[38;5;241;43m.\u001b[39;49m\u001b[43meps\u001b[49m\u001b[43m,\u001b[49m\n\u001b[0;32m    544\u001b[0m \u001b[43m    \u001b[49m\u001b[43mrandom_state\u001b[49m\u001b[38;5;241;43m=\u001b[39;49m\u001b[38;5;28;43mself\u001b[39;49m\u001b[38;5;241;43m.\u001b[39;49m\u001b[43mrandom_state\u001b[49m\u001b[43m,\u001b[49m\n\u001b[0;32m    545\u001b[0m \u001b[43m    \u001b[49m\u001b[43mreturn_n_iter\u001b[49m\u001b[38;5;241;43m=\u001b[39;49m\u001b[38;5;28;43;01mTrue\u001b[39;49;00m\u001b[43m,\u001b[49m\n\u001b[0;32m    546\u001b[0m \u001b[43m\u001b[49m\u001b[43m)\u001b[49m\n\u001b[0;32m    548\u001b[0m \u001b[38;5;28;01mreturn\u001b[39;00m \u001b[38;5;28mself\u001b[39m\u001b[38;5;241m.\u001b[39membedding_\n",
      "File \u001b[1;32mc:\\Users\\mahsh\\anaconda3\\lib\\site-packages\\sklearn\\manifold\\_mds.py:269\u001b[0m, in \u001b[0;36msmacof\u001b[1;34m(dissimilarities, metric, n_components, init, n_init, n_jobs, max_iter, verbose, eps, random_state, return_n_iter)\u001b[0m\n\u001b[0;32m    267\u001b[0m \u001b[38;5;28;01mif\u001b[39;00m effective_n_jobs(n_jobs) \u001b[38;5;241m==\u001b[39m \u001b[38;5;241m1\u001b[39m:\n\u001b[0;32m    268\u001b[0m     \u001b[38;5;28;01mfor\u001b[39;00m it \u001b[38;5;129;01min\u001b[39;00m \u001b[38;5;28mrange\u001b[39m(n_init):\n\u001b[1;32m--> 269\u001b[0m         pos, stress, n_iter_ \u001b[38;5;241m=\u001b[39m \u001b[43m_smacof_single\u001b[49m\u001b[43m(\u001b[49m\n\u001b[0;32m    270\u001b[0m \u001b[43m            \u001b[49m\u001b[43mdissimilarities\u001b[49m\u001b[43m,\u001b[49m\n\u001b[0;32m    271\u001b[0m \u001b[43m            \u001b[49m\u001b[43mmetric\u001b[49m\u001b[38;5;241;43m=\u001b[39;49m\u001b[43mmetric\u001b[49m\u001b[43m,\u001b[49m\n\u001b[0;32m    272\u001b[0m \u001b[43m            \u001b[49m\u001b[43mn_components\u001b[49m\u001b[38;5;241;43m=\u001b[39;49m\u001b[43mn_components\u001b[49m\u001b[43m,\u001b[49m\n\u001b[0;32m    273\u001b[0m \u001b[43m            \u001b[49m\u001b[43minit\u001b[49m\u001b[38;5;241;43m=\u001b[39;49m\u001b[43minit\u001b[49m\u001b[43m,\u001b[49m\n\u001b[0;32m    274\u001b[0m \u001b[43m            \u001b[49m\u001b[43mmax_iter\u001b[49m\u001b[38;5;241;43m=\u001b[39;49m\u001b[43mmax_iter\u001b[49m\u001b[43m,\u001b[49m\n\u001b[0;32m    275\u001b[0m \u001b[43m            \u001b[49m\u001b[43mverbose\u001b[49m\u001b[38;5;241;43m=\u001b[39;49m\u001b[43mverbose\u001b[49m\u001b[43m,\u001b[49m\n\u001b[0;32m    276\u001b[0m \u001b[43m            \u001b[49m\u001b[43meps\u001b[49m\u001b[38;5;241;43m=\u001b[39;49m\u001b[43meps\u001b[49m\u001b[43m,\u001b[49m\n\u001b[0;32m    277\u001b[0m \u001b[43m            \u001b[49m\u001b[43mrandom_state\u001b[49m\u001b[38;5;241;43m=\u001b[39;49m\u001b[43mrandom_state\u001b[49m\u001b[43m,\u001b[49m\n\u001b[0;32m    278\u001b[0m \u001b[43m        \u001b[49m\u001b[43m)\u001b[49m\n\u001b[0;32m    279\u001b[0m         \u001b[38;5;28;01mif\u001b[39;00m best_stress \u001b[38;5;129;01mis\u001b[39;00m \u001b[38;5;28;01mNone\u001b[39;00m \u001b[38;5;129;01mor\u001b[39;00m stress \u001b[38;5;241m<\u001b[39m best_stress:\n\u001b[0;32m    280\u001b[0m             best_stress \u001b[38;5;241m=\u001b[39m stress\n",
      "File \u001b[1;32mc:\\Users\\mahsh\\anaconda3\\lib\\site-packages\\sklearn\\manifold\\_mds.py:128\u001b[0m, in \u001b[0;36m_smacof_single\u001b[1;34m(dissimilarities, metric, n_components, init, max_iter, verbose, eps, random_state)\u001b[0m\n\u001b[0;32m    126\u001b[0m B \u001b[38;5;241m=\u001b[39m \u001b[38;5;241m-\u001b[39mratio\n\u001b[0;32m    127\u001b[0m B[np\u001b[38;5;241m.\u001b[39marange(\u001b[38;5;28mlen\u001b[39m(B)), np\u001b[38;5;241m.\u001b[39marange(\u001b[38;5;28mlen\u001b[39m(B))] \u001b[38;5;241m+\u001b[39m\u001b[38;5;241m=\u001b[39m ratio\u001b[38;5;241m.\u001b[39msum(axis\u001b[38;5;241m=\u001b[39m\u001b[38;5;241m1\u001b[39m)\n\u001b[1;32m--> 128\u001b[0m X \u001b[38;5;241m=\u001b[39m \u001b[38;5;241m1.0\u001b[39m \u001b[38;5;241m/\u001b[39m n_samples \u001b[38;5;241m*\u001b[39m \u001b[43mnp\u001b[49m\u001b[38;5;241;43m.\u001b[39;49m\u001b[43mdot\u001b[49m\u001b[43m(\u001b[49m\u001b[43mB\u001b[49m\u001b[43m,\u001b[49m\u001b[43m \u001b[49m\u001b[43mX\u001b[49m\u001b[43m)\u001b[49m\n\u001b[0;32m    130\u001b[0m dis \u001b[38;5;241m=\u001b[39m np\u001b[38;5;241m.\u001b[39msqrt((X \u001b[38;5;241m*\u001b[39m\u001b[38;5;241m*\u001b[39m \u001b[38;5;241m2\u001b[39m)\u001b[38;5;241m.\u001b[39msum(axis\u001b[38;5;241m=\u001b[39m\u001b[38;5;241m1\u001b[39m))\u001b[38;5;241m.\u001b[39msum()\n\u001b[0;32m    131\u001b[0m \u001b[38;5;28;01mif\u001b[39;00m verbose \u001b[38;5;241m>\u001b[39m\u001b[38;5;241m=\u001b[39m \u001b[38;5;241m2\u001b[39m:\n",
      "File \u001b[1;32m<__array_function__ internals>:5\u001b[0m, in \u001b[0;36mdot\u001b[1;34m(*args, **kwargs)\u001b[0m\n",
      "\u001b[1;31mKeyboardInterrupt\u001b[0m: "
     ]
    }
   ],
   "source": [
    "# Test the function with a custom CSV file\n",
    "csv = \"dataverse_files/Maine_06122018_DemocraticPrimaryforCD2.csv\"\n",
    "\n",
    "ballots, candidates = parse_election_data(csv)\n",
    "\n",
    "# Perform the RCV analysis\n",
    "test = perform_rcv_analysis(ballots, candidates, n_runs=1000, metric=False)\n",
    "mds_1d_coordinates, mds_2d_coordinates, most_common_order, order_frequencies, candidate_names = test\n",
    "\n",
    "# Print the normalized distances between candidates and plot the MDS analysis\n",
    "normalized_distances = get_distances_normalized(most_common_order, mds_1d_coordinates, candidate_names)\n",
    "print(\"Normalized distances:\", normalized_distances)\n",
    "plot_rcv_analysis(mds_1d_coordinates, mds_2d_coordinates, most_common_order, order_frequencies, candidate_names)\n",
    "\n",
    "# Get the consistency points for the bimodality analysis\n",
    "points = get_consistency_points(ballots, candidates, normalized_distances)\n",
    "\n",
    "# Create a list of data points\n",
    "data_points = []\n",
    "for key, value in points.items():\n",
    "    data_points.extend([key] * value)\n",
    "\n",
    "# Convert to numpy array\n",
    "data_points = np.array(data_points)\n",
    "\n",
    "# Prepare data for histogram\n",
    "data_list = [x for x, count in points.items() for _ in range(count)]\n",
    "\n",
    "normalized_points = []\n",
    "normalized_names = []\n",
    "for name in normalized_distances:\n",
    "    normalized_names.append(name)\n",
    "    normalized_points.append(normalized_distances[name])\n",
    "\n",
    "# Plot histogram\n",
    "plt.figure(figsize=(10, 6))\n",
    "plt.hist(data_list, bins=50, density=True, alpha=0.7)\n",
    "plt.title('Histogram of Data')\n",
    "plt.xticks(normalized_points, normalized_names, rotation=45)\n",
    "plt.xlabel('Value')\n",
    "plt.ylabel('Density')\n",
    "plt.grid(True)\n",
    "plt.show()\n",
    "\n",
    "# Plot kernal density estimation\n",
    "plt.figure(figsize=(10, 6))\n",
    "sns.kdeplot(data_list, fill=True)\n",
    "plt.title('Kernel Density Estimation of Data')\n",
    "plt.xticks(normalized_points, normalized_names, rotation=45)\n",
    "plt.xlabel('Value')\n",
    "plt.ylabel('Density')\n",
    "plt.grid(True)\n",
    "plt.show()\n"
   ]
  },
  {
   "cell_type": "code",
   "execution_count": 9,
   "metadata": {},
   "outputs": [
    {
     "name": "stdout",
     "output_type": "stream",
     "text": [
      "gamma is:  0.7590890050047402\n"
     ]
    }
   ],
   "source": [
    "print(\"gamma is: \", get_permissive_gamma(ballots, normalized_distances)[1])"
   ]
  },
  {
   "cell_type": "markdown",
   "metadata": {},
   "source": [
    "Run this cell to see all the consistent and inconsistent ballots "
   ]
  },
  {
   "cell_type": "code",
   "execution_count": 3,
   "metadata": {},
   "outputs": [
    {
     "name": "stdout",
     "output_type": "stream",
     "text": [
      "normalized distances:  {'Golden, Jared F.': 0.0, 'St. Clair, Lucas R.': 0.6337181829233953, 'Olson, Craig R.': 1.7356960462320883, 'Fulford, Jonathan S.': 3.0}\n",
      "consistent ballots: \n",
      "('Golden, Jared F.',) :  5719\n",
      "('Olson, Craig R.',) :  965\n",
      "('St. Clair, Lucas R.',) :  4733\n",
      "('Golden, Jared F.', 'St. Clair, Lucas R.', 'Olson, Craig R.') :  2048\n",
      "('St. Clair, Lucas R.', 'Golden, Jared F.', 'Fulford, Jonathan S.') :  284\n",
      "('Golden, Jared F.', 'St. Clair, Lucas R.') :  3595\n",
      "('St. Clair, Lucas R.', 'Golden, Jared F.', 'Olson, Craig R.', 'Fulford, Jonathan S.') :  2118\n",
      "('Golden, Jared F.', 'St. Clair, Lucas R.', 'Olson, Craig R.', 'Fulford, Jonathan S.') :  2307\n",
      "('Golden, Jared F.', 'Fulford, Jonathan S.') :  205\n",
      "('St. Clair, Lucas R.', 'Golden, Jared F.') :  2835\n",
      "('Golden, Jared F.', 'St. Clair, Lucas R.', 'Fulford, Jonathan S.') :  350\n",
      "('Olson, Craig R.', 'St. Clair, Lucas R.', 'Golden, Jared F.') :  357\n",
      "('Golden, Jared F.', 'Olson, Craig R.') :  762\n",
      "('Fulford, Jonathan S.', 'Olson, Craig R.', 'St. Clair, Lucas R.', 'Golden, Jared F.') :  140\n",
      "('Olson, Craig R.', 'St. Clair, Lucas R.', 'Golden, Jared F.', 'Fulford, Jonathan S.') :  446\n",
      "('St. Clair, Lucas R.', 'Golden, Jared F.', 'Olson, Craig R.') :  1682\n",
      "('St. Clair, Lucas R.', 'Olson, Craig R.', 'Golden, Jared F.') :  911\n",
      "('Olson, Craig R.', 'St. Clair, Lucas R.', 'Fulford, Jonathan S.', 'Golden, Jared F.') :  195\n",
      "('St. Clair, Lucas R.', 'Olson, Craig R.') :  663\n",
      "('St. Clair, Lucas R.', 'Olson, Craig R.', 'Golden, Jared F.', 'Fulford, Jonathan S.') :  1445\n",
      "('St. Clair, Lucas R.', 'Olson, Craig R.', 'Fulford, Jonathan S.') :  150\n",
      "('Olson, Craig R.', 'Golden, Jared F.') :  204\n",
      "('Fulford, Jonathan S.', 'Olson, Craig R.', 'St. Clair, Lucas R.') :  57\n",
      "('Olson, Craig R.', 'Golden, Jared F.', 'Fulford, Jonathan S.') :  80\n",
      "('Fulford, Jonathan S.',) :  632\n",
      "('St. Clair, Lucas R.', 'Fulford, Jonathan S.') :  245\n",
      "('Olson, Craig R.', 'St. Clair, Lucas R.') :  250\n",
      "('Fulford, Jonathan S.', 'Olson, Craig R.') :  82\n",
      "('Olson, Craig R.', 'Fulford, Jonathan S.') :  71\n",
      "('Golden, Jared F.', 'Olson, Craig R.', 'Fulford, Jonathan S.') :  223\n",
      "('St. Clair, Lucas R.', 'Fulford, Jonathan S.', 'Golden, Jared F.') :  106\n",
      "('Olson, Craig R.', 'Fulford, Jonathan S.', 'Golden, Jared F.') :  32\n",
      "('Olson, Craig R.', 'St. Clair, Lucas R.', 'Fulford, Jonathan S.') :  65\n",
      "('Fulford, Jonathan S.', 'St. Clair, Lucas R.', 'Golden, Jared F.') :  49\n",
      "('Olson, Craig R.', 'Fulford, Jonathan S.', 'St. Clair, Lucas R.', 'Golden, Jared F.') :  116\n",
      "('Fulford, Jonathan S.', 'St. Clair, Lucas R.') :  134\n",
      "('Fulford, Jonathan S.', 'Golden, Jared F.') :  95\n",
      "('Olson, Craig R.', 'Fulford, Jonathan S.', 'St. Clair, Lucas R.') :  33\n",
      "('Fulford, Jonathan S.', 'Olson, Craig R.', 'Golden, Jared F.') :  46\n",
      "inconsistent ballots: \n",
      "('Olson, Craig R.', 'Golden, Jared F.', 'St. Clair, Lucas R.') :  370\n",
      "() :  5488\n",
      "('Golden, Jared F.', 'Olson, Craig R.', 'St. Clair, Lucas R.', 'Fulford, Jonathan S.') :  984\n",
      "('Olson, Craig R.', 'Fulford, Jonathan S.', 'Golden, Jared F.', 'St. Clair, Lucas R.') :  214\n",
      "('Golden, Jared F.', 'Fulford, Jonathan S.', 'Olson, Craig R.', 'St. Clair, Lucas R.') :  1044\n",
      "('Golden, Jared F.', 'Olson, Craig R.', 'St. Clair, Lucas R.') :  1289\n",
      "('Fulford, Jonathan S.', 'St. Clair, Lucas R.', 'Olson, Craig R.', 'Golden, Jared F.') :  156\n",
      "('Golden, Jared F.', 'Olson, Craig R.', 'Fulford, Jonathan S.', 'St. Clair, Lucas R.') :  947\n",
      "('Olson, Craig R.', 'Golden, Jared F.', 'St. Clair, Lucas R.', 'Fulford, Jonathan S.') :  322\n",
      "('Olson, Craig R.', 'Golden, Jared F.', 'Fulford, Jonathan S.', 'St. Clair, Lucas R.') :  297\n",
      "('St. Clair, Lucas R.', 'Fulford, Jonathan S.', 'Golden, Jared F.', 'Olson, Craig R.') :  490\n",
      "('Golden, Jared F.', 'St. Clair, Lucas R.', 'Fulford, Jonathan S.', 'Olson, Craig R.') :  1010\n",
      "('Fulford, Jonathan S.', 'Golden, Jared F.', 'Olson, Craig R.', 'St. Clair, Lucas R.') :  524\n",
      "('Golden, Jared F.', 'Fulford, Jonathan S.', 'St. Clair, Lucas R.', 'Olson, Craig R.') :  286\n",
      "('Fulford, Jonathan S.', 'Golden, Jared F.', 'St. Clair, Lucas R.') :  41\n",
      "('Fulford, Jonathan S.', 'Olson, Craig R.', 'Golden, Jared F.', 'St. Clair, Lucas R.') :  213\n",
      "('St. Clair, Lucas R.', 'Fulford, Jonathan S.', 'Olson, Craig R.', 'Golden, Jared F.') :  378\n",
      "('St. Clair, Lucas R.', 'Golden, Jared F.', 'Fulford, Jonathan S.', 'Olson, Craig R.') :  1000\n",
      "('St. Clair, Lucas R.', 'Olson, Craig R.', 'Fulford, Jonathan S.', 'Golden, Jared F.') :  667\n",
      "('Golden, Jared F.', 'Fulford, Jonathan S.', 'Olson, Craig R.') :  153\n",
      "('Golden, Jared F.', 'Fulford, Jonathan S.', 'St. Clair, Lucas R.') :  116\n",
      "('Fulford, Jonathan S.', 'Golden, Jared F.', 'St. Clair, Lucas R.', 'Olson, Craig R.') :  117\n",
      "('Fulford, Jonathan S.', 'St. Clair, Lucas R.', 'Golden, Jared F.', 'Olson, Craig R.') :  118\n",
      "('St. Clair, Lucas R.', 'Fulford, Jonathan S.', 'Olson, Craig R.') :  89\n",
      "('Fulford, Jonathan S.', 'St. Clair, Lucas R.', 'Olson, Craig R.') :  22\n",
      "('Fulford, Jonathan S.', 'Golden, Jared F.', 'Olson, Craig R.') :  80\n",
      "45357\n"
     ]
    }
   ],
   "source": [
    "print(\"normalized distances: \", normalized_distances)\n",
    "consistent_ballots = get_permissive_gamma(ballots, normalized_distances)[0]\n",
    "print(\"consistent ballots: \")\n",
    "for b in consistent_ballots:\n",
    "    print(b, \": \", consistent_ballots[b])\n",
    "print(\"inconsistent ballots: \")\n",
    "inconsiste_ballots = {}\n",
    "total = 0\n",
    "for b in ballots:\n",
    "    if len(b) > 0:\n",
    "        total += ballots[b]\n",
    "    if b not in consistent_ballots:\n",
    "        inconsiste_ballots[b] = ballots[b]\n",
    "        print(b, \": \", ballots[b])\n",
    "print(total)"
   ]
  },
  {
   "cell_type": "markdown",
   "metadata": {},
   "source": [
    "assign the two candidates you want to examin to candidate1 and candidiate 2"
   ]
  },
  {
   "cell_type": "code",
   "execution_count": 5,
   "metadata": {},
   "outputs": [],
   "source": [
    "candidate1 = 'Golden, Jared F.'\n",
    "candidate2 = 'St. Clair, Lucas R.'"
   ]
  },
  {
   "cell_type": "code",
   "execution_count": 10,
   "metadata": {},
   "outputs": [
    {
     "name": "stdout",
     "output_type": "stream",
     "text": [
      "the whole election: \n",
      "total:  45357\n",
      "Golden, Jared F. :  23673\n",
      "St. Clair, Lucas R. :  19934\n"
     ]
    }
   ],
   "source": [
    "c1 = 0\n",
    "c2 = 0\n",
    "total = 0\n",
    "for b in ballots:\n",
    "    if (len(b) > 0):\n",
    "        total += ballots[b]\n",
    "        if candidate1 in b or candidate2 in b:\n",
    "            if candidate2 not in b and candidate1 in b:\n",
    "                c1 += ballots[b]\n",
    "                continue\n",
    "            if candidate1 not in b and candidate2 in b:\n",
    "                c2 += ballots[b]\n",
    "                continue\n",
    "            if b.index(candidate2) < b.index(candidate1):\n",
    "                c2 += ballots[b]\n",
    "            else:\n",
    "                c1 += ballots[b]\n",
    "print(\"the whole election: \")\n",
    "print(\"total: \", total)\n",
    "print(candidate1, \": \", c1)\n",
    "print(candidate2, \": \", c2)\n"
   ]
  },
  {
   "cell_type": "markdown",
   "metadata": {},
   "source": [
    "now just look at the consistent ballots"
   ]
  },
  {
   "cell_type": "code",
   "execution_count": 11,
   "metadata": {},
   "outputs": [
    {
     "name": "stdout",
     "output_type": "stream",
     "text": [
      "the whole election: \n",
      "total:  34430\n",
      "Golden, Jared F. :  15666\n",
      "St. Clair, Lucas R. :  17014\n"
     ]
    }
   ],
   "source": [
    "c1 = 0\n",
    "c2 = 0\n",
    "total = 0\n",
    "for b in consistent_ballots:\n",
    "    if (len(b) > 0):\n",
    "        total += ballots[b]\n",
    "        if candidate1 in b or candidate2 in b:\n",
    "            if candidate2 not in b and candidate1 in b:\n",
    "                c1 += ballots[b]\n",
    "                continue\n",
    "            if candidate1 not in b and candidate2 in b:\n",
    "                c2 += ballots[b]\n",
    "                continue\n",
    "            if b.index(candidate2) < b.index(candidate1):\n",
    "                c2 += ballots[b]\n",
    "            else:\n",
    "                c1 += ballots[b]\n",
    "print(\"the whole election: \")\n",
    "print(\"total: \", total)\n",
    "print(candidate1, \": \", c1)\n",
    "print(candidate2, \": \", c2)\n"
   ]
  }
 ],
 "metadata": {
  "kernelspec": {
   "display_name": "base",
   "language": "python",
   "name": "python3"
  },
  "language_info": {
   "codemirror_mode": {
    "name": "ipython",
    "version": 3
   },
   "file_extension": ".py",
   "mimetype": "text/x-python",
   "name": "python",
   "nbconvert_exporter": "python",
   "pygments_lexer": "ipython3",
   "version": "3.9.12"
  }
 },
 "nbformat": 4,
 "nbformat_minor": 2
}
