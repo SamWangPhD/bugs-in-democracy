{
 "cells": [
  {
   "cell_type": "code",
   "execution_count": 1,
   "metadata": {},
   "outputs": [],
   "source": [
    "import seaborn as sns\n",
    "\n",
    "from scipy.stats import kurtosis, skew\n",
    "\n",
    "from rcv_distribution import *\n",
    "from MDS_analysis import *\n",
    "from voting_rules import *"
   ]
  },
  {
   "cell_type": "markdown",
   "metadata": {},
   "source": [
    "Fist we run MDS to see the ordering of the candidates"
   ]
  },
  {
   "cell_type": "code",
   "execution_count": 4,
   "metadata": {},
   "outputs": [
    {
     "name": "stderr",
     "output_type": "stream",
     "text": [
      "c:\\Users\\mahsh\\Documents\\GitHub\\bugs-in-democracy\\cleaned files\\MDS_analysis.py:162: RuntimeWarning: divide by zero encountered in true_divide\n",
      "  distance = 1 / np.sqrt(freq_upper_triangle)\n"
     ]
    }
   ],
   "source": [
    "# Test the function with a custom CSV file\n",
    "csv = \"dataverse_files/Corvallis_11082022_Mayor.csv\"\n",
    "\n",
    "ballots, candidates = parse_election_data(csv)\n",
    "\n",
    "# Perform the RCV analysis\n",
    "test = perform_rcv_analysis(ballots, candidates, n_runs=1000, metric=False)\n",
    "mds_1d_coordinates, mds_2d_coordinates, most_common_order, order_frequencies, candidate_names = test\n"
   ]
  },
  {
   "cell_type": "code",
   "execution_count": 5,
   "metadata": {},
   "outputs": [
    {
     "data": {
      "image/png": "[encoded data removed]",
      "text/plain": [
       "<Figure size 720x432 with 1 Axes>"
      ]
     },
     "metadata": {
      "needs_background": "light"
     },
     "output_type": "display_data"
    }
   ],
   "source": [
    "normalized_distances = get_distances_normalized(most_common_order, mds_1d_coordinates, candidate_names)\n",
    "plot_KDE(ballots, normalized_distances)"
   ]
  },
  {
   "cell_type": "code",
   "execution_count": 6,
   "metadata": {},
   "outputs": [
    {
     "name": "stdout",
     "output_type": "stream",
     "text": [
      "gamma is:  0.8062606163552536\n"
     ]
    }
   ],
   "source": [
    "print(\"gamma is: \", get_permissive_gamma(ballots, normalized_distances)[1])"
   ]
  },
  {
   "cell_type": "code",
   "execution_count": 7,
   "metadata": {},
   "outputs": [
    {
     "name": "stdout",
     "output_type": "stream",
     "text": [
      "Charles Maughan\n"
     ]
    }
   ],
   "source": [
    "whole_election = voting_rules(ballots, candidates)\n",
    "print(whole_election.irv())"
   ]
  },
  {
   "cell_type": "code",
   "execution_count": 8,
   "metadata": {},
   "outputs": [
    {
     "name": "stdout",
     "output_type": "stream",
     "text": [
      "Andrew Struthers\n"
     ]
    }
   ],
   "source": [
    "consistent_ballots = get_permissive_gamma(ballots, normalized_distances)[0]\n",
    "consistent_election = voting_rules(consistent_ballots, candidates)\n",
    "print(consistent_election.irv())"
   ]
  },
  {
   "cell_type": "code",
   "execution_count": 14,
   "metadata": {},
   "outputs": [
    {
     "name": "stdout",
     "output_type": "stream",
     "text": [
      "3992\n"
     ]
    }
   ],
   "source": [
    "empty = 0\n",
    "for b in ballots:\n",
    "    if len(b) == 0:\n",
    "        empty += ballots[b]\n",
    "\n",
    "total_voters = (sum(ballots.values()) - empty)\n",
    "num_non_consitent = total_voters - sum(consistent_ballots.values())\n",
    "print(num_non_consitent)"
   ]
  },
  {
   "cell_type": "code",
   "execution_count": 27,
   "metadata": {},
   "outputs": [
    {
     "ename": "KeyboardInterrupt",
     "evalue": "",
     "output_type": "error",
     "traceback": [
      "\u001b[1;31m---------------------------------------------------------------------------\u001b[0m",
      "\u001b[1;31mKeyboardInterrupt\u001b[0m                         Traceback (most recent call last)",
      "Input \u001b[1;32mIn [27]\u001b[0m, in \u001b[0;36m<cell line: 3>\u001b[1;34m()\u001b[0m\n\u001b[0;32m     15\u001b[0m             found_candidate \u001b[38;5;241m=\u001b[39m \u001b[38;5;28;01mTrue\u001b[39;00m                \n\u001b[0;32m     16\u001b[0m b_num \u001b[38;5;241m=\u001b[39m ballot_to_num(ranking, normalized_distances)\n\u001b[1;32m---> 17\u001b[0m lp \u001b[38;5;241m=\u001b[39m \u001b[43msolve_lp\u001b[49m\u001b[43m(\u001b[49m\u001b[43mb_num\u001b[49m\u001b[43m,\u001b[49m\u001b[43m \u001b[49m\u001b[38;5;28;43mlen\u001b[39;49m\u001b[43m(\u001b[49m\u001b[43mnormalized_distances\u001b[49m\u001b[43m)\u001b[49m\u001b[43m)\u001b[49m\n\u001b[0;32m     18\u001b[0m \u001b[38;5;28;01mif\u001b[39;00m (ranking \u001b[38;5;129;01mnot\u001b[39;00m \u001b[38;5;129;01min\u001b[39;00m consistent_ballots):\n\u001b[0;32m     19\u001b[0m     not_added \u001b[38;5;241m=\u001b[39m \u001b[38;5;28;01mFalse\u001b[39;00m\n",
      "File \u001b[1;32mc:\\Users\\mahsh\\Documents\\GitHub\\bugs-in-democracy\\cleaned files\\consistency.py:75\u001b[0m, in \u001b[0;36msolve_lp\u001b[1;34m(b_num, n)\u001b[0m\n\u001b[0;32m     72\u001b[0m opt_min \u001b[38;5;241m=\u001b[39m linprog(c\u001b[38;5;241m=\u001b[39mobj, A_ub\u001b[38;5;241m=\u001b[39mlhs_ineq, b_ub\u001b[38;5;241m=\u001b[39mrhs_ineq, bounds\u001b[38;5;241m=\u001b[39mbnd, method\u001b[38;5;241m=\u001b[39m\u001b[38;5;124m\"\u001b[39m\u001b[38;5;124mrevised simplex\u001b[39m\u001b[38;5;124m\"\u001b[39m)\n\u001b[0;32m     74\u001b[0m \u001b[38;5;66;03m# Solve for the maximum value\u001b[39;00m\n\u001b[1;32m---> 75\u001b[0m opt_max \u001b[38;5;241m=\u001b[39m \u001b[43mlinprog\u001b[49m\u001b[43m(\u001b[49m\u001b[43mc\u001b[49m\u001b[38;5;241;43m=\u001b[39;49m\u001b[43m[\u001b[49m\u001b[38;5;241;43m-\u001b[39;49m\u001b[43mc\u001b[49m\u001b[43m \u001b[49m\u001b[38;5;28;43;01mfor\u001b[39;49;00m\u001b[43m \u001b[49m\u001b[43mc\u001b[49m\u001b[43m \u001b[49m\u001b[38;5;129;43;01min\u001b[39;49;00m\u001b[43m \u001b[49m\u001b[43mobj\u001b[49m\u001b[43m]\u001b[49m\u001b[43m,\u001b[49m\u001b[43m \u001b[49m\u001b[43mA_ub\u001b[49m\u001b[38;5;241;43m=\u001b[39;49m\u001b[43mlhs_ineq\u001b[49m\u001b[43m,\u001b[49m\u001b[43m \u001b[49m\u001b[43mb_ub\u001b[49m\u001b[38;5;241;43m=\u001b[39;49m\u001b[43mrhs_ineq\u001b[49m\u001b[43m,\u001b[49m\u001b[43m \u001b[49m\u001b[43mbounds\u001b[49m\u001b[38;5;241;43m=\u001b[39;49m\u001b[43mbnd\u001b[49m\u001b[43m,\u001b[49m\u001b[43m \u001b[49m\u001b[43mmethod\u001b[49m\u001b[38;5;241;43m=\u001b[39;49m\u001b[38;5;124;43m\"\u001b[39;49m\u001b[38;5;124;43mrevised simplex\u001b[39;49m\u001b[38;5;124;43m\"\u001b[39;49m\u001b[43m)\u001b[49m\n\u001b[0;32m     77\u001b[0m \u001b[38;5;28;01mif\u001b[39;00m opt_min\u001b[38;5;241m.\u001b[39msuccess \u001b[38;5;129;01mand\u001b[39;00m opt_max\u001b[38;5;241m.\u001b[39msuccess:\n\u001b[0;32m     78\u001b[0m     min_value \u001b[38;5;241m=\u001b[39m opt_min\u001b[38;5;241m.\u001b[39mfun\n",
      "File \u001b[1;32mc:\\Users\\mahsh\\anaconda3\\lib\\site-packages\\scipy\\optimize\\_linprog.py:617\u001b[0m, in \u001b[0;36mlinprog\u001b[1;34m(c, A_ub, b_ub, A_eq, b_eq, bounds, method, callback, options, x0)\u001b[0m\n\u001b[0;32m    613\u001b[0m undo \u001b[38;5;241m=\u001b[39m []\n\u001b[0;32m    615\u001b[0m \u001b[38;5;66;03m# Keep the original arrays to calculate slack/residuals for original\u001b[39;00m\n\u001b[0;32m    616\u001b[0m \u001b[38;5;66;03m# problem.\u001b[39;00m\n\u001b[1;32m--> 617\u001b[0m lp_o \u001b[38;5;241m=\u001b[39m \u001b[43mdeepcopy\u001b[49m\u001b[43m(\u001b[49m\u001b[43mlp\u001b[49m\u001b[43m)\u001b[49m\n\u001b[0;32m    619\u001b[0m \u001b[38;5;66;03m# Solve trivial problem, eliminate variables, tighten bounds, etc.\u001b[39;00m\n\u001b[0;32m    620\u001b[0m rr_method \u001b[38;5;241m=\u001b[39m solver_options\u001b[38;5;241m.\u001b[39mpop(\u001b[38;5;124m'\u001b[39m\u001b[38;5;124mrr_method\u001b[39m\u001b[38;5;124m'\u001b[39m, \u001b[38;5;28;01mNone\u001b[39;00m)  \u001b[38;5;66;03m# need to pop these;\u001b[39;00m\n",
      "File \u001b[1;32mc:\\Users\\mahsh\\anaconda3\\lib\\copy.py:172\u001b[0m, in \u001b[0;36mdeepcopy\u001b[1;34m(x, memo, _nil)\u001b[0m\n\u001b[0;32m    170\u001b[0m                 y \u001b[38;5;241m=\u001b[39m x\n\u001b[0;32m    171\u001b[0m             \u001b[38;5;28;01melse\u001b[39;00m:\n\u001b[1;32m--> 172\u001b[0m                 y \u001b[38;5;241m=\u001b[39m \u001b[43m_reconstruct\u001b[49m\u001b[43m(\u001b[49m\u001b[43mx\u001b[49m\u001b[43m,\u001b[49m\u001b[43m \u001b[49m\u001b[43mmemo\u001b[49m\u001b[43m,\u001b[49m\u001b[43m \u001b[49m\u001b[38;5;241;43m*\u001b[39;49m\u001b[43mrv\u001b[49m\u001b[43m)\u001b[49m\n\u001b[0;32m    174\u001b[0m \u001b[38;5;66;03m# If is its own copy, don't memoize.\u001b[39;00m\n\u001b[0;32m    175\u001b[0m \u001b[38;5;28;01mif\u001b[39;00m y \u001b[38;5;129;01mis\u001b[39;00m \u001b[38;5;129;01mnot\u001b[39;00m x:\n",
      "File \u001b[1;32mc:\\Users\\mahsh\\anaconda3\\lib\\copy.py:264\u001b[0m, in \u001b[0;36m_reconstruct\u001b[1;34m(x, memo, func, args, state, listiter, dictiter, deepcopy)\u001b[0m\n\u001b[0;32m    262\u001b[0m \u001b[38;5;28;01mif\u001b[39;00m deep \u001b[38;5;129;01mand\u001b[39;00m args:\n\u001b[0;32m    263\u001b[0m     args \u001b[38;5;241m=\u001b[39m (deepcopy(arg, memo) \u001b[38;5;28;01mfor\u001b[39;00m arg \u001b[38;5;129;01min\u001b[39;00m args)\n\u001b[1;32m--> 264\u001b[0m y \u001b[38;5;241m=\u001b[39m \u001b[43mfunc\u001b[49m\u001b[43m(\u001b[49m\u001b[38;5;241;43m*\u001b[39;49m\u001b[43margs\u001b[49m\u001b[43m)\u001b[49m\n\u001b[0;32m    265\u001b[0m \u001b[38;5;28;01mif\u001b[39;00m deep:\n\u001b[0;32m    266\u001b[0m     memo[\u001b[38;5;28mid\u001b[39m(x)] \u001b[38;5;241m=\u001b[39m y\n",
      "File \u001b[1;32mc:\\Users\\mahsh\\anaconda3\\lib\\copy.py:263\u001b[0m, in \u001b[0;36m<genexpr>\u001b[1;34m(.0)\u001b[0m\n\u001b[0;32m    261\u001b[0m deep \u001b[38;5;241m=\u001b[39m memo \u001b[38;5;129;01mis\u001b[39;00m \u001b[38;5;129;01mnot\u001b[39;00m \u001b[38;5;28;01mNone\u001b[39;00m\n\u001b[0;32m    262\u001b[0m \u001b[38;5;28;01mif\u001b[39;00m deep \u001b[38;5;129;01mand\u001b[39;00m args:\n\u001b[1;32m--> 263\u001b[0m     args \u001b[38;5;241m=\u001b[39m (\u001b[43mdeepcopy\u001b[49m\u001b[43m(\u001b[49m\u001b[43marg\u001b[49m\u001b[43m,\u001b[49m\u001b[43m \u001b[49m\u001b[43mmemo\u001b[49m\u001b[43m)\u001b[49m \u001b[38;5;28;01mfor\u001b[39;00m arg \u001b[38;5;129;01min\u001b[39;00m args)\n\u001b[0;32m    264\u001b[0m y \u001b[38;5;241m=\u001b[39m func(\u001b[38;5;241m*\u001b[39margs)\n\u001b[0;32m    265\u001b[0m \u001b[38;5;28;01mif\u001b[39;00m deep:\n",
      "File \u001b[1;32mc:\\Users\\mahsh\\anaconda3\\lib\\copy.py:153\u001b[0m, in \u001b[0;36mdeepcopy\u001b[1;34m(x, memo, _nil)\u001b[0m\n\u001b[0;32m    151\u001b[0m copier \u001b[38;5;241m=\u001b[39m \u001b[38;5;28mgetattr\u001b[39m(x, \u001b[38;5;124m\"\u001b[39m\u001b[38;5;124m__deepcopy__\u001b[39m\u001b[38;5;124m\"\u001b[39m, \u001b[38;5;28;01mNone\u001b[39;00m)\n\u001b[0;32m    152\u001b[0m \u001b[38;5;28;01mif\u001b[39;00m copier \u001b[38;5;129;01mis\u001b[39;00m \u001b[38;5;129;01mnot\u001b[39;00m \u001b[38;5;28;01mNone\u001b[39;00m:\n\u001b[1;32m--> 153\u001b[0m     y \u001b[38;5;241m=\u001b[39m \u001b[43mcopier\u001b[49m\u001b[43m(\u001b[49m\u001b[43mmemo\u001b[49m\u001b[43m)\u001b[49m\n\u001b[0;32m    154\u001b[0m \u001b[38;5;28;01melse\u001b[39;00m:\n\u001b[0;32m    155\u001b[0m     reductor \u001b[38;5;241m=\u001b[39m dispatch_table\u001b[38;5;241m.\u001b[39mget(\u001b[38;5;28mcls\u001b[39m)\n",
      "\u001b[1;31mKeyboardInterrupt\u001b[0m: "
     ]
    }
   ],
   "source": [
    "import random\n",
    "random_ballots = consistent_ballots\n",
    "for i in range(num_non_consitent):\n",
    "    not_added = True\n",
    "    while not_added is True:\n",
    "        length = random.randint(3, len(candidates))\n",
    "    \n",
    "        ranking = ()\n",
    "        for j in range(length):\n",
    "            found_candidate = False\n",
    "            while found_candidate is False:\n",
    "                random_candidate = random.choice(candidates)\n",
    "                if (random_candidate not in ranking):\n",
    "                    ranking += (random_candidate,)\n",
    "                    found_candidate = True                \n",
    "        b_num = ballot_to_num(ranking, normalized_distances)\n",
    "        lp = solve_lp(b_num, len(normalized_distances))\n",
    "        if (ranking not in consistent_ballots):\n",
    "            not_added = False\n",
    "            if (ranking not in random_ballots):\n",
    "                random_ballots[ranking] = 0\n",
    "            random_ballots[ranking] += 1\n",
    "\n",
    "\n"
   ]
  },
  {
   "cell_type": "code",
   "execution_count": 28,
   "metadata": {},
   "outputs": [
    {
     "name": "stdout",
     "output_type": "stream",
     "text": [
      "(1,)\n",
      "(2,)\n",
      "(3,)\n",
      "(4,)\n",
      "(1, 2)\n",
      "(2, 1)\n",
      "(1, 3)\n",
      "(3, 1)\n",
      "(1, 4)\n",
      "(4, 1)\n",
      "(2, 3)\n",
      "(3, 2)\n",
      "(2, 4)\n",
      "(4, 2)\n",
      "(3, 4)\n",
      "(4, 3)\n",
      "(1, 2, 3)\n",
      "(1, 3, 2)\n",
      "(2, 1, 3)\n",
      "(2, 3, 1)\n",
      "(3, 1, 2)\n",
      "(3, 2, 1)\n",
      "(1, 2, 4)\n",
      "(1, 4, 2)\n",
      "(2, 1, 4)\n",
      "(2, 4, 1)\n",
      "(4, 1, 2)\n",
      "(4, 2, 1)\n",
      "(1, 3, 4)\n",
      "(1, 4, 3)\n",
      "(3, 1, 4)\n",
      "(3, 4, 1)\n",
      "(4, 1, 3)\n",
      "(4, 3, 1)\n",
      "(2, 3, 4)\n",
      "(2, 4, 3)\n",
      "(3, 2, 4)\n",
      "(3, 4, 2)\n",
      "(4, 2, 3)\n",
      "(4, 3, 2)\n",
      "(1, 2, 3, 4)\n",
      "(1, 2, 4, 3)\n",
      "(1, 3, 2, 4)\n",
      "(1, 3, 4, 2)\n",
      "(1, 4, 2, 3)\n",
      "(1, 4, 3, 2)\n",
      "(2, 1, 3, 4)\n",
      "(2, 1, 4, 3)\n",
      "(2, 3, 1, 4)\n",
      "(2, 3, 4, 1)\n",
      "(2, 4, 1, 3)\n",
      "(2, 4, 3, 1)\n",
      "(3, 1, 2, 4)\n",
      "(3, 1, 4, 2)\n",
      "(3, 2, 1, 4)\n",
      "(3, 2, 4, 1)\n",
      "(3, 4, 1, 2)\n",
      "(3, 4, 2, 1)\n",
      "(4, 1, 2, 3)\n",
      "(4, 1, 3, 2)\n",
      "(4, 2, 1, 3)\n",
      "(4, 2, 3, 1)\n",
      "(4, 3, 1, 2)\n",
      "(4, 3, 2, 1)\n"
     ]
    }
   ],
   "source": [
    "import itertools\n",
    "\n",
    "def all_permutations(lst):\n",
    "    result = []\n",
    "    # Generate all subsets of all possible lengths\n",
    "    for r in range(1, len(lst) + 1):\n",
    "        subsets = itertools.combinations(lst, r)\n",
    "        # For each subset, generate all permutations\n",
    "        for subset in subsets:\n",
    "            perms = itertools.permutations(subset)\n",
    "            result.extend(perms)\n",
    "    return result\n",
    "\n",
    "def get_inconsistent(candidates):\n",
    "    possible_inconsistent = []\n",
    "    all_ballots = all_permutations(candidates)\n",
    "    for b in all_ballots:\n",
    "        b_num = ballot_to_num(b, normalized_distances)\n",
    "        lp = solve_lp(b_num, len(normalized_distances))\n",
    "        if lp[0] is False:\n",
    "            possible_inconsistent.append(b)\n",
    "\n"
   ]
  },
  {
   "cell_type": "code",
   "execution_count": 26,
   "metadata": {},
   "outputs": [],
   "source": [
    "for b in random_ballots:\n",
    "    if b not in consistent_ballots:\n",
    "        print(b)"
   ]
  },
  {
   "cell_type": "code",
   "execution_count": 24,
   "metadata": {},
   "outputs": [
    {
     "name": "stdout",
     "output_type": "stream",
     "text": [
      "Charles Maughan\n"
     ]
    }
   ],
   "source": [
    "random_election = voting_rules(random_ballots, candidates)\n",
    "print(random_election.irv())"
   ]
  },
  {
   "cell_type": "markdown",
   "metadata": {},
   "source": [
    "Run this cell to see all the consistent and inconsistent ballots "
   ]
  },
  {
   "cell_type": "code",
   "execution_count": 42,
   "metadata": {},
   "outputs": [
    {
     "name": "stdout",
     "output_type": "stream",
     "text": [
      "normalized distances:  {'Hinda Miller': 0.0, 'Bob Kiss': 0.5251368724655281, 'Kevin Curley': 1.144207442687659, 'Loyal Ploof': 2.618186888011694, 'Louie the Cowman Beaudin': 4.0}\n",
      "consistent ballots: \n",
      "('Hinda Miller', 'Kevin Curley', 'Louie the Cowman Beaudin') :  10\n",
      "('Bob Kiss', 'Hinda Miller', 'Loyal Ploof') :  86\n",
      "('Hinda Miller', 'Bob Kiss') :  886\n",
      "('Bob Kiss', 'Hinda Miller') :  1142\n",
      "('Bob Kiss', 'Hinda Miller', 'Louie the Cowman Beaudin') :  77\n",
      "('Bob Kiss', 'Hinda Miller', 'Kevin Curley') :  254\n",
      "('Hinda Miller',) :  551\n",
      "('Bob Kiss', 'Kevin Curley', 'Hinda Miller', 'Loyal Ploof', 'Louie the Cowman Beaudin') :  75\n",
      "('Hinda Miller', 'Bob Kiss', 'Kevin Curley') :  202\n",
      "('Bob Kiss',) :  495\n",
      "('Hinda Miller', 'Bob Kiss', 'Kevin Curley', 'Loyal Ploof', 'Louie the Cowman Beaudin') :  96\n",
      "('Kevin Curley',) :  802\n",
      "('Bob Kiss', 'Loyal Ploof', 'Hinda Miller') :  25\n",
      "('Hinda Miller', 'Bob Kiss', 'Kevin Curley', 'Louie the Cowman Beaudin') :  31\n",
      "('Bob Kiss', 'Kevin Curley') :  213\n",
      "('Hinda Miller', 'Bob Kiss', 'Kevin Curley', 'Loyal Ploof') :  10\n",
      "('Kevin Curley', 'Bob Kiss', 'Loyal Ploof') :  20\n",
      "('Hinda Miller', 'Louie the Cowman Beaudin') :  19\n",
      "('Bob Kiss', 'Kevin Curley', 'Hinda Miller') :  146\n",
      "('Hinda Miller', 'Kevin Curley', 'Loyal Ploof') :  11\n",
      "('Bob Kiss', 'Kevin Curley', 'Hinda Miller', 'Loyal Ploof') :  9\n",
      "('Kevin Curley', 'Bob Kiss', 'Loyal Ploof', 'Louie the Cowman Beaudin') :  7\n",
      "('Kevin Curley', 'Hinda Miller') :  302\n",
      "('Kevin Curley', 'Bob Kiss', 'Hinda Miller') :  126\n",
      "('Bob Kiss', 'Hinda Miller', 'Kevin Curley', 'Louie the Cowman Beaudin') :  23\n",
      "('Hinda Miller', 'Kevin Curley') :  275\n",
      "('Bob Kiss', 'Hinda Miller', 'Kevin Curley', 'Loyal Ploof') :  8\n",
      "('Kevin Curley', 'Loyal Ploof', 'Louie the Cowman Beaudin') :  9\n",
      "('Loyal Ploof', 'Bob Kiss') :  2\n",
      "('Kevin Curley', 'Bob Kiss', 'Hinda Miller', 'Loyal Ploof') :  13\n",
      "('Kevin Curley', 'Louie the Cowman Beaudin') :  98\n",
      "('Bob Kiss', 'Hinda Miller', 'Kevin Curley', 'Loyal Ploof', 'Louie the Cowman Beaudin') :  110\n",
      "('Hinda Miller', 'Bob Kiss', 'Louie the Cowman Beaudin') :  48\n",
      "('Kevin Curley', 'Bob Kiss', 'Louie the Cowman Beaudin') :  30\n",
      "('Bob Kiss', 'Louie the Cowman Beaudin') :  37\n",
      "('Bob Kiss', 'Loyal Ploof') :  43\n",
      "('Kevin Curley', 'Louie the Cowman Beaudin', 'Hinda Miller') :  21\n",
      "('Kevin Curley', 'Bob Kiss') :  223\n",
      "('Louie the Cowman Beaudin', 'Kevin Curley') :  10\n",
      "('Loyal Ploof', 'Kevin Curley') :  6\n",
      "('Louie the Cowman Beaudin',) :  33\n",
      "('Loyal Ploof', 'Hinda Miller') :  3\n",
      "('Bob Kiss', 'Kevin Curley', 'Loyal Ploof') :  26\n",
      "('Kevin Curley', 'Bob Kiss', 'Hinda Miller', 'Loyal Ploof', 'Louie the Cowman Beaudin') :  58\n",
      "('Bob Kiss', 'Loyal Ploof', 'Louie the Cowman Beaudin') :  21\n",
      "('Kevin Curley', 'Bob Kiss', 'Hinda Miller', 'Louie the Cowman Beaudin') :  11\n",
      "('Bob Kiss', 'Hinda Miller', 'Loyal Ploof', 'Louie the Cowman Beaudin') :  29\n",
      "('Hinda Miller', 'Loyal Ploof') :  20\n",
      "('Bob Kiss', 'Kevin Curley', 'Louie the Cowman Beaudin') :  36\n",
      "('Kevin Curley', 'Hinda Miller', 'Louie the Cowman Beaudin') :  21\n",
      "('Kevin Curley', 'Louie the Cowman Beaudin', 'Bob Kiss', 'Hinda Miller') :  5\n",
      "('Hinda Miller', 'Bob Kiss', 'Loyal Ploof', 'Louie the Cowman Beaudin') :  18\n",
      "('Hinda Miller', 'Bob Kiss', 'Loyal Ploof') :  54\n",
      "('Bob Kiss', 'Louie the Cowman Beaudin', 'Hinda Miller') :  22\n",
      "('Bob Kiss', 'Kevin Curley', 'Hinda Miller', 'Louie the Cowman Beaudin') :  19\n",
      "('Kevin Curley', 'Bob Kiss', 'Louie the Cowman Beaudin', 'Hinda Miller') :  13\n",
      "('Loyal Ploof', 'Louie the Cowman Beaudin', 'Kevin Curley') :  1\n",
      "('Louie the Cowman Beaudin', 'Kevin Curley', 'Bob Kiss') :  2\n",
      "('Bob Kiss', 'Kevin Curley', 'Loyal Ploof', 'Louie the Cowman Beaudin') :  7\n",
      "('Bob Kiss', 'Loyal Ploof', 'Hinda Miller', 'Louie the Cowman Beaudin') :  5\n",
      "('Loyal Ploof',) :  5\n",
      "('Loyal Ploof', 'Louie the Cowman Beaudin', 'Kevin Curley', 'Bob Kiss') :  1\n",
      "('Kevin Curley', 'Louie the Cowman Beaudin', 'Bob Kiss') :  14\n",
      "('Loyal Ploof', 'Bob Kiss', 'Louie the Cowman Beaudin') :  6\n",
      "('Louie the Cowman Beaudin', 'Bob Kiss') :  7\n",
      "('Kevin Curley', 'Bob Kiss', 'Loyal Ploof', 'Hinda Miller', 'Louie the Cowman Beaudin') :  19\n",
      "('Kevin Curley', 'Bob Kiss', 'Loyal Ploof', 'Hinda Miller') :  4\n",
      "('Kevin Curley', 'Loyal Ploof', 'Bob Kiss') :  5\n",
      "('Kevin Curley', 'Loyal Ploof') :  21\n",
      "('Loyal Ploof', 'Bob Kiss', 'Hinda Miller') :  2\n",
      "('Kevin Curley', 'Hinda Miller', 'Loyal Ploof', 'Louie the Cowman Beaudin') :  6\n",
      "('Loyal Ploof', 'Louie the Cowman Beaudin', 'Bob Kiss') :  1\n",
      "('Kevin Curley', 'Hinda Miller', 'Loyal Ploof') :  19\n",
      "('Louie the Cowman Beaudin', 'Hinda Miller') :  2\n",
      "('Louie the Cowman Beaudin', 'Kevin Curley', 'Bob Kiss', 'Hinda Miller') :  2\n",
      "('Loyal Ploof', 'Kevin Curley', 'Bob Kiss', 'Louie the Cowman Beaudin', 'Hinda Miller') :  1\n",
      "('Kevin Curley', 'Loyal Ploof', 'Bob Kiss', 'Hinda Miller', 'Louie the Cowman Beaudin') :  8\n",
      "('Louie the Cowman Beaudin', 'Loyal Ploof', 'Hinda Miller') :  1\n",
      "('Kevin Curley', 'Loyal Ploof', 'Hinda Miller') :  2\n",
      "('Louie the Cowman Beaudin', 'Loyal Ploof', 'Kevin Curley', 'Bob Kiss') :  1\n",
      "('Hinda Miller', 'Kevin Curley', 'Loyal Ploof', 'Louie the Cowman Beaudin') :  2\n",
      "('Loyal Ploof', 'Kevin Curley', 'Louie the Cowman Beaudin', 'Bob Kiss', 'Hinda Miller') :  1\n",
      "('Louie the Cowman Beaudin', 'Loyal Ploof', 'Bob Kiss', 'Hinda Miller') :  1\n",
      "('Loyal Ploof', 'Louie the Cowman Beaudin') :  1\n",
      "('Loyal Ploof', 'Louie the Cowman Beaudin', 'Bob Kiss', 'Hinda Miller') :  1\n",
      "('Louie the Cowman Beaudin', 'Bob Kiss', 'Hinda Miller') :  2\n",
      "('Louie the Cowman Beaudin', 'Loyal Ploof') :  1\n",
      "('Hinda Miller', 'Loyal Ploof', 'Louie the Cowman Beaudin') :  1\n",
      "('Loyal Ploof', 'Louie the Cowman Beaudin', 'Kevin Curley', 'Bob Kiss', 'Hinda Miller') :  1\n",
      "('Loyal Ploof', 'Hinda Miller', 'Louie the Cowman Beaudin') :  1\n",
      "inconsistent ballots: \n",
      "('Loyal Ploof', 'Louie the Cowman Beaudin', 'Kevin Curley', 'Hinda Miller', 'Bob Kiss') :  1\n",
      "('Hinda Miller', 'Bob Kiss', 'Louie the Cowman Beaudin', 'Kevin Curley', 'Loyal Ploof') :  22\n",
      "('Kevin Curley', 'Louie the Cowman Beaudin', 'Loyal Ploof') :  35\n",
      "('Hinda Miller', 'Kevin Curley', 'Bob Kiss', 'Louie the Cowman Beaudin', 'Loyal Ploof') :  53\n",
      "('Hinda Miller', 'Bob Kiss', 'Kevin Curley', 'Louie the Cowman Beaudin', 'Loyal Ploof') :  88\n",
      "('Hinda Miller', 'Louie the Cowman Beaudin', 'Loyal Ploof', 'Bob Kiss', 'Kevin Curley') :  18\n",
      "('Kevin Curley', 'Loyal Ploof', 'Louie the Cowman Beaudin', 'Hinda Miller', 'Bob Kiss') :  14\n",
      "('Bob Kiss', 'Kevin Curley', 'Loyal Ploof', 'Louie the Cowman Beaudin', 'Hinda Miller') :  46\n",
      "('Bob Kiss', 'Loyal Ploof', 'Hinda Miller', 'Kevin Curley', 'Louie the Cowman Beaudin') :  24\n",
      "('Bob Kiss', 'Hinda Miller', 'Loyal Ploof', 'Louie the Cowman Beaudin', 'Kevin Curley') :  103\n",
      "('Bob Kiss', 'Hinda Miller', 'Loyal Ploof', 'Kevin Curley', 'Louie the Cowman Beaudin') :  67\n",
      "('Bob Kiss', 'Hinda Miller', 'Loyal Ploof', 'Kevin Curley') :  7\n",
      "('Bob Kiss', 'Loyal Ploof', 'Hinda Miller', 'Louie the Cowman Beaudin', 'Kevin Curley') :  23\n",
      "('Hinda Miller', 'Kevin Curley', 'Bob Kiss') :  127\n",
      "('Hinda Miller', 'Bob Kiss', 'Loyal Ploof', 'Kevin Curley', 'Louie the Cowman Beaudin') :  47\n",
      "('Bob Kiss', 'Kevin Curley', 'Louie the Cowman Beaudin', 'Loyal Ploof', 'Hinda Miller') :  31\n",
      "('Kevin Curley', 'Hinda Miller', 'Loyal Ploof', 'Louie the Cowman Beaudin', 'Bob Kiss') :  18\n",
      "('Hinda Miller', 'Bob Kiss', 'Louie the Cowman Beaudin', 'Loyal Ploof', 'Kevin Curley') :  76\n",
      "('Bob Kiss', 'Louie the Cowman Beaudin', 'Kevin Curley', 'Loyal Ploof') :  3\n",
      "('Kevin Curley', 'Bob Kiss', 'Hinda Miller', 'Louie the Cowman Beaudin', 'Loyal Ploof') :  52\n",
      "('Kevin Curley', 'Bob Kiss', 'Louie the Cowman Beaudin', 'Loyal Ploof', 'Hinda Miller') :  48\n",
      "('Kevin Curley', 'Hinda Miller', 'Louie the Cowman Beaudin', 'Loyal Ploof', 'Bob Kiss') :  27\n",
      "('Hinda Miller', 'Louie the Cowman Beaudin', 'Loyal Ploof', 'Bob Kiss') :  3\n",
      "('Loyal Ploof', 'Hinda Miller', 'Kevin Curley', 'Bob Kiss', 'Louie the Cowman Beaudin') :  3\n",
      "('Hinda Miller', 'Louie the Cowman Beaudin', 'Kevin Curley') :  4\n",
      "('Hinda Miller', 'Louie the Cowman Beaudin', 'Kevin Curley', 'Bob Kiss') :  5\n",
      "('Kevin Curley', 'Loyal Ploof', 'Louie the Cowman Beaudin', 'Hinda Miller') :  2\n",
      "('Bob Kiss', 'Kevin Curley', 'Hinda Miller', 'Louie the Cowman Beaudin', 'Loyal Ploof') :  48\n",
      "('Bob Kiss', 'Hinda Miller', 'Kevin Curley', 'Louie the Cowman Beaudin', 'Loyal Ploof') :  74\n",
      "('Bob Kiss', 'Louie the Cowman Beaudin', 'Loyal Ploof', 'Kevin Curley', 'Hinda Miller') :  18\n",
      "('Kevin Curley', 'Hinda Miller', 'Bob Kiss', 'Loyal Ploof', 'Louie the Cowman Beaudin') :  68\n",
      "('Hinda Miller', 'Bob Kiss', 'Loyal Ploof', 'Louie the Cowman Beaudin', 'Kevin Curley') :  80\n",
      "('Kevin Curley', 'Hinda Miller', 'Bob Kiss', 'Louie the Cowman Beaudin') :  21\n",
      "('Hinda Miller', 'Loyal Ploof', 'Louie the Cowman Beaudin', 'Kevin Curley', 'Bob Kiss') :  4\n",
      "() :  89\n",
      "('Hinda Miller', 'Kevin Curley', 'Louie the Cowman Beaudin', 'Bob Kiss') :  11\n",
      "('Kevin Curley', 'Bob Kiss', 'Loyal Ploof', 'Louie the Cowman Beaudin', 'Hinda Miller') :  39\n",
      "('Louie the Cowman Beaudin', 'Hinda Miller', 'Bob Kiss', 'Kevin Curley', 'Loyal Ploof') :  4\n",
      "('Kevin Curley', 'Hinda Miller', 'Bob Kiss') :  140\n",
      "('Bob Kiss', 'Louie the Cowman Beaudin', 'Hinda Miller', 'Loyal Ploof', 'Kevin Curley') :  17\n",
      "('Bob Kiss', 'Hinda Miller', 'Louie the Cowman Beaudin', 'Loyal Ploof', 'Kevin Curley') :  98\n",
      "('Louie the Cowman Beaudin', 'Kevin Curley', 'Loyal Ploof') :  4\n",
      "('Bob Kiss', 'Louie the Cowman Beaudin', 'Loyal Ploof') :  23\n",
      "('Kevin Curley', 'Louie the Cowman Beaudin', 'Bob Kiss', 'Loyal Ploof', 'Hinda Miller') :  21\n",
      "('Bob Kiss', 'Loyal Ploof', 'Louie the Cowman Beaudin', 'Kevin Curley', 'Hinda Miller') :  24\n",
      "('Hinda Miller', 'Loyal Ploof', 'Kevin Curley') :  2\n",
      "('Bob Kiss', 'Hinda Miller', 'Louie the Cowman Beaudin', 'Kevin Curley', 'Loyal Ploof') :  26\n",
      "('Hinda Miller', 'Louie the Cowman Beaudin', 'Bob Kiss', 'Loyal Ploof', 'Kevin Curley') :  14\n",
      "('Hinda Miller', 'Kevin Curley', 'Louie the Cowman Beaudin', 'Bob Kiss', 'Loyal Ploof') :  16\n",
      "('Kevin Curley', 'Louie the Cowman Beaudin', 'Loyal Ploof', 'Bob Kiss', 'Hinda Miller') :  33\n",
      "('Hinda Miller', 'Bob Kiss', 'Louie the Cowman Beaudin', 'Kevin Curley') :  13\n",
      "('Bob Kiss', 'Louie the Cowman Beaudin', 'Loyal Ploof', 'Hinda Miller') :  9\n",
      "('Hinda Miller', 'Kevin Curley', 'Bob Kiss', 'Loyal Ploof', 'Louie the Cowman Beaudin') :  84\n",
      "('Hinda Miller', 'Bob Kiss', 'Louie the Cowman Beaudin', 'Loyal Ploof') :  27\n",
      "('Bob Kiss', 'Louie the Cowman Beaudin', 'Hinda Miller', 'Loyal Ploof') :  4\n",
      "('Bob Kiss', 'Hinda Miller', 'Louie the Cowman Beaudin', 'Loyal Ploof') :  22\n",
      "('Hinda Miller', 'Loyal Ploof', 'Kevin Curley', 'Bob Kiss', 'Louie the Cowman Beaudin') :  3\n",
      "('Bob Kiss', 'Loyal Ploof', 'Louie the Cowman Beaudin', 'Hinda Miller', 'Kevin Curley') :  39\n",
      "('Kevin Curley', 'Louie the Cowman Beaudin', 'Loyal Ploof', 'Hinda Miller', 'Bob Kiss') :  17\n",
      "('Bob Kiss', 'Kevin Curley', 'Louie the Cowman Beaudin', 'Hinda Miller') :  3\n",
      "('Bob Kiss', 'Kevin Curley', 'Louie the Cowman Beaudin', 'Loyal Ploof') :  20\n",
      "('Kevin Curley', 'Loyal Ploof', 'Louie the Cowman Beaudin', 'Bob Kiss', 'Hinda Miller') :  27\n",
      "('Kevin Curley', 'Hinda Miller', 'Bob Kiss', 'Louie the Cowman Beaudin', 'Loyal Ploof') :  60\n",
      "('Bob Kiss', 'Louie the Cowman Beaudin', 'Loyal Ploof', 'Kevin Curley') :  2\n",
      "('Bob Kiss', 'Kevin Curley', 'Louie the Cowman Beaudin', 'Hinda Miller', 'Loyal Ploof') :  22\n",
      "('Hinda Miller', 'Louie the Cowman Beaudin', 'Loyal Ploof', 'Kevin Curley', 'Bob Kiss') :  6\n",
      "('Kevin Curley', 'Bob Kiss', 'Louie the Cowman Beaudin', 'Loyal Ploof') :  14\n",
      "('Hinda Miller', 'Kevin Curley', 'Loyal Ploof', 'Louie the Cowman Beaudin', 'Bob Kiss') :  15\n",
      "('Bob Kiss', 'Kevin Curley', 'Loyal Ploof', 'Hinda Miller', 'Louie the Cowman Beaudin') :  24\n",
      "('Hinda Miller', 'Loyal Ploof', 'Louie the Cowman Beaudin', 'Bob Kiss', 'Kevin Curley') :  10\n",
      "('Bob Kiss', 'Louie the Cowman Beaudin', 'Kevin Curley', 'Loyal Ploof', 'Hinda Miller') :  10\n",
      "('Bob Kiss', 'Loyal Ploof', 'Kevin Curley') :  12\n",
      "('Hinda Miller', 'Louie the Cowman Beaudin', 'Loyal Ploof') :  14\n",
      "('Bob Kiss', 'Kevin Curley', 'Loyal Ploof', 'Hinda Miller') :  10\n",
      "('Hinda Miller', 'Louie the Cowman Beaudin', 'Bob Kiss', 'Kevin Curley', 'Loyal Ploof') :  5\n",
      "('Bob Kiss', 'Louie the Cowman Beaudin', 'Kevin Curley', 'Hinda Miller') :  10\n",
      "('Bob Kiss', 'Louie the Cowman Beaudin', 'Loyal Ploof', 'Hinda Miller', 'Kevin Curley') :  29\n",
      "('Kevin Curley', 'Louie the Cowman Beaudin', 'Loyal Ploof', 'Bob Kiss') :  8\n",
      "('Kevin Curley', 'Louie the Cowman Beaudin', 'Bob Kiss', 'Loyal Ploof') :  4\n",
      "('Louie the Cowman Beaudin', 'Bob Kiss', 'Kevin Curley', 'Hinda Miller', 'Loyal Ploof') :  2\n",
      "('Louie the Cowman Beaudin', 'Bob Kiss', 'Kevin Curley') :  1\n",
      "('Hinda Miller', 'Kevin Curley', 'Louie the Cowman Beaudin', 'Loyal Ploof', 'Bob Kiss') :  19\n",
      "('Bob Kiss', 'Loyal Ploof', 'Louie the Cowman Beaudin', 'Hinda Miller') :  5\n",
      "('Louie the Cowman Beaudin', 'Kevin Curley', 'Bob Kiss', 'Loyal Ploof', 'Hinda Miller') :  1\n",
      "('Bob Kiss', 'Hinda Miller', 'Louie the Cowman Beaudin', 'Kevin Curley') :  19\n",
      "('Loyal Ploof', 'Hinda Miller', 'Bob Kiss', 'Louie the Cowman Beaudin', 'Kevin Curley') :  6\n",
      "('Louie the Cowman Beaudin', 'Loyal Ploof', 'Bob Kiss', 'Kevin Curley', 'Hinda Miller') :  3\n",
      "('Kevin Curley', 'Louie the Cowman Beaudin', 'Hinda Miller', 'Loyal Ploof', 'Bob Kiss') :  9\n",
      "('Hinda Miller', 'Loyal Ploof', 'Bob Kiss', 'Kevin Curley', 'Louie the Cowman Beaudin') :  9\n",
      "('Hinda Miller', 'Louie the Cowman Beaudin', 'Bob Kiss', 'Kevin Curley') :  4\n",
      "('Kevin Curley', 'Loyal Ploof', 'Louie the Cowman Beaudin', 'Bob Kiss') :  1\n",
      "('Bob Kiss', 'Loyal Ploof', 'Hinda Miller', 'Kevin Curley') :  5\n",
      "('Bob Kiss', 'Loyal Ploof', 'Kevin Curley', 'Louie the Cowman Beaudin', 'Hinda Miller') :  8\n",
      "('Hinda Miller', 'Loyal Ploof', 'Bob Kiss', 'Louie the Cowman Beaudin', 'Kevin Curley') :  17\n",
      "('Hinda Miller', 'Kevin Curley', 'Loyal Ploof', 'Bob Kiss', 'Louie the Cowman Beaudin') :  19\n",
      "('Loyal Ploof', 'Bob Kiss', 'Kevin Curley') :  2\n",
      "('Kevin Curley', 'Hinda Miller', 'Louie the Cowman Beaudin', 'Loyal Ploof') :  6\n",
      "('Louie the Cowman Beaudin', 'Bob Kiss', 'Kevin Curley', 'Loyal Ploof', 'Hinda Miller') :  2\n",
      "('Hinda Miller', 'Kevin Curley', 'Loyal Ploof', 'Bob Kiss') :  4\n",
      "('Bob Kiss', 'Louie the Cowman Beaudin', 'Hinda Miller', 'Kevin Curley', 'Loyal Ploof') :  9\n",
      "('Louie the Cowman Beaudin', 'Hinda Miller', 'Bob Kiss', 'Loyal Ploof', 'Kevin Curley') :  2\n",
      "('Hinda Miller', 'Kevin Curley', 'Bob Kiss', 'Louie the Cowman Beaudin') :  14\n",
      "('Loyal Ploof', 'Hinda Miller', 'Bob Kiss') :  2\n",
      "('Louie the Cowman Beaudin', 'Kevin Curley', 'Bob Kiss', 'Hinda Miller', 'Loyal Ploof') :  6\n",
      "('Hinda Miller', 'Louie the Cowman Beaudin', 'Kevin Curley', 'Bob Kiss', 'Loyal Ploof') :  5\n",
      "('Bob Kiss', 'Loyal Ploof', 'Kevin Curley', 'Louie the Cowman Beaudin') :  9\n",
      "('Louie the Cowman Beaudin', 'Hinda Miller', 'Bob Kiss') :  1\n",
      "('Bob Kiss', 'Loyal Ploof', 'Kevin Curley', 'Hinda Miller', 'Louie the Cowman Beaudin') :  11\n",
      "('Loyal Ploof', 'Bob Kiss', 'Kevin Curley', 'Hinda Miller', 'Louie the Cowman Beaudin') :  1\n",
      "('Louie the Cowman Beaudin', 'Bob Kiss', 'Hinda Miller', 'Loyal Ploof') :  1\n",
      "('Hinda Miller', 'Loyal Ploof', 'Bob Kiss') :  11\n",
      "('Louie the Cowman Beaudin', 'Bob Kiss', 'Loyal Ploof', 'Kevin Curley') :  2\n",
      "('Bob Kiss', 'Louie the Cowman Beaudin', 'Kevin Curley', 'Hinda Miller', 'Loyal Ploof') :  6\n",
      "('Hinda Miller', 'Loyal Ploof', 'Kevin Curley', 'Louie the Cowman Beaudin', 'Bob Kiss') :  4\n",
      "('Hinda Miller', 'Kevin Curley', 'Bob Kiss', 'Loyal Ploof') :  2\n",
      "('Kevin Curley', 'Bob Kiss', 'Louie the Cowman Beaudin', 'Hinda Miller', 'Loyal Ploof') :  14\n",
      "('Hinda Miller', 'Bob Kiss', 'Loyal Ploof', 'Kevin Curley') :  5\n",
      "('Louie the Cowman Beaudin', 'Kevin Curley', 'Loyal Ploof', 'Bob Kiss') :  2\n",
      "('Hinda Miller', 'Louie the Cowman Beaudin', 'Bob Kiss') :  5\n",
      "('Kevin Curley', 'Louie the Cowman Beaudin', 'Bob Kiss', 'Hinda Miller', 'Loyal Ploof') :  18\n",
      "('Kevin Curley', 'Loyal Ploof', 'Hinda Miller', 'Bob Kiss', 'Louie the Cowman Beaudin') :  6\n",
      "('Kevin Curley', 'Louie the Cowman Beaudin', 'Loyal Ploof', 'Hinda Miller') :  2\n",
      "('Hinda Miller', 'Loyal Ploof', 'Kevin Curley', 'Louie the Cowman Beaudin') :  2\n",
      "('Loyal Ploof', 'Louie the Cowman Beaudin', 'Bob Kiss', 'Hinda Miller', 'Kevin Curley') :  1\n",
      "('Kevin Curley', 'Hinda Miller', 'Loyal Ploof', 'Bob Kiss', 'Louie the Cowman Beaudin') :  18\n",
      "('Kevin Curley', 'Loyal Ploof', 'Bob Kiss', 'Louie the Cowman Beaudin', 'Hinda Miller') :  8\n",
      "('Kevin Curley', 'Hinda Miller', 'Louie the Cowman Beaudin', 'Bob Kiss', 'Loyal Ploof') :  18\n",
      "('Bob Kiss', 'Louie the Cowman Beaudin', 'Kevin Curley') :  5\n",
      "('Kevin Curley', 'Loyal Ploof', 'Hinda Miller', 'Bob Kiss') :  2\n",
      "('Loyal Ploof', 'Bob Kiss', 'Hinda Miller', 'Kevin Curley', 'Louie the Cowman Beaudin') :  2\n",
      "('Bob Kiss', 'Louie the Cowman Beaudin', 'Hinda Miller', 'Kevin Curley') :  3\n",
      "('Hinda Miller', 'Louie the Cowman Beaudin', 'Kevin Curley', 'Loyal Ploof') :  3\n",
      "('Louie the Cowman Beaudin', 'Loyal Ploof', 'Hinda Miller', 'Bob Kiss', 'Kevin Curley') :  1\n",
      "('Loyal Ploof', 'Kevin Curley', 'Louie the Cowman Beaudin', 'Hinda Miller', 'Bob Kiss') :  1\n",
      "('Louie the Cowman Beaudin', 'Bob Kiss', 'Hinda Miller', 'Loyal Ploof', 'Kevin Curley') :  4\n",
      "('Loyal Ploof', 'Bob Kiss', 'Kevin Curley', 'Louie the Cowman Beaudin', 'Hinda Miller') :  1\n",
      "('Hinda Miller', 'Loyal Ploof', 'Louie the Cowman Beaudin', 'Kevin Curley') :  1\n",
      "('Kevin Curley', 'Louie the Cowman Beaudin', 'Hinda Miller', 'Bob Kiss', 'Loyal Ploof') :  10\n",
      "('Loyal Ploof', 'Louie the Cowman Beaudin', 'Bob Kiss', 'Kevin Curley', 'Hinda Miller') :  2\n",
      "('Louie the Cowman Beaudin', 'Bob Kiss', 'Loyal Ploof') :  5\n",
      "('Kevin Curley', 'Loyal Ploof', 'Hinda Miller', 'Louie the Cowman Beaudin', 'Bob Kiss') :  3\n",
      "('Bob Kiss', 'Loyal Ploof', 'Louie the Cowman Beaudin', 'Kevin Curley') :  3\n",
      "('Hinda Miller', 'Loyal Ploof', 'Kevin Curley', 'Bob Kiss') :  1\n",
      "('Louie the Cowman Beaudin', 'Hinda Miller', 'Kevin Curley') :  2\n",
      "('Kevin Curley', 'Hinda Miller', 'Bob Kiss', 'Loyal Ploof') :  3\n",
      "('Kevin Curley', 'Louie the Cowman Beaudin', 'Hinda Miller', 'Bob Kiss') :  3\n",
      "('Louie the Cowman Beaudin', 'Hinda Miller', 'Kevin Curley', 'Loyal Ploof') :  1\n",
      "('Kevin Curley', 'Hinda Miller', 'Loyal Ploof', 'Bob Kiss') :  2\n",
      "('Loyal Ploof', 'Bob Kiss', 'Louie the Cowman Beaudin', 'Hinda Miller', 'Kevin Curley') :  1\n",
      "('Hinda Miller', 'Louie the Cowman Beaudin', 'Kevin Curley', 'Loyal Ploof', 'Bob Kiss') :  6\n",
      "('Louie the Cowman Beaudin', 'Hinda Miller', 'Bob Kiss', 'Loyal Ploof') :  1\n",
      "('Louie the Cowman Beaudin', 'Kevin Curley', 'Bob Kiss', 'Loyal Ploof') :  1\n",
      "('Louie the Cowman Beaudin', 'Hinda Miller', 'Kevin Curley', 'Bob Kiss', 'Loyal Ploof') :  2\n",
      "('Loyal Ploof', 'Hinda Miller', 'Bob Kiss', 'Kevin Curley') :  2\n",
      "('Loyal Ploof', 'Louie the Cowman Beaudin', 'Hinda Miller', 'Bob Kiss') :  1\n",
      "('Bob Kiss', 'Loyal Ploof', 'Kevin Curley', 'Hinda Miller') :  1\n",
      "('Louie the Cowman Beaudin', 'Bob Kiss', 'Hinda Miller', 'Kevin Curley') :  1\n",
      "('Kevin Curley', 'Louie the Cowman Beaudin', 'Hinda Miller', 'Loyal Ploof') :  2\n",
      "('Louie the Cowman Beaudin', 'Kevin Curley', 'Hinda Miller', 'Loyal Ploof') :  1\n",
      "('Louie the Cowman Beaudin', 'Kevin Curley', 'Hinda Miller', 'Bob Kiss') :  1\n",
      "('Louie the Cowman Beaudin', 'Hinda Miller', 'Loyal Ploof', 'Bob Kiss') :  1\n",
      "('Loyal Ploof', 'Bob Kiss', 'Louie the Cowman Beaudin', 'Kevin Curley', 'Hinda Miller') :  1\n",
      "('Louie the Cowman Beaudin', 'Kevin Curley', 'Loyal Ploof', 'Bob Kiss', 'Hinda Miller') :  2\n",
      "('Louie the Cowman Beaudin', 'Kevin Curley', 'Hinda Miller', 'Bob Kiss', 'Loyal Ploof') :  1\n",
      "('Louie the Cowman Beaudin', 'Loyal Ploof', 'Kevin Curley', 'Hinda Miller', 'Bob Kiss') :  1\n",
      "('Hinda Miller', 'Loyal Ploof', 'Bob Kiss', 'Louie the Cowman Beaudin') :  3\n",
      "('Louie the Cowman Beaudin', 'Bob Kiss', 'Loyal Ploof', 'Kevin Curley', 'Hinda Miller') :  2\n",
      "('Louie the Cowman Beaudin', 'Bob Kiss', 'Kevin Curley', 'Hinda Miller') :  1\n",
      "('Loyal Ploof', 'Bob Kiss', 'Kevin Curley', 'Louie the Cowman Beaudin') :  1\n",
      "('Hinda Miller', 'Loyal Ploof', 'Bob Kiss', 'Kevin Curley') :  2\n",
      "('Hinda Miller', 'Louie the Cowman Beaudin', 'Bob Kiss', 'Loyal Ploof') :  1\n",
      "('Hinda Miller', 'Kevin Curley', 'Louie the Cowman Beaudin', 'Loyal Ploof') :  1\n",
      "('Louie the Cowman Beaudin', 'Bob Kiss', 'Hinda Miller', 'Kevin Curley', 'Loyal Ploof') :  2\n",
      "('Louie the Cowman Beaudin', 'Hinda Miller', 'Loyal Ploof', 'Bob Kiss', 'Kevin Curley') :  1\n",
      "('Louie the Cowman Beaudin', 'Hinda Miller', 'Kevin Curley', 'Bob Kiss') :  1\n",
      "('Louie the Cowman Beaudin', 'Hinda Miller', 'Loyal Ploof') :  1\n",
      "9776\n"
     ]
    }
   ],
   "source": [
    "print(\"normalized distances: \", normalized_distances)\n",
    "consistent_ballots = get_permissive_gamma(ballots, normalized_distances)[0]\n",
    "print(\"consistent ballots: \")\n",
    "for b in consistent_ballots:\n",
    "    print(b, \": \", consistent_ballots[b])\n",
    "print(\"inconsistent ballots: \")\n",
    "inconsiste_ballots = {}\n",
    "total = 0\n",
    "for b in ballots:\n",
    "    if len(b) > 0:\n",
    "        total += ballots[b]\n",
    "    if b not in consistent_ballots:\n",
    "        inconsiste_ballots[b] = ballots[b]\n",
    "        print(b, \": \", ballots[b])\n",
    "print(total)"
   ]
  },
  {
   "cell_type": "markdown",
   "metadata": {},
   "source": [
    "assign the two candidates you want to examin to candidate1 and candidiate 2"
   ]
  },
  {
   "cell_type": "code",
   "execution_count": 43,
   "metadata": {},
   "outputs": [],
   "source": [
    "candidate1 = 'Robin Wonsley Worlobah'\n",
    "candidate2 = 'Yusra Arab'"
   ]
  },
  {
   "cell_type": "code",
   "execution_count": 35,
   "metadata": {},
   "outputs": [
    {
     "name": "stdout",
     "output_type": "stream",
     "text": [
      "the whole election: \n",
      "total:  9521\n",
      "Robin Wonsley Worlobah :  4056\n",
      "Yusra Arab :  4037\n"
     ]
    }
   ],
   "source": [
    "c1 = 0\n",
    "c2 = 0\n",
    "total = 0\n",
    "for b in ballots:\n",
    "    if (len(b) > 0):\n",
    "        total += ballots[b]\n",
    "        if candidate1 in b or candidate2 in b:\n",
    "            if candidate2 not in b and candidate1 in b:\n",
    "                c1 += ballots[b]\n",
    "                continue\n",
    "            if candidate1 not in b and candidate2 in b:\n",
    "                c2 += ballots[b]\n",
    "                continue\n",
    "            if b.index(candidate2) < b.index(candidate1):\n",
    "                c2 += ballots[b]\n",
    "            else:\n",
    "                c1 += ballots[b]\n",
    "print(\"the whole election: \")\n",
    "print(\"total: \", total)\n",
    "print(candidate1, \": \", c1)\n",
    "print(candidate2, \": \", c2)\n"
   ]
  },
  {
   "cell_type": "markdown",
   "metadata": {},
   "source": [
    "now just look at the consistent ballots"
   ]
  },
  {
   "cell_type": "code",
   "execution_count": 36,
   "metadata": {},
   "outputs": [
    {
     "name": "stdout",
     "output_type": "stream",
     "text": [
      "Linear voters only: \n",
      "total:  7626\n",
      "Robin Wonsley Worlobah :  2645\n",
      "Yusra Arab :  3594\n"
     ]
    }
   ],
   "source": [
    "c1 = 0\n",
    "c2 = 0\n",
    "total = 0\n",
    "for b in consistent_ballots:\n",
    "    if (len(b) > 0):\n",
    "        total += ballots[b]\n",
    "        if candidate1 in b or candidate2 in b:\n",
    "            if candidate2 not in b and candidate1 in b:\n",
    "                c1 += ballots[b]\n",
    "                continue\n",
    "            if candidate1 not in b and candidate2 in b:\n",
    "                c2 += ballots[b]\n",
    "                continue\n",
    "            if b.index(candidate2) < b.index(candidate1):\n",
    "                c2 += ballots[b]\n",
    "            else:\n",
    "                c1 += ballots[b]\n",
    "print(\"Linear voters only: \")\n",
    "print(\"total: \", total)\n",
    "print(candidate1, \": \", c1)\n",
    "print(candidate2, \": \", c2)\n"
   ]
  },
  {
   "cell_type": "code",
   "execution_count": 44,
   "metadata": {},
   "outputs": [],
   "source": [
    "election = voting_rules(ballots, candidates)\n",
    "election2 = voting_rules(consistent_ballots, candidates)\n"
   ]
  },
  {
   "cell_type": "code",
   "execution_count": 45,
   "metadata": {},
   "outputs": [
    {
     "name": "stdout",
     "output_type": "stream",
     "text": [
      "Bob Kiss\n",
      "Bob Kiss\n"
     ]
    }
   ],
   "source": [
    "print(election.irv())\n",
    "print(election2.irv())"
   ]
  },
  {
   "cell_type": "code",
   "execution_count": null,
   "metadata": {},
   "outputs": [],
   "source": []
  }
 ],
 "metadata": {
  "kernelspec": {
   "display_name": "base",
   "language": "python",
   "name": "python3"
  },
  "language_info": {
   "codemirror_mode": {
    "name": "ipython",
    "version": 3
   },
   "file_extension": ".py",
   "mimetype": "text/x-python",
   "name": "python",
   "nbconvert_exporter": "python",
   "pygments_lexer": "ipython3",
   "version": "3.9.12"
  }
 },
 "nbformat": 4,
 "nbformat_minor": 2
}
