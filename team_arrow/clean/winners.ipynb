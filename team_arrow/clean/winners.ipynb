{
 "cells": [
  {
   "cell_type": "code",
   "execution_count": 35,
   "metadata": {},
   "outputs": [],
   "source": [
    "import seaborn as sns\n",
    "\n",
    "from scipy.stats import kurtosis, skew\n",
    "import pandas as pd\n",
    "from rcv_distribution import *\n",
    "from rcv_dimensionality import *\n",
    "from voting_rules import *\n",
    "import os "
   ]
  },
  {
   "cell_type": "code",
   "execution_count": 37,
   "metadata": {},
   "outputs": [
    {
     "name": "stdout",
     "output_type": "stream",
     "text": [
      "Empty DataFrame\n",
      "Columns: [filename, diff, IRV1, Condorcet1, Plurality1, Approval1IRV2, Condorcet2, Plurality2, Approval2]\n",
      "Index: []\n",
      "Alaska_04102020_PRESIDENTOFTHEUNITEDSTATES.csv\n"
     ]
    },
    {
     "name": "stderr",
     "output_type": "stream",
     "text": [
      "c:\\Users\\mahsh\\Documents\\GitHub\\bugs-in-democracy\\team_arrow\\clean\\rcv_dimensionality.py:170: RuntimeWarning: divide by zero encountered in true_divide\n",
      "  distance = 1 / np.sqrt(freq_upper_triangle)\n",
      "C:\\Users\\mahsh\\AppData\\Local\\Temp\\ipykernel_21280\\541227406.py:69: FutureWarning: The frame.append method is deprecated and will be removed from pandas in a future version. Use pandas.concat instead.\n",
      "  winners = winners.append({'filename': filename, 'diff': diff, 'IRV1': irv1, 'Condorcet1': condorcet1,\n"
     ]
    },
    {
     "name": "stdout",
     "output_type": "stream",
     "text": [
      "Alaska_08162022_HouseofRepresentativesSpecial.csv\n"
     ]
    },
    {
     "name": "stderr",
     "output_type": "stream",
     "text": [
      "c:\\Users\\mahsh\\Documents\\GitHub\\bugs-in-democracy\\team_arrow\\clean\\rcv_dimensionality.py:170: RuntimeWarning: divide by zero encountered in true_divide\n",
      "  distance = 1 / np.sqrt(freq_upper_triangle)\n",
      "C:\\Users\\mahsh\\AppData\\Local\\Temp\\ipykernel_21280\\541227406.py:69: FutureWarning: The frame.append method is deprecated and will be removed from pandas in a future version. Use pandas.concat instead.\n",
      "  winners = winners.append({'filename': filename, 'diff': diff, 'IRV1': irv1, 'Condorcet1': condorcet1,\n"
     ]
    },
    {
     "name": "stdout",
     "output_type": "stream",
     "text": [
      "Alaska_11082022_GovernorLieutenantGovernor.csv\n"
     ]
    },
    {
     "name": "stderr",
     "output_type": "stream",
     "text": [
      "c:\\Users\\mahsh\\Documents\\GitHub\\bugs-in-democracy\\team_arrow\\clean\\rcv_dimensionality.py:170: RuntimeWarning: divide by zero encountered in true_divide\n",
      "  distance = 1 / np.sqrt(freq_upper_triangle)\n",
      "C:\\Users\\mahsh\\AppData\\Local\\Temp\\ipykernel_21280\\541227406.py:69: FutureWarning: The frame.append method is deprecated and will be removed from pandas in a future version. Use pandas.concat instead.\n",
      "  winners = winners.append({'filename': filename, 'diff': diff, 'IRV1': irv1, 'Condorcet1': condorcet1,\n"
     ]
    },
    {
     "name": "stdout",
     "output_type": "stream",
     "text": [
      "Alaska_11082022_HouseDistrict1.csv\n"
     ]
    },
    {
     "name": "stderr",
     "output_type": "stream",
     "text": [
      "c:\\Users\\mahsh\\Documents\\GitHub\\bugs-in-democracy\\team_arrow\\clean\\rcv_dimensionality.py:170: RuntimeWarning: divide by zero encountered in true_divide\n",
      "  distance = 1 / np.sqrt(freq_upper_triangle)\n",
      "C:\\Users\\mahsh\\AppData\\Local\\Temp\\ipykernel_21280\\541227406.py:69: FutureWarning: The frame.append method is deprecated and will be removed from pandas in a future version. Use pandas.concat instead.\n",
      "  winners = winners.append({'filename': filename, 'diff': diff, 'IRV1': irv1, 'Condorcet1': condorcet1,\n"
     ]
    },
    {
     "name": "stdout",
     "output_type": "stream",
     "text": [
      "Alaska_11082022_HouseDistrict10.csv\n"
     ]
    },
    {
     "name": "stderr",
     "output_type": "stream",
     "text": [
      "c:\\Users\\mahsh\\Documents\\GitHub\\bugs-in-democracy\\team_arrow\\clean\\rcv_dimensionality.py:170: RuntimeWarning: divide by zero encountered in true_divide\n",
      "  distance = 1 / np.sqrt(freq_upper_triangle)\n",
      "C:\\Users\\mahsh\\AppData\\Local\\Temp\\ipykernel_21280\\541227406.py:69: FutureWarning: The frame.append method is deprecated and will be removed from pandas in a future version. Use pandas.concat instead.\n",
      "  winners = winners.append({'filename': filename, 'diff': diff, 'IRV1': irv1, 'Condorcet1': condorcet1,\n"
     ]
    },
    {
     "name": "stdout",
     "output_type": "stream",
     "text": [
      "Alaska_11082022_HouseDistrict11.csv\n"
     ]
    },
    {
     "name": "stderr",
     "output_type": "stream",
     "text": [
      "c:\\Users\\mahsh\\Documents\\GitHub\\bugs-in-democracy\\team_arrow\\clean\\rcv_dimensionality.py:170: RuntimeWarning: divide by zero encountered in true_divide\n",
      "  distance = 1 / np.sqrt(freq_upper_triangle)\n",
      "C:\\Users\\mahsh\\AppData\\Local\\Temp\\ipykernel_21280\\541227406.py:69: FutureWarning: The frame.append method is deprecated and will be removed from pandas in a future version. Use pandas.concat instead.\n",
      "  winners = winners.append({'filename': filename, 'diff': diff, 'IRV1': irv1, 'Condorcet1': condorcet1,\n"
     ]
    },
    {
     "name": "stdout",
     "output_type": "stream",
     "text": [
      "Alaska_11082022_HouseDistrict12.csv\n"
     ]
    },
    {
     "name": "stderr",
     "output_type": "stream",
     "text": [
      "c:\\Users\\mahsh\\Documents\\GitHub\\bugs-in-democracy\\team_arrow\\clean\\rcv_dimensionality.py:170: RuntimeWarning: divide by zero encountered in true_divide\n",
      "  distance = 1 / np.sqrt(freq_upper_triangle)\n",
      "C:\\Users\\mahsh\\AppData\\Local\\Temp\\ipykernel_21280\\541227406.py:69: FutureWarning: The frame.append method is deprecated and will be removed from pandas in a future version. Use pandas.concat instead.\n",
      "  winners = winners.append({'filename': filename, 'diff': diff, 'IRV1': irv1, 'Condorcet1': condorcet1,\n"
     ]
    },
    {
     "name": "stdout",
     "output_type": "stream",
     "text": [
      "Alaska_11082022_HouseDistrict13.csv\n"
     ]
    },
    {
     "name": "stderr",
     "output_type": "stream",
     "text": [
      "c:\\Users\\mahsh\\Documents\\GitHub\\bugs-in-democracy\\team_arrow\\clean\\rcv_dimensionality.py:170: RuntimeWarning: divide by zero encountered in true_divide\n",
      "  distance = 1 / np.sqrt(freq_upper_triangle)\n",
      "C:\\Users\\mahsh\\AppData\\Local\\Temp\\ipykernel_21280\\541227406.py:69: FutureWarning: The frame.append method is deprecated and will be removed from pandas in a future version. Use pandas.concat instead.\n",
      "  winners = winners.append({'filename': filename, 'diff': diff, 'IRV1': irv1, 'Condorcet1': condorcet1,\n"
     ]
    },
    {
     "name": "stdout",
     "output_type": "stream",
     "text": [
      "Alaska_11082022_HouseDistrict14.csv\n"
     ]
    },
    {
     "name": "stderr",
     "output_type": "stream",
     "text": [
      "c:\\Users\\mahsh\\Documents\\GitHub\\bugs-in-democracy\\team_arrow\\clean\\rcv_dimensionality.py:170: RuntimeWarning: divide by zero encountered in true_divide\n",
      "  distance = 1 / np.sqrt(freq_upper_triangle)\n",
      "C:\\Users\\mahsh\\AppData\\Local\\Temp\\ipykernel_21280\\541227406.py:69: FutureWarning: The frame.append method is deprecated and will be removed from pandas in a future version. Use pandas.concat instead.\n",
      "  winners = winners.append({'filename': filename, 'diff': diff, 'IRV1': irv1, 'Condorcet1': condorcet1,\n"
     ]
    },
    {
     "name": "stdout",
     "output_type": "stream",
     "text": [
      "Alaska_11082022_HouseDistrict15.csv\n"
     ]
    },
    {
     "name": "stderr",
     "output_type": "stream",
     "text": [
      "c:\\Users\\mahsh\\Documents\\GitHub\\bugs-in-democracy\\team_arrow\\clean\\rcv_dimensionality.py:170: RuntimeWarning: divide by zero encountered in true_divide\n",
      "  distance = 1 / np.sqrt(freq_upper_triangle)\n",
      "C:\\Users\\mahsh\\AppData\\Local\\Temp\\ipykernel_21280\\541227406.py:69: FutureWarning: The frame.append method is deprecated and will be removed from pandas in a future version. Use pandas.concat instead.\n",
      "  winners = winners.append({'filename': filename, 'diff': diff, 'IRV1': irv1, 'Condorcet1': condorcet1,\n"
     ]
    },
    {
     "name": "stdout",
     "output_type": "stream",
     "text": [
      "Alaska_11082022_HouseDistrict16.csv\n"
     ]
    },
    {
     "name": "stderr",
     "output_type": "stream",
     "text": [
      "c:\\Users\\mahsh\\Documents\\GitHub\\bugs-in-democracy\\team_arrow\\clean\\rcv_dimensionality.py:170: RuntimeWarning: divide by zero encountered in true_divide\n",
      "  distance = 1 / np.sqrt(freq_upper_triangle)\n",
      "C:\\Users\\mahsh\\AppData\\Local\\Temp\\ipykernel_21280\\541227406.py:69: FutureWarning: The frame.append method is deprecated and will be removed from pandas in a future version. Use pandas.concat instead.\n",
      "  winners = winners.append({'filename': filename, 'diff': diff, 'IRV1': irv1, 'Condorcet1': condorcet1,\n"
     ]
    },
    {
     "name": "stdout",
     "output_type": "stream",
     "text": [
      "Alaska_11082022_HouseDistrict17.csv\n"
     ]
    },
    {
     "name": "stderr",
     "output_type": "stream",
     "text": [
      "c:\\Users\\mahsh\\Documents\\GitHub\\bugs-in-democracy\\team_arrow\\clean\\rcv_dimensionality.py:170: RuntimeWarning: divide by zero encountered in true_divide\n",
      "  distance = 1 / np.sqrt(freq_upper_triangle)\n",
      "C:\\Users\\mahsh\\AppData\\Local\\Temp\\ipykernel_21280\\541227406.py:69: FutureWarning: The frame.append method is deprecated and will be removed from pandas in a future version. Use pandas.concat instead.\n",
      "  winners = winners.append({'filename': filename, 'diff': diff, 'IRV1': irv1, 'Condorcet1': condorcet1,\n"
     ]
    },
    {
     "name": "stdout",
     "output_type": "stream",
     "text": [
      "Alaska_11082022_HouseDistrict18.csv\n"
     ]
    },
    {
     "name": "stderr",
     "output_type": "stream",
     "text": [
      "c:\\Users\\mahsh\\Documents\\GitHub\\bugs-in-democracy\\team_arrow\\clean\\rcv_dimensionality.py:170: RuntimeWarning: divide by zero encountered in true_divide\n",
      "  distance = 1 / np.sqrt(freq_upper_triangle)\n",
      "C:\\Users\\mahsh\\AppData\\Local\\Temp\\ipykernel_21280\\541227406.py:69: FutureWarning: The frame.append method is deprecated and will be removed from pandas in a future version. Use pandas.concat instead.\n",
      "  winners = winners.append({'filename': filename, 'diff': diff, 'IRV1': irv1, 'Condorcet1': condorcet1,\n"
     ]
    },
    {
     "name": "stdout",
     "output_type": "stream",
     "text": [
      "Alaska_11082022_HouseDistrict19.csv\n"
     ]
    },
    {
     "name": "stderr",
     "output_type": "stream",
     "text": [
      "c:\\Users\\mahsh\\Documents\\GitHub\\bugs-in-democracy\\team_arrow\\clean\\rcv_dimensionality.py:170: RuntimeWarning: divide by zero encountered in true_divide\n",
      "  distance = 1 / np.sqrt(freq_upper_triangle)\n",
      "C:\\Users\\mahsh\\AppData\\Local\\Temp\\ipykernel_21280\\541227406.py:69: FutureWarning: The frame.append method is deprecated and will be removed from pandas in a future version. Use pandas.concat instead.\n",
      "  winners = winners.append({'filename': filename, 'diff': diff, 'IRV1': irv1, 'Condorcet1': condorcet1,\n"
     ]
    },
    {
     "name": "stdout",
     "output_type": "stream",
     "text": [
      "Alaska_11082022_HouseDistrict2.csv\n"
     ]
    },
    {
     "name": "stderr",
     "output_type": "stream",
     "text": [
      "c:\\Users\\mahsh\\Documents\\GitHub\\bugs-in-democracy\\team_arrow\\clean\\rcv_dimensionality.py:170: RuntimeWarning: divide by zero encountered in true_divide\n",
      "  distance = 1 / np.sqrt(freq_upper_triangle)\n",
      "C:\\Users\\mahsh\\AppData\\Local\\Temp\\ipykernel_21280\\541227406.py:69: FutureWarning: The frame.append method is deprecated and will be removed from pandas in a future version. Use pandas.concat instead.\n",
      "  winners = winners.append({'filename': filename, 'diff': diff, 'IRV1': irv1, 'Condorcet1': condorcet1,\n"
     ]
    },
    {
     "name": "stdout",
     "output_type": "stream",
     "text": [
      "Alaska_11082022_HouseDistrict20.csv\n"
     ]
    },
    {
     "name": "stderr",
     "output_type": "stream",
     "text": [
      "c:\\Users\\mahsh\\Documents\\GitHub\\bugs-in-democracy\\team_arrow\\clean\\rcv_dimensionality.py:170: RuntimeWarning: divide by zero encountered in true_divide\n",
      "  distance = 1 / np.sqrt(freq_upper_triangle)\n",
      "C:\\Users\\mahsh\\AppData\\Local\\Temp\\ipykernel_21280\\541227406.py:69: FutureWarning: The frame.append method is deprecated and will be removed from pandas in a future version. Use pandas.concat instead.\n",
      "  winners = winners.append({'filename': filename, 'diff': diff, 'IRV1': irv1, 'Condorcet1': condorcet1,\n"
     ]
    },
    {
     "name": "stdout",
     "output_type": "stream",
     "text": [
      "Alaska_11082022_HouseDistrict21.csv\n"
     ]
    },
    {
     "name": "stderr",
     "output_type": "stream",
     "text": [
      "c:\\Users\\mahsh\\Documents\\GitHub\\bugs-in-democracy\\team_arrow\\clean\\rcv_dimensionality.py:170: RuntimeWarning: divide by zero encountered in true_divide\n",
      "  distance = 1 / np.sqrt(freq_upper_triangle)\n",
      "C:\\Users\\mahsh\\AppData\\Local\\Temp\\ipykernel_21280\\541227406.py:69: FutureWarning: The frame.append method is deprecated and will be removed from pandas in a future version. Use pandas.concat instead.\n",
      "  winners = winners.append({'filename': filename, 'diff': diff, 'IRV1': irv1, 'Condorcet1': condorcet1,\n"
     ]
    },
    {
     "name": "stdout",
     "output_type": "stream",
     "text": [
      "Alaska_11082022_HouseDistrict22.csv\n"
     ]
    },
    {
     "name": "stderr",
     "output_type": "stream",
     "text": [
      "c:\\Users\\mahsh\\Documents\\GitHub\\bugs-in-democracy\\team_arrow\\clean\\rcv_dimensionality.py:170: RuntimeWarning: divide by zero encountered in true_divide\n",
      "  distance = 1 / np.sqrt(freq_upper_triangle)\n",
      "C:\\Users\\mahsh\\AppData\\Local\\Temp\\ipykernel_21280\\541227406.py:69: FutureWarning: The frame.append method is deprecated and will be removed from pandas in a future version. Use pandas.concat instead.\n",
      "  winners = winners.append({'filename': filename, 'diff': diff, 'IRV1': irv1, 'Condorcet1': condorcet1,\n"
     ]
    },
    {
     "name": "stdout",
     "output_type": "stream",
     "text": [
      "Alaska_11082022_HouseDistrict23.csv\n"
     ]
    },
    {
     "name": "stderr",
     "output_type": "stream",
     "text": [
      "c:\\Users\\mahsh\\Documents\\GitHub\\bugs-in-democracy\\team_arrow\\clean\\rcv_dimensionality.py:170: RuntimeWarning: divide by zero encountered in true_divide\n",
      "  distance = 1 / np.sqrt(freq_upper_triangle)\n",
      "C:\\Users\\mahsh\\AppData\\Local\\Temp\\ipykernel_21280\\541227406.py:69: FutureWarning: The frame.append method is deprecated and will be removed from pandas in a future version. Use pandas.concat instead.\n",
      "  winners = winners.append({'filename': filename, 'diff': diff, 'IRV1': irv1, 'Condorcet1': condorcet1,\n"
     ]
    },
    {
     "name": "stdout",
     "output_type": "stream",
     "text": [
      "Alaska_11082022_HouseDistrict24.csv\n"
     ]
    },
    {
     "name": "stderr",
     "output_type": "stream",
     "text": [
      "c:\\Users\\mahsh\\Documents\\GitHub\\bugs-in-democracy\\team_arrow\\clean\\rcv_dimensionality.py:170: RuntimeWarning: divide by zero encountered in true_divide\n",
      "  distance = 1 / np.sqrt(freq_upper_triangle)\n",
      "C:\\Users\\mahsh\\AppData\\Local\\Temp\\ipykernel_21280\\541227406.py:69: FutureWarning: The frame.append method is deprecated and will be removed from pandas in a future version. Use pandas.concat instead.\n",
      "  winners = winners.append({'filename': filename, 'diff': diff, 'IRV1': irv1, 'Condorcet1': condorcet1,\n"
     ]
    },
    {
     "name": "stdout",
     "output_type": "stream",
     "text": [
      "Alaska_11082022_HouseDistrict25.csv\n"
     ]
    },
    {
     "name": "stderr",
     "output_type": "stream",
     "text": [
      "c:\\Users\\mahsh\\Documents\\GitHub\\bugs-in-democracy\\team_arrow\\clean\\rcv_dimensionality.py:170: RuntimeWarning: divide by zero encountered in true_divide\n",
      "  distance = 1 / np.sqrt(freq_upper_triangle)\n",
      "C:\\Users\\mahsh\\AppData\\Local\\Temp\\ipykernel_21280\\541227406.py:69: FutureWarning: The frame.append method is deprecated and will be removed from pandas in a future version. Use pandas.concat instead.\n",
      "  winners = winners.append({'filename': filename, 'diff': diff, 'IRV1': irv1, 'Condorcet1': condorcet1,\n"
     ]
    },
    {
     "name": "stdout",
     "output_type": "stream",
     "text": [
      "Alaska_11082022_HouseDistrict26.csv\n"
     ]
    },
    {
     "name": "stderr",
     "output_type": "stream",
     "text": [
      "c:\\Users\\mahsh\\Documents\\GitHub\\bugs-in-democracy\\team_arrow\\clean\\rcv_dimensionality.py:170: RuntimeWarning: divide by zero encountered in true_divide\n",
      "  distance = 1 / np.sqrt(freq_upper_triangle)\n",
      "C:\\Users\\mahsh\\AppData\\Local\\Temp\\ipykernel_21280\\541227406.py:69: FutureWarning: The frame.append method is deprecated and will be removed from pandas in a future version. Use pandas.concat instead.\n",
      "  winners = winners.append({'filename': filename, 'diff': diff, 'IRV1': irv1, 'Condorcet1': condorcet1,\n"
     ]
    },
    {
     "name": "stdout",
     "output_type": "stream",
     "text": [
      "Alaska_11082022_HouseDistrict27.csv\n"
     ]
    },
    {
     "name": "stderr",
     "output_type": "stream",
     "text": [
      "c:\\Users\\mahsh\\Documents\\GitHub\\bugs-in-democracy\\team_arrow\\clean\\rcv_dimensionality.py:170: RuntimeWarning: divide by zero encountered in true_divide\n",
      "  distance = 1 / np.sqrt(freq_upper_triangle)\n",
      "C:\\Users\\mahsh\\AppData\\Local\\Temp\\ipykernel_21280\\541227406.py:69: FutureWarning: The frame.append method is deprecated and will be removed from pandas in a future version. Use pandas.concat instead.\n",
      "  winners = winners.append({'filename': filename, 'diff': diff, 'IRV1': irv1, 'Condorcet1': condorcet1,\n"
     ]
    },
    {
     "name": "stdout",
     "output_type": "stream",
     "text": [
      "Alaska_11082022_HouseDistrict28.csv\n"
     ]
    },
    {
     "name": "stderr",
     "output_type": "stream",
     "text": [
      "c:\\Users\\mahsh\\Documents\\GitHub\\bugs-in-democracy\\team_arrow\\clean\\rcv_dimensionality.py:170: RuntimeWarning: divide by zero encountered in true_divide\n",
      "  distance = 1 / np.sqrt(freq_upper_triangle)\n",
      "C:\\Users\\mahsh\\AppData\\Local\\Temp\\ipykernel_21280\\541227406.py:69: FutureWarning: The frame.append method is deprecated and will be removed from pandas in a future version. Use pandas.concat instead.\n",
      "  winners = winners.append({'filename': filename, 'diff': diff, 'IRV1': irv1, 'Condorcet1': condorcet1,\n"
     ]
    },
    {
     "name": "stdout",
     "output_type": "stream",
     "text": [
      "Alaska_11082022_HouseDistrict29.csv\n"
     ]
    },
    {
     "name": "stderr",
     "output_type": "stream",
     "text": [
      "c:\\Users\\mahsh\\Documents\\GitHub\\bugs-in-democracy\\team_arrow\\clean\\rcv_dimensionality.py:170: RuntimeWarning: divide by zero encountered in true_divide\n",
      "  distance = 1 / np.sqrt(freq_upper_triangle)\n",
      "C:\\Users\\mahsh\\AppData\\Local\\Temp\\ipykernel_21280\\541227406.py:69: FutureWarning: The frame.append method is deprecated and will be removed from pandas in a future version. Use pandas.concat instead.\n",
      "  winners = winners.append({'filename': filename, 'diff': diff, 'IRV1': irv1, 'Condorcet1': condorcet1,\n"
     ]
    },
    {
     "name": "stdout",
     "output_type": "stream",
     "text": [
      "Alaska_11082022_HouseDistrict3.csv\n",
      "Alaska_11082022_HouseDistrict3.csv  threw an error\n",
      "Alaska_11082022_HouseDistrict30.csv\n"
     ]
    },
    {
     "name": "stderr",
     "output_type": "stream",
     "text": [
      "c:\\Users\\mahsh\\Documents\\GitHub\\bugs-in-democracy\\team_arrow\\clean\\rcv_dimensionality.py:170: RuntimeWarning: divide by zero encountered in true_divide\n",
      "  distance = 1 / np.sqrt(freq_upper_triangle)\n",
      "C:\\Users\\mahsh\\AppData\\Local\\Temp\\ipykernel_21280\\541227406.py:69: FutureWarning: The frame.append method is deprecated and will be removed from pandas in a future version. Use pandas.concat instead.\n",
      "  winners = winners.append({'filename': filename, 'diff': diff, 'IRV1': irv1, 'Condorcet1': condorcet1,\n"
     ]
    },
    {
     "name": "stdout",
     "output_type": "stream",
     "text": [
      "Alaska_11082022_HouseDistrict31.csv\n"
     ]
    },
    {
     "name": "stderr",
     "output_type": "stream",
     "text": [
      "c:\\Users\\mahsh\\Documents\\GitHub\\bugs-in-democracy\\team_arrow\\clean\\rcv_dimensionality.py:170: RuntimeWarning: divide by zero encountered in true_divide\n",
      "  distance = 1 / np.sqrt(freq_upper_triangle)\n",
      "C:\\Users\\mahsh\\AppData\\Local\\Temp\\ipykernel_21280\\541227406.py:69: FutureWarning: The frame.append method is deprecated and will be removed from pandas in a future version. Use pandas.concat instead.\n",
      "  winners = winners.append({'filename': filename, 'diff': diff, 'IRV1': irv1, 'Condorcet1': condorcet1,\n"
     ]
    },
    {
     "name": "stdout",
     "output_type": "stream",
     "text": [
      "Alaska_11082022_HouseDistrict32.csv\n"
     ]
    },
    {
     "name": "stderr",
     "output_type": "stream",
     "text": [
      "c:\\Users\\mahsh\\Documents\\GitHub\\bugs-in-democracy\\team_arrow\\clean\\rcv_dimensionality.py:170: RuntimeWarning: divide by zero encountered in true_divide\n",
      "  distance = 1 / np.sqrt(freq_upper_triangle)\n",
      "C:\\Users\\mahsh\\AppData\\Local\\Temp\\ipykernel_21280\\541227406.py:69: FutureWarning: The frame.append method is deprecated and will be removed from pandas in a future version. Use pandas.concat instead.\n",
      "  winners = winners.append({'filename': filename, 'diff': diff, 'IRV1': irv1, 'Condorcet1': condorcet1,\n"
     ]
    },
    {
     "name": "stdout",
     "output_type": "stream",
     "text": [
      "Alaska_11082022_HouseDistrict33.csv\n",
      "Alaska_11082022_HouseDistrict33.csv  threw an error\n",
      "Alaska_11082022_HouseDistrict34.csv\n"
     ]
    },
    {
     "name": "stderr",
     "output_type": "stream",
     "text": [
      "c:\\Users\\mahsh\\Documents\\GitHub\\bugs-in-democracy\\team_arrow\\clean\\rcv_dimensionality.py:170: RuntimeWarning: divide by zero encountered in true_divide\n",
      "  distance = 1 / np.sqrt(freq_upper_triangle)\n",
      "C:\\Users\\mahsh\\AppData\\Local\\Temp\\ipykernel_21280\\541227406.py:69: FutureWarning: The frame.append method is deprecated and will be removed from pandas in a future version. Use pandas.concat instead.\n",
      "  winners = winners.append({'filename': filename, 'diff': diff, 'IRV1': irv1, 'Condorcet1': condorcet1,\n"
     ]
    },
    {
     "name": "stdout",
     "output_type": "stream",
     "text": [
      "Alaska_11082022_HouseDistrict35.csv\n"
     ]
    },
    {
     "name": "stderr",
     "output_type": "stream",
     "text": [
      "c:\\Users\\mahsh\\Documents\\GitHub\\bugs-in-democracy\\team_arrow\\clean\\rcv_dimensionality.py:170: RuntimeWarning: divide by zero encountered in true_divide\n",
      "  distance = 1 / np.sqrt(freq_upper_triangle)\n",
      "C:\\Users\\mahsh\\AppData\\Local\\Temp\\ipykernel_21280\\541227406.py:69: FutureWarning: The frame.append method is deprecated and will be removed from pandas in a future version. Use pandas.concat instead.\n",
      "  winners = winners.append({'filename': filename, 'diff': diff, 'IRV1': irv1, 'Condorcet1': condorcet1,\n"
     ]
    },
    {
     "name": "stdout",
     "output_type": "stream",
     "text": [
      "Alaska_11082022_HouseDistrict36.csv\n"
     ]
    },
    {
     "name": "stderr",
     "output_type": "stream",
     "text": [
      "c:\\Users\\mahsh\\Documents\\GitHub\\bugs-in-democracy\\team_arrow\\clean\\rcv_dimensionality.py:170: RuntimeWarning: divide by zero encountered in true_divide\n",
      "  distance = 1 / np.sqrt(freq_upper_triangle)\n",
      "C:\\Users\\mahsh\\AppData\\Local\\Temp\\ipykernel_21280\\541227406.py:69: FutureWarning: The frame.append method is deprecated and will be removed from pandas in a future version. Use pandas.concat instead.\n",
      "  winners = winners.append({'filename': filename, 'diff': diff, 'IRV1': irv1, 'Condorcet1': condorcet1,\n"
     ]
    },
    {
     "name": "stdout",
     "output_type": "stream",
     "text": [
      "Alaska_11082022_HouseDistrict37.csv\n",
      "Alaska_11082022_HouseDistrict37.csv  threw an error\n",
      "Alaska_11082022_HouseDistrict38.csv\n",
      "Alaska_11082022_HouseDistrict38.csv  threw an error\n",
      "Alaska_11082022_HouseDistrict39.csv\n"
     ]
    },
    {
     "name": "stderr",
     "output_type": "stream",
     "text": [
      "c:\\Users\\mahsh\\Documents\\GitHub\\bugs-in-democracy\\team_arrow\\clean\\rcv_dimensionality.py:170: RuntimeWarning: divide by zero encountered in true_divide\n",
      "  distance = 1 / np.sqrt(freq_upper_triangle)\n",
      "C:\\Users\\mahsh\\AppData\\Local\\Temp\\ipykernel_21280\\541227406.py:69: FutureWarning: The frame.append method is deprecated and will be removed from pandas in a future version. Use pandas.concat instead.\n",
      "  winners = winners.append({'filename': filename, 'diff': diff, 'IRV1': irv1, 'Condorcet1': condorcet1,\n"
     ]
    },
    {
     "name": "stdout",
     "output_type": "stream",
     "text": [
      "Alaska_11082022_HouseDistrict4.csv\n"
     ]
    },
    {
     "name": "stderr",
     "output_type": "stream",
     "text": [
      "c:\\Users\\mahsh\\Documents\\GitHub\\bugs-in-democracy\\team_arrow\\clean\\rcv_dimensionality.py:170: RuntimeWarning: divide by zero encountered in true_divide\n",
      "  distance = 1 / np.sqrt(freq_upper_triangle)\n",
      "C:\\Users\\mahsh\\AppData\\Local\\Temp\\ipykernel_21280\\541227406.py:69: FutureWarning: The frame.append method is deprecated and will be removed from pandas in a future version. Use pandas.concat instead.\n",
      "  winners = winners.append({'filename': filename, 'diff': diff, 'IRV1': irv1, 'Condorcet1': condorcet1,\n"
     ]
    },
    {
     "name": "stdout",
     "output_type": "stream",
     "text": [
      "Alaska_11082022_HouseDistrict40.csv\n",
      "Alaska_11082022_HouseDistrict40.csv  threw an error\n",
      "Alaska_11082022_HouseDistrict5.csv\n"
     ]
    },
    {
     "name": "stderr",
     "output_type": "stream",
     "text": [
      "c:\\Users\\mahsh\\Documents\\GitHub\\bugs-in-democracy\\team_arrow\\clean\\rcv_dimensionality.py:170: RuntimeWarning: divide by zero encountered in true_divide\n",
      "  distance = 1 / np.sqrt(freq_upper_triangle)\n",
      "C:\\Users\\mahsh\\AppData\\Local\\Temp\\ipykernel_21280\\541227406.py:69: FutureWarning: The frame.append method is deprecated and will be removed from pandas in a future version. Use pandas.concat instead.\n",
      "  winners = winners.append({'filename': filename, 'diff': diff, 'IRV1': irv1, 'Condorcet1': condorcet1,\n"
     ]
    },
    {
     "name": "stdout",
     "output_type": "stream",
     "text": [
      "Alaska_11082022_HouseDistrict6.csv\n"
     ]
    },
    {
     "name": "stderr",
     "output_type": "stream",
     "text": [
      "c:\\Users\\mahsh\\Documents\\GitHub\\bugs-in-democracy\\team_arrow\\clean\\rcv_dimensionality.py:170: RuntimeWarning: divide by zero encountered in true_divide\n",
      "  distance = 1 / np.sqrt(freq_upper_triangle)\n",
      "C:\\Users\\mahsh\\AppData\\Local\\Temp\\ipykernel_21280\\541227406.py:69: FutureWarning: The frame.append method is deprecated and will be removed from pandas in a future version. Use pandas.concat instead.\n",
      "  winners = winners.append({'filename': filename, 'diff': diff, 'IRV1': irv1, 'Condorcet1': condorcet1,\n"
     ]
    },
    {
     "name": "stdout",
     "output_type": "stream",
     "text": [
      "Alaska_11082022_HouseDistrict7.csv\n"
     ]
    },
    {
     "name": "stderr",
     "output_type": "stream",
     "text": [
      "c:\\Users\\mahsh\\Documents\\GitHub\\bugs-in-democracy\\team_arrow\\clean\\rcv_dimensionality.py:170: RuntimeWarning: divide by zero encountered in true_divide\n",
      "  distance = 1 / np.sqrt(freq_upper_triangle)\n",
      "C:\\Users\\mahsh\\AppData\\Local\\Temp\\ipykernel_21280\\541227406.py:69: FutureWarning: The frame.append method is deprecated and will be removed from pandas in a future version. Use pandas.concat instead.\n",
      "  winners = winners.append({'filename': filename, 'diff': diff, 'IRV1': irv1, 'Condorcet1': condorcet1,\n"
     ]
    },
    {
     "name": "stdout",
     "output_type": "stream",
     "text": [
      "Alaska_11082022_HouseDistrict8.csv\n",
      "Alaska_11082022_HouseDistrict8.csv  threw an error\n",
      "Alaska_11082022_HouseDistrict9.csv\n"
     ]
    },
    {
     "name": "stderr",
     "output_type": "stream",
     "text": [
      "c:\\Users\\mahsh\\Documents\\GitHub\\bugs-in-democracy\\team_arrow\\clean\\rcv_dimensionality.py:170: RuntimeWarning: divide by zero encountered in true_divide\n",
      "  distance = 1 / np.sqrt(freq_upper_triangle)\n",
      "C:\\Users\\mahsh\\AppData\\Local\\Temp\\ipykernel_21280\\541227406.py:69: FutureWarning: The frame.append method is deprecated and will be removed from pandas in a future version. Use pandas.concat instead.\n",
      "  winners = winners.append({'filename': filename, 'diff': diff, 'IRV1': irv1, 'Condorcet1': condorcet1,\n"
     ]
    },
    {
     "name": "stdout",
     "output_type": "stream",
     "text": [
      "Alaska_11082022_SenateDistrictA.csv\n"
     ]
    },
    {
     "name": "stderr",
     "output_type": "stream",
     "text": [
      "c:\\Users\\mahsh\\Documents\\GitHub\\bugs-in-democracy\\team_arrow\\clean\\rcv_dimensionality.py:170: RuntimeWarning: divide by zero encountered in true_divide\n",
      "  distance = 1 / np.sqrt(freq_upper_triangle)\n",
      "C:\\Users\\mahsh\\AppData\\Local\\Temp\\ipykernel_21280\\541227406.py:69: FutureWarning: The frame.append method is deprecated and will be removed from pandas in a future version. Use pandas.concat instead.\n",
      "  winners = winners.append({'filename': filename, 'diff': diff, 'IRV1': irv1, 'Condorcet1': condorcet1,\n"
     ]
    },
    {
     "name": "stdout",
     "output_type": "stream",
     "text": [
      "Alaska_11082022_SenateDistrictB.csv\n",
      "Alaska_11082022_SenateDistrictB.csv  threw an error\n",
      "Alaska_11082022_SenateDistrictC.csv\n"
     ]
    },
    {
     "name": "stderr",
     "output_type": "stream",
     "text": [
      "c:\\Users\\mahsh\\Documents\\GitHub\\bugs-in-democracy\\team_arrow\\clean\\rcv_dimensionality.py:170: RuntimeWarning: divide by zero encountered in true_divide\n",
      "  distance = 1 / np.sqrt(freq_upper_triangle)\n",
      "C:\\Users\\mahsh\\AppData\\Local\\Temp\\ipykernel_21280\\541227406.py:69: FutureWarning: The frame.append method is deprecated and will be removed from pandas in a future version. Use pandas.concat instead.\n",
      "  winners = winners.append({'filename': filename, 'diff': diff, 'IRV1': irv1, 'Condorcet1': condorcet1,\n"
     ]
    },
    {
     "name": "stdout",
     "output_type": "stream",
     "text": [
      "Alaska_11082022_SenateDistrictD.csv\n"
     ]
    },
    {
     "name": "stderr",
     "output_type": "stream",
     "text": [
      "c:\\Users\\mahsh\\Documents\\GitHub\\bugs-in-democracy\\team_arrow\\clean\\rcv_dimensionality.py:170: RuntimeWarning: divide by zero encountered in true_divide\n",
      "  distance = 1 / np.sqrt(freq_upper_triangle)\n",
      "C:\\Users\\mahsh\\AppData\\Local\\Temp\\ipykernel_21280\\541227406.py:69: FutureWarning: The frame.append method is deprecated and will be removed from pandas in a future version. Use pandas.concat instead.\n",
      "  winners = winners.append({'filename': filename, 'diff': diff, 'IRV1': irv1, 'Condorcet1': condorcet1,\n"
     ]
    },
    {
     "name": "stdout",
     "output_type": "stream",
     "text": [
      "Alaska_11082022_SenateDistrictE.csv\n"
     ]
    },
    {
     "name": "stderr",
     "output_type": "stream",
     "text": [
      "c:\\Users\\mahsh\\Documents\\GitHub\\bugs-in-democracy\\team_arrow\\clean\\rcv_dimensionality.py:170: RuntimeWarning: divide by zero encountered in true_divide\n",
      "  distance = 1 / np.sqrt(freq_upper_triangle)\n",
      "C:\\Users\\mahsh\\AppData\\Local\\Temp\\ipykernel_21280\\541227406.py:69: FutureWarning: The frame.append method is deprecated and will be removed from pandas in a future version. Use pandas.concat instead.\n",
      "  winners = winners.append({'filename': filename, 'diff': diff, 'IRV1': irv1, 'Condorcet1': condorcet1,\n"
     ]
    },
    {
     "name": "stdout",
     "output_type": "stream",
     "text": [
      "Alaska_11082022_SenateDistrictF.csv\n"
     ]
    },
    {
     "name": "stderr",
     "output_type": "stream",
     "text": [
      "c:\\Users\\mahsh\\Documents\\GitHub\\bugs-in-democracy\\team_arrow\\clean\\rcv_dimensionality.py:170: RuntimeWarning: divide by zero encountered in true_divide\n",
      "  distance = 1 / np.sqrt(freq_upper_triangle)\n",
      "C:\\Users\\mahsh\\AppData\\Local\\Temp\\ipykernel_21280\\541227406.py:69: FutureWarning: The frame.append method is deprecated and will be removed from pandas in a future version. Use pandas.concat instead.\n",
      "  winners = winners.append({'filename': filename, 'diff': diff, 'IRV1': irv1, 'Condorcet1': condorcet1,\n"
     ]
    },
    {
     "name": "stdout",
     "output_type": "stream",
     "text": [
      "Alaska_11082022_SenateDistrictG.csv\n"
     ]
    },
    {
     "name": "stderr",
     "output_type": "stream",
     "text": [
      "c:\\Users\\mahsh\\Documents\\GitHub\\bugs-in-democracy\\team_arrow\\clean\\rcv_dimensionality.py:170: RuntimeWarning: divide by zero encountered in true_divide\n",
      "  distance = 1 / np.sqrt(freq_upper_triangle)\n",
      "C:\\Users\\mahsh\\AppData\\Local\\Temp\\ipykernel_21280\\541227406.py:69: FutureWarning: The frame.append method is deprecated and will be removed from pandas in a future version. Use pandas.concat instead.\n",
      "  winners = winners.append({'filename': filename, 'diff': diff, 'IRV1': irv1, 'Condorcet1': condorcet1,\n"
     ]
    },
    {
     "name": "stdout",
     "output_type": "stream",
     "text": [
      "Alaska_11082022_SenateDistrictH.csv\n"
     ]
    },
    {
     "name": "stderr",
     "output_type": "stream",
     "text": [
      "c:\\Users\\mahsh\\Documents\\GitHub\\bugs-in-democracy\\team_arrow\\clean\\rcv_dimensionality.py:170: RuntimeWarning: divide by zero encountered in true_divide\n",
      "  distance = 1 / np.sqrt(freq_upper_triangle)\n",
      "C:\\Users\\mahsh\\AppData\\Local\\Temp\\ipykernel_21280\\541227406.py:69: FutureWarning: The frame.append method is deprecated and will be removed from pandas in a future version. Use pandas.concat instead.\n",
      "  winners = winners.append({'filename': filename, 'diff': diff, 'IRV1': irv1, 'Condorcet1': condorcet1,\n"
     ]
    },
    {
     "name": "stdout",
     "output_type": "stream",
     "text": [
      "Alaska_11082022_SenateDistrictI.csv\n"
     ]
    },
    {
     "name": "stderr",
     "output_type": "stream",
     "text": [
      "c:\\Users\\mahsh\\Documents\\GitHub\\bugs-in-democracy\\team_arrow\\clean\\rcv_dimensionality.py:170: RuntimeWarning: divide by zero encountered in true_divide\n",
      "  distance = 1 / np.sqrt(freq_upper_triangle)\n",
      "C:\\Users\\mahsh\\AppData\\Local\\Temp\\ipykernel_21280\\541227406.py:69: FutureWarning: The frame.append method is deprecated and will be removed from pandas in a future version. Use pandas.concat instead.\n",
      "  winners = winners.append({'filename': filename, 'diff': diff, 'IRV1': irv1, 'Condorcet1': condorcet1,\n"
     ]
    },
    {
     "name": "stdout",
     "output_type": "stream",
     "text": [
      "Alaska_11082022_SenateDistrictJ.csv\n"
     ]
    },
    {
     "name": "stderr",
     "output_type": "stream",
     "text": [
      "c:\\Users\\mahsh\\Documents\\GitHub\\bugs-in-democracy\\team_arrow\\clean\\rcv_dimensionality.py:170: RuntimeWarning: divide by zero encountered in true_divide\n",
      "  distance = 1 / np.sqrt(freq_upper_triangle)\n",
      "C:\\Users\\mahsh\\AppData\\Local\\Temp\\ipykernel_21280\\541227406.py:69: FutureWarning: The frame.append method is deprecated and will be removed from pandas in a future version. Use pandas.concat instead.\n",
      "  winners = winners.append({'filename': filename, 'diff': diff, 'IRV1': irv1, 'Condorcet1': condorcet1,\n"
     ]
    },
    {
     "name": "stdout",
     "output_type": "stream",
     "text": [
      "Alaska_11082022_SenateDistrictK.csv\n"
     ]
    },
    {
     "name": "stderr",
     "output_type": "stream",
     "text": [
      "c:\\Users\\mahsh\\Documents\\GitHub\\bugs-in-democracy\\team_arrow\\clean\\rcv_dimensionality.py:170: RuntimeWarning: divide by zero encountered in true_divide\n",
      "  distance = 1 / np.sqrt(freq_upper_triangle)\n",
      "C:\\Users\\mahsh\\AppData\\Local\\Temp\\ipykernel_21280\\541227406.py:69: FutureWarning: The frame.append method is deprecated and will be removed from pandas in a future version. Use pandas.concat instead.\n",
      "  winners = winners.append({'filename': filename, 'diff': diff, 'IRV1': irv1, 'Condorcet1': condorcet1,\n"
     ]
    },
    {
     "name": "stdout",
     "output_type": "stream",
     "text": [
      "Alaska_11082022_SenateDistrictL.csv\n"
     ]
    },
    {
     "name": "stderr",
     "output_type": "stream",
     "text": [
      "c:\\Users\\mahsh\\Documents\\GitHub\\bugs-in-democracy\\team_arrow\\clean\\rcv_dimensionality.py:170: RuntimeWarning: divide by zero encountered in true_divide\n",
      "  distance = 1 / np.sqrt(freq_upper_triangle)\n",
      "C:\\Users\\mahsh\\AppData\\Local\\Temp\\ipykernel_21280\\541227406.py:69: FutureWarning: The frame.append method is deprecated and will be removed from pandas in a future version. Use pandas.concat instead.\n",
      "  winners = winners.append({'filename': filename, 'diff': diff, 'IRV1': irv1, 'Condorcet1': condorcet1,\n"
     ]
    },
    {
     "name": "stdout",
     "output_type": "stream",
     "text": [
      "Alaska_11082022_SenateDistrictM.csv\n"
     ]
    },
    {
     "name": "stderr",
     "output_type": "stream",
     "text": [
      "c:\\Users\\mahsh\\Documents\\GitHub\\bugs-in-democracy\\team_arrow\\clean\\rcv_dimensionality.py:170: RuntimeWarning: divide by zero encountered in true_divide\n",
      "  distance = 1 / np.sqrt(freq_upper_triangle)\n",
      "C:\\Users\\mahsh\\AppData\\Local\\Temp\\ipykernel_21280\\541227406.py:69: FutureWarning: The frame.append method is deprecated and will be removed from pandas in a future version. Use pandas.concat instead.\n",
      "  winners = winners.append({'filename': filename, 'diff': diff, 'IRV1': irv1, 'Condorcet1': condorcet1,\n"
     ]
    },
    {
     "name": "stdout",
     "output_type": "stream",
     "text": [
      "Alaska_11082022_SenateDistrictN.csv\n"
     ]
    },
    {
     "name": "stderr",
     "output_type": "stream",
     "text": [
      "c:\\Users\\mahsh\\Documents\\GitHub\\bugs-in-democracy\\team_arrow\\clean\\rcv_dimensionality.py:170: RuntimeWarning: divide by zero encountered in true_divide\n",
      "  distance = 1 / np.sqrt(freq_upper_triangle)\n",
      "C:\\Users\\mahsh\\AppData\\Local\\Temp\\ipykernel_21280\\541227406.py:69: FutureWarning: The frame.append method is deprecated and will be removed from pandas in a future version. Use pandas.concat instead.\n",
      "  winners = winners.append({'filename': filename, 'diff': diff, 'IRV1': irv1, 'Condorcet1': condorcet1,\n"
     ]
    },
    {
     "name": "stdout",
     "output_type": "stream",
     "text": [
      "Alaska_11082022_SenateDistrictO.csv\n"
     ]
    },
    {
     "name": "stderr",
     "output_type": "stream",
     "text": [
      "c:\\Users\\mahsh\\Documents\\GitHub\\bugs-in-democracy\\team_arrow\\clean\\rcv_dimensionality.py:170: RuntimeWarning: divide by zero encountered in true_divide\n",
      "  distance = 1 / np.sqrt(freq_upper_triangle)\n",
      "C:\\Users\\mahsh\\AppData\\Local\\Temp\\ipykernel_21280\\541227406.py:69: FutureWarning: The frame.append method is deprecated and will be removed from pandas in a future version. Use pandas.concat instead.\n",
      "  winners = winners.append({'filename': filename, 'diff': diff, 'IRV1': irv1, 'Condorcet1': condorcet1,\n"
     ]
    },
    {
     "name": "stdout",
     "output_type": "stream",
     "text": [
      "Alaska_11082022_SenateDistrictP.csv\n"
     ]
    },
    {
     "name": "stderr",
     "output_type": "stream",
     "text": [
      "c:\\Users\\mahsh\\Documents\\GitHub\\bugs-in-democracy\\team_arrow\\clean\\rcv_dimensionality.py:170: RuntimeWarning: divide by zero encountered in true_divide\n",
      "  distance = 1 / np.sqrt(freq_upper_triangle)\n",
      "C:\\Users\\mahsh\\AppData\\Local\\Temp\\ipykernel_21280\\541227406.py:69: FutureWarning: The frame.append method is deprecated and will be removed from pandas in a future version. Use pandas.concat instead.\n",
      "  winners = winners.append({'filename': filename, 'diff': diff, 'IRV1': irv1, 'Condorcet1': condorcet1,\n"
     ]
    },
    {
     "name": "stdout",
     "output_type": "stream",
     "text": [
      "Alaska_11082022_SenateDistrictQ.csv\n"
     ]
    },
    {
     "name": "stderr",
     "output_type": "stream",
     "text": [
      "c:\\Users\\mahsh\\Documents\\GitHub\\bugs-in-democracy\\team_arrow\\clean\\rcv_dimensionality.py:170: RuntimeWarning: divide by zero encountered in true_divide\n",
      "  distance = 1 / np.sqrt(freq_upper_triangle)\n",
      "C:\\Users\\mahsh\\AppData\\Local\\Temp\\ipykernel_21280\\541227406.py:69: FutureWarning: The frame.append method is deprecated and will be removed from pandas in a future version. Use pandas.concat instead.\n",
      "  winners = winners.append({'filename': filename, 'diff': diff, 'IRV1': irv1, 'Condorcet1': condorcet1,\n"
     ]
    },
    {
     "name": "stdout",
     "output_type": "stream",
     "text": [
      "Alaska_11082022_SenateDistrictR.csv\n"
     ]
    },
    {
     "name": "stderr",
     "output_type": "stream",
     "text": [
      "c:\\Users\\mahsh\\Documents\\GitHub\\bugs-in-democracy\\team_arrow\\clean\\rcv_dimensionality.py:170: RuntimeWarning: divide by zero encountered in true_divide\n",
      "  distance = 1 / np.sqrt(freq_upper_triangle)\n",
      "C:\\Users\\mahsh\\AppData\\Local\\Temp\\ipykernel_21280\\541227406.py:69: FutureWarning: The frame.append method is deprecated and will be removed from pandas in a future version. Use pandas.concat instead.\n",
      "  winners = winners.append({'filename': filename, 'diff': diff, 'IRV1': irv1, 'Condorcet1': condorcet1,\n"
     ]
    },
    {
     "name": "stdout",
     "output_type": "stream",
     "text": [
      "Alaska_11082022_SenateDistrictS.csv\n"
     ]
    },
    {
     "name": "stderr",
     "output_type": "stream",
     "text": [
      "c:\\Users\\mahsh\\Documents\\GitHub\\bugs-in-democracy\\team_arrow\\clean\\rcv_dimensionality.py:170: RuntimeWarning: divide by zero encountered in true_divide\n",
      "  distance = 1 / np.sqrt(freq_upper_triangle)\n",
      "C:\\Users\\mahsh\\AppData\\Local\\Temp\\ipykernel_21280\\541227406.py:69: FutureWarning: The frame.append method is deprecated and will be removed from pandas in a future version. Use pandas.concat instead.\n",
      "  winners = winners.append({'filename': filename, 'diff': diff, 'IRV1': irv1, 'Condorcet1': condorcet1,\n"
     ]
    },
    {
     "name": "stdout",
     "output_type": "stream",
     "text": [
      "Alaska_11082022_USRepresentative.csv\n"
     ]
    },
    {
     "name": "stderr",
     "output_type": "stream",
     "text": [
      "c:\\Users\\mahsh\\Documents\\GitHub\\bugs-in-democracy\\team_arrow\\clean\\rcv_dimensionality.py:170: RuntimeWarning: divide by zero encountered in true_divide\n",
      "  distance = 1 / np.sqrt(freq_upper_triangle)\n",
      "C:\\Users\\mahsh\\AppData\\Local\\Temp\\ipykernel_21280\\541227406.py:69: FutureWarning: The frame.append method is deprecated and will be removed from pandas in a future version. Use pandas.concat instead.\n",
      "  winners = winners.append({'filename': filename, 'diff': diff, 'IRV1': irv1, 'Condorcet1': condorcet1,\n"
     ]
    },
    {
     "name": "stdout",
     "output_type": "stream",
     "text": [
      "Alaska_11082022_USSenator.csv\n"
     ]
    },
    {
     "name": "stderr",
     "output_type": "stream",
     "text": [
      "c:\\Users\\mahsh\\Documents\\GitHub\\bugs-in-democracy\\team_arrow\\clean\\rcv_dimensionality.py:170: RuntimeWarning: divide by zero encountered in true_divide\n",
      "  distance = 1 / np.sqrt(freq_upper_triangle)\n",
      "C:\\Users\\mahsh\\AppData\\Local\\Temp\\ipykernel_21280\\541227406.py:69: FutureWarning: The frame.append method is deprecated and will be removed from pandas in a future version. Use pandas.concat instead.\n",
      "  winners = winners.append({'filename': filename, 'diff': diff, 'IRV1': irv1, 'Condorcet1': condorcet1,\n"
     ]
    },
    {
     "name": "stdout",
     "output_type": "stream",
     "text": [
      "Albany_11082022_BoardofEducation.csv\n"
     ]
    },
    {
     "name": "stderr",
     "output_type": "stream",
     "text": [
      "c:\\Users\\mahsh\\Documents\\GitHub\\bugs-in-democracy\\team_arrow\\clean\\rcv_dimensionality.py:170: RuntimeWarning: divide by zero encountered in true_divide\n",
      "  distance = 1 / np.sqrt(freq_upper_triangle)\n",
      "C:\\Users\\mahsh\\AppData\\Local\\Temp\\ipykernel_21280\\541227406.py:69: FutureWarning: The frame.append method is deprecated and will be removed from pandas in a future version. Use pandas.concat instead.\n",
      "  winners = winners.append({'filename': filename, 'diff': diff, 'IRV1': irv1, 'Condorcet1': condorcet1,\n"
     ]
    },
    {
     "name": "stdout",
     "output_type": "stream",
     "text": [
      "Albany_11082022_CityCouncil.csv\n"
     ]
    },
    {
     "name": "stderr",
     "output_type": "stream",
     "text": [
      "c:\\Users\\mahsh\\Documents\\GitHub\\bugs-in-democracy\\team_arrow\\clean\\rcv_dimensionality.py:170: RuntimeWarning: divide by zero encountered in true_divide\n",
      "  distance = 1 / np.sqrt(freq_upper_triangle)\n",
      "C:\\Users\\mahsh\\AppData\\Local\\Temp\\ipykernel_21280\\541227406.py:69: FutureWarning: The frame.append method is deprecated and will be removed from pandas in a future version. Use pandas.concat instead.\n",
      "  winners = winners.append({'filename': filename, 'diff': diff, 'IRV1': irv1, 'Condorcet1': condorcet1,\n"
     ]
    },
    {
     "name": "stdout",
     "output_type": "stream",
     "text": [
      "Albany_11082022_FAKECityCouncil.csv\n"
     ]
    },
    {
     "name": "stderr",
     "output_type": "stream",
     "text": [
      "c:\\Users\\mahsh\\Documents\\GitHub\\bugs-in-democracy\\team_arrow\\clean\\rcv_dimensionality.py:170: RuntimeWarning: divide by zero encountered in true_divide\n",
      "  distance = 1 / np.sqrt(freq_upper_triangle)\n",
      "C:\\Users\\mahsh\\AppData\\Local\\Temp\\ipykernel_21280\\541227406.py:69: FutureWarning: The frame.append method is deprecated and will be removed from pandas in a future version. Use pandas.concat instead.\n",
      "  winners = winners.append({'filename': filename, 'diff': diff, 'IRV1': irv1, 'Condorcet1': condorcet1,\n"
     ]
    },
    {
     "name": "stdout",
     "output_type": "stream",
     "text": [
      "Berkeley_03072017_CityCouncilDistrict4.csv\n"
     ]
    },
    {
     "name": "stderr",
     "output_type": "stream",
     "text": [
      "c:\\Users\\mahsh\\Documents\\GitHub\\bugs-in-democracy\\team_arrow\\clean\\rcv_dimensionality.py:170: RuntimeWarning: divide by zero encountered in true_divide\n",
      "  distance = 1 / np.sqrt(freq_upper_triangle)\n",
      "C:\\Users\\mahsh\\AppData\\Local\\Temp\\ipykernel_21280\\541227406.py:69: FutureWarning: The frame.append method is deprecated and will be removed from pandas in a future version. Use pandas.concat instead.\n",
      "  winners = winners.append({'filename': filename, 'diff': diff, 'IRV1': irv1, 'Condorcet1': condorcet1,\n"
     ]
    },
    {
     "name": "stdout",
     "output_type": "stream",
     "text": [
      "Berkeley_11022010_CityAuditor.csv\n",
      "Berkeley_11022010_CityAuditor.csv  threw an error\n",
      "Berkeley_11022010_CityCouncilDistrict1.csv\n"
     ]
    },
    {
     "name": "stderr",
     "output_type": "stream",
     "text": [
      "c:\\Users\\mahsh\\Documents\\GitHub\\bugs-in-democracy\\team_arrow\\clean\\rcv_dimensionality.py:170: RuntimeWarning: divide by zero encountered in true_divide\n",
      "  distance = 1 / np.sqrt(freq_upper_triangle)\n",
      "C:\\Users\\mahsh\\AppData\\Local\\Temp\\ipykernel_21280\\541227406.py:69: FutureWarning: The frame.append method is deprecated and will be removed from pandas in a future version. Use pandas.concat instead.\n",
      "  winners = winners.append({'filename': filename, 'diff': diff, 'IRV1': irv1, 'Condorcet1': condorcet1,\n"
     ]
    },
    {
     "name": "stdout",
     "output_type": "stream",
     "text": [
      "Berkeley_11022010_CityCouncilDistrict4.csv\n"
     ]
    },
    {
     "name": "stderr",
     "output_type": "stream",
     "text": [
      "c:\\Users\\mahsh\\Documents\\GitHub\\bugs-in-democracy\\team_arrow\\clean\\rcv_dimensionality.py:170: RuntimeWarning: divide by zero encountered in true_divide\n",
      "  distance = 1 / np.sqrt(freq_upper_triangle)\n",
      "C:\\Users\\mahsh\\AppData\\Local\\Temp\\ipykernel_21280\\541227406.py:69: FutureWarning: The frame.append method is deprecated and will be removed from pandas in a future version. Use pandas.concat instead.\n",
      "  winners = winners.append({'filename': filename, 'diff': diff, 'IRV1': irv1, 'Condorcet1': condorcet1,\n"
     ]
    },
    {
     "name": "stdout",
     "output_type": "stream",
     "text": [
      "Berkeley_11022010_CityCouncilDistrict7.csv\n"
     ]
    },
    {
     "name": "stderr",
     "output_type": "stream",
     "text": [
      "c:\\Users\\mahsh\\Documents\\GitHub\\bugs-in-democracy\\team_arrow\\clean\\rcv_dimensionality.py:170: RuntimeWarning: divide by zero encountered in true_divide\n",
      "  distance = 1 / np.sqrt(freq_upper_triangle)\n",
      "C:\\Users\\mahsh\\AppData\\Local\\Temp\\ipykernel_21280\\541227406.py:69: FutureWarning: The frame.append method is deprecated and will be removed from pandas in a future version. Use pandas.concat instead.\n",
      "  winners = winners.append({'filename': filename, 'diff': diff, 'IRV1': irv1, 'Condorcet1': condorcet1,\n"
     ]
    },
    {
     "name": "stdout",
     "output_type": "stream",
     "text": [
      "Berkeley_11022010_CityCouncilDistrict8.csv\n"
     ]
    },
    {
     "name": "stderr",
     "output_type": "stream",
     "text": [
      "c:\\Users\\mahsh\\Documents\\GitHub\\bugs-in-democracy\\team_arrow\\clean\\rcv_dimensionality.py:170: RuntimeWarning: divide by zero encountered in true_divide\n",
      "  distance = 1 / np.sqrt(freq_upper_triangle)\n",
      "C:\\Users\\mahsh\\AppData\\Local\\Temp\\ipykernel_21280\\541227406.py:69: FutureWarning: The frame.append method is deprecated and will be removed from pandas in a future version. Use pandas.concat instead.\n",
      "  winners = winners.append({'filename': filename, 'diff': diff, 'IRV1': irv1, 'Condorcet1': condorcet1,\n"
     ]
    },
    {
     "name": "stdout",
     "output_type": "stream",
     "text": [
      "Berkeley_11032020_MayorBerkeleyRCV.csv\n"
     ]
    },
    {
     "name": "stderr",
     "output_type": "stream",
     "text": [
      "c:\\Users\\mahsh\\Documents\\GitHub\\bugs-in-democracy\\team_arrow\\clean\\rcv_dimensionality.py:170: RuntimeWarning: divide by zero encountered in true_divide\n",
      "  distance = 1 / np.sqrt(freq_upper_triangle)\n",
      "C:\\Users\\mahsh\\AppData\\Local\\Temp\\ipykernel_21280\\541227406.py:69: FutureWarning: The frame.append method is deprecated and will be removed from pandas in a future version. Use pandas.concat instead.\n",
      "  winners = winners.append({'filename': filename, 'diff': diff, 'IRV1': irv1, 'Condorcet1': condorcet1,\n"
     ]
    },
    {
     "name": "stdout",
     "output_type": "stream",
     "text": [
      "Berkeley_11032020_MemberCityCouncilDist2BerkeleyRCV.csv\n"
     ]
    },
    {
     "name": "stderr",
     "output_type": "stream",
     "text": [
      "c:\\Users\\mahsh\\Documents\\GitHub\\bugs-in-democracy\\team_arrow\\clean\\rcv_dimensionality.py:170: RuntimeWarning: divide by zero encountered in true_divide\n",
      "  distance = 1 / np.sqrt(freq_upper_triangle)\n",
      "C:\\Users\\mahsh\\AppData\\Local\\Temp\\ipykernel_21280\\541227406.py:69: FutureWarning: The frame.append method is deprecated and will be removed from pandas in a future version. Use pandas.concat instead.\n",
      "  winners = winners.append({'filename': filename, 'diff': diff, 'IRV1': irv1, 'Condorcet1': condorcet1,\n"
     ]
    },
    {
     "name": "stdout",
     "output_type": "stream",
     "text": [
      "Berkeley_11032020_MemberCityCouncilDist3BerkeleyRCV.csv\n"
     ]
    },
    {
     "name": "stderr",
     "output_type": "stream",
     "text": [
      "c:\\Users\\mahsh\\Documents\\GitHub\\bugs-in-democracy\\team_arrow\\clean\\rcv_dimensionality.py:170: RuntimeWarning: divide by zero encountered in true_divide\n",
      "  distance = 1 / np.sqrt(freq_upper_triangle)\n",
      "C:\\Users\\mahsh\\AppData\\Local\\Temp\\ipykernel_21280\\541227406.py:69: FutureWarning: The frame.append method is deprecated and will be removed from pandas in a future version. Use pandas.concat instead.\n",
      "  winners = winners.append({'filename': filename, 'diff': diff, 'IRV1': irv1, 'Condorcet1': condorcet1,\n"
     ]
    },
    {
     "name": "stdout",
     "output_type": "stream",
     "text": [
      "Berkeley_11032020_MemberCityCouncilDist5BerkeleyRCV.csv\n"
     ]
    },
    {
     "name": "stderr",
     "output_type": "stream",
     "text": [
      "c:\\Users\\mahsh\\Documents\\GitHub\\bugs-in-democracy\\team_arrow\\clean\\rcv_dimensionality.py:170: RuntimeWarning: divide by zero encountered in true_divide\n",
      "  distance = 1 / np.sqrt(freq_upper_triangle)\n",
      "C:\\Users\\mahsh\\AppData\\Local\\Temp\\ipykernel_21280\\541227406.py:69: FutureWarning: The frame.append method is deprecated and will be removed from pandas in a future version. Use pandas.concat instead.\n",
      "  winners = winners.append({'filename': filename, 'diff': diff, 'IRV1': irv1, 'Condorcet1': condorcet1,\n"
     ]
    },
    {
     "name": "stdout",
     "output_type": "stream",
     "text": [
      "Berkeley_11032020_MemberCityCouncilDist6BerkeleyRCV.csv\n"
     ]
    },
    {
     "name": "stderr",
     "output_type": "stream",
     "text": [
      "c:\\Users\\mahsh\\Documents\\GitHub\\bugs-in-democracy\\team_arrow\\clean\\rcv_dimensionality.py:170: RuntimeWarning: divide by zero encountered in true_divide\n",
      "  distance = 1 / np.sqrt(freq_upper_triangle)\n",
      "C:\\Users\\mahsh\\AppData\\Local\\Temp\\ipykernel_21280\\541227406.py:69: FutureWarning: The frame.append method is deprecated and will be removed from pandas in a future version. Use pandas.concat instead.\n",
      "  winners = winners.append({'filename': filename, 'diff': diff, 'IRV1': irv1, 'Condorcet1': condorcet1,\n"
     ]
    },
    {
     "name": "stdout",
     "output_type": "stream",
     "text": [
      "Berkeley_11042014_CityAuditor.csv\n",
      "Berkeley_11042014_CityAuditor.csv  threw an error\n",
      "Berkeley_11042014_CityCouncilDistrict1.csv\n"
     ]
    },
    {
     "name": "stderr",
     "output_type": "stream",
     "text": [
      "c:\\Users\\mahsh\\Documents\\GitHub\\bugs-in-democracy\\team_arrow\\clean\\rcv_dimensionality.py:170: RuntimeWarning: divide by zero encountered in true_divide\n",
      "  distance = 1 / np.sqrt(freq_upper_triangle)\n",
      "C:\\Users\\mahsh\\AppData\\Local\\Temp\\ipykernel_21280\\541227406.py:69: FutureWarning: The frame.append method is deprecated and will be removed from pandas in a future version. Use pandas.concat instead.\n",
      "  winners = winners.append({'filename': filename, 'diff': diff, 'IRV1': irv1, 'Condorcet1': condorcet1,\n"
     ]
    },
    {
     "name": "stdout",
     "output_type": "stream",
     "text": [
      "Berkeley_11042014_CityCouncilDistrict7.csv\n"
     ]
    },
    {
     "name": "stderr",
     "output_type": "stream",
     "text": [
      "c:\\Users\\mahsh\\Documents\\GitHub\\bugs-in-democracy\\team_arrow\\clean\\rcv_dimensionality.py:170: RuntimeWarning: divide by zero encountered in true_divide\n",
      "  distance = 1 / np.sqrt(freq_upper_triangle)\n",
      "C:\\Users\\mahsh\\AppData\\Local\\Temp\\ipykernel_21280\\541227406.py:69: FutureWarning: The frame.append method is deprecated and will be removed from pandas in a future version. Use pandas.concat instead.\n",
      "  winners = winners.append({'filename': filename, 'diff': diff, 'IRV1': irv1, 'Condorcet1': condorcet1,\n"
     ]
    },
    {
     "name": "stdout",
     "output_type": "stream",
     "text": [
      "Berkeley_11042014_CityCouncilDistrict8.csv\n"
     ]
    },
    {
     "name": "stderr",
     "output_type": "stream",
     "text": [
      "c:\\Users\\mahsh\\Documents\\GitHub\\bugs-in-democracy\\team_arrow\\clean\\rcv_dimensionality.py:170: RuntimeWarning: divide by zero encountered in true_divide\n",
      "  distance = 1 / np.sqrt(freq_upper_triangle)\n",
      "C:\\Users\\mahsh\\AppData\\Local\\Temp\\ipykernel_21280\\541227406.py:69: FutureWarning: The frame.append method is deprecated and will be removed from pandas in a future version. Use pandas.concat instead.\n",
      "  winners = winners.append({'filename': filename, 'diff': diff, 'IRV1': irv1, 'Condorcet1': condorcet1,\n"
     ]
    },
    {
     "name": "stdout",
     "output_type": "stream",
     "text": [
      "Berkeley_11062012_CityCouncilDistrict2.csv\n"
     ]
    },
    {
     "name": "stderr",
     "output_type": "stream",
     "text": [
      "c:\\Users\\mahsh\\Documents\\GitHub\\bugs-in-democracy\\team_arrow\\clean\\rcv_dimensionality.py:170: RuntimeWarning: divide by zero encountered in true_divide\n",
      "  distance = 1 / np.sqrt(freq_upper_triangle)\n",
      "C:\\Users\\mahsh\\AppData\\Local\\Temp\\ipykernel_21280\\541227406.py:69: FutureWarning: The frame.append method is deprecated and will be removed from pandas in a future version. Use pandas.concat instead.\n",
      "  winners = winners.append({'filename': filename, 'diff': diff, 'IRV1': irv1, 'Condorcet1': condorcet1,\n"
     ]
    },
    {
     "name": "stdout",
     "output_type": "stream",
     "text": [
      "Berkeley_11062012_CityCouncilDistrict3.csv\n"
     ]
    },
    {
     "name": "stderr",
     "output_type": "stream",
     "text": [
      "c:\\Users\\mahsh\\Documents\\GitHub\\bugs-in-democracy\\team_arrow\\clean\\rcv_dimensionality.py:170: RuntimeWarning: divide by zero encountered in true_divide\n",
      "  distance = 1 / np.sqrt(freq_upper_triangle)\n",
      "C:\\Users\\mahsh\\AppData\\Local\\Temp\\ipykernel_21280\\541227406.py:69: FutureWarning: The frame.append method is deprecated and will be removed from pandas in a future version. Use pandas.concat instead.\n",
      "  winners = winners.append({'filename': filename, 'diff': diff, 'IRV1': irv1, 'Condorcet1': condorcet1,\n"
     ]
    },
    {
     "name": "stdout",
     "output_type": "stream",
     "text": [
      "Berkeley_11062012_CityCouncilDistrict5.csv\n"
     ]
    },
    {
     "name": "stderr",
     "output_type": "stream",
     "text": [
      "c:\\Users\\mahsh\\Documents\\GitHub\\bugs-in-democracy\\team_arrow\\clean\\rcv_dimensionality.py:170: RuntimeWarning: divide by zero encountered in true_divide\n",
      "  distance = 1 / np.sqrt(freq_upper_triangle)\n",
      "C:\\Users\\mahsh\\AppData\\Local\\Temp\\ipykernel_21280\\541227406.py:69: FutureWarning: The frame.append method is deprecated and will be removed from pandas in a future version. Use pandas.concat instead.\n",
      "  winners = winners.append({'filename': filename, 'diff': diff, 'IRV1': irv1, 'Condorcet1': condorcet1,\n"
     ]
    },
    {
     "name": "stdout",
     "output_type": "stream",
     "text": [
      "Berkeley_11062012_CityCouncilDistrict6.csv\n"
     ]
    },
    {
     "name": "stderr",
     "output_type": "stream",
     "text": [
      "c:\\Users\\mahsh\\Documents\\GitHub\\bugs-in-democracy\\team_arrow\\clean\\rcv_dimensionality.py:170: RuntimeWarning: divide by zero encountered in true_divide\n",
      "  distance = 1 / np.sqrt(freq_upper_triangle)\n",
      "C:\\Users\\mahsh\\AppData\\Local\\Temp\\ipykernel_21280\\541227406.py:69: FutureWarning: The frame.append method is deprecated and will be removed from pandas in a future version. Use pandas.concat instead.\n",
      "  winners = winners.append({'filename': filename, 'diff': diff, 'IRV1': irv1, 'Condorcet1': condorcet1,\n"
     ]
    },
    {
     "name": "stdout",
     "output_type": "stream",
     "text": [
      "Berkeley_11062012_Mayor.csv\n"
     ]
    },
    {
     "name": "stderr",
     "output_type": "stream",
     "text": [
      "c:\\Users\\mahsh\\Documents\\GitHub\\bugs-in-democracy\\team_arrow\\clean\\rcv_dimensionality.py:170: RuntimeWarning: divide by zero encountered in true_divide\n",
      "  distance = 1 / np.sqrt(freq_upper_triangle)\n",
      "C:\\Users\\mahsh\\AppData\\Local\\Temp\\ipykernel_21280\\541227406.py:69: FutureWarning: The frame.append method is deprecated and will be removed from pandas in a future version. Use pandas.concat instead.\n",
      "  winners = winners.append({'filename': filename, 'diff': diff, 'IRV1': irv1, 'Condorcet1': condorcet1,\n"
     ]
    },
    {
     "name": "stdout",
     "output_type": "stream",
     "text": [
      "Berkeley_11062018_CityAuditor.csv\n"
     ]
    },
    {
     "name": "stderr",
     "output_type": "stream",
     "text": [
      "c:\\Users\\mahsh\\Documents\\GitHub\\bugs-in-democracy\\team_arrow\\clean\\rcv_dimensionality.py:170: RuntimeWarning: divide by zero encountered in true_divide\n",
      "  distance = 1 / np.sqrt(freq_upper_triangle)\n",
      "C:\\Users\\mahsh\\AppData\\Local\\Temp\\ipykernel_21280\\541227406.py:69: FutureWarning: The frame.append method is deprecated and will be removed from pandas in a future version. Use pandas.concat instead.\n",
      "  winners = winners.append({'filename': filename, 'diff': diff, 'IRV1': irv1, 'Condorcet1': condorcet1,\n"
     ]
    },
    {
     "name": "stdout",
     "output_type": "stream",
     "text": [
      "Berkeley_11062018_CityCouncilDistrict1.csv\n"
     ]
    },
    {
     "name": "stderr",
     "output_type": "stream",
     "text": [
      "c:\\Users\\mahsh\\Documents\\GitHub\\bugs-in-democracy\\team_arrow\\clean\\rcv_dimensionality.py:170: RuntimeWarning: divide by zero encountered in true_divide\n",
      "  distance = 1 / np.sqrt(freq_upper_triangle)\n",
      "C:\\Users\\mahsh\\AppData\\Local\\Temp\\ipykernel_21280\\541227406.py:69: FutureWarning: The frame.append method is deprecated and will be removed from pandas in a future version. Use pandas.concat instead.\n",
      "  winners = winners.append({'filename': filename, 'diff': diff, 'IRV1': irv1, 'Condorcet1': condorcet1,\n"
     ]
    },
    {
     "name": "stdout",
     "output_type": "stream",
     "text": [
      "Berkeley_11062018_CityCouncilDistrict4.csv\n"
     ]
    },
    {
     "name": "stderr",
     "output_type": "stream",
     "text": [
      "c:\\Users\\mahsh\\Documents\\GitHub\\bugs-in-democracy\\team_arrow\\clean\\rcv_dimensionality.py:170: RuntimeWarning: divide by zero encountered in true_divide\n",
      "  distance = 1 / np.sqrt(freq_upper_triangle)\n",
      "C:\\Users\\mahsh\\AppData\\Local\\Temp\\ipykernel_21280\\541227406.py:69: FutureWarning: The frame.append method is deprecated and will be removed from pandas in a future version. Use pandas.concat instead.\n",
      "  winners = winners.append({'filename': filename, 'diff': diff, 'IRV1': irv1, 'Condorcet1': condorcet1,\n"
     ]
    },
    {
     "name": "stdout",
     "output_type": "stream",
     "text": [
      "Berkeley_11062018_CityCouncilDistrict7.csv\n"
     ]
    },
    {
     "name": "stderr",
     "output_type": "stream",
     "text": [
      "c:\\Users\\mahsh\\Documents\\GitHub\\bugs-in-democracy\\team_arrow\\clean\\rcv_dimensionality.py:170: RuntimeWarning: divide by zero encountered in true_divide\n",
      "  distance = 1 / np.sqrt(freq_upper_triangle)\n",
      "C:\\Users\\mahsh\\AppData\\Local\\Temp\\ipykernel_21280\\541227406.py:69: FutureWarning: The frame.append method is deprecated and will be removed from pandas in a future version. Use pandas.concat instead.\n",
      "  winners = winners.append({'filename': filename, 'diff': diff, 'IRV1': irv1, 'Condorcet1': condorcet1,\n"
     ]
    },
    {
     "name": "stdout",
     "output_type": "stream",
     "text": [
      "Berkeley_11062018_CityCouncilDistrict8.csv\n"
     ]
    },
    {
     "name": "stderr",
     "output_type": "stream",
     "text": [
      "c:\\Users\\mahsh\\Documents\\GitHub\\bugs-in-democracy\\team_arrow\\clean\\rcv_dimensionality.py:170: RuntimeWarning: divide by zero encountered in true_divide\n",
      "  distance = 1 / np.sqrt(freq_upper_triangle)\n",
      "C:\\Users\\mahsh\\AppData\\Local\\Temp\\ipykernel_21280\\541227406.py:69: FutureWarning: The frame.append method is deprecated and will be removed from pandas in a future version. Use pandas.concat instead.\n",
      "  winners = winners.append({'filename': filename, 'diff': diff, 'IRV1': irv1, 'Condorcet1': condorcet1,\n"
     ]
    },
    {
     "name": "stdout",
     "output_type": "stream",
     "text": [
      "Berkeley_11082016_CityCouncilDistrict2.csv\n"
     ]
    },
    {
     "name": "stderr",
     "output_type": "stream",
     "text": [
      "c:\\Users\\mahsh\\Documents\\GitHub\\bugs-in-democracy\\team_arrow\\clean\\rcv_dimensionality.py:170: RuntimeWarning: divide by zero encountered in true_divide\n",
      "  distance = 1 / np.sqrt(freq_upper_triangle)\n",
      "C:\\Users\\mahsh\\AppData\\Local\\Temp\\ipykernel_21280\\541227406.py:69: FutureWarning: The frame.append method is deprecated and will be removed from pandas in a future version. Use pandas.concat instead.\n",
      "  winners = winners.append({'filename': filename, 'diff': diff, 'IRV1': irv1, 'Condorcet1': condorcet1,\n"
     ]
    },
    {
     "name": "stdout",
     "output_type": "stream",
     "text": [
      "Berkeley_11082016_CityCouncilDistrict3.csv\n"
     ]
    },
    {
     "name": "stderr",
     "output_type": "stream",
     "text": [
      "c:\\Users\\mahsh\\Documents\\GitHub\\bugs-in-democracy\\team_arrow\\clean\\rcv_dimensionality.py:170: RuntimeWarning: divide by zero encountered in true_divide\n",
      "  distance = 1 / np.sqrt(freq_upper_triangle)\n",
      "C:\\Users\\mahsh\\AppData\\Local\\Temp\\ipykernel_21280\\541227406.py:69: FutureWarning: The frame.append method is deprecated and will be removed from pandas in a future version. Use pandas.concat instead.\n",
      "  winners = winners.append({'filename': filename, 'diff': diff, 'IRV1': irv1, 'Condorcet1': condorcet1,\n"
     ]
    },
    {
     "name": "stdout",
     "output_type": "stream",
     "text": [
      "Berkeley_11082016_CityCouncilDistrict5.csv\n"
     ]
    },
    {
     "name": "stderr",
     "output_type": "stream",
     "text": [
      "c:\\Users\\mahsh\\Documents\\GitHub\\bugs-in-democracy\\team_arrow\\clean\\rcv_dimensionality.py:170: RuntimeWarning: divide by zero encountered in true_divide\n",
      "  distance = 1 / np.sqrt(freq_upper_triangle)\n",
      "C:\\Users\\mahsh\\AppData\\Local\\Temp\\ipykernel_21280\\541227406.py:69: FutureWarning: The frame.append method is deprecated and will be removed from pandas in a future version. Use pandas.concat instead.\n",
      "  winners = winners.append({'filename': filename, 'diff': diff, 'IRV1': irv1, 'Condorcet1': condorcet1,\n"
     ]
    },
    {
     "name": "stdout",
     "output_type": "stream",
     "text": [
      "Berkeley_11082016_CityCouncilDistrict6.csv\n"
     ]
    },
    {
     "name": "stderr",
     "output_type": "stream",
     "text": [
      "c:\\Users\\mahsh\\Documents\\GitHub\\bugs-in-democracy\\team_arrow\\clean\\rcv_dimensionality.py:170: RuntimeWarning: divide by zero encountered in true_divide\n",
      "  distance = 1 / np.sqrt(freq_upper_triangle)\n",
      "C:\\Users\\mahsh\\AppData\\Local\\Temp\\ipykernel_21280\\541227406.py:69: FutureWarning: The frame.append method is deprecated and will be removed from pandas in a future version. Use pandas.concat instead.\n",
      "  winners = winners.append({'filename': filename, 'diff': diff, 'IRV1': irv1, 'Condorcet1': condorcet1,\n"
     ]
    },
    {
     "name": "stdout",
     "output_type": "stream",
     "text": [
      "Berkeley_11082016_Mayor.csv\n"
     ]
    },
    {
     "name": "stderr",
     "output_type": "stream",
     "text": [
      "c:\\Users\\mahsh\\Documents\\GitHub\\bugs-in-democracy\\team_arrow\\clean\\rcv_dimensionality.py:170: RuntimeWarning: divide by zero encountered in true_divide\n",
      "  distance = 1 / np.sqrt(freq_upper_triangle)\n",
      "C:\\Users\\mahsh\\AppData\\Local\\Temp\\ipykernel_21280\\541227406.py:69: FutureWarning: The frame.append method is deprecated and will be removed from pandas in a future version. Use pandas.concat instead.\n",
      "  winners = winners.append({'filename': filename, 'diff': diff, 'IRV1': irv1, 'Condorcet1': condorcet1,\n"
     ]
    },
    {
     "name": "stdout",
     "output_type": "stream",
     "text": [
      "Burlington_03032009_Mayor.csv\n"
     ]
    },
    {
     "name": "stderr",
     "output_type": "stream",
     "text": [
      "c:\\Users\\mahsh\\Documents\\GitHub\\bugs-in-democracy\\team_arrow\\clean\\rcv_dimensionality.py:170: RuntimeWarning: divide by zero encountered in true_divide\n",
      "  distance = 1 / np.sqrt(freq_upper_triangle)\n",
      "C:\\Users\\mahsh\\AppData\\Local\\Temp\\ipykernel_21280\\541227406.py:69: FutureWarning: The frame.append method is deprecated and will be removed from pandas in a future version. Use pandas.concat instead.\n",
      "  winners = winners.append({'filename': filename, 'diff': diff, 'IRV1': irv1, 'Condorcet1': condorcet1,\n"
     ]
    },
    {
     "name": "stdout",
     "output_type": "stream",
     "text": [
      "Burlington_03072006_Mayor.csv\n"
     ]
    },
    {
     "name": "stderr",
     "output_type": "stream",
     "text": [
      "c:\\Users\\mahsh\\Documents\\GitHub\\bugs-in-democracy\\team_arrow\\clean\\rcv_dimensionality.py:170: RuntimeWarning: divide by zero encountered in true_divide\n",
      "  distance = 1 / np.sqrt(freq_upper_triangle)\n",
      "C:\\Users\\mahsh\\AppData\\Local\\Temp\\ipykernel_21280\\541227406.py:69: FutureWarning: The frame.append method is deprecated and will be removed from pandas in a future version. Use pandas.concat instead.\n",
      "  winners = winners.append({'filename': filename, 'diff': diff, 'IRV1': irv1, 'Condorcet1': condorcet1,\n"
     ]
    },
    {
     "name": "stdout",
     "output_type": "stream",
     "text": [
      "Burlington_03072023_CityCouncilCentralDistrict.csv\n"
     ]
    },
    {
     "name": "stderr",
     "output_type": "stream",
     "text": [
      "c:\\Users\\mahsh\\Documents\\GitHub\\bugs-in-democracy\\team_arrow\\clean\\rcv_dimensionality.py:170: RuntimeWarning: divide by zero encountered in true_divide\n",
      "  distance = 1 / np.sqrt(freq_upper_triangle)\n",
      "C:\\Users\\mahsh\\AppData\\Local\\Temp\\ipykernel_21280\\541227406.py:69: FutureWarning: The frame.append method is deprecated and will be removed from pandas in a future version. Use pandas.concat instead.\n",
      "  winners = winners.append({'filename': filename, 'diff': diff, 'IRV1': irv1, 'Condorcet1': condorcet1,\n"
     ]
    },
    {
     "name": "stdout",
     "output_type": "stream",
     "text": [
      "Burlington_03072023_CityCouncilEastDistrict.csv\n"
     ]
    },
    {
     "name": "stderr",
     "output_type": "stream",
     "text": [
      "c:\\Users\\mahsh\\Documents\\GitHub\\bugs-in-democracy\\team_arrow\\clean\\rcv_dimensionality.py:170: RuntimeWarning: divide by zero encountered in true_divide\n",
      "  distance = 1 / np.sqrt(freq_upper_triangle)\n",
      "C:\\Users\\mahsh\\AppData\\Local\\Temp\\ipykernel_21280\\541227406.py:69: FutureWarning: The frame.append method is deprecated and will be removed from pandas in a future version. Use pandas.concat instead.\n",
      "  winners = winners.append({'filename': filename, 'diff': diff, 'IRV1': irv1, 'Condorcet1': condorcet1,\n"
     ]
    },
    {
     "name": "stdout",
     "output_type": "stream",
     "text": [
      "Burlington_03072023_CityCouncilNorthDistrict.csv\n",
      "Burlington_03072023_CityCouncilNorthDistrict.csv  threw an error\n",
      "Burlington_03072023_CityCouncilSouthDistrict.csv\n"
     ]
    },
    {
     "name": "stderr",
     "output_type": "stream",
     "text": [
      "c:\\Users\\mahsh\\Documents\\GitHub\\bugs-in-democracy\\team_arrow\\clean\\rcv_dimensionality.py:170: RuntimeWarning: divide by zero encountered in true_divide\n",
      "  distance = 1 / np.sqrt(freq_upper_triangle)\n",
      "C:\\Users\\mahsh\\AppData\\Local\\Temp\\ipykernel_21280\\541227406.py:69: FutureWarning: The frame.append method is deprecated and will be removed from pandas in a future version. Use pandas.concat instead.\n",
      "  winners = winners.append({'filename': filename, 'diff': diff, 'IRV1': irv1, 'Condorcet1': condorcet1,\n"
     ]
    },
    {
     "name": "stdout",
     "output_type": "stream",
     "text": [
      "Corvallis_11082022_CityCouncilWard9.csv\n"
     ]
    },
    {
     "name": "stderr",
     "output_type": "stream",
     "text": [
      "c:\\Users\\mahsh\\Documents\\GitHub\\bugs-in-democracy\\team_arrow\\clean\\rcv_dimensionality.py:170: RuntimeWarning: divide by zero encountered in true_divide\n",
      "  distance = 1 / np.sqrt(freq_upper_triangle)\n",
      "C:\\Users\\mahsh\\AppData\\Local\\Temp\\ipykernel_21280\\541227406.py:69: FutureWarning: The frame.append method is deprecated and will be removed from pandas in a future version. Use pandas.concat instead.\n",
      "  winners = winners.append({'filename': filename, 'diff': diff, 'IRV1': irv1, 'Condorcet1': condorcet1,\n"
     ]
    },
    {
     "name": "stdout",
     "output_type": "stream",
     "text": [
      "Corvallis_11082022_Mayor.csv\n"
     ]
    },
    {
     "name": "stderr",
     "output_type": "stream",
     "text": [
      "c:\\Users\\mahsh\\Documents\\GitHub\\bugs-in-democracy\\team_arrow\\clean\\rcv_dimensionality.py:170: RuntimeWarning: divide by zero encountered in true_divide\n",
      "  distance = 1 / np.sqrt(freq_upper_triangle)\n",
      "C:\\Users\\mahsh\\AppData\\Local\\Temp\\ipykernel_21280\\541227406.py:69: FutureWarning: The frame.append method is deprecated and will be removed from pandas in a future version. Use pandas.concat instead.\n",
      "  winners = winners.append({'filename': filename, 'diff': diff, 'IRV1': irv1, 'Condorcet1': condorcet1,\n"
     ]
    },
    {
     "name": "stdout",
     "output_type": "stream",
     "text": [
      "Easthampton_11022021_Mayor.csv\n"
     ]
    },
    {
     "name": "stderr",
     "output_type": "stream",
     "text": [
      "c:\\Users\\mahsh\\Documents\\GitHub\\bugs-in-democracy\\team_arrow\\clean\\rcv_dimensionality.py:159: RuntimeWarning: divide by zero encountered in true_divide\n",
      "  frequencies = counts / mentioned_together\n",
      "c:\\Users\\mahsh\\Documents\\GitHub\\bugs-in-democracy\\team_arrow\\clean\\rcv_dimensionality.py:159: RuntimeWarning: invalid value encountered in true_divide\n",
      "  frequencies = counts / mentioned_together\n",
      "c:\\Users\\mahsh\\Documents\\GitHub\\bugs-in-democracy\\team_arrow\\clean\\rcv_dimensionality.py:170: RuntimeWarning: divide by zero encountered in true_divide\n",
      "  distance = 1 / np.sqrt(freq_upper_triangle)\n",
      "C:\\Users\\mahsh\\AppData\\Local\\Temp\\ipykernel_21280\\541227406.py:69: FutureWarning: The frame.append method is deprecated and will be removed from pandas in a future version. Use pandas.concat instead.\n",
      "  winners = winners.append({'filename': filename, 'diff': diff, 'IRV1': irv1, 'Condorcet1': condorcet1,\n"
     ]
    },
    {
     "name": "stdout",
     "output_type": "stream",
     "text": [
      "Eastpointe_11052019_CityCouncil.csv\n"
     ]
    },
    {
     "name": "stderr",
     "output_type": "stream",
     "text": [
      "c:\\Users\\mahsh\\Documents\\GitHub\\bugs-in-democracy\\team_arrow\\clean\\rcv_dimensionality.py:170: RuntimeWarning: divide by zero encountered in true_divide\n",
      "  distance = 1 / np.sqrt(freq_upper_triangle)\n",
      "C:\\Users\\mahsh\\AppData\\Local\\Temp\\ipykernel_21280\\541227406.py:69: FutureWarning: The frame.append method is deprecated and will be removed from pandas in a future version. Use pandas.concat instead.\n",
      "  winners = winners.append({'filename': filename, 'diff': diff, 'IRV1': irv1, 'Condorcet1': condorcet1,\n"
     ]
    },
    {
     "name": "stdout",
     "output_type": "stream",
     "text": [
      "ElkRidge_11022021_Mayor.csv\n"
     ]
    },
    {
     "name": "stderr",
     "output_type": "stream",
     "text": [
      "c:\\Users\\mahsh\\Documents\\GitHub\\bugs-in-democracy\\team_arrow\\clean\\rcv_dimensionality.py:170: RuntimeWarning: divide by zero encountered in true_divide\n",
      "  distance = 1 / np.sqrt(freq_upper_triangle)\n",
      "C:\\Users\\mahsh\\AppData\\Local\\Temp\\ipykernel_21280\\541227406.py:69: FutureWarning: The frame.append method is deprecated and will be removed from pandas in a future version. Use pandas.concat instead.\n",
      "  winners = winners.append({'filename': filename, 'diff': diff, 'IRV1': irv1, 'Condorcet1': condorcet1,\n"
     ]
    },
    {
     "name": "stdout",
     "output_type": "stream",
     "text": [
      "Hawaii_05232020_PresidentoftheUnitedStateCD1.csv\n"
     ]
    },
    {
     "name": "stderr",
     "output_type": "stream",
     "text": [
      "c:\\Users\\mahsh\\Documents\\GitHub\\bugs-in-democracy\\team_arrow\\clean\\rcv_dimensionality.py:170: RuntimeWarning: divide by zero encountered in true_divide\n",
      "  distance = 1 / np.sqrt(freq_upper_triangle)\n",
      "C:\\Users\\mahsh\\AppData\\Local\\Temp\\ipykernel_21280\\541227406.py:69: FutureWarning: The frame.append method is deprecated and will be removed from pandas in a future version. Use pandas.concat instead.\n",
      "  winners = winners.append({'filename': filename, 'diff': diff, 'IRV1': irv1, 'Condorcet1': condorcet1,\n"
     ]
    },
    {
     "name": "stdout",
     "output_type": "stream",
     "text": [
      "Hawaii_05232020_PresidentoftheUnitedStateCD1CD2.csv\n"
     ]
    },
    {
     "name": "stderr",
     "output_type": "stream",
     "text": [
      "c:\\Users\\mahsh\\Documents\\GitHub\\bugs-in-democracy\\team_arrow\\clean\\rcv_dimensionality.py:170: RuntimeWarning: divide by zero encountered in true_divide\n",
      "  distance = 1 / np.sqrt(freq_upper_triangle)\n",
      "C:\\Users\\mahsh\\AppData\\Local\\Temp\\ipykernel_21280\\541227406.py:69: FutureWarning: The frame.append method is deprecated and will be removed from pandas in a future version. Use pandas.concat instead.\n",
      "  winners = winners.append({'filename': filename, 'diff': diff, 'IRV1': irv1, 'Condorcet1': condorcet1,\n"
     ]
    },
    {
     "name": "stdout",
     "output_type": "stream",
     "text": [
      "Hawaii_05232020_PresidentoftheUnitedStateCD2.csv\n"
     ]
    },
    {
     "name": "stderr",
     "output_type": "stream",
     "text": [
      "c:\\Users\\mahsh\\Documents\\GitHub\\bugs-in-democracy\\team_arrow\\clean\\rcv_dimensionality.py:170: RuntimeWarning: divide by zero encountered in true_divide\n",
      "  distance = 1 / np.sqrt(freq_upper_triangle)\n",
      "C:\\Users\\mahsh\\AppData\\Local\\Temp\\ipykernel_21280\\541227406.py:69: FutureWarning: The frame.append method is deprecated and will be removed from pandas in a future version. Use pandas.concat instead.\n",
      "  winners = winners.append({'filename': filename, 'diff': diff, 'IRV1': irv1, 'Condorcet1': condorcet1,\n"
     ]
    },
    {
     "name": "stdout",
     "output_type": "stream",
     "text": [
      "Kansas_05022020_PRESIDENTOFTHEUNITEDSTATES.csv\n"
     ]
    },
    {
     "name": "stderr",
     "output_type": "stream",
     "text": [
      "c:\\Users\\mahsh\\Documents\\GitHub\\bugs-in-democracy\\team_arrow\\clean\\rcv_dimensionality.py:170: RuntimeWarning: divide by zero encountered in true_divide\n",
      "  distance = 1 / np.sqrt(freq_upper_triangle)\n",
      "C:\\Users\\mahsh\\AppData\\Local\\Temp\\ipykernel_21280\\541227406.py:69: FutureWarning: The frame.append method is deprecated and will be removed from pandas in a future version. Use pandas.concat instead.\n",
      "  winners = winners.append({'filename': filename, 'diff': diff, 'IRV1': irv1, 'Condorcet1': condorcet1,\n"
     ]
    },
    {
     "name": "stdout",
     "output_type": "stream",
     "text": [
      "LasCruces_11052019_COUNCILORPOSITION2CITYOFLASCRUCESDISTRICT2COUNCILOR.csv\n"
     ]
    },
    {
     "name": "stderr",
     "output_type": "stream",
     "text": [
      "c:\\Users\\mahsh\\Documents\\GitHub\\bugs-in-democracy\\team_arrow\\clean\\rcv_dimensionality.py:170: RuntimeWarning: divide by zero encountered in true_divide\n",
      "  distance = 1 / np.sqrt(freq_upper_triangle)\n",
      "C:\\Users\\mahsh\\AppData\\Local\\Temp\\ipykernel_21280\\541227406.py:69: FutureWarning: The frame.append method is deprecated and will be removed from pandas in a future version. Use pandas.concat instead.\n",
      "  winners = winners.append({'filename': filename, 'diff': diff, 'IRV1': irv1, 'Condorcet1': condorcet1,\n"
     ]
    },
    {
     "name": "stdout",
     "output_type": "stream",
     "text": [
      "LasCruces_11052019_COUNCILORPOSITION4CITYOFLASCRUCESDISTRICT4COUNCILOR.csv\n"
     ]
    },
    {
     "name": "stderr",
     "output_type": "stream",
     "text": [
      "c:\\Users\\mahsh\\Documents\\GitHub\\bugs-in-democracy\\team_arrow\\clean\\rcv_dimensionality.py:170: RuntimeWarning: divide by zero encountered in true_divide\n",
      "  distance = 1 / np.sqrt(freq_upper_triangle)\n",
      "C:\\Users\\mahsh\\AppData\\Local\\Temp\\ipykernel_21280\\541227406.py:69: FutureWarning: The frame.append method is deprecated and will be removed from pandas in a future version. Use pandas.concat instead.\n",
      "  winners = winners.append({'filename': filename, 'diff': diff, 'IRV1': irv1, 'Condorcet1': condorcet1,\n"
     ]
    },
    {
     "name": "stdout",
     "output_type": "stream",
     "text": [
      "LasCruces_11052019_MAYORCITYOFLASCRUCES.csv\n"
     ]
    },
    {
     "name": "stderr",
     "output_type": "stream",
     "text": [
      "c:\\Users\\mahsh\\Documents\\GitHub\\bugs-in-democracy\\team_arrow\\clean\\rcv_dimensionality.py:170: RuntimeWarning: divide by zero encountered in true_divide\n",
      "  distance = 1 / np.sqrt(freq_upper_triangle)\n",
      "C:\\Users\\mahsh\\AppData\\Local\\Temp\\ipykernel_21280\\541227406.py:69: FutureWarning: The frame.append method is deprecated and will be removed from pandas in a future version. Use pandas.concat instead.\n",
      "  winners = winners.append({'filename': filename, 'diff': diff, 'IRV1': irv1, 'Condorcet1': condorcet1,\n"
     ]
    },
    {
     "name": "stdout",
     "output_type": "stream",
     "text": [
      "Maine_06122018_DemocraticPrimaryforCD2.csv\n"
     ]
    },
    {
     "name": "stderr",
     "output_type": "stream",
     "text": [
      "c:\\Users\\mahsh\\Documents\\GitHub\\bugs-in-democracy\\team_arrow\\clean\\rcv_dimensionality.py:170: RuntimeWarning: divide by zero encountered in true_divide\n",
      "  distance = 1 / np.sqrt(freq_upper_triangle)\n",
      "C:\\Users\\mahsh\\AppData\\Local\\Temp\\ipykernel_21280\\541227406.py:69: FutureWarning: The frame.append method is deprecated and will be removed from pandas in a future version. Use pandas.concat instead.\n",
      "  winners = winners.append({'filename': filename, 'diff': diff, 'IRV1': irv1, 'Condorcet1': condorcet1,\n"
     ]
    },
    {
     "name": "stdout",
     "output_type": "stream",
     "text": [
      "Maine_06122018_DemocraticPrimaryforGovernor.csv\n"
     ]
    },
    {
     "name": "stderr",
     "output_type": "stream",
     "text": [
      "c:\\Users\\mahsh\\Documents\\GitHub\\bugs-in-democracy\\team_arrow\\clean\\rcv_dimensionality.py:170: RuntimeWarning: divide by zero encountered in true_divide\n",
      "  distance = 1 / np.sqrt(freq_upper_triangle)\n",
      "C:\\Users\\mahsh\\AppData\\Local\\Temp\\ipykernel_21280\\541227406.py:69: FutureWarning: The frame.append method is deprecated and will be removed from pandas in a future version. Use pandas.concat instead.\n",
      "  winners = winners.append({'filename': filename, 'diff': diff, 'IRV1': irv1, 'Condorcet1': condorcet1,\n"
     ]
    },
    {
     "name": "stdout",
     "output_type": "stream",
     "text": [
      "Maine_07142020_DemocraticCandidateforMaineStateHouseDistrict41.csv\n"
     ]
    },
    {
     "name": "stderr",
     "output_type": "stream",
     "text": [
      "c:\\Users\\mahsh\\Documents\\GitHub\\bugs-in-democracy\\team_arrow\\clean\\rcv_dimensionality.py:170: RuntimeWarning: divide by zero encountered in true_divide\n",
      "  distance = 1 / np.sqrt(freq_upper_triangle)\n",
      "C:\\Users\\mahsh\\AppData\\Local\\Temp\\ipykernel_21280\\541227406.py:69: FutureWarning: The frame.append method is deprecated and will be removed from pandas in a future version. Use pandas.concat instead.\n",
      "  winners = winners.append({'filename': filename, 'diff': diff, 'IRV1': irv1, 'Condorcet1': condorcet1,\n"
     ]
    },
    {
     "name": "stdout",
     "output_type": "stream",
     "text": [
      "Maine_07142020_DemocraticCandidateforMaineStateHouseDistrict47.csv\n"
     ]
    },
    {
     "name": "stderr",
     "output_type": "stream",
     "text": [
      "c:\\Users\\mahsh\\Documents\\GitHub\\bugs-in-democracy\\team_arrow\\clean\\rcv_dimensionality.py:170: RuntimeWarning: divide by zero encountered in true_divide\n",
      "  distance = 1 / np.sqrt(freq_upper_triangle)\n",
      "C:\\Users\\mahsh\\AppData\\Local\\Temp\\ipykernel_21280\\541227406.py:69: FutureWarning: The frame.append method is deprecated and will be removed from pandas in a future version. Use pandas.concat instead.\n",
      "  winners = winners.append({'filename': filename, 'diff': diff, 'IRV1': irv1, 'Condorcet1': condorcet1,\n"
     ]
    },
    {
     "name": "stdout",
     "output_type": "stream",
     "text": [
      "Maine_07142020_DemocraticCandidateforMaineStateHouseDistrict49.csv\n"
     ]
    },
    {
     "name": "stderr",
     "output_type": "stream",
     "text": [
      "c:\\Users\\mahsh\\Documents\\GitHub\\bugs-in-democracy\\team_arrow\\clean\\rcv_dimensionality.py:170: RuntimeWarning: divide by zero encountered in true_divide\n",
      "  distance = 1 / np.sqrt(freq_upper_triangle)\n",
      "C:\\Users\\mahsh\\AppData\\Local\\Temp\\ipykernel_21280\\541227406.py:69: FutureWarning: The frame.append method is deprecated and will be removed from pandas in a future version. Use pandas.concat instead.\n",
      "  winners = winners.append({'filename': filename, 'diff': diff, 'IRV1': irv1, 'Condorcet1': condorcet1,\n"
     ]
    },
    {
     "name": "stdout",
     "output_type": "stream",
     "text": [
      "Maine_07142020_DemocraticCandidateforMaineStateHouseDistrict90.csv\n"
     ]
    },
    {
     "name": "stderr",
     "output_type": "stream",
     "text": [
      "c:\\Users\\mahsh\\Documents\\GitHub\\bugs-in-democracy\\team_arrow\\clean\\rcv_dimensionality.py:170: RuntimeWarning: divide by zero encountered in true_divide\n",
      "  distance = 1 / np.sqrt(freq_upper_triangle)\n",
      "C:\\Users\\mahsh\\AppData\\Local\\Temp\\ipykernel_21280\\541227406.py:69: FutureWarning: The frame.append method is deprecated and will be removed from pandas in a future version. Use pandas.concat instead.\n",
      "  winners = winners.append({'filename': filename, 'diff': diff, 'IRV1': irv1, 'Condorcet1': condorcet1,\n"
     ]
    },
    {
     "name": "stdout",
     "output_type": "stream",
     "text": [
      "Maine_07142020_DemocraticCandidateforMaineStateSenateDistrict11.csv\n"
     ]
    },
    {
     "name": "stderr",
     "output_type": "stream",
     "text": [
      "c:\\Users\\mahsh\\Documents\\GitHub\\bugs-in-democracy\\team_arrow\\clean\\rcv_dimensionality.py:170: RuntimeWarning: divide by zero encountered in true_divide\n",
      "  distance = 1 / np.sqrt(freq_upper_triangle)\n",
      "C:\\Users\\mahsh\\AppData\\Local\\Temp\\ipykernel_21280\\541227406.py:69: FutureWarning: The frame.append method is deprecated and will be removed from pandas in a future version. Use pandas.concat instead.\n",
      "  winners = winners.append({'filename': filename, 'diff': diff, 'IRV1': irv1, 'Condorcet1': condorcet1,\n"
     ]
    },
    {
     "name": "stdout",
     "output_type": "stream",
     "text": [
      "Maine_07142020_RepublicanCandidateforUSHouseofRepresentativesDistrict2.csv\n"
     ]
    },
    {
     "name": "stderr",
     "output_type": "stream",
     "text": [
      "c:\\Users\\mahsh\\Documents\\GitHub\\bugs-in-democracy\\team_arrow\\clean\\rcv_dimensionality.py:170: RuntimeWarning: divide by zero encountered in true_divide\n",
      "  distance = 1 / np.sqrt(freq_upper_triangle)\n",
      "C:\\Users\\mahsh\\AppData\\Local\\Temp\\ipykernel_21280\\541227406.py:69: FutureWarning: The frame.append method is deprecated and will be removed from pandas in a future version. Use pandas.concat instead.\n",
      "  winners = winners.append({'filename': filename, 'diff': diff, 'IRV1': irv1, 'Condorcet1': condorcet1,\n"
     ]
    },
    {
     "name": "stdout",
     "output_type": "stream",
     "text": [
      "Maine_11062018_CongressionalDistrict2.csv\n"
     ]
    },
    {
     "name": "stderr",
     "output_type": "stream",
     "text": [
      "c:\\Users\\mahsh\\Documents\\GitHub\\bugs-in-democracy\\team_arrow\\clean\\rcv_dimensionality.py:170: RuntimeWarning: divide by zero encountered in true_divide\n",
      "  distance = 1 / np.sqrt(freq_upper_triangle)\n",
      "C:\\Users\\mahsh\\AppData\\Local\\Temp\\ipykernel_21280\\541227406.py:69: FutureWarning: The frame.append method is deprecated and will be removed from pandas in a future version. Use pandas.concat instead.\n",
      "  winners = winners.append({'filename': filename, 'diff': diff, 'IRV1': irv1, 'Condorcet1': condorcet1,\n"
     ]
    },
    {
     "name": "stdout",
     "output_type": "stream",
     "text": [
      "Maine_11082022_CongressionalDistrict2.csv\n"
     ]
    },
    {
     "name": "stderr",
     "output_type": "stream",
     "text": [
      "c:\\Users\\mahsh\\Documents\\GitHub\\bugs-in-democracy\\team_arrow\\clean\\rcv_dimensionality.py:170: RuntimeWarning: divide by zero encountered in true_divide\n",
      "  distance = 1 / np.sqrt(freq_upper_triangle)\n",
      "C:\\Users\\mahsh\\AppData\\Local\\Temp\\ipykernel_21280\\541227406.py:69: FutureWarning: The frame.append method is deprecated and will be removed from pandas in a future version. Use pandas.concat instead.\n",
      "  winners = winners.append({'filename': filename, 'diff': diff, 'IRV1': irv1, 'Condorcet1': condorcet1,\n"
     ]
    },
    {
     "name": "stdout",
     "output_type": "stream",
     "text": [
      "Minneapolis_08112020_Ward6CityCouncilSpecialElection.csv\n"
     ]
    },
    {
     "name": "stderr",
     "output_type": "stream",
     "text": [
      "c:\\Users\\mahsh\\Documents\\GitHub\\bugs-in-democracy\\team_arrow\\clean\\rcv_dimensionality.py:170: RuntimeWarning: divide by zero encountered in true_divide\n",
      "  distance = 1 / np.sqrt(freq_upper_triangle)\n",
      "C:\\Users\\mahsh\\AppData\\Local\\Temp\\ipykernel_21280\\541227406.py:69: FutureWarning: The frame.append method is deprecated and will be removed from pandas in a future version. Use pandas.concat instead.\n",
      "  winners = winners.append({'filename': filename, 'diff': diff, 'IRV1': irv1, 'Condorcet1': condorcet1,\n"
     ]
    },
    {
     "name": "stdout",
     "output_type": "stream",
     "text": [
      "Minneapolis_11022021_CityCouncilWard1.csv\n"
     ]
    },
    {
     "name": "stderr",
     "output_type": "stream",
     "text": [
      "c:\\Users\\mahsh\\Documents\\GitHub\\bugs-in-democracy\\team_arrow\\clean\\rcv_dimensionality.py:170: RuntimeWarning: divide by zero encountered in true_divide\n",
      "  distance = 1 / np.sqrt(freq_upper_triangle)\n",
      "C:\\Users\\mahsh\\AppData\\Local\\Temp\\ipykernel_21280\\541227406.py:69: FutureWarning: The frame.append method is deprecated and will be removed from pandas in a future version. Use pandas.concat instead.\n",
      "  winners = winners.append({'filename': filename, 'diff': diff, 'IRV1': irv1, 'Condorcet1': condorcet1,\n"
     ]
    },
    {
     "name": "stdout",
     "output_type": "stream",
     "text": [
      "Minneapolis_11022021_CityCouncilWard10.csv\n"
     ]
    },
    {
     "name": "stderr",
     "output_type": "stream",
     "text": [
      "c:\\Users\\mahsh\\Documents\\GitHub\\bugs-in-democracy\\team_arrow\\clean\\rcv_dimensionality.py:170: RuntimeWarning: divide by zero encountered in true_divide\n",
      "  distance = 1 / np.sqrt(freq_upper_triangle)\n",
      "C:\\Users\\mahsh\\AppData\\Local\\Temp\\ipykernel_21280\\541227406.py:69: FutureWarning: The frame.append method is deprecated and will be removed from pandas in a future version. Use pandas.concat instead.\n",
      "  winners = winners.append({'filename': filename, 'diff': diff, 'IRV1': irv1, 'Condorcet1': condorcet1,\n"
     ]
    },
    {
     "name": "stdout",
     "output_type": "stream",
     "text": [
      "Minneapolis_11022021_CityCouncilWard11.csv\n"
     ]
    },
    {
     "name": "stderr",
     "output_type": "stream",
     "text": [
      "c:\\Users\\mahsh\\Documents\\GitHub\\bugs-in-democracy\\team_arrow\\clean\\rcv_dimensionality.py:170: RuntimeWarning: divide by zero encountered in true_divide\n",
      "  distance = 1 / np.sqrt(freq_upper_triangle)\n",
      "C:\\Users\\mahsh\\AppData\\Local\\Temp\\ipykernel_21280\\541227406.py:69: FutureWarning: The frame.append method is deprecated and will be removed from pandas in a future version. Use pandas.concat instead.\n",
      "  winners = winners.append({'filename': filename, 'diff': diff, 'IRV1': irv1, 'Condorcet1': condorcet1,\n"
     ]
    },
    {
     "name": "stdout",
     "output_type": "stream",
     "text": [
      "Minneapolis_11022021_CityCouncilWard12.csv\n"
     ]
    },
    {
     "name": "stderr",
     "output_type": "stream",
     "text": [
      "c:\\Users\\mahsh\\Documents\\GitHub\\bugs-in-democracy\\team_arrow\\clean\\rcv_dimensionality.py:170: RuntimeWarning: divide by zero encountered in true_divide\n",
      "  distance = 1 / np.sqrt(freq_upper_triangle)\n",
      "C:\\Users\\mahsh\\AppData\\Local\\Temp\\ipykernel_21280\\541227406.py:69: FutureWarning: The frame.append method is deprecated and will be removed from pandas in a future version. Use pandas.concat instead.\n",
      "  winners = winners.append({'filename': filename, 'diff': diff, 'IRV1': irv1, 'Condorcet1': condorcet1,\n"
     ]
    },
    {
     "name": "stdout",
     "output_type": "stream",
     "text": [
      "Minneapolis_11022021_CityCouncilWard13.csv\n"
     ]
    },
    {
     "name": "stderr",
     "output_type": "stream",
     "text": [
      "c:\\Users\\mahsh\\Documents\\GitHub\\bugs-in-democracy\\team_arrow\\clean\\rcv_dimensionality.py:170: RuntimeWarning: divide by zero encountered in true_divide\n",
      "  distance = 1 / np.sqrt(freq_upper_triangle)\n",
      "C:\\Users\\mahsh\\AppData\\Local\\Temp\\ipykernel_21280\\541227406.py:69: FutureWarning: The frame.append method is deprecated and will be removed from pandas in a future version. Use pandas.concat instead.\n",
      "  winners = winners.append({'filename': filename, 'diff': diff, 'IRV1': irv1, 'Condorcet1': condorcet1,\n"
     ]
    },
    {
     "name": "stdout",
     "output_type": "stream",
     "text": [
      "Minneapolis_11022021_CityCouncilWard2.csv\n"
     ]
    },
    {
     "name": "stderr",
     "output_type": "stream",
     "text": [
      "c:\\Users\\mahsh\\Documents\\GitHub\\bugs-in-democracy\\team_arrow\\clean\\rcv_dimensionality.py:170: RuntimeWarning: divide by zero encountered in true_divide\n",
      "  distance = 1 / np.sqrt(freq_upper_triangle)\n",
      "C:\\Users\\mahsh\\AppData\\Local\\Temp\\ipykernel_21280\\541227406.py:69: FutureWarning: The frame.append method is deprecated and will be removed from pandas in a future version. Use pandas.concat instead.\n",
      "  winners = winners.append({'filename': filename, 'diff': diff, 'IRV1': irv1, 'Condorcet1': condorcet1,\n"
     ]
    },
    {
     "name": "stdout",
     "output_type": "stream",
     "text": [
      "Minneapolis_11022021_CityCouncilWard3.csv\n"
     ]
    },
    {
     "name": "stderr",
     "output_type": "stream",
     "text": [
      "c:\\Users\\mahsh\\Documents\\GitHub\\bugs-in-democracy\\team_arrow\\clean\\rcv_dimensionality.py:170: RuntimeWarning: divide by zero encountered in true_divide\n",
      "  distance = 1 / np.sqrt(freq_upper_triangle)\n",
      "C:\\Users\\mahsh\\AppData\\Local\\Temp\\ipykernel_21280\\541227406.py:69: FutureWarning: The frame.append method is deprecated and will be removed from pandas in a future version. Use pandas.concat instead.\n",
      "  winners = winners.append({'filename': filename, 'diff': diff, 'IRV1': irv1, 'Condorcet1': condorcet1,\n"
     ]
    },
    {
     "name": "stdout",
     "output_type": "stream",
     "text": [
      "Minneapolis_11022021_CityCouncilWard4.csv\n"
     ]
    },
    {
     "name": "stderr",
     "output_type": "stream",
     "text": [
      "c:\\Users\\mahsh\\Documents\\GitHub\\bugs-in-democracy\\team_arrow\\clean\\rcv_dimensionality.py:170: RuntimeWarning: divide by zero encountered in true_divide\n",
      "  distance = 1 / np.sqrt(freq_upper_triangle)\n",
      "C:\\Users\\mahsh\\AppData\\Local\\Temp\\ipykernel_21280\\541227406.py:69: FutureWarning: The frame.append method is deprecated and will be removed from pandas in a future version. Use pandas.concat instead.\n",
      "  winners = winners.append({'filename': filename, 'diff': diff, 'IRV1': irv1, 'Condorcet1': condorcet1,\n"
     ]
    },
    {
     "name": "stdout",
     "output_type": "stream",
     "text": [
      "Minneapolis_11022021_CityCouncilWard5.csv\n"
     ]
    },
    {
     "name": "stderr",
     "output_type": "stream",
     "text": [
      "c:\\Users\\mahsh\\Documents\\GitHub\\bugs-in-democracy\\team_arrow\\clean\\rcv_dimensionality.py:170: RuntimeWarning: divide by zero encountered in true_divide\n",
      "  distance = 1 / np.sqrt(freq_upper_triangle)\n",
      "C:\\Users\\mahsh\\AppData\\Local\\Temp\\ipykernel_21280\\541227406.py:69: FutureWarning: The frame.append method is deprecated and will be removed from pandas in a future version. Use pandas.concat instead.\n",
      "  winners = winners.append({'filename': filename, 'diff': diff, 'IRV1': irv1, 'Condorcet1': condorcet1,\n"
     ]
    },
    {
     "name": "stdout",
     "output_type": "stream",
     "text": [
      "Minneapolis_11022021_CityCouncilWard6.csv\n"
     ]
    },
    {
     "name": "stderr",
     "output_type": "stream",
     "text": [
      "c:\\Users\\mahsh\\Documents\\GitHub\\bugs-in-democracy\\team_arrow\\clean\\rcv_dimensionality.py:170: RuntimeWarning: divide by zero encountered in true_divide\n",
      "  distance = 1 / np.sqrt(freq_upper_triangle)\n",
      "C:\\Users\\mahsh\\AppData\\Local\\Temp\\ipykernel_21280\\541227406.py:69: FutureWarning: The frame.append method is deprecated and will be removed from pandas in a future version. Use pandas.concat instead.\n",
      "  winners = winners.append({'filename': filename, 'diff': diff, 'IRV1': irv1, 'Condorcet1': condorcet1,\n"
     ]
    },
    {
     "name": "stdout",
     "output_type": "stream",
     "text": [
      "Minneapolis_11022021_CityCouncilWard7.csv\n"
     ]
    },
    {
     "name": "stderr",
     "output_type": "stream",
     "text": [
      "c:\\Users\\mahsh\\Documents\\GitHub\\bugs-in-democracy\\team_arrow\\clean\\rcv_dimensionality.py:170: RuntimeWarning: divide by zero encountered in true_divide\n",
      "  distance = 1 / np.sqrt(freq_upper_triangle)\n",
      "C:\\Users\\mahsh\\AppData\\Local\\Temp\\ipykernel_21280\\541227406.py:69: FutureWarning: The frame.append method is deprecated and will be removed from pandas in a future version. Use pandas.concat instead.\n",
      "  winners = winners.append({'filename': filename, 'diff': diff, 'IRV1': irv1, 'Condorcet1': condorcet1,\n"
     ]
    },
    {
     "name": "stdout",
     "output_type": "stream",
     "text": [
      "Minneapolis_11022021_CityCouncilWard8.csv\n"
     ]
    },
    {
     "name": "stderr",
     "output_type": "stream",
     "text": [
      "c:\\Users\\mahsh\\Documents\\GitHub\\bugs-in-democracy\\team_arrow\\clean\\rcv_dimensionality.py:170: RuntimeWarning: divide by zero encountered in true_divide\n",
      "  distance = 1 / np.sqrt(freq_upper_triangle)\n",
      "C:\\Users\\mahsh\\AppData\\Local\\Temp\\ipykernel_21280\\541227406.py:69: FutureWarning: The frame.append method is deprecated and will be removed from pandas in a future version. Use pandas.concat instead.\n",
      "  winners = winners.append({'filename': filename, 'diff': diff, 'IRV1': irv1, 'Condorcet1': condorcet1,\n"
     ]
    },
    {
     "name": "stdout",
     "output_type": "stream",
     "text": [
      "Minneapolis_11022021_CityCouncilWard9.csv\n"
     ]
    },
    {
     "name": "stderr",
     "output_type": "stream",
     "text": [
      "c:\\Users\\mahsh\\Documents\\GitHub\\bugs-in-democracy\\team_arrow\\clean\\rcv_dimensionality.py:170: RuntimeWarning: divide by zero encountered in true_divide\n",
      "  distance = 1 / np.sqrt(freq_upper_triangle)\n",
      "C:\\Users\\mahsh\\AppData\\Local\\Temp\\ipykernel_21280\\541227406.py:69: FutureWarning: The frame.append method is deprecated and will be removed from pandas in a future version. Use pandas.concat instead.\n",
      "  winners = winners.append({'filename': filename, 'diff': diff, 'IRV1': irv1, 'Condorcet1': condorcet1,\n"
     ]
    },
    {
     "name": "stdout",
     "output_type": "stream",
     "text": [
      "Minneapolis_11022021_Mayor.csv\n"
     ]
    },
    {
     "name": "stderr",
     "output_type": "stream",
     "text": [
      "c:\\Users\\mahsh\\Documents\\GitHub\\bugs-in-democracy\\team_arrow\\clean\\rcv_dimensionality.py:159: RuntimeWarning: divide by zero encountered in true_divide\n",
      "  frequencies = counts / mentioned_together\n",
      "c:\\Users\\mahsh\\Documents\\GitHub\\bugs-in-democracy\\team_arrow\\clean\\rcv_dimensionality.py:159: RuntimeWarning: invalid value encountered in true_divide\n",
      "  frequencies = counts / mentioned_together\n",
      "c:\\Users\\mahsh\\Documents\\GitHub\\bugs-in-democracy\\team_arrow\\clean\\rcv_dimensionality.py:170: RuntimeWarning: divide by zero encountered in true_divide\n",
      "  distance = 1 / np.sqrt(freq_upper_triangle)\n",
      "C:\\Users\\mahsh\\AppData\\Local\\Temp\\ipykernel_21280\\541227406.py:69: FutureWarning: The frame.append method is deprecated and will be removed from pandas in a future version. Use pandas.concat instead.\n",
      "  winners = winners.append({'filename': filename, 'diff': diff, 'IRV1': irv1, 'Condorcet1': condorcet1,\n"
     ]
    },
    {
     "name": "stdout",
     "output_type": "stream",
     "text": [
      "Minneapolis_11022021_ParkBoardAtLarge.csv\n"
     ]
    },
    {
     "name": "stderr",
     "output_type": "stream",
     "text": [
      "c:\\Users\\mahsh\\Documents\\GitHub\\bugs-in-democracy\\team_arrow\\clean\\rcv_dimensionality.py:170: RuntimeWarning: divide by zero encountered in true_divide\n",
      "  distance = 1 / np.sqrt(freq_upper_triangle)\n"
     ]
    },
    {
     "name": "stdout",
     "output_type": "stream",
     "text": [
      "Minneapolis_11022021_ParkBoardDistrict1.csv\n"
     ]
    },
    {
     "name": "stderr",
     "output_type": "stream",
     "text": [
      "C:\\Users\\mahsh\\AppData\\Local\\Temp\\ipykernel_21280\\541227406.py:69: FutureWarning: The frame.append method is deprecated and will be removed from pandas in a future version. Use pandas.concat instead.\n",
      "  winners = winners.append({'filename': filename, 'diff': diff, 'IRV1': irv1, 'Condorcet1': condorcet1,\n"
     ]
    },
    {
     "name": "stdout",
     "output_type": "stream",
     "text": [
      "Minneapolis_11022021_ParkBoardDistrict1.csv  threw an error\n",
      "Minneapolis_11022021_ParkBoardDistrict2.csv\n"
     ]
    },
    {
     "name": "stderr",
     "output_type": "stream",
     "text": [
      "c:\\Users\\mahsh\\Documents\\GitHub\\bugs-in-democracy\\team_arrow\\clean\\rcv_dimensionality.py:170: RuntimeWarning: divide by zero encountered in true_divide\n",
      "  distance = 1 / np.sqrt(freq_upper_triangle)\n",
      "C:\\Users\\mahsh\\AppData\\Local\\Temp\\ipykernel_21280\\541227406.py:69: FutureWarning: The frame.append method is deprecated and will be removed from pandas in a future version. Use pandas.concat instead.\n",
      "  winners = winners.append({'filename': filename, 'diff': diff, 'IRV1': irv1, 'Condorcet1': condorcet1,\n"
     ]
    },
    {
     "name": "stdout",
     "output_type": "stream",
     "text": [
      "Minneapolis_11022021_ParkBoardDistrict3.csv\n"
     ]
    },
    {
     "name": "stderr",
     "output_type": "stream",
     "text": [
      "c:\\Users\\mahsh\\Documents\\GitHub\\bugs-in-democracy\\team_arrow\\clean\\rcv_dimensionality.py:170: RuntimeWarning: divide by zero encountered in true_divide\n",
      "  distance = 1 / np.sqrt(freq_upper_triangle)\n",
      "C:\\Users\\mahsh\\AppData\\Local\\Temp\\ipykernel_21280\\541227406.py:69: FutureWarning: The frame.append method is deprecated and will be removed from pandas in a future version. Use pandas.concat instead.\n",
      "  winners = winners.append({'filename': filename, 'diff': diff, 'IRV1': irv1, 'Condorcet1': condorcet1,\n"
     ]
    },
    {
     "name": "stdout",
     "output_type": "stream",
     "text": [
      "Minneapolis_11022021_ParkBoardDistrict4.csv\n"
     ]
    },
    {
     "name": "stderr",
     "output_type": "stream",
     "text": [
      "c:\\Users\\mahsh\\Documents\\GitHub\\bugs-in-democracy\\team_arrow\\clean\\rcv_dimensionality.py:170: RuntimeWarning: divide by zero encountered in true_divide\n",
      "  distance = 1 / np.sqrt(freq_upper_triangle)\n",
      "C:\\Users\\mahsh\\AppData\\Local\\Temp\\ipykernel_21280\\541227406.py:69: FutureWarning: The frame.append method is deprecated and will be removed from pandas in a future version. Use pandas.concat instead.\n",
      "  winners = winners.append({'filename': filename, 'diff': diff, 'IRV1': irv1, 'Condorcet1': condorcet1,\n"
     ]
    },
    {
     "name": "stdout",
     "output_type": "stream",
     "text": [
      "Minneapolis_11022021_ParkBoardDistrict5.csv\n"
     ]
    },
    {
     "name": "stderr",
     "output_type": "stream",
     "text": [
      "c:\\Users\\mahsh\\Documents\\GitHub\\bugs-in-democracy\\team_arrow\\clean\\rcv_dimensionality.py:170: RuntimeWarning: divide by zero encountered in true_divide\n",
      "  distance = 1 / np.sqrt(freq_upper_triangle)\n",
      "C:\\Users\\mahsh\\AppData\\Local\\Temp\\ipykernel_21280\\541227406.py:69: FutureWarning: The frame.append method is deprecated and will be removed from pandas in a future version. Use pandas.concat instead.\n",
      "  winners = winners.append({'filename': filename, 'diff': diff, 'IRV1': irv1, 'Condorcet1': condorcet1,\n"
     ]
    },
    {
     "name": "stdout",
     "output_type": "stream",
     "text": [
      "Minneapolis_11022021_ParkBoardDistrict6.csv\n"
     ]
    },
    {
     "name": "stderr",
     "output_type": "stream",
     "text": [
      "c:\\Users\\mahsh\\Documents\\GitHub\\bugs-in-democracy\\team_arrow\\clean\\rcv_dimensionality.py:170: RuntimeWarning: divide by zero encountered in true_divide\n",
      "  distance = 1 / np.sqrt(freq_upper_triangle)\n",
      "C:\\Users\\mahsh\\AppData\\Local\\Temp\\ipykernel_21280\\541227406.py:69: FutureWarning: The frame.append method is deprecated and will be removed from pandas in a future version. Use pandas.concat instead.\n",
      "  winners = winners.append({'filename': filename, 'diff': diff, 'IRV1': irv1, 'Condorcet1': condorcet1,\n"
     ]
    },
    {
     "name": "stdout",
     "output_type": "stream",
     "text": [
      "Minneapolis_11052013_Mayor.csv\n"
     ]
    },
    {
     "name": "stderr",
     "output_type": "stream",
     "text": [
      "c:\\Users\\mahsh\\Documents\\GitHub\\bugs-in-democracy\\team_arrow\\clean\\rcv_dimensionality.py:159: RuntimeWarning: divide by zero encountered in true_divide\n",
      "  frequencies = counts / mentioned_together\n",
      "c:\\Users\\mahsh\\Documents\\GitHub\\bugs-in-democracy\\team_arrow\\clean\\rcv_dimensionality.py:170: RuntimeWarning: divide by zero encountered in true_divide\n",
      "  distance = 1 / np.sqrt(freq_upper_triangle)\n",
      "C:\\Users\\mahsh\\AppData\\Local\\Temp\\ipykernel_21280\\541227406.py:69: FutureWarning: The frame.append method is deprecated and will be removed from pandas in a future version. Use pandas.concat instead.\n",
      "  winners = winners.append({'filename': filename, 'diff': diff, 'IRV1': irv1, 'Condorcet1': condorcet1,\n"
     ]
    },
    {
     "name": "stdout",
     "output_type": "stream",
     "text": [
      "Minneapolis_11052013_PRBoardDistrict2.csv\n"
     ]
    },
    {
     "name": "stderr",
     "output_type": "stream",
     "text": [
      "c:\\Users\\mahsh\\Documents\\GitHub\\bugs-in-democracy\\team_arrow\\clean\\rcv_dimensionality.py:170: RuntimeWarning: divide by zero encountered in true_divide\n",
      "  distance = 1 / np.sqrt(freq_upper_triangle)\n",
      "C:\\Users\\mahsh\\AppData\\Local\\Temp\\ipykernel_21280\\541227406.py:69: FutureWarning: The frame.append method is deprecated and will be removed from pandas in a future version. Use pandas.concat instead.\n",
      "  winners = winners.append({'filename': filename, 'diff': diff, 'IRV1': irv1, 'Condorcet1': condorcet1,\n"
     ]
    },
    {
     "name": "stdout",
     "output_type": "stream",
     "text": [
      "Minneapolis_11052013_PRBoardDistrict6.csv\n"
     ]
    },
    {
     "name": "stderr",
     "output_type": "stream",
     "text": [
      "c:\\Users\\mahsh\\Documents\\GitHub\\bugs-in-democracy\\team_arrow\\clean\\rcv_dimensionality.py:170: RuntimeWarning: divide by zero encountered in true_divide\n",
      "  distance = 1 / np.sqrt(freq_upper_triangle)\n",
      "C:\\Users\\mahsh\\AppData\\Local\\Temp\\ipykernel_21280\\541227406.py:69: FutureWarning: The frame.append method is deprecated and will be removed from pandas in a future version. Use pandas.concat instead.\n",
      "  winners = winners.append({'filename': filename, 'diff': diff, 'IRV1': irv1, 'Condorcet1': condorcet1,\n"
     ]
    },
    {
     "name": "stdout",
     "output_type": "stream",
     "text": [
      "Minneapolis_11052013_Ward13CityCouncil.csv\n"
     ]
    },
    {
     "name": "stderr",
     "output_type": "stream",
     "text": [
      "c:\\Users\\mahsh\\Documents\\GitHub\\bugs-in-democracy\\team_arrow\\clean\\rcv_dimensionality.py:170: RuntimeWarning: divide by zero encountered in true_divide\n",
      "  distance = 1 / np.sqrt(freq_upper_triangle)\n",
      "C:\\Users\\mahsh\\AppData\\Local\\Temp\\ipykernel_21280\\541227406.py:69: FutureWarning: The frame.append method is deprecated and will be removed from pandas in a future version. Use pandas.concat instead.\n",
      "  winners = winners.append({'filename': filename, 'diff': diff, 'IRV1': irv1, 'Condorcet1': condorcet1,\n"
     ]
    },
    {
     "name": "stdout",
     "output_type": "stream",
     "text": [
      "Minneapolis_11052013_Ward5CityCouncil.csv\n"
     ]
    },
    {
     "name": "stderr",
     "output_type": "stream",
     "text": [
      "c:\\Users\\mahsh\\Documents\\GitHub\\bugs-in-democracy\\team_arrow\\clean\\rcv_dimensionality.py:170: RuntimeWarning: divide by zero encountered in true_divide\n",
      "  distance = 1 / np.sqrt(freq_upper_triangle)\n",
      "C:\\Users\\mahsh\\AppData\\Local\\Temp\\ipykernel_21280\\541227406.py:69: FutureWarning: The frame.append method is deprecated and will be removed from pandas in a future version. Use pandas.concat instead.\n",
      "  winners = winners.append({'filename': filename, 'diff': diff, 'IRV1': irv1, 'Condorcet1': condorcet1,\n"
     ]
    },
    {
     "name": "stdout",
     "output_type": "stream",
     "text": [
      "Minneapolis_11052013_Ward9CityCouncil.csv\n"
     ]
    },
    {
     "name": "stderr",
     "output_type": "stream",
     "text": [
      "c:\\Users\\mahsh\\Documents\\GitHub\\bugs-in-democracy\\team_arrow\\clean\\rcv_dimensionality.py:170: RuntimeWarning: divide by zero encountered in true_divide\n",
      "  distance = 1 / np.sqrt(freq_upper_triangle)\n",
      "C:\\Users\\mahsh\\AppData\\Local\\Temp\\ipykernel_21280\\541227406.py:69: FutureWarning: The frame.append method is deprecated and will be removed from pandas in a future version. Use pandas.concat instead.\n",
      "  winners = winners.append({'filename': filename, 'diff': diff, 'IRV1': irv1, 'Condorcet1': condorcet1,\n"
     ]
    },
    {
     "name": "stdout",
     "output_type": "stream",
     "text": [
      "Minneapolis_11062009_Mayor.csv\n"
     ]
    },
    {
     "name": "stderr",
     "output_type": "stream",
     "text": [
      "c:\\Users\\mahsh\\Documents\\GitHub\\bugs-in-democracy\\team_arrow\\clean\\rcv_dimensionality.py:170: RuntimeWarning: divide by zero encountered in true_divide\n",
      "  distance = 1 / np.sqrt(freq_upper_triangle)\n",
      "C:\\Users\\mahsh\\AppData\\Local\\Temp\\ipykernel_21280\\541227406.py:69: FutureWarning: The frame.append method is deprecated and will be removed from pandas in a future version. Use pandas.concat instead.\n",
      "  winners = winners.append({'filename': filename, 'diff': diff, 'IRV1': irv1, 'Condorcet1': condorcet1,\n"
     ]
    },
    {
     "name": "stdout",
     "output_type": "stream",
     "text": [
      "Minneapolis_11062009_PRBoardDistrict1.csv\n"
     ]
    },
    {
     "name": "stderr",
     "output_type": "stream",
     "text": [
      "c:\\Users\\mahsh\\Documents\\GitHub\\bugs-in-democracy\\team_arrow\\clean\\rcv_dimensionality.py:170: RuntimeWarning: divide by zero encountered in true_divide\n",
      "  distance = 1 / np.sqrt(freq_upper_triangle)\n",
      "C:\\Users\\mahsh\\AppData\\Local\\Temp\\ipykernel_21280\\541227406.py:69: FutureWarning: The frame.append method is deprecated and will be removed from pandas in a future version. Use pandas.concat instead.\n",
      "  winners = winners.append({'filename': filename, 'diff': diff, 'IRV1': irv1, 'Condorcet1': condorcet1,\n"
     ]
    },
    {
     "name": "stdout",
     "output_type": "stream",
     "text": [
      "Minneapolis_11062009_PRBoardDistrict2.csv\n"
     ]
    },
    {
     "name": "stderr",
     "output_type": "stream",
     "text": [
      "c:\\Users\\mahsh\\Documents\\GitHub\\bugs-in-democracy\\team_arrow\\clean\\rcv_dimensionality.py:170: RuntimeWarning: divide by zero encountered in true_divide\n",
      "  distance = 1 / np.sqrt(freq_upper_triangle)\n",
      "C:\\Users\\mahsh\\AppData\\Local\\Temp\\ipykernel_21280\\541227406.py:69: FutureWarning: The frame.append method is deprecated and will be removed from pandas in a future version. Use pandas.concat instead.\n",
      "  winners = winners.append({'filename': filename, 'diff': diff, 'IRV1': irv1, 'Condorcet1': condorcet1,\n"
     ]
    },
    {
     "name": "stdout",
     "output_type": "stream",
     "text": [
      "Minneapolis_11062009_PRBoardDistrict3.csv\n"
     ]
    },
    {
     "name": "stderr",
     "output_type": "stream",
     "text": [
      "c:\\Users\\mahsh\\Documents\\GitHub\\bugs-in-democracy\\team_arrow\\clean\\rcv_dimensionality.py:170: RuntimeWarning: divide by zero encountered in true_divide\n",
      "  distance = 1 / np.sqrt(freq_upper_triangle)\n",
      "C:\\Users\\mahsh\\AppData\\Local\\Temp\\ipykernel_21280\\541227406.py:69: FutureWarning: The frame.append method is deprecated and will be removed from pandas in a future version. Use pandas.concat instead.\n",
      "  winners = winners.append({'filename': filename, 'diff': diff, 'IRV1': irv1, 'Condorcet1': condorcet1,\n"
     ]
    },
    {
     "name": "stdout",
     "output_type": "stream",
     "text": [
      "Minneapolis_11062009_PRBoardDistrict4.csv\n",
      "Minneapolis_11062009_PRBoardDistrict4.csv  threw an error\n",
      "Minneapolis_11062009_PRBoardDistrict5.csv\n"
     ]
    },
    {
     "name": "stderr",
     "output_type": "stream",
     "text": [
      "c:\\Users\\mahsh\\Documents\\GitHub\\bugs-in-democracy\\team_arrow\\clean\\rcv_dimensionality.py:170: RuntimeWarning: divide by zero encountered in true_divide\n",
      "  distance = 1 / np.sqrt(freq_upper_triangle)\n",
      "C:\\Users\\mahsh\\AppData\\Local\\Temp\\ipykernel_21280\\541227406.py:69: FutureWarning: The frame.append method is deprecated and will be removed from pandas in a future version. Use pandas.concat instead.\n",
      "  winners = winners.append({'filename': filename, 'diff': diff, 'IRV1': irv1, 'Condorcet1': condorcet1,\n"
     ]
    },
    {
     "name": "stdout",
     "output_type": "stream",
     "text": [
      "Minneapolis_11062009_PRBoardDistrict6.csv\n"
     ]
    },
    {
     "name": "stderr",
     "output_type": "stream",
     "text": [
      "c:\\Users\\mahsh\\Documents\\GitHub\\bugs-in-democracy\\team_arrow\\clean\\rcv_dimensionality.py:170: RuntimeWarning: divide by zero encountered in true_divide\n",
      "  distance = 1 / np.sqrt(freq_upper_triangle)\n",
      "C:\\Users\\mahsh\\AppData\\Local\\Temp\\ipykernel_21280\\541227406.py:69: FutureWarning: The frame.append method is deprecated and will be removed from pandas in a future version. Use pandas.concat instead.\n",
      "  winners = winners.append({'filename': filename, 'diff': diff, 'IRV1': irv1, 'Condorcet1': condorcet1,\n"
     ]
    },
    {
     "name": "stdout",
     "output_type": "stream",
     "text": [
      "Minneapolis_11062009_Ward10CityCouncil.csv\n"
     ]
    },
    {
     "name": "stderr",
     "output_type": "stream",
     "text": [
      "c:\\Users\\mahsh\\Documents\\GitHub\\bugs-in-democracy\\team_arrow\\clean\\rcv_dimensionality.py:170: RuntimeWarning: divide by zero encountered in true_divide\n",
      "  distance = 1 / np.sqrt(freq_upper_triangle)\n",
      "C:\\Users\\mahsh\\AppData\\Local\\Temp\\ipykernel_21280\\541227406.py:69: FutureWarning: The frame.append method is deprecated and will be removed from pandas in a future version. Use pandas.concat instead.\n",
      "  winners = winners.append({'filename': filename, 'diff': diff, 'IRV1': irv1, 'Condorcet1': condorcet1,\n"
     ]
    },
    {
     "name": "stdout",
     "output_type": "stream",
     "text": [
      "Minneapolis_11062009_Ward11CityCouncil.csv\n"
     ]
    },
    {
     "name": "stderr",
     "output_type": "stream",
     "text": [
      "c:\\Users\\mahsh\\Documents\\GitHub\\bugs-in-democracy\\team_arrow\\clean\\rcv_dimensionality.py:170: RuntimeWarning: divide by zero encountered in true_divide\n",
      "  distance = 1 / np.sqrt(freq_upper_triangle)\n",
      "C:\\Users\\mahsh\\AppData\\Local\\Temp\\ipykernel_21280\\541227406.py:69: FutureWarning: The frame.append method is deprecated and will be removed from pandas in a future version. Use pandas.concat instead.\n",
      "  winners = winners.append({'filename': filename, 'diff': diff, 'IRV1': irv1, 'Condorcet1': condorcet1,\n"
     ]
    },
    {
     "name": "stdout",
     "output_type": "stream",
     "text": [
      "Minneapolis_11062009_Ward12CityCouncil.csv\n"
     ]
    },
    {
     "name": "stderr",
     "output_type": "stream",
     "text": [
      "c:\\Users\\mahsh\\Documents\\GitHub\\bugs-in-democracy\\team_arrow\\clean\\rcv_dimensionality.py:170: RuntimeWarning: divide by zero encountered in true_divide\n",
      "  distance = 1 / np.sqrt(freq_upper_triangle)\n",
      "C:\\Users\\mahsh\\AppData\\Local\\Temp\\ipykernel_21280\\541227406.py:69: FutureWarning: The frame.append method is deprecated and will be removed from pandas in a future version. Use pandas.concat instead.\n",
      "  winners = winners.append({'filename': filename, 'diff': diff, 'IRV1': irv1, 'Condorcet1': condorcet1,\n"
     ]
    },
    {
     "name": "stdout",
     "output_type": "stream",
     "text": [
      "Minneapolis_11062009_Ward13CityCouncil.csv\n"
     ]
    },
    {
     "name": "stderr",
     "output_type": "stream",
     "text": [
      "c:\\Users\\mahsh\\Documents\\GitHub\\bugs-in-democracy\\team_arrow\\clean\\rcv_dimensionality.py:170: RuntimeWarning: divide by zero encountered in true_divide\n",
      "  distance = 1 / np.sqrt(freq_upper_triangle)\n",
      "C:\\Users\\mahsh\\AppData\\Local\\Temp\\ipykernel_21280\\541227406.py:69: FutureWarning: The frame.append method is deprecated and will be removed from pandas in a future version. Use pandas.concat instead.\n",
      "  winners = winners.append({'filename': filename, 'diff': diff, 'IRV1': irv1, 'Condorcet1': condorcet1,\n"
     ]
    },
    {
     "name": "stdout",
     "output_type": "stream",
     "text": [
      "Minneapolis_11062009_Ward1CityCouncil.csv\n"
     ]
    },
    {
     "name": "stderr",
     "output_type": "stream",
     "text": [
      "c:\\Users\\mahsh\\Documents\\GitHub\\bugs-in-democracy\\team_arrow\\clean\\rcv_dimensionality.py:170: RuntimeWarning: divide by zero encountered in true_divide\n",
      "  distance = 1 / np.sqrt(freq_upper_triangle)\n",
      "C:\\Users\\mahsh\\AppData\\Local\\Temp\\ipykernel_21280\\541227406.py:69: FutureWarning: The frame.append method is deprecated and will be removed from pandas in a future version. Use pandas.concat instead.\n",
      "  winners = winners.append({'filename': filename, 'diff': diff, 'IRV1': irv1, 'Condorcet1': condorcet1,\n"
     ]
    },
    {
     "name": "stdout",
     "output_type": "stream",
     "text": [
      "Minneapolis_11062009_Ward2CityCouncil.csv\n"
     ]
    },
    {
     "name": "stderr",
     "output_type": "stream",
     "text": [
      "c:\\Users\\mahsh\\Documents\\GitHub\\bugs-in-democracy\\team_arrow\\clean\\rcv_dimensionality.py:170: RuntimeWarning: divide by zero encountered in true_divide\n",
      "  distance = 1 / np.sqrt(freq_upper_triangle)\n",
      "C:\\Users\\mahsh\\AppData\\Local\\Temp\\ipykernel_21280\\541227406.py:69: FutureWarning: The frame.append method is deprecated and will be removed from pandas in a future version. Use pandas.concat instead.\n",
      "  winners = winners.append({'filename': filename, 'diff': diff, 'IRV1': irv1, 'Condorcet1': condorcet1,\n"
     ]
    },
    {
     "name": "stdout",
     "output_type": "stream",
     "text": [
      "Minneapolis_11062009_Ward3CityCouncil.csv\n"
     ]
    },
    {
     "name": "stderr",
     "output_type": "stream",
     "text": [
      "c:\\Users\\mahsh\\Documents\\GitHub\\bugs-in-democracy\\team_arrow\\clean\\rcv_dimensionality.py:170: RuntimeWarning: divide by zero encountered in true_divide\n",
      "  distance = 1 / np.sqrt(freq_upper_triangle)\n",
      "C:\\Users\\mahsh\\AppData\\Local\\Temp\\ipykernel_21280\\541227406.py:69: FutureWarning: The frame.append method is deprecated and will be removed from pandas in a future version. Use pandas.concat instead.\n",
      "  winners = winners.append({'filename': filename, 'diff': diff, 'IRV1': irv1, 'Condorcet1': condorcet1,\n"
     ]
    },
    {
     "name": "stdout",
     "output_type": "stream",
     "text": [
      "Minneapolis_11062009_Ward4CityCouncil.csv\n"
     ]
    },
    {
     "name": "stderr",
     "output_type": "stream",
     "text": [
      "c:\\Users\\mahsh\\Documents\\GitHub\\bugs-in-democracy\\team_arrow\\clean\\rcv_dimensionality.py:170: RuntimeWarning: divide by zero encountered in true_divide\n",
      "  distance = 1 / np.sqrt(freq_upper_triangle)\n",
      "C:\\Users\\mahsh\\AppData\\Local\\Temp\\ipykernel_21280\\541227406.py:69: FutureWarning: The frame.append method is deprecated and will be removed from pandas in a future version. Use pandas.concat instead.\n",
      "  winners = winners.append({'filename': filename, 'diff': diff, 'IRV1': irv1, 'Condorcet1': condorcet1,\n"
     ]
    },
    {
     "name": "stdout",
     "output_type": "stream",
     "text": [
      "Minneapolis_11062009_Ward5CityCouncil.csv\n"
     ]
    },
    {
     "name": "stderr",
     "output_type": "stream",
     "text": [
      "c:\\Users\\mahsh\\Documents\\GitHub\\bugs-in-democracy\\team_arrow\\clean\\rcv_dimensionality.py:170: RuntimeWarning: divide by zero encountered in true_divide\n",
      "  distance = 1 / np.sqrt(freq_upper_triangle)\n",
      "C:\\Users\\mahsh\\AppData\\Local\\Temp\\ipykernel_21280\\541227406.py:69: FutureWarning: The frame.append method is deprecated and will be removed from pandas in a future version. Use pandas.concat instead.\n",
      "  winners = winners.append({'filename': filename, 'diff': diff, 'IRV1': irv1, 'Condorcet1': condorcet1,\n"
     ]
    },
    {
     "name": "stdout",
     "output_type": "stream",
     "text": [
      "Minneapolis_11062009_Ward6CityCouncil.csv\n"
     ]
    },
    {
     "name": "stderr",
     "output_type": "stream",
     "text": [
      "c:\\Users\\mahsh\\Documents\\GitHub\\bugs-in-democracy\\team_arrow\\clean\\rcv_dimensionality.py:170: RuntimeWarning: divide by zero encountered in true_divide\n",
      "  distance = 1 / np.sqrt(freq_upper_triangle)\n",
      "C:\\Users\\mahsh\\AppData\\Local\\Temp\\ipykernel_21280\\541227406.py:69: FutureWarning: The frame.append method is deprecated and will be removed from pandas in a future version. Use pandas.concat instead.\n",
      "  winners = winners.append({'filename': filename, 'diff': diff, 'IRV1': irv1, 'Condorcet1': condorcet1,\n"
     ]
    },
    {
     "name": "stdout",
     "output_type": "stream",
     "text": [
      "Minneapolis_11062009_Ward7CityCouncil.csv\n"
     ]
    },
    {
     "name": "stderr",
     "output_type": "stream",
     "text": [
      "c:\\Users\\mahsh\\Documents\\GitHub\\bugs-in-democracy\\team_arrow\\clean\\rcv_dimensionality.py:170: RuntimeWarning: divide by zero encountered in true_divide\n",
      "  distance = 1 / np.sqrt(freq_upper_triangle)\n",
      "C:\\Users\\mahsh\\AppData\\Local\\Temp\\ipykernel_21280\\541227406.py:69: FutureWarning: The frame.append method is deprecated and will be removed from pandas in a future version. Use pandas.concat instead.\n",
      "  winners = winners.append({'filename': filename, 'diff': diff, 'IRV1': irv1, 'Condorcet1': condorcet1,\n"
     ]
    },
    {
     "name": "stdout",
     "output_type": "stream",
     "text": [
      "Minneapolis_11062009_Ward8CityCouncil.csv\n"
     ]
    },
    {
     "name": "stderr",
     "output_type": "stream",
     "text": [
      "c:\\Users\\mahsh\\Documents\\GitHub\\bugs-in-democracy\\team_arrow\\clean\\rcv_dimensionality.py:170: RuntimeWarning: divide by zero encountered in true_divide\n",
      "  distance = 1 / np.sqrt(freq_upper_triangle)\n",
      "C:\\Users\\mahsh\\AppData\\Local\\Temp\\ipykernel_21280\\541227406.py:69: FutureWarning: The frame.append method is deprecated and will be removed from pandas in a future version. Use pandas.concat instead.\n",
      "  winners = winners.append({'filename': filename, 'diff': diff, 'IRV1': irv1, 'Condorcet1': condorcet1,\n"
     ]
    },
    {
     "name": "stdout",
     "output_type": "stream",
     "text": [
      "Minneapolis_11062009_Ward9CityCouncil.csv\n"
     ]
    },
    {
     "name": "stderr",
     "output_type": "stream",
     "text": [
      "c:\\Users\\mahsh\\Documents\\GitHub\\bugs-in-democracy\\team_arrow\\clean\\rcv_dimensionality.py:170: RuntimeWarning: divide by zero encountered in true_divide\n",
      "  distance = 1 / np.sqrt(freq_upper_triangle)\n",
      "C:\\Users\\mahsh\\AppData\\Local\\Temp\\ipykernel_21280\\541227406.py:69: FutureWarning: The frame.append method is deprecated and will be removed from pandas in a future version. Use pandas.concat instead.\n",
      "  winners = winners.append({'filename': filename, 'diff': diff, 'IRV1': irv1, 'Condorcet1': condorcet1,\n"
     ]
    },
    {
     "name": "stdout",
     "output_type": "stream",
     "text": [
      "Minneapolis_11072017_Mayor.csv\n"
     ]
    },
    {
     "name": "stderr",
     "output_type": "stream",
     "text": [
      "c:\\Users\\mahsh\\Documents\\GitHub\\bugs-in-democracy\\team_arrow\\clean\\rcv_dimensionality.py:159: RuntimeWarning: divide by zero encountered in true_divide\n",
      "  frequencies = counts / mentioned_together\n",
      "c:\\Users\\mahsh\\Documents\\GitHub\\bugs-in-democracy\\team_arrow\\clean\\rcv_dimensionality.py:159: RuntimeWarning: invalid value encountered in true_divide\n",
      "  frequencies = counts / mentioned_together\n",
      "c:\\Users\\mahsh\\Documents\\GitHub\\bugs-in-democracy\\team_arrow\\clean\\rcv_dimensionality.py:170: RuntimeWarning: divide by zero encountered in true_divide\n",
      "  distance = 1 / np.sqrt(freq_upper_triangle)\n"
     ]
    },
    {
     "name": "stdout",
     "output_type": "stream",
     "text": [
      "Minneapolis_11072017_Mayor.csv  threw an error\n",
      "Minneapolis_11072017_PRBoardDistrict1.csv\n"
     ]
    },
    {
     "name": "stderr",
     "output_type": "stream",
     "text": [
      "c:\\Users\\mahsh\\Documents\\GitHub\\bugs-in-democracy\\team_arrow\\clean\\rcv_dimensionality.py:170: RuntimeWarning: divide by zero encountered in true_divide\n",
      "  distance = 1 / np.sqrt(freq_upper_triangle)\n",
      "C:\\Users\\mahsh\\AppData\\Local\\Temp\\ipykernel_21280\\541227406.py:69: FutureWarning: The frame.append method is deprecated and will be removed from pandas in a future version. Use pandas.concat instead.\n",
      "  winners = winners.append({'filename': filename, 'diff': diff, 'IRV1': irv1, 'Condorcet1': condorcet1,\n"
     ]
    },
    {
     "name": "stdout",
     "output_type": "stream",
     "text": [
      "Minneapolis_11072017_PRBoardDistrict2.csv\n"
     ]
    },
    {
     "name": "stderr",
     "output_type": "stream",
     "text": [
      "c:\\Users\\mahsh\\Documents\\GitHub\\bugs-in-democracy\\team_arrow\\clean\\rcv_dimensionality.py:170: RuntimeWarning: divide by zero encountered in true_divide\n",
      "  distance = 1 / np.sqrt(freq_upper_triangle)\n",
      "C:\\Users\\mahsh\\AppData\\Local\\Temp\\ipykernel_21280\\541227406.py:69: FutureWarning: The frame.append method is deprecated and will be removed from pandas in a future version. Use pandas.concat instead.\n",
      "  winners = winners.append({'filename': filename, 'diff': diff, 'IRV1': irv1, 'Condorcet1': condorcet1,\n"
     ]
    },
    {
     "name": "stdout",
     "output_type": "stream",
     "text": [
      "Minneapolis_11072017_PRBoardDistrict3.csv\n"
     ]
    },
    {
     "name": "stderr",
     "output_type": "stream",
     "text": [
      "c:\\Users\\mahsh\\Documents\\GitHub\\bugs-in-democracy\\team_arrow\\clean\\rcv_dimensionality.py:170: RuntimeWarning: divide by zero encountered in true_divide\n",
      "  distance = 1 / np.sqrt(freq_upper_triangle)\n",
      "C:\\Users\\mahsh\\AppData\\Local\\Temp\\ipykernel_21280\\541227406.py:69: FutureWarning: The frame.append method is deprecated and will be removed from pandas in a future version. Use pandas.concat instead.\n",
      "  winners = winners.append({'filename': filename, 'diff': diff, 'IRV1': irv1, 'Condorcet1': condorcet1,\n"
     ]
    },
    {
     "name": "stdout",
     "output_type": "stream",
     "text": [
      "Minneapolis_11072017_PRBoardDistrict4.csv\n"
     ]
    },
    {
     "name": "stderr",
     "output_type": "stream",
     "text": [
      "c:\\Users\\mahsh\\Documents\\GitHub\\bugs-in-democracy\\team_arrow\\clean\\rcv_dimensionality.py:170: RuntimeWarning: divide by zero encountered in true_divide\n",
      "  distance = 1 / np.sqrt(freq_upper_triangle)\n",
      "C:\\Users\\mahsh\\AppData\\Local\\Temp\\ipykernel_21280\\541227406.py:69: FutureWarning: The frame.append method is deprecated and will be removed from pandas in a future version. Use pandas.concat instead.\n",
      "  winners = winners.append({'filename': filename, 'diff': diff, 'IRV1': irv1, 'Condorcet1': condorcet1,\n"
     ]
    },
    {
     "name": "stdout",
     "output_type": "stream",
     "text": [
      "Minneapolis_11072017_PRBoardDistrict5.csv\n"
     ]
    },
    {
     "name": "stderr",
     "output_type": "stream",
     "text": [
      "c:\\Users\\mahsh\\Documents\\GitHub\\bugs-in-democracy\\team_arrow\\clean\\rcv_dimensionality.py:170: RuntimeWarning: divide by zero encountered in true_divide\n",
      "  distance = 1 / np.sqrt(freq_upper_triangle)\n",
      "C:\\Users\\mahsh\\AppData\\Local\\Temp\\ipykernel_21280\\541227406.py:69: FutureWarning: The frame.append method is deprecated and will be removed from pandas in a future version. Use pandas.concat instead.\n",
      "  winners = winners.append({'filename': filename, 'diff': diff, 'IRV1': irv1, 'Condorcet1': condorcet1,\n"
     ]
    },
    {
     "name": "stdout",
     "output_type": "stream",
     "text": [
      "Minneapolis_11072017_PRBoardDistrict6.csv\n"
     ]
    },
    {
     "name": "stderr",
     "output_type": "stream",
     "text": [
      "c:\\Users\\mahsh\\Documents\\GitHub\\bugs-in-democracy\\team_arrow\\clean\\rcv_dimensionality.py:170: RuntimeWarning: divide by zero encountered in true_divide\n",
      "  distance = 1 / np.sqrt(freq_upper_triangle)\n",
      "C:\\Users\\mahsh\\AppData\\Local\\Temp\\ipykernel_21280\\541227406.py:69: FutureWarning: The frame.append method is deprecated and will be removed from pandas in a future version. Use pandas.concat instead.\n",
      "  winners = winners.append({'filename': filename, 'diff': diff, 'IRV1': irv1, 'Condorcet1': condorcet1,\n"
     ]
    },
    {
     "name": "stdout",
     "output_type": "stream",
     "text": [
      "Minneapolis_11072017_Ward10CityCouncil.csv\n"
     ]
    },
    {
     "name": "stderr",
     "output_type": "stream",
     "text": [
      "c:\\Users\\mahsh\\Documents\\GitHub\\bugs-in-democracy\\team_arrow\\clean\\rcv_dimensionality.py:170: RuntimeWarning: divide by zero encountered in true_divide\n",
      "  distance = 1 / np.sqrt(freq_upper_triangle)\n",
      "C:\\Users\\mahsh\\AppData\\Local\\Temp\\ipykernel_21280\\541227406.py:69: FutureWarning: The frame.append method is deprecated and will be removed from pandas in a future version. Use pandas.concat instead.\n",
      "  winners = winners.append({'filename': filename, 'diff': diff, 'IRV1': irv1, 'Condorcet1': condorcet1,\n"
     ]
    },
    {
     "name": "stdout",
     "output_type": "stream",
     "text": [
      "Minneapolis_11072017_Ward11CityCouncil.csv\n"
     ]
    },
    {
     "name": "stderr",
     "output_type": "stream",
     "text": [
      "c:\\Users\\mahsh\\Documents\\GitHub\\bugs-in-democracy\\team_arrow\\clean\\rcv_dimensionality.py:170: RuntimeWarning: divide by zero encountered in true_divide\n",
      "  distance = 1 / np.sqrt(freq_upper_triangle)\n",
      "C:\\Users\\mahsh\\AppData\\Local\\Temp\\ipykernel_21280\\541227406.py:69: FutureWarning: The frame.append method is deprecated and will be removed from pandas in a future version. Use pandas.concat instead.\n",
      "  winners = winners.append({'filename': filename, 'diff': diff, 'IRV1': irv1, 'Condorcet1': condorcet1,\n"
     ]
    },
    {
     "name": "stdout",
     "output_type": "stream",
     "text": [
      "Minneapolis_11072017_Ward12CityCouncil.csv\n"
     ]
    },
    {
     "name": "stderr",
     "output_type": "stream",
     "text": [
      "c:\\Users\\mahsh\\Documents\\GitHub\\bugs-in-democracy\\team_arrow\\clean\\rcv_dimensionality.py:170: RuntimeWarning: divide by zero encountered in true_divide\n",
      "  distance = 1 / np.sqrt(freq_upper_triangle)\n",
      "C:\\Users\\mahsh\\AppData\\Local\\Temp\\ipykernel_21280\\541227406.py:69: FutureWarning: The frame.append method is deprecated and will be removed from pandas in a future version. Use pandas.concat instead.\n",
      "  winners = winners.append({'filename': filename, 'diff': diff, 'IRV1': irv1, 'Condorcet1': condorcet1,\n"
     ]
    },
    {
     "name": "stdout",
     "output_type": "stream",
     "text": [
      "Minneapolis_11072017_Ward13CityCouncil.csv\n"
     ]
    },
    {
     "name": "stderr",
     "output_type": "stream",
     "text": [
      "c:\\Users\\mahsh\\Documents\\GitHub\\bugs-in-democracy\\team_arrow\\clean\\rcv_dimensionality.py:170: RuntimeWarning: divide by zero encountered in true_divide\n",
      "  distance = 1 / np.sqrt(freq_upper_triangle)\n",
      "C:\\Users\\mahsh\\AppData\\Local\\Temp\\ipykernel_21280\\541227406.py:69: FutureWarning: The frame.append method is deprecated and will be removed from pandas in a future version. Use pandas.concat instead.\n",
      "  winners = winners.append({'filename': filename, 'diff': diff, 'IRV1': irv1, 'Condorcet1': condorcet1,\n"
     ]
    },
    {
     "name": "stdout",
     "output_type": "stream",
     "text": [
      "Minneapolis_11072017_Ward1CityCouncil.csv\n"
     ]
    },
    {
     "name": "stderr",
     "output_type": "stream",
     "text": [
      "c:\\Users\\mahsh\\Documents\\GitHub\\bugs-in-democracy\\team_arrow\\clean\\rcv_dimensionality.py:170: RuntimeWarning: divide by zero encountered in true_divide\n",
      "  distance = 1 / np.sqrt(freq_upper_triangle)\n",
      "C:\\Users\\mahsh\\AppData\\Local\\Temp\\ipykernel_21280\\541227406.py:69: FutureWarning: The frame.append method is deprecated and will be removed from pandas in a future version. Use pandas.concat instead.\n",
      "  winners = winners.append({'filename': filename, 'diff': diff, 'IRV1': irv1, 'Condorcet1': condorcet1,\n"
     ]
    },
    {
     "name": "stdout",
     "output_type": "stream",
     "text": [
      "Minneapolis_11072017_Ward2CityCouncil.csv\n",
      "Minneapolis_11072017_Ward2CityCouncil.csv  threw an error\n",
      "Minneapolis_11072017_Ward3CityCouncil.csv\n"
     ]
    },
    {
     "name": "stderr",
     "output_type": "stream",
     "text": [
      "c:\\Users\\mahsh\\Documents\\GitHub\\bugs-in-democracy\\team_arrow\\clean\\rcv_dimensionality.py:170: RuntimeWarning: divide by zero encountered in true_divide\n",
      "  distance = 1 / np.sqrt(freq_upper_triangle)\n",
      "C:\\Users\\mahsh\\AppData\\Local\\Temp\\ipykernel_21280\\541227406.py:69: FutureWarning: The frame.append method is deprecated and will be removed from pandas in a future version. Use pandas.concat instead.\n",
      "  winners = winners.append({'filename': filename, 'diff': diff, 'IRV1': irv1, 'Condorcet1': condorcet1,\n"
     ]
    },
    {
     "name": "stdout",
     "output_type": "stream",
     "text": [
      "Minneapolis_11072017_Ward4CityCouncil.csv\n"
     ]
    },
    {
     "name": "stderr",
     "output_type": "stream",
     "text": [
      "c:\\Users\\mahsh\\Documents\\GitHub\\bugs-in-democracy\\team_arrow\\clean\\rcv_dimensionality.py:170: RuntimeWarning: divide by zero encountered in true_divide\n",
      "  distance = 1 / np.sqrt(freq_upper_triangle)\n",
      "C:\\Users\\mahsh\\AppData\\Local\\Temp\\ipykernel_21280\\541227406.py:69: FutureWarning: The frame.append method is deprecated and will be removed from pandas in a future version. Use pandas.concat instead.\n",
      "  winners = winners.append({'filename': filename, 'diff': diff, 'IRV1': irv1, 'Condorcet1': condorcet1,\n"
     ]
    },
    {
     "name": "stdout",
     "output_type": "stream",
     "text": [
      "Minneapolis_11072017_Ward5CityCouncil.csv\n"
     ]
    },
    {
     "name": "stderr",
     "output_type": "stream",
     "text": [
      "c:\\Users\\mahsh\\Documents\\GitHub\\bugs-in-democracy\\team_arrow\\clean\\rcv_dimensionality.py:170: RuntimeWarning: divide by zero encountered in true_divide\n",
      "  distance = 1 / np.sqrt(freq_upper_triangle)\n",
      "C:\\Users\\mahsh\\AppData\\Local\\Temp\\ipykernel_21280\\541227406.py:69: FutureWarning: The frame.append method is deprecated and will be removed from pandas in a future version. Use pandas.concat instead.\n",
      "  winners = winners.append({'filename': filename, 'diff': diff, 'IRV1': irv1, 'Condorcet1': condorcet1,\n"
     ]
    },
    {
     "name": "stdout",
     "output_type": "stream",
     "text": [
      "Minneapolis_11072017_Ward6CityCouncil.csv\n"
     ]
    },
    {
     "name": "stderr",
     "output_type": "stream",
     "text": [
      "c:\\Users\\mahsh\\Documents\\GitHub\\bugs-in-democracy\\team_arrow\\clean\\rcv_dimensionality.py:170: RuntimeWarning: divide by zero encountered in true_divide\n",
      "  distance = 1 / np.sqrt(freq_upper_triangle)\n",
      "C:\\Users\\mahsh\\AppData\\Local\\Temp\\ipykernel_21280\\541227406.py:69: FutureWarning: The frame.append method is deprecated and will be removed from pandas in a future version. Use pandas.concat instead.\n",
      "  winners = winners.append({'filename': filename, 'diff': diff, 'IRV1': irv1, 'Condorcet1': condorcet1,\n"
     ]
    },
    {
     "name": "stdout",
     "output_type": "stream",
     "text": [
      "Minneapolis_11072017_Ward7CityCouncil.csv\n"
     ]
    },
    {
     "name": "stderr",
     "output_type": "stream",
     "text": [
      "c:\\Users\\mahsh\\Documents\\GitHub\\bugs-in-democracy\\team_arrow\\clean\\rcv_dimensionality.py:170: RuntimeWarning: divide by zero encountered in true_divide\n",
      "  distance = 1 / np.sqrt(freq_upper_triangle)\n",
      "C:\\Users\\mahsh\\AppData\\Local\\Temp\\ipykernel_21280\\541227406.py:69: FutureWarning: The frame.append method is deprecated and will be removed from pandas in a future version. Use pandas.concat instead.\n",
      "  winners = winners.append({'filename': filename, 'diff': diff, 'IRV1': irv1, 'Condorcet1': condorcet1,\n"
     ]
    },
    {
     "name": "stdout",
     "output_type": "stream",
     "text": [
      "Minneapolis_11072017_Ward8CityCouncil.csv\n"
     ]
    },
    {
     "name": "stderr",
     "output_type": "stream",
     "text": [
      "c:\\Users\\mahsh\\Documents\\GitHub\\bugs-in-democracy\\team_arrow\\clean\\rcv_dimensionality.py:170: RuntimeWarning: divide by zero encountered in true_divide\n",
      "  distance = 1 / np.sqrt(freq_upper_triangle)\n",
      "C:\\Users\\mahsh\\AppData\\Local\\Temp\\ipykernel_21280\\541227406.py:69: FutureWarning: The frame.append method is deprecated and will be removed from pandas in a future version. Use pandas.concat instead.\n",
      "  winners = winners.append({'filename': filename, 'diff': diff, 'IRV1': irv1, 'Condorcet1': condorcet1,\n"
     ]
    },
    {
     "name": "stdout",
     "output_type": "stream",
     "text": [
      "Minneapolis_11072017_Ward9CityCouncil.csv\n"
     ]
    },
    {
     "name": "stderr",
     "output_type": "stream",
     "text": [
      "c:\\Users\\mahsh\\Documents\\GitHub\\bugs-in-democracy\\team_arrow\\clean\\rcv_dimensionality.py:170: RuntimeWarning: divide by zero encountered in true_divide\n",
      "  distance = 1 / np.sqrt(freq_upper_triangle)\n",
      "C:\\Users\\mahsh\\AppData\\Local\\Temp\\ipykernel_21280\\541227406.py:69: FutureWarning: The frame.append method is deprecated and will be removed from pandas in a future version. Use pandas.concat instead.\n",
      "  winners = winners.append({'filename': filename, 'diff': diff, 'IRV1': irv1, 'Condorcet1': condorcet1,\n"
     ]
    },
    {
     "name": "stdout",
     "output_type": "stream",
     "text": [
      "Minnetonka_11022021_CityCouncilAtLargeSeatA.csv\n"
     ]
    },
    {
     "name": "stderr",
     "output_type": "stream",
     "text": [
      "c:\\Users\\mahsh\\Documents\\GitHub\\bugs-in-democracy\\team_arrow\\clean\\rcv_dimensionality.py:170: RuntimeWarning: divide by zero encountered in true_divide\n",
      "  distance = 1 / np.sqrt(freq_upper_triangle)\n",
      "C:\\Users\\mahsh\\AppData\\Local\\Temp\\ipykernel_21280\\541227406.py:69: FutureWarning: The frame.append method is deprecated and will be removed from pandas in a future version. Use pandas.concat instead.\n",
      "  winners = winners.append({'filename': filename, 'diff': diff, 'IRV1': irv1, 'Condorcet1': condorcet1,\n"
     ]
    },
    {
     "name": "stdout",
     "output_type": "stream",
     "text": [
      "Minnetonka_11022021_CityCouncilAtLargeSeatB.csv\n"
     ]
    },
    {
     "name": "stderr",
     "output_type": "stream",
     "text": [
      "c:\\Users\\mahsh\\Documents\\GitHub\\bugs-in-democracy\\team_arrow\\clean\\rcv_dimensionality.py:170: RuntimeWarning: divide by zero encountered in true_divide\n",
      "  distance = 1 / np.sqrt(freq_upper_triangle)\n",
      "C:\\Users\\mahsh\\AppData\\Local\\Temp\\ipykernel_21280\\541227406.py:69: FutureWarning: The frame.append method is deprecated and will be removed from pandas in a future version. Use pandas.concat instead.\n",
      "  winners = winners.append({'filename': filename, 'diff': diff, 'IRV1': irv1, 'Condorcet1': condorcet1,\n"
     ]
    },
    {
     "name": "stdout",
     "output_type": "stream",
     "text": [
      "Minnetonka_11022021_Mayor.csv\n"
     ]
    },
    {
     "name": "stderr",
     "output_type": "stream",
     "text": [
      "c:\\Users\\mahsh\\Documents\\GitHub\\bugs-in-democracy\\team_arrow\\clean\\rcv_dimensionality.py:170: RuntimeWarning: divide by zero encountered in true_divide\n",
      "  distance = 1 / np.sqrt(freq_upper_triangle)\n",
      "C:\\Users\\mahsh\\AppData\\Local\\Temp\\ipykernel_21280\\541227406.py:69: FutureWarning: The frame.append method is deprecated and will be removed from pandas in a future version. Use pandas.concat instead.\n",
      "  winners = winners.append({'filename': filename, 'diff': diff, 'IRV1': irv1, 'Condorcet1': condorcet1,\n"
     ]
    },
    {
     "name": "stdout",
     "output_type": "stream",
     "text": [
      "NewYorkCity_06222021_CONCouncilMember19thCouncilDistrict.csv\n"
     ]
    },
    {
     "name": "stderr",
     "output_type": "stream",
     "text": [
      "c:\\Users\\mahsh\\Documents\\GitHub\\bugs-in-democracy\\team_arrow\\clean\\rcv_dimensionality.py:170: RuntimeWarning: divide by zero encountered in true_divide\n",
      "  distance = 1 / np.sqrt(freq_upper_triangle)\n",
      "C:\\Users\\mahsh\\AppData\\Local\\Temp\\ipykernel_21280\\541227406.py:69: FutureWarning: The frame.append method is deprecated and will be removed from pandas in a future version. Use pandas.concat instead.\n",
      "  winners = winners.append({'filename': filename, 'diff': diff, 'IRV1': irv1, 'Condorcet1': condorcet1,\n"
     ]
    },
    {
     "name": "stdout",
     "output_type": "stream",
     "text": [
      "NewYorkCity_06222021_DEMBoroughPresidentBronx.csv\n"
     ]
    },
    {
     "name": "stderr",
     "output_type": "stream",
     "text": [
      "c:\\Users\\mahsh\\Documents\\GitHub\\bugs-in-democracy\\team_arrow\\clean\\rcv_dimensionality.py:170: RuntimeWarning: divide by zero encountered in true_divide\n",
      "  distance = 1 / np.sqrt(freq_upper_triangle)\n",
      "C:\\Users\\mahsh\\AppData\\Local\\Temp\\ipykernel_21280\\541227406.py:69: FutureWarning: The frame.append method is deprecated and will be removed from pandas in a future version. Use pandas.concat instead.\n",
      "  winners = winners.append({'filename': filename, 'diff': diff, 'IRV1': irv1, 'Condorcet1': condorcet1,\n"
     ]
    },
    {
     "name": "stdout",
     "output_type": "stream",
     "text": [
      "NewYorkCity_06222021_DEMBoroughPresidentKings.csv\n"
     ]
    },
    {
     "name": "stderr",
     "output_type": "stream",
     "text": [
      "c:\\Users\\mahsh\\Documents\\GitHub\\bugs-in-democracy\\team_arrow\\clean\\rcv_dimensionality.py:170: RuntimeWarning: divide by zero encountered in true_divide\n",
      "  distance = 1 / np.sqrt(freq_upper_triangle)\n",
      "C:\\Users\\mahsh\\AppData\\Local\\Temp\\ipykernel_21280\\541227406.py:69: FutureWarning: The frame.append method is deprecated and will be removed from pandas in a future version. Use pandas.concat instead.\n",
      "  winners = winners.append({'filename': filename, 'diff': diff, 'IRV1': irv1, 'Condorcet1': condorcet1,\n"
     ]
    },
    {
     "name": "stdout",
     "output_type": "stream",
     "text": [
      "NewYorkCity_06222021_DEMBoroughPresidentNewYork.csv\n"
     ]
    },
    {
     "name": "stderr",
     "output_type": "stream",
     "text": [
      "c:\\Users\\mahsh\\Documents\\GitHub\\bugs-in-democracy\\team_arrow\\clean\\rcv_dimensionality.py:170: RuntimeWarning: divide by zero encountered in true_divide\n",
      "  distance = 1 / np.sqrt(freq_upper_triangle)\n",
      "C:\\Users\\mahsh\\AppData\\Local\\Temp\\ipykernel_21280\\541227406.py:69: FutureWarning: The frame.append method is deprecated and will be removed from pandas in a future version. Use pandas.concat instead.\n",
      "  winners = winners.append({'filename': filename, 'diff': diff, 'IRV1': irv1, 'Condorcet1': condorcet1,\n"
     ]
    },
    {
     "name": "stdout",
     "output_type": "stream",
     "text": [
      "NewYorkCity_06222021_DEMBoroughPresidentQueens.csv\n"
     ]
    },
    {
     "name": "stderr",
     "output_type": "stream",
     "text": [
      "c:\\Users\\mahsh\\Documents\\GitHub\\bugs-in-democracy\\team_arrow\\clean\\rcv_dimensionality.py:170: RuntimeWarning: divide by zero encountered in true_divide\n",
      "  distance = 1 / np.sqrt(freq_upper_triangle)\n",
      "C:\\Users\\mahsh\\AppData\\Local\\Temp\\ipykernel_21280\\541227406.py:69: FutureWarning: The frame.append method is deprecated and will be removed from pandas in a future version. Use pandas.concat instead.\n",
      "  winners = winners.append({'filename': filename, 'diff': diff, 'IRV1': irv1, 'Condorcet1': condorcet1,\n"
     ]
    },
    {
     "name": "stdout",
     "output_type": "stream",
     "text": [
      "NewYorkCity_06222021_DEMBoroughPresidentRichmond.csv\n"
     ]
    },
    {
     "name": "stderr",
     "output_type": "stream",
     "text": [
      "c:\\Users\\mahsh\\Documents\\GitHub\\bugs-in-democracy\\team_arrow\\clean\\rcv_dimensionality.py:170: RuntimeWarning: divide by zero encountered in true_divide\n",
      "  distance = 1 / np.sqrt(freq_upper_triangle)\n",
      "C:\\Users\\mahsh\\AppData\\Local\\Temp\\ipykernel_21280\\541227406.py:69: FutureWarning: The frame.append method is deprecated and will be removed from pandas in a future version. Use pandas.concat instead.\n",
      "  winners = winners.append({'filename': filename, 'diff': diff, 'IRV1': irv1, 'Condorcet1': condorcet1,\n"
     ]
    },
    {
     "name": "stdout",
     "output_type": "stream",
     "text": [
      "NewYorkCity_06222021_DEMComptrollerCitywide.csv\n"
     ]
    },
    {
     "name": "stderr",
     "output_type": "stream",
     "text": [
      "c:\\Users\\mahsh\\Documents\\GitHub\\bugs-in-democracy\\team_arrow\\clean\\rcv_dimensionality.py:170: RuntimeWarning: divide by zero encountered in true_divide\n",
      "  distance = 1 / np.sqrt(freq_upper_triangle)\n",
      "C:\\Users\\mahsh\\AppData\\Local\\Temp\\ipykernel_21280\\541227406.py:69: FutureWarning: The frame.append method is deprecated and will be removed from pandas in a future version. Use pandas.concat instead.\n",
      "  winners = winners.append({'filename': filename, 'diff': diff, 'IRV1': irv1, 'Condorcet1': condorcet1,\n"
     ]
    },
    {
     "name": "stdout",
     "output_type": "stream",
     "text": [
      "NewYorkCity_06222021_DEMCouncilMember10thCouncilDistrict.csv\n"
     ]
    },
    {
     "name": "stderr",
     "output_type": "stream",
     "text": [
      "c:\\Users\\mahsh\\Documents\\GitHub\\bugs-in-democracy\\team_arrow\\clean\\rcv_dimensionality.py:170: RuntimeWarning: divide by zero encountered in true_divide\n",
      "  distance = 1 / np.sqrt(freq_upper_triangle)\n",
      "C:\\Users\\mahsh\\AppData\\Local\\Temp\\ipykernel_21280\\541227406.py:69: FutureWarning: The frame.append method is deprecated and will be removed from pandas in a future version. Use pandas.concat instead.\n",
      "  winners = winners.append({'filename': filename, 'diff': diff, 'IRV1': irv1, 'Condorcet1': condorcet1,\n"
     ]
    },
    {
     "name": "stdout",
     "output_type": "stream",
     "text": [
      "NewYorkCity_06222021_DEMCouncilMember11thCouncilDistrict.csv\n"
     ]
    },
    {
     "name": "stderr",
     "output_type": "stream",
     "text": [
      "c:\\Users\\mahsh\\Documents\\GitHub\\bugs-in-democracy\\team_arrow\\clean\\rcv_dimensionality.py:170: RuntimeWarning: divide by zero encountered in true_divide\n",
      "  distance = 1 / np.sqrt(freq_upper_triangle)\n",
      "C:\\Users\\mahsh\\AppData\\Local\\Temp\\ipykernel_21280\\541227406.py:69: FutureWarning: The frame.append method is deprecated and will be removed from pandas in a future version. Use pandas.concat instead.\n",
      "  winners = winners.append({'filename': filename, 'diff': diff, 'IRV1': irv1, 'Condorcet1': condorcet1,\n"
     ]
    },
    {
     "name": "stdout",
     "output_type": "stream",
     "text": [
      "NewYorkCity_06222021_DEMCouncilMember12thCouncilDistrict.csv\n"
     ]
    },
    {
     "name": "stderr",
     "output_type": "stream",
     "text": [
      "c:\\Users\\mahsh\\Documents\\GitHub\\bugs-in-democracy\\team_arrow\\clean\\rcv_dimensionality.py:170: RuntimeWarning: divide by zero encountered in true_divide\n",
      "  distance = 1 / np.sqrt(freq_upper_triangle)\n",
      "C:\\Users\\mahsh\\AppData\\Local\\Temp\\ipykernel_21280\\541227406.py:69: FutureWarning: The frame.append method is deprecated and will be removed from pandas in a future version. Use pandas.concat instead.\n",
      "  winners = winners.append({'filename': filename, 'diff': diff, 'IRV1': irv1, 'Condorcet1': condorcet1,\n"
     ]
    },
    {
     "name": "stdout",
     "output_type": "stream",
     "text": [
      "NewYorkCity_06222021_DEMCouncilMember13thCouncilDistrict.csv\n"
     ]
    },
    {
     "name": "stderr",
     "output_type": "stream",
     "text": [
      "c:\\Users\\mahsh\\Documents\\GitHub\\bugs-in-democracy\\team_arrow\\clean\\rcv_dimensionality.py:170: RuntimeWarning: divide by zero encountered in true_divide\n",
      "  distance = 1 / np.sqrt(freq_upper_triangle)\n",
      "C:\\Users\\mahsh\\AppData\\Local\\Temp\\ipykernel_21280\\541227406.py:69: FutureWarning: The frame.append method is deprecated and will be removed from pandas in a future version. Use pandas.concat instead.\n",
      "  winners = winners.append({'filename': filename, 'diff': diff, 'IRV1': irv1, 'Condorcet1': condorcet1,\n"
     ]
    },
    {
     "name": "stdout",
     "output_type": "stream",
     "text": [
      "NewYorkCity_06222021_DEMCouncilMember14thCouncilDistrict.csv\n"
     ]
    },
    {
     "name": "stderr",
     "output_type": "stream",
     "text": [
      "c:\\Users\\mahsh\\Documents\\GitHub\\bugs-in-democracy\\team_arrow\\clean\\rcv_dimensionality.py:170: RuntimeWarning: divide by zero encountered in true_divide\n",
      "  distance = 1 / np.sqrt(freq_upper_triangle)\n",
      "C:\\Users\\mahsh\\AppData\\Local\\Temp\\ipykernel_21280\\541227406.py:69: FutureWarning: The frame.append method is deprecated and will be removed from pandas in a future version. Use pandas.concat instead.\n",
      "  winners = winners.append({'filename': filename, 'diff': diff, 'IRV1': irv1, 'Condorcet1': condorcet1,\n"
     ]
    },
    {
     "name": "stdout",
     "output_type": "stream",
     "text": [
      "NewYorkCity_06222021_DEMCouncilMember15thCouncilDistrict.csv\n"
     ]
    },
    {
     "name": "stderr",
     "output_type": "stream",
     "text": [
      "c:\\Users\\mahsh\\Documents\\GitHub\\bugs-in-democracy\\team_arrow\\clean\\rcv_dimensionality.py:170: RuntimeWarning: divide by zero encountered in true_divide\n",
      "  distance = 1 / np.sqrt(freq_upper_triangle)\n",
      "C:\\Users\\mahsh\\AppData\\Local\\Temp\\ipykernel_21280\\541227406.py:69: FutureWarning: The frame.append method is deprecated and will be removed from pandas in a future version. Use pandas.concat instead.\n",
      "  winners = winners.append({'filename': filename, 'diff': diff, 'IRV1': irv1, 'Condorcet1': condorcet1,\n"
     ]
    },
    {
     "name": "stdout",
     "output_type": "stream",
     "text": [
      "NewYorkCity_06222021_DEMCouncilMember16thCouncilDistrict.csv\n"
     ]
    },
    {
     "name": "stderr",
     "output_type": "stream",
     "text": [
      "c:\\Users\\mahsh\\Documents\\GitHub\\bugs-in-democracy\\team_arrow\\clean\\rcv_dimensionality.py:170: RuntimeWarning: divide by zero encountered in true_divide\n",
      "  distance = 1 / np.sqrt(freq_upper_triangle)\n",
      "C:\\Users\\mahsh\\AppData\\Local\\Temp\\ipykernel_21280\\541227406.py:69: FutureWarning: The frame.append method is deprecated and will be removed from pandas in a future version. Use pandas.concat instead.\n",
      "  winners = winners.append({'filename': filename, 'diff': diff, 'IRV1': irv1, 'Condorcet1': condorcet1,\n"
     ]
    },
    {
     "name": "stdout",
     "output_type": "stream",
     "text": [
      "NewYorkCity_06222021_DEMCouncilMember17thCouncilDistrict.csv\n"
     ]
    },
    {
     "name": "stderr",
     "output_type": "stream",
     "text": [
      "c:\\Users\\mahsh\\Documents\\GitHub\\bugs-in-democracy\\team_arrow\\clean\\rcv_dimensionality.py:170: RuntimeWarning: divide by zero encountered in true_divide\n",
      "  distance = 1 / np.sqrt(freq_upper_triangle)\n",
      "C:\\Users\\mahsh\\AppData\\Local\\Temp\\ipykernel_21280\\541227406.py:69: FutureWarning: The frame.append method is deprecated and will be removed from pandas in a future version. Use pandas.concat instead.\n",
      "  winners = winners.append({'filename': filename, 'diff': diff, 'IRV1': irv1, 'Condorcet1': condorcet1,\n"
     ]
    },
    {
     "name": "stdout",
     "output_type": "stream",
     "text": [
      "NewYorkCity_06222021_DEMCouncilMember18thCouncilDistrict.csv\n"
     ]
    },
    {
     "name": "stderr",
     "output_type": "stream",
     "text": [
      "c:\\Users\\mahsh\\Documents\\GitHub\\bugs-in-democracy\\team_arrow\\clean\\rcv_dimensionality.py:170: RuntimeWarning: divide by zero encountered in true_divide\n",
      "  distance = 1 / np.sqrt(freq_upper_triangle)\n",
      "C:\\Users\\mahsh\\AppData\\Local\\Temp\\ipykernel_21280\\541227406.py:69: FutureWarning: The frame.append method is deprecated and will be removed from pandas in a future version. Use pandas.concat instead.\n",
      "  winners = winners.append({'filename': filename, 'diff': diff, 'IRV1': irv1, 'Condorcet1': condorcet1,\n"
     ]
    },
    {
     "name": "stdout",
     "output_type": "stream",
     "text": [
      "NewYorkCity_06222021_DEMCouncilMember19thCouncilDistrict.csv\n"
     ]
    },
    {
     "name": "stderr",
     "output_type": "stream",
     "text": [
      "c:\\Users\\mahsh\\Documents\\GitHub\\bugs-in-democracy\\team_arrow\\clean\\rcv_dimensionality.py:170: RuntimeWarning: divide by zero encountered in true_divide\n",
      "  distance = 1 / np.sqrt(freq_upper_triangle)\n",
      "C:\\Users\\mahsh\\AppData\\Local\\Temp\\ipykernel_21280\\541227406.py:69: FutureWarning: The frame.append method is deprecated and will be removed from pandas in a future version. Use pandas.concat instead.\n",
      "  winners = winners.append({'filename': filename, 'diff': diff, 'IRV1': irv1, 'Condorcet1': condorcet1,\n"
     ]
    },
    {
     "name": "stdout",
     "output_type": "stream",
     "text": [
      "NewYorkCity_06222021_DEMCouncilMember1stCouncilDistrict.csv\n"
     ]
    },
    {
     "name": "stderr",
     "output_type": "stream",
     "text": [
      "c:\\Users\\mahsh\\Documents\\GitHub\\bugs-in-democracy\\team_arrow\\clean\\rcv_dimensionality.py:170: RuntimeWarning: divide by zero encountered in true_divide\n",
      "  distance = 1 / np.sqrt(freq_upper_triangle)\n",
      "C:\\Users\\mahsh\\AppData\\Local\\Temp\\ipykernel_21280\\541227406.py:69: FutureWarning: The frame.append method is deprecated and will be removed from pandas in a future version. Use pandas.concat instead.\n",
      "  winners = winners.append({'filename': filename, 'diff': diff, 'IRV1': irv1, 'Condorcet1': condorcet1,\n"
     ]
    },
    {
     "name": "stdout",
     "output_type": "stream",
     "text": [
      "NewYorkCity_06222021_DEMCouncilMember20thCouncilDistrict.csv\n"
     ]
    },
    {
     "name": "stderr",
     "output_type": "stream",
     "text": [
      "c:\\Users\\mahsh\\Documents\\GitHub\\bugs-in-democracy\\team_arrow\\clean\\rcv_dimensionality.py:170: RuntimeWarning: divide by zero encountered in true_divide\n",
      "  distance = 1 / np.sqrt(freq_upper_triangle)\n",
      "C:\\Users\\mahsh\\AppData\\Local\\Temp\\ipykernel_21280\\541227406.py:69: FutureWarning: The frame.append method is deprecated and will be removed from pandas in a future version. Use pandas.concat instead.\n",
      "  winners = winners.append({'filename': filename, 'diff': diff, 'IRV1': irv1, 'Condorcet1': condorcet1,\n"
     ]
    },
    {
     "name": "stdout",
     "output_type": "stream",
     "text": [
      "NewYorkCity_06222021_DEMCouncilMember21stCouncilDistrict.csv\n"
     ]
    },
    {
     "name": "stderr",
     "output_type": "stream",
     "text": [
      "c:\\Users\\mahsh\\Documents\\GitHub\\bugs-in-democracy\\team_arrow\\clean\\rcv_dimensionality.py:170: RuntimeWarning: divide by zero encountered in true_divide\n",
      "  distance = 1 / np.sqrt(freq_upper_triangle)\n",
      "C:\\Users\\mahsh\\AppData\\Local\\Temp\\ipykernel_21280\\541227406.py:69: FutureWarning: The frame.append method is deprecated and will be removed from pandas in a future version. Use pandas.concat instead.\n",
      "  winners = winners.append({'filename': filename, 'diff': diff, 'IRV1': irv1, 'Condorcet1': condorcet1,\n"
     ]
    },
    {
     "name": "stdout",
     "output_type": "stream",
     "text": [
      "NewYorkCity_06222021_DEMCouncilMember22ndCouncilDistrict.csv\n"
     ]
    },
    {
     "name": "stderr",
     "output_type": "stream",
     "text": [
      "c:\\Users\\mahsh\\Documents\\GitHub\\bugs-in-democracy\\team_arrow\\clean\\rcv_dimensionality.py:170: RuntimeWarning: divide by zero encountered in true_divide\n",
      "  distance = 1 / np.sqrt(freq_upper_triangle)\n",
      "C:\\Users\\mahsh\\AppData\\Local\\Temp\\ipykernel_21280\\541227406.py:69: FutureWarning: The frame.append method is deprecated and will be removed from pandas in a future version. Use pandas.concat instead.\n",
      "  winners = winners.append({'filename': filename, 'diff': diff, 'IRV1': irv1, 'Condorcet1': condorcet1,\n"
     ]
    },
    {
     "name": "stdout",
     "output_type": "stream",
     "text": [
      "NewYorkCity_06222021_DEMCouncilMember23rdCouncilDistrict.csv\n"
     ]
    },
    {
     "name": "stderr",
     "output_type": "stream",
     "text": [
      "c:\\Users\\mahsh\\Documents\\GitHub\\bugs-in-democracy\\team_arrow\\clean\\rcv_dimensionality.py:170: RuntimeWarning: divide by zero encountered in true_divide\n",
      "  distance = 1 / np.sqrt(freq_upper_triangle)\n",
      "C:\\Users\\mahsh\\AppData\\Local\\Temp\\ipykernel_21280\\541227406.py:69: FutureWarning: The frame.append method is deprecated and will be removed from pandas in a future version. Use pandas.concat instead.\n",
      "  winners = winners.append({'filename': filename, 'diff': diff, 'IRV1': irv1, 'Condorcet1': condorcet1,\n"
     ]
    },
    {
     "name": "stdout",
     "output_type": "stream",
     "text": [
      "NewYorkCity_06222021_DEMCouncilMember24thCouncilDistrict.csv\n"
     ]
    },
    {
     "name": "stderr",
     "output_type": "stream",
     "text": [
      "c:\\Users\\mahsh\\Documents\\GitHub\\bugs-in-democracy\\team_arrow\\clean\\rcv_dimensionality.py:170: RuntimeWarning: divide by zero encountered in true_divide\n",
      "  distance = 1 / np.sqrt(freq_upper_triangle)\n",
      "C:\\Users\\mahsh\\AppData\\Local\\Temp\\ipykernel_21280\\541227406.py:69: FutureWarning: The frame.append method is deprecated and will be removed from pandas in a future version. Use pandas.concat instead.\n",
      "  winners = winners.append({'filename': filename, 'diff': diff, 'IRV1': irv1, 'Condorcet1': condorcet1,\n"
     ]
    },
    {
     "name": "stdout",
     "output_type": "stream",
     "text": [
      "NewYorkCity_06222021_DEMCouncilMember25thCouncilDistrict.csv\n"
     ]
    },
    {
     "name": "stderr",
     "output_type": "stream",
     "text": [
      "c:\\Users\\mahsh\\Documents\\GitHub\\bugs-in-democracy\\team_arrow\\clean\\rcv_dimensionality.py:170: RuntimeWarning: divide by zero encountered in true_divide\n",
      "  distance = 1 / np.sqrt(freq_upper_triangle)\n",
      "C:\\Users\\mahsh\\AppData\\Local\\Temp\\ipykernel_21280\\541227406.py:69: FutureWarning: The frame.append method is deprecated and will be removed from pandas in a future version. Use pandas.concat instead.\n",
      "  winners = winners.append({'filename': filename, 'diff': diff, 'IRV1': irv1, 'Condorcet1': condorcet1,\n"
     ]
    },
    {
     "name": "stdout",
     "output_type": "stream",
     "text": [
      "NewYorkCity_06222021_DEMCouncilMember26thCouncilDistrict.csv\n"
     ]
    },
    {
     "name": "stderr",
     "output_type": "stream",
     "text": [
      "c:\\Users\\mahsh\\Documents\\GitHub\\bugs-in-democracy\\team_arrow\\clean\\rcv_dimensionality.py:170: RuntimeWarning: divide by zero encountered in true_divide\n",
      "  distance = 1 / np.sqrt(freq_upper_triangle)\n",
      "C:\\Users\\mahsh\\AppData\\Local\\Temp\\ipykernel_21280\\541227406.py:69: FutureWarning: The frame.append method is deprecated and will be removed from pandas in a future version. Use pandas.concat instead.\n",
      "  winners = winners.append({'filename': filename, 'diff': diff, 'IRV1': irv1, 'Condorcet1': condorcet1,\n"
     ]
    },
    {
     "name": "stdout",
     "output_type": "stream",
     "text": [
      "NewYorkCity_06222021_DEMCouncilMember27thCouncilDistrict.csv\n"
     ]
    },
    {
     "name": "stderr",
     "output_type": "stream",
     "text": [
      "c:\\Users\\mahsh\\Documents\\GitHub\\bugs-in-democracy\\team_arrow\\clean\\rcv_dimensionality.py:170: RuntimeWarning: divide by zero encountered in true_divide\n",
      "  distance = 1 / np.sqrt(freq_upper_triangle)\n",
      "C:\\Users\\mahsh\\AppData\\Local\\Temp\\ipykernel_21280\\541227406.py:69: FutureWarning: The frame.append method is deprecated and will be removed from pandas in a future version. Use pandas.concat instead.\n",
      "  winners = winners.append({'filename': filename, 'diff': diff, 'IRV1': irv1, 'Condorcet1': condorcet1,\n"
     ]
    },
    {
     "name": "stdout",
     "output_type": "stream",
     "text": [
      "NewYorkCity_06222021_DEMCouncilMember28thCouncilDistrict.csv\n"
     ]
    },
    {
     "name": "stderr",
     "output_type": "stream",
     "text": [
      "c:\\Users\\mahsh\\Documents\\GitHub\\bugs-in-democracy\\team_arrow\\clean\\rcv_dimensionality.py:170: RuntimeWarning: divide by zero encountered in true_divide\n",
      "  distance = 1 / np.sqrt(freq_upper_triangle)\n",
      "C:\\Users\\mahsh\\AppData\\Local\\Temp\\ipykernel_21280\\541227406.py:69: FutureWarning: The frame.append method is deprecated and will be removed from pandas in a future version. Use pandas.concat instead.\n",
      "  winners = winners.append({'filename': filename, 'diff': diff, 'IRV1': irv1, 'Condorcet1': condorcet1,\n"
     ]
    },
    {
     "name": "stdout",
     "output_type": "stream",
     "text": [
      "NewYorkCity_06222021_DEMCouncilMember29thCouncilDistrict.csv\n"
     ]
    },
    {
     "name": "stderr",
     "output_type": "stream",
     "text": [
      "c:\\Users\\mahsh\\Documents\\GitHub\\bugs-in-democracy\\team_arrow\\clean\\rcv_dimensionality.py:170: RuntimeWarning: divide by zero encountered in true_divide\n",
      "  distance = 1 / np.sqrt(freq_upper_triangle)\n",
      "C:\\Users\\mahsh\\AppData\\Local\\Temp\\ipykernel_21280\\541227406.py:69: FutureWarning: The frame.append method is deprecated and will be removed from pandas in a future version. Use pandas.concat instead.\n",
      "  winners = winners.append({'filename': filename, 'diff': diff, 'IRV1': irv1, 'Condorcet1': condorcet1,\n"
     ]
    },
    {
     "name": "stdout",
     "output_type": "stream",
     "text": [
      "NewYorkCity_06222021_DEMCouncilMember2ndCouncilDistrict.csv\n"
     ]
    },
    {
     "name": "stderr",
     "output_type": "stream",
     "text": [
      "c:\\Users\\mahsh\\Documents\\GitHub\\bugs-in-democracy\\team_arrow\\clean\\rcv_dimensionality.py:170: RuntimeWarning: divide by zero encountered in true_divide\n",
      "  distance = 1 / np.sqrt(freq_upper_triangle)\n",
      "C:\\Users\\mahsh\\AppData\\Local\\Temp\\ipykernel_21280\\541227406.py:69: FutureWarning: The frame.append method is deprecated and will be removed from pandas in a future version. Use pandas.concat instead.\n",
      "  winners = winners.append({'filename': filename, 'diff': diff, 'IRV1': irv1, 'Condorcet1': condorcet1,\n"
     ]
    },
    {
     "name": "stdout",
     "output_type": "stream",
     "text": [
      "NewYorkCity_06222021_DEMCouncilMember30thCouncilDistrict.csv\n"
     ]
    },
    {
     "name": "stderr",
     "output_type": "stream",
     "text": [
      "c:\\Users\\mahsh\\Documents\\GitHub\\bugs-in-democracy\\team_arrow\\clean\\rcv_dimensionality.py:170: RuntimeWarning: divide by zero encountered in true_divide\n",
      "  distance = 1 / np.sqrt(freq_upper_triangle)\n",
      "C:\\Users\\mahsh\\AppData\\Local\\Temp\\ipykernel_21280\\541227406.py:69: FutureWarning: The frame.append method is deprecated and will be removed from pandas in a future version. Use pandas.concat instead.\n",
      "  winners = winners.append({'filename': filename, 'diff': diff, 'IRV1': irv1, 'Condorcet1': condorcet1,\n"
     ]
    },
    {
     "name": "stdout",
     "output_type": "stream",
     "text": [
      "NewYorkCity_06222021_DEMCouncilMember31stCouncilDistrict.csv\n"
     ]
    },
    {
     "name": "stderr",
     "output_type": "stream",
     "text": [
      "c:\\Users\\mahsh\\Documents\\GitHub\\bugs-in-democracy\\team_arrow\\clean\\rcv_dimensionality.py:170: RuntimeWarning: divide by zero encountered in true_divide\n",
      "  distance = 1 / np.sqrt(freq_upper_triangle)\n",
      "C:\\Users\\mahsh\\AppData\\Local\\Temp\\ipykernel_21280\\541227406.py:69: FutureWarning: The frame.append method is deprecated and will be removed from pandas in a future version. Use pandas.concat instead.\n",
      "  winners = winners.append({'filename': filename, 'diff': diff, 'IRV1': irv1, 'Condorcet1': condorcet1,\n"
     ]
    },
    {
     "name": "stdout",
     "output_type": "stream",
     "text": [
      "NewYorkCity_06222021_DEMCouncilMember32ndCouncilDistrict.csv\n"
     ]
    },
    {
     "name": "stderr",
     "output_type": "stream",
     "text": [
      "c:\\Users\\mahsh\\Documents\\GitHub\\bugs-in-democracy\\team_arrow\\clean\\rcv_dimensionality.py:170: RuntimeWarning: divide by zero encountered in true_divide\n",
      "  distance = 1 / np.sqrt(freq_upper_triangle)\n",
      "C:\\Users\\mahsh\\AppData\\Local\\Temp\\ipykernel_21280\\541227406.py:69: FutureWarning: The frame.append method is deprecated and will be removed from pandas in a future version. Use pandas.concat instead.\n",
      "  winners = winners.append({'filename': filename, 'diff': diff, 'IRV1': irv1, 'Condorcet1': condorcet1,\n"
     ]
    },
    {
     "name": "stdout",
     "output_type": "stream",
     "text": [
      "NewYorkCity_06222021_DEMCouncilMember33rdCouncilDistrict.csv\n"
     ]
    },
    {
     "name": "stderr",
     "output_type": "stream",
     "text": [
      "c:\\Users\\mahsh\\Documents\\GitHub\\bugs-in-democracy\\team_arrow\\clean\\rcv_dimensionality.py:170: RuntimeWarning: divide by zero encountered in true_divide\n",
      "  distance = 1 / np.sqrt(freq_upper_triangle)\n",
      "C:\\Users\\mahsh\\AppData\\Local\\Temp\\ipykernel_21280\\541227406.py:69: FutureWarning: The frame.append method is deprecated and will be removed from pandas in a future version. Use pandas.concat instead.\n",
      "  winners = winners.append({'filename': filename, 'diff': diff, 'IRV1': irv1, 'Condorcet1': condorcet1,\n"
     ]
    },
    {
     "name": "stdout",
     "output_type": "stream",
     "text": [
      "NewYorkCity_06222021_DEMCouncilMember34thCouncilDistrict.csv\n"
     ]
    },
    {
     "name": "stderr",
     "output_type": "stream",
     "text": [
      "c:\\Users\\mahsh\\Documents\\GitHub\\bugs-in-democracy\\team_arrow\\clean\\rcv_dimensionality.py:170: RuntimeWarning: divide by zero encountered in true_divide\n",
      "  distance = 1 / np.sqrt(freq_upper_triangle)\n",
      "C:\\Users\\mahsh\\AppData\\Local\\Temp\\ipykernel_21280\\541227406.py:69: FutureWarning: The frame.append method is deprecated and will be removed from pandas in a future version. Use pandas.concat instead.\n",
      "  winners = winners.append({'filename': filename, 'diff': diff, 'IRV1': irv1, 'Condorcet1': condorcet1,\n"
     ]
    },
    {
     "name": "stdout",
     "output_type": "stream",
     "text": [
      "NewYorkCity_06222021_DEMCouncilMember35thCouncilDistrict.csv\n"
     ]
    },
    {
     "name": "stderr",
     "output_type": "stream",
     "text": [
      "c:\\Users\\mahsh\\Documents\\GitHub\\bugs-in-democracy\\team_arrow\\clean\\rcv_dimensionality.py:170: RuntimeWarning: divide by zero encountered in true_divide\n",
      "  distance = 1 / np.sqrt(freq_upper_triangle)\n",
      "C:\\Users\\mahsh\\AppData\\Local\\Temp\\ipykernel_21280\\541227406.py:69: FutureWarning: The frame.append method is deprecated and will be removed from pandas in a future version. Use pandas.concat instead.\n",
      "  winners = winners.append({'filename': filename, 'diff': diff, 'IRV1': irv1, 'Condorcet1': condorcet1,\n"
     ]
    },
    {
     "name": "stdout",
     "output_type": "stream",
     "text": [
      "NewYorkCity_06222021_DEMCouncilMember36thCouncilDistrict.csv\n"
     ]
    },
    {
     "name": "stderr",
     "output_type": "stream",
     "text": [
      "c:\\Users\\mahsh\\Documents\\GitHub\\bugs-in-democracy\\team_arrow\\clean\\rcv_dimensionality.py:170: RuntimeWarning: divide by zero encountered in true_divide\n",
      "  distance = 1 / np.sqrt(freq_upper_triangle)\n",
      "C:\\Users\\mahsh\\AppData\\Local\\Temp\\ipykernel_21280\\541227406.py:69: FutureWarning: The frame.append method is deprecated and will be removed from pandas in a future version. Use pandas.concat instead.\n",
      "  winners = winners.append({'filename': filename, 'diff': diff, 'IRV1': irv1, 'Condorcet1': condorcet1,\n"
     ]
    },
    {
     "name": "stdout",
     "output_type": "stream",
     "text": [
      "NewYorkCity_06222021_DEMCouncilMember37thCouncilDistrict.csv\n"
     ]
    },
    {
     "name": "stderr",
     "output_type": "stream",
     "text": [
      "c:\\Users\\mahsh\\Documents\\GitHub\\bugs-in-democracy\\team_arrow\\clean\\rcv_dimensionality.py:170: RuntimeWarning: divide by zero encountered in true_divide\n",
      "  distance = 1 / np.sqrt(freq_upper_triangle)\n",
      "C:\\Users\\mahsh\\AppData\\Local\\Temp\\ipykernel_21280\\541227406.py:69: FutureWarning: The frame.append method is deprecated and will be removed from pandas in a future version. Use pandas.concat instead.\n",
      "  winners = winners.append({'filename': filename, 'diff': diff, 'IRV1': irv1, 'Condorcet1': condorcet1,\n"
     ]
    },
    {
     "name": "stdout",
     "output_type": "stream",
     "text": [
      "NewYorkCity_06222021_DEMCouncilMember38thCouncilDistrict.csv\n"
     ]
    },
    {
     "name": "stderr",
     "output_type": "stream",
     "text": [
      "c:\\Users\\mahsh\\Documents\\GitHub\\bugs-in-democracy\\team_arrow\\clean\\rcv_dimensionality.py:170: RuntimeWarning: divide by zero encountered in true_divide\n",
      "  distance = 1 / np.sqrt(freq_upper_triangle)\n",
      "C:\\Users\\mahsh\\AppData\\Local\\Temp\\ipykernel_21280\\541227406.py:69: FutureWarning: The frame.append method is deprecated and will be removed from pandas in a future version. Use pandas.concat instead.\n",
      "  winners = winners.append({'filename': filename, 'diff': diff, 'IRV1': irv1, 'Condorcet1': condorcet1,\n"
     ]
    },
    {
     "name": "stdout",
     "output_type": "stream",
     "text": [
      "NewYorkCity_06222021_DEMCouncilMember39thCouncilDistrict.csv\n"
     ]
    },
    {
     "name": "stderr",
     "output_type": "stream",
     "text": [
      "c:\\Users\\mahsh\\Documents\\GitHub\\bugs-in-democracy\\team_arrow\\clean\\rcv_dimensionality.py:170: RuntimeWarning: divide by zero encountered in true_divide\n",
      "  distance = 1 / np.sqrt(freq_upper_triangle)\n",
      "C:\\Users\\mahsh\\AppData\\Local\\Temp\\ipykernel_21280\\541227406.py:69: FutureWarning: The frame.append method is deprecated and will be removed from pandas in a future version. Use pandas.concat instead.\n",
      "  winners = winners.append({'filename': filename, 'diff': diff, 'IRV1': irv1, 'Condorcet1': condorcet1,\n"
     ]
    },
    {
     "name": "stdout",
     "output_type": "stream",
     "text": [
      "NewYorkCity_06222021_DEMCouncilMember3rdCouncilDistrict.csv\n"
     ]
    },
    {
     "name": "stderr",
     "output_type": "stream",
     "text": [
      "c:\\Users\\mahsh\\Documents\\GitHub\\bugs-in-democracy\\team_arrow\\clean\\rcv_dimensionality.py:170: RuntimeWarning: divide by zero encountered in true_divide\n",
      "  distance = 1 / np.sqrt(freq_upper_triangle)\n",
      "C:\\Users\\mahsh\\AppData\\Local\\Temp\\ipykernel_21280\\541227406.py:69: FutureWarning: The frame.append method is deprecated and will be removed from pandas in a future version. Use pandas.concat instead.\n",
      "  winners = winners.append({'filename': filename, 'diff': diff, 'IRV1': irv1, 'Condorcet1': condorcet1,\n"
     ]
    },
    {
     "name": "stdout",
     "output_type": "stream",
     "text": [
      "NewYorkCity_06222021_DEMCouncilMember40thCouncilDistrict.csv\n"
     ]
    },
    {
     "name": "stderr",
     "output_type": "stream",
     "text": [
      "c:\\Users\\mahsh\\Documents\\GitHub\\bugs-in-democracy\\team_arrow\\clean\\rcv_dimensionality.py:170: RuntimeWarning: divide by zero encountered in true_divide\n",
      "  distance = 1 / np.sqrt(freq_upper_triangle)\n",
      "C:\\Users\\mahsh\\AppData\\Local\\Temp\\ipykernel_21280\\541227406.py:69: FutureWarning: The frame.append method is deprecated and will be removed from pandas in a future version. Use pandas.concat instead.\n",
      "  winners = winners.append({'filename': filename, 'diff': diff, 'IRV1': irv1, 'Condorcet1': condorcet1,\n"
     ]
    },
    {
     "name": "stdout",
     "output_type": "stream",
     "text": [
      "NewYorkCity_06222021_DEMCouncilMember41stCouncilDistrict.csv\n"
     ]
    },
    {
     "name": "stderr",
     "output_type": "stream",
     "text": [
      "c:\\Users\\mahsh\\Documents\\GitHub\\bugs-in-democracy\\team_arrow\\clean\\rcv_dimensionality.py:170: RuntimeWarning: divide by zero encountered in true_divide\n",
      "  distance = 1 / np.sqrt(freq_upper_triangle)\n",
      "C:\\Users\\mahsh\\AppData\\Local\\Temp\\ipykernel_21280\\541227406.py:69: FutureWarning: The frame.append method is deprecated and will be removed from pandas in a future version. Use pandas.concat instead.\n",
      "  winners = winners.append({'filename': filename, 'diff': diff, 'IRV1': irv1, 'Condorcet1': condorcet1,\n"
     ]
    },
    {
     "name": "stdout",
     "output_type": "stream",
     "text": [
      "NewYorkCity_06222021_DEMCouncilMember42ndCouncilDistrict.csv\n"
     ]
    },
    {
     "name": "stderr",
     "output_type": "stream",
     "text": [
      "c:\\Users\\mahsh\\Documents\\GitHub\\bugs-in-democracy\\team_arrow\\clean\\rcv_dimensionality.py:170: RuntimeWarning: divide by zero encountered in true_divide\n",
      "  distance = 1 / np.sqrt(freq_upper_triangle)\n",
      "C:\\Users\\mahsh\\AppData\\Local\\Temp\\ipykernel_21280\\541227406.py:69: FutureWarning: The frame.append method is deprecated and will be removed from pandas in a future version. Use pandas.concat instead.\n",
      "  winners = winners.append({'filename': filename, 'diff': diff, 'IRV1': irv1, 'Condorcet1': condorcet1,\n"
     ]
    },
    {
     "name": "stdout",
     "output_type": "stream",
     "text": [
      "NewYorkCity_06222021_DEMCouncilMember45thCouncilDistrict.csv\n"
     ]
    },
    {
     "name": "stderr",
     "output_type": "stream",
     "text": [
      "c:\\Users\\mahsh\\Documents\\GitHub\\bugs-in-democracy\\team_arrow\\clean\\rcv_dimensionality.py:170: RuntimeWarning: divide by zero encountered in true_divide\n",
      "  distance = 1 / np.sqrt(freq_upper_triangle)\n",
      "C:\\Users\\mahsh\\AppData\\Local\\Temp\\ipykernel_21280\\541227406.py:69: FutureWarning: The frame.append method is deprecated and will be removed from pandas in a future version. Use pandas.concat instead.\n",
      "  winners = winners.append({'filename': filename, 'diff': diff, 'IRV1': irv1, 'Condorcet1': condorcet1,\n"
     ]
    },
    {
     "name": "stdout",
     "output_type": "stream",
     "text": [
      "NewYorkCity_06222021_DEMCouncilMember46thCouncilDistrict.csv\n"
     ]
    },
    {
     "name": "stderr",
     "output_type": "stream",
     "text": [
      "c:\\Users\\mahsh\\Documents\\GitHub\\bugs-in-democracy\\team_arrow\\clean\\rcv_dimensionality.py:170: RuntimeWarning: divide by zero encountered in true_divide\n",
      "  distance = 1 / np.sqrt(freq_upper_triangle)\n",
      "C:\\Users\\mahsh\\AppData\\Local\\Temp\\ipykernel_21280\\541227406.py:69: FutureWarning: The frame.append method is deprecated and will be removed from pandas in a future version. Use pandas.concat instead.\n",
      "  winners = winners.append({'filename': filename, 'diff': diff, 'IRV1': irv1, 'Condorcet1': condorcet1,\n"
     ]
    },
    {
     "name": "stdout",
     "output_type": "stream",
     "text": [
      "NewYorkCity_06222021_DEMCouncilMember47thCouncilDistrict.csv\n"
     ]
    },
    {
     "name": "stderr",
     "output_type": "stream",
     "text": [
      "c:\\Users\\mahsh\\Documents\\GitHub\\bugs-in-democracy\\team_arrow\\clean\\rcv_dimensionality.py:170: RuntimeWarning: divide by zero encountered in true_divide\n",
      "  distance = 1 / np.sqrt(freq_upper_triangle)\n",
      "C:\\Users\\mahsh\\AppData\\Local\\Temp\\ipykernel_21280\\541227406.py:69: FutureWarning: The frame.append method is deprecated and will be removed from pandas in a future version. Use pandas.concat instead.\n",
      "  winners = winners.append({'filename': filename, 'diff': diff, 'IRV1': irv1, 'Condorcet1': condorcet1,\n"
     ]
    },
    {
     "name": "stdout",
     "output_type": "stream",
     "text": [
      "NewYorkCity_06222021_DEMCouncilMember48thCouncilDistrict.csv\n"
     ]
    },
    {
     "name": "stderr",
     "output_type": "stream",
     "text": [
      "c:\\Users\\mahsh\\Documents\\GitHub\\bugs-in-democracy\\team_arrow\\clean\\rcv_dimensionality.py:170: RuntimeWarning: divide by zero encountered in true_divide\n",
      "  distance = 1 / np.sqrt(freq_upper_triangle)\n",
      "C:\\Users\\mahsh\\AppData\\Local\\Temp\\ipykernel_21280\\541227406.py:69: FutureWarning: The frame.append method is deprecated and will be removed from pandas in a future version. Use pandas.concat instead.\n",
      "  winners = winners.append({'filename': filename, 'diff': diff, 'IRV1': irv1, 'Condorcet1': condorcet1,\n"
     ]
    },
    {
     "name": "stdout",
     "output_type": "stream",
     "text": [
      "NewYorkCity_06222021_DEMCouncilMember49thCouncilDistrict.csv\n"
     ]
    },
    {
     "name": "stderr",
     "output_type": "stream",
     "text": [
      "c:\\Users\\mahsh\\Documents\\GitHub\\bugs-in-democracy\\team_arrow\\clean\\rcv_dimensionality.py:170: RuntimeWarning: divide by zero encountered in true_divide\n",
      "  distance = 1 / np.sqrt(freq_upper_triangle)\n",
      "C:\\Users\\mahsh\\AppData\\Local\\Temp\\ipykernel_21280\\541227406.py:69: FutureWarning: The frame.append method is deprecated and will be removed from pandas in a future version. Use pandas.concat instead.\n",
      "  winners = winners.append({'filename': filename, 'diff': diff, 'IRV1': irv1, 'Condorcet1': condorcet1,\n"
     ]
    },
    {
     "name": "stdout",
     "output_type": "stream",
     "text": [
      "NewYorkCity_06222021_DEMCouncilMember5thCouncilDistrict.csv\n"
     ]
    },
    {
     "name": "stderr",
     "output_type": "stream",
     "text": [
      "c:\\Users\\mahsh\\Documents\\GitHub\\bugs-in-democracy\\team_arrow\\clean\\rcv_dimensionality.py:170: RuntimeWarning: divide by zero encountered in true_divide\n",
      "  distance = 1 / np.sqrt(freq_upper_triangle)\n",
      "C:\\Users\\mahsh\\AppData\\Local\\Temp\\ipykernel_21280\\541227406.py:69: FutureWarning: The frame.append method is deprecated and will be removed from pandas in a future version. Use pandas.concat instead.\n",
      "  winners = winners.append({'filename': filename, 'diff': diff, 'IRV1': irv1, 'Condorcet1': condorcet1,\n"
     ]
    },
    {
     "name": "stdout",
     "output_type": "stream",
     "text": [
      "NewYorkCity_06222021_DEMCouncilMember6thCouncilDistrict.csv\n"
     ]
    },
    {
     "name": "stderr",
     "output_type": "stream",
     "text": [
      "c:\\Users\\mahsh\\Documents\\GitHub\\bugs-in-democracy\\team_arrow\\clean\\rcv_dimensionality.py:170: RuntimeWarning: divide by zero encountered in true_divide\n",
      "  distance = 1 / np.sqrt(freq_upper_triangle)\n",
      "C:\\Users\\mahsh\\AppData\\Local\\Temp\\ipykernel_21280\\541227406.py:69: FutureWarning: The frame.append method is deprecated and will be removed from pandas in a future version. Use pandas.concat instead.\n",
      "  winners = winners.append({'filename': filename, 'diff': diff, 'IRV1': irv1, 'Condorcet1': condorcet1,\n"
     ]
    },
    {
     "name": "stdout",
     "output_type": "stream",
     "text": [
      "NewYorkCity_06222021_DEMCouncilMember7thCouncilDistrict.csv\n"
     ]
    },
    {
     "name": "stderr",
     "output_type": "stream",
     "text": [
      "c:\\Users\\mahsh\\Documents\\GitHub\\bugs-in-democracy\\team_arrow\\clean\\rcv_dimensionality.py:170: RuntimeWarning: divide by zero encountered in true_divide\n",
      "  distance = 1 / np.sqrt(freq_upper_triangle)\n",
      "C:\\Users\\mahsh\\AppData\\Local\\Temp\\ipykernel_21280\\541227406.py:69: FutureWarning: The frame.append method is deprecated and will be removed from pandas in a future version. Use pandas.concat instead.\n",
      "  winners = winners.append({'filename': filename, 'diff': diff, 'IRV1': irv1, 'Condorcet1': condorcet1,\n"
     ]
    },
    {
     "name": "stdout",
     "output_type": "stream",
     "text": [
      "NewYorkCity_06222021_DEMCouncilMember8thCouncilDistrict.csv\n"
     ]
    },
    {
     "name": "stderr",
     "output_type": "stream",
     "text": [
      "c:\\Users\\mahsh\\Documents\\GitHub\\bugs-in-democracy\\team_arrow\\clean\\rcv_dimensionality.py:170: RuntimeWarning: divide by zero encountered in true_divide\n",
      "  distance = 1 / np.sqrt(freq_upper_triangle)\n",
      "C:\\Users\\mahsh\\AppData\\Local\\Temp\\ipykernel_21280\\541227406.py:69: FutureWarning: The frame.append method is deprecated and will be removed from pandas in a future version. Use pandas.concat instead.\n",
      "  winners = winners.append({'filename': filename, 'diff': diff, 'IRV1': irv1, 'Condorcet1': condorcet1,\n"
     ]
    },
    {
     "name": "stdout",
     "output_type": "stream",
     "text": [
      "NewYorkCity_06222021_DEMCouncilMember9thCouncilDistrict.csv\n"
     ]
    },
    {
     "name": "stderr",
     "output_type": "stream",
     "text": [
      "c:\\Users\\mahsh\\Documents\\GitHub\\bugs-in-democracy\\team_arrow\\clean\\rcv_dimensionality.py:170: RuntimeWarning: divide by zero encountered in true_divide\n",
      "  distance = 1 / np.sqrt(freq_upper_triangle)\n",
      "C:\\Users\\mahsh\\AppData\\Local\\Temp\\ipykernel_21280\\541227406.py:69: FutureWarning: The frame.append method is deprecated and will be removed from pandas in a future version. Use pandas.concat instead.\n",
      "  winners = winners.append({'filename': filename, 'diff': diff, 'IRV1': irv1, 'Condorcet1': condorcet1,\n"
     ]
    },
    {
     "name": "stdout",
     "output_type": "stream",
     "text": [
      "NewYorkCity_06222021_DEMMayorCitywide.csv\n"
     ]
    },
    {
     "name": "stderr",
     "output_type": "stream",
     "text": [
      "c:\\Users\\mahsh\\Documents\\GitHub\\bugs-in-democracy\\team_arrow\\clean\\rcv_dimensionality.py:170: RuntimeWarning: divide by zero encountered in true_divide\n",
      "  distance = 1 / np.sqrt(freq_upper_triangle)\n",
      "C:\\Users\\mahsh\\AppData\\Local\\Temp\\ipykernel_21280\\541227406.py:69: FutureWarning: The frame.append method is deprecated and will be removed from pandas in a future version. Use pandas.concat instead.\n",
      "  winners = winners.append({'filename': filename, 'diff': diff, 'IRV1': irv1, 'Condorcet1': condorcet1,\n"
     ]
    },
    {
     "name": "stdout",
     "output_type": "stream",
     "text": [
      "NewYorkCity_06222021_DEMPublicAdvocateCitywide.csv\n"
     ]
    },
    {
     "name": "stderr",
     "output_type": "stream",
     "text": [
      "c:\\Users\\mahsh\\Documents\\GitHub\\bugs-in-democracy\\team_arrow\\clean\\rcv_dimensionality.py:170: RuntimeWarning: divide by zero encountered in true_divide\n",
      "  distance = 1 / np.sqrt(freq_upper_triangle)\n",
      "C:\\Users\\mahsh\\AppData\\Local\\Temp\\ipykernel_21280\\541227406.py:69: FutureWarning: The frame.append method is deprecated and will be removed from pandas in a future version. Use pandas.concat instead.\n",
      "  winners = winners.append({'filename': filename, 'diff': diff, 'IRV1': irv1, 'Condorcet1': condorcet1,\n"
     ]
    },
    {
     "name": "stdout",
     "output_type": "stream",
     "text": [
      "NewYorkCity_06222021_REPBoroughPresidentQueens.csv\n"
     ]
    },
    {
     "name": "stderr",
     "output_type": "stream",
     "text": [
      "c:\\Users\\mahsh\\Documents\\GitHub\\bugs-in-democracy\\team_arrow\\clean\\rcv_dimensionality.py:170: RuntimeWarning: divide by zero encountered in true_divide\n",
      "  distance = 1 / np.sqrt(freq_upper_triangle)\n",
      "C:\\Users\\mahsh\\AppData\\Local\\Temp\\ipykernel_21280\\541227406.py:69: FutureWarning: The frame.append method is deprecated and will be removed from pandas in a future version. Use pandas.concat instead.\n",
      "  winners = winners.append({'filename': filename, 'diff': diff, 'IRV1': irv1, 'Condorcet1': condorcet1,\n"
     ]
    },
    {
     "name": "stdout",
     "output_type": "stream",
     "text": [
      "NewYorkCity_06222021_REPBoroughPresidentRichmond.csv\n"
     ]
    },
    {
     "name": "stderr",
     "output_type": "stream",
     "text": [
      "c:\\Users\\mahsh\\Documents\\GitHub\\bugs-in-democracy\\team_arrow\\clean\\rcv_dimensionality.py:170: RuntimeWarning: divide by zero encountered in true_divide\n",
      "  distance = 1 / np.sqrt(freq_upper_triangle)\n",
      "C:\\Users\\mahsh\\AppData\\Local\\Temp\\ipykernel_21280\\541227406.py:69: FutureWarning: The frame.append method is deprecated and will be removed from pandas in a future version. Use pandas.concat instead.\n",
      "  winners = winners.append({'filename': filename, 'diff': diff, 'IRV1': irv1, 'Condorcet1': condorcet1,\n"
     ]
    },
    {
     "name": "stdout",
     "output_type": "stream",
     "text": [
      "NewYorkCity_06222021_REPCouncilMember15thCouncilDistrict.csv\n"
     ]
    },
    {
     "name": "stderr",
     "output_type": "stream",
     "text": [
      "c:\\Users\\mahsh\\Documents\\GitHub\\bugs-in-democracy\\team_arrow\\clean\\rcv_dimensionality.py:170: RuntimeWarning: divide by zero encountered in true_divide\n",
      "  distance = 1 / np.sqrt(freq_upper_triangle)\n",
      "C:\\Users\\mahsh\\AppData\\Local\\Temp\\ipykernel_21280\\541227406.py:69: FutureWarning: The frame.append method is deprecated and will be removed from pandas in a future version. Use pandas.concat instead.\n",
      "  winners = winners.append({'filename': filename, 'diff': diff, 'IRV1': irv1, 'Condorcet1': condorcet1,\n"
     ]
    },
    {
     "name": "stdout",
     "output_type": "stream",
     "text": [
      "NewYorkCity_06222021_REPCouncilMember19thCouncilDistrict.csv\n"
     ]
    },
    {
     "name": "stderr",
     "output_type": "stream",
     "text": [
      "c:\\Users\\mahsh\\Documents\\GitHub\\bugs-in-democracy\\team_arrow\\clean\\rcv_dimensionality.py:170: RuntimeWarning: divide by zero encountered in true_divide\n",
      "  distance = 1 / np.sqrt(freq_upper_triangle)\n",
      "C:\\Users\\mahsh\\AppData\\Local\\Temp\\ipykernel_21280\\541227406.py:69: FutureWarning: The frame.append method is deprecated and will be removed from pandas in a future version. Use pandas.concat instead.\n",
      "  winners = winners.append({'filename': filename, 'diff': diff, 'IRV1': irv1, 'Condorcet1': condorcet1,\n"
     ]
    },
    {
     "name": "stdout",
     "output_type": "stream",
     "text": [
      "NewYorkCity_06222021_REPCouncilMember23rdCouncilDistrict.csv\n"
     ]
    },
    {
     "name": "stderr",
     "output_type": "stream",
     "text": [
      "c:\\Users\\mahsh\\Documents\\GitHub\\bugs-in-democracy\\team_arrow\\clean\\rcv_dimensionality.py:170: RuntimeWarning: divide by zero encountered in true_divide\n",
      "  distance = 1 / np.sqrt(freq_upper_triangle)\n",
      "C:\\Users\\mahsh\\AppData\\Local\\Temp\\ipykernel_21280\\541227406.py:69: FutureWarning: The frame.append method is deprecated and will be removed from pandas in a future version. Use pandas.concat instead.\n",
      "  winners = winners.append({'filename': filename, 'diff': diff, 'IRV1': irv1, 'Condorcet1': condorcet1,\n"
     ]
    },
    {
     "name": "stdout",
     "output_type": "stream",
     "text": [
      "NewYorkCity_06222021_REPCouncilMember24thCouncilDistrict.csv\n"
     ]
    },
    {
     "name": "stderr",
     "output_type": "stream",
     "text": [
      "c:\\Users\\mahsh\\Documents\\GitHub\\bugs-in-democracy\\team_arrow\\clean\\rcv_dimensionality.py:170: RuntimeWarning: divide by zero encountered in true_divide\n",
      "  distance = 1 / np.sqrt(freq_upper_triangle)\n",
      "C:\\Users\\mahsh\\AppData\\Local\\Temp\\ipykernel_21280\\541227406.py:69: FutureWarning: The frame.append method is deprecated and will be removed from pandas in a future version. Use pandas.concat instead.\n",
      "  winners = winners.append({'filename': filename, 'diff': diff, 'IRV1': irv1, 'Condorcet1': condorcet1,\n"
     ]
    },
    {
     "name": "stdout",
     "output_type": "stream",
     "text": [
      "NewYorkCity_06222021_REPCouncilMember32ndCouncilDistrict.csv\n"
     ]
    },
    {
     "name": "stderr",
     "output_type": "stream",
     "text": [
      "c:\\Users\\mahsh\\Documents\\GitHub\\bugs-in-democracy\\team_arrow\\clean\\rcv_dimensionality.py:170: RuntimeWarning: divide by zero encountered in true_divide\n",
      "  distance = 1 / np.sqrt(freq_upper_triangle)\n",
      "C:\\Users\\mahsh\\AppData\\Local\\Temp\\ipykernel_21280\\541227406.py:69: FutureWarning: The frame.append method is deprecated and will be removed from pandas in a future version. Use pandas.concat instead.\n",
      "  winners = winners.append({'filename': filename, 'diff': diff, 'IRV1': irv1, 'Condorcet1': condorcet1,\n"
     ]
    },
    {
     "name": "stdout",
     "output_type": "stream",
     "text": [
      "NewYorkCity_06222021_REPCouncilMember50thCouncilDistrict.csv\n"
     ]
    },
    {
     "name": "stderr",
     "output_type": "stream",
     "text": [
      "c:\\Users\\mahsh\\Documents\\GitHub\\bugs-in-democracy\\team_arrow\\clean\\rcv_dimensionality.py:170: RuntimeWarning: divide by zero encountered in true_divide\n",
      "  distance = 1 / np.sqrt(freq_upper_triangle)\n",
      "C:\\Users\\mahsh\\AppData\\Local\\Temp\\ipykernel_21280\\541227406.py:69: FutureWarning: The frame.append method is deprecated and will be removed from pandas in a future version. Use pandas.concat instead.\n",
      "  winners = winners.append({'filename': filename, 'diff': diff, 'IRV1': irv1, 'Condorcet1': condorcet1,\n"
     ]
    },
    {
     "name": "stdout",
     "output_type": "stream",
     "text": [
      "NewYorkCity_06222021_REPMayorCitywide.csv\n"
     ]
    },
    {
     "name": "stderr",
     "output_type": "stream",
     "text": [
      "c:\\Users\\mahsh\\Documents\\GitHub\\bugs-in-democracy\\team_arrow\\clean\\rcv_dimensionality.py:170: RuntimeWarning: divide by zero encountered in true_divide\n",
      "  distance = 1 / np.sqrt(freq_upper_triangle)\n",
      "C:\\Users\\mahsh\\AppData\\Local\\Temp\\ipykernel_21280\\541227406.py:69: FutureWarning: The frame.append method is deprecated and will be removed from pandas in a future version. Use pandas.concat instead.\n",
      "  winners = winners.append({'filename': filename, 'diff': diff, 'IRV1': irv1, 'Condorcet1': condorcet1,\n"
     ]
    },
    {
     "name": "stdout",
     "output_type": "stream",
     "text": [
      "Oakland_11022010_CityAuditor.csv\n"
     ]
    },
    {
     "name": "stderr",
     "output_type": "stream",
     "text": [
      "c:\\Users\\mahsh\\Documents\\GitHub\\bugs-in-democracy\\team_arrow\\clean\\rcv_dimensionality.py:170: RuntimeWarning: divide by zero encountered in true_divide\n",
      "  distance = 1 / np.sqrt(freq_upper_triangle)\n",
      "C:\\Users\\mahsh\\AppData\\Local\\Temp\\ipykernel_21280\\541227406.py:69: FutureWarning: The frame.append method is deprecated and will be removed from pandas in a future version. Use pandas.concat instead.\n",
      "  winners = winners.append({'filename': filename, 'diff': diff, 'IRV1': irv1, 'Condorcet1': condorcet1,\n"
     ]
    },
    {
     "name": "stdout",
     "output_type": "stream",
     "text": [
      "Oakland_11022010_CityCouncilDistrict2.csv\n"
     ]
    },
    {
     "name": "stderr",
     "output_type": "stream",
     "text": [
      "c:\\Users\\mahsh\\Documents\\GitHub\\bugs-in-democracy\\team_arrow\\clean\\rcv_dimensionality.py:170: RuntimeWarning: divide by zero encountered in true_divide\n",
      "  distance = 1 / np.sqrt(freq_upper_triangle)\n",
      "C:\\Users\\mahsh\\AppData\\Local\\Temp\\ipykernel_21280\\541227406.py:69: FutureWarning: The frame.append method is deprecated and will be removed from pandas in a future version. Use pandas.concat instead.\n",
      "  winners = winners.append({'filename': filename, 'diff': diff, 'IRV1': irv1, 'Condorcet1': condorcet1,\n"
     ]
    },
    {
     "name": "stdout",
     "output_type": "stream",
     "text": [
      "Oakland_11022010_CityCouncilDistrict4.csv\n"
     ]
    },
    {
     "name": "stderr",
     "output_type": "stream",
     "text": [
      "c:\\Users\\mahsh\\Documents\\GitHub\\bugs-in-democracy\\team_arrow\\clean\\rcv_dimensionality.py:170: RuntimeWarning: divide by zero encountered in true_divide\n",
      "  distance = 1 / np.sqrt(freq_upper_triangle)\n",
      "C:\\Users\\mahsh\\AppData\\Local\\Temp\\ipykernel_21280\\541227406.py:69: FutureWarning: The frame.append method is deprecated and will be removed from pandas in a future version. Use pandas.concat instead.\n",
      "  winners = winners.append({'filename': filename, 'diff': diff, 'IRV1': irv1, 'Condorcet1': condorcet1,\n"
     ]
    },
    {
     "name": "stdout",
     "output_type": "stream",
     "text": [
      "Oakland_11022010_CityCouncilDistrict6.csv\n"
     ]
    },
    {
     "name": "stderr",
     "output_type": "stream",
     "text": [
      "c:\\Users\\mahsh\\Documents\\GitHub\\bugs-in-democracy\\team_arrow\\clean\\rcv_dimensionality.py:170: RuntimeWarning: divide by zero encountered in true_divide\n",
      "  distance = 1 / np.sqrt(freq_upper_triangle)\n",
      "C:\\Users\\mahsh\\AppData\\Local\\Temp\\ipykernel_21280\\541227406.py:69: FutureWarning: The frame.append method is deprecated and will be removed from pandas in a future version. Use pandas.concat instead.\n",
      "  winners = winners.append({'filename': filename, 'diff': diff, 'IRV1': irv1, 'Condorcet1': condorcet1,\n"
     ]
    },
    {
     "name": "stdout",
     "output_type": "stream",
     "text": [
      "Oakland_11022010_Mayor.csv\n"
     ]
    },
    {
     "name": "stderr",
     "output_type": "stream",
     "text": [
      "c:\\Users\\mahsh\\Documents\\GitHub\\bugs-in-democracy\\team_arrow\\clean\\rcv_dimensionality.py:170: RuntimeWarning: divide by zero encountered in true_divide\n",
      "  distance = 1 / np.sqrt(freq_upper_triangle)\n",
      "C:\\Users\\mahsh\\AppData\\Local\\Temp\\ipykernel_21280\\541227406.py:69: FutureWarning: The frame.append method is deprecated and will be removed from pandas in a future version. Use pandas.concat instead.\n",
      "  winners = winners.append({'filename': filename, 'diff': diff, 'IRV1': irv1, 'Condorcet1': condorcet1,\n"
     ]
    },
    {
     "name": "stdout",
     "output_type": "stream",
     "text": [
      "Oakland_11022010_SchoolDirectorDistrict2.csv\n",
      "Oakland_11022010_SchoolDirectorDistrict2.csv  threw an error\n",
      "Oakland_11022010_SchoolDirectorDistrict4.csv\n"
     ]
    },
    {
     "name": "stderr",
     "output_type": "stream",
     "text": [
      "c:\\Users\\mahsh\\Documents\\GitHub\\bugs-in-democracy\\team_arrow\\clean\\rcv_dimensionality.py:170: RuntimeWarning: divide by zero encountered in true_divide\n",
      "  distance = 1 / np.sqrt(freq_upper_triangle)\n",
      "C:\\Users\\mahsh\\AppData\\Local\\Temp\\ipykernel_21280\\541227406.py:69: FutureWarning: The frame.append method is deprecated and will be removed from pandas in a future version. Use pandas.concat instead.\n",
      "  winners = winners.append({'filename': filename, 'diff': diff, 'IRV1': irv1, 'Condorcet1': condorcet1,\n"
     ]
    },
    {
     "name": "stdout",
     "output_type": "stream",
     "text": [
      "Oakland_11022010_SchoolDirectorDistrict6.csv\n",
      "Oakland_11022010_SchoolDirectorDistrict6.csv  threw an error\n",
      "Oakland_11032020_CityAttorneyOaklandRCV.csv\n"
     ]
    },
    {
     "name": "stderr",
     "output_type": "stream",
     "text": [
      "c:\\Users\\mahsh\\Documents\\GitHub\\bugs-in-democracy\\team_arrow\\clean\\rcv_dimensionality.py:170: RuntimeWarning: divide by zero encountered in true_divide\n",
      "  distance = 1 / np.sqrt(freq_upper_triangle)\n",
      "C:\\Users\\mahsh\\AppData\\Local\\Temp\\ipykernel_21280\\541227406.py:69: FutureWarning: The frame.append method is deprecated and will be removed from pandas in a future version. Use pandas.concat instead.\n",
      "  winners = winners.append({'filename': filename, 'diff': diff, 'IRV1': irv1, 'Condorcet1': condorcet1,\n"
     ]
    },
    {
     "name": "stdout",
     "output_type": "stream",
     "text": [
      "Oakland_11032020_MemberCityCouncilAtLargeOaklandRCV.csv\n"
     ]
    },
    {
     "name": "stderr",
     "output_type": "stream",
     "text": [
      "c:\\Users\\mahsh\\Documents\\GitHub\\bugs-in-democracy\\team_arrow\\clean\\rcv_dimensionality.py:170: RuntimeWarning: divide by zero encountered in true_divide\n",
      "  distance = 1 / np.sqrt(freq_upper_triangle)\n"
     ]
    },
    {
     "name": "stdout",
     "output_type": "stream",
     "text": [
      "Oakland_11032020_MemberCityCouncilDist1OaklandRCV.csv\n"
     ]
    },
    {
     "name": "stderr",
     "output_type": "stream",
     "text": [
      "C:\\Users\\mahsh\\AppData\\Local\\Temp\\ipykernel_21280\\541227406.py:69: FutureWarning: The frame.append method is deprecated and will be removed from pandas in a future version. Use pandas.concat instead.\n",
      "  winners = winners.append({'filename': filename, 'diff': diff, 'IRV1': irv1, 'Condorcet1': condorcet1,\n",
      "c:\\Users\\mahsh\\Documents\\GitHub\\bugs-in-democracy\\team_arrow\\clean\\rcv_dimensionality.py:170: RuntimeWarning: divide by zero encountered in true_divide\n",
      "  distance = 1 / np.sqrt(freq_upper_triangle)\n",
      "C:\\Users\\mahsh\\AppData\\Local\\Temp\\ipykernel_21280\\541227406.py:69: FutureWarning: The frame.append method is deprecated and will be removed from pandas in a future version. Use pandas.concat instead.\n",
      "  winners = winners.append({'filename': filename, 'diff': diff, 'IRV1': irv1, 'Condorcet1': condorcet1,\n"
     ]
    },
    {
     "name": "stdout",
     "output_type": "stream",
     "text": [
      "Oakland_11032020_MemberCityCouncilDist3OaklandRCV.csv\n"
     ]
    },
    {
     "name": "stderr",
     "output_type": "stream",
     "text": [
      "c:\\Users\\mahsh\\Documents\\GitHub\\bugs-in-democracy\\team_arrow\\clean\\rcv_dimensionality.py:170: RuntimeWarning: divide by zero encountered in true_divide\n",
      "  distance = 1 / np.sqrt(freq_upper_triangle)\n",
      "C:\\Users\\mahsh\\AppData\\Local\\Temp\\ipykernel_21280\\541227406.py:69: FutureWarning: The frame.append method is deprecated and will be removed from pandas in a future version. Use pandas.concat instead.\n",
      "  winners = winners.append({'filename': filename, 'diff': diff, 'IRV1': irv1, 'Condorcet1': condorcet1,\n"
     ]
    },
    {
     "name": "stdout",
     "output_type": "stream",
     "text": [
      "Oakland_11032020_MemberCityCouncilDist5OaklandRCV.csv\n"
     ]
    },
    {
     "name": "stderr",
     "output_type": "stream",
     "text": [
      "c:\\Users\\mahsh\\Documents\\GitHub\\bugs-in-democracy\\team_arrow\\clean\\rcv_dimensionality.py:170: RuntimeWarning: divide by zero encountered in true_divide\n",
      "  distance = 1 / np.sqrt(freq_upper_triangle)\n",
      "C:\\Users\\mahsh\\AppData\\Local\\Temp\\ipykernel_21280\\541227406.py:69: FutureWarning: The frame.append method is deprecated and will be removed from pandas in a future version. Use pandas.concat instead.\n",
      "  winners = winners.append({'filename': filename, 'diff': diff, 'IRV1': irv1, 'Condorcet1': condorcet1,\n"
     ]
    },
    {
     "name": "stdout",
     "output_type": "stream",
     "text": [
      "Oakland_11032020_MemberCityCouncilDist7OaklandRCV.csv\n"
     ]
    },
    {
     "name": "stderr",
     "output_type": "stream",
     "text": [
      "c:\\Users\\mahsh\\Documents\\GitHub\\bugs-in-democracy\\team_arrow\\clean\\rcv_dimensionality.py:170: RuntimeWarning: divide by zero encountered in true_divide\n",
      "  distance = 1 / np.sqrt(freq_upper_triangle)\n",
      "C:\\Users\\mahsh\\AppData\\Local\\Temp\\ipykernel_21280\\541227406.py:69: FutureWarning: The frame.append method is deprecated and will be removed from pandas in a future version. Use pandas.concat instead.\n",
      "  winners = winners.append({'filename': filename, 'diff': diff, 'IRV1': irv1, 'Condorcet1': condorcet1,\n"
     ]
    },
    {
     "name": "stdout",
     "output_type": "stream",
     "text": [
      "Oakland_11032020_SchoolDirectorDist1OaklandRCV.csv\n"
     ]
    },
    {
     "name": "stderr",
     "output_type": "stream",
     "text": [
      "c:\\Users\\mahsh\\Documents\\GitHub\\bugs-in-democracy\\team_arrow\\clean\\rcv_dimensionality.py:170: RuntimeWarning: divide by zero encountered in true_divide\n",
      "  distance = 1 / np.sqrt(freq_upper_triangle)\n",
      "C:\\Users\\mahsh\\AppData\\Local\\Temp\\ipykernel_21280\\541227406.py:69: FutureWarning: The frame.append method is deprecated and will be removed from pandas in a future version. Use pandas.concat instead.\n",
      "  winners = winners.append({'filename': filename, 'diff': diff, 'IRV1': irv1, 'Condorcet1': condorcet1,\n"
     ]
    },
    {
     "name": "stdout",
     "output_type": "stream",
     "text": [
      "Oakland_11032020_SchoolDirectorDist3OaklandRCV.csv\n"
     ]
    },
    {
     "name": "stderr",
     "output_type": "stream",
     "text": [
      "c:\\Users\\mahsh\\Documents\\GitHub\\bugs-in-democracy\\team_arrow\\clean\\rcv_dimensionality.py:170: RuntimeWarning: divide by zero encountered in true_divide\n",
      "  distance = 1 / np.sqrt(freq_upper_triangle)\n",
      "C:\\Users\\mahsh\\AppData\\Local\\Temp\\ipykernel_21280\\541227406.py:69: FutureWarning: The frame.append method is deprecated and will be removed from pandas in a future version. Use pandas.concat instead.\n",
      "  winners = winners.append({'filename': filename, 'diff': diff, 'IRV1': irv1, 'Condorcet1': condorcet1,\n"
     ]
    },
    {
     "name": "stdout",
     "output_type": "stream",
     "text": [
      "Oakland_11032020_SchoolDirectorDist5OaklandRCV.csv\n"
     ]
    },
    {
     "name": "stderr",
     "output_type": "stream",
     "text": [
      "c:\\Users\\mahsh\\Documents\\GitHub\\bugs-in-democracy\\team_arrow\\clean\\rcv_dimensionality.py:170: RuntimeWarning: divide by zero encountered in true_divide\n",
      "  distance = 1 / np.sqrt(freq_upper_triangle)\n",
      "C:\\Users\\mahsh\\AppData\\Local\\Temp\\ipykernel_21280\\541227406.py:69: FutureWarning: The frame.append method is deprecated and will be removed from pandas in a future version. Use pandas.concat instead.\n",
      "  winners = winners.append({'filename': filename, 'diff': diff, 'IRV1': irv1, 'Condorcet1': condorcet1,\n"
     ]
    },
    {
     "name": "stdout",
     "output_type": "stream",
     "text": [
      "Oakland_11032020_SchoolDirectorDist7OaklandRCV.csv\n"
     ]
    },
    {
     "name": "stderr",
     "output_type": "stream",
     "text": [
      "c:\\Users\\mahsh\\Documents\\GitHub\\bugs-in-democracy\\team_arrow\\clean\\rcv_dimensionality.py:170: RuntimeWarning: divide by zero encountered in true_divide\n",
      "  distance = 1 / np.sqrt(freq_upper_triangle)\n",
      "C:\\Users\\mahsh\\AppData\\Local\\Temp\\ipykernel_21280\\541227406.py:69: FutureWarning: The frame.append method is deprecated and will be removed from pandas in a future version. Use pandas.concat instead.\n",
      "  winners = winners.append({'filename': filename, 'diff': diff, 'IRV1': irv1, 'Condorcet1': condorcet1,\n"
     ]
    },
    {
     "name": "stdout",
     "output_type": "stream",
     "text": [
      "Oakland_11042014_CityAuditor.csv\n"
     ]
    },
    {
     "name": "stderr",
     "output_type": "stream",
     "text": [
      "c:\\Users\\mahsh\\Documents\\GitHub\\bugs-in-democracy\\team_arrow\\clean\\rcv_dimensionality.py:170: RuntimeWarning: divide by zero encountered in true_divide\n",
      "  distance = 1 / np.sqrt(freq_upper_triangle)\n",
      "C:\\Users\\mahsh\\AppData\\Local\\Temp\\ipykernel_21280\\541227406.py:69: FutureWarning: The frame.append method is deprecated and will be removed from pandas in a future version. Use pandas.concat instead.\n",
      "  winners = winners.append({'filename': filename, 'diff': diff, 'IRV1': irv1, 'Condorcet1': condorcet1,\n"
     ]
    },
    {
     "name": "stdout",
     "output_type": "stream",
     "text": [
      "Oakland_11042014_CityCouncilDistrict2.csv\n"
     ]
    },
    {
     "name": "stderr",
     "output_type": "stream",
     "text": [
      "c:\\Users\\mahsh\\Documents\\GitHub\\bugs-in-democracy\\team_arrow\\clean\\rcv_dimensionality.py:170: RuntimeWarning: divide by zero encountered in true_divide\n",
      "  distance = 1 / np.sqrt(freq_upper_triangle)\n",
      "C:\\Users\\mahsh\\AppData\\Local\\Temp\\ipykernel_21280\\541227406.py:69: FutureWarning: The frame.append method is deprecated and will be removed from pandas in a future version. Use pandas.concat instead.\n",
      "  winners = winners.append({'filename': filename, 'diff': diff, 'IRV1': irv1, 'Condorcet1': condorcet1,\n"
     ]
    },
    {
     "name": "stdout",
     "output_type": "stream",
     "text": [
      "Oakland_11042014_CityCouncilDistrict4.csv\n"
     ]
    },
    {
     "name": "stderr",
     "output_type": "stream",
     "text": [
      "c:\\Users\\mahsh\\Documents\\GitHub\\bugs-in-democracy\\team_arrow\\clean\\rcv_dimensionality.py:170: RuntimeWarning: divide by zero encountered in true_divide\n",
      "  distance = 1 / np.sqrt(freq_upper_triangle)\n",
      "C:\\Users\\mahsh\\AppData\\Local\\Temp\\ipykernel_21280\\541227406.py:69: FutureWarning: The frame.append method is deprecated and will be removed from pandas in a future version. Use pandas.concat instead.\n",
      "  winners = winners.append({'filename': filename, 'diff': diff, 'IRV1': irv1, 'Condorcet1': condorcet1,\n"
     ]
    },
    {
     "name": "stdout",
     "output_type": "stream",
     "text": [
      "Oakland_11042014_CityCouncilDistrict6.csv\n"
     ]
    },
    {
     "name": "stderr",
     "output_type": "stream",
     "text": [
      "c:\\Users\\mahsh\\Documents\\GitHub\\bugs-in-democracy\\team_arrow\\clean\\rcv_dimensionality.py:170: RuntimeWarning: divide by zero encountered in true_divide\n",
      "  distance = 1 / np.sqrt(freq_upper_triangle)\n",
      "C:\\Users\\mahsh\\AppData\\Local\\Temp\\ipykernel_21280\\541227406.py:69: FutureWarning: The frame.append method is deprecated and will be removed from pandas in a future version. Use pandas.concat instead.\n",
      "  winners = winners.append({'filename': filename, 'diff': diff, 'IRV1': irv1, 'Condorcet1': condorcet1,\n"
     ]
    },
    {
     "name": "stdout",
     "output_type": "stream",
     "text": [
      "Oakland_11042014_Mayor.csv\n"
     ]
    },
    {
     "name": "stderr",
     "output_type": "stream",
     "text": [
      "c:\\Users\\mahsh\\Documents\\GitHub\\bugs-in-democracy\\team_arrow\\clean\\rcv_dimensionality.py:159: RuntimeWarning: divide by zero encountered in true_divide\n",
      "  frequencies = counts / mentioned_together\n",
      "c:\\Users\\mahsh\\Documents\\GitHub\\bugs-in-democracy\\team_arrow\\clean\\rcv_dimensionality.py:170: RuntimeWarning: divide by zero encountered in true_divide\n",
      "  distance = 1 / np.sqrt(freq_upper_triangle)\n",
      "C:\\Users\\mahsh\\AppData\\Local\\Temp\\ipykernel_21280\\541227406.py:69: FutureWarning: The frame.append method is deprecated and will be removed from pandas in a future version. Use pandas.concat instead.\n",
      "  winners = winners.append({'filename': filename, 'diff': diff, 'IRV1': irv1, 'Condorcet1': condorcet1,\n"
     ]
    },
    {
     "name": "stdout",
     "output_type": "stream",
     "text": [
      "Oakland_11042014_SchoolDirectorDistrict2.csv\n"
     ]
    },
    {
     "name": "stderr",
     "output_type": "stream",
     "text": [
      "c:\\Users\\mahsh\\Documents\\GitHub\\bugs-in-democracy\\team_arrow\\clean\\rcv_dimensionality.py:170: RuntimeWarning: divide by zero encountered in true_divide\n",
      "  distance = 1 / np.sqrt(freq_upper_triangle)\n",
      "C:\\Users\\mahsh\\AppData\\Local\\Temp\\ipykernel_21280\\541227406.py:69: FutureWarning: The frame.append method is deprecated and will be removed from pandas in a future version. Use pandas.concat instead.\n",
      "  winners = winners.append({'filename': filename, 'diff': diff, 'IRV1': irv1, 'Condorcet1': condorcet1,\n"
     ]
    },
    {
     "name": "stdout",
     "output_type": "stream",
     "text": [
      "Oakland_11042014_SchoolDirectorDistrict4.csv\n"
     ]
    },
    {
     "name": "stderr",
     "output_type": "stream",
     "text": [
      "c:\\Users\\mahsh\\Documents\\GitHub\\bugs-in-democracy\\team_arrow\\clean\\rcv_dimensionality.py:170: RuntimeWarning: divide by zero encountered in true_divide\n",
      "  distance = 1 / np.sqrt(freq_upper_triangle)\n",
      "C:\\Users\\mahsh\\AppData\\Local\\Temp\\ipykernel_21280\\541227406.py:69: FutureWarning: The frame.append method is deprecated and will be removed from pandas in a future version. Use pandas.concat instead.\n",
      "  winners = winners.append({'filename': filename, 'diff': diff, 'IRV1': irv1, 'Condorcet1': condorcet1,\n"
     ]
    },
    {
     "name": "stdout",
     "output_type": "stream",
     "text": [
      "Oakland_11042014_SchoolDirectorDistrict6.csv\n"
     ]
    },
    {
     "name": "stderr",
     "output_type": "stream",
     "text": [
      "c:\\Users\\mahsh\\Documents\\GitHub\\bugs-in-democracy\\team_arrow\\clean\\rcv_dimensionality.py:170: RuntimeWarning: divide by zero encountered in true_divide\n",
      "  distance = 1 / np.sqrt(freq_upper_triangle)\n",
      "C:\\Users\\mahsh\\AppData\\Local\\Temp\\ipykernel_21280\\541227406.py:69: FutureWarning: The frame.append method is deprecated and will be removed from pandas in a future version. Use pandas.concat instead.\n",
      "  winners = winners.append({'filename': filename, 'diff': diff, 'IRV1': irv1, 'Condorcet1': condorcet1,\n"
     ]
    },
    {
     "name": "stdout",
     "output_type": "stream",
     "text": [
      "Oakland_11062012_CityAttorney.csv\n"
     ]
    },
    {
     "name": "stderr",
     "output_type": "stream",
     "text": [
      "c:\\Users\\mahsh\\Documents\\GitHub\\bugs-in-democracy\\team_arrow\\clean\\rcv_dimensionality.py:170: RuntimeWarning: divide by zero encountered in true_divide\n",
      "  distance = 1 / np.sqrt(freq_upper_triangle)\n",
      "C:\\Users\\mahsh\\AppData\\Local\\Temp\\ipykernel_21280\\541227406.py:69: FutureWarning: The frame.append method is deprecated and will be removed from pandas in a future version. Use pandas.concat instead.\n",
      "  winners = winners.append({'filename': filename, 'diff': diff, 'IRV1': irv1, 'Condorcet1': condorcet1,\n"
     ]
    },
    {
     "name": "stdout",
     "output_type": "stream",
     "text": [
      "Oakland_11062012_CityCouncilAtLarge.csv\n"
     ]
    },
    {
     "name": "stderr",
     "output_type": "stream",
     "text": [
      "c:\\Users\\mahsh\\Documents\\GitHub\\bugs-in-democracy\\team_arrow\\clean\\rcv_dimensionality.py:170: RuntimeWarning: divide by zero encountered in true_divide\n",
      "  distance = 1 / np.sqrt(freq_upper_triangle)\n",
      "C:\\Users\\mahsh\\AppData\\Local\\Temp\\ipykernel_21280\\541227406.py:69: FutureWarning: The frame.append method is deprecated and will be removed from pandas in a future version. Use pandas.concat instead.\n",
      "  winners = winners.append({'filename': filename, 'diff': diff, 'IRV1': irv1, 'Condorcet1': condorcet1,\n"
     ]
    },
    {
     "name": "stdout",
     "output_type": "stream",
     "text": [
      "Oakland_11062012_CityCouncilDistrict1.csv\n"
     ]
    },
    {
     "name": "stderr",
     "output_type": "stream",
     "text": [
      "c:\\Users\\mahsh\\Documents\\GitHub\\bugs-in-democracy\\team_arrow\\clean\\rcv_dimensionality.py:170: RuntimeWarning: divide by zero encountered in true_divide\n",
      "  distance = 1 / np.sqrt(freq_upper_triangle)\n",
      "C:\\Users\\mahsh\\AppData\\Local\\Temp\\ipykernel_21280\\541227406.py:69: FutureWarning: The frame.append method is deprecated and will be removed from pandas in a future version. Use pandas.concat instead.\n",
      "  winners = winners.append({'filename': filename, 'diff': diff, 'IRV1': irv1, 'Condorcet1': condorcet1,\n"
     ]
    },
    {
     "name": "stdout",
     "output_type": "stream",
     "text": [
      "Oakland_11062012_CityCouncilDistrict3.csv\n"
     ]
    },
    {
     "name": "stderr",
     "output_type": "stream",
     "text": [
      "c:\\Users\\mahsh\\Documents\\GitHub\\bugs-in-democracy\\team_arrow\\clean\\rcv_dimensionality.py:170: RuntimeWarning: divide by zero encountered in true_divide\n",
      "  distance = 1 / np.sqrt(freq_upper_triangle)\n",
      "C:\\Users\\mahsh\\AppData\\Local\\Temp\\ipykernel_21280\\541227406.py:69: FutureWarning: The frame.append method is deprecated and will be removed from pandas in a future version. Use pandas.concat instead.\n",
      "  winners = winners.append({'filename': filename, 'diff': diff, 'IRV1': irv1, 'Condorcet1': condorcet1,\n"
     ]
    },
    {
     "name": "stdout",
     "output_type": "stream",
     "text": [
      "Oakland_11062012_CityCouncilDistrict5.csv\n"
     ]
    },
    {
     "name": "stderr",
     "output_type": "stream",
     "text": [
      "c:\\Users\\mahsh\\Documents\\GitHub\\bugs-in-democracy\\team_arrow\\clean\\rcv_dimensionality.py:170: RuntimeWarning: divide by zero encountered in true_divide\n",
      "  distance = 1 / np.sqrt(freq_upper_triangle)\n",
      "C:\\Users\\mahsh\\AppData\\Local\\Temp\\ipykernel_21280\\541227406.py:69: FutureWarning: The frame.append method is deprecated and will be removed from pandas in a future version. Use pandas.concat instead.\n",
      "  winners = winners.append({'filename': filename, 'diff': diff, 'IRV1': irv1, 'Condorcet1': condorcet1,\n"
     ]
    },
    {
     "name": "stdout",
     "output_type": "stream",
     "text": [
      "Oakland_11062012_CityCouncilDistrict7.csv\n"
     ]
    },
    {
     "name": "stderr",
     "output_type": "stream",
     "text": [
      "c:\\Users\\mahsh\\Documents\\GitHub\\bugs-in-democracy\\team_arrow\\clean\\rcv_dimensionality.py:170: RuntimeWarning: divide by zero encountered in true_divide\n",
      "  distance = 1 / np.sqrt(freq_upper_triangle)\n",
      "C:\\Users\\mahsh\\AppData\\Local\\Temp\\ipykernel_21280\\541227406.py:69: FutureWarning: The frame.append method is deprecated and will be removed from pandas in a future version. Use pandas.concat instead.\n",
      "  winners = winners.append({'filename': filename, 'diff': diff, 'IRV1': irv1, 'Condorcet1': condorcet1,\n"
     ]
    },
    {
     "name": "stdout",
     "output_type": "stream",
     "text": [
      "Oakland_11062012_SchoolDirectorDistrict1.csv\n"
     ]
    },
    {
     "name": "stderr",
     "output_type": "stream",
     "text": [
      "c:\\Users\\mahsh\\Documents\\GitHub\\bugs-in-democracy\\team_arrow\\clean\\rcv_dimensionality.py:170: RuntimeWarning: divide by zero encountered in true_divide\n",
      "  distance = 1 / np.sqrt(freq_upper_triangle)\n",
      "C:\\Users\\mahsh\\AppData\\Local\\Temp\\ipykernel_21280\\541227406.py:69: FutureWarning: The frame.append method is deprecated and will be removed from pandas in a future version. Use pandas.concat instead.\n",
      "  winners = winners.append({'filename': filename, 'diff': diff, 'IRV1': irv1, 'Condorcet1': condorcet1,\n"
     ]
    },
    {
     "name": "stdout",
     "output_type": "stream",
     "text": [
      "Oakland_11062012_SchoolDirectorDistrict3.csv\n"
     ]
    },
    {
     "name": "stderr",
     "output_type": "stream",
     "text": [
      "c:\\Users\\mahsh\\Documents\\GitHub\\bugs-in-democracy\\team_arrow\\clean\\rcv_dimensionality.py:170: RuntimeWarning: divide by zero encountered in true_divide\n",
      "  distance = 1 / np.sqrt(freq_upper_triangle)\n",
      "C:\\Users\\mahsh\\AppData\\Local\\Temp\\ipykernel_21280\\541227406.py:69: FutureWarning: The frame.append method is deprecated and will be removed from pandas in a future version. Use pandas.concat instead.\n",
      "  winners = winners.append({'filename': filename, 'diff': diff, 'IRV1': irv1, 'Condorcet1': condorcet1,\n"
     ]
    },
    {
     "name": "stdout",
     "output_type": "stream",
     "text": [
      "Oakland_11062012_SchoolDirectorDistrict5.csv\n"
     ]
    },
    {
     "name": "stderr",
     "output_type": "stream",
     "text": [
      "c:\\Users\\mahsh\\Documents\\GitHub\\bugs-in-democracy\\team_arrow\\clean\\rcv_dimensionality.py:170: RuntimeWarning: divide by zero encountered in true_divide\n",
      "  distance = 1 / np.sqrt(freq_upper_triangle)\n",
      "C:\\Users\\mahsh\\AppData\\Local\\Temp\\ipykernel_21280\\541227406.py:69: FutureWarning: The frame.append method is deprecated and will be removed from pandas in a future version. Use pandas.concat instead.\n",
      "  winners = winners.append({'filename': filename, 'diff': diff, 'IRV1': irv1, 'Condorcet1': condorcet1,\n"
     ]
    },
    {
     "name": "stdout",
     "output_type": "stream",
     "text": [
      "Oakland_11062012_SchoolDirectorDistrict7.csv\n"
     ]
    },
    {
     "name": "stderr",
     "output_type": "stream",
     "text": [
      "c:\\Users\\mahsh\\Documents\\GitHub\\bugs-in-democracy\\team_arrow\\clean\\rcv_dimensionality.py:170: RuntimeWarning: divide by zero encountered in true_divide\n",
      "  distance = 1 / np.sqrt(freq_upper_triangle)\n",
      "C:\\Users\\mahsh\\AppData\\Local\\Temp\\ipykernel_21280\\541227406.py:69: FutureWarning: The frame.append method is deprecated and will be removed from pandas in a future version. Use pandas.concat instead.\n",
      "  winners = winners.append({'filename': filename, 'diff': diff, 'IRV1': irv1, 'Condorcet1': condorcet1,\n"
     ]
    },
    {
     "name": "stdout",
     "output_type": "stream",
     "text": [
      "Oakland_11062018_CityAuditor.csv\n"
     ]
    },
    {
     "name": "stderr",
     "output_type": "stream",
     "text": [
      "c:\\Users\\mahsh\\Documents\\GitHub\\bugs-in-democracy\\team_arrow\\clean\\rcv_dimensionality.py:170: RuntimeWarning: divide by zero encountered in true_divide\n",
      "  distance = 1 / np.sqrt(freq_upper_triangle)\n",
      "C:\\Users\\mahsh\\AppData\\Local\\Temp\\ipykernel_21280\\541227406.py:69: FutureWarning: The frame.append method is deprecated and will be removed from pandas in a future version. Use pandas.concat instead.\n",
      "  winners = winners.append({'filename': filename, 'diff': diff, 'IRV1': irv1, 'Condorcet1': condorcet1,\n"
     ]
    },
    {
     "name": "stdout",
     "output_type": "stream",
     "text": [
      "Oakland_11062018_CityCouncilDistrict2.csv\n"
     ]
    },
    {
     "name": "stderr",
     "output_type": "stream",
     "text": [
      "c:\\Users\\mahsh\\Documents\\GitHub\\bugs-in-democracy\\team_arrow\\clean\\rcv_dimensionality.py:170: RuntimeWarning: divide by zero encountered in true_divide\n",
      "  distance = 1 / np.sqrt(freq_upper_triangle)\n",
      "C:\\Users\\mahsh\\AppData\\Local\\Temp\\ipykernel_21280\\541227406.py:69: FutureWarning: The frame.append method is deprecated and will be removed from pandas in a future version. Use pandas.concat instead.\n",
      "  winners = winners.append({'filename': filename, 'diff': diff, 'IRV1': irv1, 'Condorcet1': condorcet1,\n"
     ]
    },
    {
     "name": "stdout",
     "output_type": "stream",
     "text": [
      "Oakland_11062018_CityCouncilDistrict4.csv\n"
     ]
    },
    {
     "name": "stderr",
     "output_type": "stream",
     "text": [
      "c:\\Users\\mahsh\\Documents\\GitHub\\bugs-in-democracy\\team_arrow\\clean\\rcv_dimensionality.py:170: RuntimeWarning: divide by zero encountered in true_divide\n",
      "  distance = 1 / np.sqrt(freq_upper_triangle)\n",
      "C:\\Users\\mahsh\\AppData\\Local\\Temp\\ipykernel_21280\\541227406.py:69: FutureWarning: The frame.append method is deprecated and will be removed from pandas in a future version. Use pandas.concat instead.\n",
      "  winners = winners.append({'filename': filename, 'diff': diff, 'IRV1': irv1, 'Condorcet1': condorcet1,\n"
     ]
    },
    {
     "name": "stdout",
     "output_type": "stream",
     "text": [
      "Oakland_11062018_CityCouncilDistrict6.csv\n"
     ]
    },
    {
     "name": "stderr",
     "output_type": "stream",
     "text": [
      "c:\\Users\\mahsh\\Documents\\GitHub\\bugs-in-democracy\\team_arrow\\clean\\rcv_dimensionality.py:170: RuntimeWarning: divide by zero encountered in true_divide\n",
      "  distance = 1 / np.sqrt(freq_upper_triangle)\n",
      "C:\\Users\\mahsh\\AppData\\Local\\Temp\\ipykernel_21280\\541227406.py:69: FutureWarning: The frame.append method is deprecated and will be removed from pandas in a future version. Use pandas.concat instead.\n",
      "  winners = winners.append({'filename': filename, 'diff': diff, 'IRV1': irv1, 'Condorcet1': condorcet1,\n"
     ]
    },
    {
     "name": "stdout",
     "output_type": "stream",
     "text": [
      "Oakland_11062018_Mayor.csv\n"
     ]
    },
    {
     "name": "stderr",
     "output_type": "stream",
     "text": [
      "c:\\Users\\mahsh\\Documents\\GitHub\\bugs-in-democracy\\team_arrow\\clean\\rcv_dimensionality.py:170: RuntimeWarning: divide by zero encountered in true_divide\n",
      "  distance = 1 / np.sqrt(freq_upper_triangle)\n",
      "C:\\Users\\mahsh\\AppData\\Local\\Temp\\ipykernel_21280\\541227406.py:69: FutureWarning: The frame.append method is deprecated and will be removed from pandas in a future version. Use pandas.concat instead.\n",
      "  winners = winners.append({'filename': filename, 'diff': diff, 'IRV1': irv1, 'Condorcet1': condorcet1,\n"
     ]
    },
    {
     "name": "stdout",
     "output_type": "stream",
     "text": [
      "Oakland_11062018_SchoolDirectorDistrict2.csv\n",
      "Oakland_11062018_SchoolDirectorDistrict2.csv  threw an error\n",
      "Oakland_11062018_SchoolDirectorDistrict4.csv\n"
     ]
    },
    {
     "name": "stderr",
     "output_type": "stream",
     "text": [
      "c:\\Users\\mahsh\\Documents\\GitHub\\bugs-in-democracy\\team_arrow\\clean\\rcv_dimensionality.py:170: RuntimeWarning: divide by zero encountered in true_divide\n",
      "  distance = 1 / np.sqrt(freq_upper_triangle)\n",
      "C:\\Users\\mahsh\\AppData\\Local\\Temp\\ipykernel_21280\\541227406.py:69: FutureWarning: The frame.append method is deprecated and will be removed from pandas in a future version. Use pandas.concat instead.\n",
      "  winners = winners.append({'filename': filename, 'diff': diff, 'IRV1': irv1, 'Condorcet1': condorcet1,\n"
     ]
    },
    {
     "name": "stdout",
     "output_type": "stream",
     "text": [
      "Oakland_11062018_SchoolDirectorDistrict6.csv\n"
     ]
    },
    {
     "name": "stderr",
     "output_type": "stream",
     "text": [
      "c:\\Users\\mahsh\\Documents\\GitHub\\bugs-in-democracy\\team_arrow\\clean\\rcv_dimensionality.py:170: RuntimeWarning: divide by zero encountered in true_divide\n",
      "  distance = 1 / np.sqrt(freq_upper_triangle)\n",
      "C:\\Users\\mahsh\\AppData\\Local\\Temp\\ipykernel_21280\\541227406.py:69: FutureWarning: The frame.append method is deprecated and will be removed from pandas in a future version. Use pandas.concat instead.\n",
      "  winners = winners.append({'filename': filename, 'diff': diff, 'IRV1': irv1, 'Condorcet1': condorcet1,\n"
     ]
    },
    {
     "name": "stdout",
     "output_type": "stream",
     "text": [
      "Oakland_11082016_CityAttorney.csv\n",
      "Oakland_11082016_CityAttorney.csv  threw an error\n",
      "Oakland_11082016_CityCouncilDistrict1.csv\n"
     ]
    },
    {
     "name": "stderr",
     "output_type": "stream",
     "text": [
      "c:\\Users\\mahsh\\Documents\\GitHub\\bugs-in-democracy\\team_arrow\\clean\\rcv_dimensionality.py:170: RuntimeWarning: divide by zero encountered in true_divide\n",
      "  distance = 1 / np.sqrt(freq_upper_triangle)\n",
      "C:\\Users\\mahsh\\AppData\\Local\\Temp\\ipykernel_21280\\541227406.py:69: FutureWarning: The frame.append method is deprecated and will be removed from pandas in a future version. Use pandas.concat instead.\n",
      "  winners = winners.append({'filename': filename, 'diff': diff, 'IRV1': irv1, 'Condorcet1': condorcet1,\n"
     ]
    },
    {
     "name": "stdout",
     "output_type": "stream",
     "text": [
      "Oakland_11082016_CityCouncilDistrict3.csv\n"
     ]
    },
    {
     "name": "stderr",
     "output_type": "stream",
     "text": [
      "c:\\Users\\mahsh\\Documents\\GitHub\\bugs-in-democracy\\team_arrow\\clean\\rcv_dimensionality.py:170: RuntimeWarning: divide by zero encountered in true_divide\n",
      "  distance = 1 / np.sqrt(freq_upper_triangle)\n",
      "C:\\Users\\mahsh\\AppData\\Local\\Temp\\ipykernel_21280\\541227406.py:69: FutureWarning: The frame.append method is deprecated and will be removed from pandas in a future version. Use pandas.concat instead.\n",
      "  winners = winners.append({'filename': filename, 'diff': diff, 'IRV1': irv1, 'Condorcet1': condorcet1,\n"
     ]
    },
    {
     "name": "stdout",
     "output_type": "stream",
     "text": [
      "Oakland_11082016_CityCouncilDistrict5.csv\n"
     ]
    },
    {
     "name": "stderr",
     "output_type": "stream",
     "text": [
      "c:\\Users\\mahsh\\Documents\\GitHub\\bugs-in-democracy\\team_arrow\\clean\\rcv_dimensionality.py:170: RuntimeWarning: divide by zero encountered in true_divide\n",
      "  distance = 1 / np.sqrt(freq_upper_triangle)\n",
      "C:\\Users\\mahsh\\AppData\\Local\\Temp\\ipykernel_21280\\541227406.py:69: FutureWarning: The frame.append method is deprecated and will be removed from pandas in a future version. Use pandas.concat instead.\n",
      "  winners = winners.append({'filename': filename, 'diff': diff, 'IRV1': irv1, 'Condorcet1': condorcet1,\n"
     ]
    },
    {
     "name": "stdout",
     "output_type": "stream",
     "text": [
      "Oakland_11082016_CityCouncilDistrict7.csv\n"
     ]
    },
    {
     "name": "stderr",
     "output_type": "stream",
     "text": [
      "c:\\Users\\mahsh\\Documents\\GitHub\\bugs-in-democracy\\team_arrow\\clean\\rcv_dimensionality.py:170: RuntimeWarning: divide by zero encountered in true_divide\n",
      "  distance = 1 / np.sqrt(freq_upper_triangle)\n",
      "C:\\Users\\mahsh\\AppData\\Local\\Temp\\ipykernel_21280\\541227406.py:69: FutureWarning: The frame.append method is deprecated and will be removed from pandas in a future version. Use pandas.concat instead.\n",
      "  winners = winners.append({'filename': filename, 'diff': diff, 'IRV1': irv1, 'Condorcet1': condorcet1,\n"
     ]
    },
    {
     "name": "stdout",
     "output_type": "stream",
     "text": [
      "Oakland_11082016_CouncilAtLrg.csv\n"
     ]
    },
    {
     "name": "stderr",
     "output_type": "stream",
     "text": [
      "c:\\Users\\mahsh\\Documents\\GitHub\\bugs-in-democracy\\team_arrow\\clean\\rcv_dimensionality.py:170: RuntimeWarning: divide by zero encountered in true_divide\n",
      "  distance = 1 / np.sqrt(freq_upper_triangle)\n",
      "C:\\Users\\mahsh\\AppData\\Local\\Temp\\ipykernel_21280\\541227406.py:69: FutureWarning: The frame.append method is deprecated and will be removed from pandas in a future version. Use pandas.concat instead.\n",
      "  winners = winners.append({'filename': filename, 'diff': diff, 'IRV1': irv1, 'Condorcet1': condorcet1,\n"
     ]
    },
    {
     "name": "stdout",
     "output_type": "stream",
     "text": [
      "Oakland_11082016_SchoolDirectorDistrict1.csv\n"
     ]
    },
    {
     "name": "stderr",
     "output_type": "stream",
     "text": [
      "c:\\Users\\mahsh\\Documents\\GitHub\\bugs-in-democracy\\team_arrow\\clean\\rcv_dimensionality.py:170: RuntimeWarning: divide by zero encountered in true_divide\n",
      "  distance = 1 / np.sqrt(freq_upper_triangle)\n",
      "C:\\Users\\mahsh\\AppData\\Local\\Temp\\ipykernel_21280\\541227406.py:69: FutureWarning: The frame.append method is deprecated and will be removed from pandas in a future version. Use pandas.concat instead.\n",
      "  winners = winners.append({'filename': filename, 'diff': diff, 'IRV1': irv1, 'Condorcet1': condorcet1,\n"
     ]
    },
    {
     "name": "stdout",
     "output_type": "stream",
     "text": [
      "Oakland_11082016_SchoolDirectorDistrict3.csv\n"
     ]
    },
    {
     "name": "stderr",
     "output_type": "stream",
     "text": [
      "c:\\Users\\mahsh\\Documents\\GitHub\\bugs-in-democracy\\team_arrow\\clean\\rcv_dimensionality.py:170: RuntimeWarning: divide by zero encountered in true_divide\n",
      "  distance = 1 / np.sqrt(freq_upper_triangle)\n",
      "C:\\Users\\mahsh\\AppData\\Local\\Temp\\ipykernel_21280\\541227406.py:69: FutureWarning: The frame.append method is deprecated and will be removed from pandas in a future version. Use pandas.concat instead.\n",
      "  winners = winners.append({'filename': filename, 'diff': diff, 'IRV1': irv1, 'Condorcet1': condorcet1,\n"
     ]
    },
    {
     "name": "stdout",
     "output_type": "stream",
     "text": [
      "Oakland_11082016_SchoolDirectorDistrict5.csv\n"
     ]
    },
    {
     "name": "stderr",
     "output_type": "stream",
     "text": [
      "c:\\Users\\mahsh\\Documents\\GitHub\\bugs-in-democracy\\team_arrow\\clean\\rcv_dimensionality.py:170: RuntimeWarning: divide by zero encountered in true_divide\n",
      "  distance = 1 / np.sqrt(freq_upper_triangle)\n",
      "C:\\Users\\mahsh\\AppData\\Local\\Temp\\ipykernel_21280\\541227406.py:69: FutureWarning: The frame.append method is deprecated and will be removed from pandas in a future version. Use pandas.concat instead.\n",
      "  winners = winners.append({'filename': filename, 'diff': diff, 'IRV1': irv1, 'Condorcet1': condorcet1,\n"
     ]
    },
    {
     "name": "stdout",
     "output_type": "stream",
     "text": [
      "Oakland_11082016_SchoolDirectorDistrict7.csv\n"
     ]
    },
    {
     "name": "stderr",
     "output_type": "stream",
     "text": [
      "c:\\Users\\mahsh\\Documents\\GitHub\\bugs-in-democracy\\team_arrow\\clean\\rcv_dimensionality.py:170: RuntimeWarning: divide by zero encountered in true_divide\n",
      "  distance = 1 / np.sqrt(freq_upper_triangle)\n",
      "C:\\Users\\mahsh\\AppData\\Local\\Temp\\ipykernel_21280\\541227406.py:69: FutureWarning: The frame.append method is deprecated and will be removed from pandas in a future version. Use pandas.concat instead.\n",
      "  winners = winners.append({'filename': filename, 'diff': diff, 'IRV1': irv1, 'Condorcet1': condorcet1,\n"
     ]
    },
    {
     "name": "stdout",
     "output_type": "stream",
     "text": [
      "Oakland_11082022_CityAuditor.csv\n",
      "Oakland_11082022_CityAuditor.csv  threw an error\n",
      "Oakland_11082022_CityCouncilmemberDistrict4.csv\n"
     ]
    },
    {
     "name": "stderr",
     "output_type": "stream",
     "text": [
      "c:\\Users\\mahsh\\Documents\\GitHub\\bugs-in-democracy\\team_arrow\\clean\\rcv_dimensionality.py:170: RuntimeWarning: divide by zero encountered in true_divide\n",
      "  distance = 1 / np.sqrt(freq_upper_triangle)\n",
      "C:\\Users\\mahsh\\AppData\\Local\\Temp\\ipykernel_21280\\541227406.py:69: FutureWarning: The frame.append method is deprecated and will be removed from pandas in a future version. Use pandas.concat instead.\n",
      "  winners = winners.append({'filename': filename, 'diff': diff, 'IRV1': irv1, 'Condorcet1': condorcet1,\n"
     ]
    },
    {
     "name": "stdout",
     "output_type": "stream",
     "text": [
      "Oakland_11082022_CityCouncilmemberDistrict6.csv\n"
     ]
    },
    {
     "name": "stderr",
     "output_type": "stream",
     "text": [
      "c:\\Users\\mahsh\\Documents\\GitHub\\bugs-in-democracy\\team_arrow\\clean\\rcv_dimensionality.py:170: RuntimeWarning: divide by zero encountered in true_divide\n",
      "  distance = 1 / np.sqrt(freq_upper_triangle)\n",
      "C:\\Users\\mahsh\\AppData\\Local\\Temp\\ipykernel_21280\\541227406.py:69: FutureWarning: The frame.append method is deprecated and will be removed from pandas in a future version. Use pandas.concat instead.\n",
      "  winners = winners.append({'filename': filename, 'diff': diff, 'IRV1': irv1, 'Condorcet1': condorcet1,\n"
     ]
    },
    {
     "name": "stdout",
     "output_type": "stream",
     "text": [
      "Oakland_11082022_Mayor.csv\n"
     ]
    },
    {
     "name": "stderr",
     "output_type": "stream",
     "text": [
      "c:\\Users\\mahsh\\Documents\\GitHub\\bugs-in-democracy\\team_arrow\\clean\\rcv_dimensionality.py:170: RuntimeWarning: divide by zero encountered in true_divide\n",
      "  distance = 1 / np.sqrt(freq_upper_triangle)\n",
      "C:\\Users\\mahsh\\AppData\\Local\\Temp\\ipykernel_21280\\541227406.py:69: FutureWarning: The frame.append method is deprecated and will be removed from pandas in a future version. Use pandas.concat instead.\n",
      "  winners = winners.append({'filename': filename, 'diff': diff, 'IRV1': irv1, 'Condorcet1': condorcet1,\n"
     ]
    },
    {
     "name": "stdout",
     "output_type": "stream",
     "text": [
      "Oakland_11082022_Schoolboarddistrict2.csv\n"
     ]
    },
    {
     "name": "stderr",
     "output_type": "stream",
     "text": [
      "c:\\Users\\mahsh\\Documents\\GitHub\\bugs-in-democracy\\team_arrow\\clean\\rcv_dimensionality.py:170: RuntimeWarning: divide by zero encountered in true_divide\n",
      "  distance = 1 / np.sqrt(freq_upper_triangle)\n",
      "C:\\Users\\mahsh\\AppData\\Local\\Temp\\ipykernel_21280\\541227406.py:69: FutureWarning: The frame.append method is deprecated and will be removed from pandas in a future version. Use pandas.concat instead.\n",
      "  winners = winners.append({'filename': filename, 'diff': diff, 'IRV1': irv1, 'Condorcet1': condorcet1,\n"
     ]
    },
    {
     "name": "stdout",
     "output_type": "stream",
     "text": [
      "Oakland_11082022_Schoolboarddistrict4.csv\n"
     ]
    },
    {
     "name": "stderr",
     "output_type": "stream",
     "text": [
      "c:\\Users\\mahsh\\Documents\\GitHub\\bugs-in-democracy\\team_arrow\\clean\\rcv_dimensionality.py:170: RuntimeWarning: divide by zero encountered in true_divide\n",
      "  distance = 1 / np.sqrt(freq_upper_triangle)\n",
      "C:\\Users\\mahsh\\AppData\\Local\\Temp\\ipykernel_21280\\541227406.py:69: FutureWarning: The frame.append method is deprecated and will be removed from pandas in a future version. Use pandas.concat instead.\n",
      "  winners = winners.append({'filename': filename, 'diff': diff, 'IRV1': irv1, 'Condorcet1': condorcet1,\n"
     ]
    },
    {
     "name": "stdout",
     "output_type": "stream",
     "text": [
      "Oakland_11082022_Schoolboarddistrict6.csv\n"
     ]
    },
    {
     "name": "stderr",
     "output_type": "stream",
     "text": [
      "c:\\Users\\mahsh\\Documents\\GitHub\\bugs-in-democracy\\team_arrow\\clean\\rcv_dimensionality.py:170: RuntimeWarning: divide by zero encountered in true_divide\n",
      "  distance = 1 / np.sqrt(freq_upper_triangle)\n",
      "C:\\Users\\mahsh\\AppData\\Local\\Temp\\ipykernel_21280\\541227406.py:69: FutureWarning: The frame.append method is deprecated and will be removed from pandas in a future version. Use pandas.concat instead.\n",
      "  winners = winners.append({'filename': filename, 'diff': diff, 'IRV1': irv1, 'Condorcet1': condorcet1,\n"
     ]
    },
    {
     "name": "stdout",
     "output_type": "stream",
     "text": [
      "Payson_11052019_CityCouncil.csv\n"
     ]
    },
    {
     "name": "stderr",
     "output_type": "stream",
     "text": [
      "c:\\Users\\mahsh\\Documents\\GitHub\\bugs-in-democracy\\team_arrow\\clean\\rcv_dimensionality.py:170: RuntimeWarning: divide by zero encountered in true_divide\n",
      "  distance = 1 / np.sqrt(freq_upper_triangle)\n",
      "C:\\Users\\mahsh\\AppData\\Local\\Temp\\ipykernel_21280\\541227406.py:69: FutureWarning: The frame.append method is deprecated and will be removed from pandas in a future version. Use pandas.concat instead.\n",
      "  winners = winners.append({'filename': filename, 'diff': diff, 'IRV1': irv1, 'Condorcet1': condorcet1,\n"
     ]
    },
    {
     "name": "stdout",
     "output_type": "stream",
     "text": [
      "PierceCounty_11032009_CountyAuditor.csv\n"
     ]
    },
    {
     "name": "stderr",
     "output_type": "stream",
     "text": [
      "c:\\Users\\mahsh\\Documents\\GitHub\\bugs-in-democracy\\team_arrow\\clean\\rcv_dimensionality.py:170: RuntimeWarning: divide by zero encountered in true_divide\n",
      "  distance = 1 / np.sqrt(freq_upper_triangle)\n",
      "C:\\Users\\mahsh\\AppData\\Local\\Temp\\ipykernel_21280\\541227406.py:69: FutureWarning: The frame.append method is deprecated and will be removed from pandas in a future version. Use pandas.concat instead.\n",
      "  winners = winners.append({'filename': filename, 'diff': diff, 'IRV1': irv1, 'Condorcet1': condorcet1,\n"
     ]
    },
    {
     "name": "stdout",
     "output_type": "stream",
     "text": [
      "PierceCounty_11042008_CountyAssessorTreasurer.csv\n"
     ]
    },
    {
     "name": "stderr",
     "output_type": "stream",
     "text": [
      "c:\\Users\\mahsh\\Documents\\GitHub\\bugs-in-democracy\\team_arrow\\clean\\rcv_dimensionality.py:170: RuntimeWarning: divide by zero encountered in true_divide\n",
      "  distance = 1 / np.sqrt(freq_upper_triangle)\n",
      "C:\\Users\\mahsh\\AppData\\Local\\Temp\\ipykernel_21280\\541227406.py:69: FutureWarning: The frame.append method is deprecated and will be removed from pandas in a future version. Use pandas.concat instead.\n",
      "  winners = winners.append({'filename': filename, 'diff': diff, 'IRV1': irv1, 'Condorcet1': condorcet1,\n"
     ]
    },
    {
     "name": "stdout",
     "output_type": "stream",
     "text": [
      "PierceCounty_11042008_CountyCouncilDistrict2.csv\n"
     ]
    },
    {
     "name": "stderr",
     "output_type": "stream",
     "text": [
      "c:\\Users\\mahsh\\Documents\\GitHub\\bugs-in-democracy\\team_arrow\\clean\\rcv_dimensionality.py:170: RuntimeWarning: divide by zero encountered in true_divide\n",
      "  distance = 1 / np.sqrt(freq_upper_triangle)\n",
      "C:\\Users\\mahsh\\AppData\\Local\\Temp\\ipykernel_21280\\541227406.py:69: FutureWarning: The frame.append method is deprecated and will be removed from pandas in a future version. Use pandas.concat instead.\n",
      "  winners = winners.append({'filename': filename, 'diff': diff, 'IRV1': irv1, 'Condorcet1': condorcet1,\n"
     ]
    },
    {
     "name": "stdout",
     "output_type": "stream",
     "text": [
      "PierceCounty_11042008_CountyExecutiveMember.csv\n"
     ]
    },
    {
     "name": "stderr",
     "output_type": "stream",
     "text": [
      "c:\\Users\\mahsh\\Documents\\GitHub\\bugs-in-democracy\\team_arrow\\clean\\rcv_dimensionality.py:170: RuntimeWarning: divide by zero encountered in true_divide\n",
      "  distance = 1 / np.sqrt(freq_upper_triangle)\n",
      "C:\\Users\\mahsh\\AppData\\Local\\Temp\\ipykernel_21280\\541227406.py:69: FutureWarning: The frame.append method is deprecated and will be removed from pandas in a future version. Use pandas.concat instead.\n",
      "  winners = winners.append({'filename': filename, 'diff': diff, 'IRV1': irv1, 'Condorcet1': condorcet1,\n"
     ]
    },
    {
     "name": "stdout",
     "output_type": "stream",
     "text": [
      "Portland_06082021_charter_commission_at_large.csv\n"
     ]
    },
    {
     "name": "stderr",
     "output_type": "stream",
     "text": [
      "c:\\Users\\mahsh\\Documents\\GitHub\\bugs-in-democracy\\team_arrow\\clean\\rcv_dimensionality.py:170: RuntimeWarning: divide by zero encountered in true_divide\n",
      "  distance = 1 / np.sqrt(freq_upper_triangle)\n",
      "C:\\Users\\mahsh\\AppData\\Local\\Temp\\ipykernel_21280\\541227406.py:69: FutureWarning: The frame.append method is deprecated and will be removed from pandas in a future version. Use pandas.concat instead.\n",
      "  winners = winners.append({'filename': filename, 'diff': diff, 'IRV1': irv1, 'Condorcet1': condorcet1,\n"
     ]
    },
    {
     "name": "stdout",
     "output_type": "stream",
     "text": [
      "Portland_06142022_SchoolboardAL-1.csv\n"
     ]
    },
    {
     "name": "stderr",
     "output_type": "stream",
     "text": [
      "c:\\Users\\mahsh\\Documents\\GitHub\\bugs-in-democracy\\team_arrow\\clean\\rcv_dimensionality.py:170: RuntimeWarning: divide by zero encountered in true_divide\n",
      "  distance = 1 / np.sqrt(freq_upper_triangle)\n",
      "C:\\Users\\mahsh\\AppData\\Local\\Temp\\ipykernel_21280\\541227406.py:69: FutureWarning: The frame.append method is deprecated and will be removed from pandas in a future version. Use pandas.concat instead.\n",
      "  winners = winners.append({'filename': filename, 'diff': diff, 'IRV1': irv1, 'Condorcet1': condorcet1,\n"
     ]
    },
    {
     "name": "stdout",
     "output_type": "stream",
     "text": [
      "Portland_06142022_SchoolboardAL.csv\n"
     ]
    },
    {
     "name": "stderr",
     "output_type": "stream",
     "text": [
      "c:\\Users\\mahsh\\Documents\\GitHub\\bugs-in-democracy\\team_arrow\\clean\\rcv_dimensionality.py:159: RuntimeWarning: divide by zero encountered in true_divide\n",
      "  frequencies = counts / mentioned_together\n",
      "c:\\Users\\mahsh\\Documents\\GitHub\\bugs-in-democracy\\team_arrow\\clean\\rcv_dimensionality.py:159: RuntimeWarning: invalid value encountered in true_divide\n",
      "  frequencies = counts / mentioned_together\n",
      "c:\\Users\\mahsh\\Documents\\GitHub\\bugs-in-democracy\\team_arrow\\clean\\rcv_dimensionality.py:170: RuntimeWarning: divide by zero encountered in true_divide\n",
      "  distance = 1 / np.sqrt(freq_upper_triangle)\n"
     ]
    },
    {
     "name": "stdout",
     "output_type": "stream",
     "text": [
      "Portland_06142022_SchoolboardAL.csv  threw an error\n",
      "Portland_06142022_Schoolboarddistrict5-1.csv\n"
     ]
    },
    {
     "name": "stderr",
     "output_type": "stream",
     "text": [
      "c:\\Users\\mahsh\\Documents\\GitHub\\bugs-in-democracy\\team_arrow\\clean\\rcv_dimensionality.py:170: RuntimeWarning: divide by zero encountered in true_divide\n",
      "  distance = 1 / np.sqrt(freq_upper_triangle)\n",
      "C:\\Users\\mahsh\\AppData\\Local\\Temp\\ipykernel_21280\\541227406.py:69: FutureWarning: The frame.append method is deprecated and will be removed from pandas in a future version. Use pandas.concat instead.\n",
      "  winners = winners.append({'filename': filename, 'diff': diff, 'IRV1': irv1, 'Condorcet1': condorcet1,\n"
     ]
    },
    {
     "name": "stdout",
     "output_type": "stream",
     "text": [
      "Portland_06142022_Schoolboarddistrict5.csv\n"
     ]
    },
    {
     "name": "stderr",
     "output_type": "stream",
     "text": [
      "c:\\Users\\mahsh\\Documents\\GitHub\\bugs-in-democracy\\team_arrow\\clean\\rcv_dimensionality.py:159: RuntimeWarning: divide by zero encountered in true_divide\n",
      "  frequencies = counts / mentioned_together\n",
      "c:\\Users\\mahsh\\Documents\\GitHub\\bugs-in-democracy\\team_arrow\\clean\\rcv_dimensionality.py:159: RuntimeWarning: invalid value encountered in true_divide\n",
      "  frequencies = counts / mentioned_together\n",
      "c:\\Users\\mahsh\\Documents\\GitHub\\bugs-in-democracy\\team_arrow\\clean\\rcv_dimensionality.py:170: RuntimeWarning: divide by zero encountered in true_divide\n",
      "  distance = 1 / np.sqrt(freq_upper_triangle)\n"
     ]
    },
    {
     "name": "stdout",
     "output_type": "stream",
     "text": [
      "Portland_06142022_Schoolboarddistrict5.csv  threw an error\n",
      "Portland_11082022_SchoolBoardDistrict3.csv\n"
     ]
    },
    {
     "name": "stderr",
     "output_type": "stream",
     "text": [
      "c:\\Users\\mahsh\\Documents\\GitHub\\bugs-in-democracy\\team_arrow\\clean\\rcv_dimensionality.py:170: RuntimeWarning: divide by zero encountered in true_divide\n",
      "  distance = 1 / np.sqrt(freq_upper_triangle)\n",
      "C:\\Users\\mahsh\\AppData\\Local\\Temp\\ipykernel_21280\\541227406.py:69: FutureWarning: The frame.append method is deprecated and will be removed from pandas in a future version. Use pandas.concat instead.\n",
      "  winners = winners.append({'filename': filename, 'diff': diff, 'IRV1': irv1, 'Condorcet1': condorcet1,\n"
     ]
    },
    {
     "name": "stdout",
     "output_type": "stream",
     "text": [
      "SanFrancisco_06052018_BoardofSupervisorsDistrict8.csv\n"
     ]
    },
    {
     "name": "stderr",
     "output_type": "stream",
     "text": [
      "c:\\Users\\mahsh\\Documents\\GitHub\\bugs-in-democracy\\team_arrow\\clean\\rcv_dimensionality.py:170: RuntimeWarning: divide by zero encountered in true_divide\n",
      "  distance = 1 / np.sqrt(freq_upper_triangle)\n",
      "C:\\Users\\mahsh\\AppData\\Local\\Temp\\ipykernel_21280\\541227406.py:69: FutureWarning: The frame.append method is deprecated and will be removed from pandas in a future version. Use pandas.concat instead.\n",
      "  winners = winners.append({'filename': filename, 'diff': diff, 'IRV1': irv1, 'Condorcet1': condorcet1,\n"
     ]
    },
    {
     "name": "stdout",
     "output_type": "stream",
     "text": [
      "SanFrancisco_06052018_Mayor.csv\n"
     ]
    },
    {
     "name": "stderr",
     "output_type": "stream",
     "text": [
      "c:\\Users\\mahsh\\Documents\\GitHub\\bugs-in-democracy\\team_arrow\\clean\\rcv_dimensionality.py:170: RuntimeWarning: divide by zero encountered in true_divide\n",
      "  distance = 1 / np.sqrt(freq_upper_triangle)\n",
      "C:\\Users\\mahsh\\AppData\\Local\\Temp\\ipykernel_21280\\541227406.py:69: FutureWarning: The frame.append method is deprecated and will be removed from pandas in a future version. Use pandas.concat instead.\n",
      "  winners = winners.append({'filename': filename, 'diff': diff, 'IRV1': irv1, 'Condorcet1': condorcet1,\n"
     ]
    },
    {
     "name": "stdout",
     "output_type": "stream",
     "text": [
      "SanFrancisco_11022004_BoardofSupervisorsDistrict11.csv\n"
     ]
    },
    {
     "name": "stderr",
     "output_type": "stream",
     "text": [
      "c:\\Users\\mahsh\\Documents\\GitHub\\bugs-in-democracy\\team_arrow\\clean\\rcv_dimensionality.py:170: RuntimeWarning: divide by zero encountered in true_divide\n",
      "  distance = 1 / np.sqrt(freq_upper_triangle)\n",
      "C:\\Users\\mahsh\\AppData\\Local\\Temp\\ipykernel_21280\\541227406.py:69: FutureWarning: The frame.append method is deprecated and will be removed from pandas in a future version. Use pandas.concat instead.\n",
      "  winners = winners.append({'filename': filename, 'diff': diff, 'IRV1': irv1, 'Condorcet1': condorcet1,\n"
     ]
    },
    {
     "name": "stdout",
     "output_type": "stream",
     "text": [
      "SanFrancisco_11022004_BoardofSupervisorsDistrict2.csv\n"
     ]
    },
    {
     "name": "stderr",
     "output_type": "stream",
     "text": [
      "c:\\Users\\mahsh\\Documents\\GitHub\\bugs-in-democracy\\team_arrow\\clean\\rcv_dimensionality.py:170: RuntimeWarning: divide by zero encountered in true_divide\n",
      "  distance = 1 / np.sqrt(freq_upper_triangle)\n",
      "C:\\Users\\mahsh\\AppData\\Local\\Temp\\ipykernel_21280\\541227406.py:69: FutureWarning: The frame.append method is deprecated and will be removed from pandas in a future version. Use pandas.concat instead.\n",
      "  winners = winners.append({'filename': filename, 'diff': diff, 'IRV1': irv1, 'Condorcet1': condorcet1,\n"
     ]
    },
    {
     "name": "stdout",
     "output_type": "stream",
     "text": [
      "SanFrancisco_11022004_BoardofSupervisorsDistrict3.csv\n"
     ]
    },
    {
     "name": "stderr",
     "output_type": "stream",
     "text": [
      "c:\\Users\\mahsh\\Documents\\GitHub\\bugs-in-democracy\\team_arrow\\clean\\rcv_dimensionality.py:170: RuntimeWarning: divide by zero encountered in true_divide\n",
      "  distance = 1 / np.sqrt(freq_upper_triangle)\n",
      "C:\\Users\\mahsh\\AppData\\Local\\Temp\\ipykernel_21280\\541227406.py:69: FutureWarning: The frame.append method is deprecated and will be removed from pandas in a future version. Use pandas.concat instead.\n",
      "  winners = winners.append({'filename': filename, 'diff': diff, 'IRV1': irv1, 'Condorcet1': condorcet1,\n"
     ]
    },
    {
     "name": "stdout",
     "output_type": "stream",
     "text": [
      "SanFrancisco_11022004_BoardofSupervisorsDistrict5.csv\n"
     ]
    },
    {
     "name": "stderr",
     "output_type": "stream",
     "text": [
      "c:\\Users\\mahsh\\Documents\\GitHub\\bugs-in-democracy\\team_arrow\\clean\\rcv_dimensionality.py:170: RuntimeWarning: divide by zero encountered in true_divide\n",
      "  distance = 1 / np.sqrt(freq_upper_triangle)\n"
     ]
    },
    {
     "name": "stdout",
     "output_type": "stream",
     "text": [
      "SanFrancisco_11022004_BoardofSupervisorsDistrict7.csv\n"
     ]
    },
    {
     "name": "stderr",
     "output_type": "stream",
     "text": [
      "C:\\Users\\mahsh\\AppData\\Local\\Temp\\ipykernel_21280\\541227406.py:69: FutureWarning: The frame.append method is deprecated and will be removed from pandas in a future version. Use pandas.concat instead.\n",
      "  winners = winners.append({'filename': filename, 'diff': diff, 'IRV1': irv1, 'Condorcet1': condorcet1,\n",
      "c:\\Users\\mahsh\\Documents\\GitHub\\bugs-in-democracy\\team_arrow\\clean\\rcv_dimensionality.py:170: RuntimeWarning: divide by zero encountered in true_divide\n",
      "  distance = 1 / np.sqrt(freq_upper_triangle)\n",
      "C:\\Users\\mahsh\\AppData\\Local\\Temp\\ipykernel_21280\\541227406.py:69: FutureWarning: The frame.append method is deprecated and will be removed from pandas in a future version. Use pandas.concat instead.\n",
      "  winners = winners.append({'filename': filename, 'diff': diff, 'IRV1': irv1, 'Condorcet1': condorcet1,\n"
     ]
    },
    {
     "name": "stdout",
     "output_type": "stream",
     "text": [
      "SanFrancisco_11022004_BoardofSupervisorsDistrict9.csv\n"
     ]
    },
    {
     "name": "stderr",
     "output_type": "stream",
     "text": [
      "c:\\Users\\mahsh\\Documents\\GitHub\\bugs-in-democracy\\team_arrow\\clean\\rcv_dimensionality.py:170: RuntimeWarning: divide by zero encountered in true_divide\n",
      "  distance = 1 / np.sqrt(freq_upper_triangle)\n",
      "C:\\Users\\mahsh\\AppData\\Local\\Temp\\ipykernel_21280\\541227406.py:69: FutureWarning: The frame.append method is deprecated and will be removed from pandas in a future version. Use pandas.concat instead.\n",
      "  winners = winners.append({'filename': filename, 'diff': diff, 'IRV1': irv1, 'Condorcet1': condorcet1,\n"
     ]
    },
    {
     "name": "stdout",
     "output_type": "stream",
     "text": [
      "SanFrancisco_11022010_BoardofSupervisorsDistrict10.csv\n"
     ]
    },
    {
     "name": "stderr",
     "output_type": "stream",
     "text": [
      "c:\\Users\\mahsh\\Documents\\GitHub\\bugs-in-democracy\\team_arrow\\clean\\rcv_dimensionality.py:170: RuntimeWarning: divide by zero encountered in true_divide\n",
      "  distance = 1 / np.sqrt(freq_upper_triangle)\n",
      "C:\\Users\\mahsh\\AppData\\Local\\Temp\\ipykernel_21280\\541227406.py:69: FutureWarning: The frame.append method is deprecated and will be removed from pandas in a future version. Use pandas.concat instead.\n",
      "  winners = winners.append({'filename': filename, 'diff': diff, 'IRV1': irv1, 'Condorcet1': condorcet1,\n"
     ]
    },
    {
     "name": "stdout",
     "output_type": "stream",
     "text": [
      "SanFrancisco_11022010_BoardofSupervisorsDistrict2.csv\n"
     ]
    },
    {
     "name": "stderr",
     "output_type": "stream",
     "text": [
      "c:\\Users\\mahsh\\Documents\\GitHub\\bugs-in-democracy\\team_arrow\\clean\\rcv_dimensionality.py:170: RuntimeWarning: divide by zero encountered in true_divide\n",
      "  distance = 1 / np.sqrt(freq_upper_triangle)\n",
      "C:\\Users\\mahsh\\AppData\\Local\\Temp\\ipykernel_21280\\541227406.py:69: FutureWarning: The frame.append method is deprecated and will be removed from pandas in a future version. Use pandas.concat instead.\n",
      "  winners = winners.append({'filename': filename, 'diff': diff, 'IRV1': irv1, 'Condorcet1': condorcet1,\n"
     ]
    },
    {
     "name": "stdout",
     "output_type": "stream",
     "text": [
      "SanFrancisco_11022010_BoardofSupervisorsDistrict6.csv\n"
     ]
    },
    {
     "name": "stderr",
     "output_type": "stream",
     "text": [
      "c:\\Users\\mahsh\\Documents\\GitHub\\bugs-in-democracy\\team_arrow\\clean\\rcv_dimensionality.py:170: RuntimeWarning: divide by zero encountered in true_divide\n",
      "  distance = 1 / np.sqrt(freq_upper_triangle)\n",
      "C:\\Users\\mahsh\\AppData\\Local\\Temp\\ipykernel_21280\\541227406.py:69: FutureWarning: The frame.append method is deprecated and will be removed from pandas in a future version. Use pandas.concat instead.\n",
      "  winners = winners.append({'filename': filename, 'diff': diff, 'IRV1': irv1, 'Condorcet1': condorcet1,\n"
     ]
    },
    {
     "name": "stdout",
     "output_type": "stream",
     "text": [
      "SanFrancisco_11022010_BoardofSupervisorsDistrict8.csv\n"
     ]
    },
    {
     "name": "stderr",
     "output_type": "stream",
     "text": [
      "c:\\Users\\mahsh\\Documents\\GitHub\\bugs-in-democracy\\team_arrow\\clean\\rcv_dimensionality.py:170: RuntimeWarning: divide by zero encountered in true_divide\n",
      "  distance = 1 / np.sqrt(freq_upper_triangle)\n",
      "C:\\Users\\mahsh\\AppData\\Local\\Temp\\ipykernel_21280\\541227406.py:69: FutureWarning: The frame.append method is deprecated and will be removed from pandas in a future version. Use pandas.concat instead.\n",
      "  winners = winners.append({'filename': filename, 'diff': diff, 'IRV1': irv1, 'Condorcet1': condorcet1,\n"
     ]
    },
    {
     "name": "stdout",
     "output_type": "stream",
     "text": [
      "SanFrancisco_11032015_BoardofSupervisorsDistrict3.csv\n"
     ]
    },
    {
     "name": "stderr",
     "output_type": "stream",
     "text": [
      "c:\\Users\\mahsh\\Documents\\GitHub\\bugs-in-democracy\\team_arrow\\clean\\rcv_dimensionality.py:170: RuntimeWarning: divide by zero encountered in true_divide\n",
      "  distance = 1 / np.sqrt(freq_upper_triangle)\n",
      "C:\\Users\\mahsh\\AppData\\Local\\Temp\\ipykernel_21280\\541227406.py:69: FutureWarning: The frame.append method is deprecated and will be removed from pandas in a future version. Use pandas.concat instead.\n",
      "  winners = winners.append({'filename': filename, 'diff': diff, 'IRV1': irv1, 'Condorcet1': condorcet1,\n"
     ]
    },
    {
     "name": "stdout",
     "output_type": "stream",
     "text": [
      "SanFrancisco_11032015_Mayor.csv\n"
     ]
    },
    {
     "name": "stderr",
     "output_type": "stream",
     "text": [
      "c:\\Users\\mahsh\\Documents\\GitHub\\bugs-in-democracy\\team_arrow\\clean\\rcv_dimensionality.py:170: RuntimeWarning: divide by zero encountered in true_divide\n",
      "  distance = 1 / np.sqrt(freq_upper_triangle)\n",
      "C:\\Users\\mahsh\\AppData\\Local\\Temp\\ipykernel_21280\\541227406.py:69: FutureWarning: The frame.append method is deprecated and will be removed from pandas in a future version. Use pandas.concat instead.\n",
      "  winners = winners.append({'filename': filename, 'diff': diff, 'IRV1': irv1, 'Condorcet1': condorcet1,\n"
     ]
    },
    {
     "name": "stdout",
     "output_type": "stream",
     "text": [
      "SanFrancisco_11032015_Sheriff.csv\n"
     ]
    },
    {
     "name": "stderr",
     "output_type": "stream",
     "text": [
      "c:\\Users\\mahsh\\Documents\\GitHub\\bugs-in-democracy\\team_arrow\\clean\\rcv_dimensionality.py:170: RuntimeWarning: divide by zero encountered in true_divide\n",
      "  distance = 1 / np.sqrt(freq_upper_triangle)\n",
      "C:\\Users\\mahsh\\AppData\\Local\\Temp\\ipykernel_21280\\541227406.py:69: FutureWarning: The frame.append method is deprecated and will be removed from pandas in a future version. Use pandas.concat instead.\n",
      "  winners = winners.append({'filename': filename, 'diff': diff, 'IRV1': irv1, 'Condorcet1': condorcet1,\n"
     ]
    },
    {
     "name": "stdout",
     "output_type": "stream",
     "text": [
      "SanFrancisco_11032020_BOARDOFSUPERVISORSDISTRICT1.csv\n"
     ]
    },
    {
     "name": "stderr",
     "output_type": "stream",
     "text": [
      "c:\\Users\\mahsh\\Documents\\GitHub\\bugs-in-democracy\\team_arrow\\clean\\rcv_dimensionality.py:170: RuntimeWarning: divide by zero encountered in true_divide\n",
      "  distance = 1 / np.sqrt(freq_upper_triangle)\n",
      "C:\\Users\\mahsh\\AppData\\Local\\Temp\\ipykernel_21280\\541227406.py:69: FutureWarning: The frame.append method is deprecated and will be removed from pandas in a future version. Use pandas.concat instead.\n",
      "  winners = winners.append({'filename': filename, 'diff': diff, 'IRV1': irv1, 'Condorcet1': condorcet1,\n"
     ]
    },
    {
     "name": "stdout",
     "output_type": "stream",
     "text": [
      "SanFrancisco_11032020_BOARDOFSUPERVISORSDISTRICT11.csv\n"
     ]
    },
    {
     "name": "stderr",
     "output_type": "stream",
     "text": [
      "c:\\Users\\mahsh\\Documents\\GitHub\\bugs-in-democracy\\team_arrow\\clean\\rcv_dimensionality.py:170: RuntimeWarning: divide by zero encountered in true_divide\n",
      "  distance = 1 / np.sqrt(freq_upper_triangle)\n",
      "C:\\Users\\mahsh\\AppData\\Local\\Temp\\ipykernel_21280\\541227406.py:69: FutureWarning: The frame.append method is deprecated and will be removed from pandas in a future version. Use pandas.concat instead.\n",
      "  winners = winners.append({'filename': filename, 'diff': diff, 'IRV1': irv1, 'Condorcet1': condorcet1,\n"
     ]
    },
    {
     "name": "stdout",
     "output_type": "stream",
     "text": [
      "SanFrancisco_11032020_BOARDOFSUPERVISORSDISTRICT3.csv\n"
     ]
    },
    {
     "name": "stderr",
     "output_type": "stream",
     "text": [
      "c:\\Users\\mahsh\\Documents\\GitHub\\bugs-in-democracy\\team_arrow\\clean\\rcv_dimensionality.py:170: RuntimeWarning: divide by zero encountered in true_divide\n",
      "  distance = 1 / np.sqrt(freq_upper_triangle)\n",
      "C:\\Users\\mahsh\\AppData\\Local\\Temp\\ipykernel_21280\\541227406.py:69: FutureWarning: The frame.append method is deprecated and will be removed from pandas in a future version. Use pandas.concat instead.\n",
      "  winners = winners.append({'filename': filename, 'diff': diff, 'IRV1': irv1, 'Condorcet1': condorcet1,\n"
     ]
    },
    {
     "name": "stdout",
     "output_type": "stream",
     "text": [
      "SanFrancisco_11032020_BOARDOFSUPERVISORSDISTRICT5.csv\n"
     ]
    },
    {
     "name": "stderr",
     "output_type": "stream",
     "text": [
      "c:\\Users\\mahsh\\Documents\\GitHub\\bugs-in-democracy\\team_arrow\\clean\\rcv_dimensionality.py:170: RuntimeWarning: divide by zero encountered in true_divide\n",
      "  distance = 1 / np.sqrt(freq_upper_triangle)\n",
      "C:\\Users\\mahsh\\AppData\\Local\\Temp\\ipykernel_21280\\541227406.py:69: FutureWarning: The frame.append method is deprecated and will be removed from pandas in a future version. Use pandas.concat instead.\n",
      "  winners = winners.append({'filename': filename, 'diff': diff, 'IRV1': irv1, 'Condorcet1': condorcet1,\n"
     ]
    },
    {
     "name": "stdout",
     "output_type": "stream",
     "text": [
      "SanFrancisco_11032020_BOARDOFSUPERVISORSDISTRICT7.csv\n"
     ]
    },
    {
     "name": "stderr",
     "output_type": "stream",
     "text": [
      "c:\\Users\\mahsh\\Documents\\GitHub\\bugs-in-democracy\\team_arrow\\clean\\rcv_dimensionality.py:170: RuntimeWarning: divide by zero encountered in true_divide\n",
      "  distance = 1 / np.sqrt(freq_upper_triangle)\n",
      "C:\\Users\\mahsh\\AppData\\Local\\Temp\\ipykernel_21280\\541227406.py:69: FutureWarning: The frame.append method is deprecated and will be removed from pandas in a future version. Use pandas.concat instead.\n",
      "  winners = winners.append({'filename': filename, 'diff': diff, 'IRV1': irv1, 'Condorcet1': condorcet1,\n"
     ]
    },
    {
     "name": "stdout",
     "output_type": "stream",
     "text": [
      "SanFrancisco_11032020_BOARDOFSUPERVISORSDISTRICT9.csv\n"
     ]
    },
    {
     "name": "stderr",
     "output_type": "stream",
     "text": [
      "c:\\Users\\mahsh\\Documents\\GitHub\\bugs-in-democracy\\team_arrow\\clean\\rcv_dimensionality.py:170: RuntimeWarning: divide by zero encountered in true_divide\n",
      "  distance = 1 / np.sqrt(freq_upper_triangle)\n",
      "C:\\Users\\mahsh\\AppData\\Local\\Temp\\ipykernel_21280\\541227406.py:69: FutureWarning: The frame.append method is deprecated and will be removed from pandas in a future version. Use pandas.concat instead.\n",
      "  winners = winners.append({'filename': filename, 'diff': diff, 'IRV1': irv1, 'Condorcet1': condorcet1,\n"
     ]
    },
    {
     "name": "stdout",
     "output_type": "stream",
     "text": [
      "SanFrancisco_11042008_BoardofSupervisorsDistrict1.csv\n"
     ]
    },
    {
     "name": "stderr",
     "output_type": "stream",
     "text": [
      "c:\\Users\\mahsh\\Documents\\GitHub\\bugs-in-democracy\\team_arrow\\clean\\rcv_dimensionality.py:170: RuntimeWarning: divide by zero encountered in true_divide\n",
      "  distance = 1 / np.sqrt(freq_upper_triangle)\n",
      "C:\\Users\\mahsh\\AppData\\Local\\Temp\\ipykernel_21280\\541227406.py:69: FutureWarning: The frame.append method is deprecated and will be removed from pandas in a future version. Use pandas.concat instead.\n",
      "  winners = winners.append({'filename': filename, 'diff': diff, 'IRV1': irv1, 'Condorcet1': condorcet1,\n"
     ]
    },
    {
     "name": "stdout",
     "output_type": "stream",
     "text": [
      "SanFrancisco_11042008_BoardofSupervisorsDistrict11.csv\n"
     ]
    },
    {
     "name": "stderr",
     "output_type": "stream",
     "text": [
      "c:\\Users\\mahsh\\Documents\\GitHub\\bugs-in-democracy\\team_arrow\\clean\\rcv_dimensionality.py:159: RuntimeWarning: divide by zero encountered in true_divide\n",
      "  frequencies = counts / mentioned_together\n",
      "c:\\Users\\mahsh\\Documents\\GitHub\\bugs-in-democracy\\team_arrow\\clean\\rcv_dimensionality.py:159: RuntimeWarning: invalid value encountered in true_divide\n",
      "  frequencies = counts / mentioned_together\n",
      "c:\\Users\\mahsh\\Documents\\GitHub\\bugs-in-democracy\\team_arrow\\clean\\rcv_dimensionality.py:170: RuntimeWarning: divide by zero encountered in true_divide\n",
      "  distance = 1 / np.sqrt(freq_upper_triangle)\n",
      "C:\\Users\\mahsh\\AppData\\Local\\Temp\\ipykernel_21280\\541227406.py:69: FutureWarning: The frame.append method is deprecated and will be removed from pandas in a future version. Use pandas.concat instead.\n",
      "  winners = winners.append({'filename': filename, 'diff': diff, 'IRV1': irv1, 'Condorcet1': condorcet1,\n"
     ]
    },
    {
     "name": "stdout",
     "output_type": "stream",
     "text": [
      "SanFrancisco_11042008_BoardofSupervisorsDistrict3.csv\n"
     ]
    },
    {
     "name": "stderr",
     "output_type": "stream",
     "text": [
      "c:\\Users\\mahsh\\Documents\\GitHub\\bugs-in-democracy\\team_arrow\\clean\\rcv_dimensionality.py:170: RuntimeWarning: divide by zero encountered in true_divide\n",
      "  distance = 1 / np.sqrt(freq_upper_triangle)\n",
      "C:\\Users\\mahsh\\AppData\\Local\\Temp\\ipykernel_21280\\541227406.py:69: FutureWarning: The frame.append method is deprecated and will be removed from pandas in a future version. Use pandas.concat instead.\n",
      "  winners = winners.append({'filename': filename, 'diff': diff, 'IRV1': irv1, 'Condorcet1': condorcet1,\n"
     ]
    },
    {
     "name": "stdout",
     "output_type": "stream",
     "text": [
      "SanFrancisco_11042008_BoardofSupervisorsDistrict4.csv\n"
     ]
    },
    {
     "name": "stderr",
     "output_type": "stream",
     "text": [
      "c:\\Users\\mahsh\\Documents\\GitHub\\bugs-in-democracy\\team_arrow\\clean\\rcv_dimensionality.py:170: RuntimeWarning: divide by zero encountered in true_divide\n",
      "  distance = 1 / np.sqrt(freq_upper_triangle)\n",
      "C:\\Users\\mahsh\\AppData\\Local\\Temp\\ipykernel_21280\\541227406.py:69: FutureWarning: The frame.append method is deprecated and will be removed from pandas in a future version. Use pandas.concat instead.\n",
      "  winners = winners.append({'filename': filename, 'diff': diff, 'IRV1': irv1, 'Condorcet1': condorcet1,\n"
     ]
    },
    {
     "name": "stdout",
     "output_type": "stream",
     "text": [
      "SanFrancisco_11042008_BoardofSupervisorsDistrict5.csv\n"
     ]
    },
    {
     "name": "stderr",
     "output_type": "stream",
     "text": [
      "c:\\Users\\mahsh\\Documents\\GitHub\\bugs-in-democracy\\team_arrow\\clean\\rcv_dimensionality.py:170: RuntimeWarning: divide by zero encountered in true_divide\n",
      "  distance = 1 / np.sqrt(freq_upper_triangle)\n",
      "C:\\Users\\mahsh\\AppData\\Local\\Temp\\ipykernel_21280\\541227406.py:69: FutureWarning: The frame.append method is deprecated and will be removed from pandas in a future version. Use pandas.concat instead.\n",
      "  winners = winners.append({'filename': filename, 'diff': diff, 'IRV1': irv1, 'Condorcet1': condorcet1,\n"
     ]
    },
    {
     "name": "stdout",
     "output_type": "stream",
     "text": [
      "SanFrancisco_11042008_BoardofSupervisorsDistrict7.csv\n"
     ]
    },
    {
     "name": "stderr",
     "output_type": "stream",
     "text": [
      "c:\\Users\\mahsh\\Documents\\GitHub\\bugs-in-democracy\\team_arrow\\clean\\rcv_dimensionality.py:170: RuntimeWarning: divide by zero encountered in true_divide\n",
      "  distance = 1 / np.sqrt(freq_upper_triangle)\n",
      "C:\\Users\\mahsh\\AppData\\Local\\Temp\\ipykernel_21280\\541227406.py:69: FutureWarning: The frame.append method is deprecated and will be removed from pandas in a future version. Use pandas.concat instead.\n",
      "  winners = winners.append({'filename': filename, 'diff': diff, 'IRV1': irv1, 'Condorcet1': condorcet1,\n"
     ]
    },
    {
     "name": "stdout",
     "output_type": "stream",
     "text": [
      "SanFrancisco_11042008_BoardofSupervisorsDistrict9.csv\n"
     ]
    },
    {
     "name": "stderr",
     "output_type": "stream",
     "text": [
      "c:\\Users\\mahsh\\Documents\\GitHub\\bugs-in-democracy\\team_arrow\\clean\\rcv_dimensionality.py:170: RuntimeWarning: divide by zero encountered in true_divide\n",
      "  distance = 1 / np.sqrt(freq_upper_triangle)\n",
      "C:\\Users\\mahsh\\AppData\\Local\\Temp\\ipykernel_21280\\541227406.py:69: FutureWarning: The frame.append method is deprecated and will be removed from pandas in a future version. Use pandas.concat instead.\n",
      "  winners = winners.append({'filename': filename, 'diff': diff, 'IRV1': irv1, 'Condorcet1': condorcet1,\n"
     ]
    },
    {
     "name": "stdout",
     "output_type": "stream",
     "text": [
      "SanFrancisco_11042014_BoardofSupervisorsDistrict10.csv\n"
     ]
    },
    {
     "name": "stderr",
     "output_type": "stream",
     "text": [
      "c:\\Users\\mahsh\\Documents\\GitHub\\bugs-in-democracy\\team_arrow\\clean\\rcv_dimensionality.py:170: RuntimeWarning: divide by zero encountered in true_divide\n",
      "  distance = 1 / np.sqrt(freq_upper_triangle)\n",
      "C:\\Users\\mahsh\\AppData\\Local\\Temp\\ipykernel_21280\\541227406.py:69: FutureWarning: The frame.append method is deprecated and will be removed from pandas in a future version. Use pandas.concat instead.\n",
      "  winners = winners.append({'filename': filename, 'diff': diff, 'IRV1': irv1, 'Condorcet1': condorcet1,\n"
     ]
    },
    {
     "name": "stdout",
     "output_type": "stream",
     "text": [
      "SanFrancisco_11052004_BoardofSupervisorsDistrict1.csv\n"
     ]
    },
    {
     "name": "stderr",
     "output_type": "stream",
     "text": [
      "c:\\Users\\mahsh\\Documents\\GitHub\\bugs-in-democracy\\team_arrow\\clean\\rcv_dimensionality.py:170: RuntimeWarning: divide by zero encountered in true_divide\n",
      "  distance = 1 / np.sqrt(freq_upper_triangle)\n",
      "C:\\Users\\mahsh\\AppData\\Local\\Temp\\ipykernel_21280\\541227406.py:69: FutureWarning: The frame.append method is deprecated and will be removed from pandas in a future version. Use pandas.concat instead.\n",
      "  winners = winners.append({'filename': filename, 'diff': diff, 'IRV1': irv1, 'Condorcet1': condorcet1,\n"
     ]
    },
    {
     "name": "stdout",
     "output_type": "stream",
     "text": [
      "SanFrancisco_11052019_CityAttorney.csv\n",
      "SanFrancisco_11052019_CityAttorney.csv  threw an error\n",
      "SanFrancisco_11052019_DistrictAttorney.csv\n"
     ]
    },
    {
     "name": "stderr",
     "output_type": "stream",
     "text": [
      "c:\\Users\\mahsh\\Documents\\GitHub\\bugs-in-democracy\\team_arrow\\clean\\rcv_dimensionality.py:170: RuntimeWarning: divide by zero encountered in true_divide\n",
      "  distance = 1 / np.sqrt(freq_upper_triangle)\n",
      "C:\\Users\\mahsh\\AppData\\Local\\Temp\\ipykernel_21280\\541227406.py:69: FutureWarning: The frame.append method is deprecated and will be removed from pandas in a future version. Use pandas.concat instead.\n",
      "  winners = winners.append({'filename': filename, 'diff': diff, 'IRV1': irv1, 'Condorcet1': condorcet1,\n"
     ]
    },
    {
     "name": "stdout",
     "output_type": "stream",
     "text": [
      "SanFrancisco_11052019_Mayor.csv\n"
     ]
    },
    {
     "name": "stderr",
     "output_type": "stream",
     "text": [
      "c:\\Users\\mahsh\\Documents\\GitHub\\bugs-in-democracy\\team_arrow\\clean\\rcv_dimensionality.py:170: RuntimeWarning: divide by zero encountered in true_divide\n",
      "  distance = 1 / np.sqrt(freq_upper_triangle)\n",
      "C:\\Users\\mahsh\\AppData\\Local\\Temp\\ipykernel_21280\\541227406.py:69: FutureWarning: The frame.append method is deprecated and will be removed from pandas in a future version. Use pandas.concat instead.\n",
      "  winners = winners.append({'filename': filename, 'diff': diff, 'IRV1': irv1, 'Condorcet1': condorcet1,\n"
     ]
    },
    {
     "name": "stdout",
     "output_type": "stream",
     "text": [
      "SanFrancisco_11052019_MemberBoardofSupervisorsDistrict5.csv\n"
     ]
    },
    {
     "name": "stderr",
     "output_type": "stream",
     "text": [
      "c:\\Users\\mahsh\\Documents\\GitHub\\bugs-in-democracy\\team_arrow\\clean\\rcv_dimensionality.py:170: RuntimeWarning: divide by zero encountered in true_divide\n",
      "  distance = 1 / np.sqrt(freq_upper_triangle)\n",
      "C:\\Users\\mahsh\\AppData\\Local\\Temp\\ipykernel_21280\\541227406.py:69: FutureWarning: The frame.append method is deprecated and will be removed from pandas in a future version. Use pandas.concat instead.\n",
      "  winners = winners.append({'filename': filename, 'diff': diff, 'IRV1': irv1, 'Condorcet1': condorcet1,\n"
     ]
    },
    {
     "name": "stdout",
     "output_type": "stream",
     "text": [
      "SanFrancisco_11052019_PublicDefender.csv\n",
      "SanFrancisco_11052019_PublicDefender.csv  threw an error\n",
      "SanFrancisco_11052019_Sheriff.csv\n",
      "SanFrancisco_11052019_Sheriff.csv  threw an error\n",
      "SanFrancisco_11052019_Treasurer.csv\n",
      "SanFrancisco_11052019_Treasurer.csv  threw an error\n",
      "SanFrancisco_11062007_Mayor.csv\n"
     ]
    },
    {
     "name": "stderr",
     "output_type": "stream",
     "text": [
      "c:\\Users\\mahsh\\Documents\\GitHub\\bugs-in-democracy\\team_arrow\\clean\\rcv_dimensionality.py:170: RuntimeWarning: divide by zero encountered in true_divide\n",
      "  distance = 1 / np.sqrt(freq_upper_triangle)\n",
      "C:\\Users\\mahsh\\AppData\\Local\\Temp\\ipykernel_21280\\541227406.py:69: FutureWarning: The frame.append method is deprecated and will be removed from pandas in a future version. Use pandas.concat instead.\n",
      "  winners = winners.append({'filename': filename, 'diff': diff, 'IRV1': irv1, 'Condorcet1': condorcet1,\n"
     ]
    },
    {
     "name": "stdout",
     "output_type": "stream",
     "text": [
      "SanFrancisco_11062012_BoardofSupervisorsDistrict5.csv\n"
     ]
    },
    {
     "name": "stderr",
     "output_type": "stream",
     "text": [
      "c:\\Users\\mahsh\\Documents\\GitHub\\bugs-in-democracy\\team_arrow\\clean\\rcv_dimensionality.py:170: RuntimeWarning: divide by zero encountered in true_divide\n",
      "  distance = 1 / np.sqrt(freq_upper_triangle)\n",
      "C:\\Users\\mahsh\\AppData\\Local\\Temp\\ipykernel_21280\\541227406.py:69: FutureWarning: The frame.append method is deprecated and will be removed from pandas in a future version. Use pandas.concat instead.\n",
      "  winners = winners.append({'filename': filename, 'diff': diff, 'IRV1': irv1, 'Condorcet1': condorcet1,\n"
     ]
    },
    {
     "name": "stdout",
     "output_type": "stream",
     "text": [
      "SanFrancisco_11062012_BoardofSupervisorsDistrict7.csv\n"
     ]
    },
    {
     "name": "stderr",
     "output_type": "stream",
     "text": [
      "c:\\Users\\mahsh\\Documents\\GitHub\\bugs-in-democracy\\team_arrow\\clean\\rcv_dimensionality.py:170: RuntimeWarning: divide by zero encountered in true_divide\n",
      "  distance = 1 / np.sqrt(freq_upper_triangle)\n",
      "C:\\Users\\mahsh\\AppData\\Local\\Temp\\ipykernel_21280\\541227406.py:69: FutureWarning: The frame.append method is deprecated and will be removed from pandas in a future version. Use pandas.concat instead.\n",
      "  winners = winners.append({'filename': filename, 'diff': diff, 'IRV1': irv1, 'Condorcet1': condorcet1,\n"
     ]
    },
    {
     "name": "stdout",
     "output_type": "stream",
     "text": [
      "SanFrancisco_11062018_AssessorRecorder.csv\n"
     ]
    },
    {
     "name": "stderr",
     "output_type": "stream",
     "text": [
      "c:\\Users\\mahsh\\Documents\\GitHub\\bugs-in-democracy\\team_arrow\\clean\\rcv_dimensionality.py:170: RuntimeWarning: divide by zero encountered in true_divide\n",
      "  distance = 1 / np.sqrt(freq_upper_triangle)\n",
      "C:\\Users\\mahsh\\AppData\\Local\\Temp\\ipykernel_21280\\541227406.py:69: FutureWarning: The frame.append method is deprecated and will be removed from pandas in a future version. Use pandas.concat instead.\n",
      "  winners = winners.append({'filename': filename, 'diff': diff, 'IRV1': irv1, 'Condorcet1': condorcet1,\n"
     ]
    },
    {
     "name": "stdout",
     "output_type": "stream",
     "text": [
      "SanFrancisco_11062018_BoardofSupervisorsDistrict10.csv\n"
     ]
    },
    {
     "name": "stderr",
     "output_type": "stream",
     "text": [
      "c:\\Users\\mahsh\\Documents\\GitHub\\bugs-in-democracy\\team_arrow\\clean\\rcv_dimensionality.py:170: RuntimeWarning: divide by zero encountered in true_divide\n",
      "  distance = 1 / np.sqrt(freq_upper_triangle)\n",
      "C:\\Users\\mahsh\\AppData\\Local\\Temp\\ipykernel_21280\\541227406.py:69: FutureWarning: The frame.append method is deprecated and will be removed from pandas in a future version. Use pandas.concat instead.\n",
      "  winners = winners.append({'filename': filename, 'diff': diff, 'IRV1': irv1, 'Condorcet1': condorcet1,\n"
     ]
    },
    {
     "name": "stdout",
     "output_type": "stream",
     "text": [
      "SanFrancisco_11062018_BoardofSupervisorsDistrict2.csv\n"
     ]
    },
    {
     "name": "stderr",
     "output_type": "stream",
     "text": [
      "c:\\Users\\mahsh\\Documents\\GitHub\\bugs-in-democracy\\team_arrow\\clean\\rcv_dimensionality.py:170: RuntimeWarning: divide by zero encountered in true_divide\n",
      "  distance = 1 / np.sqrt(freq_upper_triangle)\n",
      "C:\\Users\\mahsh\\AppData\\Local\\Temp\\ipykernel_21280\\541227406.py:69: FutureWarning: The frame.append method is deprecated and will be removed from pandas in a future version. Use pandas.concat instead.\n",
      "  winners = winners.append({'filename': filename, 'diff': diff, 'IRV1': irv1, 'Condorcet1': condorcet1,\n"
     ]
    },
    {
     "name": "stdout",
     "output_type": "stream",
     "text": [
      "SanFrancisco_11062018_BoardofSupervisorsDistrict4.csv\n"
     ]
    },
    {
     "name": "stderr",
     "output_type": "stream",
     "text": [
      "c:\\Users\\mahsh\\Documents\\GitHub\\bugs-in-democracy\\team_arrow\\clean\\rcv_dimensionality.py:170: RuntimeWarning: divide by zero encountered in true_divide\n",
      "  distance = 1 / np.sqrt(freq_upper_triangle)\n",
      "C:\\Users\\mahsh\\AppData\\Local\\Temp\\ipykernel_21280\\541227406.py:69: FutureWarning: The frame.append method is deprecated and will be removed from pandas in a future version. Use pandas.concat instead.\n",
      "  winners = winners.append({'filename': filename, 'diff': diff, 'IRV1': irv1, 'Condorcet1': condorcet1,\n"
     ]
    },
    {
     "name": "stdout",
     "output_type": "stream",
     "text": [
      "SanFrancisco_11062018_BoardofSupervisorsDistrict6.csv\n"
     ]
    },
    {
     "name": "stderr",
     "output_type": "stream",
     "text": [
      "c:\\Users\\mahsh\\Documents\\GitHub\\bugs-in-democracy\\team_arrow\\clean\\rcv_dimensionality.py:170: RuntimeWarning: divide by zero encountered in true_divide\n",
      "  distance = 1 / np.sqrt(freq_upper_triangle)\n",
      "C:\\Users\\mahsh\\AppData\\Local\\Temp\\ipykernel_21280\\541227406.py:69: FutureWarning: The frame.append method is deprecated and will be removed from pandas in a future version. Use pandas.concat instead.\n",
      "  winners = winners.append({'filename': filename, 'diff': diff, 'IRV1': irv1, 'Condorcet1': condorcet1,\n"
     ]
    },
    {
     "name": "stdout",
     "output_type": "stream",
     "text": [
      "SanFrancisco_11062018_BoardofSupervisorsDistrict8.csv\n"
     ]
    },
    {
     "name": "stderr",
     "output_type": "stream",
     "text": [
      "c:\\Users\\mahsh\\Documents\\GitHub\\bugs-in-democracy\\team_arrow\\clean\\rcv_dimensionality.py:170: RuntimeWarning: divide by zero encountered in true_divide\n",
      "  distance = 1 / np.sqrt(freq_upper_triangle)\n",
      "C:\\Users\\mahsh\\AppData\\Local\\Temp\\ipykernel_21280\\541227406.py:69: FutureWarning: The frame.append method is deprecated and will be removed from pandas in a future version. Use pandas.concat instead.\n",
      "  winners = winners.append({'filename': filename, 'diff': diff, 'IRV1': irv1, 'Condorcet1': condorcet1,\n"
     ]
    },
    {
     "name": "stdout",
     "output_type": "stream",
     "text": [
      "SanFrancisco_11062018_PublicDefender.csv\n",
      "SanFrancisco_11062018_PublicDefender.csv  threw an error\n",
      "SanFrancisco_11072006_BoardofSupervisorsDistrict10.csv\n"
     ]
    },
    {
     "name": "stderr",
     "output_type": "stream",
     "text": [
      "c:\\Users\\mahsh\\Documents\\GitHub\\bugs-in-democracy\\team_arrow\\clean\\rcv_dimensionality.py:170: RuntimeWarning: divide by zero encountered in true_divide\n",
      "  distance = 1 / np.sqrt(freq_upper_triangle)\n",
      "C:\\Users\\mahsh\\AppData\\Local\\Temp\\ipykernel_21280\\541227406.py:69: FutureWarning: The frame.append method is deprecated and will be removed from pandas in a future version. Use pandas.concat instead.\n",
      "  winners = winners.append({'filename': filename, 'diff': diff, 'IRV1': irv1, 'Condorcet1': condorcet1,\n"
     ]
    },
    {
     "name": "stdout",
     "output_type": "stream",
     "text": [
      "SanFrancisco_11072006_BoardofSupervisorsDistrict2.csv\n"
     ]
    },
    {
     "name": "stderr",
     "output_type": "stream",
     "text": [
      "c:\\Users\\mahsh\\Documents\\GitHub\\bugs-in-democracy\\team_arrow\\clean\\rcv_dimensionality.py:170: RuntimeWarning: divide by zero encountered in true_divide\n",
      "  distance = 1 / np.sqrt(freq_upper_triangle)\n",
      "C:\\Users\\mahsh\\AppData\\Local\\Temp\\ipykernel_21280\\541227406.py:69: FutureWarning: The frame.append method is deprecated and will be removed from pandas in a future version. Use pandas.concat instead.\n",
      "  winners = winners.append({'filename': filename, 'diff': diff, 'IRV1': irv1, 'Condorcet1': condorcet1,\n"
     ]
    },
    {
     "name": "stdout",
     "output_type": "stream",
     "text": [
      "SanFrancisco_11072006_BoardofSupervisorsDistrict4.csv\n"
     ]
    },
    {
     "name": "stderr",
     "output_type": "stream",
     "text": [
      "c:\\Users\\mahsh\\Documents\\GitHub\\bugs-in-democracy\\team_arrow\\clean\\rcv_dimensionality.py:170: RuntimeWarning: divide by zero encountered in true_divide\n",
      "  distance = 1 / np.sqrt(freq_upper_triangle)\n",
      "C:\\Users\\mahsh\\AppData\\Local\\Temp\\ipykernel_21280\\541227406.py:69: FutureWarning: The frame.append method is deprecated and will be removed from pandas in a future version. Use pandas.concat instead.\n",
      "  winners = winners.append({'filename': filename, 'diff': diff, 'IRV1': irv1, 'Condorcet1': condorcet1,\n"
     ]
    },
    {
     "name": "stdout",
     "output_type": "stream",
     "text": [
      "SanFrancisco_11072006_BoardofSupervisorsDistrict6.csv\n"
     ]
    },
    {
     "name": "stderr",
     "output_type": "stream",
     "text": [
      "c:\\Users\\mahsh\\Documents\\GitHub\\bugs-in-democracy\\team_arrow\\clean\\rcv_dimensionality.py:170: RuntimeWarning: divide by zero encountered in true_divide\n",
      "  distance = 1 / np.sqrt(freq_upper_triangle)\n",
      "C:\\Users\\mahsh\\AppData\\Local\\Temp\\ipykernel_21280\\541227406.py:69: FutureWarning: The frame.append method is deprecated and will be removed from pandas in a future version. Use pandas.concat instead.\n",
      "  winners = winners.append({'filename': filename, 'diff': diff, 'IRV1': irv1, 'Condorcet1': condorcet1,\n"
     ]
    },
    {
     "name": "stdout",
     "output_type": "stream",
     "text": [
      "SanFrancisco_11072006_BoardofSupervisorsDistrict8.csv\n"
     ]
    },
    {
     "name": "stderr",
     "output_type": "stream",
     "text": [
      "c:\\Users\\mahsh\\Documents\\GitHub\\bugs-in-democracy\\team_arrow\\clean\\rcv_dimensionality.py:170: RuntimeWarning: divide by zero encountered in true_divide\n",
      "  distance = 1 / np.sqrt(freq_upper_triangle)\n",
      "C:\\Users\\mahsh\\AppData\\Local\\Temp\\ipykernel_21280\\541227406.py:69: FutureWarning: The frame.append method is deprecated and will be removed from pandas in a future version. Use pandas.concat instead.\n",
      "  winners = winners.append({'filename': filename, 'diff': diff, 'IRV1': irv1, 'Condorcet1': condorcet1,\n"
     ]
    },
    {
     "name": "stdout",
     "output_type": "stream",
     "text": [
      "SanFrancisco_11082005_AssessorRecorder.csv\n"
     ]
    },
    {
     "name": "stderr",
     "output_type": "stream",
     "text": [
      "c:\\Users\\mahsh\\Documents\\GitHub\\bugs-in-democracy\\team_arrow\\clean\\rcv_dimensionality.py:170: RuntimeWarning: divide by zero encountered in true_divide\n",
      "  distance = 1 / np.sqrt(freq_upper_triangle)\n",
      "C:\\Users\\mahsh\\AppData\\Local\\Temp\\ipykernel_21280\\541227406.py:69: FutureWarning: The frame.append method is deprecated and will be removed from pandas in a future version. Use pandas.concat instead.\n",
      "  winners = winners.append({'filename': filename, 'diff': diff, 'IRV1': irv1, 'Condorcet1': condorcet1,\n"
     ]
    },
    {
     "name": "stdout",
     "output_type": "stream",
     "text": [
      "SanFrancisco_11082005_Treasurer.csv\n"
     ]
    },
    {
     "name": "stderr",
     "output_type": "stream",
     "text": [
      "c:\\Users\\mahsh\\Documents\\GitHub\\bugs-in-democracy\\team_arrow\\clean\\rcv_dimensionality.py:170: RuntimeWarning: divide by zero encountered in true_divide\n",
      "  distance = 1 / np.sqrt(freq_upper_triangle)\n",
      "C:\\Users\\mahsh\\AppData\\Local\\Temp\\ipykernel_21280\\541227406.py:69: FutureWarning: The frame.append method is deprecated and will be removed from pandas in a future version. Use pandas.concat instead.\n",
      "  winners = winners.append({'filename': filename, 'diff': diff, 'IRV1': irv1, 'Condorcet1': condorcet1,\n"
     ]
    },
    {
     "name": "stdout",
     "output_type": "stream",
     "text": [
      "SanFrancisco_11082011_DistrictAttorney.csv\n"
     ]
    },
    {
     "name": "stderr",
     "output_type": "stream",
     "text": [
      "c:\\Users\\mahsh\\Documents\\GitHub\\bugs-in-democracy\\team_arrow\\clean\\rcv_dimensionality.py:170: RuntimeWarning: divide by zero encountered in true_divide\n",
      "  distance = 1 / np.sqrt(freq_upper_triangle)\n",
      "C:\\Users\\mahsh\\AppData\\Local\\Temp\\ipykernel_21280\\541227406.py:69: FutureWarning: The frame.append method is deprecated and will be removed from pandas in a future version. Use pandas.concat instead.\n",
      "  winners = winners.append({'filename': filename, 'diff': diff, 'IRV1': irv1, 'Condorcet1': condorcet1,\n"
     ]
    },
    {
     "name": "stdout",
     "output_type": "stream",
     "text": [
      "SanFrancisco_11082011_Mayor.csv\n"
     ]
    },
    {
     "name": "stderr",
     "output_type": "stream",
     "text": [
      "c:\\Users\\mahsh\\Documents\\GitHub\\bugs-in-democracy\\team_arrow\\clean\\rcv_dimensionality.py:170: RuntimeWarning: divide by zero encountered in true_divide\n",
      "  distance = 1 / np.sqrt(freq_upper_triangle)\n",
      "C:\\Users\\mahsh\\AppData\\Local\\Temp\\ipykernel_21280\\541227406.py:69: FutureWarning: The frame.append method is deprecated and will be removed from pandas in a future version. Use pandas.concat instead.\n",
      "  winners = winners.append({'filename': filename, 'diff': diff, 'IRV1': irv1, 'Condorcet1': condorcet1,\n"
     ]
    },
    {
     "name": "stdout",
     "output_type": "stream",
     "text": [
      "SanFrancisco_11082011_Sheriff.csv\n"
     ]
    },
    {
     "name": "stderr",
     "output_type": "stream",
     "text": [
      "c:\\Users\\mahsh\\Documents\\GitHub\\bugs-in-democracy\\team_arrow\\clean\\rcv_dimensionality.py:170: RuntimeWarning: divide by zero encountered in true_divide\n",
      "  distance = 1 / np.sqrt(freq_upper_triangle)\n",
      "C:\\Users\\mahsh\\AppData\\Local\\Temp\\ipykernel_21280\\541227406.py:69: FutureWarning: The frame.append method is deprecated and will be removed from pandas in a future version. Use pandas.concat instead.\n",
      "  winners = winners.append({'filename': filename, 'diff': diff, 'IRV1': irv1, 'Condorcet1': condorcet1,\n"
     ]
    },
    {
     "name": "stdout",
     "output_type": "stream",
     "text": [
      "SanFrancisco_11082016_BoardofSupervisorsDistrict1.csv\n"
     ]
    },
    {
     "name": "stderr",
     "output_type": "stream",
     "text": [
      "c:\\Users\\mahsh\\Documents\\GitHub\\bugs-in-democracy\\team_arrow\\clean\\rcv_dimensionality.py:170: RuntimeWarning: divide by zero encountered in true_divide\n",
      "  distance = 1 / np.sqrt(freq_upper_triangle)\n",
      "C:\\Users\\mahsh\\AppData\\Local\\Temp\\ipykernel_21280\\541227406.py:69: FutureWarning: The frame.append method is deprecated and will be removed from pandas in a future version. Use pandas.concat instead.\n",
      "  winners = winners.append({'filename': filename, 'diff': diff, 'IRV1': irv1, 'Condorcet1': condorcet1,\n"
     ]
    },
    {
     "name": "stdout",
     "output_type": "stream",
     "text": [
      "SanFrancisco_11082016_BoardofSupervisorsDistrict11.csv\n"
     ]
    },
    {
     "name": "stderr",
     "output_type": "stream",
     "text": [
      "c:\\Users\\mahsh\\Documents\\GitHub\\bugs-in-democracy\\team_arrow\\clean\\rcv_dimensionality.py:170: RuntimeWarning: divide by zero encountered in true_divide\n",
      "  distance = 1 / np.sqrt(freq_upper_triangle)\n",
      "C:\\Users\\mahsh\\AppData\\Local\\Temp\\ipykernel_21280\\541227406.py:69: FutureWarning: The frame.append method is deprecated and will be removed from pandas in a future version. Use pandas.concat instead.\n",
      "  winners = winners.append({'filename': filename, 'diff': diff, 'IRV1': irv1, 'Condorcet1': condorcet1,\n"
     ]
    },
    {
     "name": "stdout",
     "output_type": "stream",
     "text": [
      "SanFrancisco_11082016_BoardofSupervisorsDistrict3.csv\n"
     ]
    },
    {
     "name": "stderr",
     "output_type": "stream",
     "text": [
      "c:\\Users\\mahsh\\Documents\\GitHub\\bugs-in-democracy\\team_arrow\\clean\\rcv_dimensionality.py:170: RuntimeWarning: divide by zero encountered in true_divide\n",
      "  distance = 1 / np.sqrt(freq_upper_triangle)\n",
      "C:\\Users\\mahsh\\AppData\\Local\\Temp\\ipykernel_21280\\541227406.py:69: FutureWarning: The frame.append method is deprecated and will be removed from pandas in a future version. Use pandas.concat instead.\n",
      "  winners = winners.append({'filename': filename, 'diff': diff, 'IRV1': irv1, 'Condorcet1': condorcet1,\n"
     ]
    },
    {
     "name": "stdout",
     "output_type": "stream",
     "text": [
      "SanFrancisco_11082016_BoardofSupervisorsDistrict5.csv\n"
     ]
    },
    {
     "name": "stderr",
     "output_type": "stream",
     "text": [
      "c:\\Users\\mahsh\\Documents\\GitHub\\bugs-in-democracy\\team_arrow\\clean\\rcv_dimensionality.py:170: RuntimeWarning: divide by zero encountered in true_divide\n",
      "  distance = 1 / np.sqrt(freq_upper_triangle)\n",
      "C:\\Users\\mahsh\\AppData\\Local\\Temp\\ipykernel_21280\\541227406.py:69: FutureWarning: The frame.append method is deprecated and will be removed from pandas in a future version. Use pandas.concat instead.\n",
      "  winners = winners.append({'filename': filename, 'diff': diff, 'IRV1': irv1, 'Condorcet1': condorcet1,\n"
     ]
    },
    {
     "name": "stdout",
     "output_type": "stream",
     "text": [
      "SanFrancisco_11082016_BoardofSupervisorsDistrict7.csv\n"
     ]
    },
    {
     "name": "stderr",
     "output_type": "stream",
     "text": [
      "c:\\Users\\mahsh\\Documents\\GitHub\\bugs-in-democracy\\team_arrow\\clean\\rcv_dimensionality.py:170: RuntimeWarning: divide by zero encountered in true_divide\n",
      "  distance = 1 / np.sqrt(freq_upper_triangle)\n",
      "C:\\Users\\mahsh\\AppData\\Local\\Temp\\ipykernel_21280\\541227406.py:69: FutureWarning: The frame.append method is deprecated and will be removed from pandas in a future version. Use pandas.concat instead.\n",
      "  winners = winners.append({'filename': filename, 'diff': diff, 'IRV1': irv1, 'Condorcet1': condorcet1,\n"
     ]
    },
    {
     "name": "stdout",
     "output_type": "stream",
     "text": [
      "SanFrancisco_11082016_BoardofSupervisorsDistrict9.csv\n"
     ]
    },
    {
     "name": "stderr",
     "output_type": "stream",
     "text": [
      "c:\\Users\\mahsh\\Documents\\GitHub\\bugs-in-democracy\\team_arrow\\clean\\rcv_dimensionality.py:170: RuntimeWarning: divide by zero encountered in true_divide\n",
      "  distance = 1 / np.sqrt(freq_upper_triangle)\n",
      "C:\\Users\\mahsh\\AppData\\Local\\Temp\\ipykernel_21280\\541227406.py:69: FutureWarning: The frame.append method is deprecated and will be removed from pandas in a future version. Use pandas.concat instead.\n",
      "  winners = winners.append({'filename': filename, 'diff': diff, 'IRV1': irv1, 'Condorcet1': condorcet1,\n"
     ]
    },
    {
     "name": "stdout",
     "output_type": "stream",
     "text": [
      "SanFrancisco_11082022_AssessorRecorder.csv\n",
      "SanFrancisco_11082022_AssessorRecorder.csv  threw an error\n",
      "SanFrancisco_11082022_BoardofSupervisorsD10.csv\n"
     ]
    },
    {
     "name": "stderr",
     "output_type": "stream",
     "text": [
      "c:\\Users\\mahsh\\Documents\\GitHub\\bugs-in-democracy\\team_arrow\\clean\\rcv_dimensionality.py:170: RuntimeWarning: divide by zero encountered in true_divide\n",
      "  distance = 1 / np.sqrt(freq_upper_triangle)\n",
      "C:\\Users\\mahsh\\AppData\\Local\\Temp\\ipykernel_21280\\541227406.py:69: FutureWarning: The frame.append method is deprecated and will be removed from pandas in a future version. Use pandas.concat instead.\n",
      "  winners = winners.append({'filename': filename, 'diff': diff, 'IRV1': irv1, 'Condorcet1': condorcet1,\n"
     ]
    },
    {
     "name": "stdout",
     "output_type": "stream",
     "text": [
      "SanFrancisco_11082022_BoardofSupervisorsD2.csv\n",
      "SanFrancisco_11082022_BoardofSupervisorsD2.csv  threw an error\n",
      "SanFrancisco_11082022_BoardofSupervisorsD4.csv\n"
     ]
    },
    {
     "name": "stderr",
     "output_type": "stream",
     "text": [
      "c:\\Users\\mahsh\\Documents\\GitHub\\bugs-in-democracy\\team_arrow\\clean\\rcv_dimensionality.py:170: RuntimeWarning: divide by zero encountered in true_divide\n",
      "  distance = 1 / np.sqrt(freq_upper_triangle)\n",
      "C:\\Users\\mahsh\\AppData\\Local\\Temp\\ipykernel_21280\\541227406.py:69: FutureWarning: The frame.append method is deprecated and will be removed from pandas in a future version. Use pandas.concat instead.\n",
      "  winners = winners.append({'filename': filename, 'diff': diff, 'IRV1': irv1, 'Condorcet1': condorcet1,\n"
     ]
    },
    {
     "name": "stdout",
     "output_type": "stream",
     "text": [
      "SanFrancisco_11082022_BoardofSupervisorsD6.csv\n"
     ]
    },
    {
     "name": "stderr",
     "output_type": "stream",
     "text": [
      "c:\\Users\\mahsh\\Documents\\GitHub\\bugs-in-democracy\\team_arrow\\clean\\rcv_dimensionality.py:170: RuntimeWarning: divide by zero encountered in true_divide\n",
      "  distance = 1 / np.sqrt(freq_upper_triangle)\n",
      "C:\\Users\\mahsh\\AppData\\Local\\Temp\\ipykernel_21280\\541227406.py:69: FutureWarning: The frame.append method is deprecated and will be removed from pandas in a future version. Use pandas.concat instead.\n",
      "  winners = winners.append({'filename': filename, 'diff': diff, 'IRV1': irv1, 'Condorcet1': condorcet1,\n"
     ]
    },
    {
     "name": "stdout",
     "output_type": "stream",
     "text": [
      "SanFrancisco_11082022_BoardofSupervisorsD8.csv\n"
     ]
    },
    {
     "name": "stderr",
     "output_type": "stream",
     "text": [
      "c:\\Users\\mahsh\\Documents\\GitHub\\bugs-in-democracy\\team_arrow\\clean\\rcv_dimensionality.py:170: RuntimeWarning: divide by zero encountered in true_divide\n",
      "  distance = 1 / np.sqrt(freq_upper_triangle)\n",
      "C:\\Users\\mahsh\\AppData\\Local\\Temp\\ipykernel_21280\\541227406.py:69: FutureWarning: The frame.append method is deprecated and will be removed from pandas in a future version. Use pandas.concat instead.\n",
      "  winners = winners.append({'filename': filename, 'diff': diff, 'IRV1': irv1, 'Condorcet1': condorcet1,\n"
     ]
    },
    {
     "name": "stdout",
     "output_type": "stream",
     "text": [
      "SanFrancisco_11082022_DistrictAttorney.csv\n"
     ]
    },
    {
     "name": "stderr",
     "output_type": "stream",
     "text": [
      "c:\\Users\\mahsh\\Documents\\GitHub\\bugs-in-democracy\\team_arrow\\clean\\rcv_dimensionality.py:170: RuntimeWarning: divide by zero encountered in true_divide\n",
      "  distance = 1 / np.sqrt(freq_upper_triangle)\n",
      "C:\\Users\\mahsh\\AppData\\Local\\Temp\\ipykernel_21280\\541227406.py:69: FutureWarning: The frame.append method is deprecated and will be removed from pandas in a future version. Use pandas.concat instead.\n",
      "  winners = winners.append({'filename': filename, 'diff': diff, 'IRV1': irv1, 'Condorcet1': condorcet1,\n"
     ]
    },
    {
     "name": "stdout",
     "output_type": "stream",
     "text": [
      "SanFrancisco_11082022_PublicDefender.csv\n"
     ]
    },
    {
     "name": "stderr",
     "output_type": "stream",
     "text": [
      "c:\\Users\\mahsh\\Documents\\GitHub\\bugs-in-democracy\\team_arrow\\clean\\rcv_dimensionality.py:170: RuntimeWarning: divide by zero encountered in true_divide\n",
      "  distance = 1 / np.sqrt(freq_upper_triangle)\n",
      "C:\\Users\\mahsh\\AppData\\Local\\Temp\\ipykernel_21280\\541227406.py:69: FutureWarning: The frame.append method is deprecated and will be removed from pandas in a future version. Use pandas.concat instead.\n",
      "  winners = winners.append({'filename': filename, 'diff': diff, 'IRV1': irv1, 'Condorcet1': condorcet1,\n"
     ]
    },
    {
     "name": "stdout",
     "output_type": "stream",
     "text": [
      "SanLeandro_11022010_CountyCouncilDistrict1.csv\n"
     ]
    },
    {
     "name": "stderr",
     "output_type": "stream",
     "text": [
      "c:\\Users\\mahsh\\Documents\\GitHub\\bugs-in-democracy\\team_arrow\\clean\\rcv_dimensionality.py:170: RuntimeWarning: divide by zero encountered in true_divide\n",
      "  distance = 1 / np.sqrt(freq_upper_triangle)\n",
      "C:\\Users\\mahsh\\AppData\\Local\\Temp\\ipykernel_21280\\541227406.py:69: FutureWarning: The frame.append method is deprecated and will be removed from pandas in a future version. Use pandas.concat instead.\n",
      "  winners = winners.append({'filename': filename, 'diff': diff, 'IRV1': irv1, 'Condorcet1': condorcet1,\n"
     ]
    },
    {
     "name": "stdout",
     "output_type": "stream",
     "text": [
      "SanLeandro_11022010_CountyCouncilDistrict3.csv\n",
      "SanLeandro_11022010_CountyCouncilDistrict3.csv  threw an error\n",
      "SanLeandro_11022010_CountyCouncilDistrict5.csv\n"
     ]
    },
    {
     "name": "stderr",
     "output_type": "stream",
     "text": [
      "c:\\Users\\mahsh\\Documents\\GitHub\\bugs-in-democracy\\team_arrow\\clean\\rcv_dimensionality.py:170: RuntimeWarning: divide by zero encountered in true_divide\n",
      "  distance = 1 / np.sqrt(freq_upper_triangle)\n",
      "C:\\Users\\mahsh\\AppData\\Local\\Temp\\ipykernel_21280\\541227406.py:69: FutureWarning: The frame.append method is deprecated and will be removed from pandas in a future version. Use pandas.concat instead.\n",
      "  winners = winners.append({'filename': filename, 'diff': diff, 'IRV1': irv1, 'Condorcet1': condorcet1,\n"
     ]
    },
    {
     "name": "stdout",
     "output_type": "stream",
     "text": [
      "SanLeandro_11022010_Mayor.csv\n"
     ]
    },
    {
     "name": "stderr",
     "output_type": "stream",
     "text": [
      "c:\\Users\\mahsh\\Documents\\GitHub\\bugs-in-democracy\\team_arrow\\clean\\rcv_dimensionality.py:159: RuntimeWarning: divide by zero encountered in true_divide\n",
      "  frequencies = counts / mentioned_together\n",
      "c:\\Users\\mahsh\\Documents\\GitHub\\bugs-in-democracy\\team_arrow\\clean\\rcv_dimensionality.py:170: RuntimeWarning: divide by zero encountered in true_divide\n",
      "  distance = 1 / np.sqrt(freq_upper_triangle)\n",
      "C:\\Users\\mahsh\\AppData\\Local\\Temp\\ipykernel_21280\\541227406.py:69: FutureWarning: The frame.append method is deprecated and will be removed from pandas in a future version. Use pandas.concat instead.\n",
      "  winners = winners.append({'filename': filename, 'diff': diff, 'IRV1': irv1, 'Condorcet1': condorcet1,\n"
     ]
    },
    {
     "name": "stdout",
     "output_type": "stream",
     "text": [
      "SanLeandro_11032020_MemberCityCouncilDist2SanLeandroRCV.csv\n"
     ]
    },
    {
     "name": "stderr",
     "output_type": "stream",
     "text": [
      "c:\\Users\\mahsh\\Documents\\GitHub\\bugs-in-democracy\\team_arrow\\clean\\rcv_dimensionality.py:170: RuntimeWarning: divide by zero encountered in true_divide\n",
      "  distance = 1 / np.sqrt(freq_upper_triangle)\n",
      "C:\\Users\\mahsh\\AppData\\Local\\Temp\\ipykernel_21280\\541227406.py:69: FutureWarning: The frame.append method is deprecated and will be removed from pandas in a future version. Use pandas.concat instead.\n",
      "  winners = winners.append({'filename': filename, 'diff': diff, 'IRV1': irv1, 'Condorcet1': condorcet1,\n"
     ]
    },
    {
     "name": "stdout",
     "output_type": "stream",
     "text": [
      "SanLeandro_11032020_MemberCityCouncilDist4SanLeandroRCV.csv\n"
     ]
    },
    {
     "name": "stderr",
     "output_type": "stream",
     "text": [
      "c:\\Users\\mahsh\\Documents\\GitHub\\bugs-in-democracy\\team_arrow\\clean\\rcv_dimensionality.py:170: RuntimeWarning: divide by zero encountered in true_divide\n",
      "  distance = 1 / np.sqrt(freq_upper_triangle)\n",
      "C:\\Users\\mahsh\\AppData\\Local\\Temp\\ipykernel_21280\\541227406.py:69: FutureWarning: The frame.append method is deprecated and will be removed from pandas in a future version. Use pandas.concat instead.\n",
      "  winners = winners.append({'filename': filename, 'diff': diff, 'IRV1': irv1, 'Condorcet1': condorcet1,\n"
     ]
    },
    {
     "name": "stdout",
     "output_type": "stream",
     "text": [
      "SanLeandro_11032020_MemberCityCouncilDist6SanLeandroRCV.csv\n",
      "SanLeandro_11032020_MemberCityCouncilDist6SanLeandroRCV.csv  threw an error\n",
      "SanLeandro_11042014_CountyCouncilDistrict1.csv\n"
     ]
    },
    {
     "name": "stderr",
     "output_type": "stream",
     "text": [
      "c:\\Users\\mahsh\\Documents\\GitHub\\bugs-in-democracy\\team_arrow\\clean\\rcv_dimensionality.py:170: RuntimeWarning: divide by zero encountered in true_divide\n",
      "  distance = 1 / np.sqrt(freq_upper_triangle)\n",
      "C:\\Users\\mahsh\\AppData\\Local\\Temp\\ipykernel_21280\\541227406.py:69: FutureWarning: The frame.append method is deprecated and will be removed from pandas in a future version. Use pandas.concat instead.\n",
      "  winners = winners.append({'filename': filename, 'diff': diff, 'IRV1': irv1, 'Condorcet1': condorcet1,\n"
     ]
    },
    {
     "name": "stdout",
     "output_type": "stream",
     "text": [
      "SanLeandro_11042014_CountyCouncilDistrict3.csv\n"
     ]
    },
    {
     "name": "stderr",
     "output_type": "stream",
     "text": [
      "c:\\Users\\mahsh\\Documents\\GitHub\\bugs-in-democracy\\team_arrow\\clean\\rcv_dimensionality.py:170: RuntimeWarning: divide by zero encountered in true_divide\n",
      "  distance = 1 / np.sqrt(freq_upper_triangle)\n",
      "C:\\Users\\mahsh\\AppData\\Local\\Temp\\ipykernel_21280\\541227406.py:69: FutureWarning: The frame.append method is deprecated and will be removed from pandas in a future version. Use pandas.concat instead.\n",
      "  winners = winners.append({'filename': filename, 'diff': diff, 'IRV1': irv1, 'Condorcet1': condorcet1,\n"
     ]
    },
    {
     "name": "stdout",
     "output_type": "stream",
     "text": [
      "SanLeandro_11042014_CountyCouncilDistrict5.csv\n"
     ]
    },
    {
     "name": "stderr",
     "output_type": "stream",
     "text": [
      "c:\\Users\\mahsh\\Documents\\GitHub\\bugs-in-democracy\\team_arrow\\clean\\rcv_dimensionality.py:170: RuntimeWarning: divide by zero encountered in true_divide\n",
      "  distance = 1 / np.sqrt(freq_upper_triangle)\n",
      "C:\\Users\\mahsh\\AppData\\Local\\Temp\\ipykernel_21280\\541227406.py:69: FutureWarning: The frame.append method is deprecated and will be removed from pandas in a future version. Use pandas.concat instead.\n",
      "  winners = winners.append({'filename': filename, 'diff': diff, 'IRV1': irv1, 'Condorcet1': condorcet1,\n"
     ]
    },
    {
     "name": "stdout",
     "output_type": "stream",
     "text": [
      "SanLeandro_11042014_Mayor.csv\n"
     ]
    },
    {
     "name": "stderr",
     "output_type": "stream",
     "text": [
      "c:\\Users\\mahsh\\Documents\\GitHub\\bugs-in-democracy\\team_arrow\\clean\\rcv_dimensionality.py:170: RuntimeWarning: divide by zero encountered in true_divide\n",
      "  distance = 1 / np.sqrt(freq_upper_triangle)\n",
      "C:\\Users\\mahsh\\AppData\\Local\\Temp\\ipykernel_21280\\541227406.py:69: FutureWarning: The frame.append method is deprecated and will be removed from pandas in a future version. Use pandas.concat instead.\n",
      "  winners = winners.append({'filename': filename, 'diff': diff, 'IRV1': irv1, 'Condorcet1': condorcet1,\n"
     ]
    },
    {
     "name": "stdout",
     "output_type": "stream",
     "text": [
      "SanLeandro_11062012_CountyCouncilDistrict2.csv\n"
     ]
    },
    {
     "name": "stderr",
     "output_type": "stream",
     "text": [
      "c:\\Users\\mahsh\\Documents\\GitHub\\bugs-in-democracy\\team_arrow\\clean\\rcv_dimensionality.py:170: RuntimeWarning: divide by zero encountered in true_divide\n",
      "  distance = 1 / np.sqrt(freq_upper_triangle)\n",
      "C:\\Users\\mahsh\\AppData\\Local\\Temp\\ipykernel_21280\\541227406.py:69: FutureWarning: The frame.append method is deprecated and will be removed from pandas in a future version. Use pandas.concat instead.\n",
      "  winners = winners.append({'filename': filename, 'diff': diff, 'IRV1': irv1, 'Condorcet1': condorcet1,\n"
     ]
    },
    {
     "name": "stdout",
     "output_type": "stream",
     "text": [
      "SanLeandro_11062012_CountyCouncilDistrict4.csv\n"
     ]
    },
    {
     "name": "stderr",
     "output_type": "stream",
     "text": [
      "c:\\Users\\mahsh\\Documents\\GitHub\\bugs-in-democracy\\team_arrow\\clean\\rcv_dimensionality.py:170: RuntimeWarning: divide by zero encountered in true_divide\n",
      "  distance = 1 / np.sqrt(freq_upper_triangle)\n",
      "C:\\Users\\mahsh\\AppData\\Local\\Temp\\ipykernel_21280\\541227406.py:69: FutureWarning: The frame.append method is deprecated and will be removed from pandas in a future version. Use pandas.concat instead.\n",
      "  winners = winners.append({'filename': filename, 'diff': diff, 'IRV1': irv1, 'Condorcet1': condorcet1,\n"
     ]
    },
    {
     "name": "stdout",
     "output_type": "stream",
     "text": [
      "SanLeandro_11062012_CountyCouncilDistrict6.csv\n"
     ]
    },
    {
     "name": "stderr",
     "output_type": "stream",
     "text": [
      "c:\\Users\\mahsh\\Documents\\GitHub\\bugs-in-democracy\\team_arrow\\clean\\rcv_dimensionality.py:170: RuntimeWarning: divide by zero encountered in true_divide\n",
      "  distance = 1 / np.sqrt(freq_upper_triangle)\n",
      "C:\\Users\\mahsh\\AppData\\Local\\Temp\\ipykernel_21280\\541227406.py:69: FutureWarning: The frame.append method is deprecated and will be removed from pandas in a future version. Use pandas.concat instead.\n",
      "  winners = winners.append({'filename': filename, 'diff': diff, 'IRV1': irv1, 'Condorcet1': condorcet1,\n"
     ]
    },
    {
     "name": "stdout",
     "output_type": "stream",
     "text": [
      "SanLeandro_11062018_CountyCouncilDistrict1.csv\n"
     ]
    },
    {
     "name": "stderr",
     "output_type": "stream",
     "text": [
      "c:\\Users\\mahsh\\Documents\\GitHub\\bugs-in-democracy\\team_arrow\\clean\\rcv_dimensionality.py:170: RuntimeWarning: divide by zero encountered in true_divide\n",
      "  distance = 1 / np.sqrt(freq_upper_triangle)\n",
      "C:\\Users\\mahsh\\AppData\\Local\\Temp\\ipykernel_21280\\541227406.py:69: FutureWarning: The frame.append method is deprecated and will be removed from pandas in a future version. Use pandas.concat instead.\n",
      "  winners = winners.append({'filename': filename, 'diff': diff, 'IRV1': irv1, 'Condorcet1': condorcet1,\n"
     ]
    },
    {
     "name": "stdout",
     "output_type": "stream",
     "text": [
      "SanLeandro_11062018_CountyCouncilDistrict3.csv\n"
     ]
    },
    {
     "name": "stderr",
     "output_type": "stream",
     "text": [
      "c:\\Users\\mahsh\\Documents\\GitHub\\bugs-in-democracy\\team_arrow\\clean\\rcv_dimensionality.py:170: RuntimeWarning: divide by zero encountered in true_divide\n",
      "  distance = 1 / np.sqrt(freq_upper_triangle)\n",
      "C:\\Users\\mahsh\\AppData\\Local\\Temp\\ipykernel_21280\\541227406.py:69: FutureWarning: The frame.append method is deprecated and will be removed from pandas in a future version. Use pandas.concat instead.\n",
      "  winners = winners.append({'filename': filename, 'diff': diff, 'IRV1': irv1, 'Condorcet1': condorcet1,\n"
     ]
    },
    {
     "name": "stdout",
     "output_type": "stream",
     "text": [
      "SanLeandro_11062018_CountyCouncilDistrict5.csv\n"
     ]
    },
    {
     "name": "stderr",
     "output_type": "stream",
     "text": [
      "c:\\Users\\mahsh\\Documents\\GitHub\\bugs-in-democracy\\team_arrow\\clean\\rcv_dimensionality.py:170: RuntimeWarning: divide by zero encountered in true_divide\n",
      "  distance = 1 / np.sqrt(freq_upper_triangle)\n",
      "C:\\Users\\mahsh\\AppData\\Local\\Temp\\ipykernel_21280\\541227406.py:69: FutureWarning: The frame.append method is deprecated and will be removed from pandas in a future version. Use pandas.concat instead.\n",
      "  winners = winners.append({'filename': filename, 'diff': diff, 'IRV1': irv1, 'Condorcet1': condorcet1,\n"
     ]
    },
    {
     "name": "stdout",
     "output_type": "stream",
     "text": [
      "SanLeandro_11062018_Mayor.csv\n"
     ]
    },
    {
     "name": "stderr",
     "output_type": "stream",
     "text": [
      "c:\\Users\\mahsh\\Documents\\GitHub\\bugs-in-democracy\\team_arrow\\clean\\rcv_dimensionality.py:170: RuntimeWarning: divide by zero encountered in true_divide\n",
      "  distance = 1 / np.sqrt(freq_upper_triangle)\n",
      "C:\\Users\\mahsh\\AppData\\Local\\Temp\\ipykernel_21280\\541227406.py:69: FutureWarning: The frame.append method is deprecated and will be removed from pandas in a future version. Use pandas.concat instead.\n",
      "  winners = winners.append({'filename': filename, 'diff': diff, 'IRV1': irv1, 'Condorcet1': condorcet1,\n"
     ]
    },
    {
     "name": "stdout",
     "output_type": "stream",
     "text": [
      "SanLeandro_11082016_CountyCouncilDistrict2.csv\n"
     ]
    },
    {
     "name": "stderr",
     "output_type": "stream",
     "text": [
      "c:\\Users\\mahsh\\Documents\\GitHub\\bugs-in-democracy\\team_arrow\\clean\\rcv_dimensionality.py:170: RuntimeWarning: divide by zero encountered in true_divide\n",
      "  distance = 1 / np.sqrt(freq_upper_triangle)\n",
      "C:\\Users\\mahsh\\AppData\\Local\\Temp\\ipykernel_21280\\541227406.py:69: FutureWarning: The frame.append method is deprecated and will be removed from pandas in a future version. Use pandas.concat instead.\n",
      "  winners = winners.append({'filename': filename, 'diff': diff, 'IRV1': irv1, 'Condorcet1': condorcet1,\n"
     ]
    },
    {
     "name": "stdout",
     "output_type": "stream",
     "text": [
      "SanLeandro_11082016_CountyCouncilDistrict4.csv\n",
      "SanLeandro_11082016_CountyCouncilDistrict4.csv  threw an error\n",
      "SanLeandro_11082016_CountyCouncilDistrict6.csv\n",
      "SanLeandro_11082016_CountyCouncilDistrict6.csv  threw an error\n",
      "SantaFe_03062018_CityCouncilDistrict2.csv\n"
     ]
    },
    {
     "name": "stderr",
     "output_type": "stream",
     "text": [
      "c:\\Users\\mahsh\\Documents\\GitHub\\bugs-in-democracy\\team_arrow\\clean\\rcv_dimensionality.py:170: RuntimeWarning: divide by zero encountered in true_divide\n",
      "  distance = 1 / np.sqrt(freq_upper_triangle)\n",
      "C:\\Users\\mahsh\\AppData\\Local\\Temp\\ipykernel_21280\\541227406.py:69: FutureWarning: The frame.append method is deprecated and will be removed from pandas in a future version. Use pandas.concat instead.\n",
      "  winners = winners.append({'filename': filename, 'diff': diff, 'IRV1': irv1, 'Condorcet1': condorcet1,\n"
     ]
    },
    {
     "name": "stdout",
     "output_type": "stream",
     "text": [
      "SantaFe_03062018_CityCouncilDistrict4.csv\n"
     ]
    },
    {
     "name": "stderr",
     "output_type": "stream",
     "text": [
      "c:\\Users\\mahsh\\Documents\\GitHub\\bugs-in-democracy\\team_arrow\\clean\\rcv_dimensionality.py:170: RuntimeWarning: divide by zero encountered in true_divide\n",
      "  distance = 1 / np.sqrt(freq_upper_triangle)\n",
      "C:\\Users\\mahsh\\AppData\\Local\\Temp\\ipykernel_21280\\541227406.py:69: FutureWarning: The frame.append method is deprecated and will be removed from pandas in a future version. Use pandas.concat instead.\n",
      "  winners = winners.append({'filename': filename, 'diff': diff, 'IRV1': irv1, 'Condorcet1': condorcet1,\n"
     ]
    },
    {
     "name": "stdout",
     "output_type": "stream",
     "text": [
      "SantaFe_03062018_Mayor.csv\n"
     ]
    },
    {
     "name": "stderr",
     "output_type": "stream",
     "text": [
      "c:\\Users\\mahsh\\Documents\\GitHub\\bugs-in-democracy\\team_arrow\\clean\\rcv_dimensionality.py:170: RuntimeWarning: divide by zero encountered in true_divide\n",
      "  distance = 1 / np.sqrt(freq_upper_triangle)\n",
      "C:\\Users\\mahsh\\AppData\\Local\\Temp\\ipykernel_21280\\541227406.py:69: FutureWarning: The frame.append method is deprecated and will be removed from pandas in a future version. Use pandas.concat instead.\n",
      "  winners = winners.append({'filename': filename, 'diff': diff, 'IRV1': irv1, 'Condorcet1': condorcet1,\n"
     ]
    },
    {
     "name": "stdout",
     "output_type": "stream",
     "text": [
      "Springville_11022021_CityCouncil2yr.csv\n"
     ]
    },
    {
     "name": "stderr",
     "output_type": "stream",
     "text": [
      "c:\\Users\\mahsh\\Documents\\GitHub\\bugs-in-democracy\\team_arrow\\clean\\rcv_dimensionality.py:170: RuntimeWarning: divide by zero encountered in true_divide\n",
      "  distance = 1 / np.sqrt(freq_upper_triangle)\n",
      "C:\\Users\\mahsh\\AppData\\Local\\Temp\\ipykernel_21280\\541227406.py:69: FutureWarning: The frame.append method is deprecated and will be removed from pandas in a future version. Use pandas.concat instead.\n",
      "  winners = winners.append({'filename': filename, 'diff': diff, 'IRV1': irv1, 'Condorcet1': condorcet1,\n"
     ]
    },
    {
     "name": "stdout",
     "output_type": "stream",
     "text": [
      "Springville_11022021_Mayor.csv\n"
     ]
    },
    {
     "name": "stderr",
     "output_type": "stream",
     "text": [
      "c:\\Users\\mahsh\\Documents\\GitHub\\bugs-in-democracy\\team_arrow\\clean\\rcv_dimensionality.py:170: RuntimeWarning: divide by zero encountered in true_divide\n",
      "  distance = 1 / np.sqrt(freq_upper_triangle)\n",
      "C:\\Users\\mahsh\\AppData\\Local\\Temp\\ipykernel_21280\\541227406.py:69: FutureWarning: The frame.append method is deprecated and will be removed from pandas in a future version. Use pandas.concat instead.\n",
      "  winners = winners.append({'filename': filename, 'diff': diff, 'IRV1': irv1, 'Condorcet1': condorcet1,\n"
     ]
    },
    {
     "name": "stdout",
     "output_type": "stream",
     "text": [
      "StLouisPark_11022021_CityCouncilWard1.csv\n",
      "StLouisPark_11022021_CityCouncilWard1.csv  threw an error\n",
      "StLouisPark_11022021_CityCouncilWard2.csv\n"
     ]
    },
    {
     "name": "stderr",
     "output_type": "stream",
     "text": [
      "c:\\Users\\mahsh\\Documents\\GitHub\\bugs-in-democracy\\team_arrow\\clean\\rcv_dimensionality.py:170: RuntimeWarning: divide by zero encountered in true_divide\n",
      "  distance = 1 / np.sqrt(freq_upper_triangle)\n",
      "C:\\Users\\mahsh\\AppData\\Local\\Temp\\ipykernel_21280\\541227406.py:69: FutureWarning: The frame.append method is deprecated and will be removed from pandas in a future version. Use pandas.concat instead.\n",
      "  winners = winners.append({'filename': filename, 'diff': diff, 'IRV1': irv1, 'Condorcet1': condorcet1,\n"
     ]
    },
    {
     "name": "stdout",
     "output_type": "stream",
     "text": [
      "StLouisPark_11022021_CityCouncilWard3.csv\n"
     ]
    },
    {
     "name": "stderr",
     "output_type": "stream",
     "text": [
      "c:\\Users\\mahsh\\Documents\\GitHub\\bugs-in-democracy\\team_arrow\\clean\\rcv_dimensionality.py:170: RuntimeWarning: divide by zero encountered in true_divide\n",
      "  distance = 1 / np.sqrt(freq_upper_triangle)\n",
      "C:\\Users\\mahsh\\AppData\\Local\\Temp\\ipykernel_21280\\541227406.py:69: FutureWarning: The frame.append method is deprecated and will be removed from pandas in a future version. Use pandas.concat instead.\n",
      "  winners = winners.append({'filename': filename, 'diff': diff, 'IRV1': irv1, 'Condorcet1': condorcet1,\n"
     ]
    },
    {
     "name": "stdout",
     "output_type": "stream",
     "text": [
      "StLouisPark_11022021_CityCouncilWard4.csv\n",
      "StLouisPark_11022021_CityCouncilWard4.csv  threw an error\n",
      "TakomaPark_11082022_CityCouncilWard1.csv\n"
     ]
    },
    {
     "name": "stderr",
     "output_type": "stream",
     "text": [
      "c:\\Users\\mahsh\\Documents\\GitHub\\bugs-in-democracy\\team_arrow\\clean\\rcv_dimensionality.py:170: RuntimeWarning: divide by zero encountered in true_divide\n",
      "  distance = 1 / np.sqrt(freq_upper_triangle)\n",
      "C:\\Users\\mahsh\\AppData\\Local\\Temp\\ipykernel_21280\\541227406.py:69: FutureWarning: The frame.append method is deprecated and will be removed from pandas in a future version. Use pandas.concat instead.\n",
      "  winners = winners.append({'filename': filename, 'diff': diff, 'IRV1': irv1, 'Condorcet1': condorcet1,\n"
     ]
    },
    {
     "name": "stdout",
     "output_type": "stream",
     "text": [
      "TakomaPark_11082022_CityCouncilWard2.csv\n",
      "TakomaPark_11082022_CityCouncilWard2.csv  threw an error\n",
      "TakomaPark_11082022_CityCouncilWard3.csv\n"
     ]
    },
    {
     "name": "stderr",
     "output_type": "stream",
     "text": [
      "c:\\Users\\mahsh\\Documents\\GitHub\\bugs-in-democracy\\team_arrow\\clean\\rcv_dimensionality.py:159: RuntimeWarning: divide by zero encountered in true_divide\n",
      "  frequencies = counts / mentioned_together\n",
      "c:\\Users\\mahsh\\Documents\\GitHub\\bugs-in-democracy\\team_arrow\\clean\\rcv_dimensionality.py:159: RuntimeWarning: invalid value encountered in true_divide\n",
      "  frequencies = counts / mentioned_together\n",
      "c:\\Users\\mahsh\\Documents\\GitHub\\bugs-in-democracy\\team_arrow\\clean\\rcv_dimensionality.py:170: RuntimeWarning: divide by zero encountered in true_divide\n",
      "  distance = 1 / np.sqrt(freq_upper_triangle)\n",
      "C:\\Users\\mahsh\\AppData\\Local\\Temp\\ipykernel_21280\\541227406.py:69: FutureWarning: The frame.append method is deprecated and will be removed from pandas in a future version. Use pandas.concat instead.\n",
      "  winners = winners.append({'filename': filename, 'diff': diff, 'IRV1': irv1, 'Condorcet1': condorcet1,\n"
     ]
    },
    {
     "name": "stdout",
     "output_type": "stream",
     "text": [
      "TakomaPark_11082022_CityCouncilWard4.csv\n",
      "TakomaPark_11082022_CityCouncilWard4.csv  threw an error\n",
      "TakomaPark_11082022_CityCouncilWard5.csv\n"
     ]
    },
    {
     "name": "stderr",
     "output_type": "stream",
     "text": [
      "c:\\Users\\mahsh\\Documents\\GitHub\\bugs-in-democracy\\team_arrow\\clean\\rcv_dimensionality.py:170: RuntimeWarning: divide by zero encountered in true_divide\n",
      "  distance = 1 / np.sqrt(freq_upper_triangle)\n",
      "C:\\Users\\mahsh\\AppData\\Local\\Temp\\ipykernel_21280\\541227406.py:69: FutureWarning: The frame.append method is deprecated and will be removed from pandas in a future version. Use pandas.concat instead.\n",
      "  winners = winners.append({'filename': filename, 'diff': diff, 'IRV1': irv1, 'Condorcet1': condorcet1,\n",
      "c:\\Users\\mahsh\\Documents\\GitHub\\bugs-in-democracy\\team_arrow\\clean\\rcv_dimensionality.py:159: RuntimeWarning: divide by zero encountered in true_divide\n",
      "  frequencies = counts / mentioned_together\n",
      "c:\\Users\\mahsh\\Documents\\GitHub\\bugs-in-democracy\\team_arrow\\clean\\rcv_dimensionality.py:159: RuntimeWarning: invalid value encountered in true_divide\n",
      "  frequencies = counts / mentioned_together\n",
      "c:\\Users\\mahsh\\Documents\\GitHub\\bugs-in-democracy\\team_arrow\\clean\\rcv_dimensionality.py:170: RuntimeWarning: divide by zero encountered in true_divide\n",
      "  distance = 1 / np.sqrt(freq_upper_triangle)\n"
     ]
    },
    {
     "name": "stdout",
     "output_type": "stream",
     "text": [
      "TakomaPark_11082022_CityCouncilWard6.csv\n"
     ]
    },
    {
     "name": "stderr",
     "output_type": "stream",
     "text": [
      "C:\\Users\\mahsh\\AppData\\Local\\Temp\\ipykernel_21280\\541227406.py:69: FutureWarning: The frame.append method is deprecated and will be removed from pandas in a future version. Use pandas.concat instead.\n",
      "  winners = winners.append({'filename': filename, 'diff': diff, 'IRV1': irv1, 'Condorcet1': condorcet1,\n"
     ]
    },
    {
     "name": "stdout",
     "output_type": "stream",
     "text": [
      "TakomaPark_11082022_Mayor.csv\n"
     ]
    },
    {
     "name": "stderr",
     "output_type": "stream",
     "text": [
      "c:\\Users\\mahsh\\Documents\\GitHub\\bugs-in-democracy\\team_arrow\\clean\\rcv_dimensionality.py:159: RuntimeWarning: divide by zero encountered in true_divide\n",
      "  frequencies = counts / mentioned_together\n",
      "c:\\Users\\mahsh\\Documents\\GitHub\\bugs-in-democracy\\team_arrow\\clean\\rcv_dimensionality.py:159: RuntimeWarning: invalid value encountered in true_divide\n",
      "  frequencies = counts / mentioned_together\n",
      "c:\\Users\\mahsh\\Documents\\GitHub\\bugs-in-democracy\\team_arrow\\clean\\rcv_dimensionality.py:170: RuntimeWarning: divide by zero encountered in true_divide\n",
      "  distance = 1 / np.sqrt(freq_upper_triangle)\n",
      "C:\\Users\\mahsh\\AppData\\Local\\Temp\\ipykernel_21280\\541227406.py:69: FutureWarning: The frame.append method is deprecated and will be removed from pandas in a future version. Use pandas.concat instead.\n",
      "  winners = winners.append({'filename': filename, 'diff': diff, 'IRV1': irv1, 'Condorcet1': condorcet1,\n"
     ]
    },
    {
     "name": "stdout",
     "output_type": "stream",
     "text": [
      "Vineyard_11022021_Mayor.csv\n"
     ]
    },
    {
     "name": "stderr",
     "output_type": "stream",
     "text": [
      "c:\\Users\\mahsh\\Documents\\GitHub\\bugs-in-democracy\\team_arrow\\clean\\rcv_dimensionality.py:170: RuntimeWarning: divide by zero encountered in true_divide\n",
      "  distance = 1 / np.sqrt(freq_upper_triangle)\n",
      "C:\\Users\\mahsh\\AppData\\Local\\Temp\\ipykernel_21280\\541227406.py:69: FutureWarning: The frame.append method is deprecated and will be removed from pandas in a future version. Use pandas.concat instead.\n",
      "  winners = winners.append({'filename': filename, 'diff': diff, 'IRV1': irv1, 'Condorcet1': condorcet1,\n"
     ]
    },
    {
     "name": "stdout",
     "output_type": "stream",
     "text": [
      "Vineyard_11052019_CityCouncil.csv\n"
     ]
    },
    {
     "name": "stderr",
     "output_type": "stream",
     "text": [
      "c:\\Users\\mahsh\\Documents\\GitHub\\bugs-in-democracy\\team_arrow\\clean\\rcv_dimensionality.py:170: RuntimeWarning: divide by zero encountered in true_divide\n",
      "  distance = 1 / np.sqrt(freq_upper_triangle)\n",
      "C:\\Users\\mahsh\\AppData\\Local\\Temp\\ipykernel_21280\\541227406.py:69: FutureWarning: The frame.append method is deprecated and will be removed from pandas in a future version. Use pandas.concat instead.\n",
      "  winners = winners.append({'filename': filename, 'diff': diff, 'IRV1': irv1, 'Condorcet1': condorcet1,\n",
      "c:\\Users\\mahsh\\Documents\\GitHub\\bugs-in-democracy\\team_arrow\\clean\\rcv_dimensionality.py:170: RuntimeWarning: divide by zero encountered in true_divide\n",
      "  distance = 1 / np.sqrt(freq_upper_triangle)\n"
     ]
    },
    {
     "name": "stdout",
     "output_type": "stream",
     "text": [
      "WoodlandHills_11022021_Mayor.csv\n"
     ]
    },
    {
     "name": "stderr",
     "output_type": "stream",
     "text": [
      "C:\\Users\\mahsh\\AppData\\Local\\Temp\\ipykernel_21280\\541227406.py:69: FutureWarning: The frame.append method is deprecated and will be removed from pandas in a future version. Use pandas.concat instead.\n",
      "  winners = winners.append({'filename': filename, 'diff': diff, 'IRV1': irv1, 'Condorcet1': condorcet1,\n"
     ]
    },
    {
     "name": "stdout",
     "output_type": "stream",
     "text": [
      "Wyoming_04172020_PRESIDENTOFTHEUNITEDSTATES.csv\n"
     ]
    },
    {
     "name": "stderr",
     "output_type": "stream",
     "text": [
      "c:\\Users\\mahsh\\Documents\\GitHub\\bugs-in-democracy\\team_arrow\\clean\\rcv_dimensionality.py:170: RuntimeWarning: divide by zero encountered in true_divide\n",
      "  distance = 1 / np.sqrt(freq_upper_triangle)\n",
      "C:\\Users\\mahsh\\AppData\\Local\\Temp\\ipykernel_21280\\541227406.py:69: FutureWarning: The frame.append method is deprecated and will be removed from pandas in a future version. Use pandas.concat instead.\n",
      "  winners = winners.append({'filename': filename, 'diff': diff, 'IRV1': irv1, 'Condorcet1': condorcet1,\n"
     ]
    }
   ],
   "source": [
    "winners = pd.DataFrame(columns=[\"filename\", \"diff\", \"IRV1\", \"Condorcet1\", \"Plurality1\", \"Approval1\" \"IRV2\", \"Condorcet2\", \"Plurality2\", \"Approval2\"])\n",
    "print(winners)\n",
    "#winners.columns = [\"filename\", \"IRV1\", \"Condorcet1\"]\n",
    "directory = \"dataverse_files\"\n",
    "for filename in os.listdir(directory):\n",
    "    try:\n",
    "        diff = []\n",
    "        #winners[\"filename\"].index[0] = filename\n",
    "        print(filename)\n",
    "        csv = os.path.join(directory, filename)\n",
    "        ballots, candidates = parse_election_data(csv)\n",
    "        #frequency, first = freq(ballots, candidates)\n",
    "        \n",
    "        # Perform the RCV analysis\n",
    "        test = perform_rcv_analysis(csv, n_runs=1000)\n",
    "        mds_1d_coordinates, mds_2d_coordinates, most_common_order, order_frequencies, candidate_names = test\n",
    "\n",
    "        # Print the normalized distances between candidates and plot the MDS analysis\n",
    "        normalized_distances = get_distances_normalized(most_common_order, mds_1d_coordinates, candidate_names)\n",
    "\n",
    "        election = voting_rules(ballots, candidates)\n",
    "        irv1 = election.irv()\n",
    "        condorcet1 = election.condorcet()\n",
    "        plurality1 = election.plurality()\n",
    "        approval1 = election.approval()\n",
    "        \n",
    "        #print({'filename': filename, 'IRV1': irv_winner, 'Condorcet1': condorcet_winner})\n",
    "        #print(winners)\n",
    "        consistent_ballots = {}\n",
    "        most_consistent_permutation = []\n",
    "        permutation_numbers = []\n",
    "        for candidate in normalized_distances:\n",
    "            most_consistent_permutation.append(candidate)\n",
    "            permutation_numbers.append(normalized_distances[candidate])\n",
    "\n",
    "        points = {}\n",
    "\n",
    "        equal = {}\n",
    "        for i in range(len(most_consistent_permutation)):\n",
    "            equal[most_consistent_permutation[i]] = i\n",
    "\n",
    "        for ballot in ballots:\n",
    "            equal_distances = []\n",
    "            for candidate in ballot:\n",
    "                equal_distances.append(equal[candidate])\n",
    "\n",
    "            mds_distances = []\n",
    "            for candidate in ballot:\n",
    "                mds_distances.append(normalized_distances[candidate])\n",
    "\n",
    "            #checking if the ballot is consistent with the mds permutation but assuming they are equaly distances \n",
    "            check_consistency = evaluate_ballot_consistency(equal_distances, len(candidates))\n",
    "            if check_consistency[0] is True:\n",
    "                consistent_ballots[ballot] = ballots[ballot]\n",
    "\n",
    "        election = voting_rules(consistent_ballots, candidates)\n",
    "        irv2 = election.irv()\n",
    "        condorcet2 = election.condorcet()\n",
    "        plurality2 = election.plurality()\n",
    "        approval2 = election.approval()\n",
    "        if (irv1 != irv2):\n",
    "            diff.append(\"IRV\")\n",
    "        if (condorcet1 != condorcet2):\n",
    "            diff.append(\"Condorcet\")\n",
    "        if (plurality1 != plurality2):\n",
    "            diff.append(\"Plurality\")\n",
    "        if (approval1 != approval2):\n",
    "            diff.append(\"Approval\")\n",
    "        winners = winners.append({'filename': filename, 'diff': diff, 'IRV1': irv1, 'Condorcet1': condorcet1,\n",
    "                                'Plurality1': plurality1, 'Approval1': approval1,\n",
    "                                'IRV2': irv2, \"Condorcet2\": condorcet2, \n",
    "                                'Plurality2':plurality2, 'Approval2': approval2}, ignore_index=True)\n",
    "        #print({'filename': filename, 'IRV1': irv_winner, 'Condorcet1': condorcet_winner, 'IRV2': irv2, \"Condorcet2\": condorcet2})\n",
    "    except:\n",
    "        print(filename, \" threw an error\")\n",
    "winners.to_csv('winners.csv', index=False)\n"
   ]
  },
  {
   "cell_type": "code",
   "execution_count": 29,
   "metadata": {},
   "outputs": [
    {
     "name": "stdout",
     "output_type": "stream",
     "text": [
      "                                     filename               IRV1  \\\n",
      "0         Alaska_11082022_SenateDistrictR.csv      Bishop, Click   \n",
      "1         Alaska_11082022_SenateDistrictS.csv  Hoffman, Lyman F.   \n",
      "2  Berkeley_11062012_CityCouncilDistrict5.csv   LAURIE CAPITELLI   \n",
      "3  Berkeley_11062012_CityCouncilDistrict6.csv      SUSAN WENGRAF   \n",
      "\n",
      "          Condorcet1                     IRV2               Condorcet2  \n",
      "0      Bishop, Click  Williams, Robert \"Bert\"  Williams, Robert \"Bert\"  \n",
      "1  Hoffman, Lyman F.            Keppel, Willy            Keppel, Willy  \n",
      "2   LAURIE CAPITELLI              SOPHIE HAHN              SOPHIE HAHN  \n",
      "3      SUSAN WENGRAF            SUSAN WENGRAF            SUSAN WENGRAF  \n"
     ]
    }
   ],
   "source": [
    "print(winners)"
   ]
  },
  {
   "cell_type": "code",
   "execution_count": 31,
   "metadata": {},
   "outputs": [],
   "source": [
    "winners.to_csv('winners.csv', index=False)"
   ]
  },
  {
   "cell_type": "code",
   "execution_count": null,
   "metadata": {},
   "outputs": [],
   "source": []
  }
 ],
 "metadata": {
  "kernelspec": {
   "display_name": "base",
   "language": "python",
   "name": "python3"
  },
  "language_info": {
   "codemirror_mode": {
    "name": "ipython",
    "version": 3
   },
   "file_extension": ".py",
   "mimetype": "text/x-python",
   "name": "python",
   "nbconvert_exporter": "python",
   "pygments_lexer": "ipython3",
   "version": "3.9.12"
  }
 },
 "nbformat": 4,
 "nbformat_minor": 2
}
